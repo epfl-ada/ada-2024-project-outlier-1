{
 "cells": [
  {
   "cell_type": "code",
   "execution_count": 2,
   "metadata": {},
   "outputs": [
    {
     "name": "stdout",
     "output_type": "stream",
     "text": [
      "[Loading gpt2 with AutoModelForCausalLM.from_pretrained(\"gpt2\", model_id=./local_models/meta-llama/openai-community/gpt2, trust_remote_code=True)]]\n",
      "[Serving LMTP endpoint on ws://localhost:9998/]\n"
     ]
    },
    {
     "data": {
      "application/vnd.jupyter.widget-view+json": {
       "model_id": "f0891031e294425297dca5682694e08a",
       "version_major": 2,
       "version_minor": 0
      },
      "text/plain": [
       "config.json:   0%|          | 0.00/665 [00:00<?, ?B/s]"
      ]
     },
     "metadata": {},
     "output_type": "display_data"
    },
    {
     "data": {
      "application/vnd.jupyter.widget-view+json": {
       "model_id": "396a4319a9ab4d98bfe99826cdff5b29",
       "version_major": 2,
       "version_minor": 0
      },
      "text/plain": [
       "model.safetensors:   0%|          | 0.00/548M [00:00<?, ?B/s]"
      ]
     },
     "metadata": {},
     "output_type": "display_data"
    },
    {
     "name": "stderr",
     "output_type": "stream",
     "text": [
      "Exception in thread scheduler-worker:\n",
      "Traceback (most recent call last):\n",
      "  File \"/bin/anaconda3/envs/ada/lib/python3.11/threading.py\", line 1045, in _bootstrap_inner\n",
      "    self.run()\n",
      "  File \"/bin/anaconda3/envs/ada/lib/python3.11/threading.py\", line 982, in run\n",
      "    self._target(*self._args, **self._kwargs)\n",
      "  File \"/bin/anaconda3/envs/ada/lib/python3.11/site-packages/lmql/models/lmtp/lmtp_scheduler.py\", line 269, in worker\n",
      "    model = LMTPModel.load(self.model_identifier, **self.model_args)\n",
      "            ^^^^^^^^^^^^^^^^^^^^^^^^^^^^^^^^^^^^^^^^^^^^^^^^^^^^^^^^\n",
      "  File \"/bin/anaconda3/envs/ada/lib/python3.11/site-packages/lmql/models/lmtp/backends/lmtp_model.py\", line 51, in load\n",
      "    return LMTPModel.registry[\"transformers\"](model_name, **kwargs)\n",
      "           ^^^^^^^^^^^^^^^^^^^^^^^^^^^^^^^^^^^^^^^^^^^^^^^^^^^^^^^^\n",
      "  File \"/bin/anaconda3/envs/ada/lib/python3.11/site-packages/lmql/models/lmtp/backends/transformers_model.py\", line 43, in __init__\n",
      "    self.model = AutoModelForCausalLM.from_pretrained(self.model_identifier, **self.model_args)\n",
      "                 ^^^^^^^^^^^^^^^^^^^^^^^^^^^^^^^^^^^^^^^^^^^^^^^^^^^^^^^^^^^^^^^^^^^^^^^^^^^^^^\n",
      "  File \"/bin/anaconda3/envs/ada/lib/python3.11/site-packages/transformers/models/auto/auto_factory.py\", line 564, in from_pretrained\n",
      "    return model_class.from_pretrained(\n",
      "           ^^^^^^^^^^^^^^^^^^^^^^^^^^^^\n",
      "  File \"/bin/anaconda3/envs/ada/lib/python3.11/site-packages/transformers/modeling_utils.py\", line 4097, in from_pretrained\n",
      "    model = cls(config, *model_args, **model_kwargs)\n",
      "            ^^^^^^^^^^^^^^^^^^^^^^^^^^^^^^^^^^^^^^^^\n",
      "TypeError: GPT2LMHeadModel.__init__() got an unexpected keyword argument 'model_id'\n"
     ]
    },
    {
     "ename": "GracefulExit",
     "evalue": "",
     "output_type": "error",
     "traceback": [
      "An exception has occurred, use %tb to see the full traceback.\n",
      "\u001b[0;31mGracefulExit\u001b[0m\n"
     ]
    },
    {
     "name": "stderr",
     "output_type": "stream",
     "text": [
      "/bin/anaconda3/envs/ada/lib/python3.11/site-packages/IPython/core/interactiveshell.py:3561: UserWarning: To exit: use 'exit', 'quit', or Ctrl-D.\n",
      "  warn(\"To exit: use 'exit', 'quit', or Ctrl-D.\", stacklevel=1)\n"
     ]
    }
   ],
   "source": [
    "import lmql \n",
    "import nest_asyncio\n",
    "import os\n",
    "from transformers import AutoModel, AutoTokenizer\n",
    "\n",
    "# Apply nest_asyncio for nested async contexts in Jupyter\n",
    "nest_asyncio.apply()\n",
    "\n",
    "# Specify the path where the model and tokenizer are saved\n",
    "load_directory = \"./local_models/meta-llama/openai-community/gpt2\" \n",
    "\n",
    "# Load model and tokenizer only once\n",
    "model = AutoModel.from_pretrained(load_directory, trust_remote_code=True)\n",
    "tokenizer = AutoTokenizer.from_pretrained(load_directory)\n",
    "\n",
    "# Start LMQL serving once, outside the query definition\n",
    "lmql.serve(model_name='gpt2', port=9998, trust_remote_code=True)\n",
    "\n",
    "@lmql.query(\n",
    "    model=lmql.model(\"http://localhost:9998\", model=model, tokenizer=tokenizer),\n",
    "    decoder=\"sample\",\n",
    "    temperature=0.5,\n",
    "    top_k=10,\n",
    "    max_len=4096\n",
    ")\n",
    "def chain_of_thought(question):\n",
    "    '''lmql\n",
    "    # Q&A prompt template\n",
    "    \"Q: {question}\\n\"\n",
    "    \"A: Let's think step by step.\\n\"\n",
    "    \"[REASONING]\"\n",
    "    \"Thus, the answer is:[ANSWER].\"\n",
    "\n",
    "    # return just the ANSWER to the caller\n",
    "    return ANSWER\n",
    "    '''\n",
    "\n",
    "print(chain_of_thought(\"Today is the 12th of June, what day was it 1 week ago?\"))\n"
   ]
  },
  {
   "cell_type": "code",
   "execution_count": null,
   "metadata": {},
   "outputs": [
    {
     "name": "stdout",
     "output_type": "stream",
     "text": [
      "[Loading ./local_models/meta-llama/openai-community/gpt2 with AutoModelForCausalLM.from_pretrained(\"./local_models/meta-llama/openai-community/gpt2\", trust_remote_code=True, device_map=auto)]]\n",
      "[Serving LMTP endpoint on ws://localhost:8079/]\n",
      "[./local_models/meta-llama/openai-community/gpt2 ready on device cuda:0]\n"
     ]
    },
    {
     "ename": "GracefulExit",
     "evalue": "",
     "output_type": "error",
     "traceback": [
      "An exception has occurred, use %tb to see the full traceback.\n",
      "\u001b[0;31mGracefulExit\u001b[0m\n"
     ]
    },
    {
     "name": "stderr",
     "output_type": "stream",
     "text": [
      "/bin/anaconda3/envs/ada/lib/python3.11/site-packages/IPython/core/interactiveshell.py:3561: UserWarning: To exit: use 'exit', 'quit', or Ctrl-D.\n",
      "  warn(\"To exit: use 'exit', 'quit', or Ctrl-D.\", stacklevel=1)\n"
     ]
    },
    {
     "ename": "",
     "evalue": "",
     "output_type": "error",
     "traceback": [
      "\u001b[1;31mThe Kernel crashed while executing code in the current cell or a previous cell. \n",
      "\u001b[1;31mPlease review the code in the cell(s) to identify a possible cause of the failure. \n",
      "\u001b[1;31mClick <a href='https://aka.ms/vscodeJupyterKernelCrash'>here</a> for more info. \n",
      "\u001b[1;31mView Jupyter <a href='command:jupyter.viewOutput'>log</a> for further details."
     ]
    }
   ],
   "source": [
    "import lmql \n",
    "from transformers import AutoModel, AutoModelForCausalLM, AutoTokenizer\n",
    "import os\n",
    "import asyncio as asyncio\n",
    "\n",
    "# lmql.serve(\"Llama-2-13b-hf\", cuda=True, port=9999, trust_remote_code=True)\n",
    "\n",
    "# Specify the path where the model and tokenizer are saved\n",
    "load_directory = \"./local_models/meta-llama/openai-community/gpt2\"  # Your local path\n",
    "\n",
    "# Load the model and tokenizer from the specified directory\n",
    "# model = AutoModel.from_pretrained(load_directory, trust_remote_code=True)\n",
    "# print(type(model))\n",
    "        \n",
    "                \n",
    "                \n",
    "lmql.serve(load_directory, port=8079, cuda=True, trust_remote_code=True)\n",
    "@lmql.query(\n",
    "                model=load_directory,\n",
    "                decoder=\"sample\",\n",
    "                temperature=0.5,\n",
    "                top_k=10,\n",
    "                max_len=4096\n",
    ")\n",
    "def chain_of_thought(question):\n",
    "    '''lmql\n",
    "    # Q&A prompt template\n",
    "    \"Q: {question}\\n\"\n",
    "    \"A: Let's think step by step.\\n\"\n",
    "    \"[REASONING]\"\n",
    "    \"Thus, the answer is:[ANSWER].\"\n",
    "\n",
    "    # return just the ANSWER to the caller\n",
    "    return ANSWER\n",
    "    '''\n",
    "async def hello_world():\n",
    "    '''lqml\n",
    "    \"Say 'this is a test':[ANSWER]\"\n",
    "    '''\n",
    "\n",
    "await hello_world()\n"
   ]
  }
 ],
 "metadata": {
  "kernelspec": {
   "display_name": "ada",
   "language": "python",
   "name": "python3"
  },
  "language_info": {
   "codemirror_mode": {
    "name": "ipython",
    "version": 3
   },
   "file_extension": ".py",
   "mimetype": "text/x-python",
   "name": "python",
   "nbconvert_exporter": "python",
   "pygments_lexer": "ipython3",
   "version": "3.11.7"
  }
 },
 "nbformat": 4,
 "nbformat_minor": 2
}
