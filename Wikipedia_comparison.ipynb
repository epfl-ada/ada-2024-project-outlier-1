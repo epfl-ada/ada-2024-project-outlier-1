{
 "cells": [
  {
   "cell_type": "markdown",
   "metadata": {},
   "source": [
    "# Part 1 : Wikipedia Evolution\n",
    "\n",
    "## How did change between 2007 and now ? \n",
    "\n",
    "In this part we investigate how Wikipedia evolved when compared to the 2007 version to the current one we use today. An interesting thought that occured to us was that the wikispeedia game was hard to play due to the not-so-up-to-date structure of the game. As players are using a restricted version from the 2007 Wikipedia data, this could also impact how the game is played. \n",
    "\n",
    "Before testing this hypothesis we first investigate how much it has changed between now and the 2024 version, to see if there is a significant difference. \n",
    "\n",
    "In the following part we will study  *only the 4587 articles* from the 2007 selection and compare them to their current corresponding version. \n",
    "\n",
    "### 1.1) Hyperlinks count \n",
    "\n",
    "We first look at the number of hyperlinks per page, as this is the factor the most suceptible to influence how the game is played. \n"
   ]
  },
  {
   "cell_type": "code",
   "execution_count": 48,
   "metadata": {},
   "outputs": [],
   "source": [
    "import pandas as pd\n",
    "import numpy as np\n",
    "\n",
    "import networkx as nx\n",
    "import matplotlib.pyplot as plt"
   ]
  },
  {
   "cell_type": "code",
   "execution_count": 49,
   "metadata": {},
   "outputs": [],
   "source": [
    "# Loading data\n",
    "\n",
    "links2007 = pd.read_csv('data/wikispeedia_paths-and-graph/links.tsv', sep='\\t', comment='#', names=['linkSource', 'linkTarget'])\n",
    "links2024 = pd.read_csv('data/2024/links2024.csv')"
   ]
  },
  {
   "cell_type": "code",
   "execution_count": 50,
   "metadata": {},
   "outputs": [
    {
     "data": {
      "text/html": [
       "<div>\n",
       "<style scoped>\n",
       "    .dataframe tbody tr th:only-of-type {\n",
       "        vertical-align: middle;\n",
       "    }\n",
       "\n",
       "    .dataframe tbody tr th {\n",
       "        vertical-align: top;\n",
       "    }\n",
       "\n",
       "    .dataframe thead th {\n",
       "        text-align: right;\n",
       "    }\n",
       "</style>\n",
       "<table border=\"1\" class=\"dataframe\">\n",
       "  <thead>\n",
       "    <tr style=\"text-align: right;\">\n",
       "      <th></th>\n",
       "      <th>linkSource</th>\n",
       "      <th>linkTarget</th>\n",
       "    </tr>\n",
       "  </thead>\n",
       "  <tbody>\n",
       "    <tr>\n",
       "      <th>31780</th>\n",
       "      <td>Double-decker_bus</td>\n",
       "      <td>New_Zealand</td>\n",
       "    </tr>\n",
       "    <tr>\n",
       "      <th>64550</th>\n",
       "      <td>List_of_Asian_countries</td>\n",
       "      <td>Armenia</td>\n",
       "    </tr>\n",
       "    <tr>\n",
       "      <th>88410</th>\n",
       "      <td>President_of_the_United_States</td>\n",
       "      <td>Chester_A._Arthur</td>\n",
       "    </tr>\n",
       "    <tr>\n",
       "      <th>118750</th>\n",
       "      <td>Yellow_River</td>\n",
       "      <td>Grand_Canal_of_China</td>\n",
       "    </tr>\n",
       "    <tr>\n",
       "      <th>39964</th>\n",
       "      <td>Florida</td>\n",
       "      <td>Autumn</td>\n",
       "    </tr>\n",
       "  </tbody>\n",
       "</table>\n",
       "</div>"
      ],
      "text/plain": [
       "                            linkSource            linkTarget\n",
       "31780                Double-decker_bus           New_Zealand\n",
       "64550          List_of_Asian_countries               Armenia\n",
       "88410   President_of_the_United_States     Chester_A._Arthur\n",
       "118750                    Yellow_River  Grand_Canal_of_China\n",
       "39964                          Florida                Autumn"
      ]
     },
     "execution_count": 50,
     "metadata": {},
     "output_type": "execute_result"
    }
   ],
   "source": [
    "links2007.sample(5)"
   ]
  },
  {
   "cell_type": "code",
   "execution_count": 51,
   "metadata": {},
   "outputs": [
    {
     "data": {
      "text/html": [
       "<div>\n",
       "<style scoped>\n",
       "    .dataframe tbody tr th:only-of-type {\n",
       "        vertical-align: middle;\n",
       "    }\n",
       "\n",
       "    .dataframe tbody tr th {\n",
       "        vertical-align: top;\n",
       "    }\n",
       "\n",
       "    .dataframe thead th {\n",
       "        text-align: right;\n",
       "    }\n",
       "</style>\n",
       "<table border=\"1\" class=\"dataframe\">\n",
       "  <thead>\n",
       "    <tr style=\"text-align: right;\">\n",
       "      <th></th>\n",
       "      <th>linkTarget</th>\n",
       "    </tr>\n",
       "    <tr>\n",
       "      <th>linkSource</th>\n",
       "      <th></th>\n",
       "    </tr>\n",
       "  </thead>\n",
       "  <tbody>\n",
       "    <tr>\n",
       "      <th>%C3%81ed%C3%A1n_mac_Gabr%C3%A1in</th>\n",
       "      <td>11</td>\n",
       "    </tr>\n",
       "    <tr>\n",
       "      <th>%C3%85land</th>\n",
       "      <td>19</td>\n",
       "    </tr>\n",
       "    <tr>\n",
       "      <th>%C3%89douard_Manet</th>\n",
       "      <td>20</td>\n",
       "    </tr>\n",
       "    <tr>\n",
       "      <th>%C3%89ire</th>\n",
       "      <td>8</td>\n",
       "    </tr>\n",
       "    <tr>\n",
       "      <th>%C3%93engus_I_of_the_Picts</th>\n",
       "      <td>10</td>\n",
       "    </tr>\n",
       "    <tr>\n",
       "      <th>...</th>\n",
       "      <td>...</td>\n",
       "    </tr>\n",
       "    <tr>\n",
       "      <th>Zionism</th>\n",
       "      <td>74</td>\n",
       "    </tr>\n",
       "    <tr>\n",
       "      <th>Zirconium</th>\n",
       "      <td>42</td>\n",
       "    </tr>\n",
       "    <tr>\n",
       "      <th>Zoroaster</th>\n",
       "      <td>28</td>\n",
       "    </tr>\n",
       "    <tr>\n",
       "      <th>Zuid-Gelders</th>\n",
       "      <td>5</td>\n",
       "    </tr>\n",
       "    <tr>\n",
       "      <th>Zulu</th>\n",
       "      <td>15</td>\n",
       "    </tr>\n",
       "  </tbody>\n",
       "</table>\n",
       "<p>4587 rows × 1 columns</p>\n",
       "</div>"
      ],
      "text/plain": [
       "                                  linkTarget\n",
       "linkSource                                  \n",
       "%C3%81ed%C3%A1n_mac_Gabr%C3%A1in          11\n",
       "%C3%85land                                19\n",
       "%C3%89douard_Manet                        20\n",
       "%C3%89ire                                  8\n",
       "%C3%93engus_I_of_the_Picts                10\n",
       "...                                      ...\n",
       "Zionism                                   74\n",
       "Zirconium                                 42\n",
       "Zoroaster                                 28\n",
       "Zuid-Gelders                               5\n",
       "Zulu                                      15\n",
       "\n",
       "[4587 rows x 1 columns]"
      ]
     },
     "execution_count": 51,
     "metadata": {},
     "output_type": "execute_result"
    }
   ],
   "source": [
    "(links2007.groupby(by='linkSource')).count()"
   ]
  },
  {
   "cell_type": "code",
   "execution_count": 52,
   "metadata": {},
   "outputs": [
    {
     "data": {
      "text/html": [
       "<div>\n",
       "<style scoped>\n",
       "    .dataframe tbody tr th:only-of-type {\n",
       "        vertical-align: middle;\n",
       "    }\n",
       "\n",
       "    .dataframe tbody tr th {\n",
       "        vertical-align: top;\n",
       "    }\n",
       "\n",
       "    .dataframe thead th {\n",
       "        text-align: right;\n",
       "    }\n",
       "</style>\n",
       "<table border=\"1\" class=\"dataframe\">\n",
       "  <thead>\n",
       "    <tr style=\"text-align: right;\">\n",
       "      <th></th>\n",
       "      <th>linkTarget</th>\n",
       "    </tr>\n",
       "    <tr>\n",
       "      <th>linkSource</th>\n",
       "      <th></th>\n",
       "    </tr>\n",
       "  </thead>\n",
       "  <tbody>\n",
       "    <tr>\n",
       "      <th>%C3%81ed%C3%A1n_mac_Gabr%C3%A1in</th>\n",
       "      <td>12</td>\n",
       "    </tr>\n",
       "    <tr>\n",
       "      <th>%C3%85land</th>\n",
       "      <td>127</td>\n",
       "    </tr>\n",
       "    <tr>\n",
       "      <th>%C3%89douard_Manet</th>\n",
       "      <td>60</td>\n",
       "    </tr>\n",
       "    <tr>\n",
       "      <th>%C3%89ire</th>\n",
       "      <td>37</td>\n",
       "    </tr>\n",
       "    <tr>\n",
       "      <th>%C3%93engus_I_of_the_Picts</th>\n",
       "      <td>21</td>\n",
       "    </tr>\n",
       "    <tr>\n",
       "      <th>...</th>\n",
       "      <td>...</td>\n",
       "    </tr>\n",
       "    <tr>\n",
       "      <th>Zion_National_Park</th>\n",
       "      <td>51</td>\n",
       "    </tr>\n",
       "    <tr>\n",
       "      <th>Zionism</th>\n",
       "      <td>69</td>\n",
       "    </tr>\n",
       "    <tr>\n",
       "      <th>Zirconium</th>\n",
       "      <td>259</td>\n",
       "    </tr>\n",
       "    <tr>\n",
       "      <th>Zoroaster</th>\n",
       "      <td>47</td>\n",
       "    </tr>\n",
       "    <tr>\n",
       "      <th>Zuid-Gelders</th>\n",
       "      <td>10</td>\n",
       "    </tr>\n",
       "  </tbody>\n",
       "</table>\n",
       "<p>4546 rows × 1 columns</p>\n",
       "</div>"
      ],
      "text/plain": [
       "                                  linkTarget\n",
       "linkSource                                  \n",
       "%C3%81ed%C3%A1n_mac_Gabr%C3%A1in          12\n",
       "%C3%85land                               127\n",
       "%C3%89douard_Manet                        60\n",
       "%C3%89ire                                 37\n",
       "%C3%93engus_I_of_the_Picts                21\n",
       "...                                      ...\n",
       "Zion_National_Park                        51\n",
       "Zionism                                   69\n",
       "Zirconium                                259\n",
       "Zoroaster                                 47\n",
       "Zuid-Gelders                              10\n",
       "\n",
       "[4546 rows x 1 columns]"
      ]
     },
     "execution_count": 52,
     "metadata": {},
     "output_type": "execute_result"
    }
   ],
   "source": [
    "(links2024.groupby(by='linkSource')).count()"
   ]
  },
  {
   "cell_type": "markdown",
   "metadata": {},
   "source": [
    "links 2007 : 4587 source articles \n",
    "VS links 2024 : 4546 source articles "
   ]
  },
  {
   "cell_type": "markdown",
   "metadata": {},
   "source": [
    "### Problem of missing links in 2024 : find updated version ?? or take out from analysis the 2007 ones "
   ]
  },
  {
   "cell_type": "code",
   "execution_count": 53,
   "metadata": {},
   "outputs": [],
   "source": [
    "# For now we only use the articles appearing in both 2007 and 2024 as source \n",
    "# to have matching dimensions --> later on pull all the links missing in 2024\n",
    "\n",
    "selected_articles = set(links2024['linkSource']).intersection(links2007['linkSource'])\n",
    "links2007 = links2007.loc[links2007['linkSource'].isin(selected_articles)]\n",
    "links2024 = links2024.loc[links2024['linkSource'].isin(selected_articles)]\n"
   ]
  },
  {
   "cell_type": "code",
   "execution_count": 54,
   "metadata": {},
   "outputs": [
    {
     "data": {
      "text/plain": [
       "True"
      ]
     },
     "execution_count": 54,
     "metadata": {},
     "output_type": "execute_result"
    }
   ],
   "source": [
    "# checking for matching dimensions : \n",
    "links2024.groupby(by='linkSource').count().shape == links2007.groupby(by='linkSource').count().shape"
   ]
  },
  {
   "cell_type": "code",
   "execution_count": 55,
   "metadata": {},
   "outputs": [
    {
     "data": {
      "image/png": "[encoded data removed]",
      "text/plain": [
       "<Figure size 400x400 with 1 Axes>"
      ]
     },
     "metadata": {},
     "output_type": "display_data"
    }
   ],
   "source": [
    "summary2007= (links2007.groupby(by='linkSource'))\n",
    "summary2024= (links2024.groupby(by='linkSource'))\n",
    "\n",
    "plt.figure(figsize=(4,4))\n",
    "plt.bar(x=['2007', '2024'], height= [np.mean(summary2007.count()), np.mean(summary2024.count())])\n",
    "plt.ylabel('avg number links / page')\n",
    "plt.title('Mean number of links per page')\n",
    "plt.show()"
   ]
  },
  {
   "cell_type": "markdown",
   "metadata": {},
   "source": [
    "We can observe a big increase in the total average number of links in 2024, which is logical as the wikipedia database was greatly expanded (and is still expanding) between the two time points. Let us now look more into the details of how this expansion. "
   ]
  },
  {
   "cell_type": "code",
   "execution_count": null,
   "metadata": {},
   "outputs": [
    {
     "data": {
      "text/plain": [
       "TtestResult(statistic=array([-38.8614243]), pvalue=array([1.04199522e-305]), df=array([9068.]))"
      ]
     },
     "execution_count": 58,
     "metadata": {},
     "output_type": "execute_result"
    }
   ],
   "source": [
    "### T test to find wheter those two means are significantly different : \n",
    "# Null Hyp : the two means are not significantly different \n",
    "# Alt hyp : they are significantly different \n",
    "\n",
    "from scipy.stats import ttest_ind \n",
    "\n",
    "ttest_ind(summary2007.count(), summary2024.count())\n",
    "\n",
    "# p value = 1.04 e-305 << alpha = 0.05, the two distributions have significantly different means"
   ]
  },
  {
   "cell_type": "markdown",
   "metadata": {},
   "source": [
    "We now compare the distribution of links per source articles : we want to check whether the two distributions of links to target articles per source articles is the same between 2007 and 2024. "
   ]
  },
  {
   "cell_type": "code",
   "execution_count": null,
   "metadata": {},
   "outputs": [],
   "source": [
    "# ax = sns.histplot(treated['re78'], kde=True, stat='density', color='blue', label='treated')\n",
    "# ax = sns.histplot(control['re78'], kde=True, stat='density', color='orange', label='control')\n",
    "# ax.set(title='Income distribution comparison in 1978',xlabel='Income 1978', ylabel='Income density')\n",
    "# plt.legend()\n",
    "# plt.show()"
   ]
  },
  {
   "cell_type": "code",
   "execution_count": 67,
   "metadata": {},
   "outputs": [
    {
     "data": {
      "image/png": "[encoded data removed]",
      "text/plain": [
       "<Figure size 1000x600 with 1 Axes>"
      ]
     },
     "metadata": {},
     "output_type": "display_data"
    }
   ],
   "source": [
    "# Aggregate counts of links per linkSource for each year\n",
    "count_2007 = summary2007.size()\n",
    "count_2024 = summary2024.size()\n",
    "\n",
    "# Create a DataFrame for easy plotting with both years' data\n",
    "counts_df = pd.DataFrame({'2007': count_2007, '2024': count_2024})\n",
    "\n",
    "# Plot the data\n",
    "ax = counts_df.plot(kind='bar', figsize=(10, 6))\n",
    "ax.set_title('Number of Links per LinkSource (2007 vs 2024)')\n",
    "ax.set_xlabel('LinkSource')\n",
    "ax.set_ylabel('Number of Links')\n",
    "ax.set_xticklabels([])\n",
    "plt.legend(title=\"Year\")\n",
    "plt.show()"
   ]
  },
  {
   "cell_type": "markdown",
   "metadata": {},
   "source": [
    "log fold change plot instead ? "
   ]
  },
  {
   "cell_type": "code",
   "execution_count": null,
   "metadata": {},
   "outputs": [],
   "source": [
    "# could try to make nicer graph using sns"
   ]
  },
  {
   "cell_type": "code",
   "execution_count": null,
   "metadata": {},
   "outputs": [
    {
     "data": {
      "text/plain": [
       "0.0"
      ]
     },
     "execution_count": 70,
     "metadata": {},
     "output_type": "execute_result"
    }
   ],
   "source": [
    "# testing the two distributions are different\n",
    "\n",
    "from scipy.stats import chi2_contingency\n",
    "\n",
    "# Assuming data1 and data2 contain counts for each category\n",
    "contingency_table = [summary2007.count(), summary2024.count()]\n",
    "stat, p_value, _, _ = chi2_contingency(contingency_table)\n",
    "p_value\n"
   ]
  },
  {
   "cell_type": "markdown",
   "metadata": {},
   "source": [
    "### should verify if chi square is appropriate here"
   ]
  },
  {
   "cell_type": "markdown",
   "metadata": {},
   "source": [
    "## 1.2) Shortest Path "
   ]
  },
  {
   "cell_type": "markdown",
   "metadata": {},
   "source": [
    "comment on fait "
   ]
  }
 ],
 "metadata": {
  "kernelspec": {
   "display_name": "ada",
   "language": "python",
   "name": "python3"
  },
  "language_info": {
   "codemirror_mode": {
    "name": "ipython",
    "version": 3
   },
   "file_extension": ".py",
   "mimetype": "text/x-python",
   "name": "python",
   "nbconvert_exporter": "python",
   "pygments_lexer": "ipython3",
   "version": "3.11.10"
  }
 },
 "nbformat": 4,
 "nbformat_minor": 2
}
