{
 "cells": [
  {
   "cell_type": "markdown",
   "metadata": {},
   "source": [
    "# Part 1 : Wikipedia Evolution\n",
    "\n",
    "## How did change between 2007 and now ? \n",
    "\n",
    "In this part we investigate how Wikipedia evolved when compared to the 2007 version to the current one we use today. An interesting thought that occured to us was that the wikispeedia game was hard to play due to the not-so-up-to-date structure of the game. As players are using a restricted version from the 2007 Wikipedia data, this could also impact how the game is played. \n",
    "\n",
    "Before testing this hypothesis we first investigate how much it has changed between now and the 2024 version, to see if there is a significant difference. \n",
    "\n",
    "In the following part we will study  *only the four thousands articles* from the 2007 selection and compare them to their current corresponding version. \n"
   ]
  },
  {
   "cell_type": "markdown",
   "metadata": {},
   "source": [
    "#### Setting the environment \n",
    "Please check READ_ME.md and pip_requirements.txt before running this notebook."
   ]
  },
  {
   "cell_type": "code",
   "execution_count": 48,
   "metadata": {},
   "outputs": [],
   "source": [
    "import pandas as pd\n",
    "import numpy as np\n",
    "\n",
    "import networkx as nx\n",
    "import matplotlib.pyplot as plt"
   ]
  },
  {
   "cell_type": "markdown",
   "metadata": {},
   "source": [
    "### 1.0) About the subset of articles used in the game\n",
    "\n",
    "As mentionned above, we are working with a subselection of articles Wikipedia that was set by the creators of Wikispeedia [1], [2]. From the list of the article names from Wikispeedia 2007 we extracted the corresponding 4587 articles in Wikipedia 2024.\n",
    "\n",
    "[1] Robert West and Jure Leskovec:\n",
    "     Human Wayfinding in Information Networks.\n",
    "     21st International World Wide Web Conference (WWW), 2012.\n",
    "[2] Robert West, Joelle Pineau, and Doina Precup:\n",
    "     Wikispeedia: An Online Game for Inferring Semantic Distances between Concepts.\n",
    "     21st International Joint Conference on Artificial Intelligence (IJCAI), 2009.\n"
   ]
  },
  {
   "cell_type": "code",
   "execution_count": 8,
   "metadata": {},
   "outputs": [
    {
     "data": {
      "text/plain": [
       "(4604,)"
      ]
     },
     "execution_count": 8,
     "metadata": {},
     "output_type": "execute_result"
    }
   ],
   "source": [
    "article_names_2007 = pd.read_csv('data/2007/articles.tsv', sep='\\t', comment='#', names=['article_2007'])\n",
    "article_names_2007.article_2007.unique().shape"
   ]
  },
  {
   "cell_type": "code",
   "execution_count": 12,
   "metadata": {},
   "outputs": [
    {
     "data": {
      "text/plain": [
       "(4546,)"
      ]
     },
     "execution_count": 12,
     "metadata": {},
     "output_type": "execute_result"
    }
   ],
   "source": [
    "links2024 = pd.read_csv('data/2024/links2024.csv')\n",
    "article_names_2024 = links2024.linkSource.unique()\n",
    "article_names_2024.shape"
   ]
  },
  {
   "cell_type": "markdown",
   "metadata": {},
   "source": [
    "There seems to be more than the 11 missing articles in 2024."
   ]
  },
  {
   "cell_type": "code",
   "execution_count": null,
   "metadata": {},
   "outputs": [
    {
     "name": "stdout",
     "output_type": "stream",
     "text": [
      "article_2007    %C3%93engus_I_of_the_Picts\n",
      "Name: 4, dtype: object\n",
      "%C3%93engus_I_of_the_Picts\n"
     ]
    }
   ],
   "source": [
    "# NB: indexing is not the same (2007 is a df while 2024 is an array)\n",
    "print(article_names_2007.iloc[4])\n",
    "print(article_names_2024[4])"
   ]
  },
  {
   "cell_type": "code",
   "execution_count": null,
   "metadata": {},
   "outputs": [],
   "source": [
    "# Articles from 2007 missing in 2024\n",
    "for article in article_names_2007:\n",
    "    if #article is in 2007 but not in 2024\n",
    "        print() #print the name"
   ]
  },
  {
   "cell_type": "code",
   "execution_count": null,
   "metadata": {},
   "outputs": [],
   "source": []
  },
  {
   "cell_type": "markdown",
   "metadata": {},
   "source": [
    "### 1.1) Hyperlinks count \n",
    "\n",
    "We first look at the number of hyperlinks per page, as this is the factor the most suceptible to influence how the game is played. "
   ]
  },
  {
   "cell_type": "code",
   "execution_count": 49,
   "metadata": {},
   "outputs": [],
   "source": [
    "# Loading data\n",
    "\n",
    "links2007 = pd.read_csv('data/wikispeedia_paths-and-graph/links.tsv', sep='\\t', comment='#', names=['linkSource', 'linkTarget'])\n",
    "links2024 = pd.read_csv('data/2024/links2024.csv')"
   ]
  },
  {
   "cell_type": "code",

   "execution_count": 50,
   "metadata": {},
   "outputs": [
    {
     "data": {
      "text/html": [
       "<div>\n",
       "<style scoped>\n",
       "    .dataframe tbody tr th:only-of-type {\n",
       "        vertical-align: middle;\n",
       "    }\n",
       "\n",
       "    .dataframe tbody tr th {\n",
       "        vertical-align: top;\n",
       "    }\n",
       "\n",
       "    .dataframe thead th {\n",
       "        text-align: right;\n",
       "    }\n",
       "</style>\n",
       "<table border=\"1\" class=\"dataframe\">\n",
       "  <thead>\n",
       "    <tr style=\"text-align: right;\">\n",
       "      <th></th>\n",
       "      <th>linkSource</th>\n",
       "      <th>linkTarget</th>\n",
       "    </tr>\n",
       "  </thead>\n",
       "  <tbody>\n",
       "    <tr>\n",

       "      <th>31780</th>\n",
       "      <td>Double-decker_bus</td>\n",
       "      <td>New_Zealand</td>\n",
       "    </tr>\n",
       "    <tr>\n",
       "      <th>64550</th>\n",
       "      <td>List_of_Asian_countries</td>\n",
       "      <td>Armenia</td>\n",
       "    </tr>\n",
       "    <tr>\n",
       "      <th>88410</th>\n",
       "      <td>President_of_the_United_States</td>\n",
       "      <td>Chester_A._Arthur</td>\n",
       "    </tr>\n",
       "    <tr>\n",
       "      <th>118750</th>\n",
       "      <td>Yellow_River</td>\n",
       "      <td>Grand_Canal_of_China</td>\n",
       "    </tr>\n",
       "    <tr>\n",
       "      <th>39964</th>\n",
       "      <td>Florida</td>\n",
       "      <td>Autumn</td>\n",
       "    </tr>\n",
       "  </tbody>\n",
       "</table>\n",
       "</div>"
      ],
      "text/plain": [
       "                            linkSource            linkTarget\n",
       "31780                Double-decker_bus           New_Zealand\n",
       "64550          List_of_Asian_countries               Armenia\n",
       "88410   President_of_the_United_States     Chester_A._Arthur\n",
       "118750                    Yellow_River  Grand_Canal_of_China\n",
       "39964                          Florida                Autumn"
      ]
     },
     "execution_count": 50,
     "metadata": {},
     "output_type": "execute_result"
    }
   ],
   "source": [
    "links2007.sample(5)"
   ]
  },
  {
   "cell_type": "code",
   "execution_count": 51,
   "metadata": {},
   "outputs": [
    {
     "data": {
      "text/html": [
       "<div>\n",
       "<style scoped>\n",
       "    .dataframe tbody tr th:only-of-type {\n",
       "        vertical-align: middle;\n",
       "    }\n",
       "\n",
       "    .dataframe tbody tr th {\n",
       "        vertical-align: top;\n",
       "    }\n",
       "\n",
       "    .dataframe thead th {\n",
       "        text-align: right;\n",
       "    }\n",
       "</style>\n",
       "<table border=\"1\" class=\"dataframe\">\n",
       "  <thead>\n",
       "    <tr style=\"text-align: right;\">\n",
       "      <th></th>\n",
       "      <th>linkTarget</th>\n",
       "    </tr>\n",
       "    <tr>\n",
       "      <th>linkSource</th>\n",
       "      <th></th>\n",
       "    </tr>\n",
       "  </thead>\n",
       "  <tbody>\n",
       "    <tr>\n",
       "      <th>%C3%81ed%C3%A1n_mac_Gabr%C3%A1in</th>\n",
       "      <td>11</td>\n",
       "    </tr>\n",
       "    <tr>\n",
       "      <th>%C3%85land</th>\n",
       "      <td>19</td>\n",
       "    </tr>\n",
       "    <tr>\n",
       "      <th>%C3%89douard_Manet</th>\n",
       "      <td>20</td>\n",
       "    </tr>\n",
       "    <tr>\n",
       "      <th>%C3%89ire</th>\n",
       "      <td>8</td>\n",
       "    </tr>\n",
       "    <tr>\n",
       "      <th>%C3%93engus_I_of_the_Picts</th>\n",
       "      <td>10</td>\n",

       "    </tr>\n",
       "    <tr>\n",
       "      <th>...</th>\n",
       "      <td>...</td>\n",

       "    </tr>\n",
       "    <tr>\n",
       "      <th>Zionism</th>\n",
       "      <td>74</td>\n",
       "    </tr>\n",
       "    <tr>\n",
       "      <th>Zirconium</th>\n",
       "      <td>42</td>\n",
       "    </tr>\n",
       "    <tr>\n",
       "      <th>Zoroaster</th>\n",
       "      <td>28</td>\n",
       "    </tr>\n",
       "    <tr>\n",
       "      <th>Zuid-Gelders</th>\n",
       "      <td>5</td>\n",
       "    </tr>\n",
       "    <tr>\n",
       "      <th>Zulu</th>\n",
       "      <td>15</td>\n",
       "    </tr>\n",
       "  </tbody>\n",
       "</table>\n",
       "<p>4587 rows × 1 columns</p>\n",
       "</div>"
      ],
      "text/plain": [
       "                                  linkTarget\n",
       "linkSource                                  \n",
       "%C3%81ed%C3%A1n_mac_Gabr%C3%A1in          11\n",
       "%C3%85land                                19\n",
       "%C3%89douard_Manet                        20\n",
       "%C3%89ire                                  8\n",
       "%C3%93engus_I_of_the_Picts                10\n",
       "...                                      ...\n",
       "Zionism                                   74\n",
       "Zirconium                                 42\n",
       "Zoroaster                                 28\n",
       "Zuid-Gelders                               5\n",
       "Zulu                                      15\n",
       "\n",
       "[4587 rows x 1 columns]"
      ]
     },
     "execution_count": 51,
     "metadata": {},
     "output_type": "execute_result"
    }
   ],
   "source": [
    "(links2007.groupby(by='linkSource')).count()"
   ]
  },
  {
   "cell_type": "code",
   "execution_count": 52,
   "metadata": {},
   "outputs": [
    {
     "data": {
      "text/html": [
       "<div>\n",
       "<style scoped>\n",
       "    .dataframe tbody tr th:only-of-type {\n",
       "        vertical-align: middle;\n",
       "    }\n",
       "\n",
       "    .dataframe tbody tr th {\n",
       "        vertical-align: top;\n",
       "    }\n",
       "\n",
       "    .dataframe thead th {\n",
       "        text-align: right;\n",
       "    }\n",
       "</style>\n",
       "<table border=\"1\" class=\"dataframe\">\n",
       "  <thead>\n",
       "    <tr style=\"text-align: right;\">\n",
       "      <th></th>\n",
       "      <th>linkTarget</th>\n",
       "    </tr>\n",
       "    <tr>\n",
       "      <th>linkSource</th>\n",
       "      <th></th>\n",
       "    </tr>\n",
       "  </thead>\n",
       "  <tbody>\n",
       "    <tr>\n",
       "      <th>%C3%81ed%C3%A1n_mac_Gabr%C3%A1in</th>\n",
       "      <td>12</td>\n",
       "    </tr>\n",
       "    <tr>\n",
       "      <th>%C3%85land</th>\n",
       "      <td>127</td>\n",
       "    </tr>\n",
       "    <tr>\n",
       "      <th>%C3%89douard_Manet</th>\n",
       "      <td>60</td>\n",
       "    </tr>\n",
       "    <tr>\n",
       "      <th>%C3%89ire</th>\n",
       "      <td>37</td>\n",
       "    </tr>\n",
       "    <tr>\n",
       "      <th>%C3%93engus_I_of_the_Picts</th>\n",
       "      <td>21</td>\n",
       "    </tr>\n",
       "    <tr>\n",
       "      <th>...</th>\n",
       "      <td>...</td>\n",
       "    </tr>\n",
       "    <tr>\n",
       "      <th>Zion_National_Park</th>\n",
       "      <td>51</td>\n",
       "    </tr>\n",
       "    <tr>\n",
       "      <th>Zionism</th>\n",
       "      <td>69</td>\n",
       "    </tr>\n",
       "    <tr>\n",
       "      <th>Zirconium</th>\n",
       "      <td>259</td>\n",
       "    </tr>\n",
       "    <tr>\n",
       "      <th>Zoroaster</th>\n",
       "      <td>47</td>\n",
       "    </tr>\n",
       "    <tr>\n",
       "      <th>Zuid-Gelders</th>\n",
       "      <td>10</td>\n",
       "    </tr>\n",
       "  </tbody>\n",
       "</table>\n",
       "<p>4546 rows × 1 columns</p>\n",
       "</div>"
      ],
      "text/plain": [
       "                                  linkTarget\n",
       "linkSource                                  \n",
       "%C3%81ed%C3%A1n_mac_Gabr%C3%A1in          12\n",
       "%C3%85land                               127\n",
       "%C3%89douard_Manet                        60\n",
       "%C3%89ire                                 37\n",
       "%C3%93engus_I_of_the_Picts                21\n",
       "...                                      ...\n",
       "Zion_National_Park                        51\n",
       "Zionism                                   69\n",
       "Zirconium                                259\n",
       "Zoroaster                                 47\n",
       "Zuid-Gelders                              10\n",
       "\n",
       "[4546 rows x 1 columns]"
      ]
     },
     "execution_count": 52,

     "metadata": {},
     "output_type": "execute_result"
    }
   ],
   "source": [

    "(links2024.groupby(by='linkSource')).count()"
   ]
  },
  {
   "cell_type": "markdown",
   "metadata": {},
   "source": [
    "links 2007 : 4587 source articles \n",
    "VS links 2024 : 4546 source articles "

   ]
  },
  {
   "cell_type": "markdown",
   "metadata": {},
   "source": [
    "### Problem of missing links in 2024 : find updated version ?? or take out from analysis the 2007 ones "
   ]
  },
  {
   "cell_type": "code",

   "execution_count": 53,
   "metadata": {},
   "outputs": [],
   "source": [
    "# For now we only use the articles appearing in both 2007 and 2024 as source \n",
    "# to have matching dimensions --> later on pull all the links missing in 2024\n",
    "\n",
    "selected_articles = set(links2024['linkSource']).intersection(links2007['linkSource'])\n",
    "links2007 = links2007.loc[links2007['linkSource'].isin(selected_articles)]\n",
    "links2024 = links2024.loc[links2024['linkSource'].isin(selected_articles)]\n"

   ]
  },
  {
   "cell_type": "code",

   "execution_count": 30,
   "metadata": {},
   "outputs": [],
   "source": [
    "summary2007_df = summary2007.apply(lambda x: x, include_groups=False)\n",
    "summary2024_df = summary2024.apply(lambda x: x, include_groups=False)"

   ]
  },
  {
   "cell_type": "code",
   "execution_count": 54,
   "metadata": {},
   "outputs": [
    {
     "data": {
      "text/plain": [
       "True"
      ]
     },
     "execution_count": 54,
     "metadata": {},
     "output_type": "execute_result"
    }
   ],
   "source": [
    "# checking for matching dimensions : \n",
    "links2024.groupby(by='linkSource').count().shape == links2007.groupby(by='linkSource').count().shape"

   ]
  },
  {
   "cell_type": "code",

   "execution_count": 55,

   "metadata": {},
   "outputs": [
    {
     "data": {
      "text/html": [
       "<div>\n",
       "<style scoped>\n",
       "    .dataframe tbody tr th:only-of-type {\n",
       "        vertical-align: middle;\n",
       "    }\n",
       "\n",
       "    .dataframe tbody tr th {\n",
       "        vertical-align: top;\n",
       "    }\n",
       "\n",
       "    .dataframe thead th {\n",
       "        text-align: right;\n",
       "    }\n",
       "</style>\n",
       "<table border=\"1\" class=\"dataframe\">\n",
       "  <thead>\n",
       "    <tr style=\"text-align: right;\">\n",
       "      <th></th>\n",
       "      <th></th>\n",
       "      <th>linkTarget</th>\n",
       "    </tr>\n",
       "    <tr>\n",
       "      <th>linkSource</th>\n",
       "      <th></th>\n",
       "      <th></th>\n",
       "    </tr>\n",
       "  </thead>\n",
       "  <tbody>\n",
       "    <tr>\n",
       "      <th rowspan=\"5\" valign=\"top\">%C3%81ed%C3%A1n_mac_Gabr%C3%A1in</th>\n",
       "      <th>0</th>\n",
       "      <td>Bede</td>\n",
       "    </tr>\n",
       "    <tr>\n",
       "      <th>1</th>\n",
       "      <td>Columba</td>\n",
       "    </tr>\n",
       "    <tr>\n",
       "      <th>2</th>\n",
       "      <td>D%C3%A1l_Riata</td>\n",
       "    </tr>\n",
       "    <tr>\n",
       "      <th>3</th>\n",
       "      <td>Great_Britain</td>\n",
       "    </tr>\n",
       "    <tr>\n",
       "      <th>4</th>\n",
       "      <td>Ireland</td>\n",
       "    </tr>\n",
       "    <tr>\n",
       "      <th>...</th>\n",
       "      <th>...</th>\n",
       "      <td>...</td>\n",
       "    </tr>\n",
       "    <tr>\n",
       "      <th rowspan=\"5\" valign=\"top\">Zulu</th>\n",
       "      <th>119877</th>\n",
       "      <td>South_Africa</td>\n",
       "    </tr>\n",
       "    <tr>\n",
       "      <th>119878</th>\n",
       "      <td>Swaziland</td>\n",
       "    </tr>\n",
       "    <tr>\n",
       "      <th>119879</th>\n",
       "      <td>United_Kingdom</td>\n",
       "    </tr>\n",
       "    <tr>\n",
       "      <th>119880</th>\n",
       "      <td>Zambia</td>\n",
       "    </tr>\n",
       "    <tr>\n",
       "      <th>119881</th>\n",
       "      <td>Zimbabwe</td>\n",
       "    </tr>\n",
       "  </tbody>\n",
       "</table>\n",
       "<p>119882 rows × 1 columns</p>\n",
       "</div>"
      ],

      "text/plain": [
       "                                             linkTarget\n",
       "linkSource                                             \n",
       "%C3%81ed%C3%A1n_mac_Gabr%C3%A1in 0                 Bede\n",
       "                                 1              Columba\n",
       "                                 2       D%C3%A1l_Riata\n",
       "                                 3        Great_Britain\n",
       "                                 4              Ireland\n",
       "...                                                 ...\n",
       "Zulu                             119877    South_Africa\n",
       "                                 119878       Swaziland\n",
       "                                 119879  United_Kingdom\n",
       "                                 119880          Zambia\n",
       "                                 119881        Zimbabwe\n",
       "\n",
       "[119882 rows x 1 columns]"
      ]
     },
     "execution_count": 31,
     "metadata": {},
     "output_type": "execute_result"
    }
   ],
   "source": [
    "summary2007_df"
   ]
  },
  {
   "cell_type": "code",
   "execution_count": 32,
   "metadata": {},
   "outputs": [
    {
     "data": {
      "text/html": [
       "<div>\n",
       "<style scoped>\n",
       "    .dataframe tbody tr th:only-of-type {\n",
       "        vertical-align: middle;\n",
       "    }\n",
       "\n",
       "    .dataframe tbody tr th {\n",
       "        vertical-align: top;\n",
       "    }\n",
       "\n",
       "    .dataframe thead th {\n",
       "        text-align: right;\n",
       "    }\n",
       "</style>\n",
       "<table border=\"1\" class=\"dataframe\">\n",
       "  <thead>\n",
       "    <tr style=\"text-align: right;\">\n",
       "      <th></th>\n",
       "      <th></th>\n",
       "      <th>linkTarget</th>\n",
       "    </tr>\n",
       "    <tr>\n",
       "      <th>linkSource</th>\n",
       "      <th></th>\n",
       "      <th></th>\n",
       "    </tr>\n",
       "  </thead>\n",
       "  <tbody>\n",
       "    <tr>\n",
       "      <th rowspan=\"5\" valign=\"top\">%C3%81ed%C3%A1n_mac_Gabr%C3%A1in</th>\n",
       "      <th>0</th>\n",
       "      <td>D%C3%A1l_Riata</td>\n",
       "    </tr>\n",
       "    <tr>\n",
       "      <th>1</th>\n",
       "      <td>D%C3%A1l_Riata</td>\n",
       "    </tr>\n",
       "    <tr>\n",
       "      <th>2</th>\n",
       "      <td>Columba</td>\n",
       "    </tr>\n",
       "    <tr>\n",
       "      <th>3</th>\n",
       "      <td>Orkney</td>\n",
       "    </tr>\n",
       "    <tr>\n",
       "      <th>4</th>\n",
       "      <td>Isle_of_Man</td>\n",
       "    </tr>\n",
       "    <tr>\n",
       "      <th>...</th>\n",
       "      <th>...</th>\n",
       "      <td>...</td>\n",
       "    </tr>\n",
       "    <tr>\n",
       "      <th rowspan=\"5\" valign=\"top\">Zuid-Gelders</th>\n",
       "      <th>377138</th>\n",
       "      <td>German_language</td>\n",
       "    </tr>\n",
       "    <tr>\n",
       "      <th>377139</th>\n",
       "      <td>Dutch_language</td>\n",
       "    </tr>\n",
       "    <tr>\n",
       "      <th>377140</th>\n",
       "      <td>East_Flemish</td>\n",
       "    </tr>\n",
       "    <tr>\n",
       "      <th>377141</th>\n",
       "      <td>West_Flemish</td>\n",
       "    </tr>\n",
       "    <tr>\n",
       "      <th>377142</th>\n",
       "      <td>French_language</td>\n",
       "    </tr>\n",
       "  </tbody>\n",
       "</table>\n",
       "<p>377143 rows × 1 columns</p>\n",
       "</div>"
      ],
      "text/plain": [
       "                                              linkTarget\n",
       "linkSource                                              \n",
       "%C3%81ed%C3%A1n_mac_Gabr%C3%A1in 0        D%C3%A1l_Riata\n",
       "                                 1        D%C3%A1l_Riata\n",
       "                                 2               Columba\n",
       "                                 3                Orkney\n",
       "                                 4           Isle_of_Man\n",
       "...                                                  ...\n",
       "Zuid-Gelders                     377138  German_language\n",
       "                                 377139   Dutch_language\n",
       "                                 377140     East_Flemish\n",
       "                                 377141     West_Flemish\n",
       "                                 377142  French_language\n",
       "\n",
       "[377143 rows x 1 columns]"
      ]
     },
     "execution_count": 32,
     "metadata": {},
     "output_type": "execute_result"
    }
   ],
   "source": [
    "summary2024_df"
   ]
  },
  {
   "cell_type": "code",
   "execution_count": 33,
   "metadata": {},
   "outputs": [
    {
     "data": {
      "image/png": "[encoded data removed]",
      "text/plain": [
       "<Figure size 800x400 with 2 Axes>"
      ]
     },
     "metadata": {},
     "output_type": "display_data"
    }
   ],
   "source": [
    "plt.figure(figsize=(8,4))\n",
    "\n",
    "plt.subplot(1, 2, 1)\n",
    "plt.bar(x=['2007', '2024'], height= [summary2007_df.shape[0], summary2024_df.shape[0]])\n",
    "plt.ylabel('Total number of hyperlinks')\n",
    "plt.title('Difference in total number of hyperlinks')\n",
    "\n",
    "\n",
    "plt.subplot(1, 2, 2)\n",
    "plt.bar(x=['2007', '2024'], height= [np.mean(summary2007.count()), np.mean(summary2024.count())])\n",
    "plt.ylabel('Average number of links / page')\n",
    "plt.title('Mean number of links per page')\n",
    "\n",
    "plt.tight_layout()\n",
    "plt.show()"
   ]
  },
  {
   "cell_type": "markdown",
   "metadata": {},
   "source": [
    "We can observe a big increase in the total number of hyperlinks and in the average number of links in 2024, which is logical as the wikipedia database was (and still is being) greatly expanded between the two time points. \n",
    "\n",
    "Let us now look more into the details of this expansion. "
   ]
  },
  {
   "cell_type": "code",
   "execution_count": 35,
   "metadata": {},
   "outputs": [
    {
     "data": {
      "text/html": [
       "<div>\n",
       "<style scoped>\n",
       "    .dataframe tbody tr th:only-of-type {\n",
       "        vertical-align: middle;\n",
       "    }\n",
       "\n",
       "    .dataframe tbody tr th {\n",
       "        vertical-align: top;\n",
       "    }\n",
       "\n",
       "    .dataframe thead th {\n",
       "        text-align: right;\n",
       "    }\n",
       "</style>\n",
       "<table border=\"1\" class=\"dataframe\">\n",
       "  <thead>\n",
       "    <tr style=\"text-align: right;\">\n",
       "      <th></th>\n",
       "      <th>linkTarget</th>\n",
       "    </tr>\n",
       "    <tr>\n",
       "      <th>linkSource</th>\n",
       "      <th></th>\n",
       "    </tr>\n",
       "  </thead>\n",
       "  <tbody>\n",
       "    <tr>\n",
       "      <th>%C3%81ed%C3%A1n_mac_Gabr%C3%A1in</th>\n",
       "      <td>12</td>\n",
       "    </tr>\n",
       "    <tr>\n",
       "      <th>%C3%85land</th>\n",
       "      <td>127</td>\n",
       "    </tr>\n",
       "    <tr>\n",
       "      <th>%C3%89douard_Manet</th>\n",
       "      <td>60</td>\n",
       "    </tr>\n",
       "    <tr>\n",
       "      <th>%C3%89ire</th>\n",
       "      <td>37</td>\n",
       "    </tr>\n",
       "    <tr>\n",
       "      <th>%C3%93engus_I_of_the_Picts</th>\n",
       "      <td>21</td>\n",
       "    </tr>\n",
       "    <tr>\n",
       "      <th>...</th>\n",
       "      <td>...</td>\n",
       "    </tr>\n",
       "    <tr>\n",
       "      <th>Zion_National_Park</th>\n",
       "      <td>51</td>\n",
       "    </tr>\n",
       "    <tr>\n",
       "      <th>Zionism</th>\n",
       "      <td>69</td>\n",
       "    </tr>\n",
       "    <tr>\n",
       "      <th>Zirconium</th>\n",
       "      <td>259</td>\n",
       "    </tr>\n",
       "    <tr>\n",
       "      <th>Zoroaster</th>\n",
       "      <td>47</td>\n",
       "    </tr>\n",
       "    <tr>\n",
       "      <th>Zuid-Gelders</th>\n",
       "      <td>10</td>\n",
       "    </tr>\n",
       "  </tbody>\n",
       "</table>\n",
       "<p>4546 rows × 1 columns</p>\n",
       "</div>"
      ],
      "text/plain": [
       "                                  linkTarget\n",
       "linkSource                                  \n",
       "%C3%81ed%C3%A1n_mac_Gabr%C3%A1in          12\n",
       "%C3%85land                               127\n",
       "%C3%89douard_Manet                        60\n",
       "%C3%89ire                                 37\n",
       "%C3%93engus_I_of_the_Picts                21\n",
       "...                                      ...\n",
       "Zion_National_Park                        51\n",
       "Zionism                                   69\n",
       "Zirconium                                259\n",
       "Zoroaster                                 47\n",
       "Zuid-Gelders                              10\n",
       "\n",
       "[4546 rows x 1 columns]"
      ]
     },
     "execution_count": 35,
     "metadata": {},
     "output_type": "execute_result"
    }
   ],
   "source": [
    "summary2024.count()"
   ]
  },
  {
   "cell_type": "code",
   "execution_count": 36,
   "metadata": {},
   "outputs": [
    {
     "data": {
      "text/html": [
       "<div>\n",
       "<style scoped>\n",
       "    .dataframe tbody tr th:only-of-type {\n",
       "        vertical-align: middle;\n",
       "    }\n",
       "\n",
       "    .dataframe tbody tr th {\n",
       "        vertical-align: top;\n",
       "    }\n",
       "\n",
       "    .dataframe thead th {\n",
       "        text-align: right;\n",
       "    }\n",
       "</style>\n",
       "<table border=\"1\" class=\"dataframe\">\n",
       "  <thead>\n",
       "    <tr style=\"text-align: right;\">\n",
       "      <th></th>\n",
       "      <th>linkTarget</th>\n",
       "    </tr>\n",
       "    <tr>\n",
       "      <th>linkSource</th>\n",
       "      <th></th>\n",
       "    </tr>\n",
       "  </thead>\n",
       "  <tbody>\n",
       "    <tr>\n",
       "      <th>%C3%81ed%C3%A1n_mac_Gabr%C3%A1in</th>\n",
       "      <td>11</td>\n",
       "    </tr>\n",
       "    <tr>\n",
       "      <th>%C3%85land</th>\n",
       "      <td>19</td>\n",
       "    </tr>\n",
       "    <tr>\n",
       "      <th>%C3%89douard_Manet</th>\n",
       "      <td>20</td>\n",
       "    </tr>\n",
       "    <tr>\n",
       "      <th>%C3%89ire</th>\n",
       "      <td>8</td>\n",
       "    </tr>\n",
       "    <tr>\n",
       "      <th>%C3%93engus_I_of_the_Picts</th>\n",
       "      <td>10</td>\n",
       "    </tr>\n",
       "    <tr>\n",
       "      <th>...</th>\n",
       "      <td>...</td>\n",
       "    </tr>\n",
       "    <tr>\n",
       "      <th>Zionism</th>\n",
       "      <td>74</td>\n",
       "    </tr>\n",
       "    <tr>\n",
       "      <th>Zirconium</th>\n",
       "      <td>42</td>\n",
       "    </tr>\n",
       "    <tr>\n",
       "      <th>Zoroaster</th>\n",
       "      <td>28</td>\n",
       "    </tr>\n",
       "    <tr>\n",
       "      <th>Zuid-Gelders</th>\n",
       "      <td>5</td>\n",
       "    </tr>\n",
       "    <tr>\n",
       "      <th>Zulu</th>\n",
       "      <td>15</td>\n",
       "    </tr>\n",
       "  </tbody>\n",
       "</table>\n",
       "<p>4587 rows × 1 columns</p>\n",
       "</div>"
      ],
      "text/plain": [
       "                                  linkTarget\n",
       "linkSource                                  \n",
       "%C3%81ed%C3%A1n_mac_Gabr%C3%A1in          11\n",
       "%C3%85land                                19\n",
       "%C3%89douard_Manet                        20\n",
       "%C3%89ire                                  8\n",
       "%C3%93engus_I_of_the_Picts                10\n",
       "...                                      ...\n",
       "Zionism                                   74\n",
       "Zirconium                                 42\n",
       "Zoroaster                                 28\n",
       "Zuid-Gelders                               5\n",
       "Zulu                                      15\n",
       "\n",
       "[4587 rows x 1 columns]"
      ]
     },
     "execution_count": 36,
     "metadata": {},
     "output_type": "execute_result"
    }
   ],
   "source": [
    "summary2007.count()"
   ]
  },
  {
   "cell_type": "code",
   "execution_count": 34,
   "metadata": {},
   "outputs": [
    {
     "data": {
      "text/html": [
       "<div>\n",
       "<style scoped>\n",
       "    .dataframe tbody tr th:only-of-type {\n",
       "        vertical-align: middle;\n",
       "    }\n",
       "\n",
       "    .dataframe tbody tr th {\n",
       "        vertical-align: top;\n",
       "    }\n",
       "\n",
       "    .dataframe thead th {\n",
       "        text-align: right;\n",
       "    }\n",
       "</style>\n",
       "<table border=\"1\" class=\"dataframe\">\n",
       "  <thead>\n",
       "    <tr style=\"text-align: right;\">\n",
       "      <th></th>\n",
       "      <th>linkTarget2007_</th>\n",
       "      <th>linkTarget2024_</th>\n",
       "    </tr>\n",
       "    <tr>\n",
       "      <th>linkSource</th>\n",
       "      <th></th>\n",
       "      <th></th>\n",
       "    </tr>\n",
       "  </thead>\n",
       "  <tbody>\n",
       "    <tr>\n",
       "      <th>%C3%81ed%C3%A1n_mac_Gabr%C3%A1in</th>\n",
       "      <td>11</td>\n",
       "      <td>12.0</td>\n",
       "    </tr>\n",
       "    <tr>\n",
       "      <th>%C3%85land</th>\n",
       "      <td>19</td>\n",
       "      <td>127.0</td>\n",
       "    </tr>\n",
       "    <tr>\n",
       "      <th>%C3%89douard_Manet</th>\n",
       "      <td>20</td>\n",
       "      <td>60.0</td>\n",
       "    </tr>\n",
       "    <tr>\n",
       "      <th>%C3%89ire</th>\n",
       "      <td>8</td>\n",
       "      <td>37.0</td>\n",
       "    </tr>\n",
       "    <tr>\n",
       "      <th>%C3%93engus_I_of_the_Picts</th>\n",
       "      <td>10</td>\n",
       "      <td>21.0</td>\n",
       "    </tr>\n",
       "    <tr>\n",
       "      <th>...</th>\n",
       "      <td>...</td>\n",
       "      <td>...</td>\n",
       "    </tr>\n",
       "    <tr>\n",
       "      <th>Zionism</th>\n",
       "      <td>74</td>\n",
       "      <td>69.0</td>\n",
       "    </tr>\n",
       "    <tr>\n",
       "      <th>Zirconium</th>\n",
       "      <td>42</td>\n",
       "      <td>259.0</td>\n",
       "    </tr>\n",
       "    <tr>\n",
       "      <th>Zoroaster</th>\n",
       "      <td>28</td>\n",
       "      <td>47.0</td>\n",
       "    </tr>\n",
       "    <tr>\n",
       "      <th>Zuid-Gelders</th>\n",
       "      <td>5</td>\n",
       "      <td>10.0</td>\n",
       "    </tr>\n",
       "    <tr>\n",
       "      <th>Zulu</th>\n",
       "      <td>15</td>\n",
       "      <td>NaN</td>\n",
       "    </tr>\n",
       "  </tbody>\n",
       "</table>\n",
       "<p>4587 rows × 2 columns</p>\n",
       "</div>"
      ],
      "text/plain": [
       "                                  linkTarget2007_  linkTarget2024_\n",
       "linkSource                                                        \n",
       "%C3%81ed%C3%A1n_mac_Gabr%C3%A1in               11             12.0\n",
       "%C3%85land                                     19            127.0\n",
       "%C3%89douard_Manet                             20             60.0\n",
       "%C3%89ire                                       8             37.0\n",
       "%C3%93engus_I_of_the_Picts                     10             21.0\n",
       "...                                           ...              ...\n",
       "Zionism                                        74             69.0\n",
       "Zirconium                                      42            259.0\n",
       "Zoroaster                                      28             47.0\n",
       "Zuid-Gelders                                    5             10.0\n",
       "Zulu                                           15              NaN\n",
       "\n",
       "[4587 rows x 2 columns]"
      ]
     },
     "execution_count": 34,
     "metadata": {},
     "output_type": "execute_result"
    }
   ],
   "source": [
    "link_counts = summary2007.count().join(summary2024.count(), how = \"left\", lsuffix=\"2007_\", rsuffix=\"2024_\")\n",
    "link_counts"
   ]
  },
  {
   "cell_type": "code",
   "execution_count": null,
   "metadata": {},
   "outputs": [],
   "source": []
  },
  {
   "cell_type": "code",
   "execution_count": 5,
   "metadata": {},
   "outputs": [
    {

     "data": {
      "text/plain": [
       "TtestResult(statistic=array([-38.8614243]), pvalue=array([1.04199522e-305]), df=array([9068.]))"
      ]
     },
     "execution_count": 58,
     "metadata": {},
     "output_type": "execute_result"

    }
   ],
   "source": [
    "### T test to find wheter those two means are significantly different : \n",
    "# Null Hyp : the two means are not significantly different \n",
    "# Alt hyp : they are significantly different \n",
    "\n",
    "from scipy.stats import ttest_ind \n",
    "\n",
    "ttest_ind(summary2007.count(), summary2024.count())\n",
    "\n",
    "# p value = 1.04 e-305 << alpha = 0.05, the two distributions have significantly different means"
   ]
  },
  {
   "cell_type": "markdown",
   "metadata": {},
   "source": [
    "We now compare the distribution of links per source articles : we want to check whether the two distributions of links to target articles per source articles is the same between 2007 and 2024. "
   ]
  },
  {
   "cell_type": "code",
   "execution_count": null,
   "metadata": {},
   "outputs": [],
   "source": [
    "# ax = sns.histplot(treated['re78'], kde=True, stat='density', color='blue', label='treated')\n",
    "# ax = sns.histplot(control['re78'], kde=True, stat='density', color='orange', label='control')\n",
    "# ax.set(title='Income distribution comparison in 1978',xlabel='Income 1978', ylabel='Income density')\n",
    "# plt.legend()\n",
    "# plt.show()"
   ]
  },
  {
   "cell_type": "code",

   "execution_count": 67,

   "metadata": {},
   "outputs": [
    {
     "data": {
      "image/png": "[encoded data removed]",
      "text/plain": [
       "<Figure size 1000x600 with 1 Axes>"
      ]
     },


     "metadata": {},
     "output_type": "display_data"
    }
   ],
   "source": [
    "# Aggregate counts of links per linkSource for each year\n",
    "count_2007 = summary2007.size()\n",
    "count_2024 = summary2024.size()\n",
    "\n",
    "# Create a DataFrame for easy plotting with both years' data\n",
    "counts_df = pd.DataFrame({'2007': count_2007, '2024': count_2024})\n",
    "\n",
    "# Plot the data\n",
    "ax = counts_df.plot(kind='bar', figsize=(10, 6))\n",
    "ax.set_title('Number of Links per LinkSource (2007 vs 2024)')\n",
    "ax.set_xlabel('LinkSource')\n",
    "ax.set_ylabel('Number of Links')\n",
    "ax.set_xticklabels([])\n",
    "plt.legend(title=\"Year\")\n",
    "plt.show()"
   ]
  },
  {
   "cell_type": "markdown",
   "metadata": {},
   "source": [
    "log fold change plot instead ? "
   ]
  },
  {
   "cell_type": "code",
   "execution_count": null,
   "metadata": {},
   "outputs": [],
   "source": [
    "# could try to make nicer graph using sns"
   ]
  },
  {
   "cell_type": "code",

   "metadata": {},
   "outputs": [
    {
     "data": {
      "text/plain": [

       "0.0"
      ]
     },
     "execution_count": 70,

     "metadata": {},
     "output_type": "execute_result"
    }
   ],
   "source": [
    "# testing the two distributions are different\n",
    "\n",
    "from scipy.stats import chi2_contingency\n",
    "\n",
    "# Assuming data1 and data2 contain counts for each category\n",
    "contingency_table = [summary2007.count(), summary2024.count()]\n",
    "stat, p_value, _, _ = chi2_contingency(contingency_table)\n",
    "p_value\n"
   ]
  },
  {
   "cell_type": "markdown",
   "metadata": {},
   "source": [
    "### should verify if chi square is appropriate here"
   ]
  },
  {
   "cell_type": "markdown",
   "metadata": {},
   "source": [
    "## 1.2) Shortest Path "
   ]
  },
  {
   "cell_type": "markdown",
   "metadata": {},
   "source": [
    "comment on fait "
   ]
  },
  {
   "cell_type": "code",
   "execution_count": 84,
   "metadata": {},
   "outputs": [],
   "source": [
    "import networkx as nx\n",
    "import numpy as np\n",
    "\n",
    "# directed graph\n",
    "G_2024 = nx.DiGraph()\n",
    "G_2024.add_nodes_from(selected_articles)\n",
    "\n",
    "G_2024.add_edges_from(links2024.to_numpy())"
   ]
  },
  {
   "cell_type": "code",

   "execution_count": 87,

   "metadata": {},
   "outputs": [
    {
     "data": {
      "text/plain": [
       "(119141, 2)"
      ]
     },

     "execution_count": 87,

     "metadata": {},
     "output_type": "execute_result"
    }
   ],
   "source": [
    "links2007.shape"
   ]
  },
  {
   "cell_type": "code",
   "execution_count": 85,
   "metadata": {},
   "outputs": [
    {
     "name": "stdout",
     "output_type": "stream",
     "text": [
      "Number of nodes: 4544\n",
      "Number of edges: 224045\n",
      "Average degree: 98.61\n",
      "Average out-degree: 49.31\n",
      "Average in-degree: 49.31\n"
     ]
    }
   ],
   "source": [
    "print(f\"Number of nodes: {G_2024.number_of_nodes()}\")\n",
    "print(f\"Number of edges: {G_2024.number_of_edges()}\")\n",
    "print(f\"Average degree: {sum(dict(G_2024.degree()).values()) / G_2024.number_of_nodes():.2f}\")\n",
    "print(f\"Average out-degree: {sum(dict(G_2024.out_degree()).values()) / G_2024.number_of_nodes():.2f}\")\n",
    "print(f\"Average in-degree: {sum(dict(G_2024.in_degree()).values()) / G_2024.number_of_nodes():.2f}\")"
   ]
  },
  {
   "cell_type": "code",
   "execution_count": 9,
   "metadata": {},
   "outputs": [
    {

     "ename": "KeyboardInterrupt",
     "evalue": "",
     "output_type": "error",
     "traceback": [
      "\u001b[1;31m---------------------------------------------------------------------------\u001b[0m",
      "\u001b[1;31mKeyboardInterrupt\u001b[0m                         Traceback (most recent call last)",
      "Cell \u001b[1;32mIn[80], line 1\u001b[0m\n\u001b[1;32m----> 1\u001b[0m shortest_path_matrix \u001b[38;5;241m=\u001b[39m nx\u001b[38;5;241m.\u001b[39mfloyd_warshall_numpy(G_2007)\n",
      "File \u001b[1;32mc:\\Users\\blouv\\anaconda3\\envs\\ada\\Lib\\site-packages\\networkx\\utils\\decorators.py:789\u001b[0m, in \u001b[0;36margmap.__call__.<locals>.func\u001b[1;34m(_argmap__wrapper, *args, **kwargs)\u001b[0m\n\u001b[0;32m    788\u001b[0m \u001b[38;5;28;01mdef\u001b[39;00m \u001b[38;5;21mfunc\u001b[39m(\u001b[38;5;241m*\u001b[39margs, __wrapper\u001b[38;5;241m=\u001b[39m\u001b[38;5;28;01mNone\u001b[39;00m, \u001b[38;5;241m*\u001b[39m\u001b[38;5;241m*\u001b[39mkwargs):\n\u001b[1;32m--> 789\u001b[0m     \u001b[38;5;28;01mreturn\u001b[39;00m argmap\u001b[38;5;241m.\u001b[39m_lazy_compile(__wrapper)(\u001b[38;5;241m*\u001b[39margs, \u001b[38;5;241m*\u001b[39m\u001b[38;5;241m*\u001b[39mkwargs)\n",
      "File \u001b[1;32m<class 'networkx.utils.decorators.argmap'> compilation 4:3\u001b[0m, in \u001b[0;36margmap_floyd_warshall_numpy_1\u001b[1;34m(G, nodelist, weight, backend, **backend_kwargs)\u001b[0m\n\u001b[0;32m      1\u001b[0m \u001b[38;5;28;01mimport\u001b[39;00m \u001b[38;5;21;01mbz2\u001b[39;00m\n\u001b[0;32m      2\u001b[0m \u001b[38;5;28;01mimport\u001b[39;00m \u001b[38;5;21;01mcollections\u001b[39;00m\n\u001b[1;32m----> 3\u001b[0m \u001b[38;5;28;01mimport\u001b[39;00m \u001b[38;5;21;01mgzip\u001b[39;00m\n\u001b[0;32m      4\u001b[0m \u001b[38;5;28;01mimport\u001b[39;00m \u001b[38;5;21;01minspect\u001b[39;00m\n\u001b[0;32m      5\u001b[0m \u001b[38;5;28;01mimport\u001b[39;00m \u001b[38;5;21;01mitertools\u001b[39;00m\n",
      "File \u001b[1;32mc:\\Users\\blouv\\anaconda3\\envs\\ada\\Lib\\site-packages\\networkx\\utils\\backends.py:633\u001b[0m, in \u001b[0;36m_dispatchable.__call__\u001b[1;34m(self, backend, *args, **kwargs)\u001b[0m\n\u001b[0;32m    628\u001b[0m \u001b[38;5;250m\u001b[39m\u001b[38;5;124;03m\"\"\"Returns the result of the original function, or the backend function if\u001b[39;00m\n\u001b[0;32m    629\u001b[0m \u001b[38;5;124;03mthe backend is specified and that backend implements `func`.\"\"\"\u001b[39;00m\n\u001b[0;32m    631\u001b[0m \u001b[38;5;28;01mif\u001b[39;00m \u001b[38;5;129;01mnot\u001b[39;00m backends:\n\u001b[0;32m    632\u001b[0m     \u001b[38;5;66;03m# Fast path if no backends are installed\u001b[39;00m\n\u001b[1;32m--> 633\u001b[0m     \u001b[38;5;28;01mreturn\u001b[39;00m \u001b[38;5;28mself\u001b[39m\u001b[38;5;241m.\u001b[39morig_func(\u001b[38;5;241m*\u001b[39margs, \u001b[38;5;241m*\u001b[39m\u001b[38;5;241m*\u001b[39mkwargs)\n\u001b[0;32m    635\u001b[0m \u001b[38;5;66;03m# Use `backend_name` in this function instead of `backend`\u001b[39;00m\n\u001b[0;32m    636\u001b[0m backend_name \u001b[38;5;241m=\u001b[39m backend\n",
      "File \u001b[1;32mc:\\Users\\blouv\\anaconda3\\envs\\ada\\Lib\\site-packages\\networkx\\algorithms\\shortest_paths\\dense.py:83\u001b[0m, in \u001b[0;36mfloyd_warshall_numpy\u001b[1;34m(G, nodelist, weight)\u001b[0m\n\u001b[0;32m     80\u001b[0m np\u001b[38;5;241m.\u001b[39mfill_diagonal(A, \u001b[38;5;241m0\u001b[39m)  \u001b[38;5;66;03m# diagonal elements should be zero\u001b[39;00m\n\u001b[0;32m     81\u001b[0m \u001b[38;5;28;01mfor\u001b[39;00m i \u001b[38;5;129;01min\u001b[39;00m \u001b[38;5;28mrange\u001b[39m(n):\n\u001b[0;32m     82\u001b[0m     \u001b[38;5;66;03m# The second term has the same shape as A due to broadcasting\u001b[39;00m\n\u001b[1;32m---> 83\u001b[0m     A \u001b[38;5;241m=\u001b[39m np\u001b[38;5;241m.\u001b[39mminimum(A, A[i, :][np\u001b[38;5;241m.\u001b[39mnewaxis, :] \u001b[38;5;241m+\u001b[39m A[:, i][:, np\u001b[38;5;241m.\u001b[39mnewaxis])\n\u001b[0;32m     84\u001b[0m \u001b[38;5;28;01mreturn\u001b[39;00m A\n",
      "\u001b[1;31mKeyboardInterrupt\u001b[0m: "
     ]

    }
   ],
   "source": [
    "# shortest_path_matrix = nx.floyd_warshall_numpy(G_2024)\n",
    "### don't know how long this will be ..."
   ]
  },
  {
   "cell_type": "code",
   "execution_count": null,
   "metadata": {},
   "outputs": [],
   "source": []
  }
 ],
 "metadata": {
  "kernelspec": {
   "display_name": "outlier",
   "language": "python",
   "name": "python3"
  },
  "language_info": {
   "codemirror_mode": {
    "name": "ipython",
    "version": 3
   },
   "file_extension": ".py",
   "mimetype": "text/x-python",
   "name": "python",
   "nbconvert_exporter": "python",
   "pygments_lexer": "ipython3",
   "version": "3.11.10"
  }
 },
 "nbformat": 4,
 "nbformat_minor": 2
}
