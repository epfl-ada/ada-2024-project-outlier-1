{
 "cells": [
  {
   "cell_type": "markdown",
   "metadata": {},
   "source": [
    "# Part 1 : Wikipedia Evolution\n",
    "\n",
    "## How did change between 2007 and now ? \n",
    "\n",
    "In this part we investigate how Wikipedia evolved when compared to the 2007 version to the current one we use today. An interesting thought that occured to us was that the wikispeedia game was hard to play due to the not-so-up-to-date structure of the game. As players are using a restricted version from the 2007 Wikipedia data, this could also impact how the game is played. \n",
    "\n",
    "Before testing this hypothesis we first investigate how much it has changed between now and the 2024 version, to see if there is a significant difference. \n",
    "\n",
    "In the following part we will study  *only the four thousands articles* from the 2007 selection and compare them to their current corresponding version. \n"
   ]
  },
  {
   "cell_type": "markdown",
   "metadata": {},
   "source": [
    "#### Setting the environment \n",
    "Please check SETUP.md and pip_requirements.txt before running this notebook."
   ]
  },
  {
   "cell_type": "code",
   "execution_count": 2,
   "metadata": {},
   "outputs": [],
   "source": [
    "import pandas as pd\n",
    "import numpy as np\n",
    "\n",
    "import networkx as nx\n",
    "import matplotlib.pyplot as plt\n",
    "import os as os"
   ]
  },
  {
   "cell_type": "markdown",
   "metadata": {},
   "source": [
    "### 1.0) About the subset of articles used in the game\n",
    "\n",
    "As mentionned above, we are working with a subselection of articles Wikipedia that was set by the creators of Wikispeedia [1], [2]. From the list of the article names from Wikispeedia 2007 we extracted the corresponding 4587 articles in Wikipedia 2024.\n",
    "\n",
    "[1] Robert West and Jure Leskovec:\n",
    "     Human Wayfinding in Information Networks.\n",
    "     21st International World Wide Web Conference (WWW), 2012.\n",
    "[2] Robert West, Joelle Pineau, and Doina Precup:\n",
    "     Wikispeedia: An Online Game for Inferring Semantic Distances between Concepts.\n",
    "     21st International Joint Conference on Artificial Intelligence (IJCAI), 2009.\n"
   ]
  },
  {
   "cell_type": "code",
   "execution_count": 3,
   "metadata": {},
   "outputs": [
    {
     "data": {
      "text/plain": [
       "'/Users/eglantinevialaneix/Desktop/ADA/Project/ada-2024-project-outlier-1/notebooks'"
      ]
     },
     "execution_count": 3,
     "metadata": {},
     "output_type": "execute_result"
    }
   ],
   "source": [
    "os.getcwd()"
   ]
  },
  {
   "cell_type": "code",
   "execution_count": 4,
   "metadata": {},
   "outputs": [
    {
     "name": "stdout",
     "output_type": "stream",
     "text": [
      "The dataset of articles from 2007 contains 4604 articles with a total of 119882 links.\n",
      "The dataset of retrieved articles from 2024 contains 4592 articles with a total of 223974 links.\n",
      "There are 12 articles from 2007 that could not be found in 2024.\n",
      "However, there are 1.87 times more links in 2024 than in 2007.\n"
     ]
    }
   ],
   "source": [
    "# Setting the path\n",
    "DATA_2007_PATH = '../data/2007/'\n",
    "\n",
    "# Loading 2007 data from Wikispeedia\n",
    "article_names_2007 = pd.read_csv(os.path.join(DATA_2007_PATH, 'articles.tsv'), sep='\\t', comment='#', names=['article_2007'])\n",
    "links_2007 = pd.read_csv(os.path.join(DATA_2007_PATH, 'links.tsv'), sep='\\t', comment='#', names=['linkSource_2007', 'linkTarget2007'])\n",
    "\n",
    "# Update path for 2024\n",
    "DATA_2024_PATH = '../data/2024/'\n",
    "\n",
    "# Loading 2024 data from scrapped wikispeedia (see scrapping.ipynb)\n",
    "raw_article_names_2024 = pd.read_csv(os.path.join(DATA_2024_PATH, 'raw_articles2024.csv'), skiprows=2, comment='#', names=['article_2024']) #skips first row\n",
    "raw_links_2024 = pd.read_csv(os.path.join(DATA_2024_PATH, 'raw_links2024.csv'), skiprows=2, comment='#', names=['linkSource_2024', 'linkTarget_2024']) #skips first row)\n",
    "\n",
    "n_articles_2007, n_articles_2024 = article_names_2007.shape[0], raw_article_names_2024.shape[0]\n",
    "n_links_2007, n_links_2024 = links_2007.shape[0], raw_links_2024.shape[0]\n",
    "\n",
    "print(f\"The dataset of articles from 2007 contains {n_articles_2007} articles with a total of {n_links_2007} links.\")\n",
    "print(f\"The dataset of retrieved articles from 2024 contains {n_articles_2024} articles with a total of {n_links_2024} links.\")\n",
    "print(f\"There are {n_articles_2007 - n_articles_2024} articles from 2007 that could not be found in 2024.\")\n",
    "print(f\"However, there are {n_links_2024/n_links_2007:.2f} times more links in 2024 than in 2007.\")"
   ]
  },
  {
   "cell_type": "code",
   "execution_count": 5,
   "metadata": {},
   "outputs": [
    {
     "data": {
      "text/plain": [
       "(119882, 2)"
      ]
     },
     "execution_count": 5,
     "metadata": {},
     "output_type": "execute_result"
    }
   ],
   "source": [
    "links_2007.drop_duplicates().shape"
   ]
  },
  {
   "cell_type": "code",
   "execution_count": 6,
   "metadata": {},
   "outputs": [
    {
     "name": "stdout",
     "output_type": "stream",
     "text": [
      "True True\n",
      "True True\n"
     ]
    }
   ],
   "source": [
    "# Checking for uniqueness in the article names\n",
    "print(np.unique(article_names_2007.article_2007).shape[0] == article_names_2007.article_2007.shape[0], \n",
    "      np.unique(raw_article_names_2024.article_2024).shape[0] == raw_article_names_2024.article_2024.shape[0])\n",
    "\n",
    "# Checking for uniqueness in the article links\n",
    "print(links_2007.drop_duplicates().shape[0] == links_2007.shape[0],\n",
    "      raw_links_2024.drop_duplicates().shape[0] == raw_links_2024.shape[0])"
   ]
  },
  {
   "cell_type": "markdown",
   "metadata": {},
   "source": [
    "#### Note: to decode article names for our graphs:"
   ]
  },
  {
   "cell_type": "code",
   "execution_count": 7,
   "metadata": {},
   "outputs": [
    {
     "data": {
      "text/plain": [
       "'%C3%85land'"
      ]
     },
     "execution_count": 7,
     "metadata": {},
     "output_type": "execute_result"
    }
   ],
   "source": [
    "article_names_2007.iloc[1].article_2007"
   ]
  },
  {
   "cell_type": "code",
   "execution_count": 8,
   "metadata": {},
   "outputs": [
    {
     "name": "stdout",
     "output_type": "stream",
     "text": [
      "Åland\n"
     ]
    }
   ],
   "source": [
    "from urllib.parse import unquote\n",
    "\n",
    "decoded_article_name = unquote(article_names_2007.iloc[1].article_2007, encoding='utf-8')\n",
    "print(decoded_article_name)"
   ]
  },
  {
   "cell_type": "markdown",
   "metadata": {},
   "source": [
    "### From eleven missing articles to only four"
   ]
  },
  {
   "cell_type": "code",
   "execution_count": 9,
   "metadata": {},
   "outputs": [
    {
     "name": "stdout",
     "output_type": "stream",
     "text": [
      "%C3%81ed%C3%A1n_mac_Gabr%C3%A1in\n",
      "Athletics_%28track_and_field%29\n",
      "Bionicle__Mask_of_Light\n",
      "Directdebit\n",
      "Friend_Directdebit\n",
      "Gallery_of_the_Kings_and_Queens_of_England\n",
      "Newshounds\n",
      "Sponsorship_Directdebit\n",
      "Star_Wars_Episode_IV__A_New_Hope\n",
      "Wikipedia_Text_of_the_GNU_Free_Documentation_License\n",
      "Wowpurchase\n",
      "X-Men__The_Last_Stand\n"
     ]
    }
   ],
   "source": [
    "# Articles from 2007 missing in 2024\n",
    "i_2024 = 0\n",
    "for i_2007, article_2007 in enumerate(article_names_2007.article_2007):\n",
    "    article_2024 = raw_article_names_2024.article_2024.iloc[i_2024]\n",
    "    if article_2007 != article_2024:#article is in 2007 but not in 2024\n",
    "        print(article_2007) #print the name\n",
    "        i_2024 -= 1 # goes back once to stay on the same article\n",
    "    i_2024 += 1 # next article"
   ]
  },
  {
   "cell_type": "markdown",
   "metadata": {},
   "source": [
    "When retrieving 2024 Wikipedia articles, eleven articles could not be found when scrapping for article with the exact same article name provided in Wikispeedia's data. For seven of them we could find the equivalent page on Wikipedia 2024 with a slightly different name. The corresponding URL to the new page is provided in brakets, along with the new name. However for four of them no evident equivalent page culd be found. This leads us to think that these four specific pages have been removed from Wikipedia between 2007 and 2024.\n",
    "\n",
    "- Athletics_%28track_and_field%29 (https://en.wikipedia.org/wiki/Track_and_field, Track_and_field)\n",
    "- Bionicle__Mask_of_Light (https://en.wikipedia.org/wiki/Bionicle:_Mask_of_Light, Bionicle:_Mask_of_Light)\n",
    "- Directdebit (https://en.wikipedia.org/wiki/Direct_debit, Direct_debit)\n",
    "- Friend_Directdebit (-)\n",
    "- Gallery_of_the_Kings_and_Queens_of_England (-)\n",
    "- Newshounds (https://en.wikipedia.org/wiki/News_Hounds, News_Hounds)\n",
    "- Sponsorship_Directdebit (-)\n",
    "- Star_Wars_Episode_IV__A_New_Hope (https://en.wikipedia.org/wiki/Star_Wars_(film), Star_Wars_(film))\n",
    "- Wikipedia_Text_of_the_GNU_Free_Documentation_License (https://en.wikipedia.org/wiki/Wikipedia:Text_of_the_GNU_Free_Documentation_License, Wikipedia:Text_of_the_GNU_Free_Documentation_License)\n",
    "- Wowpurchase (-)\n",
    "- X-Men__The_Last_Stand (https://en.wikipedia.org/wiki/X-Men:_The_Last_Stand, X-Men:_The_Last_Stand)\n",
    "\n",
    "We propose to manually add the seven newly named articles back to the dataframe of 2024 articles, by referring to them with their previous name, for comparability.\n",
    "To investigate a bit more the four missing pages, let us look at their plain text articles, provided by Wikispeedia."
   ]
  },
  {
   "cell_type": "code",
   "execution_count": 10,
   "metadata": {},
   "outputs": [],
   "source": [
    "# define path to the data\n",
    "PLAIN_TEXT_PATH = '../data/2007/plain_text_articles/'\n",
    "\n",
    "# extract the plain text articles from 2007\n",
    "Friend_Directdebit = open(os.path.join(PLAIN_TEXT_PATH, 'Friend_directdebit.txt')).read()\n",
    "Gallery_of_the_Kings_and_Queens_of_England = open(os.path.join(PLAIN_TEXT_PATH, 'Gallery_of_the_Kings_and_Queens_of_England.txt')).read()\n",
    "Sponsorship_Directdebit = open(os.path.join(PLAIN_TEXT_PATH, 'Sponsorship_directdebit.txt')).read()\n",
    "Wowpurchase = open(os.path.join(PLAIN_TEXT_PATH, 'Wowpurchase.txt')).read()"
   ]
  },
  {
   "cell_type": "code",
   "execution_count": 11,
   "metadata": {},
   "outputs": [
    {
     "name": "stdout",
     "output_type": "stream",
     "text": [
      "                             [1x1.gif] [1x1.gif]\n",
      "\n",
      "\n",
      "   [Direct_Debit.gif]\n",
      "\n",
      "Become an SOS Friend - Direct Debit\n",
      "\n",
      "\n",
      "   Thank you for taking a moment to complete this simple form, and for\n",
      "   helping us help orphaned and abandoned children around the world.\n",
      "\n",
      "   The minimum donation for an SOS friend is £10/month. If you cannot\n",
      "   afford this, please use this link to making a smaller regular donation.\n",
      "\n",
      "   All the normal Direct Debit safeguards and guarantees apply. No changes\n",
      "   in the amount, date or frequency to be debited can be made without\n",
      "   notifying you at least 10 working days in advance of your accounts\n",
      "   being debited. In the event of any error, you are entitled to an\n",
      "   immediate refund from your Bank or Building Society. You have the right\n",
      "   to cancel a Direct Debit Instruction at any time simply by writing to\n",
      "   your Bank or Building Society, with a copy to us.\n",
      "\n",
      "   Any questions?\n",
      "   If you have any queries, or would like to make a Direct Debit Donation\n",
      "   over the phone, please phone us on 01223 365589 or write to SOS\n",
      "   Children, St Andrew's House, 59 St Andrew's Street, Cambridge CB2 3BZ\n",
      "   Your Name and Address\n",
      "   Title: __________\n",
      "   First Name: __________________________________________________\n",
      "   Surname: __________________________________________________\n",
      "   Address: __________________________________________________\n",
      "   __________________________________________________\n",
      "   __________________________________________________\n",
      "   Town, City or County:\n",
      "   __________________________________________________\n",
      "   Postcode: _________________________\n",
      "   Country: [United Kingdom......................]\n",
      "   You don't have to enter your email or phone, but we recommend you fill\n",
      "   in at least one so we can contact you quickly if there are any\n",
      "   problems.\n",
      "   Email: __________________________________________________\n",
      "   Phone: _________________________\n",
      "   Mailing list: [Newsletter only (3 per year).......]\n",
      "   We will not sell or swap your personal details with any other groups.\n",
      "   Payment Details\n",
      "   Donation in UK Pounds: £\n",
      "   (min. £10/month) _________________________\n",
      "   Frequency: [Every month...]\n",
      "   Date of first payment: [24] [May......] [2007]\n",
      "   Special Instructions:\n",
      "   please enter any information about how you would like your donation to\n",
      "   be used\n",
      "   ___________________________________________\n",
      "   ___________________________________________\n",
      "   ___________________________________________\n",
      "   ___________________________________________\n",
      "   ___________________________________________\n",
      "   gift aid it\n",
      "   [_] If you are a UK Tax Payer we can reclaim 28p from the government\n",
      "       for every £1 you've donated at no extra cost to you. Tick this box to\n",
      "       declare that you are gift aiding this donation. You qualify for Gift\n",
      "       Aid as long as you pay at least 28% of your gift value in income tax or\n",
      "       capital gains tax.\n",
      "   Your bank details:\n",
      "   Account Name: __________________________________________________\n",
      "   Account Number: _________________________\n",
      "   Sort Code: _________________________\n",
      "   Bank Name: __________________________________________________\n",
      "   Branch Address: __________________________________________________\n",
      "   __________________________________________________\n",
      "   __________________________________________________\n",
      "   Town or City: __________________________________________________\n",
      "   Postcode: _________________________\n",
      "   Authorise Direct Debit\n",
      "\n",
      "                           SOS Children's Villages\n",
      "             Picture of card to be sent - child with \"thank you\"\n",
      "                  Secured with Comodo EliteSSL Certificate\n",
      "                            www.enterprisessl.com\n",
      "\n",
      "   SOS Children refers to the worldwide work of SOS-KDI and is a trading\n",
      "   name for SOS Children's Villages UK\n",
      "\n",
      "   For further information about our work please see our children charity\n",
      "   web site or sponsoring a child.\n",
      "\n",
      "   Charity Commission registered number 1069204\n",
      "\n",
      "   [1x1.gif] [1x1.gif]\n",
      "\n"
     ]
    }
   ],
   "source": [
    "print(Friend_Directdebit)"
   ]
  },
  {
   "cell_type": "code",
   "execution_count": 12,
   "metadata": {},
   "outputs": [
    {
     "name": "stdout",
     "output_type": "stream",
     "text": [
      "   #copyright\n",
      "\n",
      "Gallery of the Kings and Queens of England\n",
      "\n",
      "2007 Schools Wikipedia Selection. Related subjects: British History\n",
      "\n",
      "   This is a gallery of the Kings and Queens of England.\n",
      "\n",
      "House of Wessex\n",
      "\n",
      "                         Alfred the Great (871-899)\n",
      "\n",
      "                         Edward the Elder (899-924)\n",
      "\n",
      "                               Ælfweard (924)\n",
      "\n",
      "       Athelstan (924-939)The first de facto King of a unified England\n",
      "\n",
      "                             Edmund I (939-946)\n",
      "\n",
      "                               Edred (946-955)\n",
      "\n",
      "                           Edwy the Fair (955-959)\n",
      "\n",
      "                               Edgar (959-975)\n",
      "\n",
      "                       St Edward the Martyr (975-978)\n",
      "\n",
      "                 Ethelred the Unready (978-1013, 1014-1016)\n",
      "\n",
      "                         Sweyn Forkbeard (1013-1014)\n",
      "\n",
      "                           Edmund Ironside (1016)\n",
      "\n",
      "                             Canute (1016-1035)\n",
      "\n",
      "                         Harold Harefoot (1035-1040)\n",
      "\n",
      "                          Harthacanute (1040-1042)\n",
      "\n",
      "                     St Edward the Confessor (1042-1066)\n",
      "\n",
      "                           Harold Godwinson (1066)\n",
      "\n",
      "                               Edgar II (1066)\n",
      "\n",
      "House of Normandy\n",
      "\n",
      "                            William I (1066-1087)\n",
      "\n",
      "                           William II (1087-1100)\n",
      "\n",
      "                             Henry I (1100-1135)\n",
      "\n",
      "                       Stephen (1135-1141, 1141-1154)\n",
      "\n",
      "House of Plantagenet\n",
      "\n",
      "                            Henry II (1154-1189)\n",
      "\n",
      "                            Richard I (1189-1199)\n",
      "\n",
      "                              John (1199-1216)\n",
      "\n",
      "                            Henry III (1216-1272)\n",
      "\n",
      "                            Edward I (1272-1307)\n",
      "\n",
      "                            Edward II (1307-1327)\n",
      "\n",
      "                           Edward III (1327-1377)\n",
      "\n",
      "                           Richard II (1377-1399)\n",
      "\n",
      "House of Lancaster\n",
      "\n",
      "   Henry IV (1399-1413)\n",
      "\n",
      "                       Henry V (1413-1422)\n",
      "\n",
      "                                          Henry VI (1422-1461, 1470-1471)\n",
      "\n",
      "House of York\n",
      "\n",
      "   Edward IV (1461-1470, 1471-1483)\n",
      "\n",
      "                                   Edward V (1483)\n",
      "\n",
      "                                                  Richard III (1483-1485)\n",
      "\n",
      "House of Tudor\n",
      "\n",
      "   Henry VII (1485-1509)\n",
      "\n",
      "                        Henry VIII (1509-1547)\n",
      "\n",
      "                                               Edward VI (1547-1553)\n",
      "\n",
      "                                                                    Jane (1553)\n",
      "\n",
      "   Mary I (1553-1558)\n",
      "\n",
      "                        Elizabeth I (1558-1603)\n",
      "\n",
      "House of Stuart\n",
      "\n",
      "                             James I (1603-1625)\n",
      "\n",
      "                            Charles I (1625-1649)\n",
      "\n",
      "                           Charles II (1649-1685)\n",
      "\n",
      "                            James II (1685-1688)\n",
      "\n",
      "                             Mary II (1689-1694)\n",
      "\n",
      "                           William III (1689-1702)\n",
      "\n",
      "                              Anne (1702-1707)\n",
      "\n",
      "The Commonwealth\n",
      "\n",
      "   (Royalists considered Charles II to be de jure King during this time)\n",
      "\n",
      "                 Oliver Cromwell, Lord Protector (1653-1658)\n",
      "\n",
      "                Richard Cromwell, Lord Protector (1658-1659)\n",
      "\n",
      "   NOTE: In 1707 the monarchs of England and Scotland became the monarchs\n",
      "   of Great Britain - for continuation see Gallery of the Kings and Queens\n",
      "   of Great Britain\n",
      "   Retrieved from \"\n",
      "   http://en.wikipedia.org/wiki/Gallery_of_the_Kings_and_Queens_of_England\n",
      "   \"\n",
      "   This reference article is mainly selected from the English Wikipedia\n",
      "   with only minor checks and changes (see www.wikipedia.org for details\n",
      "   of authors and sources) and is available under the GNU Free\n",
      "   Documentation License. See also our Disclaimer.\n",
      "\n"
     ]
    }
   ],
   "source": [
    "print(Gallery_of_the_Kings_and_Queens_of_England)"
   ]
  },
  {
   "cell_type": "code",
   "execution_count": 13,
   "metadata": {},
   "outputs": [
    {
     "name": "stdout",
     "output_type": "stream",
     "text": [
      "                             [1x1.gif] [1x1.gif]\n",
      "\n",
      "\n",
      "   [Direct_Debit.gif]\n",
      "\n",
      "Sponsor a Child with SOS Children - Direct Debit\n",
      "\n",
      "\n",
      "   Thank you for taking a moment to complete this simple form, and for\n",
      "   helping us help orphaned and abandoned children around the world.\n",
      "\n",
      "   The minimum donation for child sponsorship is £20/month. If you cannot\n",
      "   afford this, please consider making a smaller regular donation. Use one\n",
      "   of these links: you can become an SOS friend for a minimum of £10 per\n",
      "   month or make a regular donation for a minimum of £5 per month.\n",
      "\n",
      "   All the normal Direct Debit safeguards and guarantees apply. No changes\n",
      "   in the amount, date or frequency to be debited can be made without\n",
      "   notifying you at least 10 working days in advance of your accounts\n",
      "   being debited. In the event of any error, you are entitled to an\n",
      "   immediate refund from your Bank or Building Society. You have the right\n",
      "   to cancel a Direct Debit Instruction at any time simply by writing to\n",
      "   your Bank or Building Society, with a copy to us.\n",
      "\n",
      "   Any questions?\n",
      "   If you have any queries, or would like to make a Direct Debit Donation\n",
      "   over the phone, please phone us on 01223 365589 or write to SOS\n",
      "   Children, St Andrew's House, 59 St Andrew's Street, Cambridge CB2 3BZ\n",
      "   Your Name and Address\n",
      "   Title: __________\n",
      "   First Name: __________________________________________________\n",
      "   Surname: __________________________________________________\n",
      "   Address: __________________________________________________\n",
      "   __________________________________________________\n",
      "   __________________________________________________\n",
      "   Town, City or County:\n",
      "   __________________________________________________\n",
      "   Postcode: _________________________\n",
      "   Country: [United Kingdom......................]\n",
      "   You don't have to enter your email or phone, but we recommend you fill\n",
      "   in at least one so we can contact you quickly if there are any\n",
      "   problems.\n",
      "   Email: __________________________________________________\n",
      "   Phone: _________________________\n",
      "   Mailing list: [Newsletter only (3 per year).......]\n",
      "   We will not sell or swap your personal details with any other groups.\n",
      "   Payment Details\n",
      "   Donation in UK Pounds: £\n",
      "   (min. £20/month) _________________________\n",
      "   Frequency: [Every month...]\n",
      "   Date of first payment: [24] [May......] [2007]\n",
      "   Special Instructions:\n",
      "   please enter any information about how you would like your donation to\n",
      "   be used\n",
      "   ___________________________________________\n",
      "   ___________________________________________\n",
      "   ___________________________________________\n",
      "   ___________________________________________\n",
      "   ___________________________________________\n",
      "   gift aid it\n",
      "   [_] If you are a UK Tax Payer we can reclaim 28p from the government\n",
      "       for every £1 you've donated at no extra cost to you. Tick this box to\n",
      "       declare that you are gift aiding this donation. You qualify for Gift\n",
      "       Aid as long as you pay at least 28% of your gift value in income tax or\n",
      "       capital gains tax.\n",
      "   Your bank details:\n",
      "   Account Name: __________________________________________________\n",
      "   Account Number: _________________________\n",
      "   Sort Code: _________________________\n",
      "   Bank Name: __________________________________________________\n",
      "   Branch Address: __________________________________________________\n",
      "   __________________________________________________\n",
      "   __________________________________________________\n",
      "   Town or City: __________________________________________________\n",
      "   Postcode: _________________________\n",
      "   Authorise Direct Debit\n",
      "\n",
      "                           SOS Children's Villages\n",
      "             Picture of card to be sent - child with \"thank you\"\n",
      "                  Secured with Comodo EliteSSL Certificate\n",
      "                            www.enterprisessl.com\n",
      "\n",
      "   SOS Children refers to the worldwide work of SOS-KDI and is a trading\n",
      "   name for SOS Children's Villages UK\n",
      "\n",
      "   For further information about our work please see our children charity\n",
      "   web site or sponsoring a child.\n",
      "\n",
      "   Charity Commission registered number 1069204\n",
      "\n",
      "   [1x1.gif] [1x1.gif]\n",
      "\n"
     ]
    }
   ],
   "source": [
    "print(Sponsorship_Directdebit)"
   ]
  },
  {
   "cell_type": "code",
   "execution_count": 14,
   "metadata": {},
   "outputs": [
    {
     "name": "stdout",
     "output_type": "stream",
     "text": [
      "                             [1x1.gif] [1x1.gif]\n",
      "\n",
      "\n",
      "Buy WOW wrist bands\n",
      "to support SOS Children\n",
      "\n",
      "\n",
      "   You can purchase WOW Wristbands from this page.\n",
      "   You will need a debit or credit card to pay for them.\n",
      "   If you don't have a card, please place your order by post.\n",
      "\n",
      "   The wrist bands cost £1 each.\n",
      "\n",
      "   Postage is 50p for up to 5 bands, £1 for 6 to 20 bands,\n",
      "   £1.50 for 21 to 50 bands and £2 for 51 to 1000 bands.\n",
      "   Number of wrist bands: _____\n",
      "   Proceed to Purchase\n",
      "\n",
      "                           SOS Children's Villages\n",
      "                            WOW wrist band detail\n",
      "\n",
      "   SOS Children refers to the worldwide work of SOS-KDI and is a trading\n",
      "   name for SOS Children's Villages UK\n",
      "\n",
      "   For further information about our work please see our children charity\n",
      "   web site or sponsoring a child.\n",
      "\n",
      "   Charity Commission registered number 1069204\n",
      "\n",
      "   [1x1.gif] [1x1.gif]\n",
      "\n"
     ]
    }
   ],
   "source": [
    "print(Wowpurchase)"
   ]
  },
  {
   "cell_type": "markdown",
   "metadata": {},
   "source": [
    "Interestingly, it seems like the three articles DirectDebit, SponsorshipDebit and Wowpurchase are not articles but foundraise forms. It is probable that since this kind of page does not respect Wikipedia's policy, they were removed from the plateform. Wikispeedia players could however go to these pages and click on their links if they wanted to. Lastly, it is not sure why Gallery_of_the_Kings_and_Queens_of_England was removed from wikipedia, it is probable that this subject was restructured into several pages for each of the royal family, which is why we cannot find one single equivalent page in 2024.\n",
    "\n",
    "For the rest of our study, we will let these four article in 2007 without matching article in 2024. However, we will probably have to remove them from some visualizations when matching dimensions between the two datasets will be needed."
   ]
  },
  {
   "cell_type": "markdown",
   "metadata": {},
   "source": [
    "### Re-import 2024 articles\n",
    "As seen in the previous part, we were able to identify seven articles present in 2007 that we missed when importing their equivalent in 2024 because of a name change. In scrapping.ipynb we rescrapped all 2024 articles with the seven additional ones, with their actual name. Let's import this new dataset and use it for the rest of our analysis."
   ]
  },
  {
   "cell_type": "code",
   "execution_count": 15,
   "metadata": {},
   "outputs": [],
   "source": [
    "# Re-loading 2024 data from scrapped wikispeedia (see scrapping.ipynb)\n",
    "article_names_2024 = pd.read_csv(DATA_2024_PATH + 'articles2024.csv', skiprows=2, comment='#', names=['article_2024']) #skips first row\n",
    "links_2024 = pd.read_csv(DATA_2024_PATH + 'links2024.csv', skiprows=2, comment='#', names=['linkSource_2024', 'linkTarget_2024']) #skips first row)\n"
   ]
  },
  {
   "cell_type": "code",
   "execution_count": 16,
   "metadata": {},
   "outputs": [],
   "source": [
    "# Reformating the names of all new names to the old names\n",
    "old_names = [\"Athletics_%28track_and_field%29\",\n",
    "             \"Bionicle__Mask_of_Light\",\n",
    "             \"Directdebit\",\n",
    "             \"Newshounds\",\n",
    "             \"Star_Wars_Episode_IV__A_New_Hope\",\n",
    "             \"Wikipedia_Text_of_the_GNU_Free_Documentation_License\",\n",
    "             \"X-Men__The_Last_Stand\"]\n",
    "\n",
    "new_names = [\"Track_and_field\",\n",
    "            \"Bionicle:_Mask_of_Light\",\n",
    "            \"Direct_debit\",\n",
    "            \"News_Hounds\",\n",
    "            \"Star_Wars_(film)\",\n",
    "            \"Wikipedia:Text_of_the_GNU_Free_Documentation_License\",\n",
    "            \"X-Men:_The_Last_Stand\"]\n",
    "\n",
    "links_2024 = links_2024.replace(to_replace = new_names, value = old_names)"
   ]
  },
  {
   "cell_type": "code",
   "execution_count": 17,
   "metadata": {},
   "outputs": [
    {
     "data": {
      "text/html": [
       "<div>\n",
       "<style scoped>\n",
       "    .dataframe tbody tr th:only-of-type {\n",
       "        vertical-align: middle;\n",
       "    }\n",
       "\n",
       "    .dataframe tbody tr th {\n",
       "        vertical-align: top;\n",
       "    }\n",
       "\n",
       "    .dataframe thead th {\n",
       "        text-align: right;\n",
       "    }\n",
       "</style>\n",
       "<table border=\"1\" class=\"dataframe\">\n",
       "  <thead>\n",
       "    <tr style=\"text-align: right;\">\n",
       "      <th></th>\n",
       "      <th>linkSource_2024</th>\n",
       "      <th>linkTarget_2024</th>\n",
       "    </tr>\n",
       "  </thead>\n",
       "  <tbody>\n",
       "    <tr>\n",
       "      <th>0</th>\n",
       "      <td>%C3%81ed%C3%A1n_mac_Gabr%C3%A1in</td>\n",
       "      <td>Columba</td>\n",
       "    </tr>\n",
       "    <tr>\n",
       "      <th>1</th>\n",
       "      <td>%C3%81ed%C3%A1n_mac_Gabr%C3%A1in</td>\n",
       "      <td>Orkney</td>\n",
       "    </tr>\n",
       "    <tr>\n",
       "      <th>2</th>\n",
       "      <td>%C3%81ed%C3%A1n_mac_Gabr%C3%A1in</td>\n",
       "      <td>Isle_of_Man</td>\n",
       "    </tr>\n",
       "    <tr>\n",
       "      <th>3</th>\n",
       "      <td>%C3%81ed%C3%A1n_mac_Gabr%C3%A1in</td>\n",
       "      <td>Bede</td>\n",
       "    </tr>\n",
       "    <tr>\n",
       "      <th>4</th>\n",
       "      <td>%C3%81ed%C3%A1n_mac_Gabr%C3%A1in</td>\n",
       "      <td>Genealogy</td>\n",
       "    </tr>\n",
       "    <tr>\n",
       "      <th>...</th>\n",
       "      <td>...</td>\n",
       "      <td>...</td>\n",
       "    </tr>\n",
       "    <tr>\n",
       "      <th>224048</th>\n",
       "      <td>Zuid-Gelders</td>\n",
       "      <td>Afrikaans</td>\n",
       "    </tr>\n",
       "    <tr>\n",
       "      <th>224049</th>\n",
       "      <td>Zuid-Gelders</td>\n",
       "      <td>West_Flemish</td>\n",
       "    </tr>\n",
       "    <tr>\n",
       "      <th>224050</th>\n",
       "      <td>Zuid-Gelders</td>\n",
       "      <td>East_Flemish</td>\n",
       "    </tr>\n",
       "    <tr>\n",
       "      <th>224051</th>\n",
       "      <td>Zuid-Gelders</td>\n",
       "      <td>German_language</td>\n",
       "    </tr>\n",
       "    <tr>\n",
       "      <th>224052</th>\n",
       "      <td>Zuid-Gelders</td>\n",
       "      <td>French_language</td>\n",
       "    </tr>\n",
       "  </tbody>\n",
       "</table>\n",
       "<p>224053 rows × 2 columns</p>\n",
       "</div>"
      ],
      "text/plain": [
       "                         linkSource_2024  linkTarget_2024\n",
       "0       %C3%81ed%C3%A1n_mac_Gabr%C3%A1in          Columba\n",
       "1       %C3%81ed%C3%A1n_mac_Gabr%C3%A1in           Orkney\n",
       "2       %C3%81ed%C3%A1n_mac_Gabr%C3%A1in      Isle_of_Man\n",
       "3       %C3%81ed%C3%A1n_mac_Gabr%C3%A1in             Bede\n",
       "4       %C3%81ed%C3%A1n_mac_Gabr%C3%A1in        Genealogy\n",
       "...                                  ...              ...\n",
       "224048                      Zuid-Gelders        Afrikaans\n",
       "224049                      Zuid-Gelders     West_Flemish\n",
       "224050                      Zuid-Gelders     East_Flemish\n",
       "224051                      Zuid-Gelders  German_language\n",
       "224052                      Zuid-Gelders  French_language\n",
       "\n",
       "[224053 rows x 2 columns]"
      ]
     },
     "execution_count": 17,
     "metadata": {},
     "output_type": "execute_result"
    }
   ],
   "source": [
    "links_2024"
   ]
  },
  {
   "cell_type": "code",
   "execution_count": 18,
   "metadata": {},
   "outputs": [],
   "source": [
    "links_2024 = links_2024.drop_duplicates()"
   ]
  },
  {
   "cell_type": "code",
   "execution_count": 19,
   "metadata": {},
   "outputs": [
    {
     "data": {
      "text/html": [
       "<div>\n",
       "<style scoped>\n",
       "    .dataframe tbody tr th:only-of-type {\n",
       "        vertical-align: middle;\n",
       "    }\n",
       "\n",
       "    .dataframe tbody tr th {\n",
       "        vertical-align: top;\n",
       "    }\n",
       "\n",
       "    .dataframe thead th {\n",
       "        text-align: right;\n",
       "    }\n",
       "</style>\n",
       "<table border=\"1\" class=\"dataframe\">\n",
       "  <thead>\n",
       "    <tr style=\"text-align: right;\">\n",
       "      <th></th>\n",
       "      <th>article_2024</th>\n",
       "    </tr>\n",
       "  </thead>\n",
       "  <tbody>\n",
       "    <tr>\n",
       "      <th>0</th>\n",
       "      <td>%C3%81ed%C3%A1n_mac_Gabr%C3%A1in</td>\n",
       "    </tr>\n",
       "    <tr>\n",
       "      <th>1</th>\n",
       "      <td>%C3%85land</td>\n",
       "    </tr>\n",
       "    <tr>\n",
       "      <th>2</th>\n",
       "      <td>%C3%89douard_Manet</td>\n",
       "    </tr>\n",
       "    <tr>\n",
       "      <th>3</th>\n",
       "      <td>%C3%89ire</td>\n",
       "    </tr>\n",
       "    <tr>\n",
       "      <th>4</th>\n",
       "      <td>%C3%93engus_I_of_the_Picts</td>\n",
       "    </tr>\n",
       "    <tr>\n",
       "      <th>...</th>\n",
       "      <td>...</td>\n",
       "    </tr>\n",
       "    <tr>\n",
       "      <th>4599</th>\n",
       "      <td>Zionism</td>\n",
       "    </tr>\n",
       "    <tr>\n",
       "      <th>4600</th>\n",
       "      <td>Zirconium</td>\n",
       "    </tr>\n",
       "    <tr>\n",
       "      <th>4601</th>\n",
       "      <td>Zoroaster</td>\n",
       "    </tr>\n",
       "    <tr>\n",
       "      <th>4602</th>\n",
       "      <td>Zuid-Gelders</td>\n",
       "    </tr>\n",
       "    <tr>\n",
       "      <th>4603</th>\n",
       "      <td>Zulu</td>\n",
       "    </tr>\n",
       "  </tbody>\n",
       "</table>\n",
       "<p>4604 rows × 1 columns</p>\n",
       "</div>"
      ],
      "text/plain": [
       "                          article_2024\n",
       "0     %C3%81ed%C3%A1n_mac_Gabr%C3%A1in\n",
       "1                           %C3%85land\n",
       "2                   %C3%89douard_Manet\n",
       "3                            %C3%89ire\n",
       "4           %C3%93engus_I_of_the_Picts\n",
       "...                                ...\n",
       "4599                           Zionism\n",
       "4600                         Zirconium\n",
       "4601                         Zoroaster\n",
       "4602                      Zuid-Gelders\n",
       "4603                              Zulu\n",
       "\n",
       "[4604 rows x 1 columns]"
      ]
     },
     "execution_count": 19,
     "metadata": {},
     "output_type": "execute_result"
    }
   ],
   "source": [
    "article_names_2024"
   ]
  },
  {
   "cell_type": "code",
   "execution_count": 20,
   "metadata": {},
   "outputs": [
    {
     "data": {
      "text/html": [
       "<div>\n",
       "<style scoped>\n",
       "    .dataframe tbody tr th:only-of-type {\n",
       "        vertical-align: middle;\n",
       "    }\n",
       "\n",
       "    .dataframe tbody tr th {\n",
       "        vertical-align: top;\n",
       "    }\n",
       "\n",
       "    .dataframe thead th {\n",
       "        text-align: right;\n",
       "    }\n",
       "</style>\n",
       "<table border=\"1\" class=\"dataframe\">\n",
       "  <thead>\n",
       "    <tr style=\"text-align: right;\">\n",
       "      <th></th>\n",
       "      <th>linkSource_2024</th>\n",
       "      <th>linkTarget_2024</th>\n",
       "    </tr>\n",
       "  </thead>\n",
       "  <tbody>\n",
       "    <tr>\n",
       "      <th>0</th>\n",
       "      <td>%C3%81ed%C3%A1n_mac_Gabr%C3%A1in</td>\n",
       "      <td>Columba</td>\n",
       "    </tr>\n",
       "    <tr>\n",
       "      <th>1</th>\n",
       "      <td>%C3%81ed%C3%A1n_mac_Gabr%C3%A1in</td>\n",
       "      <td>Orkney</td>\n",
       "    </tr>\n",
       "    <tr>\n",
       "      <th>2</th>\n",
       "      <td>%C3%81ed%C3%A1n_mac_Gabr%C3%A1in</td>\n",
       "      <td>Isle_of_Man</td>\n",
       "    </tr>\n",
       "    <tr>\n",
       "      <th>3</th>\n",
       "      <td>%C3%81ed%C3%A1n_mac_Gabr%C3%A1in</td>\n",
       "      <td>Bede</td>\n",
       "    </tr>\n",
       "    <tr>\n",
       "      <th>4</th>\n",
       "      <td>%C3%81ed%C3%A1n_mac_Gabr%C3%A1in</td>\n",
       "      <td>Genealogy</td>\n",
       "    </tr>\n",
       "    <tr>\n",
       "      <th>...</th>\n",
       "      <td>...</td>\n",
       "      <td>...</td>\n",
       "    </tr>\n",
       "    <tr>\n",
       "      <th>224048</th>\n",
       "      <td>Zuid-Gelders</td>\n",
       "      <td>Afrikaans</td>\n",
       "    </tr>\n",
       "    <tr>\n",
       "      <th>224049</th>\n",
       "      <td>Zuid-Gelders</td>\n",
       "      <td>West_Flemish</td>\n",
       "    </tr>\n",
       "    <tr>\n",
       "      <th>224050</th>\n",
       "      <td>Zuid-Gelders</td>\n",
       "      <td>East_Flemish</td>\n",
       "    </tr>\n",
       "    <tr>\n",
       "      <th>224051</th>\n",
       "      <td>Zuid-Gelders</td>\n",
       "      <td>German_language</td>\n",
       "    </tr>\n",
       "    <tr>\n",
       "      <th>224052</th>\n",
       "      <td>Zuid-Gelders</td>\n",
       "      <td>French_language</td>\n",
       "    </tr>\n",
       "  </tbody>\n",
       "</table>\n",
       "<p>224053 rows × 2 columns</p>\n",
       "</div>"
      ],
      "text/plain": [
       "                         linkSource_2024  linkTarget_2024\n",
       "0       %C3%81ed%C3%A1n_mac_Gabr%C3%A1in          Columba\n",
       "1       %C3%81ed%C3%A1n_mac_Gabr%C3%A1in           Orkney\n",
       "2       %C3%81ed%C3%A1n_mac_Gabr%C3%A1in      Isle_of_Man\n",
       "3       %C3%81ed%C3%A1n_mac_Gabr%C3%A1in             Bede\n",
       "4       %C3%81ed%C3%A1n_mac_Gabr%C3%A1in        Genealogy\n",
       "...                                  ...              ...\n",
       "224048                      Zuid-Gelders        Afrikaans\n",
       "224049                      Zuid-Gelders     West_Flemish\n",
       "224050                      Zuid-Gelders     East_Flemish\n",
       "224051                      Zuid-Gelders  German_language\n",
       "224052                      Zuid-Gelders  French_language\n",
       "\n",
       "[224053 rows x 2 columns]"
      ]
     },
     "execution_count": 20,
     "metadata": {},
     "output_type": "execute_result"
    }
   ],
   "source": [
    "links_2024"
   ]
  },
  {
   "cell_type": "code",
   "execution_count": 21,
   "metadata": {},
   "outputs": [
    {
     "data": {
      "text/html": [
       "<div>\n",
       "<style scoped>\n",
       "    .dataframe tbody tr th:only-of-type {\n",
       "        vertical-align: middle;\n",
       "    }\n",
       "\n",
       "    .dataframe tbody tr th {\n",
       "        vertical-align: top;\n",
       "    }\n",
       "\n",
       "    .dataframe thead th {\n",
       "        text-align: right;\n",
       "    }\n",
       "</style>\n",
       "<table border=\"1\" class=\"dataframe\">\n",
       "  <thead>\n",
       "    <tr style=\"text-align: right;\">\n",
       "      <th></th>\n",
       "      <th>linkSource_2024</th>\n",
       "      <th>linkTarget_2024</th>\n",
       "    </tr>\n",
       "  </thead>\n",
       "  <tbody>\n",
       "    <tr>\n",
       "      <th>0</th>\n",
       "      <td>%C3%81ed%C3%A1n_mac_Gabr%C3%A1in</td>\n",
       "      <td>Columba</td>\n",
       "    </tr>\n",
       "    <tr>\n",
       "      <th>1</th>\n",
       "      <td>%C3%81ed%C3%A1n_mac_Gabr%C3%A1in</td>\n",
       "      <td>Orkney</td>\n",
       "    </tr>\n",
       "    <tr>\n",
       "      <th>2</th>\n",
       "      <td>%C3%81ed%C3%A1n_mac_Gabr%C3%A1in</td>\n",
       "      <td>Isle_of_Man</td>\n",
       "    </tr>\n",
       "    <tr>\n",
       "      <th>3</th>\n",
       "      <td>%C3%81ed%C3%A1n_mac_Gabr%C3%A1in</td>\n",
       "      <td>Bede</td>\n",
       "    </tr>\n",
       "    <tr>\n",
       "      <th>4</th>\n",
       "      <td>%C3%81ed%C3%A1n_mac_Gabr%C3%A1in</td>\n",
       "      <td>Genealogy</td>\n",
       "    </tr>\n",
       "    <tr>\n",
       "      <th>...</th>\n",
       "      <td>...</td>\n",
       "      <td>...</td>\n",
       "    </tr>\n",
       "    <tr>\n",
       "      <th>224048</th>\n",
       "      <td>Zuid-Gelders</td>\n",
       "      <td>Afrikaans</td>\n",
       "    </tr>\n",
       "    <tr>\n",
       "      <th>224049</th>\n",
       "      <td>Zuid-Gelders</td>\n",
       "      <td>West_Flemish</td>\n",
       "    </tr>\n",
       "    <tr>\n",
       "      <th>224050</th>\n",
       "      <td>Zuid-Gelders</td>\n",
       "      <td>East_Flemish</td>\n",
       "    </tr>\n",
       "    <tr>\n",
       "      <th>224051</th>\n",
       "      <td>Zuid-Gelders</td>\n",
       "      <td>German_language</td>\n",
       "    </tr>\n",
       "    <tr>\n",
       "      <th>224052</th>\n",
       "      <td>Zuid-Gelders</td>\n",
       "      <td>French_language</td>\n",
       "    </tr>\n",
       "  </tbody>\n",
       "</table>\n",
       "<p>224053 rows × 2 columns</p>\n",
       "</div>"
      ],
      "text/plain": [
       "                         linkSource_2024  linkTarget_2024\n",
       "0       %C3%81ed%C3%A1n_mac_Gabr%C3%A1in          Columba\n",
       "1       %C3%81ed%C3%A1n_mac_Gabr%C3%A1in           Orkney\n",
       "2       %C3%81ed%C3%A1n_mac_Gabr%C3%A1in      Isle_of_Man\n",
       "3       %C3%81ed%C3%A1n_mac_Gabr%C3%A1in             Bede\n",
       "4       %C3%81ed%C3%A1n_mac_Gabr%C3%A1in        Genealogy\n",
       "...                                  ...              ...\n",
       "224048                      Zuid-Gelders        Afrikaans\n",
       "224049                      Zuid-Gelders     West_Flemish\n",
       "224050                      Zuid-Gelders     East_Flemish\n",
       "224051                      Zuid-Gelders  German_language\n",
       "224052                      Zuid-Gelders  French_language\n",
       "\n",
       "[224053 rows x 2 columns]"
      ]
     },
     "execution_count": 21,
     "metadata": {},
     "output_type": "execute_result"
    }
   ],
   "source": [
    "links_2024"
   ]
  },
  {
   "cell_type": "code",
   "execution_count": 22,
   "metadata": {},
   "outputs": [],
   "source": [
    "os.chdir(os.getcwd() + '/..')\n",
    "import src.scripts.scrapper_and_writters as scr\n",
    "\n",
    "# uncomment to overwrite the link2024 file\n",
    "#scr.export_df_links_to_csv(links_2024, \"data/2024/links2024.csv\")"
   ]
  },
  {
   "cell_type": "markdown",
   "metadata": {},
   "source": [
    "## Inspecting the links imported"
   ]
  },
  {
   "cell_type": "code",
   "execution_count": 23,
   "metadata": {},
   "outputs": [],
   "source": [
    "os.chdir('/Users/eglantinevialaneix/Desktop/ADA/Project/ada-2024-project-outlier-1')"
   ]
  },
  {
   "cell_type": "code",
   "execution_count": 24,
   "metadata": {},
   "outputs": [
    {
     "data": {
      "text/plain": [
       "'/Users/eglantinevialaneix/Desktop/ADA/Project/ada-2024-project-outlier-1'"
      ]
     },
     "execution_count": 24,
     "metadata": {},
     "output_type": "execute_result"
    }
   ],
   "source": [
    "os.getcwd()"
   ]
  },
  {
   "cell_type": "code",
   "execution_count": 25,
   "metadata": {},
   "outputs": [
    {
     "data": {
      "text/plain": [
       "'../data/2007/'"
      ]
     },
     "execution_count": 25,
     "metadata": {},
     "output_type": "execute_result"
    }
   ],
   "source": [
    "DATA_2007_PATH"
   ]
  },
  {
   "cell_type": "code",
   "execution_count": null,
   "metadata": {},
   "outputs": [],
   "source": [
    "from src.scripts.loading_data import *\n",
    "\n",
    "# importing articles names and links\n",
    "articles2007, links2007 = loading_articles_links('2007')\n",
    "articles2024, links2024 = loading_articles_links('2024')\n",
    "\n",
    "DATA_2007_PATH = 'data/2007/'\n",
    "articles2007 = pd.read_csv(os.path.join(DATA_2007_PATH , 'articles.tsv'), sep='\\t', comment='#', names=['article_2007'])\n",
    "links2007 = pd.read_csv(os.path.join(DATA_2007_PATH, 'links.tsv'), sep='\\t', comment='#', names=['linkSource', 'linkTarget'] )\n",
    "DATA_2024_PATH = 'data/2024/'\n",
    "articles2024 = pd.read_csv(os.path.join(DATA_2007_PATH, 'ambig_articles.tsv'), sep='\\t', comment='#', names=['article_2024']) # TODO: seems like articles2024.article_2024 still contains the new names for x-men:_the_last_stand and maybe other articles >:()\n",
    "links2024 = pd.read_csv(os.path.join(DATA_2024_PATH, 'ambig_links2024.csv'), skiprows=1, names=['linkSource', 'linkTarget'])"
   ]
  },
  {
   "cell_type": "code",
   "execution_count": 27,
   "metadata": {},
   "outputs": [
    {
     "name": "stdout",
     "output_type": "stream",
     "text": [
      "In 2007, we find 4587 articles that contain at least one link.\n",
      "In 2024, we find 4551 articles that contain at least one link.\n"
     ]
    }
   ],
   "source": [
    "source_articles2007 = set(links2007.linkSource.drop_duplicates().reset_index(drop = True))\n",
    "source_articles2024 = set(links2024.linkSource.drop_duplicates().reset_index(drop = True))\n",
    "\n",
    "print(f\"In 2007, we find {len(source_articles2007)} articles that contain at least one link.\")\n",
    "print(f\"In 2024, we find {len(source_articles2024)} articles that contain at least one link.\")"
   ]
  },
  {
   "cell_type": "code",
   "execution_count": 28,
   "metadata": {},
   "outputs": [
    {
     "data": {
      "text/html": [
       "<div>\n",
       "<style scoped>\n",
       "    .dataframe tbody tr th:only-of-type {\n",
       "        vertical-align: middle;\n",
       "    }\n",
       "\n",
       "    .dataframe tbody tr th {\n",
       "        vertical-align: top;\n",
       "    }\n",
       "\n",
       "    .dataframe thead th {\n",
       "        text-align: right;\n",
       "    }\n",
       "</style>\n",
       "<table border=\"1\" class=\"dataframe\">\n",
       "  <thead>\n",
       "    <tr style=\"text-align: right;\">\n",
       "      <th></th>\n",
       "      <th>article_2007</th>\n",
       "    </tr>\n",
       "  </thead>\n",
       "  <tbody>\n",
       "    <tr>\n",
       "      <th>0</th>\n",
       "      <td>%C3%81ed%C3%A1n_mac_Gabr%C3%A1in</td>\n",
       "    </tr>\n",
       "    <tr>\n",
       "      <th>1</th>\n",
       "      <td>%C3%85land</td>\n",
       "    </tr>\n",
       "    <tr>\n",
       "      <th>2</th>\n",
       "      <td>%C3%89douard_Manet</td>\n",
       "    </tr>\n",
       "    <tr>\n",
       "      <th>3</th>\n",
       "      <td>%C3%89ire</td>\n",
       "    </tr>\n",
       "    <tr>\n",
       "      <th>4</th>\n",
       "      <td>%C3%93engus_I_of_the_Picts</td>\n",
       "    </tr>\n",
       "    <tr>\n",
       "      <th>...</th>\n",
       "      <td>...</td>\n",
       "    </tr>\n",
       "    <tr>\n",
       "      <th>4599</th>\n",
       "      <td>Zionism</td>\n",
       "    </tr>\n",
       "    <tr>\n",
       "      <th>4600</th>\n",
       "      <td>Zirconium</td>\n",
       "    </tr>\n",
       "    <tr>\n",
       "      <th>4601</th>\n",
       "      <td>Zoroaster</td>\n",
       "    </tr>\n",
       "    <tr>\n",
       "      <th>4602</th>\n",
       "      <td>Zuid-Gelders</td>\n",
       "    </tr>\n",
       "    <tr>\n",
       "      <th>4603</th>\n",
       "      <td>Zulu</td>\n",
       "    </tr>\n",
       "  </tbody>\n",
       "</table>\n",
       "<p>4604 rows × 1 columns</p>\n",
       "</div>"
      ],
      "text/plain": [
       "                          article_2007\n",
       "0     %C3%81ed%C3%A1n_mac_Gabr%C3%A1in\n",
       "1                           %C3%85land\n",
       "2                   %C3%89douard_Manet\n",
       "3                            %C3%89ire\n",
       "4           %C3%93engus_I_of_the_Picts\n",
       "...                                ...\n",
       "4599                           Zionism\n",
       "4600                         Zirconium\n",
       "4601                         Zoroaster\n",
       "4602                      Zuid-Gelders\n",
       "4603                              Zulu\n",
       "\n",
       "[4604 rows x 1 columns]"
      ]
     },
     "execution_count": 28,
     "metadata": {},
     "output_type": "execute_result"
    }
   ],
   "source": [
    "articles2007"
   ]
  },
  {
   "cell_type": "code",
   "execution_count": 29,
   "metadata": {},
   "outputs": [
    {
     "data": {
      "text/html": [
       "<div>\n",
       "<style scoped>\n",
       "    .dataframe tbody tr th:only-of-type {\n",
       "        vertical-align: middle;\n",
       "    }\n",
       "\n",
       "    .dataframe tbody tr th {\n",
       "        vertical-align: top;\n",
       "    }\n",
       "\n",
       "    .dataframe thead th {\n",
       "        text-align: right;\n",
       "    }\n",
       "</style>\n",
       "<table border=\"1\" class=\"dataframe\">\n",
       "  <thead>\n",
       "    <tr style=\"text-align: right;\">\n",
       "      <th></th>\n",
       "      <th>article_2024</th>\n",
       "    </tr>\n",
       "  </thead>\n",
       "  <tbody>\n",
       "    <tr>\n",
       "      <th>0</th>\n",
       "      <td>%C3%81ed%C3%A1n_mac_Gabr%C3%A1in</td>\n",
       "    </tr>\n",
       "    <tr>\n",
       "      <th>1</th>\n",
       "      <td>%C3%85land</td>\n",
       "    </tr>\n",
       "    <tr>\n",
       "      <th>2</th>\n",
       "      <td>%C3%89douard_Manet</td>\n",
       "    </tr>\n",
       "    <tr>\n",
       "      <th>3</th>\n",
       "      <td>%C3%89ire</td>\n",
       "    </tr>\n",
       "    <tr>\n",
       "      <th>4</th>\n",
       "      <td>%C3%93engus_I_of_the_Picts</td>\n",
       "    </tr>\n",
       "    <tr>\n",
       "      <th>...</th>\n",
       "      <td>...</td>\n",
       "    </tr>\n",
       "    <tr>\n",
       "      <th>4599</th>\n",
       "      <td>Zionism</td>\n",
       "    </tr>\n",
       "    <tr>\n",
       "      <th>4600</th>\n",
       "      <td>Zirconium</td>\n",
       "    </tr>\n",
       "    <tr>\n",
       "      <th>4601</th>\n",
       "      <td>Zoroaster</td>\n",
       "    </tr>\n",
       "    <tr>\n",
       "      <th>4602</th>\n",
       "      <td>Zuid-Gelders</td>\n",
       "    </tr>\n",
       "    <tr>\n",
       "      <th>4603</th>\n",
       "      <td>Zulu</td>\n",
       "    </tr>\n",
       "  </tbody>\n",
       "</table>\n",
       "<p>4604 rows × 1 columns</p>\n",
       "</div>"
      ],
      "text/plain": [
       "                          article_2024\n",
       "0     %C3%81ed%C3%A1n_mac_Gabr%C3%A1in\n",
       "1                           %C3%85land\n",
       "2                   %C3%89douard_Manet\n",
       "3                            %C3%89ire\n",
       "4           %C3%93engus_I_of_the_Picts\n",
       "...                                ...\n",
       "4599                           Zionism\n",
       "4600                         Zirconium\n",
       "4601                         Zoroaster\n",
       "4602                      Zuid-Gelders\n",
       "4603                              Zulu\n",
       "\n",
       "[4604 rows x 1 columns]"
      ]
     },
     "execution_count": 29,
     "metadata": {},
     "output_type": "execute_result"
    }
   ],
   "source": [
    "articles2024\n"
   ]
  },
  {
   "cell_type": "code",
   "execution_count": 30,
   "metadata": {},
   "outputs": [
    {
     "name": "stdout",
     "output_type": "stream",
     "text": [
      "In 2007, 17 contain no links.\n",
      "In 2024, 53 contain no links.\n"
     ]
    }
   ],
   "source": [
    "empty_source_2007 = set(articles2007.article_2007) - source_articles2007\n",
    "empty_source_2024 = set(articles2007.article_2007) - source_articles2024 #TODO seems like articles2024.article_2024 still contains the new names for x-men:_the_last_stand and maybe other articles >:()\n",
    "\n",
    "print(f\"In 2007, {len(empty_source_2007)} contain no links.\")\n",
    "print(f\"In 2024, {len(empty_source_2024)} contain no links.\")"
   ]
  },
  {
   "cell_type": "code",
   "execution_count": 31,
   "metadata": {},
   "outputs": [
    {
     "name": "stdout",
     "output_type": "stream",
     "text": [
      "{'Underground_%28stories%29', 'Wowpurchase', 'Private_Peaceful', 'Directdebit', 'Lone_Wolf_%28gamebooks%29', 'Color_Graphics_Adapter', 'Klinefelter%27s_syndrome', 'Wikipedia_Text_of_the_GNU_Free_Documentation_License', 'Douglas_DC-4', 'Vacutainer', 'Suikinkutsu', 'Donation', 'Duchenne_muscular_dystrophy', 'Schatzki_ring', 'Osteomalacia', 'Badugi', 'Local_community'}\n",
      "{'Gallery_of_the_Kings_and_Queens_of_England', 'Sequoia', 'Prehistoric_man', 'David_Heymann', 'Scent_of_a_Woman', 'Mark_Webber', 'Tripoli', 'Swift', 'Margin_of_error', 'Bantu', 'Garage_%28dance_music%29', 'Defaka', 'William_Gilbert', 'Suikinkutsu', 'Lost_%28TV_series%29', 'Marc_Pugh', 'Sandur', 'Whitethroat', 'Red_Panda', 'Badugi', 'Dark_Ages', 'Firecrest', 'Boston_RFC', 'Pochard', 'Wowpurchase', 'Blackbird', 'Friend_Directdebit', 'Terik', 'Aggregator', 'Tooth_development', 'Lake_Albert', 'Sparrowhawk', 'Forth', 'Woodruff', 'Serenity_%28film%29', 'Boa', 'Bj%C3%B8rn%C3%B8ya', 'Herring_Gull', 'Brabantian', 'Underground_%28stories%29', 'Battle_of_Amiens', 'Newmarket', 'Weymouth', 'Industry', 'Market', 'Doom', 'Recorder', 'Wikipedia_Text_of_the_GNU_Free_Documentation_License', 'Sponsorship_Directdebit', 'Nagorno-Karabakh_War', 'Zulu', 'Anne_of_Great_Britain', 'Winfield_Scott_%28ship%29'}\n"
     ]
    }
   ],
   "source": [
    "print(empty_source_2007)\n",
    "print(empty_source_2024)"
   ]
  },
  {
   "cell_type": "markdown",
   "metadata": {},
   "source": [
    "### Articles that have no links in 2007:\n",
    "\n",
    "- Badugi\n",
    "- Color_Graphics_Adapter\n",
    "- Directdebit\n",
    "- Donation\n",
    "- Douglas_DC-4\n",
    "- Duchenne_muscular_dystrophy\n",
    "- Klinefelter%27s_syndrome\n",
    "- Local_community\n",
    "- Lone_Wolf_%28gamebooks%29\n",
    "- Osteomalacia\n",
    "- Private_Peaceful\n",
    "- Schatzki_ring\n",
    "- Suikinkutsu\n",
    "- Underground_%28stories%29\n",
    "- Vacutainer\n",
    "- Wikipedia_Text_of_the_GNU_Free_Documentation_License\n",
    "- Wowpurchase\n",
    "\n",
    "### Articles that have no links in 2024:\n",
    "\n",
    "- Aggregator  \n",
    "- Anne_of_Great_Britain  \n",
    "- Badugi  \n",
    "- Bantu  \n",
    "- Battle_of_Amiens  \n",
    "- Blackbird  \n",
    "- Bj%C3%B8rn%C3%B8ya  \n",
    "- Boa  \n",
    "- Boston_RFC  \n",
    "- Brabantian  \n",
    "- Dark_Ages  \n",
    "- David_Heymann  \n",
    "- Defaka  \n",
    "- Doom  \n",
    "- Firecrest  \n",
    "- Forth  \n",
    "- Friend_Directdebit  \n",
    "- Gallery_of_the_Kings_and_Queens_of_England  \n",
    "- Garage_%28dance_music%29  \n",
    "- Herring_Gull  \n",
    "- Industry  \n",
    "- Lake_Albert  \n",
    "- Lost_%28TV_series%29  \n",
    "- Margin_of_error  \n",
    "- Marc_Pugh  \n",
    "- Mark_Webber  \n",
    "- Market  \n",
    "- Nagorno-Karabakh_War  \n",
    "- Newmarket  \n",
    "- Pochard  \n",
    "- Prehistoric_man  \n",
    "- Recorder  \n",
    "- Red_Panda  \n",
    "- Sandur  \n",
    "- Scent_of_a_Woman  \n",
    "- Sequoia  \n",
    "- Serenity_%28film%29  \n",
    "- Sparrowhawk  \n",
    "- Sponsorship_Directdebit  \n",
    "- Suikinkutsu  \n",
    "- Swift  \n",
    "- Terik  \n",
    "- Tooth_development  \n",
    "- Tripoli  \n",
    "- Underground_%28stories%29  \n",
    "- Weymouth  \n",
    "- Whitethroat  \n",
    "- Wikipedia_Text_of_the_GNU_Free_Documentation_License  \n",
    "- William_Gilbert  \n",
    "- Winfield_Scott_%28ship%29  \n",
    "- Woodruff  \n",
    "- Wowpurchase  \n",
    "- Zulu  \n",
    "\n"
   ]
  },
  {
   "cell_type": "markdown",
   "metadata": {},
   "source": [
    "It is surprising that so many articles contain no links in 2024 compare to 2007, we would have expected the opposite. Let us inspect in more details these empty pages."
   ]
  },
  {
   "cell_type": "code",
   "execution_count": 32,
   "metadata": {},
   "outputs": [
    {
     "name": "stdout",
     "output_type": "stream",
     "text": [
      "12 {'Private_Peaceful', 'Directdebit', 'Lone_Wolf_%28gamebooks%29', 'Color_Graphics_Adapter', 'Klinefelter%27s_syndrome', 'Douglas_DC-4', 'Vacutainer', 'Donation', 'Duchenne_muscular_dystrophy', 'Schatzki_ring', 'Osteomalacia', 'Local_community'}\n",
      "48 {'Gallery_of_the_Kings_and_Queens_of_England', 'Sequoia', 'Prehistoric_man', 'David_Heymann', 'Scent_of_a_Woman', 'Mark_Webber', 'Tripoli', 'Swift', 'Margin_of_error', 'Bantu', 'Garage_%28dance_music%29', 'Defaka', 'William_Gilbert', 'Lost_%28TV_series%29', 'Marc_Pugh', 'Sandur', 'Whitethroat', 'Red_Panda', 'Dark_Ages', 'Firecrest', 'Boston_RFC', 'Pochard', 'Blackbird', 'Friend_Directdebit', 'Terik', 'Aggregator', 'Tooth_development', 'Lake_Albert', 'Sparrowhawk', 'Forth', 'Woodruff', 'Serenity_%28film%29', 'Boa', 'Bj%C3%B8rn%C3%B8ya', 'Herring_Gull', 'Brabantian', 'Battle_of_Amiens', 'Newmarket', 'Weymouth', 'Industry', 'Market', 'Doom', 'Recorder', 'Sponsorship_Directdebit', 'Nagorno-Karabakh_War', 'Zulu', 'Anne_of_Great_Britain', 'Winfield_Scott_%28ship%29'}\n"
     ]
    }
   ],
   "source": [
    "# Let us select all articles that contain links in one year but none in the other year:\n",
    "not_in_2007 = source_articles2024 - source_articles2007\n",
    "not_in_2024 = source_articles2007 - source_articles2024\n",
    "\n",
    "print(len(not_in_2007), not_in_2007)\n",
    "print(len(not_in_2024), not_in_2024)"
   ]
  },
  {
   "cell_type": "markdown",
   "metadata": {},
   "source": [
    "### Articles that contain no links in 2007 but not in 2024\n",
    "\n",
    "\n",
    "We could find 12 articles that were dead-ends articles in 2007 and are not anymore nowadays. Could those articles be more interesting and useful for players if they were to play in 2024? How many times were these pages visited by players in 2007 when searching for their target, forcing them to go back to the previsou article?\n",
    "\n",
    "- Color_Graphics_Adapter\n",
    "- Directdebit\n",
    "- Donation\n",
    "- Douglas_DC-4\n",
    "- Duchenne_muscular_dystrophy\n",
    "- Klinefelter%27s_syndrome\n",
    "- Local_community\n",
    "- Lone_Wolf_%28gamebooks%29\n",
    "- Private_Peaceful\n",
    "- Osteomalacia\n",
    "- Schatzki_ring\n",
    "- Vacutainer"
   ]
  },
  {
   "cell_type": "markdown",
   "metadata": {},
   "source": [
    "### Articles that contain no links in 2024 but not in 2007 "
   ]
  },
  {
   "cell_type": "markdown",
   "metadata": {},
   "source": [
    "| **Old Title**                           | **Status $\\star$** | **New Title**                      | **Link**                                                  |\n",
    "|-----------------------------------------|--------------------|-------------------------------------|----------------------------------------------------------|\n",
    "| Aggregator                              | A                  | News_aggregator                    | https://en.wikipedia.org/wiki/News_aggregator           |\n",
    "| Anne_of_Great_Britain                   | A                  | Anne,_Queen_of_Great_Britain       | https://en.wikipedia.org/wiki/Anne,_Queen_of_Great_Britain |\n",
    "| Bantu                                   | A                  | Bantu_peoples                      | https://en.wikipedia.org/wiki/Bantu_peoples             |\n",
    "| Battle_of_Amiens                        | A                  | Battle_of_Amiens_(1918)            | https://en.wikipedia.org/wiki/Battle_of_Amiens_(1918)   |\n",
    "| Blackbird                               | A                  | Common_blackbird                   | https://en.wikipedia.org/wiki/Common_blackbird          |\n",
    "| Bj%C3%B8rn%C3%B8ya                      | A                  | Bear_Island_(Svalbard)             | https://en.wikipedia.org/wiki/Bear_Island_(Svalbard)    |\n",
    "| Boa                                     | A                  | Boa_(genus)                        | https://en.wikipedia.org/wiki/Boa_(genus)               |\n",
    "| Boston_RFC                              | A                  | Boston_RFC_(United_States)         | https://en.wikipedia.org/wiki/Boston_RFC_(United_States) |\n",
    "| Brabantian                              | A                  | Brabantian_Dutch                   | https://en.wikipedia.org/wiki/Brabantian_Dutch          |\n",
    "| Dark_Ages                               | A                  | Dark_Ages_(historiography)         | https://en.wikipedia.org/wiki/Dark_Ages_(historiography)|\n",
    "| David_Heymann                           | A                  | David_Heymann_(architect)          | https://en.wikipedia.org/wiki/David_Heymann_(architect) |\n",
    "| Defaka                                  | A                  | Defaka_people                      | https://en.wikipedia.org/wiki/Defaka_people             |\n",
    "| Doom                                    | A                  | Doom_(1993_video_game)             | https://en.wikipedia.org/wiki/Doom_(1993_video_game)    |\n",
    "| Firecrest                               | A                  | Common_firecrest                   | https://en.wikipedia.org/wiki/Common_firecrest          |\n",
    "| Forth                                   | A                  | Forth_(programming_language)       | https://en.wikipedia.org/wiki/Forth_(programming_language) |\n",
    "| Friend_Directdebit                      | D                  | -                                  | -                                                        |\n",
    "| Gallery_of_the_Kings_and_Queens_of_England | D               | -                                  | -                                                        |\n",
    "| Garage_%28dance_music%29                | A                  | Garage_house                       | https://en.wikipedia.org/wiki/Garage_house              |\n",
    "| Herring_Gull                            | A                  | American_herring_gull              | https://en.wikipedia.org/wiki/American_herring_gull     |\n",
    "| Industry                                | A                  | Industry_(economics)               | https://en.wikipedia.org/wiki/Industry_(economics)      |\n",
    "| Lake_Albert                             | A                  | Lake_Albert_(Africa)               | https://en.wikipedia.org/wiki/Lake_Albert_(Africa)      |\n",
    "| Lost_%28TV_series%29                    | X                  | Lost_(TV_series)                   | https://en.wikipedia.org/wiki/Lost_%28TV_series%29      |\n",
    "| Margin_of_error                         | X                  | Margin_of_error                    | https://en.wikipedia.org/wiki/Margin_of_error           |\n",
    "| Marc_Pugh                               | X                  | Marc_Pugh                          | https://en.wikipedia.org/wiki/Marc_Pugh                 |\n",
    "| Mark_Webber                             | A                  | Mark_Webber_(racing_driver)        | https://en.wikipedia.org/wiki/Mark_Webber_(racing_driver) |\n",
    "| Market                                  | A                  | Market_(economics)                 | https://en.wikipedia.org/wiki/Market_(economics)        |\n",
    "| Nagorno-Karabakh_War                    | A                  | First_Nagorno-Karabakh_War         | https://en.wikipedia.org/wiki/First_Nagorno-Karabakh_War |\n",
    "| Newmarket                               | A                  | Newmarket,_Suffolk                 | https://en.wikipedia.org/wiki/Newmarket,_Suffolk        |\n",
    "| Pochard                                 | A                  | Common_pochard                     | https://en.wikipedia.org/wiki/Common_pochard            |\n",
    "| Prehistoric_man                         | A                  | Prehistory                         | https://en.wikipedia.org/wiki/Prehistory                |\n",
    "| Recorder                                | A                  | Recorder_(musical_instrument)      | https://en.wikipedia.org/wiki/Recorder_(musical_instrument)|\n",
    "| Red_Panda                               | A                  | Red_panda                          | https://en.wikipedia.org/wiki/Red_panda                 |\n",
    "| Sandur                                  | A                  | Outwash_plain                      | https://en.wikipedia.org/wiki/Outwash_plain             |\n",
    "| Scent_of_a_Woman                        | A                  | Scent_of_a_Woman_(1992_film)       | https://en.wikipedia.org/wiki/Scent_of_a_Woman_(1992_film)|\n",
    "| Sequoia                                 | A                  | Sequoia_(genus)                    | https://en.wikipedia.org/wiki/Sequoia_(genus)           |\n",
    "| Serenity_%28film%29                     | A                  | Serenity_(2005_film)               | https://en.wikipedia.org/wiki/Serenity_(2005_film)      |\n",
    "| Sparrowhawk                             | I                  | European_Sparrowhawk               | https://en.wikipedia.org/wiki/Eurasian_sparrowhawk      |\n",
    "| Sponsorship_Directdebit                 | D                  | -                                  | -                                                        |\n",
    "| Swift                                   | A                  | Swift_(bird)                       | https://en.wikipedia.org/wiki/Swift_(bird)              |\n",
    "| Terik                                   | R                  | Terik_people                       | https://en.wikipedia.org/wiki/Terik_people              |\n",
    "| Tooth_development                       | A                  | Human_tooth_development            | https://en.wikipedia.org/wiki/Human_tooth_development   |\n",
    "| Tripoli                                 | A                  | Tripoli,_Libya                     | https://en.wikipedia.org/wiki/Tripoli,_Libya            |\n",
    "| Weymouth                                | A                  | Weymouth,_Dorset                   | https://en.wikipedia.org/wiki/Weymouth,_Dorset          |\n",
    "| Whitethroat                             | A                  | Common_whitethroat                 | https://en.wikipedia.org/wiki/Common_whitethroat        |\n",
    "| William_Gilbert                         | A                  | William_Gilbert_(physicist)        | https://en.wikipedia.org/wiki/William_Gilbert_(physicist)|\n",
    "| Winfield_Scott_%28ship%29               | A                  | SS_Winfield_Scott                  | https://en.wikipedia.org/wiki/SS_Winfield_Scott         |\n",
    "| Woodruff                                | A                  | Galium_odoratum                    | https://en.wikipedia.org/wiki/Galium_odoratum           |\n",
    "| Zulu                                    | A                  | Zulu_people                        | https://en.wikipedia.org/wiki/Zulu_people               |\n",
    "\n",
    "$\\star$ Status column legend:\n",
    "* A is for URLs that became disambiguation page\n",
    "* X for already corresponding pages (title unchanged since 2007)\n",
    "* D for pages that disappeared since 2007\n",
    "* R for remaining urls from 2007 that redirects to the correct new link\n",
    "* I for pages that became an index of subcategories of the initial article."
   ]
  },
  {
   "cell_type": "code",
   "execution_count": 33,
   "metadata": {},
   "outputs": [
    {
     "name": "stdout",
     "output_type": "stream",
     "text": [
      "{'Wowpurchase', 'Wikipedia_Text_of_the_GNU_Free_Documentation_License', 'Suikinkutsu', 'Badugi', 'Underground_%28stories%29'}\n"
     ]
    }
   ],
   "source": [
    "# Articles that have no links in both years\n",
    "forever_empty = empty_source_2024 - not_in_2007 - not_in_2024\n",
    "print(forever_empty)"
   ]
  },
  {
   "cell_type": "markdown",
   "metadata": {},
   "source": [
    "| **Old Title**                           | **Status $\\star$** | **New Title**                      | **Link**                                                  |\n",
    "|-----------------------------------------|--------------------|-------------------------------------|----------------------------------------------------------|\n",
    "| Badugi | X  | Badugi  | https://en.wikipedia.org/wiki/Badugi  |\n",
    "| Suikinkutsu   | X   | Suikinkutsu  | https://en.wikipedia.org/wiki/Suikinkutsu |\n",
    "| Underground_%28stories%29 | R  | Underground_(Murakami_book)  | https://en.wikipedia.org/wiki/Underground_(Murakami_book)  |\n",
    "| Wikipedia_Text_of_the_GNU_Free_Documentation_License  | C  | Wikipedia:Text_of_the_GNU_Free_Documentation_License | https://en.wikipedia.org/wiki/Wikipedia:Text_of_the_GNU_Free_Documentation_License   |\n",
    "| Wowpurchase  | D  | -  | -          |\n",
    "\n",
    " $\\star$ Status column legend:\n",
    "* X for already corresponding pages (title unchanged since 2007)\n",
    "* C for pages that changed title since 2007\n",
    "* D for pages that disappeared since 2007\n",
    "* R for remaining urls from 2007 that redirects to the correct new link"
   ]
  },
  {
   "cell_type": "markdown",
   "metadata": {},
   "source": [
    "#### To summarize: \n",
    "\n",
    "- Among the ```48 articles``` that did not contain any link in 2024 but not in 2007:\n",
    "  - ```40 A```: 40 of them became ambiguous. Their initial URLs thus became disambiguation pages in which often was mentionned the equivalent page from 2007. We were able to manually retrieve the changed titles.\n",
    "  - ```3 X```: 3 of them did not become ambiguous pages and were actually already corresponding to the initial article. They were correctly labeled as containing no link. We do not need to change their title to scrap them.\n",
    "  - ```3 D```: 3 of them disappeared since 2007. They correspond to three of the missing pages we already identified earlier in the analysis.\n",
    "  - ```1 R```: 1 of them became an URL that do not contain any article but is supposed to redirect users to the correct new link. We were able to take the new title of the page it normally redirects to scrap it correctly.\n",
    "  - ```1 I```: 1 of them became an index page for subcategories of the initial article. We were able to take the new title of the page it normally redirects to scrap it correctly.\n",
    "\n",
    "- Among the ```5 articles``` that did not conatin any links in both years:\n",
    "  - ```2 X```: 2 of them did not become ambiguous pages and were actually already corresponding to the initial article. They were correctly labeled as containing no link. We do not need to change their title to scrap them.\n",
    "  - ```1 R```: 1 of them became an URL that do not contain any article but is supposed to redirect users to the correct new link. We were able to take the new title of the page it normally redirects to scrap it correctly.\n",
    "  - ```1 C```: 1 of them changed title since 2007. We already noticed that change and already had the scrap the new equivalent page but still no link were found in 2024. It was correctly labeled as empty.\n",
    "  - ```1 D```: 1 of them disappeared. It corresponds to the last missing page we already identified earlier in the analysis.\n",
    "\n",
    "We will have to scrap all articles with their updated disambiguated names."
   ]
  },
  {
   "cell_type": "markdown",
   "metadata": {},
   "source": []
  }
 ],
 "metadata": {
  "kernelspec": {
   "display_name": "outlier",
   "language": "python",
   "name": "python3"
  },
  "language_info": {
   "codemirror_mode": {
    "name": "ipython",
    "version": 3
   },
   "file_extension": ".py",
   "mimetype": "text/x-python",
   "name": "python",
   "nbconvert_exporter": "python",
   "pygments_lexer": "ipython3",
   "version": "3.11.10"
  }
 },
 "nbformat": 4,
 "nbformat_minor": 2
}
