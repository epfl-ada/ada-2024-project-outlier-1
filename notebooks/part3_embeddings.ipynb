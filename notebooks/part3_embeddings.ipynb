{
 "cells": [
  {
   "cell_type": "code",
   "execution_count": 1,
   "metadata": {},
   "outputs": [
    {
     "name": "stderr",
     "output_type": "stream",
     "text": [
      "c:\\Users\\Anasse\\miniconda3\\envs\\ada\\Lib\\site-packages\\tqdm\\auto.py:21: TqdmWarning: IProgress not found. Please update jupyter and ipywidgets. See https://ipywidgets.readthedocs.io/en/stable/user_install.html\n",
      "  from .autonotebook import tqdm as notebook_tqdm\n"
     ]
    }
   ],
   "source": [
    "import os\n",
    "import numpy as np\n",
    "import pandas as pd\n",
    "import matplotlib.pyplot as plt\n",
    "import seaborn as sns\n",
    "from tqdm import tqdm\n",
    "\n",
    "import networkx as nx\n",
    "from scipy import stats\n",
    "\n",
    "from node2vec import Node2Vec\n",
    "from sklearn.metrics.pairwise import cosine_similarity\n",
    "from urllib.parse import unquote"
   ]
  },
  {
   "cell_type": "code",
   "execution_count": 2,
   "metadata": {},
   "outputs": [],
   "source": [
    "PATH_2007 = os.path.join('data', '2007')\n",
    "PATH_2024 = os.path.join('data', '2024')"
   ]
  },
  {
   "cell_type": "code",
   "execution_count": 3,
   "metadata": {},
   "outputs": [],
   "source": [
    "articles = pd.read_csv(os.path.join(PATH_2007, 'articles.tsv'), sep='\\t', comment='#', names=['article'])\n",
    "links2007 = pd.read_csv(os.path.join(PATH_2007, 'links.tsv'), sep='\\t', comment='#', names=['linkSource', 'linkTarget'])\n",
    "links2024 = pd.read_csv(os.path.join(PATH_2024, 'links2024.csv'), comment='#')\n",
    "links2024 = links2024.drop_duplicates().reset_index(drop=True)\n",
    "\n",
    "# url string decoding\n",
    "links2007['linkSource'] = links2007['linkSource'].apply(unquote)\n",
    "links2007['linkTarget'] = links2007['linkTarget'].apply(unquote)\n",
    "articles['article'] = articles['article'].apply(unquote)\n",
    "\n",
    "links2024['linkSource'] = links2024['linkSource'].apply(unquote)\n",
    "links2024['linkTarget'] = links2024['linkTarget'].apply(unquote)"
   ]
  },
  {
   "cell_type": "markdown",
   "metadata": {},
   "source": [
    "## Node2vec to compute similarity"
   ]
  },
  {
   "cell_type": "code",
   "execution_count": 59,
   "metadata": {},
   "outputs": [],
   "source": [
    "# create a graph with links dataframe\n",
    "G_2007 = nx.DiGraph()\n",
    "G_2007.add_nodes_from(articles['article'])\n",
    "\n",
    "for i, row in links2007.iterrows():\n",
    "    if row['linkSource'] in G_2007.nodes and row['linkTarget'] in G_2007.nodes:\n",
    "        G_2007.add_edge(row['linkSource'], row['linkTarget'])    "
   ]
  },
  {
   "cell_type": "code",
   "execution_count": 60,
   "metadata": {},
   "outputs": [],
   "source": [
    "G_2024 = nx.DiGraph()\n",
    "G_2024.add_nodes_from(articles['article'])\n",
    "\n",
    "for i, row in links2024.iterrows():\n",
    "    if row['linkSource'] in G_2024.nodes and row['linkTarget'] in G_2024.nodes:\n",
    "        G_2024.add_edge(row['linkSource'], row['linkTarget'])"
   ]
  },
  {
   "cell_type": "code",
   "execution_count": null,
   "metadata": {},
   "outputs": [
    {
     "data": {
      "application/vnd.jupyter.widget-view+json": {
       "model_id": "3ba5730ba13a4cdf8ff598b9acf123a5",
       "version_major": 2,
       "version_minor": 0
      },
      "text/plain": [
       "Computing transition probabilities:   0%|          | 0/4604 [00:00<?, ?it/s]"
      ]
     },
     "metadata": {},
     "output_type": "display_data"
    },
    {
     "name": "stderr",
     "output_type": "stream",
     "text": [
      "Generating walks (CPU: 1): 100%|██████████| 200/200 [04:24<00:00,  1.32s/it]\n"
     ]
    }
   ],
   "source": [
    "node2vec_2007 = Node2Vec(G_2007, dimensions=64, walk_length=30, num_walks=200, workers=1)\n",
    "\n",
    "# Generate embeddings\n",
    "model_2007 = node2vec_2007.fit(window=10, min_count=1, batch_words=4)"
   ]
  },
  {
   "cell_type": "code",
   "execution_count": 7,
   "metadata": {},
   "outputs": [
    {
     "data": {
      "application/vnd.jupyter.widget-view+json": {
       "model_id": "c48083e9da944e988bb9b19101fae1a5",
       "version_major": 2,
       "version_minor": 0
      },
      "text/plain": [
       "Computing transition probabilities:   0%|          | 0/4604 [00:00<?, ?it/s]"
      ]
     },
     "metadata": {},
     "output_type": "display_data"
    },
    {
     "name": "stderr",
     "output_type": "stream",
     "text": [
      "Generating walks (CPU: 1): 100%|██████████| 200/200 [06:20<00:00,  1.90s/it]\n"
     ]
    }
   ],
   "source": [
    "node2vec_2024 = Node2Vec(G_2024, dimensions=64, walk_length=30, num_walks=200, workers=1)\n",
    "model_2024 = node2vec_2024.fit(window=10, min_count=1, batch_words=4)"
   ]
  },
  {
   "cell_type": "code",
   "execution_count": null,
   "metadata": {},
   "outputs": [],
   "source": [
    "model_2007.save('node2vec_2007.model')\n",
    "model_2024.save('node2vec_2024.model')"
   ]
  },
  {
   "cell_type": "code",
   "execution_count": null,
   "metadata": {},
   "outputs": [],
   "source": [
    "from gensim.models import Word2Vec\n",
    "\n",
    "# Load the model\n",
    "model_2007 = Word2Vec.load('node2vec_2007.model')\n",
    "model_2024 = Word2Vec.load('node2vec_2024.model')"
   ]
  },
  {
   "cell_type": "code",
   "execution_count": 61,
   "metadata": {},
   "outputs": [],
   "source": [
    "embeddings_2007 = {node: model_2007.wv[node] for node in G_2007.nodes()}\n",
    "embeddings_2024 = {node: model_2024.wv[node] for node in G_2024.nodes()}"
   ]
  },
  {
   "cell_type": "code",
   "execution_count": null,
   "metadata": {},
   "outputs": [],
   "source": [
    "embedding_array_2007 = np.array(list(embeddings_2007.values()))\n",
    "embedding_array_2024 = np.array(list(embeddings_2024.values()))\n",
    "\n",
    "cosine_similarities_2007 = cosine_similarity(embedding_array_2007)\n",
    "cosine_similarities_2024 = cosine_similarity(embedding_array_2024)"
   ]
  },
  {
   "cell_type": "code",
   "execution_count": 23,
   "metadata": {},
   "outputs": [
    {
     "data": {
      "text/plain": [
       "('Community', 'Community')"
      ]
     },
     "execution_count": 23,
     "metadata": {},
     "output_type": "execute_result"
    }
   ],
   "source": [
    "list(embeddings_2007.keys())[1000], list(embeddings_2024.keys())[1000]"
   ]
  },
  {
   "cell_type": "code",
   "execution_count": 24,
   "metadata": {},
   "outputs": [
    {
     "data": {
      "text/plain": [
       "(0.19127513, 0.1332477)"
      ]
     },
     "execution_count": 24,
     "metadata": {},
     "output_type": "execute_result"
    }
   ],
   "source": [
    "cosine_similarities_2007[1000, 500], cosine_similarities_2024[1000, 500]"
   ]
  },
  {
   "cell_type": "markdown",
   "metadata": {},
   "source": [
    "Check similarity of all output link in each article"
   ]
  },
  {
   "cell_type": "code",
   "execution_count": 62,
   "metadata": {},
   "outputs": [
    {
     "data": {
      "text/plain": [
       "['Track_and_field',\n",
       " 'Bionicle:_Mask_of_Light',\n",
       " 'Direct_debit',\n",
       " 'News_Hounds',\n",
       " 'Star_Wars_(film)',\n",
       " 'X-Men:_The_Last_Stand']"
      ]
     },
     "execution_count": 62,
     "metadata": {},
     "output_type": "execute_result"
    }
   ],
   "source": [
    "to_remove = [i for i in links2024['linkSource'].unique() if i not in articles['article'].unique()]\n",
    "to_remove"
   ]
  },
  {
   "cell_type": "code",
   "execution_count": 63,
   "metadata": {},
   "outputs": [],
   "source": [
    "to_remove = [i for i in links2024['linkTarget'].unique() if i not in articles['article'].unique()]\n",
    "to_remove += [i for i in links2024['linkSource'].unique() if i not in articles['article'].unique()]\n",
    "links2024 = links2024[~links2024['linkTarget'].isin(to_remove)]\n",
    "links2024 = links2024[~links2024['linkSource'].isin(to_remove)]"
   ]
  },
  {
   "cell_type": "code",
   "execution_count": 90,
   "metadata": {},
   "outputs": [],
   "source": [
    "links2024['similarity'] = links2024.apply(lambda x: cosine_similarities_2024[list(embeddings_2024.keys()).index(x['linkSource']), list(embeddings_2024.keys()).index(x['linkTarget'])], axis=1)\n",
    "links2007['similarity'] = links2007.apply(lambda x: cosine_similarities_2007[list(embeddings_2007.keys()).index(x['linkSource']), list(embeddings_2007.keys()).index(x['linkTarget'])], axis=1)"
   ]
  },
  {
   "cell_type": "code",
   "execution_count": 91,
   "metadata": {},
   "outputs": [],
   "source": [
    "similarity_2007 = links2007.groupby('linkSource')['similarity'].mean().reset_index()\n",
    "similarity_2024 = links2024.groupby('linkSource')['similarity'].mean().reset_index()"
   ]
  },
  {
   "cell_type": "code",
   "execution_count": 67,
   "metadata": {},
   "outputs": [],
   "source": [
    "unique_article2007 = similarity_2007['linkSource'].unique()\n",
    "unique_article2024 = similarity_2024['linkSource'].unique()\n",
    "\n",
    "for i, row in articles.iterrows():\n",
    "    if row['article'] not in unique_article2007:\n",
    "        # add the article to the similarity dataframe\n",
    "        similarity_2007 = pd.concat([similarity_2007, pd.DataFrame({'linkSource': [row['article']], 'similarity': [0]})], ignore_index=True)\n",
    "    \n",
    "    if row['article'] not in unique_article2024:\n",
    "        # add the article to the similarity dataframe\n",
    "        similarity_2024 = pd.concat([similarity_2024, pd.DataFrame({'linkSource': [row['article']], 'similarity': [0]})], ignore_index=True)"
   ]
  },
  {
   "cell_type": "code",
   "execution_count": 72,
   "metadata": {},
   "outputs": [
    {
     "data": {
      "text/html": [
       "<div>\n",
       "<style scoped>\n",
       "    .dataframe tbody tr th:only-of-type {\n",
       "        vertical-align: middle;\n",
       "    }\n",
       "\n",
       "    .dataframe tbody tr th {\n",
       "        vertical-align: top;\n",
       "    }\n",
       "\n",
       "    .dataframe thead th {\n",
       "        text-align: right;\n",
       "    }\n",
       "</style>\n",
       "<table border=\"1\" class=\"dataframe\">\n",
       "  <thead>\n",
       "    <tr style=\"text-align: right;\">\n",
       "      <th></th>\n",
       "      <th>article</th>\n",
       "      <th>similarity_2007</th>\n",
       "      <th>similarity_2024</th>\n",
       "    </tr>\n",
       "  </thead>\n",
       "  <tbody>\n",
       "    <tr>\n",
       "      <th>0</th>\n",
       "      <td>10th_century</td>\n",
       "      <td>0.433974</td>\n",
       "      <td>0.496930</td>\n",
       "    </tr>\n",
       "    <tr>\n",
       "      <th>1</th>\n",
       "      <td>11th_century</td>\n",
       "      <td>0.568461</td>\n",
       "      <td>0.382620</td>\n",
       "    </tr>\n",
       "    <tr>\n",
       "      <th>2</th>\n",
       "      <td>12th_century</td>\n",
       "      <td>0.563734</td>\n",
       "      <td>0.489039</td>\n",
       "    </tr>\n",
       "    <tr>\n",
       "      <th>3</th>\n",
       "      <td>13th_century</td>\n",
       "      <td>0.441702</td>\n",
       "      <td>0.568082</td>\n",
       "    </tr>\n",
       "    <tr>\n",
       "      <th>4</th>\n",
       "      <td>14th_century</td>\n",
       "      <td>0.478573</td>\n",
       "      <td>0.439909</td>\n",
       "    </tr>\n",
       "    <tr>\n",
       "      <th>...</th>\n",
       "      <td>...</td>\n",
       "      <td>...</td>\n",
       "      <td>...</td>\n",
       "    </tr>\n",
       "    <tr>\n",
       "      <th>4599</th>\n",
       "      <td>Suikinkutsu</td>\n",
       "      <td>0.000000</td>\n",
       "      <td>0.000000</td>\n",
       "    </tr>\n",
       "    <tr>\n",
       "      <th>4600</th>\n",
       "      <td>Underground_(stories)</td>\n",
       "      <td>0.000000</td>\n",
       "      <td>0.000000</td>\n",
       "    </tr>\n",
       "    <tr>\n",
       "      <th>4601</th>\n",
       "      <td>Vacutainer</td>\n",
       "      <td>0.000000</td>\n",
       "      <td>0.596388</td>\n",
       "    </tr>\n",
       "    <tr>\n",
       "      <th>4602</th>\n",
       "      <td>Wikipedia_Text_of_the_GNU_Free_Documentation_L...</td>\n",
       "      <td>0.000000</td>\n",
       "      <td>0.000000</td>\n",
       "    </tr>\n",
       "    <tr>\n",
       "      <th>4603</th>\n",
       "      <td>Wowpurchase</td>\n",
       "      <td>0.000000</td>\n",
       "      <td>0.000000</td>\n",
       "    </tr>\n",
       "  </tbody>\n",
       "</table>\n",
       "<p>4604 rows × 3 columns</p>\n",
       "</div>"
      ],
      "text/plain": [
       "                                                article  similarity_2007   \n",
       "0                                          10th_century         0.433974  \\\n",
       "1                                          11th_century         0.568461   \n",
       "2                                          12th_century         0.563734   \n",
       "3                                          13th_century         0.441702   \n",
       "4                                          14th_century         0.478573   \n",
       "...                                                 ...              ...   \n",
       "4599                                        Suikinkutsu         0.000000   \n",
       "4600                              Underground_(stories)         0.000000   \n",
       "4601                                         Vacutainer         0.000000   \n",
       "4602  Wikipedia_Text_of_the_GNU_Free_Documentation_L...         0.000000   \n",
       "4603                                        Wowpurchase         0.000000   \n",
       "\n",
       "      similarity_2024  \n",
       "0            0.496930  \n",
       "1            0.382620  \n",
       "2            0.489039  \n",
       "3            0.568082  \n",
       "4            0.439909  \n",
       "...               ...  \n",
       "4599         0.000000  \n",
       "4600         0.000000  \n",
       "4601         0.596388  \n",
       "4602         0.000000  \n",
       "4603         0.000000  \n",
       "\n",
       "[4604 rows x 3 columns]"
      ]
     },
     "execution_count": 72,
     "metadata": {},
     "output_type": "execute_result"
    }
   ],
   "source": [
    "# merge similarity the 2 dataframes with articles\n",
    "similarities = pd.merge(similarity_2007, similarity_2024, on='linkSource', how='outer', suffixes=('_2007', '_2024'))\n",
    "\n",
    "# rename column linkSource to article\n",
    "similarities = similarities.rename(columns={'linkSource': 'article'})\n",
    "similarities"
   ]
  },
  {
   "cell_type": "code",
   "execution_count": 78,
   "metadata": {},
   "outputs": [
    {
     "data": {
      "image/png": "[encoded data removed]",
      "text/plain": [
       "<Figure size 1200x600 with 1 Axes>"
      ]
     },
     "metadata": {},
     "output_type": "display_data"
    }
   ],
   "source": [
    "# plot the similarity distribution\n",
    "plt.figure(figsize=(12, 6))\n",
    "sns.histplot(similarities['similarity_2007'], kde=True, bins=100, color='blue', label='2007')\n",
    "sns.histplot(similarities['similarity_2024'], kde=True, bins=100, color='red', label='2024')\n",
    "plt.xlabel('Similarity')\n",
    "plt.ylabel('Frequency')\n",
    "plt.title('Similarity Distribution')\n",
    "plt.legend()\n",
    "plt.show()"
   ]
  },
  {
   "cell_type": "markdown",
   "metadata": {},
   "source": [
    "## Word embedding of article content to compute similarity"
   ]
  },
  {
   "cell_type": "markdown",
   "metadata": {},
   "source": [
    "### Get article content from wikipedia (only summary)"
   ]
  },
  {
   "cell_type": "markdown",
   "metadata": {},
   "source": [
    "#### 2007"
   ]
  },
  {
   "cell_type": "code",
   "execution_count": 4,
   "metadata": {},
   "outputs": [],
   "source": [
    "def extract_first_paragraph(text):\n",
    "    # Split the text by new lines\n",
    "    lines = text.split('\\n')\n",
    "\n",
    "    # ignore the 5 first lines\n",
    "    lines = lines[5:]\n",
    "\n",
    "    # while a line don't begin by \"   \", remove it\n",
    "    while lines[0][:3] != \"   \":\n",
    "        lines = lines[1:]\n",
    "\n",
    "    # List to accumulate lines of the first paragraph\n",
    "    paragraph_lines = []\n",
    "    paragraph_started = False\n",
    "\n",
    "    for l in lines:\n",
    "        if l[:3] == \"   \" or not l:\n",
    "            paragraph_started = True\n",
    "            paragraph_lines.append(l)\n",
    "        elif paragraph_started:\n",
    "            break\n",
    "\n",
    "    # Join the lines to form the paragraph\n",
    "    paragraph = '\\n'.join(paragraph_lines)\n",
    "\n",
    "    # return paragraph\n",
    "    return paragraph"
   ]
  },
  {
   "cell_type": "code",
   "execution_count": 42,
   "metadata": {},
   "outputs": [
    {
     "name": "stderr",
     "output_type": "stream",
     "text": [
      "  0%|          | 0/4604 [00:00<?, ?it/s]"
     ]
    },
    {
     "name": "stderr",
     "output_type": "stream",
     "text": [
      "100%|██████████| 4604/4604 [00:46<00:00, 99.58it/s] \n"
     ]
    }
   ],
   "source": [
    "ARTICLE_TXT_PATH = os.path.join('data', '2007', 'plaintext_articles')\n",
    "\n",
    "summaries2007 = {'article' : [], 'content' : []}\n",
    "\n",
    "for filename in tqdm(os.listdir(ARTICLE_TXT_PATH)):\n",
    "    with open(os.path.join(ARTICLE_TXT_PATH, filename), 'r', encoding='utf8') as f:\n",
    "        text = f.read() \n",
    "\n",
    "    paragraph = extract_first_paragraph(text)\n",
    "    summaries2007['article'].append(unquote(filename[:-4]))\n",
    "    summaries2007['content'].append(paragraph.strip())\n",
    "\n",
    "summaries2007 = pd.DataFrame(summaries2007)\n",
    "summaries2007.to_csv(os.path.join('data', '2007', 'summaries2007.csv'), index=False, encoding='utf8')"
   ]
  },
  {
   "cell_type": "code",
   "execution_count": 43,
   "metadata": {},
   "outputs": [
    {
     "data": {
      "text/html": [
       "<div>\n",
       "<style scoped>\n",
       "    .dataframe tbody tr th:only-of-type {\n",
       "        vertical-align: middle;\n",
       "    }\n",
       "\n",
       "    .dataframe tbody tr th {\n",
       "        vertical-align: top;\n",
       "    }\n",
       "\n",
       "    .dataframe thead th {\n",
       "        text-align: right;\n",
       "    }\n",
       "</style>\n",
       "<table border=\"1\" class=\"dataframe\">\n",
       "  <thead>\n",
       "    <tr style=\"text-align: right;\">\n",
       "      <th></th>\n",
       "      <th>article</th>\n",
       "      <th>content</th>\n",
       "    </tr>\n",
       "  </thead>\n",
       "  <tbody>\n",
       "    <tr>\n",
       "      <th>0</th>\n",
       "      <td>Áedán_mac_Gabráin</td>\n",
       "      <td>Satellite image of northern Britain and Irelan...</td>\n",
       "    </tr>\n",
       "    <tr>\n",
       "      <th>1</th>\n",
       "      <td>Åland</td>\n",
       "      <td>Landskapet Åland\\n   Ahvenanmaan maakunta\\n   ...</td>\n",
       "    </tr>\n",
       "    <tr>\n",
       "      <th>2</th>\n",
       "      <td>Édouard_Manet</td>\n",
       "      <td>Articles with similar titles include Claude Mo...</td>\n",
       "    </tr>\n",
       "    <tr>\n",
       "      <th>3</th>\n",
       "      <td>Éire</td>\n",
       "      <td>This is a featured article. Click here for mor...</td>\n",
       "    </tr>\n",
       "    <tr>\n",
       "      <th>4</th>\n",
       "      <td>Óengus_I_of_the_Picts</td>\n",
       "      <td>Óengus son of Fergus\\n   King of the Picts\\n  ...</td>\n",
       "    </tr>\n",
       "    <tr>\n",
       "      <th>...</th>\n",
       "      <td>...</td>\n",
       "      <td>...</td>\n",
       "    </tr>\n",
       "    <tr>\n",
       "      <th>4599</th>\n",
       "      <td>Zirconium</td>\n",
       "      <td>40              yttrium ← zirconium → niobium\\...</td>\n",
       "    </tr>\n",
       "    <tr>\n",
       "      <th>4600</th>\n",
       "      <td>Zoroaster</td>\n",
       "      <td>Part of a series on\\n\\n   Zoroastrianism\\n   P...</td>\n",
       "    </tr>\n",
       "    <tr>\n",
       "      <th>4601</th>\n",
       "      <td>Zuid-Gelders</td>\n",
       "      <td>This article is a part of\\n\\n   the Dutch dial...</td>\n",
       "    </tr>\n",
       "    <tr>\n",
       "      <th>4602</th>\n",
       "      <td>Zulu</td>\n",
       "      <td>Zulus\\n\\n   Zulu Warriors, late 19th century (...</td>\n",
       "    </tr>\n",
       "    <tr>\n",
       "      <th>4603</th>\n",
       "      <td>ZX_Spectrum</td>\n",
       "      <td>The original 1982 ZX Spectrum.\\n              ...</td>\n",
       "    </tr>\n",
       "  </tbody>\n",
       "</table>\n",
       "<p>4604 rows × 2 columns</p>\n",
       "</div>"
      ],
      "text/plain": [
       "                    article                                            content\n",
       "0         Áedán_mac_Gabráin  Satellite image of northern Britain and Irelan...\n",
       "1                     Åland  Landskapet Åland\\n   Ahvenanmaan maakunta\\n   ...\n",
       "2             Édouard_Manet  Articles with similar titles include Claude Mo...\n",
       "3                      Éire  This is a featured article. Click here for mor...\n",
       "4     Óengus_I_of_the_Picts  Óengus son of Fergus\\n   King of the Picts\\n  ...\n",
       "...                     ...                                                ...\n",
       "4599              Zirconium  40              yttrium ← zirconium → niobium\\...\n",
       "4600              Zoroaster  Part of a series on\\n\\n   Zoroastrianism\\n   P...\n",
       "4601           Zuid-Gelders  This article is a part of\\n\\n   the Dutch dial...\n",
       "4602                   Zulu  Zulus\\n\\n   Zulu Warriors, late 19th century (...\n",
       "4603            ZX_Spectrum  The original 1982 ZX Spectrum.\\n              ...\n",
       "\n",
       "[4604 rows x 2 columns]"
      ]
     },
     "execution_count": 43,
     "metadata": {},
     "output_type": "execute_result"
    }
   ],
   "source": [
    "summaries2007"
   ]
  },
  {
   "cell_type": "markdown",
   "metadata": {},
   "source": [
    "### 2024"
   ]
  },
  {
   "cell_type": "code",
   "execution_count": 20,
   "metadata": {},
   "outputs": [],
   "source": [
    "# import wikipediaapi # need python 3.9 or higher to work\n",
    "# from time import sleep\n",
    "\n",
    "# wiki_wiki = wikipediaapi.Wikipedia('ada (anasse.elboudiri@epfl.ch)', 'en')\n",
    "\n",
    "# summaries2024 = {'article' : [], 'content' : []}\n",
    "\n",
    "# for article in articles['article']:\n",
    "#     page = wiki_wiki.page(article)\n",
    "#     if page.exists():\n",
    "#         summaries2024['article'].append(article)\n",
    "#         summaries2024['content'].append(page.summary)\n",
    "#     sleep(0.1)\n",
    "\n",
    "# # article names that are different in 2007 and 2024\n",
    "# old_names = [\"Athletics_%28track_and_field%29\",\n",
    "#              \"Bionicle__Mask_of_Light\",\n",
    "#              \"Directdebit\",\n",
    "#              \"Newshounds\",\n",
    "#              \"Star_Wars_Episode_IV__A_New_Hope\",\n",
    "#              \"Wikipedia_Text_of_the_GNU_Free_Documentation_License\",\n",
    "#              \"X-Men__The_Last_Stand\"]\n",
    "\n",
    "# new_names = [\"Track_and_field\",\n",
    "#             \"Bionicle:_Mask_of_Light\",\n",
    "#             \"Direct_debit\",\n",
    "#             \"News_Hounds\",\n",
    "#             \"Star_Wars_(film)\",\n",
    "#             \"Wikipedia:Text_of_the_GNU_Free_Documentation_License\",\n",
    "#             \"X-Men:_The_Last_Stand\"]\n",
    "\n",
    "# for old, new in zip(old_names, new_names):\n",
    "#     page = wiki_wiki.page(new)\n",
    "#     if page.exists():\n",
    "#         summaries2024['article'].append(unquote(old))\n",
    "#         summaries2024['content'].append(page.summary)\n",
    "    \n",
    "# summaries2024 = pd.DataFrame(summaries2024)\n",
    "# summaries2024.to_csv(os.path.join('data', '2024', 'summaries2024.csv'), index=False, encoding='utf-8')\n",
    "\n",
    "summaries2024 = pd.read_csv(os.path.join('data', '2024', 'summaries2024.csv'), encoding='utf-8')"
   ]
  },
  {
   "cell_type": "code",
   "execution_count": 21,
   "metadata": {},
   "outputs": [
    {
     "data": {
      "text/html": [
       "<div>\n",
       "<style scoped>\n",
       "    .dataframe tbody tr th:only-of-type {\n",
       "        vertical-align: middle;\n",
       "    }\n",
       "\n",
       "    .dataframe tbody tr th {\n",
       "        vertical-align: top;\n",
       "    }\n",
       "\n",
       "    .dataframe thead th {\n",
       "        text-align: right;\n",
       "    }\n",
       "</style>\n",
       "<table border=\"1\" class=\"dataframe\">\n",
       "  <thead>\n",
       "    <tr style=\"text-align: right;\">\n",
       "      <th></th>\n",
       "      <th>article</th>\n",
       "      <th>content</th>\n",
       "    </tr>\n",
       "  </thead>\n",
       "  <tbody>\n",
       "    <tr>\n",
       "      <th>0</th>\n",
       "      <td>Áedán_mac_Gabráin</td>\n",
       "      <td>Áedán mac Gabráin (Old Irish pronunciation: [ˈ...</td>\n",
       "    </tr>\n",
       "    <tr>\n",
       "      <th>1</th>\n",
       "      <td>Åland</td>\n",
       "      <td>Åland (Swedish: [ˈǒːland] ; Finnish: Ahvenanma...</td>\n",
       "    </tr>\n",
       "    <tr>\n",
       "      <th>2</th>\n",
       "      <td>Édouard_Manet</td>\n",
       "      <td>Édouard Manet (UK: , US: ; French: [edwaʁ manɛ...</td>\n",
       "    </tr>\n",
       "    <tr>\n",
       "      <th>3</th>\n",
       "      <td>Éire</td>\n",
       "      <td>Éire (Irish: [ˈeːɾʲə] ) is the Irish Gaelic na...</td>\n",
       "    </tr>\n",
       "    <tr>\n",
       "      <th>4</th>\n",
       "      <td>Óengus_I_of_the_Picts</td>\n",
       "      <td>Óengus son of Fergus (Pictish: *Onuist map Vur...</td>\n",
       "    </tr>\n",
       "    <tr>\n",
       "      <th>...</th>\n",
       "      <td>...</td>\n",
       "      <td>...</td>\n",
       "    </tr>\n",
       "    <tr>\n",
       "      <th>4595</th>\n",
       "      <td>Directdebit</td>\n",
       "      <td>A direct debit or direct withdrawal is a finan...</td>\n",
       "    </tr>\n",
       "    <tr>\n",
       "      <th>4596</th>\n",
       "      <td>Newshounds</td>\n",
       "      <td>News Hounds is a 1947 American comedy film dir...</td>\n",
       "    </tr>\n",
       "    <tr>\n",
       "      <th>4597</th>\n",
       "      <td>Star_Wars_Episode_IV__A_New_Hope</td>\n",
       "      <td>Star Wars (later retitled Star Wars: Episode I...</td>\n",
       "    </tr>\n",
       "    <tr>\n",
       "      <th>4598</th>\n",
       "      <td>Wikipedia_Text_of_the_GNU_Free_Documentation_L...</td>\n",
       "      <td>Version 1.3, 3 November 2008\\nCopyright (C) 20...</td>\n",
       "    </tr>\n",
       "    <tr>\n",
       "      <th>4599</th>\n",
       "      <td>X-Men__The_Last_Stand</td>\n",
       "      <td>X-Men: The Last Stand (also marketed as X3: Th...</td>\n",
       "    </tr>\n",
       "  </tbody>\n",
       "</table>\n",
       "<p>4600 rows × 2 columns</p>\n",
       "</div>"
      ],
      "text/plain": [
       "                                                article  \\\n",
       "0                                     Áedán_mac_Gabráin   \n",
       "1                                                 Åland   \n",
       "2                                         Édouard_Manet   \n",
       "3                                                  Éire   \n",
       "4                                 Óengus_I_of_the_Picts   \n",
       "...                                                 ...   \n",
       "4595                                        Directdebit   \n",
       "4596                                         Newshounds   \n",
       "4597                   Star_Wars_Episode_IV__A_New_Hope   \n",
       "4598  Wikipedia_Text_of_the_GNU_Free_Documentation_L...   \n",
       "4599                              X-Men__The_Last_Stand   \n",
       "\n",
       "                                                content  \n",
       "0     Áedán mac Gabráin (Old Irish pronunciation: [ˈ...  \n",
       "1     Åland (Swedish: [ˈǒːland] ; Finnish: Ahvenanma...  \n",
       "2     Édouard Manet (UK: , US: ; French: [edwaʁ manɛ...  \n",
       "3     Éire (Irish: [ˈeːɾʲə] ) is the Irish Gaelic na...  \n",
       "4     Óengus son of Fergus (Pictish: *Onuist map Vur...  \n",
       "...                                                 ...  \n",
       "4595  A direct debit or direct withdrawal is a finan...  \n",
       "4596  News Hounds is a 1947 American comedy film dir...  \n",
       "4597  Star Wars (later retitled Star Wars: Episode I...  \n",
       "4598  Version 1.3, 3 November 2008\\nCopyright (C) 20...  \n",
       "4599  X-Men: The Last Stand (also marketed as X3: Th...  \n",
       "\n",
       "[4600 rows x 2 columns]"
      ]
     },
     "execution_count": 21,
     "metadata": {},
     "output_type": "execute_result"
    }
   ],
   "source": [
    "summaries2024"
   ]
  },
  {
   "cell_type": "markdown",
   "metadata": {},
   "source": [
    "#### text preprocessing"
   ]
  },
  {
   "cell_type": "code",
   "execution_count": 9,
   "metadata": {},
   "outputs": [],
   "source": [
    "import gensim\n",
    "import string\n",
    "import re\n",
    "from nltk import download\n",
    "from nltk.util import ngrams\n",
    "from nltk.tokenize import word_tokenize\n",
    "from collections import Counter"
   ]
  },
  {
   "cell_type": "code",
   "execution_count": 11,
   "metadata": {},
   "outputs": [],
   "source": [
    "def preprocess_text(text):\n",
    "    stopwords = gensim.parsing.preprocessing.STOPWORDS\n",
    "\n",
    "    # remove stopwords\n",
    "    text = ' '.join([word for word in text.split(\" \") if word.lower() not in stopwords])\n",
    "\n",
    "    # remove punctuation\n",
    "    text = text.translate(str.maketrans('', '', string.punctuation))\n",
    "\n",
    "    # remove digits\n",
    "    # text = text.translate(str.maketrans('', '', string.digits))\n",
    "    text = re.sub(r'\\d+', '', text)\n",
    "\n",
    "    # tokenize the text\n",
    "    text = word_tokenize(text)\n",
    "\n",
    "    # add bigrams\n",
    "    bigrams = ['-'.join(bg) for bg in ngrams(text, 2)]\n",
    "    text += bigrams\n",
    "    return text"
   ]
  },
  {
   "cell_type": "code",
   "execution_count": 12,
   "metadata": {},
   "outputs": [],
   "source": [
    "# apply preprocessing \n",
    "summaries2007['text'] = summaries2007['content'].apply(preprocess_text)\n",
    "summaries2024['text'] = summaries2024['content'].apply(preprocess_text)"
   ]
  },
  {
   "cell_type": "code",
   "execution_count": 13,
   "metadata": {},
   "outputs": [],
   "source": [
    "def remove_frequent_word(df):\n",
    "    word_freq = Counter([word for text in df['text'] for word in text])\n",
    "    frequent_words = set([word for word, freq in word_freq.items() if freq > 1000])\n",
    "    infrequent_words = set([word for word, freq in word_freq.items() if freq < 5])\n",
    "    df['text'] = df['text'].apply(lambda x: [word for word in x if word not in frequent_words and word not in infrequent_words])"
   ]
  },
  {
   "cell_type": "code",
   "execution_count": 14,
   "metadata": {},
   "outputs": [],
   "source": [
    "remove_frequent_word(summaries2007)\n",
    "remove_frequent_word(summaries2024)"
   ]
  },
  {
   "cell_type": "markdown",
   "metadata": {},
   "source": [
    "#### SBERT"
   ]
  },
  {
   "cell_type": "code",
   "execution_count": 10,
   "metadata": {},
   "outputs": [],
   "source": [
    "from sentence_transformers import SentenceTransformer, util"
   ]
  },
  {
   "cell_type": "code",
   "execution_count": 11,
   "metadata": {},
   "outputs": [],
   "source": [
    "# Load the SBERT model\n",
    "model = SentenceTransformer('all-MiniLM-L6-v2')"
   ]
  },
  {
   "cell_type": "code",
   "execution_count": null,
   "metadata": {},
   "outputs": [],
   "source": [
    "embeddings_2007_summary = model.encode(summaries2007['content'])\n",
    "embeddings_2024_summary = model.encode(summaries2024['content'])"
   ]
  },
  {
   "cell_type": "code",
   "execution_count": null,
   "metadata": {},
   "outputs": [],
   "source": [
    "embedding_array_2007_summary = np.array(list(embeddings_2007_summary.values()))\n",
    "embedding_array_2024_summary = np.array(list(embeddings_2024_summary.values()))\n",
    "\n",
    "cosine_similarities_2007_summary = cosine_similarity(embedding_array_2007_summary)\n",
    "cosine_similarities_2024_summary = cosine_similarity(embedding_array_2024_summary)"
   ]
  },
  {
   "cell_type": "code",
   "execution_count": 26,
   "metadata": {},
   "outputs": [],
   "source": [
    "links2024['similarity'] = links2024.apply(lambda x: cosine_similarities_2024_summary[list(embeddings_2024_summary.keys()).index(x['linkSource']), \n",
    "                                                                                     list(embeddings_2024_summary.keys()).index(x['linkTarget'])], axis=1)"
   ]
  },
  {
   "cell_type": "code",
   "execution_count": 67,
   "metadata": {},
   "outputs": [],
   "source": [
    "links2007['similarity'] = links2007.apply(lambda x: cosine_similarities_2007_summary[list(embeddings_2007_summary.keys()).index(x['linkSource']),\n",
    "                                                                                     list(embeddings_2007_summary.keys()).index(x['linkTarget'])], axis=1)"
   ]
  },
  {
   "cell_type": "code",
   "execution_count": 78,
   "metadata": {},
   "outputs": [
    {
     "data": {
      "text/html": [
       "<div>\n",
       "<style scoped>\n",
       "    .dataframe tbody tr th:only-of-type {\n",
       "        vertical-align: middle;\n",
       "    }\n",
       "\n",
       "    .dataframe tbody tr th {\n",
       "        vertical-align: top;\n",
       "    }\n",
       "\n",
       "    .dataframe thead th {\n",
       "        text-align: right;\n",
       "    }\n",
       "</style>\n",
       "<table border=\"1\" class=\"dataframe\">\n",
       "  <thead>\n",
       "    <tr style=\"text-align: right;\">\n",
       "      <th></th>\n",
       "      <th>linkSource</th>\n",
       "      <th>linkTarget</th>\n",
       "      <th>similarity</th>\n",
       "    </tr>\n",
       "  </thead>\n",
       "  <tbody>\n",
       "    <tr>\n",
       "      <th>21000</th>\n",
       "      <td>Bahrain</td>\n",
       "      <td>Royal_Navy</td>\n",
       "      <td>0.094420</td>\n",
       "    </tr>\n",
       "    <tr>\n",
       "      <th>21001</th>\n",
       "      <td>Bahrain</td>\n",
       "      <td>European_Parliament</td>\n",
       "      <td>0.037769</td>\n",
       "    </tr>\n",
       "    <tr>\n",
       "      <th>21002</th>\n",
       "      <td>Bahrain</td>\n",
       "      <td>The_Wall_Street_Journal</td>\n",
       "      <td>-0.001209</td>\n",
       "    </tr>\n",
       "    <tr>\n",
       "      <th>21003</th>\n",
       "      <td>Bahrain</td>\n",
       "      <td>Arable_land</td>\n",
       "      <td>0.327052</td>\n",
       "    </tr>\n",
       "    <tr>\n",
       "      <th>21004</th>\n",
       "      <td>Bahrain</td>\n",
       "      <td>Agriculture</td>\n",
       "      <td>0.225983</td>\n",
       "    </tr>\n",
       "    <tr>\n",
       "      <th>...</th>\n",
       "      <td>...</td>\n",
       "      <td>...</td>\n",
       "      <td>...</td>\n",
       "    </tr>\n",
       "    <tr>\n",
       "      <th>22995</th>\n",
       "      <td>Baroque</td>\n",
       "      <td>Piano</td>\n",
       "      <td>0.095655</td>\n",
       "    </tr>\n",
       "    <tr>\n",
       "      <th>22996</th>\n",
       "      <td>Baroque</td>\n",
       "      <td>Johann_Sebastian_Bach</td>\n",
       "      <td>0.289774</td>\n",
       "    </tr>\n",
       "    <tr>\n",
       "      <th>22997</th>\n",
       "      <td>Baroque</td>\n",
       "      <td>Johann_Pachelbel</td>\n",
       "      <td>0.336096</td>\n",
       "    </tr>\n",
       "    <tr>\n",
       "      <th>22998</th>\n",
       "      <td>Baroque</td>\n",
       "      <td>Dido_and_Aeneas</td>\n",
       "      <td>0.249529</td>\n",
       "    </tr>\n",
       "    <tr>\n",
       "      <th>22999</th>\n",
       "      <td>Baroque</td>\n",
       "      <td>Aristotle</td>\n",
       "      <td>0.065526</td>\n",
       "    </tr>\n",
       "  </tbody>\n",
       "</table>\n",
       "<p>2000 rows × 3 columns</p>\n",
       "</div>"
      ],
      "text/plain": [
       "      linkSource               linkTarget  similarity\n",
       "21000    Bahrain               Royal_Navy    0.094420\n",
       "21001    Bahrain      European_Parliament    0.037769\n",
       "21002    Bahrain  The_Wall_Street_Journal   -0.001209\n",
       "21003    Bahrain              Arable_land    0.327052\n",
       "21004    Bahrain              Agriculture    0.225983\n",
       "...          ...                      ...         ...\n",
       "22995    Baroque                    Piano    0.095655\n",
       "22996    Baroque    Johann_Sebastian_Bach    0.289774\n",
       "22997    Baroque         Johann_Pachelbel    0.336096\n",
       "22998    Baroque          Dido_and_Aeneas    0.249529\n",
       "22999    Baroque                Aristotle    0.065526\n",
       "\n",
       "[2000 rows x 3 columns]"
      ]
     },
     "execution_count": 78,
     "metadata": {},
     "output_type": "execute_result"
    }
   ],
   "source": [
    "links2024[21000:23000]"
   ]
  },
  {
   "cell_type": "code",
   "execution_count": 68,
   "metadata": {},
   "outputs": [],
   "source": [
    "similarity_2007 = links2007.groupby('linkSource')['similarity'].mean().reset_index()\n",
    "similarity_2024 = links2024.groupby('linkSource')['similarity'].mean().reset_index()"
   ]
  },
  {
   "cell_type": "code",
   "execution_count": 69,
   "metadata": {},
   "outputs": [],
   "source": [
    "unique_article2007 = similarity_2007['linkSource'].unique()\n",
    "unique_article2024 = similarity_2024['linkSource'].unique()\n",
    "\n",
    "for i, row in articles.iterrows():\n",
    "    if row['article'] not in unique_article2007:\n",
    "        # add the article to the similarity dataframe\n",
    "        similarity_2007 = pd.concat([similarity_2007, pd.DataFrame({'linkSource': [row['article']], 'similarity': [0]})], ignore_index=True)\n",
    "    \n",
    "    if row['article'] not in unique_article2024:\n",
    "        # add the article to the similarity dataframe\n",
    "        similarity_2024 = pd.concat([similarity_2024, pd.DataFrame({'linkSource': [row['article']], 'similarity': [0]})], ignore_index=True)"
   ]
  },
  {
   "cell_type": "code",
   "execution_count": 70,
   "metadata": {},
   "outputs": [
    {
     "data": {
      "text/html": [
       "<div>\n",
       "<style scoped>\n",
       "    .dataframe tbody tr th:only-of-type {\n",
       "        vertical-align: middle;\n",
       "    }\n",
       "\n",
       "    .dataframe tbody tr th {\n",
       "        vertical-align: top;\n",
       "    }\n",
       "\n",
       "    .dataframe thead th {\n",
       "        text-align: right;\n",
       "    }\n",
       "</style>\n",
       "<table border=\"1\" class=\"dataframe\">\n",
       "  <thead>\n",
       "    <tr style=\"text-align: right;\">\n",
       "      <th></th>\n",
       "      <th>article</th>\n",
       "      <th>similarity_2007</th>\n",
       "      <th>similarity_2024</th>\n",
       "    </tr>\n",
       "  </thead>\n",
       "  <tbody>\n",
       "    <tr>\n",
       "      <th>0</th>\n",
       "      <td>10th_century</td>\n",
       "      <td>0.143167</td>\n",
       "      <td>0.320966</td>\n",
       "    </tr>\n",
       "    <tr>\n",
       "      <th>1</th>\n",
       "      <td>11th_century</td>\n",
       "      <td>0.355446</td>\n",
       "      <td>0.234856</td>\n",
       "    </tr>\n",
       "    <tr>\n",
       "      <th>2</th>\n",
       "      <td>12th_century</td>\n",
       "      <td>0.357947</td>\n",
       "      <td>0.292849</td>\n",
       "    </tr>\n",
       "    <tr>\n",
       "      <th>3</th>\n",
       "      <td>13th_century</td>\n",
       "      <td>0.183783</td>\n",
       "      <td>0.385664</td>\n",
       "    </tr>\n",
       "    <tr>\n",
       "      <th>4</th>\n",
       "      <td>14th_century</td>\n",
       "      <td>0.175292</td>\n",
       "      <td>0.280846</td>\n",
       "    </tr>\n",
       "    <tr>\n",
       "      <th>...</th>\n",
       "      <td>...</td>\n",
       "      <td>...</td>\n",
       "      <td>...</td>\n",
       "    </tr>\n",
       "    <tr>\n",
       "      <th>4599</th>\n",
       "      <td>Åland</td>\n",
       "      <td>0.279728</td>\n",
       "      <td>0.287250</td>\n",
       "    </tr>\n",
       "    <tr>\n",
       "      <th>4600</th>\n",
       "      <td>Édouard_Manet</td>\n",
       "      <td>0.182135</td>\n",
       "      <td>0.294430</td>\n",
       "    </tr>\n",
       "    <tr>\n",
       "      <th>4601</th>\n",
       "      <td>Éire</td>\n",
       "      <td>0.343146</td>\n",
       "      <td>0.334726</td>\n",
       "    </tr>\n",
       "    <tr>\n",
       "      <th>4602</th>\n",
       "      <td>Óengus_I_of_the_Picts</td>\n",
       "      <td>0.213862</td>\n",
       "      <td>0.349193</td>\n",
       "    </tr>\n",
       "    <tr>\n",
       "      <th>4603</th>\n",
       "      <td>€2_commemorative_coins</td>\n",
       "      <td>0.139570</td>\n",
       "      <td>0.130690</td>\n",
       "    </tr>\n",
       "  </tbody>\n",
       "</table>\n",
       "<p>4604 rows × 3 columns</p>\n",
       "</div>"
      ],
      "text/plain": [
       "                     article  similarity_2007  similarity_2024\n",
       "0               10th_century         0.143167         0.320966\n",
       "1               11th_century         0.355446         0.234856\n",
       "2               12th_century         0.357947         0.292849\n",
       "3               13th_century         0.183783         0.385664\n",
       "4               14th_century         0.175292         0.280846\n",
       "...                      ...              ...              ...\n",
       "4599                   Åland         0.279728         0.287250\n",
       "4600           Édouard_Manet         0.182135         0.294430\n",
       "4601                    Éire         0.343146         0.334726\n",
       "4602   Óengus_I_of_the_Picts         0.213862         0.349193\n",
       "4603  €2_commemorative_coins         0.139570         0.130690\n",
       "\n",
       "[4604 rows x 3 columns]"
      ]
     },
     "execution_count": 70,
     "metadata": {},
     "output_type": "execute_result"
    }
   ],
   "source": [
    "# merge similarity the 2 dataframes with articles\n",
    "similarities = pd.merge(similarity_2007, similarity_2024, on='linkSource', how='outer', suffixes=('_2007', '_2024'))\n",
    "\n",
    "# rename column linkSource to article\n",
    "similarities = similarities.rename(columns={'linkSource': 'article'})\n",
    "similarities"
   ]
  },
  {
   "cell_type": "code",
   "execution_count": 72,
   "metadata": {},
   "outputs": [
    {
     "data": {
      "text/html": [
       "<div>\n",
       "<style scoped>\n",
       "    .dataframe tbody tr th:only-of-type {\n",
       "        vertical-align: middle;\n",
       "    }\n",
       "\n",
       "    .dataframe tbody tr th {\n",
       "        vertical-align: top;\n",
       "    }\n",
       "\n",
       "    .dataframe thead th {\n",
       "        text-align: right;\n",
       "    }\n",
       "</style>\n",
       "<table border=\"1\" class=\"dataframe\">\n",
       "  <thead>\n",
       "    <tr style=\"text-align: right;\">\n",
       "      <th></th>\n",
       "      <th>similarity_2007</th>\n",
       "      <th>similarity_2024</th>\n",
       "    </tr>\n",
       "  </thead>\n",
       "  <tbody>\n",
       "    <tr>\n",
       "      <th>count</th>\n",
       "      <td>4604.000000</td>\n",
       "      <td>4604.000000</td>\n",
       "    </tr>\n",
       "    <tr>\n",
       "      <th>mean</th>\n",
       "      <td>0.225035</td>\n",
       "      <td>0.236082</td>\n",
       "    </tr>\n",
       "    <tr>\n",
       "      <th>std</th>\n",
       "      <td>0.104558</td>\n",
       "      <td>0.091296</td>\n",
       "    </tr>\n",
       "    <tr>\n",
       "      <th>min</th>\n",
       "      <td>-0.133736</td>\n",
       "      <td>-0.095537</td>\n",
       "    </tr>\n",
       "    <tr>\n",
       "      <th>25%</th>\n",
       "      <td>0.153441</td>\n",
       "      <td>0.178067</td>\n",
       "    </tr>\n",
       "    <tr>\n",
       "      <th>50%</th>\n",
       "      <td>0.215187</td>\n",
       "      <td>0.235620</td>\n",
       "    </tr>\n",
       "    <tr>\n",
       "      <th>75%</th>\n",
       "      <td>0.284780</td>\n",
       "      <td>0.293108</td>\n",
       "    </tr>\n",
       "    <tr>\n",
       "      <th>max</th>\n",
       "      <td>0.948843</td>\n",
       "      <td>0.628260</td>\n",
       "    </tr>\n",
       "  </tbody>\n",
       "</table>\n",
       "</div>"
      ],
      "text/plain": [
       "       similarity_2007  similarity_2024\n",
       "count      4604.000000      4604.000000\n",
       "mean          0.225035         0.236082\n",
       "std           0.104558         0.091296\n",
       "min          -0.133736        -0.095537\n",
       "25%           0.153441         0.178067\n",
       "50%           0.215187         0.235620\n",
       "75%           0.284780         0.293108\n",
       "max           0.948843         0.628260"
      ]
     },
     "execution_count": 72,
     "metadata": {},
     "output_type": "execute_result"
    }
   ],
   "source": [
    "similarities.describe()"
   ]
  },
  {
   "cell_type": "code",
   "execution_count": 71,
   "metadata": {},
   "outputs": [
    {
     "data": {
      "image/png": "[encoded data removed]",
      "text/plain": [
       "<Figure size 1200x600 with 1 Axes>"
      ]
     },
     "metadata": {},
     "output_type": "display_data"
    }
   ],
   "source": [
    "# plot the similarity distribution\n",
    "plt.figure(figsize=(12, 6))\n",
    "sns.histplot(similarities['similarity_2007'], kde=True, bins=100, color='blue', label='2007')\n",
    "sns.histplot(similarities['similarity_2024'], kde=True, bins=100, color='red', label='2024')\n",
    "plt.xlabel('Similarity')\n",
    "plt.ylabel('Frequency')\n",
    "plt.title('Similarity Distribution')\n",
    "plt.legend()\n",
    "plt.show()"
   ]
  }
 ],
 "metadata": {
  "kernelspec": {
   "display_name": "ada",
   "language": "python",
   "name": "python3"
  },
  "language_info": {
   "codemirror_mode": {
    "name": "ipython",
    "version": 3
   },
   "file_extension": ".py",
   "mimetype": "text/x-python",
   "name": "python",
   "nbconvert_exporter": "python",
   "pygments_lexer": "ipython3",
   "version": "3.12.3"
  }
 },
 "nbformat": 4,
 "nbformat_minor": 2
}
