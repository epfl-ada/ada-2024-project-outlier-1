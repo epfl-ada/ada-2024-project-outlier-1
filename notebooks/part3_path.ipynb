{
 "cells": [
  {
   "cell_type": "markdown",
   "metadata": {},
   "source": [
    "# Part 2 : Would players be better now ?\n",
    "\n",
    "## Using the new structure, would players perform better in this Wikipedia version? "
   ]
  },
  {
   "cell_type": "markdown",
   "metadata": {},
   "source": [
    "for unfinished paths, check if new links would have appeared on articles visited during the games of 2007\n",
    "Does one of the new links redirect to the target?\n",
    "If not, is the shortest path to the target from the visited articles shorter than in 2007?\n",
    "for finished paths, would the players win sooner in the current version? -> see if the end goal appears sooner in the 2024 hyperlinks \n"
   ]
  },
  {
   "cell_type": "markdown",
   "metadata": {},
   "source": [
    "### Import"
   ]
  },
  {
   "cell_type": "code",
   "execution_count": 34,
   "metadata": {},
   "outputs": [],
   "source": [
    "import os\n",
    "import numpy as np\n",
    "import pandas as pd\n",
    "import matplotlib.pyplot as plt\n",
    "import seaborn as sns\n",
    "from tqdm import tqdm\n",
    "\n",
    "import networkx as nx\n",
    "\n",
    "from scipy import stats"
   ]
  },
  {
   "cell_type": "code",
   "execution_count": 2,
   "metadata": {},
   "outputs": [],
   "source": [
    "PATH_2007 = os.path.join('data', '2007')\n",
    "PATH_2024 = os.path.join('data', '2024')"
   ]
  },
  {
   "cell_type": "markdown",
   "metadata": {},
   "source": [
    "### Study of the players paths"
   ]
  },
  {
   "cell_type": "code",
   "execution_count": null,
   "metadata": {},
   "outputs": [],
   "source": [
    "links2007 = pd.read_csv(os.path.join(PATH_2007, 'links.tsv'), sep='\\t', comment='#', names=['linkSource', 'linkTarget'])\n",
    "links2024 = pd.read_csv(os.path.join(PATH_2024, 'links2024.csv'))\n",
    "links2024 = links2024.drop_duplicates().reset_index(drop=True)"
   ]
  },
  {
   "cell_type": "markdown",
   "metadata": {},
   "source": [
    "#### Paths unfinished"
   ]
  },
  {
   "cell_type": "code",
   "execution_count": 4,
   "metadata": {},
   "outputs": [],
   "source": [
    "path_unfinished = pd.read_csv(os.path.join(PATH_2007, 'paths_unfinished.tsv'), sep='\\t', comment='#', names=['hashedIpAddress', 'timestamp', 'durationInSec', 'path', 'target', 'type'], usecols=['hashedIpAddress', 'durationInSec', 'path', 'target', 'type'])"
   ]
  },
  {
   "cell_type": "markdown",
   "metadata": {},
   "source": [
    "Let's check if a path unfinished could have been finished in 2007 (if the player just miss the target in his path) and compare it to wikipedia 2024 links structure to see if the player would have been able to finish the game in 2024 shorter than in 2007.\n"
   ]
  },
  {
   "cell_type": "code",
   "execution_count": 5,
   "metadata": {},
   "outputs": [
    {
     "data": {
      "image/png": "[encoded data removed]",
      "text/plain": [
       "<Figure size 640x480 with 1 Axes>"
      ]
     },
     "metadata": {},
     "output_type": "display_data"
    }
   ],
   "source": [
    "# get path length\n",
    "path_unfinished['path_length'] = path_unfinished['path'].apply(lambda x: len([i for i in x.split(';') if i != '<']))\n",
    "\n",
    "# remove path with only one element -> not considered as an attempt\n",
    "path_unfinished = path_unfinished[path_unfinished['path_length'] > 1]\n",
    "\n",
    "# plot distribution\n",
    "sns.histplot(path_unfinished['path_length'], bins=range(1, max(path_unfinished['path_length'])+1), kde=False)\n",
    "plt.xlabel('Path Length')\n",
    "plt.ylabel('Frequency')\n",
    "plt.title('Distribution of Path Lengths (unfinished paths)')\n",
    "plt.show()"
   ]
  },
  {
   "cell_type": "code",
   "execution_count": 6,
   "metadata": {},
   "outputs": [
    {
     "data": {
      "text/plain": [
       "count    19661.000000\n",
       "mean         5.654545\n",
       "std          4.708857\n",
       "min          2.000000\n",
       "25%          3.000000\n",
       "50%          5.000000\n",
       "75%          7.000000\n",
       "max        192.000000\n",
       "Name: path_length, dtype: float64"
      ]
     },
     "execution_count": 6,
     "metadata": {},
     "output_type": "execute_result"
    }
   ],
   "source": [
    "path_unfinished.describe()['path_length']"
   ]
  },
  {
   "cell_type": "code",
   "execution_count": null,
   "metadata": {},
   "outputs": [],
   "source": [
    "def fix_path(path):\n",
    "    \"\"\"\n",
    "    Fix the path by removing the last element if it is '<'\n",
    "    \"\"\"\n",
    "    path_elements = path.split(';')\n",
    "    result_stack = []\n",
    "\n",
    "    for element in path_elements:\n",
    "        if element == '<':\n",
    "            if result_stack:  # Remove the last element only if the stack is not empty\n",
    "                result_stack.pop()\n",
    "        else:\n",
    "            result_stack.append(element)\n",
    "\n",
    "    return result_stack\n",
    "\n",
    "\n",
    "def check_if_link_exists(row, links):\n",
    "    \"\"\"\n",
    "    Check if in the path of the row, there is a faster way to reach the target\n",
    "    Also, check if the path is valid\n",
    "    \"\"\"\n",
    "    path_list = fix_path(row['path'])\n",
    "    # Convert list to a set for quick lookup and calculate target links\n",
    "    path_set = set(path_list)\n",
    "    target = row['target']\n",
    "    \n",
    "    # Filter links2024 to get only relevant links with target linkSource in path\n",
    "    last_links = set(links.loc[links['linkTarget'] == target, 'linkSource'])\n",
    "    intersecting_links = path_set.intersection(last_links)\n",
    "    \n",
    "    if intersecting_links:\n",
    "        # Verify that each path[i+1] exists in the linkTarget of path[i]\n",
    "        for i in range(len(path_list) - 1):\n",
    "            current_node = path_list[i]\n",
    "            next_node = path_list[i + 1]\n",
    "            # Check if next_node is in linkTarget of current_node in links2024\n",
    "            if not ((links['linkSource'] == current_node) & (links['linkTarget'] == next_node)).any():\n",
    "                return None, -1  # Return None, -1 if the link is invalid\n",
    "        \n",
    "        # Find the index of the first occurrence in path_list\n",
    "        index = next((i for i, link in enumerate(path_list) if link in intersecting_links), None)\n",
    "        return path_list[index], len(path_list) - index - 1\n",
    "    else:\n",
    "        return path_list[-1], 0"
   ]
  },
  {
   "cell_type": "code",
   "execution_count": null,
   "metadata": {},
   "outputs": [
    {
     "name": "stderr",
     "output_type": "stream",
     "text": [
      "Processing data: 100%|██████████| 19661/19661 [11:12<00:00, 29.22it/s]\n"
     ]
    }
   ],
   "source": [
    "# # create a dafaframe with columns 'path', 'target', 'final_link2007', 'final_link2024', 'distance2007', 'distance2024'\n",
    "# df_unfinished = []\n",
    "\n",
    "# for i, data in tqdm(path_unfinished.iterrows(), total=len(path_unfinished), desc='Processing data'):\n",
    "#     output_link, distance = check_if_link_exists(data, links2007)\n",
    "#     output_link2, distance2 = check_if_link_exists(data, links2024)\n",
    "\n",
    "#     # add the data to the output dataframe\n",
    "#     df_unfinished.append({'path': data['path'], 'target': data['target'], 'final_link2007': output_link, 'final_link2024': output_link2, 'distance2007': distance, 'distance2024': distance2})\n",
    "    \n",
    "# df_unfinished = pd.DataFrame(df_unfinished)\n",
    "\n",
    "# save df_unfinished to a csv file\n",
    "# df_unfinished.to_csv(os.path.join(PATH_2007, 'comparison_unfinished_to_2024.csv'), index=False)"
   ]
  },
  {
   "cell_type": "code",
   "execution_count": 7,
   "metadata": {},
   "outputs": [],
   "source": [
    "df_unfinished = pd.read_csv(os.path.join(PATH_2007, 'comparison_unfinished_to_2024.csv'))"
   ]
  },
  {
   "cell_type": "code",
   "execution_count": null,
   "metadata": {},
   "outputs": [
    {
     "name": "stdout",
     "output_type": "stream",
     "text": [
      "Link Finland -> %C3%85land does not exist in links2007\n"
     ]
    }
   ],
   "source": [
    "# testpath = path_unfinished.iloc[2232].path\n",
    "# testpath = fix_path(testpath)\n",
    "\n",
    "# for i in range(len(testpath) - 1):\n",
    "#     output = links2007[ (links2007.linkSource == testpath[i]) & (links2007.linkTarget == testpath[i+1])]\n",
    "#     if output.empty:\n",
    "#         print(f'Link {testpath[i]} -> {testpath[i+1]} does not exist in links2007')"
   ]
  },
  {
   "cell_type": "markdown",
   "metadata": {},
   "source": [
    "Find a way to have a good reprensentation of this (Interactive graph representation ?):"
   ]
  },
  {
   "cell_type": "code",
   "execution_count": 8,
   "metadata": {},
   "outputs": [
    {
     "name": "stdout",
     "output_type": "stream",
     "text": [
      "==== Path possible ? ====\n",
      "Path won't change between 2007 and 2024 : 14537\n",
      "Path impossible to do in 2024 but possible in 2007 : 4324\n",
      "Path still possible in 2024 : 15335\n",
      "\n",
      "==== Path faster or slower in 2024 ? ====\n",
      "Path faster in 2024 than 2007: 423\n",
      "Path slower in 2024 than 2007: 305\n"
     ]
    }
   ],
   "source": [
    "print(\"==== Path possible ? ====\")\n",
    "\n",
    "print(f\"Path won't change between 2007 and 2024 : {len(df_unfinished[(df_unfinished.distance2007 == 0) & (df_unfinished.distance2024 == 0)])}\")\n",
    "print(f\"Path impossible to do in 2024 but possible in 2007 : {len(df_unfinished[(df_unfinished.distance2007 >= 0) & (df_unfinished.distance2024 == -1)])}\")\n",
    "print(f\"Path still possible in 2024 : {len(df_unfinished[(df_unfinished.distance2007 >= 0) & (df_unfinished.distance2024 >= 0)])}\")\n",
    "\n",
    "print()\n",
    "print(\"==== Path faster or slower in 2024 ? ====\")\n",
    "print(f\"Path faster in 2024 than 2007: {len(df_unfinished[df_unfinished.distance2007 < df_unfinished.distance2024])}\")\n",
    "print(f\"Path slower in 2024 than 2007: {len(df_unfinished[(df_unfinished.distance2007 > df_unfinished.distance2024) & (df_unfinished.distance2024 >= 0)])}\")"
   ]
  },
  {
   "cell_type": "markdown",
   "metadata": {},
   "source": [
    "#### Paths finished"
   ]
  },
  {
   "cell_type": "code",
   "execution_count": 10,
   "metadata": {},
   "outputs": [],
   "source": [
    "path_finished = pd.read_csv(os.path.join(PATH_2007, 'paths_finished.tsv'), sep='\\t', comment='#', names=['hashedIpAddress', 'timestamp', 'durationInSec', 'path', 'rating'])\n",
    "path_finished['target'] = path_finished['path'].apply(lambda x: x.split(';')[-1])\n",
    "path_finished['path_length'] = path_finished['path'].apply(lambda x: len([i for i in x.split(';') if i != '<']))"
   ]
  },
  {
   "cell_type": "code",
   "execution_count": 11,
   "metadata": {},
   "outputs": [
    {
     "data": {
      "text/plain": [
       "PearsonRResult(statistic=0.4078773989988144, pvalue=0.0)"
      ]
     },
     "execution_count": 11,
     "metadata": {},
     "output_type": "execute_result"
    }
   ],
   "source": [
    "stats.pearsonr(path_finished.dropna(subset=['rating'])['path_length'], path_finished.dropna(subset=['rating'])['rating'])"
   ]
  },
  {
   "cell_type": "code",
   "execution_count": 12,
   "metadata": {},
   "outputs": [
    {
     "data": {
      "text/plain": [
       "SignificanceResult(statistic=0.5642040768809875, pvalue=0.0)"
      ]
     },
     "execution_count": 12,
     "metadata": {},
     "output_type": "execute_result"
    }
   ],
   "source": [
    "stats.spearmanr(path_finished.dropna(subset=['rating'])['path_length'], path_finished.dropna(subset=['rating'])['rating'])"
   ]
  },
  {
   "cell_type": "markdown",
   "metadata": {},
   "source": [
    "Significant correlation between the path length and rating of the player."
   ]
  },
  {
   "cell_type": "code",
   "execution_count": 13,
   "metadata": {},
   "outputs": [
    {
     "data": {
      "image/png": "[encoded data removed]",
      "text/plain": [
       "<Figure size 640x480 with 1 Axes>"
      ]
     },
     "metadata": {},
     "output_type": "display_data"
    }
   ],
   "source": [
    "sns.histplot(path_finished['path_length'], bins=range(1, max(path_unfinished['path_length'])+1), kde=False)\n",
    "plt.xlabel('Path Length')\n",
    "plt.ylabel('Frequency')\n",
    "plt.title('Distribution of Path Lengths (finished paths)')\n",
    "plt.show()"
   ]
  },
  {
   "cell_type": "code",
   "execution_count": 14,
   "metadata": {},
   "outputs": [],
   "source": [
    "def check_if_link_exists_finished(row, links):\n",
    "    path_list = fix_path(row['path'])\n",
    "    if len(path_list) > 1:\n",
    "        target = row['target']\n",
    "        path_list.remove(target)\n",
    "        \n",
    "        # Convert list to a set for quick lookup and calculate target links\n",
    "        path_set = set(path_list)\n",
    "        \n",
    "        # Filter links2024 to get only relevant links with target linkSource in path\n",
    "        last_links = set(links.loc[links['linkTarget'] == target, 'linkSource'])\n",
    "        intersecting_links = path_set.intersection(last_links)\n",
    "        \n",
    "        if intersecting_links:\n",
    "            # Verify that each path[i+1] exists in the linkTarget of path[i]\n",
    "            for i in range(len(path_list) - 1):\n",
    "                current_node = path_list[i]\n",
    "                next_node = path_list[i + 1]\n",
    "                # Check if next_node is in linkTarget of current_node in links2024\n",
    "                if not ((links['linkSource'] == current_node) & (links['linkTarget'] == next_node)).any():\n",
    "                    return None, -1  # Return None, -1 if the link is invalid\n",
    "            \n",
    "            # Find the index of the first occurrence in path_list\n",
    "            index = next((i for i, link in enumerate(path_list) if link in intersecting_links), None)\n",
    "            return path_list[index], len(path_list) - index - 1\n",
    "        else:\n",
    "            return path_list[-1], 0\n",
    "    else:\n",
    "        return path_list[0], 0"
   ]
  },
  {
   "cell_type": "code",
   "execution_count": null,
   "metadata": {},
   "outputs": [
    {
     "name": "stderr",
     "output_type": "stream",
     "text": [
      "Processing data: 100%|██████████| 45460/45460 [1:11:40<00:00, 10.57it/s]\n"
     ]
    }
   ],
   "source": [
    "# df_finished = []\n",
    "\n",
    "# for i, data in tqdm(path_finished.iterrows(), total=len(path_finished), desc='Processing data'):\n",
    "#     subdata = data[['path', 'target']]\n",
    "#     output_link, distance = check_if_link_exists_finished(subdata, links2007)\n",
    "#     output_link2, distance2 = check_if_link_exists_finished(subdata, links2024)\n",
    "\n",
    "#     # add the data to the output dataframe\n",
    "#     df_finished.append({'path': data['path'], 'target': data['target'], 'final_link2007': output_link, 'final_link2024': output_link2, 'distance2007': distance, 'distance2024': distance2})\n",
    "\n",
    "# df_finished = pd.DataFrame(df_finished)\n",
    "# df_finished.to_csv(os.path.join(PATH_2007, 'comparison_finished_to_2024.csv'), index=False)"
   ]
  },
  {
   "cell_type": "code",
   "execution_count": 15,
   "metadata": {},
   "outputs": [],
   "source": [
    "df_finished = pd.read_csv(os.path.join(PATH_2007, 'comparison_finished_to_2024.csv'))"
   ]
  },
  {
   "cell_type": "code",
   "execution_count": 29,
   "metadata": {},
   "outputs": [
    {
     "data": {
      "text/plain": [
       "'United_States;Washington%2C_D.C.;Government;Corporation;Employment;Trade_union;<;Marxism;Politics;Political_philosophy;Augustine_of_Hippo;Philosophy;Mathematics;Science;Society;Culture;Language;Sound;Music;<;Gas;Phase_%28matter%29;Thermodynamics;Heat;Energy;Force;Archimedes;Isaac_Newton;Momentum;Ren%C3%A9_Descartes;Mathematical_analysis;19th_century;British_Empire;Society;Switzerland;Latin;Vulgar_Latin;9th_century;Time;Number;Measurement;Milky_Way;Sphere;Physics;Universe;Cosmic_inflation;Metric_expansion_of_space;<;<;Big_Bang;Cosmic_microwave_background_radiation;Electromagnetic_radiation;Electric_field;Electric_charge;Michael_Faraday;England;Great_Britain;United_Kingdom;France;Franks;Germany;Luxembourg;Constitutional_monarchy;United_Kingdom;<;Japan;Buddhism;Buddha;Gautama_Buddha;Nepal;India;Indonesia;Netherlands;International_Court_of_Justice;United_States;Holy_Roman_Empire;Pope;Vatican_City;Election;Citizenship;Country;Antarctica;Desert;Sand;Granite;Crystal;Glass;Biology;Biodiversity;Extinction;Punctuated_equilibrium;Paleontology;Fossil;Cambrian;Stephen_Jay_Gould;Oppression;Psychology;Anthropology;Human;Communication;Information;Computer_science;Programming_language;Computer;Toy;Mammal;Human;Technology;Science;Middle_Ages;Industrial_Revolution;Henry_Ford;Woodrow_Wilson;William_Howard_Taft;Theodore_Roosevelt;William_McKinley;Grover_Cleveland;Chester_A._Arthur;James_Garfield;Rutherford_B._Hayes;Ulysses_S._Grant;Andrew_Johnson;Abraham_Lincoln;James_Buchanan;James_K._Polk;John_Tyler;William_Henry_Harrison;Martin_Van_Buren;Andrew_Jackson;President_of_the_United_States;George_Washington;John_Adams;Thomas_Jefferson;United_States_Declaration_of_Independence;Benjamin_Franklin;Electricity;Heat;Atom;Quantum_mechanics;Computational_chemistry;Computer_science;Information;Communication;Linguistics;Speech_synthesis;Vienna;World_War_II;Poland;Communism;Capitalism;16th_century;Brazil;Portuguese_language;East_Timor;Indonesian_language;<;Indonesian_language;Chinese_language;Singapore;Hong_Kong;Finance;Business;Cooperative;European_Union;Euro;Coin;Money;Economics;Crime;Law;Human_rights;Political_science;Game_theory;Sociology;Globalization;Multiculturalism;Cultural_identity;History;Humanities;Literature;Fiction;Novel;Virgil;Rome;Italy;Invasion;Nazi_Germany;Treaty_of_Versailles;League_of_Nations;Adolf_Hitler;Fascism;Nationalism;History_of_the_world;Africa;Temperate;Arctic_Circle;Russia;Soviet_Union;Russian_language;Ukraine;Russian_Revolution_of_1917;Vladimir_Lenin;Moscow;Principality;Liechtenstein;Gibraltar;Spain;Atlantic_Ocean;Greenland;Faroe_Islands;Norway;Sweden;Finland;%C3%85land;Nationality;Ethnic_group;Genealogy;Family;Roman_Empire;Eastern_Orthodox_Church;Australia;Papua_New_Guinea;Oceania;Sea;Ocean;Arctic_Ocean;Walrus;Arctic;Denmark;North_Sea;English_Channel;Ice_age;Climate;Weather;Planet;Solar_System;Asteroid;Jupiter;Neptune;Helium;Absolute_zero;Galileo_Galilei;Stephen_Hawking;Astronomy;Star;Sun;Astrology;Tycho_Brahe;Sk%C3%A5neland;Nationalism;Human;Aesthetics;David_Hume;John_Locke;Thomas_Hobbes;Geometry;Euclidean_geometry;Logic;Aristotle;Ethics;Immanuel_Kant;Age_of_Enlightenment;Political_economy;Thomas_Malthus;Famine;Joseph_Stalin;Leon_Trotsky;Judaism;Bah%C3%A1%27%C3%AD_Faith;Persian_Empire;Cyrus_the_Great;Iranian_peoples;Alexander_the_Great;Hebrew_language;Israel;Liberal_democracy;Liberalism;Education;Philosophy_of_mind;Brahman;Hinduism;Mahabharata;Sanskrit;Hindi;Mauritius;French_language;Belgium;Dutch_language;German_language;Kazakhstan;Stone_Age;Copper;Chemical_element;Electron;William_Gilbert;Amber;Spanish_language;South_America;Southern_United_States;American_Civil_War;William_Tecumseh_Sherman;Florida;Gulf_of_Mexico;Cuba;Christopher_Columbus;DNA;Genetics;Plant;Moss;Seed;Myco-heterotrophy;Plant;Fern;Alternation_of_generations;Plant;Flower;Fruit;Vegetable;Pea;Cultivar;Plant;Tree;Mythology;Greek_mythology;Homer;Odyssey;Odysseus;Roman_mythology;Ancient_Rome;Oligarchy;Magna_Carta;United_States_Constitution;San_Marino;Nauru;Kiribati;Christmas_Island;Indian_Ocean;Southern_Ocean;Argentina;Andes;Himalayas;Afghanistan;Tajikistan;Mosque;7th_century;Qur%27an;Muhammad;Islam;Middle_East;Persian_Gulf;Petroleum;Crust_%28geology%29;Geology;Iron;Nickel;Metal;Corrosion;Water;Seawater;Red_Sea;Suez_Canal;Mediterranean_Sea;Mesopotamia;Turkey;Georgia_%28country%29;Armenia;Iran;United_Arab_Emirates;Abu_Dhabi;Emirate;Saudi_Arabia;Yemen;Oman;Muscat%2C_Oman;Renaissance;14th_century;Hundred_Years%27_War;Western_Roman_Empire;Romulus_Augustus;Byzantine_Empire;Constantine_I;Serbia;Hungary;Slovenia;6th_century;Scotland;City_status_in_the_United_Kingdom;Birmingham;Market;Socialism;Karl_Marx;London;Fashion;Architecture;Light;Wave;Speed_of_light;Maxwell%27s_equations;Coulomb%27s_law;Albert_Einstein;Wolfgang_Amadeus_Mozart;Munich;8th_century;Picts;Ptolemy;Arabic_language;Palestinian_territories;West_Bank;International_law;World_Trade_Organization;Organization;Max_Weber;United_States;Yellowstone_National_Park;Mount_St._Helens;Seattle%2C_Washington;United_States;<;<;United_States;American_English;<;American_English;<;<;<;<;Yellowstone_National_Park;North_America;French_language;<;Guyana;<;Canada;English_language'"
      ]
     },
     "execution_count": 29,
     "metadata": {},
     "output_type": "execute_result"
    }
   ],
   "source": [
    "path_finished.iloc[8046]['path']"
   ]
  },
  {
   "cell_type": "code",
   "execution_count": 38,
   "metadata": {},
   "outputs": [
    {
     "name": "stdout",
     "output_type": "stream",
     "text": [
      "Link Claude_Monet -> %C3%89douard_Manet does not exist in links2007\n"
     ]
    }
   ],
   "source": [
    "testpath = path_finished.iloc[48079].path\n",
    "testpath = fix_path(testpath)\n",
    "\n",
    "for i in range(len(testpath) - 1):\n",
    "    output = links2007[ (links2007.linkSource == testpath[i]) & (links2007.linkTarget == testpath[i+1])]\n",
    "    if output.empty:\n",
    "        print(f'Link {testpath[i]} -> {testpath[i+1]} does not exist in links2007')"
   ]
  },
  {
   "cell_type": "code",
   "execution_count": 17,
   "metadata": {},
   "outputs": [
    {
     "name": "stdout",
     "output_type": "stream",
     "text": [
      "Åland\n",
      "Éire\n",
      "Édouard_Manet\n"
     ]
    }
   ],
   "source": [
    "from urllib.parse import unquote\n",
    "print(unquote('%C3%85land'))\n",
    "print(unquote('%C3%89ire'))\n",
    "print(unquote('%C3%89douard_Manet'))"
   ]
  },
  {
   "cell_type": "code",
   "execution_count": 35,
   "metadata": {},
   "outputs": [
    {
     "data": {
      "text/plain": [
       "'The_Cantos;Renaissance;Leonardo_da_Vinci;Mona_Lisa;Oil_painting;Impressionism;Claude_Monet;%C3%89douard_Manet;Diego_Vel%C3%A1zquez;Francisco_Goya;Printmaking'"
      ]
     },
     "execution_count": 35,
     "metadata": {},
     "output_type": "execute_result"
    }
   ],
   "source": [
    "path_finished.iloc[48079].path"
   ]
  },
  {
   "cell_type": "code",
   "execution_count": 23,
   "metadata": {},
   "outputs": [
    {
     "data": {
      "text/html": [
       "<div>\n",
       "<style scoped>\n",
       "    .dataframe tbody tr th:only-of-type {\n",
       "        vertical-align: middle;\n",
       "    }\n",
       "\n",
       "    .dataframe tbody tr th {\n",
       "        vertical-align: top;\n",
       "    }\n",
       "\n",
       "    .dataframe thead th {\n",
       "        text-align: right;\n",
       "    }\n",
       "</style>\n",
       "<table border=\"1\" class=\"dataframe\">\n",
       "  <thead>\n",
       "    <tr style=\"text-align: right;\">\n",
       "      <th></th>\n",
       "      <th>path</th>\n",
       "      <th>target</th>\n",
       "      <th>final_link2007</th>\n",
       "      <th>final_link2024</th>\n",
       "      <th>distance2007</th>\n",
       "      <th>distance2024</th>\n",
       "    </tr>\n",
       "  </thead>\n",
       "  <tbody>\n",
       "    <tr>\n",
       "      <th>4375</th>\n",
       "      <td>Euro;Finland;%C3%85land;Baltic_Sea;Atlantic_Oc...</td>\n",
       "      <td>Whale</td>\n",
       "      <td>NaN</td>\n",
       "      <td>Atlantic_Ocean</td>\n",
       "      <td>-1</td>\n",
       "      <td>0</td>\n",
       "    </tr>\n",
       "    <tr>\n",
       "      <th>8046</th>\n",
       "      <td>United_States;Washington%2C_D.C.;Government;Co...</td>\n",
       "      <td>English_language</td>\n",
       "      <td>NaN</td>\n",
       "      <td>NaN</td>\n",
       "      <td>-1</td>\n",
       "      <td>-1</td>\n",
       "    </tr>\n",
       "    <tr>\n",
       "      <th>9794</th>\n",
       "      <td>Democratic_Action_Party;Parliament_of_Malaysia...</td>\n",
       "      <td>Fruit</td>\n",
       "      <td>NaN</td>\n",
       "      <td>Florida</td>\n",
       "      <td>-1</td>\n",
       "      <td>0</td>\n",
       "    </tr>\n",
       "    <tr>\n",
       "      <th>17848</th>\n",
       "      <td>Finance;Money;Gold;19th_century;Impressionism;...</td>\n",
       "      <td>Drawing</td>\n",
       "      <td>NaN</td>\n",
       "      <td>NaN</td>\n",
       "      <td>-1</td>\n",
       "      <td>-1</td>\n",
       "    </tr>\n",
       "    <tr>\n",
       "      <th>48079</th>\n",
       "      <td>The_Cantos;Renaissance;Leonardo_da_Vinci;Mona_...</td>\n",
       "      <td>Printmaking</td>\n",
       "      <td>NaN</td>\n",
       "      <td>Oil_painting</td>\n",
       "      <td>-1</td>\n",
       "      <td>5</td>\n",
       "    </tr>\n",
       "  </tbody>\n",
       "</table>\n",
       "</div>"
      ],
      "text/plain": [
       "                                                    path            target   \n",
       "4375   Euro;Finland;%C3%85land;Baltic_Sea;Atlantic_Oc...             Whale  \\\n",
       "8046   United_States;Washington%2C_D.C.;Government;Co...  English_language   \n",
       "9794   Democratic_Action_Party;Parliament_of_Malaysia...             Fruit   \n",
       "17848  Finance;Money;Gold;19th_century;Impressionism;...           Drawing   \n",
       "48079  The_Cantos;Renaissance;Leonardo_da_Vinci;Mona_...       Printmaking   \n",
       "\n",
       "      final_link2007  final_link2024  distance2007  distance2024  \n",
       "4375             NaN  Atlantic_Ocean            -1             0  \n",
       "8046             NaN             NaN            -1            -1  \n",
       "9794             NaN         Florida            -1             0  \n",
       "17848            NaN             NaN            -1            -1  \n",
       "48079            NaN    Oil_painting            -1             5  "
      ]
     },
     "execution_count": 23,
     "metadata": {},
     "output_type": "execute_result"
    }
   ],
   "source": [
    "df_finished[df_finished.distance2007 == -1]"
   ]
  },
  {
   "cell_type": "code",
   "execution_count": 18,
   "metadata": {},
   "outputs": [
    {
     "name": "stdout",
     "output_type": "stream",
     "text": [
      "==== Path possible ? ====\n",
      "Path won't change between 2007 and 2024 : 14020\n",
      "Path impossible to do in 2024 but possible in 2007 : 32677\n",
      "Path still possible in 2024 : 18636\n",
      "\n",
      "==== Path faster or slower in 2024 ? ====\n",
      "Path faster in 2024 than 2007: 2719\n",
      "Path slower or equal in 2024 than 2007: 1900\n"
     ]
    }
   ],
   "source": [
    "print(\"==== Path possible ? ====\")\n",
    "\n",
    "print(f\"Path won't change between 2007 and 2024 : {len(df_finished[(df_finished.distance2007 == 0) & (df_finished.distance2024 == 0)])}\")\n",
    "print(f\"Path impossible to do in 2024 but possible in 2007 : {len(df_finished[(df_finished.distance2007 >= 0) & (df_finished.distance2024 == -1)])}\")\n",
    "print(f\"Path still possible in 2024 : {len(df_finished[(df_finished.distance2007 >= 0) & (df_finished.distance2024 >= 0)])}\")\n",
    "\n",
    "print()\n",
    "print(\"==== Path faster or slower in 2024 ? ====\")\n",
    "print(f\"Path faster in 2024 than 2007: {len(df_finished[df_finished.distance2007 < df_finished.distance2024])}\")\n",
    "print(f\"Path slower or equal in 2024 than 2007: {len(df_finished[(df_finished.distance2007 >= df_finished.distance2024) & (df_finished.distance2024 >= 0) & (df_finished.distance2007 > 0)])}\")"
   ]
  },
  {
   "cell_type": "code",
   "execution_count": 20,
   "metadata": {},
   "outputs": [
    {
     "data": {
      "text/plain": [
       "count    18639.000000\n",
       "mean         0.294383\n",
       "std          0.734087\n",
       "min          0.000000\n",
       "25%          0.000000\n",
       "50%          0.000000\n",
       "75%          0.000000\n",
       "max         27.000000\n",
       "Name: distance2024, dtype: float64"
      ]
     },
     "execution_count": 20,
     "metadata": {},
     "output_type": "execute_result"
    }
   ],
   "source": [
    "finished_stats2024 = df_finished[df_finished.distance2024 != -1].distance2024.describe()\n",
    "finished_stats2024"
   ]
  },
  {
   "cell_type": "code",
   "execution_count": 21,
   "metadata": {},
   "outputs": [
    {
     "data": {
      "text/plain": [
       "count    51313.000000\n",
       "mean         0.286438\n",
       "std          1.152318\n",
       "min          0.000000\n",
       "25%          0.000000\n",
       "50%          0.000000\n",
       "75%          0.000000\n",
       "max         79.000000\n",
       "Name: distance2007, dtype: float64"
      ]
     },
     "execution_count": 21,
     "metadata": {},
     "output_type": "execute_result"
    }
   ],
   "source": [
    "finished_stats2007 = df_finished[df_finished.distance2007 != -1].distance2007.describe()\n",
    "finished_stats2007"
   ]
  }
 ],
 "metadata": {
  "kernelspec": {
   "display_name": "ada",
   "language": "python",
   "name": "python3"
  },
  "language_info": {
   "codemirror_mode": {
    "name": "ipython",
    "version": 3
   },
   "file_extension": ".py",
   "mimetype": "text/x-python",
   "name": "python",
   "nbconvert_exporter": "python",
   "pygments_lexer": "ipython3",
   "version": "3.12.3"
  }
 },
 "nbformat": 4,
 "nbformat_minor": 2
}
