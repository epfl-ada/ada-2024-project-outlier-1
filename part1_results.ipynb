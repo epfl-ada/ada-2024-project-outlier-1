{
 "cells": [
  {
   "cell_type": "markdown",
   "metadata": {},
   "source": [
    "# Back to the Future : Time Travelling through Wikispeedia"
   ]
  },
  {
   "cell_type": "markdown",
   "metadata": {},
   "source": [
    "## Part 0 : Preprocessing of data"
   ]
  },
  {
   "cell_type": "markdown",
   "metadata": {},
   "source": [
    "#### Setting the environment \n",
    "Please check SETUP.md and pip_requirements.txt before running this notebook."
   ]
  },
  {
   "cell_type": "code",
   "execution_count": 1,
   "metadata": {},
   "outputs": [],
   "source": [
    "import pandas as pd\n",
    "import numpy as np\n",
    "\n",
    "import networkx as nx\n",
    "import matplotlib.pyplot as plt\n",
    "import os as os\n",
    "import sys\n",
    "import seaborn as sns\n",
    "import plotly.express as px\n",
    "import plotly.io as pio\n",
    "import plotly.graph_objects as go\n",
    "\n",
    "sys.path.append('../') \n",
    "sys.path.append('../data/') \n",
    "from src.scripts.loading_data import *\n",
    "from src.utils.data_utils import *\n",
    "from src.scripts.plotting import *"
   ]
  },
  {
   "cell_type": "markdown",
   "metadata": {},
   "source": [
    "Some definitions:\n",
    "- source article: the initial point of a game\n",
    "- target article: the final point that players are looking for.\n",
    "- path: all the articles visited by the player during his/her game, including the source and target articles (if the latter is found)\n"
   ]
  },
  {
   "cell_type": "markdown",
   "metadata": {},
   "source": [
    "## Part 1 : Defining the best moment to play Wikispeedia"
   ]
  },
  {
   "cell_type": "markdown",
   "metadata": {},
   "source": [
    "### 1.0) Introduction\n",
    "The start point of our journey is situated in the past, in 2007. We investigate possible reasons of failure at the Wikispeedia game on articles from 2007. For this purpose, we use the dataset furnished [1][2].\n"
   ]
  },
  {
   "cell_type": "markdown",
   "metadata": {},
   "source": [
    "### 1.1) Exploring categories\n",
    "The categories of the articles are given in the `categories.tsv` file.\n",
    "\n",
    "#### 1.1.1) Cleaning the categories"
   ]
  },
  {
   "cell_type": "code",
   "execution_count": 2,
   "metadata": {},
   "outputs": [
    {
     "name": "stdout",
     "output_type": "stream",
     "text": [
      "Shape of categories df: (5204, 3), number of unique articles in categories.tsv: (5204,), number of articles in articles.tsv: (4604,)\n"
     ]
    }
   ],
   "source": [
    "articles2007, links2007 = loading_articles_links('2007')\n",
    "\n",
    "categories = loading_cleaned_categories()\n",
    "print(f'Shape of categories df: {categories.shape}, number of unique articles in categories.tsv: {categories.index.unique().shape}, number of articles in articles.tsv: {articles2007.article_2007.unique().shape}')"
   ]
  },
  {
   "cell_type": "markdown",
   "metadata": {},
   "source": [
    "Wait a minute... There is more rows in categories than the number of articles. Some articles have more than 1 category! In addition, there are less unique appearance of articles than the total number of articles in `articles.tsv`! We want to fix that for our Sankey diagram. First let's find the 6 articles missing in `categories.tsv`."
   ]
  },
  {
   "cell_type": "code",
   "execution_count": 3,
   "metadata": {},
   "outputs": [
    {
     "data": {
      "text/plain": [
       "array(['Directdebit', 'Donation', 'Friend_Directdebit', 'Pikachu',\n",
       "       'Sponsorship_Directdebit', 'Wowpurchase'], dtype=object)"
      ]
     },
     "execution_count": 3,
     "metadata": {},
     "output_type": "execute_result"
    }
   ],
   "source": [
    "articles_not_in_categories = art_not_in_cat(articles2007, categories, 'article_2007')\n",
    "articles_not_in_categories"
   ]
  },
  {
   "cell_type": "markdown",
   "metadata": {},
   "source": [
    "We got them. Let's keep them here for later, it might be useful. Now let's deal with articles having several categories. First, let's find them."
   ]
  },
  {
   "cell_type": "code",
   "execution_count": 4,
   "metadata": {},
   "outputs": [
    {
     "data": {
      "text/plain": [
       "count\n",
       "1    4000\n",
       "2     590\n",
       "3       8\n",
       "Name: count, dtype: int64"
      ]
     },
     "execution_count": 4,
     "metadata": {},
     "output_type": "execute_result"
    }
   ],
   "source": [
    "categories.article.value_counts().value_counts()"
   ]
  },
  {
   "cell_type": "markdown",
   "metadata": {},
   "source": [
    "4000 articles have only 1 category, 590 have 2 categories and 8 of them have 3 categories."
   ]
  },
  {
   "cell_type": "code",
   "execution_count": 5,
   "metadata": {},
   "outputs": [
    {
     "data": {
      "text/html": [
       "<div>\n",
       "<style scoped>\n",
       "    .dataframe tbody tr th:only-of-type {\n",
       "        vertical-align: middle;\n",
       "    }\n",
       "\n",
       "    .dataframe tbody tr th {\n",
       "        vertical-align: top;\n",
       "    }\n",
       "\n",
       "    .dataframe thead th {\n",
       "        text-align: right;\n",
       "    }\n",
       "</style>\n",
       "<table border=\"1\" class=\"dataframe\">\n",
       "  <thead>\n",
       "    <tr style=\"text-align: right;\">\n",
       "      <th></th>\n",
       "      <th>article</th>\n",
       "      <th>category</th>\n",
       "      <th>main_category</th>\n",
       "    </tr>\n",
       "  </thead>\n",
       "  <tbody>\n",
       "  </tbody>\n",
       "</table>\n",
       "</div>"
      ],
      "text/plain": [
       "Empty DataFrame\n",
       "Columns: [article, category, main_category]\n",
       "Index: []"
      ]
     },
     "execution_count": 5,
     "metadata": {},
     "output_type": "execute_result"
    }
   ],
   "source": [
    "categories_duplicated = categories.loc[categories.index.duplicated(keep=False)]\n",
    "categories_duplicated"
   ]
  },
  {
   "cell_type": "code",
   "execution_count": 6,
   "metadata": {},
   "outputs": [
    {
     "data": {
      "text/html": [
       "<div>\n",
       "<style scoped>\n",
       "    .dataframe tbody tr th:only-of-type {\n",
       "        vertical-align: middle;\n",
       "    }\n",
       "\n",
       "    .dataframe tbody tr th {\n",
       "        vertical-align: top;\n",
       "    }\n",
       "\n",
       "    .dataframe thead th {\n",
       "        text-align: right;\n",
       "    }\n",
       "</style>\n",
       "<table border=\"1\" class=\"dataframe\">\n",
       "  <thead>\n",
       "    <tr style=\"text-align: right;\">\n",
       "      <th></th>\n",
       "      <th>article</th>\n",
       "      <th>category</th>\n",
       "      <th>main_category</th>\n",
       "    </tr>\n",
       "  </thead>\n",
       "  <tbody>\n",
       "    <tr>\n",
       "      <th>177</th>\n",
       "      <td>Al_Jazeera</td>\n",
       "      <td>[Citizenship, Media]</td>\n",
       "      <td>Citizenship</td>\n",
       "    </tr>\n",
       "    <tr>\n",
       "      <th>178</th>\n",
       "      <td>Al_Jazeera</td>\n",
       "      <td>[Citizenship, Politics_and_government]</td>\n",
       "      <td>Citizenship</td>\n",
       "    </tr>\n",
       "    <tr>\n",
       "      <th>205</th>\n",
       "      <td>Alfred_the_Great</td>\n",
       "      <td>[People, Military_People]</td>\n",
       "      <td>People</td>\n",
       "    </tr>\n",
       "    <tr>\n",
       "      <th>206</th>\n",
       "      <td>Alfred_the_Great</td>\n",
       "      <td>[People, Monarchs_of_Great_Britain]</td>\n",
       "      <td>People</td>\n",
       "    </tr>\n",
       "    <tr>\n",
       "      <th>297</th>\n",
       "      <td>Animation</td>\n",
       "      <td>[Everyday_life, Computer_and_Video_games]</td>\n",
       "      <td>Everyday_life</td>\n",
       "    </tr>\n",
       "    <tr>\n",
       "      <th>...</th>\n",
       "      <td>...</td>\n",
       "      <td>...</td>\n",
       "      <td>...</td>\n",
       "    </tr>\n",
       "    <tr>\n",
       "      <th>5046</th>\n",
       "      <td>Whipworm</td>\n",
       "      <td>[Science, Biology, Organisms]</td>\n",
       "      <td>Science</td>\n",
       "    </tr>\n",
       "    <tr>\n",
       "      <th>5051</th>\n",
       "      <td>White_cliffs_of_Dover</td>\n",
       "      <td>[Geography, Geography_of_Great_Britain]</td>\n",
       "      <td>Geography</td>\n",
       "    </tr>\n",
       "    <tr>\n",
       "      <th>5052</th>\n",
       "      <td>White_cliffs_of_Dover</td>\n",
       "      <td>[Geography, Geology_and_geophysics]</td>\n",
       "      <td>Geography</td>\n",
       "    </tr>\n",
       "    <tr>\n",
       "      <th>5068</th>\n",
       "      <td>William_Ewart_Gladstone</td>\n",
       "      <td>[People, Historical_figures]</td>\n",
       "      <td>People</td>\n",
       "    </tr>\n",
       "    <tr>\n",
       "      <th>5069</th>\n",
       "      <td>William_Ewart_Gladstone</td>\n",
       "      <td>[People, Political_People]</td>\n",
       "      <td>People</td>\n",
       "    </tr>\n",
       "  </tbody>\n",
       "</table>\n",
       "<p>198 rows × 3 columns</p>\n",
       "</div>"
      ],
      "text/plain": [
       "                      article                                   category  \\\n",
       "177                Al_Jazeera                       [Citizenship, Media]   \n",
       "178                Al_Jazeera     [Citizenship, Politics_and_government]   \n",
       "205          Alfred_the_Great                  [People, Military_People]   \n",
       "206          Alfred_the_Great        [People, Monarchs_of_Great_Britain]   \n",
       "297                 Animation  [Everyday_life, Computer_and_Video_games]   \n",
       "...                       ...                                        ...   \n",
       "5046                 Whipworm              [Science, Biology, Organisms]   \n",
       "5051    White_cliffs_of_Dover    [Geography, Geography_of_Great_Britain]   \n",
       "5052    White_cliffs_of_Dover        [Geography, Geology_and_geophysics]   \n",
       "5068  William_Ewart_Gladstone               [People, Historical_figures]   \n",
       "5069  William_Ewart_Gladstone                 [People, Political_People]   \n",
       "\n",
       "      main_category  \n",
       "177     Citizenship  \n",
       "178     Citizenship  \n",
       "205          People  \n",
       "206          People  \n",
       "297   Everyday_life  \n",
       "...             ...  \n",
       "5046        Science  \n",
       "5051      Geography  \n",
       "5052      Geography  \n",
       "5068         People  \n",
       "5069         People  \n",
       "\n",
       "[198 rows x 3 columns]"
      ]
     },
     "execution_count": 6,
     "metadata": {},
     "output_type": "execute_result"
    }
   ],
   "source": [
    "categories.loc[categories[['article', 'main_category']].duplicated(keep=False)]"
   ]
  },
  {
   "cell_type": "markdown",
   "metadata": {},
   "source": [
    "We notice that some articles have the same main category but the subcategories are different. Let's focus on the main category and get rid off the other subcategories. We keep delete one the duplicated main category for every concerned article. "
   ]
  },
  {
   "cell_type": "code",
   "execution_count": 7,
   "metadata": {},
   "outputs": [
    {
     "data": {
      "text/html": [
       "<div>\n",
       "<style scoped>\n",
       "    .dataframe tbody tr th:only-of-type {\n",
       "        vertical-align: middle;\n",
       "    }\n",
       "\n",
       "    .dataframe tbody tr th {\n",
       "        vertical-align: top;\n",
       "    }\n",
       "\n",
       "    .dataframe thead th {\n",
       "        text-align: right;\n",
       "    }\n",
       "</style>\n",
       "<table border=\"1\" class=\"dataframe\">\n",
       "  <thead>\n",
       "    <tr style=\"text-align: right;\">\n",
       "      <th></th>\n",
       "      <th>article</th>\n",
       "      <th>category</th>\n",
       "      <th>main_category</th>\n",
       "    </tr>\n",
       "  </thead>\n",
       "  <tbody>\n",
       "    <tr>\n",
       "      <th>0</th>\n",
       "      <td>%C3%81ed%C3%A1n_mac_Gabr%C3%A1in</td>\n",
       "      <td>[History, British_History, British_History_150...</td>\n",
       "      <td>History</td>\n",
       "    </tr>\n",
       "    <tr>\n",
       "      <th>1</th>\n",
       "      <td>%C3%81ed%C3%A1n_mac_Gabr%C3%A1in</td>\n",
       "      <td>[People, Historical_figures]</td>\n",
       "      <td>People</td>\n",
       "    </tr>\n",
       "    <tr>\n",
       "      <th>2</th>\n",
       "      <td>%C3%85land</td>\n",
       "      <td>[Countries]</td>\n",
       "      <td>Countries</td>\n",
       "    </tr>\n",
       "    <tr>\n",
       "      <th>3</th>\n",
       "      <td>%C3%85land</td>\n",
       "      <td>[Geography, European_Geography, European_Count...</td>\n",
       "      <td>Geography</td>\n",
       "    </tr>\n",
       "    <tr>\n",
       "      <th>4</th>\n",
       "      <td>%C3%89douard_Manet</td>\n",
       "      <td>[People, Artists]</td>\n",
       "      <td>People</td>\n",
       "    </tr>\n",
       "    <tr>\n",
       "      <th>...</th>\n",
       "      <td>...</td>\n",
       "      <td>...</td>\n",
       "      <td>...</td>\n",
       "    </tr>\n",
       "    <tr>\n",
       "      <th>5199</th>\n",
       "      <td>Zirconium</td>\n",
       "      <td>[Science, Chemistry, Chemical_elements]</td>\n",
       "      <td>Science</td>\n",
       "    </tr>\n",
       "    <tr>\n",
       "      <th>5200</th>\n",
       "      <td>Zoroaster</td>\n",
       "      <td>[People, Religious_figures_and_leaders]</td>\n",
       "      <td>People</td>\n",
       "    </tr>\n",
       "    <tr>\n",
       "      <th>5201</th>\n",
       "      <td>Zuid-Gelders</td>\n",
       "      <td>[Geography, European_Geography]</td>\n",
       "      <td>Geography</td>\n",
       "    </tr>\n",
       "    <tr>\n",
       "      <th>5202</th>\n",
       "      <td>Zuid-Gelders</td>\n",
       "      <td>[Language_and_literature, Languages]</td>\n",
       "      <td>Language_and_literature</td>\n",
       "    </tr>\n",
       "    <tr>\n",
       "      <th>5203</th>\n",
       "      <td>Zulu</td>\n",
       "      <td>[Geography, African_Geography]</td>\n",
       "      <td>Geography</td>\n",
       "    </tr>\n",
       "  </tbody>\n",
       "</table>\n",
       "<p>5105 rows × 3 columns</p>\n",
       "</div>"
      ],
      "text/plain": [
       "                               article  \\\n",
       "0     %C3%81ed%C3%A1n_mac_Gabr%C3%A1in   \n",
       "1     %C3%81ed%C3%A1n_mac_Gabr%C3%A1in   \n",
       "2                           %C3%85land   \n",
       "3                           %C3%85land   \n",
       "4                   %C3%89douard_Manet   \n",
       "...                                ...   \n",
       "5199                         Zirconium   \n",
       "5200                         Zoroaster   \n",
       "5201                      Zuid-Gelders   \n",
       "5202                      Zuid-Gelders   \n",
       "5203                              Zulu   \n",
       "\n",
       "                                               category  \\\n",
       "0     [History, British_History, British_History_150...   \n",
       "1                          [People, Historical_figures]   \n",
       "2                                           [Countries]   \n",
       "3     [Geography, European_Geography, European_Count...   \n",
       "4                                     [People, Artists]   \n",
       "...                                                 ...   \n",
       "5199            [Science, Chemistry, Chemical_elements]   \n",
       "5200            [People, Religious_figures_and_leaders]   \n",
       "5201                    [Geography, European_Geography]   \n",
       "5202               [Language_and_literature, Languages]   \n",
       "5203                     [Geography, African_Geography]   \n",
       "\n",
       "                main_category  \n",
       "0                     History  \n",
       "1                      People  \n",
       "2                   Countries  \n",
       "3                   Geography  \n",
       "4                      People  \n",
       "...                       ...  \n",
       "5199                  Science  \n",
       "5200                   People  \n",
       "5201                Geography  \n",
       "5202  Language_and_literature  \n",
       "5203                Geography  \n",
       "\n",
       "[5105 rows x 3 columns]"
      ]
     },
     "execution_count": 7,
     "metadata": {},
     "output_type": "execute_result"
    }
   ],
   "source": [
    "categories = categories.drop(index=categories.loc[categories[['article', 'main_category']].duplicated()].index)\n",
    "categories"
   ]
  },
  {
   "cell_type": "code",
   "execution_count": 8,
   "metadata": {},
   "outputs": [
    {
     "data": {
      "text/html": [
       "<div>\n",
       "<style scoped>\n",
       "    .dataframe tbody tr th:only-of-type {\n",
       "        vertical-align: middle;\n",
       "    }\n",
       "\n",
       "    .dataframe tbody tr th {\n",
       "        vertical-align: top;\n",
       "    }\n",
       "\n",
       "    .dataframe thead th {\n",
       "        text-align: right;\n",
       "    }\n",
       "</style>\n",
       "<table border=\"1\" class=\"dataframe\">\n",
       "  <thead>\n",
       "    <tr style=\"text-align: right;\">\n",
       "      <th></th>\n",
       "      <th>article</th>\n",
       "      <th>category</th>\n",
       "      <th>main_category</th>\n",
       "    </tr>\n",
       "  </thead>\n",
       "  <tbody>\n",
       "  </tbody>\n",
       "</table>\n",
       "</div>"
      ],
      "text/plain": [
       "Empty DataFrame\n",
       "Columns: [article, category, main_category]\n",
       "Index: []"
      ]
     },
     "execution_count": 8,
     "metadata": {},
     "output_type": "execute_result"
    }
   ],
   "source": [
    "# let's check if this problem is solved, i.e. this command return an empty df\n",
    "categories.loc[categories[['article', 'main_category']].duplicated(keep=False)]"
   ]
  },
  {
   "cell_type": "code",
   "execution_count": 9,
   "metadata": {},
   "outputs": [
    {
     "data": {
      "text/html": [
       "<div>\n",
       "<style scoped>\n",
       "    .dataframe tbody tr th:only-of-type {\n",
       "        vertical-align: middle;\n",
       "    }\n",
       "\n",
       "    .dataframe tbody tr th {\n",
       "        vertical-align: top;\n",
       "    }\n",
       "\n",
       "    .dataframe thead th {\n",
       "        text-align: right;\n",
       "    }\n",
       "</style>\n",
       "<table border=\"1\" class=\"dataframe\">\n",
       "  <thead>\n",
       "    <tr style=\"text-align: right;\">\n",
       "      <th></th>\n",
       "      <th>article</th>\n",
       "      <th>category</th>\n",
       "      <th>main_category</th>\n",
       "    </tr>\n",
       "  </thead>\n",
       "  <tbody>\n",
       "    <tr>\n",
       "      <th>0</th>\n",
       "      <td>%C3%81ed%C3%A1n_mac_Gabr%C3%A1in</td>\n",
       "      <td>[History, British_History, British_History_150...</td>\n",
       "      <td>History</td>\n",
       "    </tr>\n",
       "    <tr>\n",
       "      <th>1</th>\n",
       "      <td>%C3%81ed%C3%A1n_mac_Gabr%C3%A1in</td>\n",
       "      <td>[People, Historical_figures]</td>\n",
       "      <td>People</td>\n",
       "    </tr>\n",
       "    <tr>\n",
       "      <th>2</th>\n",
       "      <td>%C3%85land</td>\n",
       "      <td>[Countries]</td>\n",
       "      <td>Countries</td>\n",
       "    </tr>\n",
       "    <tr>\n",
       "      <th>3</th>\n",
       "      <td>%C3%85land</td>\n",
       "      <td>[Geography, European_Geography, European_Count...</td>\n",
       "      <td>Geography</td>\n",
       "    </tr>\n",
       "    <tr>\n",
       "      <th>5</th>\n",
       "      <td>%C3%89ire</td>\n",
       "      <td>[Countries]</td>\n",
       "      <td>Countries</td>\n",
       "    </tr>\n",
       "    <tr>\n",
       "      <th>...</th>\n",
       "      <td>...</td>\n",
       "      <td>...</td>\n",
       "      <td>...</td>\n",
       "    </tr>\n",
       "    <tr>\n",
       "      <th>5193</th>\n",
       "      <td>Zimbabwe</td>\n",
       "      <td>[Countries]</td>\n",
       "      <td>Countries</td>\n",
       "    </tr>\n",
       "    <tr>\n",
       "      <th>5197</th>\n",
       "      <td>Zionism</td>\n",
       "      <td>[People, Political_People]</td>\n",
       "      <td>People</td>\n",
       "    </tr>\n",
       "    <tr>\n",
       "      <th>5198</th>\n",
       "      <td>Zionism</td>\n",
       "      <td>[Religion, Religious_movements_traditions_and_...</td>\n",
       "      <td>Religion</td>\n",
       "    </tr>\n",
       "    <tr>\n",
       "      <th>5201</th>\n",
       "      <td>Zuid-Gelders</td>\n",
       "      <td>[Geography, European_Geography]</td>\n",
       "      <td>Geography</td>\n",
       "    </tr>\n",
       "    <tr>\n",
       "      <th>5202</th>\n",
       "      <td>Zuid-Gelders</td>\n",
       "      <td>[Language_and_literature, Languages]</td>\n",
       "      <td>Language_and_literature</td>\n",
       "    </tr>\n",
       "  </tbody>\n",
       "</table>\n",
       "<p>1013 rows × 3 columns</p>\n",
       "</div>"
      ],
      "text/plain": [
       "                               article  \\\n",
       "0     %C3%81ed%C3%A1n_mac_Gabr%C3%A1in   \n",
       "1     %C3%81ed%C3%A1n_mac_Gabr%C3%A1in   \n",
       "2                           %C3%85land   \n",
       "3                           %C3%85land   \n",
       "5                            %C3%89ire   \n",
       "...                                ...   \n",
       "5193                          Zimbabwe   \n",
       "5197                           Zionism   \n",
       "5198                           Zionism   \n",
       "5201                      Zuid-Gelders   \n",
       "5202                      Zuid-Gelders   \n",
       "\n",
       "                                               category  \\\n",
       "0     [History, British_History, British_History_150...   \n",
       "1                          [People, Historical_figures]   \n",
       "2                                           [Countries]   \n",
       "3     [Geography, European_Geography, European_Count...   \n",
       "5                                           [Countries]   \n",
       "...                                                 ...   \n",
       "5193                                        [Countries]   \n",
       "5197                         [People, Political_People]   \n",
       "5198  [Religion, Religious_movements_traditions_and_...   \n",
       "5201                    [Geography, European_Geography]   \n",
       "5202               [Language_and_literature, Languages]   \n",
       "\n",
       "                main_category  \n",
       "0                     History  \n",
       "1                      People  \n",
       "2                   Countries  \n",
       "3                   Geography  \n",
       "5                   Countries  \n",
       "...                       ...  \n",
       "5193                Countries  \n",
       "5197                   People  \n",
       "5198                 Religion  \n",
       "5201                Geography  \n",
       "5202  Language_and_literature  \n",
       "\n",
       "[1013 rows x 3 columns]"
      ]
     },
     "execution_count": 9,
     "metadata": {},
     "output_type": "execute_result"
    }
   ],
   "source": [
    "# update the df containing only duplicated articles. We have deleted 90 useless rows. \n",
    "categories_duplicated = categories.loc[categories.article.duplicated(keep=False)]\n",
    "categories_duplicated"
   ]
  },
  {
   "cell_type": "markdown",
   "metadata": {},
   "source": [
    "It looks better, but we still have 1013 rows to sort out. From now on, we will do purely arbitrary choices to keep only one main category.\n",
    "You can find the logical reasoning and examples of paths concerned in `categories_partial_ordering.md`. Using this partial ordering, we can kick out the duplicated articles we do not want."
   ]
  },
  {
   "cell_type": "code",
   "execution_count": 10,
   "metadata": {},
   "outputs": [
    {
     "name": "stdout",
     "output_type": "stream",
     "text": [
      "Number of unique article names in categories: 4598, number of rows: 4598.\n"
     ]
    },
    {
     "data": {
      "text/html": [
       "<div>\n",
       "<style scoped>\n",
       "    .dataframe tbody tr th:only-of-type {\n",
       "        vertical-align: middle;\n",
       "    }\n",
       "\n",
       "    .dataframe tbody tr th {\n",
       "        vertical-align: top;\n",
       "    }\n",
       "\n",
       "    .dataframe thead th {\n",
       "        text-align: right;\n",
       "    }\n",
       "</style>\n",
       "<table border=\"1\" class=\"dataframe\">\n",
       "  <thead>\n",
       "    <tr style=\"text-align: right;\">\n",
       "      <th></th>\n",
       "      <th>article</th>\n",
       "      <th>category</th>\n",
       "      <th>main_category</th>\n",
       "    </tr>\n",
       "  </thead>\n",
       "  <tbody>\n",
       "  </tbody>\n",
       "</table>\n",
       "</div>"
      ],
      "text/plain": [
       "Empty DataFrame\n",
       "Columns: [article, category, main_category]\n",
       "Index: []"
      ]
     },
     "metadata": {},
     "output_type": "display_data"
    }
   ],
   "source": [
    "\n",
    "relationships = [('History', 'People'), ('Religion', 'People'), ('Language_and_literature', 'People'),\n",
    " ('Science', 'People'), ('Religion', 'History'), ('Countries', 'Geography'), ('Language_and_literature', 'Geography'), \n",
    " ('Language_and_literature', 'Design_and_Technology'), ('Language_and_literature', 'History'), ('Science', 'Everyday_life'), \n",
    " ('Science', 'Design_and_Technology'), ('Geography', 'Design_and_Technology'), ('Design_and_Technology', 'History'), \n",
    " ('Mathematics', 'Everyday_life'), ('Everyday_life', 'People'), ('Everyday_life', 'History'), ('Geography', 'History'),\n",
    " ('Geography', 'Citizenship'), ('Design_and_Technology', 'Citizenship'), ('Design_and_Technology', 'Everyday_life'),\n",
    " ('Science', 'Citizenship'), ('IT', 'Business_Studies'), ('Business_Studies', 'Geography'), ('Business_Studies', 'People'),\n",
    " ('Everyday_life', 'Citizenship'), ('Business_Studies', 'Everyday_life'), ('Everyday_life', 'People'), ('IT', 'Science'),\n",
    " ('Geography', 'Everyday_life'), ('Science', 'Geography'), ('Business_Studies', 'History'), ('History', 'Citizenship'),\n",
    " ('Science', 'History'), ('Science', 'Business_Studies'), ('Art', 'Everyday_life'), ('Art', 'Business_Studies'),\n",
    " ('Art', 'Design_and_Technology'), ('Music', 'History'), ('Religion', 'Citizenship'), ('IT', 'Design_and_Technology'),\n",
    " ('IT', 'Citizenship'), ('Business_Studies', 'Citizenship'), ('Art', 'History'), ('IT', 'History'), \n",
    " ('Science', 'Religion'), ('Language_and_literature', 'Art'), ('Design_and_Technology', 'People')]\n",
    "\n",
    "categories, categories_duplicated = delete_duplicates_cat(categories, relationships)\n",
    "\n",
    "print(f'Number of unique article names in categories: {categories.article.unique().size}, number of rows: {categories.article.size}.')\n",
    "\n",
    "categories = categories.set_index('article') # easier for the following\n",
    "\n",
    "display(categories_duplicated) # is empty, as expected"
   ]
  },
  {
   "cell_type": "code",
   "execution_count": 11,
   "metadata": {},
   "outputs": [
    {
     "data": {
      "application/vnd.plotly.v1+json": {
       "config": {
        "plotlyServerURL": "https://plot.ly"
       },
       "data": [
        {
         "labels": [
          "Science",
          "Geography",
          "People",
          "History",
          "Everyday_life",
          "Countries",
          "Design_and_Technology",
          "Language_and_literature",
          "Citizenship",
          "Religion",
          "Music",
          "IT",
          "Business_Studies",
          "Mathematics",
          "Art"
         ],
         "marker": {
          "colors": [
           "#1f78b4",
           "#fb9a99",
           "#b15928",
           "#eeee55",
           "#cab2d6",
           "#e31a1c",
           "#b2df8a",
           "#33a02c",
           "#a6cee3",
           "#fdbf6f",
           "#888888",
           "#ff7f00",
           "#000000",
           "#6a3d9a",
           "#daa520"
          ]
         },
         "showlegend": false,
         "textinfo": "percent+label",
         "textposition": [
          "inside",
          "inside",
          "inside",
          "inside",
          "inside",
          "outside",
          "outside",
          "outside",
          "outside",
          "outside",
          "outside",
          "outside",
          "outside",
          "outside",
          "outside"
         ],
         "texttemplate": [
          "%{label}<br>%{percent}",
          "%{label}<br>%{percent}",
          "%{label}<br>%{percent}",
          "%{label}<br>%{percent}",
          "%{label}<br>%{percent}",
          "%{label} %{percent}",
          "%{label} %{percent}",
          "%{label} %{percent}",
          "%{label} %{percent}",
          "%{label} %{percent}",
          "%{label} %{percent}",
          "%{label} %{percent}",
          "%{label} %{percent}",
          "%{label} %{percent}",
          "%{label} %{percent}"
         ],
         "type": "pie",
         "values": [
          1103,
          825,
          575,
          482,
          303,
          229,
          222,
          194,
          190,
          129,
          97,
          84,
          83,
          45,
          37
         ]
        }
       ],
       "layout": {
        "font": {
         "size": 18
        },
        "height": 500,
        "margin": {
         "b": 20,
         "l": 20,
         "r": 20,
         "t": 50
        },
        "template": {
         "data": {
          "bar": [
           {
            "error_x": {
             "color": "#2a3f5f"
            },
            "error_y": {
             "color": "#2a3f5f"
            },
            "marker": {
             "line": {
              "color": "#E5ECF6",
              "width": 0.5
             },
             "pattern": {
              "fillmode": "overlay",
              "size": 10,
              "solidity": 0.2
             }
            },
            "type": "bar"
           }
          ],
          "barpolar": [
           {
            "marker": {
             "line": {
              "color": "#E5ECF6",
              "width": 0.5
             },
             "pattern": {
              "fillmode": "overlay",
              "size": 10,
              "solidity": 0.2
             }
            },
            "type": "barpolar"
           }
          ],
          "carpet": [
           {
            "aaxis": {
             "endlinecolor": "#2a3f5f",
             "gridcolor": "white",
             "linecolor": "white",
             "minorgridcolor": "white",
             "startlinecolor": "#2a3f5f"
            },
            "baxis": {
             "endlinecolor": "#2a3f5f",
             "gridcolor": "white",
             "linecolor": "white",
             "minorgridcolor": "white",
             "startlinecolor": "#2a3f5f"
            },
            "type": "carpet"
           }
          ],
          "choropleth": [
           {
            "colorbar": {
             "outlinewidth": 0,
             "ticks": ""
            },
            "type": "choropleth"
           }
          ],
          "contour": [
           {
            "colorbar": {
             "outlinewidth": 0,
             "ticks": ""
            },
            "colorscale": [
             [
              0,
              "#0d0887"
             ],
             [
              0.1111111111111111,
              "#46039f"
             ],
             [
              0.2222222222222222,
              "#7201a8"
             ],
             [
              0.3333333333333333,
              "#9c179e"
             ],
             [
              0.4444444444444444,
              "#bd3786"
             ],
             [
              0.5555555555555556,
              "#d8576b"
             ],
             [
              0.6666666666666666,
              "#ed7953"
             ],
             [
              0.7777777777777778,
              "#fb9f3a"
             ],
             [
              0.8888888888888888,
              "#fdca26"
             ],
             [
              1,
              "#f0f921"
             ]
            ],
            "type": "contour"
           }
          ],
          "contourcarpet": [
           {
            "colorbar": {
             "outlinewidth": 0,
             "ticks": ""
            },
            "type": "contourcarpet"
           }
          ],
          "heatmap": [
           {
            "colorbar": {
             "outlinewidth": 0,
             "ticks": ""
            },
            "colorscale": [
             [
              0,
              "#0d0887"
             ],
             [
              0.1111111111111111,
              "#46039f"
             ],
             [
              0.2222222222222222,
              "#7201a8"
             ],
             [
              0.3333333333333333,
              "#9c179e"
             ],
             [
              0.4444444444444444,
              "#bd3786"
             ],
             [
              0.5555555555555556,
              "#d8576b"
             ],
             [
              0.6666666666666666,
              "#ed7953"
             ],
             [
              0.7777777777777778,
              "#fb9f3a"
             ],
             [
              0.8888888888888888,
              "#fdca26"
             ],
             [
              1,
              "#f0f921"
             ]
            ],
            "type": "heatmap"
           }
          ],
          "heatmapgl": [
           {
            "colorbar": {
             "outlinewidth": 0,
             "ticks": ""
            },
            "colorscale": [
             [
              0,
              "#0d0887"
             ],
             [
              0.1111111111111111,
              "#46039f"
             ],
             [
              0.2222222222222222,
              "#7201a8"
             ],
             [
              0.3333333333333333,
              "#9c179e"
             ],
             [
              0.4444444444444444,
              "#bd3786"
             ],
             [
              0.5555555555555556,
              "#d8576b"
             ],
             [
              0.6666666666666666,
              "#ed7953"
             ],
             [
              0.7777777777777778,
              "#fb9f3a"
             ],
             [
              0.8888888888888888,
              "#fdca26"
             ],
             [
              1,
              "#f0f921"
             ]
            ],
            "type": "heatmapgl"
           }
          ],
          "histogram": [
           {
            "marker": {
             "pattern": {
              "fillmode": "overlay",
              "size": 10,
              "solidity": 0.2
             }
            },
            "type": "histogram"
           }
          ],
          "histogram2d": [
           {
            "colorbar": {
             "outlinewidth": 0,
             "ticks": ""
            },
            "colorscale": [
             [
              0,
              "#0d0887"
             ],
             [
              0.1111111111111111,
              "#46039f"
             ],
             [
              0.2222222222222222,
              "#7201a8"
             ],
             [
              0.3333333333333333,
              "#9c179e"
             ],
             [
              0.4444444444444444,
              "#bd3786"
             ],
             [
              0.5555555555555556,
              "#d8576b"
             ],
             [
              0.6666666666666666,
              "#ed7953"
             ],
             [
              0.7777777777777778,
              "#fb9f3a"
             ],
             [
              0.8888888888888888,
              "#fdca26"
             ],
             [
              1,
              "#f0f921"
             ]
            ],
            "type": "histogram2d"
           }
          ],
          "histogram2dcontour": [
           {
            "colorbar": {
             "outlinewidth": 0,
             "ticks": ""
            },
            "colorscale": [
             [
              0,
              "#0d0887"
             ],
             [
              0.1111111111111111,
              "#46039f"
             ],
             [
              0.2222222222222222,
              "#7201a8"
             ],
             [
              0.3333333333333333,
              "#9c179e"
             ],
             [
              0.4444444444444444,
              "#bd3786"
             ],
             [
              0.5555555555555556,
              "#d8576b"
             ],
             [
              0.6666666666666666,
              "#ed7953"
             ],
             [
              0.7777777777777778,
              "#fb9f3a"
             ],
             [
              0.8888888888888888,
              "#fdca26"
             ],
             [
              1,
              "#f0f921"
             ]
            ],
            "type": "histogram2dcontour"
           }
          ],
          "mesh3d": [
           {
            "colorbar": {
             "outlinewidth": 0,
             "ticks": ""
            },
            "type": "mesh3d"
           }
          ],
          "parcoords": [
           {
            "line": {
             "colorbar": {
              "outlinewidth": 0,
              "ticks": ""
             }
            },
            "type": "parcoords"
           }
          ],
          "pie": [
           {
            "automargin": true,
            "type": "pie"
           }
          ],
          "scatter": [
           {
            "fillpattern": {
             "fillmode": "overlay",
             "size": 10,
             "solidity": 0.2
            },
            "type": "scatter"
           }
          ],
          "scatter3d": [
           {
            "line": {
             "colorbar": {
              "outlinewidth": 0,
              "ticks": ""
             }
            },
            "marker": {
             "colorbar": {
              "outlinewidth": 0,
              "ticks": ""
             }
            },
            "type": "scatter3d"
           }
          ],
          "scattercarpet": [
           {
            "marker": {
             "colorbar": {
              "outlinewidth": 0,
              "ticks": ""
             }
            },
            "type": "scattercarpet"
           }
          ],
          "scattergeo": [
           {
            "marker": {
             "colorbar": {
              "outlinewidth": 0,
              "ticks": ""
             }
            },
            "type": "scattergeo"
           }
          ],
          "scattergl": [
           {
            "marker": {
             "colorbar": {
              "outlinewidth": 0,
              "ticks": ""
             }
            },
            "type": "scattergl"
           }
          ],
          "scattermapbox": [
           {
            "marker": {
             "colorbar": {
              "outlinewidth": 0,
              "ticks": ""
             }
            },
            "type": "scattermapbox"
           }
          ],
          "scatterpolar": [
           {
            "marker": {
             "colorbar": {
              "outlinewidth": 0,
              "ticks": ""
             }
            },
            "type": "scatterpolar"
           }
          ],
          "scatterpolargl": [
           {
            "marker": {
             "colorbar": {
              "outlinewidth": 0,
              "ticks": ""
             }
            },
            "type": "scatterpolargl"
           }
          ],
          "scatterternary": [
           {
            "marker": {
             "colorbar": {
              "outlinewidth": 0,
              "ticks": ""
             }
            },
            "type": "scatterternary"
           }
          ],
          "surface": [
           {
            "colorbar": {
             "outlinewidth": 0,
             "ticks": ""
            },
            "colorscale": [
             [
              0,
              "#0d0887"
             ],
             [
              0.1111111111111111,
              "#46039f"
             ],
             [
              0.2222222222222222,
              "#7201a8"
             ],
             [
              0.3333333333333333,
              "#9c179e"
             ],
             [
              0.4444444444444444,
              "#bd3786"
             ],
             [
              0.5555555555555556,
              "#d8576b"
             ],
             [
              0.6666666666666666,
              "#ed7953"
             ],
             [
              0.7777777777777778,
              "#fb9f3a"
             ],
             [
              0.8888888888888888,
              "#fdca26"
             ],
             [
              1,
              "#f0f921"
             ]
            ],
            "type": "surface"
           }
          ],
          "table": [
           {
            "cells": {
             "fill": {
              "color": "#EBF0F8"
             },
             "line": {
              "color": "white"
             }
            },
            "header": {
             "fill": {
              "color": "#C8D4E3"
             },
             "line": {
              "color": "white"
             }
            },
            "type": "table"
           }
          ]
         },
         "layout": {
          "annotationdefaults": {
           "arrowcolor": "#2a3f5f",
           "arrowhead": 0,
           "arrowwidth": 1
          },
          "autotypenumbers": "strict",
          "coloraxis": {
           "colorbar": {
            "outlinewidth": 0,
            "ticks": ""
           }
          },
          "colorscale": {
           "diverging": [
            [
             0,
             "#8e0152"
            ],
            [
             0.1,
             "#c51b7d"
            ],
            [
             0.2,
             "#de77ae"
            ],
            [
             0.3,
             "#f1b6da"
            ],
            [
             0.4,
             "#fde0ef"
            ],
            [
             0.5,
             "#f7f7f7"
            ],
            [
             0.6,
             "#e6f5d0"
            ],
            [
             0.7,
             "#b8e186"
            ],
            [
             0.8,
             "#7fbc41"
            ],
            [
             0.9,
             "#4d9221"
            ],
            [
             1,
             "#276419"
            ]
           ],
           "sequential": [
            [
             0,
             "#0d0887"
            ],
            [
             0.1111111111111111,
             "#46039f"
            ],
            [
             0.2222222222222222,
             "#7201a8"
            ],
            [
             0.3333333333333333,
             "#9c179e"
            ],
            [
             0.4444444444444444,
             "#bd3786"
            ],
            [
             0.5555555555555556,
             "#d8576b"
            ],
            [
             0.6666666666666666,
             "#ed7953"
            ],
            [
             0.7777777777777778,
             "#fb9f3a"
            ],
            [
             0.8888888888888888,
             "#fdca26"
            ],
            [
             1,
             "#f0f921"
            ]
           ],
           "sequentialminus": [
            [
             0,
             "#0d0887"
            ],
            [
             0.1111111111111111,
             "#46039f"
            ],
            [
             0.2222222222222222,
             "#7201a8"
            ],
            [
             0.3333333333333333,
             "#9c179e"
            ],
            [
             0.4444444444444444,
             "#bd3786"
            ],
            [
             0.5555555555555556,
             "#d8576b"
            ],
            [
             0.6666666666666666,
             "#ed7953"
            ],
            [
             0.7777777777777778,
             "#fb9f3a"
            ],
            [
             0.8888888888888888,
             "#fdca26"
            ],
            [
             1,
             "#f0f921"
            ]
           ]
          },
          "colorway": [
           "#636efa",
           "#EF553B",
           "#00cc96",
           "#ab63fa",
           "#FFA15A",
           "#19d3f3",
           "#FF6692",
           "#B6E880",
           "#FF97FF",
           "#FECB52"
          ],
          "font": {
           "color": "#2a3f5f"
          },
          "geo": {
           "bgcolor": "white",
           "lakecolor": "white",
           "landcolor": "#E5ECF6",
           "showlakes": true,
           "showland": true,
           "subunitcolor": "white"
          },
          "hoverlabel": {
           "align": "left"
          },
          "hovermode": "closest",
          "mapbox": {
           "style": "light"
          },
          "paper_bgcolor": "white",
          "plot_bgcolor": "#E5ECF6",
          "polar": {
           "angularaxis": {
            "gridcolor": "white",
            "linecolor": "white",
            "ticks": ""
           },
           "bgcolor": "#E5ECF6",
           "radialaxis": {
            "gridcolor": "white",
            "linecolor": "white",
            "ticks": ""
           }
          },
          "scene": {
           "xaxis": {
            "backgroundcolor": "#E5ECF6",
            "gridcolor": "white",
            "gridwidth": 2,
            "linecolor": "white",
            "showbackground": true,
            "ticks": "",
            "zerolinecolor": "white"
           },
           "yaxis": {
            "backgroundcolor": "#E5ECF6",
            "gridcolor": "white",
            "gridwidth": 2,
            "linecolor": "white",
            "showbackground": true,
            "ticks": "",
            "zerolinecolor": "white"
           },
           "zaxis": {
            "backgroundcolor": "#E5ECF6",
            "gridcolor": "white",
            "gridwidth": 2,
            "linecolor": "white",
            "showbackground": true,
            "ticks": "",
            "zerolinecolor": "white"
           }
          },
          "shapedefaults": {
           "line": {
            "color": "#2a3f5f"
           }
          },
          "ternary": {
           "aaxis": {
            "gridcolor": "white",
            "linecolor": "white",
            "ticks": ""
           },
           "baxis": {
            "gridcolor": "white",
            "linecolor": "white",
            "ticks": ""
           },
           "bgcolor": "#E5ECF6",
           "caxis": {
            "gridcolor": "white",
            "linecolor": "white",
            "ticks": ""
           }
          },
          "title": {
           "x": 0.05
          },
          "xaxis": {
           "automargin": true,
           "gridcolor": "white",
           "linecolor": "white",
           "ticks": "",
           "title": {
            "standoff": 15
           },
           "zerolinecolor": "white",
           "zerolinewidth": 2
          },
          "yaxis": {
           "automargin": true,
           "gridcolor": "white",
           "linecolor": "white",
           "ticks": "",
           "title": {
            "standoff": 15
           },
           "zerolinecolor": "white",
           "zerolinewidth": 2
          }
         }
        },
        "title": {
         "text": "Main categories",
         "x": 0.5,
         "xanchor": "center"
        },
        "width": 800
       }
      }
     },
     "metadata": {},
     "output_type": "display_data"
    }
   ],
   "source": [
    "plot_cat_pie_chart(categories)"
   ]
  },
  {
   "cell_type": "markdown",
   "metadata": {},
   "source": [
    "#### 1.1.2) Links and categories"
   ]
  },
  {
   "cell_type": "markdown",
   "metadata": {},
   "source": [
    "Now each article has only one category assigned. We can thus work with the categories. First, let's analyse where links present in an article of a given category send the player: in the same category, or in another one?\n"
   ]
  },
  {
   "cell_type": "code",
   "execution_count": 12,
   "metadata": {},
   "outputs": [
    {
     "name": "stdout",
     "output_type": "stream",
     "text": [
      "4 articles have to be dropped: ['Pikachu' 'Sponsorship_Directdebit' 'Friend_Directdebit' 'Directdebit']\n"
     ]
    },
    {
     "data": {
      "text/html": [
       "<div>\n",
       "<style scoped>\n",
       "    .dataframe tbody tr th:only-of-type {\n",
       "        vertical-align: middle;\n",
       "    }\n",
       "\n",
       "    .dataframe tbody tr th {\n",
       "        vertical-align: top;\n",
       "    }\n",
       "\n",
       "    .dataframe thead th {\n",
       "        text-align: right;\n",
       "    }\n",
       "</style>\n",
       "<table border=\"1\" class=\"dataframe\">\n",
       "  <thead>\n",
       "    <tr style=\"text-align: right;\">\n",
       "      <th></th>\n",
       "      <th>linkSource</th>\n",
       "      <th>linkTarget</th>\n",
       "      <th>catSource</th>\n",
       "      <th>catTarget</th>\n",
       "    </tr>\n",
       "  </thead>\n",
       "  <tbody>\n",
       "    <tr>\n",
       "      <th>0</th>\n",
       "      <td>%C3%81ed%C3%A1n_mac_Gabr%C3%A1in</td>\n",
       "      <td>Bede</td>\n",
       "      <td>History</td>\n",
       "      <td>History</td>\n",
       "    </tr>\n",
       "    <tr>\n",
       "      <th>1</th>\n",
       "      <td>%C3%81ed%C3%A1n_mac_Gabr%C3%A1in</td>\n",
       "      <td>Columba</td>\n",
       "      <td>History</td>\n",
       "      <td>People</td>\n",
       "    </tr>\n",
       "    <tr>\n",
       "      <th>2</th>\n",
       "      <td>%C3%81ed%C3%A1n_mac_Gabr%C3%A1in</td>\n",
       "      <td>D%C3%A1l_Riata</td>\n",
       "      <td>History</td>\n",
       "      <td>History</td>\n",
       "    </tr>\n",
       "    <tr>\n",
       "      <th>3</th>\n",
       "      <td>%C3%81ed%C3%A1n_mac_Gabr%C3%A1in</td>\n",
       "      <td>Great_Britain</td>\n",
       "      <td>History</td>\n",
       "      <td>History</td>\n",
       "    </tr>\n",
       "    <tr>\n",
       "      <th>4</th>\n",
       "      <td>%C3%81ed%C3%A1n_mac_Gabr%C3%A1in</td>\n",
       "      <td>Ireland</td>\n",
       "      <td>History</td>\n",
       "      <td>Countries</td>\n",
       "    </tr>\n",
       "    <tr>\n",
       "      <th>...</th>\n",
       "      <td>...</td>\n",
       "      <td>...</td>\n",
       "      <td>...</td>\n",
       "      <td>...</td>\n",
       "    </tr>\n",
       "    <tr>\n",
       "      <th>119877</th>\n",
       "      <td>Zulu</td>\n",
       "      <td>South_Africa</td>\n",
       "      <td>Geography</td>\n",
       "      <td>Countries</td>\n",
       "    </tr>\n",
       "    <tr>\n",
       "      <th>119878</th>\n",
       "      <td>Zulu</td>\n",
       "      <td>Swaziland</td>\n",
       "      <td>Geography</td>\n",
       "      <td>Countries</td>\n",
       "    </tr>\n",
       "    <tr>\n",
       "      <th>119879</th>\n",
       "      <td>Zulu</td>\n",
       "      <td>United_Kingdom</td>\n",
       "      <td>Geography</td>\n",
       "      <td>Countries</td>\n",
       "    </tr>\n",
       "    <tr>\n",
       "      <th>119880</th>\n",
       "      <td>Zulu</td>\n",
       "      <td>Zambia</td>\n",
       "      <td>Geography</td>\n",
       "      <td>Countries</td>\n",
       "    </tr>\n",
       "    <tr>\n",
       "      <th>119881</th>\n",
       "      <td>Zulu</td>\n",
       "      <td>Zimbabwe</td>\n",
       "      <td>Geography</td>\n",
       "      <td>Countries</td>\n",
       "    </tr>\n",
       "  </tbody>\n",
       "</table>\n",
       "<p>119864 rows × 4 columns</p>\n",
       "</div>"
      ],
      "text/plain": [
       "                              linkSource      linkTarget  catSource  catTarget\n",
       "0       %C3%81ed%C3%A1n_mac_Gabr%C3%A1in            Bede    History    History\n",
       "1       %C3%81ed%C3%A1n_mac_Gabr%C3%A1in         Columba    History     People\n",
       "2       %C3%81ed%C3%A1n_mac_Gabr%C3%A1in  D%C3%A1l_Riata    History    History\n",
       "3       %C3%81ed%C3%A1n_mac_Gabr%C3%A1in   Great_Britain    History    History\n",
       "4       %C3%81ed%C3%A1n_mac_Gabr%C3%A1in         Ireland    History  Countries\n",
       "...                                  ...             ...        ...        ...\n",
       "119877                              Zulu    South_Africa  Geography  Countries\n",
       "119878                              Zulu       Swaziland  Geography  Countries\n",
       "119879                              Zulu  United_Kingdom  Geography  Countries\n",
       "119880                              Zulu          Zambia  Geography  Countries\n",
       "119881                              Zulu        Zimbabwe  Geography  Countries\n",
       "\n",
       "[119864 rows x 4 columns]"
      ]
     },
     "execution_count": 12,
     "metadata": {},
     "output_type": "execute_result"
    }
   ],
   "source": [
    "# have to check that the articles present in the links.tsv are in categories.tsv\n",
    "\n",
    "# retrieve all the article names present in links.tsv\n",
    "articles_names_from_links = list(links2007.linkSource.unique()) + list(links2007.linkTarget.unique())\n",
    "\n",
    "# keep 1 occurence per name only\n",
    "articles_names_from_links = pd.DataFrame.from_dict({'article': list(set(articles_names_from_links))})\n",
    "\n",
    "# find the articles that are not in categories.tsv\n",
    "articles_to_drop = art_not_in_cat(articles_names_from_links, categories, 'article', index=True)\n",
    "print(f'{len(articles_to_drop)} articles have to be dropped: {articles_to_drop}')\n",
    "\n",
    "# We drop them because we can not associate a category to them:\n",
    "links2007 = links2007.loc[~links2007.linkSource.isin(articles_to_drop) & ~links2007.linkTarget.isin(articles_to_drop)]\n",
    "\n",
    "# We add columns containing the categories of the source and target articles\n",
    "links2007['catSource'] = links2007['linkSource'].map(lambda x: categories.main_category.loc[x])\n",
    "links2007['catTarget'] = links2007['linkTarget'].map(lambda x: categories.main_category.loc[x])\n",
    "\n",
    "links2007"
   ]
  },
  {
   "cell_type": "code",
   "execution_count": 13,
   "metadata": {},
   "outputs": [
    {
     "data": {
      "application/vnd.plotly.v1+json": {
       "config": {
        "plotlyServerURL": "https://plot.ly"
       },
       "data": [
        {
         "colorscale": [
          [
           0,
           "rgb(12, 7, 134)"
          ],
          [
           0.010101010101010102,
           "rgb(76, 2, 161)"
          ],
          [
           0.020202020202020204,
           "rgb(95, 0, 166)"
          ],
          [
           0.030303030303030304,
           "rgb(109, 0, 168)"
          ],
          [
           0.04040404040404041,
           "rgb(120, 1, 168)"
          ],
          [
           0.050505050505050504,
           "rgb(129, 4, 167)"
          ],
          [
           0.06060606060606061,
           "rgb(137, 8, 165)"
          ],
          [
           0.0707070707070707,
           "rgb(144, 14, 163)"
          ],
          [
           0.08080808080808081,
           "rgb(151, 19, 160)"
          ],
          [
           0.09090909090909091,
           "rgb(158, 25, 156)"
          ],
          [
           0.10101010101010101,
           "rgb(163, 29, 153)"
          ],
          [
           0.1111111111111111,
           "rgb(168, 34, 150)"
          ],
          [
           0.12121212121212122,
           "rgb(173, 38, 146)"
          ],
          [
           0.13131313131313133,
           "rgb(176, 42, 143)"
          ],
          [
           0.1414141414141414,
           "rgb(181, 46, 140)"
          ],
          [
           0.15151515151515152,
           "rgb(184, 50, 137)"
          ],
          [
           0.16161616161616163,
           "rgb(187, 53, 134)"
          ],
          [
           0.1717171717171717,
           "rgb(190, 56, 131)"
          ],
          [
           0.18181818181818182,
           "rgb(193, 60, 128)"
          ],
          [
           0.1919191919191919,
           "rgb(196, 63, 126)"
          ],
          [
           0.20202020202020202,
           "rgb(199, 66, 123)"
          ],
          [
           0.21212121212121213,
           "rgb(202, 70, 120)"
          ],
          [
           0.2222222222222222,
           "rgb(205, 73, 117)"
          ],
          [
           0.23232323232323232,
           "rgb(207, 75, 116)"
          ],
          [
           0.24242424242424243,
           "rgb(209, 79, 113)"
          ],
          [
           0.25252525252525254,
           "rgb(211, 81, 111)"
          ],
          [
           0.26262626262626265,
           "rgb(214, 85, 109)"
          ],
          [
           0.2727272727272727,
           "rgb(215, 87, 107)"
          ],
          [
           0.2828282828282828,
           "rgb(218, 90, 104)"
          ],
          [
           0.29292929292929293,
           "rgb(220, 93, 102)"
          ],
          [
           0.30303030303030304,
           "rgb(221, 95, 101)"
          ],
          [
           0.31313131313131315,
           "rgb(223, 97, 99)"
          ],
          [
           0.32323232323232326,
           "rgb(225, 101, 96)"
          ],
          [
           0.3333333333333333,
           "rgb(227, 103, 95)"
          ],
          [
           0.3434343434343434,
           "rgb(228, 106, 93)"
          ],
          [
           0.35353535353535354,
           "rgb(229, 108, 91)"
          ],
          [
           0.36363636363636365,
           "rgb(231, 110, 90)"
          ],
          [
           0.37373737373737376,
           "rgb(232, 113, 88)"
          ],
          [
           0.3838383838383838,
           "rgb(234, 115, 86)"
          ],
          [
           0.3939393939393939,
           "rgb(235, 118, 84)"
          ],
          [
           0.40404040404040403,
           "rgb(236, 120, 83)"
          ],
          [
           0.41414141414141414,
           "rgb(237, 123, 81)"
          ],
          [
           0.42424242424242425,
           "rgb(239, 125, 79)"
          ],
          [
           0.43434343434343436,
           "rgb(239, 126, 78)"
          ],
          [
           0.4444444444444444,
           "rgb(240, 129, 77)"
          ],
          [
           0.45454545454545453,
           "rgb(242, 132, 75)"
          ],
          [
           0.46464646464646464,
           "rgb(243, 134, 73)"
          ],
          [
           0.47474747474747475,
           "rgb(244, 137, 71)"
          ],
          [
           0.48484848484848486,
           "rgb(244, 138, 71)"
          ],
          [
           0.494949494949495,
           "rgb(245, 141, 69)"
          ],
          [
           0.5050505050505051,
           "rgb(246, 143, 67)"
          ],
          [
           0.5151515151515151,
           "rgb(246, 145, 66)"
          ],
          [
           0.5252525252525253,
           "rgb(247, 147, 65)"
          ],
          [
           0.5353535353535354,
           "rgb(248, 150, 63)"
          ],
          [
           0.5454545454545454,
           "rgb(248, 152, 62)"
          ],
          [
           0.5555555555555556,
           "rgb(249, 154, 60)"
          ],
          [
           0.5656565656565656,
           "rgb(250, 157, 58)"
          ],
          [
           0.5757575757575758,
           "rgb(250, 159, 58)"
          ],
          [
           0.5858585858585859,
           "rgb(251, 162, 56)"
          ],
          [
           0.5959595959595959,
           "rgb(251, 163, 55)"
          ],
          [
           0.6060606060606061,
           "rgb(252, 166, 53)"
          ],
          [
           0.6161616161616161,
           "rgb(252, 167, 53)"
          ],
          [
           0.6262626262626263,
           "rgb(252, 170, 51)"
          ],
          [
           0.6363636363636364,
           "rgb(252, 172, 50)"
          ],
          [
           0.6464646464646465,
           "rgb(253, 175, 49)"
          ],
          [
           0.6565656565656566,
           "rgb(253, 176, 48)"
          ],
          [
           0.6666666666666666,
           "rgb(253, 179, 46)"
          ],
          [
           0.6767676767676768,
           "rgb(253, 181, 45)"
          ],
          [
           0.6868686868686869,
           "rgb(253, 184, 44)"
          ],
          [
           0.696969696969697,
           "rgb(253, 185, 43)"
          ],
          [
           0.7070707070707071,
           "rgb(253, 188, 42)"
          ],
          [
           0.7171717171717171,
           "rgb(253, 190, 41)"
          ],
          [
           0.7272727272727273,
           "rgb(253, 192, 41)"
          ],
          [
           0.7373737373737373,
           "rgb(253, 195, 40)"
          ],
          [
           0.7474747474747475,
           "rgb(253, 196, 39)"
          ],
          [
           0.7575757575757576,
           "rgb(253, 198, 38)"
          ],
          [
           0.7676767676767676,
           "rgb(252, 201, 38)"
          ],
          [
           0.7777777777777778,
           "rgb(252, 203, 37)"
          ],
          [
           0.7878787878787878,
           "rgb(252, 204, 37)"
          ],
          [
           0.797979797979798,
           "rgb(251, 208, 36)"
          ],
          [
           0.8080808080808081,
           "rgb(251, 209, 36)"
          ],
          [
           0.8181818181818182,
           "rgb(251, 211, 36)"
          ],
          [
           0.8282828282828283,
           "rgb(250, 214, 36)"
          ],
          [
           0.8383838383838383,
           "rgb(250, 216, 36)"
          ],
          [
           0.8484848484848485,
           "rgb(249, 217, 36)"
          ],
          [
           0.8585858585858586,
           "rgb(248, 221, 36)"
          ],
          [
           0.8686868686868687,
           "rgb(248, 223, 36)"
          ],
          [
           0.8787878787878788,
           "rgb(247, 224, 36)"
          ],
          [
           0.8888888888888888,
           "rgb(247, 226, 37)"
          ],
          [
           0.898989898989899,
           "rgb(246, 229, 37)"
          ],
          [
           0.9090909090909091,
           "rgb(245, 231, 38)"
          ],
          [
           0.9191919191919192,
           "rgb(245, 233, 38)"
          ],
          [
           0.9292929292929293,
           "rgb(244, 234, 38)"
          ],
          [
           0.9393939393939394,
           "rgb(243, 236, 38)"
          ],
          [
           0.9494949494949495,
           "rgb(242, 240, 38)"
          ],
          [
           0.9595959595959596,
           "rgb(242, 241, 38)"
          ],
          [
           0.9696969696969697,
           "rgb(241, 243, 38)"
          ],
          [
           0.9797979797979798,
           "rgb(240, 245, 37)"
          ],
          [
           0.98989898989899,
           "rgb(240, 246, 35)"
          ],
          [
           1,
           "rgb(239, 248, 33)"
          ]
         ],
         "customdata": [
          [
           [
            126,
            0.5839951945538276,
            700,
            0.8342788493626109,
            1000
           ],
           [
            5,
            1.9155042381365548,
            2296,
            0.8342788493626109,
            1000
           ],
           [
            24,
            5.13164920242942,
            6151,
            0.8342788493626109,
            1000
           ],
           [
            138,
            23.103684175398783,
            27693,
            0.8342788493626109,
            1000
           ],
           [
            30,
            1.9522125075085102,
            2340,
            0.8342788493626109,
            1000
           ],
           [
            28,
            4.2639991990923045,
            5111,
            0.8342788493626109,
            1000
           ],
           [
            110,
            19.316892478141895,
            23154,
            0.8342788493626109,
            1000
           ],
           [
            147,
            9.695154508442902,
            11621,
            0.8342788493626109,
            1000
           ],
           [
            3,
            0.8434559167055997,
            1011,
            0.8342788493626109,
            1000
           ],
           [
            52,
            3.953647467129413,
            4739,
            0.8342788493626109,
            1000
           ],
           [
            3,
            0.5756524060602016,
            690,
            0.8342788493626109,
            1000
           ],
           [
            13,
            0.9018554361609825,
            1081,
            0.8342788493626109,
            1000
           ],
           [
            195,
            6.615831275445505,
            7930,
            0.8342788493626109,
            1000
           ],
           [
            60,
            3.3713208302743114,
            4041,
            0.8342788493626109,
            1000
           ],
           [
            66,
            17.775145164519788,
            21306,
            0.8342788493626109,
            1000
           ]
          ],
          [
           [
            3,
            0.5839951945538276,
            700,
            1.943035440165521,
            2329
           ],
           [
            335,
            1.9155042381365548,
            2296,
            1.943035440165521,
            2329
           ],
           [
            164,
            5.13164920242942,
            6151,
            1.943035440165521,
            2329
           ],
           [
            832,
            23.103684175398783,
            27693,
            1.943035440165521,
            2329
           ],
           [
            64,
            1.9522125075085102,
            2340,
            1.943035440165521,
            2329
           ],
           [
            76,
            4.2639991990923045,
            5111,
            1.943035440165521,
            2329
           ],
           [
            361,
            19.316892478141895,
            23154,
            1.943035440165521,
            2329
           ],
           [
            136,
            9.695154508442902,
            11621,
            1.943035440165521,
            2329
           ],
           [
            25,
            0.8434559167055997,
            1011,
            1.943035440165521,
            2329
           ],
           [
            33,
            3.953647467129413,
            4739,
            1.943035440165521,
            2329
           ],
           [
            13,
            0.5756524060602016,
            690,
            1.943035440165521,
            2329
           ],
           [
            1,
            0.9018554361609825,
            1081,
            1.943035440165521,
            2329
           ],
           [
            90,
            6.615831275445505,
            7930,
            1.943035440165521,
            2329
           ],
           [
            23,
            3.3713208302743114,
            4041,
            1.943035440165521,
            2329
           ],
           [
            173,
            17.775145164519788,
            21306,
            1.943035440165521,
            2329
           ]
          ],
          [
           [
            23,
            0.5839951945538276,
            700,
            5.19255155843289,
            6224
           ],
           [
            167,
            1.9155042381365548,
            2296,
            5.19255155843289,
            6224
           ],
           [
            1040,
            5.13164920242942,
            6151,
            5.19255155843289,
            6224
           ],
           [
            1970,
            23.103684175398783,
            27693,
            5.19255155843289,
            6224
           ],
           [
            72,
            1.9522125075085102,
            2340,
            5.19255155843289,
            6224
           ],
           [
            176,
            4.2639991990923045,
            5111,
            5.19255155843289,
            6224
           ],
           [
            760,
            19.316892478141895,
            23154,
            5.19255155843289,
            6224
           ],
           [
            704,
            9.695154508442902,
            11621,
            5.19255155843289,
            6224
           ],
           [
            32,
            0.8434559167055997,
            1011,
            5.19255155843289,
            6224
           ],
           [
            187,
            3.953647467129413,
            4739,
            5.19255155843289,
            6224
           ],
           [
            32,
            0.5756524060602016,
            690,
            5.19255155843289,
            6224
           ],
           [
            12,
            0.9018554361609825,
            1081,
            5.19255155843289,
            6224
           ],
           [
            519,
            6.615831275445505,
            7930,
            5.19255155843289,
            6224
           ],
           [
            242,
            3.3713208302743114,
            4041,
            5.19255155843289,
            6224
           ],
           [
            288,
            17.775145164519788,
            21306,
            5.19255155843289,
            6224
           ]
          ],
          [
           [
            38,
            0.5839951945538276,
            700,
            11.23106187011947,
            13462
           ],
           [
            544,
            1.9155042381365548,
            2296,
            11.23106187011947,
            13462
           ],
           [
            1146,
            5.13164920242942,
            6151,
            11.23106187011947,
            13462
           ],
           [
            5523,
            23.103684175398783,
            27693,
            11.23106187011947,
            13462
           ],
           [
            100,
            1.9522125075085102,
            2340,
            11.23106187011947,
            13462
           ],
           [
            555,
            4.2639991990923045,
            5111,
            11.23106187011947,
            13462
           ],
           [
            2163,
            19.316892478141895,
            23154,
            11.23106187011947,
            13462
           ],
           [
            1104,
            9.695154508442902,
            11621,
            11.23106187011947,
            13462
           ],
           [
            20,
            0.8434559167055997,
            1011,
            11.23106187011947,
            13462
           ],
           [
            565,
            3.953647467129413,
            4739,
            11.23106187011947,
            13462
           ],
           [
            15,
            0.5756524060602016,
            690,
            11.23106187011947,
            13462
           ],
           [
            68,
            0.9018554361609825,
            1081,
            11.23106187011947,
            13462
           ],
           [
            343,
            6.615831275445505,
            7930,
            11.23106187011947,
            13462
           ],
           [
            468,
            3.3713208302743114,
            4041,
            11.23106187011947,
            13462
           ],
           [
            810,
            17.775145164519788,
            21306,
            11.23106187011947,
            13462
           ]
          ],
          [
           [
            37,
            0.5839951945538276,
            700,
            3.267035974103984,
            3916
           ],
           [
            76,
            1.9155042381365548,
            2296,
            3.267035974103984,
            3916
           ],
           [
            103,
            5.13164920242942,
            6151,
            3.267035974103984,
            3916
           ],
           [
            957,
            23.103684175398783,
            27693,
            3.267035974103984,
            3916
           ],
           [
            454,
            1.9522125075085102,
            2340,
            3.267035974103984,
            3916
           ],
           [
            91,
            4.2639991990923045,
            5111,
            3.267035974103984,
            3916
           ],
           [
            906,
            19.316892478141895,
            23154,
            3.267035974103984,
            3916
           ],
           [
            449,
            9.695154508442902,
            11621,
            3.267035974103984,
            3916
           ],
           [
            44,
            0.8434559167055997,
            1011,
            3.267035974103984,
            3916
           ],
           [
            64,
            3.953647467129413,
            4739,
            3.267035974103984,
            3916
           ],
           [
            15,
            0.5756524060602016,
            690,
            3.267035974103984,
            3916
           ],
           [
            8,
            0.9018554361609825,
            1081,
            3.267035974103984,
            3916
           ],
           [
            205,
            6.615831275445505,
            7930,
            3.267035974103984,
            3916
           ],
           [
            47,
            3.3713208302743114,
            4041,
            3.267035974103984,
            3916
           ],
           [
            460,
            17.775145164519788,
            21306,
            3.267035974103984,
            3916
           ]
          ],
          [
           [
            40,
            0.5839951945538276,
            700,
            5.784889541480345,
            6934
           ],
           [
            97,
            1.9155042381365548,
            2296,
            5.784889541480345,
            6934
           ],
           [
            199,
            5.13164920242942,
            6151,
            5.784889541480345,
            6934
           ],
           [
            1884,
            23.103684175398783,
            27693,
            5.784889541480345,
            6934
           ],
           [
            120,
            1.9522125075085102,
            2340,
            5.784889541480345,
            6934
           ],
           [
            1082,
            4.2639991990923045,
            5111,
            5.784889541480345,
            6934
           ],
           [
            1129,
            19.316892478141895,
            23154,
            5.784889541480345,
            6934
           ],
           [
            453,
            9.695154508442902,
            11621,
            5.784889541480345,
            6934
           ],
           [
            131,
            0.8434559167055997,
            1011,
            5.784889541480345,
            6934
           ],
           [
            339,
            3.953647467129413,
            4739,
            5.784889541480345,
            6934
           ],
           [
            25,
            0.5756524060602016,
            690,
            5.784889541480345,
            6934
           ],
           [
            48,
            0.9018554361609825,
            1081,
            5.784889541480345,
            6934
           ],
           [
            301,
            6.615831275445505,
            7930,
            5.784889541480345,
            6934
           ],
           [
            138,
            3.3713208302743114,
            4041,
            5.784889541480345,
            6934
           ],
           [
            948,
            17.775145164519788,
            21306,
            5.784889541480345,
            6934
           ]
          ],
          [
           [
            113,
            0.5839951945538276,
            700,
            19.9459387305613,
            23908
           ],
           [
            459,
            1.9155042381365548,
            2296,
            19.9459387305613,
            23908
           ],
           [
            996,
            5.13164920242942,
            6151,
            19.9459387305613,
            23908
           ],
           [
            6046,
            23.103684175398783,
            27693,
            19.9459387305613,
            23908
           ],
           [
            479,
            1.9522125075085102,
            2340,
            19.9459387305613,
            23908
           ],
           [
            1112,
            4.2639991990923045,
            5111,
            19.9459387305613,
            23908
           ],
           [
            8171,
            19.316892478141895,
            23154,
            19.9459387305613,
            23908
           ],
           [
            1961,
            9.695154508442902,
            11621,
            19.9459387305613,
            23908
           ],
           [
            47,
            0.8434559167055997,
            1011,
            19.9459387305613,
            23908
           ],
           [
            768,
            3.953647467129413,
            4739,
            19.9459387305613,
            23908
           ],
           [
            28,
            0.5756524060602016,
            690,
            19.9459387305613,
            23908
           ],
           [
            125,
            0.9018554361609825,
            1081,
            19.9459387305613,
            23908
           ],
           [
            828,
            6.615831275445505,
            7930,
            19.9459387305613,
            23908
           ],
           [
            534,
            3.3713208302743114,
            4041,
            19.9459387305613,
            23908
           ],
           [
            2241,
            17.775145164519788,
            21306,
            19.9459387305613,
            23908
           ]
          ],
          [
           [
            75,
            0.5839951945538276,
            700,
            11.558933457918972,
            13855
           ],
           [
            172,
            1.9155042381365548,
            2296,
            11.558933457918972,
            13855
           ],
           [
            851,
            5.13164920242942,
            6151,
            11.558933457918972,
            13855
           ],
           [
            3142,
            23.103684175398783,
            27693,
            11.558933457918972,
            13855
           ],
           [
            334,
            1.9522125075085102,
            2340,
            11.558933457918972,
            13855
           ],
           [
            305,
            4.2639991990923045,
            5111,
            11.558933457918972,
            13855
           ],
           [
            2466,
            19.316892478141895,
            23154,
            11.558933457918972,
            13855
           ],
           [
            3468,
            9.695154508442902,
            11621,
            11.558933457918972,
            13855
           ],
           [
            22,
            0.8434559167055997,
            1011,
            11.558933457918972,
            13855
           ],
           [
            385,
            3.953647467129413,
            4739,
            11.558933457918972,
            13855
           ],
           [
            29,
            0.5756524060602016,
            690,
            11.558933457918972,
            13855
           ],
           [
            34,
            0.9018554361609825,
            1081,
            11.558933457918972,
            13855
           ],
           [
            1323,
            6.615831275445505,
            7930,
            11.558933457918972,
            13855
           ],
           [
            518,
            3.3713208302743114,
            4041,
            11.558933457918972,
            13855
           ],
           [
            731,
            17.775145164519788,
            21306,
            11.558933457918972,
            13855
           ]
          ],
          [
           [
            1,
            0.5839951945538276,
            700,
            0.8409530801575118,
            1008
           ],
           [
            49,
            1.9155042381365548,
            2296,
            0.8409530801575118,
            1008
           ],
           [
            26,
            5.13164920242942,
            6151,
            0.8409530801575118,
            1008
           ],
           [
            122,
            23.103684175398783,
            27693,
            0.8409530801575118,
            1008
           ],
           [
            35,
            1.9522125075085102,
            2340,
            0.8409530801575118,
            1008
           ],
           [
            22,
            4.2639991990923045,
            5111,
            0.8409530801575118,
            1008
           ],
           [
            53,
            19.316892478141895,
            23154,
            0.8409530801575118,
            1008
           ],
           [
            16,
            9.695154508442902,
            11621,
            0.8409530801575118,
            1008
           ],
           [
            442,
            0.8434559167055997,
            1011,
            0.8409530801575118,
            1008
           ],
           [
            56,
            3.953647467129413,
            4739,
            0.8409530801575118,
            1008
           ],
           [
            39,
            0.5756524060602016,
            690,
            0.8409530801575118,
            1008
           ],
           [
            5,
            0.9018554361609825,
            1081,
            0.8409530801575118,
            1008
           ],
           [
            64,
            6.615831275445505,
            7930,
            0.8409530801575118,
            1008
           ],
           [
            1,
            3.3713208302743114,
            4041,
            0.8409530801575118,
            1008
           ],
           [
            77,
            17.775145164519788,
            21306,
            0.8409530801575118,
            1008
           ]
          ],
          [
           [
            21,
            0.5839951945538276,
            700,
            3.3504638590402456,
            4016
           ],
           [
            43,
            1.9155042381365548,
            2296,
            3.3504638590402456,
            4016
           ],
           [
            150,
            5.13164920242942,
            6151,
            3.3504638590402456,
            4016
           ],
           [
            860,
            23.103684175398783,
            27693,
            3.3504638590402456,
            4016
           ],
           [
            48,
            1.9522125075085102,
            2340,
            3.3504638590402456,
            4016
           ],
           [
            148,
            4.2639991990923045,
            5111,
            3.3504638590402456,
            4016
           ],
           [
            565,
            19.316892478141895,
            23154,
            3.3504638590402456,
            4016
           ],
           [
            417,
            9.695154508442902,
            11621,
            3.3504638590402456,
            4016
           ],
           [
            49,
            0.8434559167055997,
            1011,
            3.3504638590402456,
            4016
           ],
           [
            903,
            3.953647467129413,
            4739,
            3.3504638590402456,
            4016
           ],
           [
            14,
            0.5756524060602016,
            690,
            3.3504638590402456,
            4016
           ],
           [
            44,
            0.9018554361609825,
            1081,
            3.3504638590402456,
            4016
           ],
           [
            395,
            6.615831275445505,
            7930,
            3.3504638590402456,
            4016
           ],
           [
            202,
            3.3713208302743114,
            4041,
            3.3504638590402456,
            4016
           ],
           [
            157,
            17.775145164519788,
            21306,
            3.3504638590402456,
            4016
           ]
          ],
          [
           [
            5,
            0.5839951945538276,
            700,
            0.5481212040312353,
            657
           ],
           [
            13,
            1.9155042381365548,
            2296,
            0.5481212040312353,
            657
           ],
           [
            14,
            5.13164920242942,
            6151,
            0.5481212040312353,
            657
           ],
           [
            31,
            23.103684175398783,
            27693,
            0.5481212040312353,
            657
           ],
           [
            20,
            1.9522125075085102,
            2340,
            0.5481212040312353,
            657
           ],
           [
            19,
            4.2639991990923045,
            5111,
            0.5481212040312353,
            657
           ],
           [
            17,
            19.316892478141895,
            23154,
            0.5481212040312353,
            657
           ],
           [
            56,
            9.695154508442902,
            11621,
            0.5481212040312353,
            657
           ],
           [
            25,
            0.8434559167055997,
            1011,
            0.5481212040312353,
            657
           ],
           [
            29,
            3.953647467129413,
            4739,
            0.5481212040312353,
            657
           ],
           [
            222,
            0.5756524060602016,
            690,
            0.5481212040312353,
            657
           ],
           [
            3,
            0.9018554361609825,
            1081,
            0.5481212040312353,
            657
           ],
           [
            102,
            6.615831275445505,
            7930,
            0.5481212040312353,
            657
           ],
           [
            27,
            3.3713208302743114,
            4041,
            0.5481212040312353,
            657
           ],
           [
            74,
            17.775145164519788,
            21306,
            0.5481212040312353,
            657
           ]
          ],
          [
           [
            9,
            0.5839951945538276,
            700,
            1.499199092304612,
            1797
           ],
           [
            11,
            1.9155042381365548,
            2296,
            1.499199092304612,
            1797
           ],
           [
            31,
            5.13164920242942,
            6151,
            1.499199092304612,
            1797
           ],
           [
            439,
            23.103684175398783,
            27693,
            1.499199092304612,
            1797
           ],
           [
            26,
            1.9522125075085102,
            2340,
            1.499199092304612,
            1797
           ],
           [
            59,
            4.2639991990923045,
            5111,
            1.499199092304612,
            1797
           ],
           [
            280,
            19.316892478141895,
            23154,
            1.499199092304612,
            1797
           ],
           [
            97,
            9.695154508442902,
            11621,
            1.499199092304612,
            1797
           ],
           [
            15,
            0.8434559167055997,
            1011,
            1.499199092304612,
            1797
           ],
           [
            73,
            3.953647467129413,
            4739,
            1.499199092304612,
            1797
           ],
           [
            1,
            0.5756524060602016,
            690,
            1.499199092304612,
            1797
           ],
           [
            503,
            0.9018554361609825,
            1081,
            1.499199092304612,
            1797
           ],
           [
            169,
            6.615831275445505,
            7930,
            1.499199092304612,
            1797
           ],
           [
            25,
            3.3713208302743114,
            4041,
            1.499199092304612,
            1797
           ],
           [
            59,
            17.775145164519788,
            21306,
            1.499199092304612,
            1797
           ]
          ],
          [
           [
            128,
            0.5839951945538276,
            700,
            11.603984515784555,
            13909
           ],
           [
            175,
            1.9155042381365548,
            2296,
            11.603984515784555,
            13909
           ],
           [
            994,
            5.13164920242942,
            6151,
            11.603984515784555,
            13909
           ],
           [
            2575,
            23.103684175398783,
            27693,
            11.603984515784555,
            13909
           ],
           [
            234,
            1.9522125075085102,
            2340,
            11.603984515784555,
            13909
           ],
           [
            539,
            4.2639991990923045,
            5111,
            11.603984515784555,
            13909
           ],
           [
            2794,
            19.316892478141895,
            23154,
            11.603984515784555,
            13909
           ],
           [
            1477,
            9.695154508442902,
            11621,
            11.603984515784555,
            13909
           ],
           [
            66,
            0.8434559167055997,
            1011,
            11.603984515784555,
            13909
           ],
           [
            690,
            3.953647467129413,
            4739,
            11.603984515784555,
            13909
           ],
           [
            116,
            0.5756524060602016,
            690,
            11.603984515784555,
            13909
           ],
           [
            184,
            0.9018554361609825,
            1081,
            11.603984515784555,
            13909
           ],
           [
            2073,
            6.615831275445505,
            7930,
            11.603984515784555,
            13909
           ],
           [
            751,
            3.3713208302743114,
            4041,
            11.603984515784555,
            13909
           ],
           [
            1113,
            17.775145164519788,
            21306,
            11.603984515784555,
            13909
           ]
          ],
          [
           [
            20,
            0.5839951945538276,
            700,
            2.714743375825936,
            3254
           ],
           [
            20,
            1.9155042381365548,
            2296,
            2.714743375825936,
            3254
           ],
           [
            157,
            5.13164920242942,
            6151,
            2.714743375825936,
            3254
           ],
           [
            504,
            23.103684175398783,
            27693,
            2.714743375825936,
            3254
           ],
           [
            14,
            1.9522125075085102,
            2340,
            2.714743375825936,
            3254
           ],
           [
            60,
            4.2639991990923045,
            5111,
            2.714743375825936,
            3254
           ],
           [
            392,
            19.316892478141895,
            23154,
            2.714743375825936,
            3254
           ],
           [
            457,
            9.695154508442902,
            11621,
            2.714743375825936,
            3254
           ],
           [
            5,
            0.8434559167055997,
            1011,
            2.714743375825936,
            3254
           ],
           [
            186,
            3.953647467129413,
            4739,
            2.714743375825936,
            3254
           ],
           [
            20,
            0.5756524060602016,
            690,
            2.714743375825936,
            3254
           ],
           [
            10,
            0.9018554361609825,
            1081,
            2.714743375825936,
            3254
           ],
           [
            488,
            6.615831275445505,
            7930,
            2.714743375825936,
            3254
           ],
           [
            746,
            3.3713208302743114,
            4041,
            2.714743375825936,
            3254
           ],
           [
            175,
            17.775145164519788,
            21306,
            2.714743375825936,
            3254
           ]
          ],
          [
           [
            61,
            0.5839951945538276,
            700,
            19.684809450710805,
            23595
           ],
           [
            130,
            1.9155042381365548,
            2296,
            19.684809450710805,
            23595
           ],
           [
            256,
            5.13164920242942,
            6151,
            19.684809450710805,
            23595
           ],
           [
            2670,
            23.103684175398783,
            27693,
            19.684809450710805,
            23595
           ],
           [
            310,
            1.9522125075085102,
            2340,
            19.684809450710805,
            23595
           ],
           [
            839,
            4.2639991990923045,
            5111,
            19.684809450710805,
            23595
           ],
           [
            2987,
            19.316892478141895,
            23154,
            19.684809450710805,
            23595
           ],
           [
            679,
            9.695154508442902,
            11621,
            19.684809450710805,
            23595
           ],
           [
            85,
            0.8434559167055997,
            1011,
            19.684809450710805,
            23595
           ],
           [
            409,
            3.953647467129413,
            4739,
            19.684809450710805,
            23595
           ],
           [
            118,
            0.5756524060602016,
            690,
            19.684809450710805,
            23595
           ],
           [
            23,
            0.9018554361609825,
            1081,
            19.684809450710805,
            23595
           ],
           [
            835,
            6.615831275445505,
            7930,
            19.684809450710805,
            23595
           ],
           [
            259,
            3.3713208302743114,
            4041,
            19.684809450710805,
            23595
           ],
           [
            13934,
            17.775145164519788,
            21306,
            19.684809450710805,
            23595
           ]
          ]
         ],
         "hoverlabel": {
          "font": {
           "size": 18
          }
         },
         "hovertemplate": "* → %{x}: %{customdata[1]:0.3f}%, %{customdata[2]} counts <br>%{y} → *: %{customdata[3]:0.3f}%, %{customdata[4]} counts <br>%{y} → %{x}: %{z:0.3f}%, %{customdata[0]} counts <extra></extra>",
         "type": "heatmap",
         "x": [
          "Art",
          "Business_Studies",
          "Citizenship",
          "Countries",
          "Design_and_Technology",
          "Everyday_life",
          "Geography",
          "History",
          "IT",
          "Language_and_literature",
          "Mathematics",
          "Music",
          "People",
          "Religion",
          "Science"
         ],
         "y": [
          "Art",
          "Business_Studies",
          "Citizenship",
          "Countries",
          "Design_and_Technology",
          "Everyday_life",
          "Geography",
          "History",
          "IT",
          "Language_and_literature",
          "Mathematics",
          "Music",
          "People",
          "Religion",
          "Science"
         ],
         "z": [
          [
           0.10511913501968899,
           0.0041713942468130545,
           0.02002269238470266,
           0.11513048121204032,
           0.025028365480878327,
           0.023359807782153106,
           0.0917706734298872,
           0.12263899085630382,
           0.0025028365480878325,
           0.04338250016685577,
           0.0025028365480878325,
           0.010845625041713942,
           0.16268437562570914,
           0.050056730961756654,
           0.05506240405793232
          ],
          [
           0.0025028365480878325,
           0.2794834145364747,
           0.1368217312954682,
           0.6941200026696923,
           0.0533938463592071,
           0.06340519255155844,
           0.30117466461990255,
           0.11346192351331509,
           0.020856971234065276,
           0.02753120202896616,
           0.010845625041713942,
           0.000834278849362611,
           0.07508509644263499,
           0.01918841353534005,
           0.14433024093973168
          ],
          [
           0.01918841353534005,
           0.13932456784355604,
           0.8676500033371153,
           1.6435293332443437,
           0.06006807715410799,
           0.14683307748781954,
           0.6340519255155843,
           0.5873323099512782,
           0.02669692317960355,
           0.15601014483080825,
           0.02669692317960355,
           0.01001134619235133,
           0.43299072281919504,
           0.20189548154575188,
           0.24027230861643195
          ],
          [
           0.03170259627577922,
           0.45384769405326036,
           0.9560835613695522,
           4.6077220850297005,
           0.0834278849362611,
           0.4630247613962491,
           1.8045451511713277,
           0.9210438496963226,
           0.016685576987252218,
           0.47136754988987517,
           0.012514182740439164,
           0.056730961756657546,
           0.28615764533137555,
           0.39044250150170196,
           0.6757658679837149
          ],
          [
           0.030868317426416606,
           0.06340519255155844,
           0.08593072148434892,
           0.7984048588400187,
           0.37876259761062536,
           0.07591937529199759,
           0.7558566375225255,
           0.3745912033638123,
           0.036708269371954885,
           0.0533938463592071,
           0.012514182740439164,
           0.006674230794900888,
           0.17102716411933525,
           0.03921110592004272,
           0.38376827070680103
          ],
          [
           0.033371153974504436,
           0.08092504838817326,
           0.16602149102315958,
           1.571781352199159,
           0.10011346192351331,
           0.9026897150103451,
           0.9419008209303877,
           0.37792831876126276,
           0.10929052926650204,
           0.2828205299339251,
           0.020856971234065276,
           0.04004538476940532,
           0.2511179336581459,
           0.11513048121204032,
           0.7908963491957552
          ],
          [
           0.09427350997797504,
           0.3829339918574384,
           0.8309417339651605,
           5.044049923246345,
           0.39961956884469063,
           0.9277180804912234,
           6.816892478141893,
           1.63602082360008,
           0.03921110592004272,
           0.6407261563104851,
           0.023359807782153106,
           0.10428485617032636,
           0.6907828872722419,
           0.4455049055596343,
           1.8696189014216114
          ],
          [
           0.06257091370219582,
           0.14349596209036908,
           0.709971300807582,
           2.6213041446973238,
           0.2786491356871121,
           0.25445504905559635,
           2.0573316425281987,
           2.893279049589535,
           0.018354134685977443,
           0.3211973570046052,
           0.024194086631515718,
           0.028365480878328773,
           1.1037509177067342,
           0.43215644396983244,
           0.6098578388840686
          ],
          [
           0.000834278849362611,
           0.040879663618767936,
           0.021691250083427885,
           0.10178201962223854,
           0.029199759727691385,
           0.018354134685977443,
           0.044216779016218385,
           0.013348461589801776,
           0.3687512514182741,
           0.04671961556430621,
           0.03253687512514183,
           0.0041713942468130545,
           0.0533938463592071,
           0.000834278849362611,
           0.06423947140092104
          ],
          [
           0.01751985583661483,
           0.03587399052259227,
           0.12514182740439164,
           0.7174798104518454,
           0.04004538476940532,
           0.12347326970566642,
           0.47136754988987517,
           0.34789428018420876,
           0.040879663618767936,
           0.7533538009744377,
           0.011679903891076553,
           0.036708269371954885,
           0.32954014549823135,
           0.1685243275712474,
           0.13098177934992994
          ],
          [
           0.0041713942468130545,
           0.010845625041713942,
           0.011679903891076553,
           0.02586264433024094,
           0.016685576987252218,
           0.01585129813788961,
           0.014182740439164386,
           0.04671961556430621,
           0.020856971234065276,
           0.024194086631515718,
           0.18520990455849964,
           0.0025028365480878325,
           0.08509644263498631,
           0.022525528932790494,
           0.06173663485283321
          ],
          [
           0.0075085096442634985,
           0.009177067342988721,
           0.02586264433024094,
           0.3662484148701862,
           0.021691250083427885,
           0.049222452112394045,
           0.23359807782153108,
           0.08092504838817326,
           0.012514182740439164,
           0.0609023560034706,
           0.000834278849362611,
           0.41964226122939335,
           0.14099312554228124,
           0.020856971234065276,
           0.049222452112394045
          ],
          [
           0.1067876927184142,
           0.1459987986384569,
           0.8292731762664353,
           2.148268037108723,
           0.19522125075085098,
           0.4496762998064473,
           2.330975105119135,
           1.2322298605085764,
           0.05506240405793232,
           0.5756524060602015,
           0.09677634652606287,
           0.1535073082827204,
           1.7294600547286925,
           0.6265434158713209,
           0.928552359340586
          ],
          [
           0.016685576987252218,
           0.016685576987252218,
           0.13098177934992994,
           0.42047654007875596,
           0.011679903891076553,
           0.050056730961756654,
           0.3270373089501435,
           0.3812654341587132,
           0.0041713942468130545,
           0.15517586598144564,
           0.016685576987252218,
           0.008342788493626109,
           0.40712807848895416,
           0.6223720216245078,
           0.1459987986384569
          ],
          [
           0.05089100981111927,
           0.10845625041713941,
           0.2135753854368284,
           2.2275245277981712,
           0.2586264433024094,
           0.6999599546152306,
           2.491990923046119,
           0.5664753387172128,
           0.07091370219582192,
           0.3412200493893079,
           0.09844490422478809,
           0.01918841353534005,
           0.6966228392177801,
           0.21607822198491622,
           11.624841487018621
          ]
         ]
        }
       ],
       "layout": {
        "font": {
         "size": 18
        },
        "height": 800,
        "template": {
         "data": {
          "bar": [
           {
            "error_x": {
             "color": "#2a3f5f"
            },
            "error_y": {
             "color": "#2a3f5f"
            },
            "marker": {
             "line": {
              "color": "#E5ECF6",
              "width": 0.5
             },
             "pattern": {
              "fillmode": "overlay",
              "size": 10,
              "solidity": 0.2
             }
            },
            "type": "bar"
           }
          ],
          "barpolar": [
           {
            "marker": {
             "line": {
              "color": "#E5ECF6",
              "width": 0.5
             },
             "pattern": {
              "fillmode": "overlay",
              "size": 10,
              "solidity": 0.2
             }
            },
            "type": "barpolar"
           }
          ],
          "carpet": [
           {
            "aaxis": {
             "endlinecolor": "#2a3f5f",
             "gridcolor": "white",
             "linecolor": "white",
             "minorgridcolor": "white",
             "startlinecolor": "#2a3f5f"
            },
            "baxis": {
             "endlinecolor": "#2a3f5f",
             "gridcolor": "white",
             "linecolor": "white",
             "minorgridcolor": "white",
             "startlinecolor": "#2a3f5f"
            },
            "type": "carpet"
           }
          ],
          "choropleth": [
           {
            "colorbar": {
             "outlinewidth": 0,
             "ticks": ""
            },
            "type": "choropleth"
           }
          ],
          "contour": [
           {
            "colorbar": {
             "outlinewidth": 0,
             "ticks": ""
            },
            "colorscale": [
             [
              0,
              "#0d0887"
             ],
             [
              0.1111111111111111,
              "#46039f"
             ],
             [
              0.2222222222222222,
              "#7201a8"
             ],
             [
              0.3333333333333333,
              "#9c179e"
             ],
             [
              0.4444444444444444,
              "#bd3786"
             ],
             [
              0.5555555555555556,
              "#d8576b"
             ],
             [
              0.6666666666666666,
              "#ed7953"
             ],
             [
              0.7777777777777778,
              "#fb9f3a"
             ],
             [
              0.8888888888888888,
              "#fdca26"
             ],
             [
              1,
              "#f0f921"
             ]
            ],
            "type": "contour"
           }
          ],
          "contourcarpet": [
           {
            "colorbar": {
             "outlinewidth": 0,
             "ticks": ""
            },
            "type": "contourcarpet"
           }
          ],
          "heatmap": [
           {
            "colorbar": {
             "outlinewidth": 0,
             "ticks": ""
            },
            "colorscale": [
             [
              0,
              "#0d0887"
             ],
             [
              0.1111111111111111,
              "#46039f"
             ],
             [
              0.2222222222222222,
              "#7201a8"
             ],
             [
              0.3333333333333333,
              "#9c179e"
             ],
             [
              0.4444444444444444,
              "#bd3786"
             ],
             [
              0.5555555555555556,
              "#d8576b"
             ],
             [
              0.6666666666666666,
              "#ed7953"
             ],
             [
              0.7777777777777778,
              "#fb9f3a"
             ],
             [
              0.8888888888888888,
              "#fdca26"
             ],
             [
              1,
              "#f0f921"
             ]
            ],
            "type": "heatmap"
           }
          ],
          "heatmapgl": [
           {
            "colorbar": {
             "outlinewidth": 0,
             "ticks": ""
            },
            "colorscale": [
             [
              0,
              "#0d0887"
             ],
             [
              0.1111111111111111,
              "#46039f"
             ],
             [
              0.2222222222222222,
              "#7201a8"
             ],
             [
              0.3333333333333333,
              "#9c179e"
             ],
             [
              0.4444444444444444,
              "#bd3786"
             ],
             [
              0.5555555555555556,
              "#d8576b"
             ],
             [
              0.6666666666666666,
              "#ed7953"
             ],
             [
              0.7777777777777778,
              "#fb9f3a"
             ],
             [
              0.8888888888888888,
              "#fdca26"
             ],
             [
              1,
              "#f0f921"
             ]
            ],
            "type": "heatmapgl"
           }
          ],
          "histogram": [
           {
            "marker": {
             "pattern": {
              "fillmode": "overlay",
              "size": 10,
              "solidity": 0.2
             }
            },
            "type": "histogram"
           }
          ],
          "histogram2d": [
           {
            "colorbar": {
             "outlinewidth": 0,
             "ticks": ""
            },
            "colorscale": [
             [
              0,
              "#0d0887"
             ],
             [
              0.1111111111111111,
              "#46039f"
             ],
             [
              0.2222222222222222,
              "#7201a8"
             ],
             [
              0.3333333333333333,
              "#9c179e"
             ],
             [
              0.4444444444444444,
              "#bd3786"
             ],
             [
              0.5555555555555556,
              "#d8576b"
             ],
             [
              0.6666666666666666,
              "#ed7953"
             ],
             [
              0.7777777777777778,
              "#fb9f3a"
             ],
             [
              0.8888888888888888,
              "#fdca26"
             ],
             [
              1,
              "#f0f921"
             ]
            ],
            "type": "histogram2d"
           }
          ],
          "histogram2dcontour": [
           {
            "colorbar": {
             "outlinewidth": 0,
             "ticks": ""
            },
            "colorscale": [
             [
              0,
              "#0d0887"
             ],
             [
              0.1111111111111111,
              "#46039f"
             ],
             [
              0.2222222222222222,
              "#7201a8"
             ],
             [
              0.3333333333333333,
              "#9c179e"
             ],
             [
              0.4444444444444444,
              "#bd3786"
             ],
             [
              0.5555555555555556,
              "#d8576b"
             ],
             [
              0.6666666666666666,
              "#ed7953"
             ],
             [
              0.7777777777777778,
              "#fb9f3a"
             ],
             [
              0.8888888888888888,
              "#fdca26"
             ],
             [
              1,
              "#f0f921"
             ]
            ],
            "type": "histogram2dcontour"
           }
          ],
          "mesh3d": [
           {
            "colorbar": {
             "outlinewidth": 0,
             "ticks": ""
            },
            "type": "mesh3d"
           }
          ],
          "parcoords": [
           {
            "line": {
             "colorbar": {
              "outlinewidth": 0,
              "ticks": ""
             }
            },
            "type": "parcoords"
           }
          ],
          "pie": [
           {
            "automargin": true,
            "type": "pie"
           }
          ],
          "scatter": [
           {
            "fillpattern": {
             "fillmode": "overlay",
             "size": 10,
             "solidity": 0.2
            },
            "type": "scatter"
           }
          ],
          "scatter3d": [
           {
            "line": {
             "colorbar": {
              "outlinewidth": 0,
              "ticks": ""
             }
            },
            "marker": {
             "colorbar": {
              "outlinewidth": 0,
              "ticks": ""
             }
            },
            "type": "scatter3d"
           }
          ],
          "scattercarpet": [
           {
            "marker": {
             "colorbar": {
              "outlinewidth": 0,
              "ticks": ""
             }
            },
            "type": "scattercarpet"
           }
          ],
          "scattergeo": [
           {
            "marker": {
             "colorbar": {
              "outlinewidth": 0,
              "ticks": ""
             }
            },
            "type": "scattergeo"
           }
          ],
          "scattergl": [
           {
            "marker": {
             "colorbar": {
              "outlinewidth": 0,
              "ticks": ""
             }
            },
            "type": "scattergl"
           }
          ],
          "scattermapbox": [
           {
            "marker": {
             "colorbar": {
              "outlinewidth": 0,
              "ticks": ""
             }
            },
            "type": "scattermapbox"
           }
          ],
          "scatterpolar": [
           {
            "marker": {
             "colorbar": {
              "outlinewidth": 0,
              "ticks": ""
             }
            },
            "type": "scatterpolar"
           }
          ],
          "scatterpolargl": [
           {
            "marker": {
             "colorbar": {
              "outlinewidth": 0,
              "ticks": ""
             }
            },
            "type": "scatterpolargl"
           }
          ],
          "scatterternary": [
           {
            "marker": {
             "colorbar": {
              "outlinewidth": 0,
              "ticks": ""
             }
            },
            "type": "scatterternary"
           }
          ],
          "surface": [
           {
            "colorbar": {
             "outlinewidth": 0,
             "ticks": ""
            },
            "colorscale": [
             [
              0,
              "#0d0887"
             ],
             [
              0.1111111111111111,
              "#46039f"
             ],
             [
              0.2222222222222222,
              "#7201a8"
             ],
             [
              0.3333333333333333,
              "#9c179e"
             ],
             [
              0.4444444444444444,
              "#bd3786"
             ],
             [
              0.5555555555555556,
              "#d8576b"
             ],
             [
              0.6666666666666666,
              "#ed7953"
             ],
             [
              0.7777777777777778,
              "#fb9f3a"
             ],
             [
              0.8888888888888888,
              "#fdca26"
             ],
             [
              1,
              "#f0f921"
             ]
            ],
            "type": "surface"
           }
          ],
          "table": [
           {
            "cells": {
             "fill": {
              "color": "#EBF0F8"
             },
             "line": {
              "color": "white"
             }
            },
            "header": {
             "fill": {
              "color": "#C8D4E3"
             },
             "line": {
              "color": "white"
             }
            },
            "type": "table"
           }
          ]
         },
         "layout": {
          "annotationdefaults": {
           "arrowcolor": "#2a3f5f",
           "arrowhead": 0,
           "arrowwidth": 1
          },
          "autotypenumbers": "strict",
          "coloraxis": {
           "colorbar": {
            "outlinewidth": 0,
            "ticks": ""
           }
          },
          "colorscale": {
           "diverging": [
            [
             0,
             "#8e0152"
            ],
            [
             0.1,
             "#c51b7d"
            ],
            [
             0.2,
             "#de77ae"
            ],
            [
             0.3,
             "#f1b6da"
            ],
            [
             0.4,
             "#fde0ef"
            ],
            [
             0.5,
             "#f7f7f7"
            ],
            [
             0.6,
             "#e6f5d0"
            ],
            [
             0.7,
             "#b8e186"
            ],
            [
             0.8,
             "#7fbc41"
            ],
            [
             0.9,
             "#4d9221"
            ],
            [
             1,
             "#276419"
            ]
           ],
           "sequential": [
            [
             0,
             "#0d0887"
            ],
            [
             0.1111111111111111,
             "#46039f"
            ],
            [
             0.2222222222222222,
             "#7201a8"
            ],
            [
             0.3333333333333333,
             "#9c179e"
            ],
            [
             0.4444444444444444,
             "#bd3786"
            ],
            [
             0.5555555555555556,
             "#d8576b"
            ],
            [
             0.6666666666666666,
             "#ed7953"
            ],
            [
             0.7777777777777778,
             "#fb9f3a"
            ],
            [
             0.8888888888888888,
             "#fdca26"
            ],
            [
             1,
             "#f0f921"
            ]
           ],
           "sequentialminus": [
            [
             0,
             "#0d0887"
            ],
            [
             0.1111111111111111,
             "#46039f"
            ],
            [
             0.2222222222222222,
             "#7201a8"
            ],
            [
             0.3333333333333333,
             "#9c179e"
            ],
            [
             0.4444444444444444,
             "#bd3786"
            ],
            [
             0.5555555555555556,
             "#d8576b"
            ],
            [
             0.6666666666666666,
             "#ed7953"
            ],
            [
             0.7777777777777778,
             "#fb9f3a"
            ],
            [
             0.8888888888888888,
             "#fdca26"
            ],
            [
             1,
             "#f0f921"
            ]
           ]
          },
          "colorway": [
           "#636efa",
           "#EF553B",
           "#00cc96",
           "#ab63fa",
           "#FFA15A",
           "#19d3f3",
           "#FF6692",
           "#B6E880",
           "#FF97FF",
           "#FECB52"
          ],
          "font": {
           "color": "#2a3f5f"
          },
          "geo": {
           "bgcolor": "white",
           "lakecolor": "white",
           "landcolor": "#E5ECF6",
           "showlakes": true,
           "showland": true,
           "subunitcolor": "white"
          },
          "hoverlabel": {
           "align": "left"
          },
          "hovermode": "closest",
          "mapbox": {
           "style": "light"
          },
          "paper_bgcolor": "white",
          "plot_bgcolor": "#E5ECF6",
          "polar": {
           "angularaxis": {
            "gridcolor": "white",
            "linecolor": "white",
            "ticks": ""
           },
           "bgcolor": "#E5ECF6",
           "radialaxis": {
            "gridcolor": "white",
            "linecolor": "white",
            "ticks": ""
           }
          },
          "scene": {
           "xaxis": {
            "backgroundcolor": "#E5ECF6",
            "gridcolor": "white",
            "gridwidth": 2,
            "linecolor": "white",
            "showbackground": true,
            "ticks": "",
            "zerolinecolor": "white"
           },
           "yaxis": {
            "backgroundcolor": "#E5ECF6",
            "gridcolor": "white",
            "gridwidth": 2,
            "linecolor": "white",
            "showbackground": true,
            "ticks": "",
            "zerolinecolor": "white"
           },
           "zaxis": {
            "backgroundcolor": "#E5ECF6",
            "gridcolor": "white",
            "gridwidth": 2,
            "linecolor": "white",
            "showbackground": true,
            "ticks": "",
            "zerolinecolor": "white"
           }
          },
          "shapedefaults": {
           "line": {
            "color": "#2a3f5f"
           }
          },
          "ternary": {
           "aaxis": {
            "gridcolor": "white",
            "linecolor": "white",
            "ticks": ""
           },
           "baxis": {
            "gridcolor": "white",
            "linecolor": "white",
            "ticks": ""
           },
           "bgcolor": "#E5ECF6",
           "caxis": {
            "gridcolor": "white",
            "linecolor": "white",
            "ticks": ""
           }
          },
          "title": {
           "x": 0.05
          },
          "xaxis": {
           "automargin": true,
           "gridcolor": "white",
           "linecolor": "white",
           "ticks": "",
           "title": {
            "standoff": 15
           },
           "zerolinecolor": "white",
           "zerolinewidth": 2
          },
          "yaxis": {
           "automargin": true,
           "gridcolor": "white",
           "linecolor": "white",
           "ticks": "",
           "title": {
            "standoff": 15
           },
           "zerolinecolor": "white",
           "zerolinewidth": 2
          }
         }
        },
        "title": {
         "text": "Category flows",
         "x": 0.5,
         "xanchor": "center"
        },
        "width": 800,
        "xaxis": {
         "title": {
          "text": "Link in"
         }
        },
        "yaxis": {
         "scaleanchor": "x",
         "title": {
          "text": "Link out"
         }
        }
       }
      }
     },
     "metadata": {},
     "output_type": "display_data"
    }
   ],
   "source": [
    "distrib_links, num_links = get_sankey_data(links2007, categories, 'links')\n",
    "\n",
    "\n",
    "cats = sorted(categories.main_category.unique())\n",
    "plot_heatmap(distrib_links.reshape(15, 15), cats, num_links, 'links', gamma=0.45)"
   ]
  },
  {
   "cell_type": "markdown",
   "metadata": {},
   "source": [
    "#### 1.1.3) Category of the source and target articles\n",
    "Let's analyse the category of the source and target articles between the finished and unfinished paths to determine if it has an influence on the game outcomes.  "
   ]
  },
  {
   "cell_type": "code",
   "execution_count": 14,
   "metadata": {},
   "outputs": [
    {
     "name": "stdout",
     "output_type": "stream",
     "text": [
      "31 articles do not appear in categories.tsv: ['Rat' 'Long_peper' 'Adolph_Hitler' 'Usa' 'Sponsorship_Directdebit'\n",
      " 'Wowpurchase' 'Bogota' 'Sportacus' 'Kashmir' 'Charlottes_web' 'Test'\n",
      " 'The' 'Fats' 'English' 'Great' 'Mustard' 'Netbook' 'Donation' 'Pikachu'\n",
      " 'Friend_Directdebit' 'Georgia' 'Christmas' 'Podcast' 'Black_ops_2' 'Rss'\n",
      " 'Macedonia' 'Directdebit' 'The_Rock' '_Zebra' 'Western_Australia' 'C++']\n",
      "Initial number of rows in path finished: 51318, current number of rows: 51249, percentage of loss: 0.13%\n",
      "Initial number of rows in path unfinished: 24875, current number of rows: 19607, percentage of loss: 21.18%\n"
     ]
    }
   ],
   "source": [
    "path_finished, path_unfinished = loading_paths()\n",
    "\n",
    "# let's check again that all the article names of interest are present in categories.tsv\n",
    "articles_not_in_categories = list(articles_not_in_categories) + list(art_not_in_cat(path_finished, categories, 'start', True))\n",
    "\n",
    "articles_not_in_categories += list(art_not_in_cat(path_finished, categories, 'end', True))\n",
    "articles_not_in_categories += list(art_not_in_cat(path_unfinished, categories, 'start', True))\n",
    "articles_not_in_categories += list(art_not_in_cat(path_unfinished, categories, 'target', True))\n",
    "\n",
    "articles_not_in_categories = list(set(articles_not_in_categories))\n",
    "print(f'{len(articles_not_in_categories)} articles do not appear in categories.tsv: {np.array(articles_not_in_categories)}')\n",
    "\n",
    "# let's remove these paths and add new columns with categories and path length\n",
    "path_finished, path_unfinished = cleaned_paths(path_finished, path_unfinished, categories, articles_not_in_categories)"
   ]
  },
  {
   "cell_type": "markdown",
   "metadata": {},
   "source": [
    "Oof, we are not loosing much data, we can consider this correction as negligble. Let's get the data for the sankey plot. "
   ]
  },
  {
   "cell_type": "code",
   "execution_count": 15,
   "metadata": {},
   "outputs": [
    {
     "data": {
      "text/html": [
       "<div>\n",
       "<style scoped>\n",
       "    .dataframe tbody tr th:only-of-type {\n",
       "        vertical-align: middle;\n",
       "    }\n",
       "\n",
       "    .dataframe tbody tr th {\n",
       "        vertical-align: top;\n",
       "    }\n",
       "\n",
       "    .dataframe thead th {\n",
       "        text-align: right;\n",
       "    }\n",
       "</style>\n",
       "<table border=\"1\" class=\"dataframe\">\n",
       "  <thead>\n",
       "    <tr style=\"text-align: right;\">\n",
       "      <th></th>\n",
       "      <th>hashedIpAddress</th>\n",
       "      <th>timestamp</th>\n",
       "      <th>durationInSec</th>\n",
       "      <th>path</th>\n",
       "      <th>target</th>\n",
       "      <th>type</th>\n",
       "      <th>start</th>\n",
       "      <th>end</th>\n",
       "      <th>catSource</th>\n",
       "      <th>catTarget</th>\n",
       "      <th>catEnd</th>\n",
       "      <th>length</th>\n",
       "    </tr>\n",
       "  </thead>\n",
       "  <tbody>\n",
       "    <tr>\n",
       "      <th>2</th>\n",
       "      <td>2b015fb8181c48f2</td>\n",
       "      <td>1297090819</td>\n",
       "      <td>1818</td>\n",
       "      <td>[Malawi, Democracy, Alexander_the_Great]</td>\n",
       "      <td>First_Crusade</td>\n",
       "      <td>timeout</td>\n",
       "      <td>Malawi</td>\n",
       "      <td>Alexander_the_Great</td>\n",
       "      <td>Countries</td>\n",
       "      <td>Religion</td>\n",
       "      <td>People</td>\n",
       "      <td>3</td>\n",
       "    </tr>\n",
       "    <tr>\n",
       "      <th>4</th>\n",
       "      <td>53a53bc244e08a6a</td>\n",
       "      <td>1297099105</td>\n",
       "      <td>1808</td>\n",
       "      <td>[Paraguay, Bolivia]</td>\n",
       "      <td>Mount_St._Helens</td>\n",
       "      <td>timeout</td>\n",
       "      <td>Paraguay</td>\n",
       "      <td>Bolivia</td>\n",
       "      <td>Countries</td>\n",
       "      <td>Geography</td>\n",
       "      <td>Countries</td>\n",
       "      <td>2</td>\n",
       "    </tr>\n",
       "    <tr>\n",
       "      <th>5</th>\n",
       "      <td>131600803df4895e</td>\n",
       "      <td>1297100557</td>\n",
       "      <td>2009</td>\n",
       "      <td>[Agriculture, History_of_the_world, China, Yan...</td>\n",
       "      <td>Grand_Canal_of_China</td>\n",
       "      <td>timeout</td>\n",
       "      <td>Agriculture</td>\n",
       "      <td>Yangtze_River</td>\n",
       "      <td>Everyday_life</td>\n",
       "      <td>Geography</td>\n",
       "      <td>Geography</td>\n",
       "      <td>4</td>\n",
       "    </tr>\n",
       "    <tr>\n",
       "      <th>6</th>\n",
       "      <td>486bb79910fe9dd2</td>\n",
       "      <td>1297101660</td>\n",
       "      <td>1932</td>\n",
       "      <td>[Mind, Christianity, Europe, Renaissance, Anci...</td>\n",
       "      <td>Scouting</td>\n",
       "      <td>timeout</td>\n",
       "      <td>Mind</td>\n",
       "      <td>Asia</td>\n",
       "      <td>Religion</td>\n",
       "      <td>Citizenship</td>\n",
       "      <td>Geography</td>\n",
       "      <td>7</td>\n",
       "    </tr>\n",
       "    <tr>\n",
       "      <th>7</th>\n",
       "      <td>6d136e371e42474f</td>\n",
       "      <td>1297102070</td>\n",
       "      <td>175</td>\n",
       "      <td>[4-2-0, United_States, Agriculture, Sugar, Aus...</td>\n",
       "      <td>Cane_Toad</td>\n",
       "      <td>restart</td>\n",
       "      <td>4-2-0</td>\n",
       "      <td>Australia</td>\n",
       "      <td>Design_and_Technology</td>\n",
       "      <td>Science</td>\n",
       "      <td>Countries</td>\n",
       "      <td>5</td>\n",
       "    </tr>\n",
       "    <tr>\n",
       "      <th>...</th>\n",
       "      <td>...</td>\n",
       "      <td>...</td>\n",
       "      <td>...</td>\n",
       "      <td>...</td>\n",
       "      <td>...</td>\n",
       "      <td>...</td>\n",
       "      <td>...</td>\n",
       "      <td>...</td>\n",
       "      <td>...</td>\n",
       "      <td>...</td>\n",
       "      <td>...</td>\n",
       "      <td>...</td>\n",
       "    </tr>\n",
       "    <tr>\n",
       "      <th>24869</th>\n",
       "      <td>109ed71f571d86e9</td>\n",
       "      <td>1389787212</td>\n",
       "      <td>182</td>\n",
       "      <td>[Turks_and_Caicos_Islands, United_States, Iraq...</td>\n",
       "      <td>Iraq_War</td>\n",
       "      <td>restart</td>\n",
       "      <td>Turks_and_Caicos_Islands</td>\n",
       "      <td>War</td>\n",
       "      <td>Countries</td>\n",
       "      <td>History</td>\n",
       "      <td>History</td>\n",
       "      <td>6</td>\n",
       "    </tr>\n",
       "    <tr>\n",
       "      <th>24870</th>\n",
       "      <td>109ed71f571d86e9</td>\n",
       "      <td>1389787605</td>\n",
       "      <td>180</td>\n",
       "      <td>[Franz_Kafka, Tuberculosis, World_Health_Organ...</td>\n",
       "      <td>Cholera</td>\n",
       "      <td>restart</td>\n",
       "      <td>Franz_Kafka</td>\n",
       "      <td>Ghana</td>\n",
       "      <td>People</td>\n",
       "      <td>Science</td>\n",
       "      <td>Countries</td>\n",
       "      <td>8</td>\n",
       "    </tr>\n",
       "    <tr>\n",
       "      <th>24872</th>\n",
       "      <td>2e09a7224600a7cd</td>\n",
       "      <td>1389798400</td>\n",
       "      <td>1900</td>\n",
       "      <td>[Computer_programming, Linguistics, Culture, P...</td>\n",
       "      <td>The_Beatles</td>\n",
       "      <td>timeout</td>\n",
       "      <td>Computer_programming</td>\n",
       "      <td>Popular_culture</td>\n",
       "      <td>IT</td>\n",
       "      <td>Music</td>\n",
       "      <td>Everyday_life</td>\n",
       "      <td>5</td>\n",
       "    </tr>\n",
       "    <tr>\n",
       "      <th>24873</th>\n",
       "      <td>60af9e2138051b96</td>\n",
       "      <td>1389799481</td>\n",
       "      <td>1903</td>\n",
       "      <td>[Jamaica, United_Kingdom, World_War_II, Battle...</td>\n",
       "      <td>Alan_Turing</td>\n",
       "      <td>timeout</td>\n",
       "      <td>Jamaica</td>\n",
       "      <td>Battle_of_Midway</td>\n",
       "      <td>Countries</td>\n",
       "      <td>People</td>\n",
       "      <td>History</td>\n",
       "      <td>4</td>\n",
       "    </tr>\n",
       "    <tr>\n",
       "      <th>24874</th>\n",
       "      <td>1cf0cbb3281049ab</td>\n",
       "      <td>1389822841</td>\n",
       "      <td>352</td>\n",
       "      <td>[Mark_Antony, Rome, Tennis, Hawk-Eye, Computer]</td>\n",
       "      <td>Feather</td>\n",
       "      <td>restart</td>\n",
       "      <td>Mark_Antony</td>\n",
       "      <td>Computer</td>\n",
       "      <td>People</td>\n",
       "      <td>Science</td>\n",
       "      <td>IT</td>\n",
       "      <td>5</td>\n",
       "    </tr>\n",
       "  </tbody>\n",
       "</table>\n",
       "<p>19607 rows × 12 columns</p>\n",
       "</div>"
      ],
      "text/plain": [
       "        hashedIpAddress   timestamp  durationInSec  \\\n",
       "2      2b015fb8181c48f2  1297090819           1818   \n",
       "4      53a53bc244e08a6a  1297099105           1808   \n",
       "5      131600803df4895e  1297100557           2009   \n",
       "6      486bb79910fe9dd2  1297101660           1932   \n",
       "7      6d136e371e42474f  1297102070            175   \n",
       "...                 ...         ...            ...   \n",
       "24869  109ed71f571d86e9  1389787212            182   \n",
       "24870  109ed71f571d86e9  1389787605            180   \n",
       "24872  2e09a7224600a7cd  1389798400           1900   \n",
       "24873  60af9e2138051b96  1389799481           1903   \n",
       "24874  1cf0cbb3281049ab  1389822841            352   \n",
       "\n",
       "                                                    path  \\\n",
       "2               [Malawi, Democracy, Alexander_the_Great]   \n",
       "4                                    [Paraguay, Bolivia]   \n",
       "5      [Agriculture, History_of_the_world, China, Yan...   \n",
       "6      [Mind, Christianity, Europe, Renaissance, Anci...   \n",
       "7      [4-2-0, United_States, Agriculture, Sugar, Aus...   \n",
       "...                                                  ...   \n",
       "24869  [Turks_and_Caicos_Islands, United_States, Iraq...   \n",
       "24870  [Franz_Kafka, Tuberculosis, World_Health_Organ...   \n",
       "24872  [Computer_programming, Linguistics, Culture, P...   \n",
       "24873  [Jamaica, United_Kingdom, World_War_II, Battle...   \n",
       "24874    [Mark_Antony, Rome, Tennis, Hawk-Eye, Computer]   \n",
       "\n",
       "                     target     type                     start  \\\n",
       "2             First_Crusade  timeout                    Malawi   \n",
       "4          Mount_St._Helens  timeout                  Paraguay   \n",
       "5      Grand_Canal_of_China  timeout               Agriculture   \n",
       "6                  Scouting  timeout                      Mind   \n",
       "7                 Cane_Toad  restart                     4-2-0   \n",
       "...                     ...      ...                       ...   \n",
       "24869              Iraq_War  restart  Turks_and_Caicos_Islands   \n",
       "24870               Cholera  restart               Franz_Kafka   \n",
       "24872           The_Beatles  timeout      Computer_programming   \n",
       "24873           Alan_Turing  timeout                   Jamaica   \n",
       "24874               Feather  restart               Mark_Antony   \n",
       "\n",
       "                       end              catSource    catTarget         catEnd  \\\n",
       "2      Alexander_the_Great              Countries     Religion         People   \n",
       "4                  Bolivia              Countries    Geography      Countries   \n",
       "5            Yangtze_River          Everyday_life    Geography      Geography   \n",
       "6                     Asia               Religion  Citizenship      Geography   \n",
       "7                Australia  Design_and_Technology      Science      Countries   \n",
       "...                    ...                    ...          ...            ...   \n",
       "24869                  War              Countries      History        History   \n",
       "24870                Ghana                 People      Science      Countries   \n",
       "24872      Popular_culture                     IT        Music  Everyday_life   \n",
       "24873     Battle_of_Midway              Countries       People        History   \n",
       "24874             Computer                 People      Science             IT   \n",
       "\n",
       "       length  \n",
       "2           3  \n",
       "4           2  \n",
       "5           4  \n",
       "6           7  \n",
       "7           5  \n",
       "...       ...  \n",
       "24869       6  \n",
       "24870       8  \n",
       "24872       5  \n",
       "24873       4  \n",
       "24874       5  \n",
       "\n",
       "[19607 rows x 12 columns]"
      ]
     },
     "execution_count": 15,
     "metadata": {},
     "output_type": "execute_result"
    }
   ],
   "source": [
    "path_unfinished"
   ]
  },
  {
   "cell_type": "code",
   "execution_count": 16,
   "metadata": {},
   "outputs": [
    {
     "data": {
      "application/vnd.plotly.v1+json": {
       "config": {
        "plotlyServerURL": "https://plot.ly"
       },
       "data": [
        {
         "colorscale": [
          [
           0,
           "rgb(12, 7, 134)"
          ],
          [
           0.010101010101010102,
           "rgb(76, 2, 161)"
          ],
          [
           0.020202020202020204,
           "rgb(95, 0, 166)"
          ],
          [
           0.030303030303030304,
           "rgb(109, 0, 168)"
          ],
          [
           0.04040404040404041,
           "rgb(120, 1, 168)"
          ],
          [
           0.050505050505050504,
           "rgb(129, 4, 167)"
          ],
          [
           0.06060606060606061,
           "rgb(137, 8, 165)"
          ],
          [
           0.0707070707070707,
           "rgb(144, 14, 163)"
          ],
          [
           0.08080808080808081,
           "rgb(151, 19, 160)"
          ],
          [
           0.09090909090909091,
           "rgb(158, 25, 156)"
          ],
          [
           0.10101010101010101,
           "rgb(163, 29, 153)"
          ],
          [
           0.1111111111111111,
           "rgb(168, 34, 150)"
          ],
          [
           0.12121212121212122,
           "rgb(173, 38, 146)"
          ],
          [
           0.13131313131313133,
           "rgb(176, 42, 143)"
          ],
          [
           0.1414141414141414,
           "rgb(181, 46, 140)"
          ],
          [
           0.15151515151515152,
           "rgb(184, 50, 137)"
          ],
          [
           0.16161616161616163,
           "rgb(187, 53, 134)"
          ],
          [
           0.1717171717171717,
           "rgb(190, 56, 131)"
          ],
          [
           0.18181818181818182,
           "rgb(193, 60, 128)"
          ],
          [
           0.1919191919191919,
           "rgb(196, 63, 126)"
          ],
          [
           0.20202020202020202,
           "rgb(199, 66, 123)"
          ],
          [
           0.21212121212121213,
           "rgb(202, 70, 120)"
          ],
          [
           0.2222222222222222,
           "rgb(205, 73, 117)"
          ],
          [
           0.23232323232323232,
           "rgb(207, 75, 116)"
          ],
          [
           0.24242424242424243,
           "rgb(209, 79, 113)"
          ],
          [
           0.25252525252525254,
           "rgb(211, 81, 111)"
          ],
          [
           0.26262626262626265,
           "rgb(214, 85, 109)"
          ],
          [
           0.2727272727272727,
           "rgb(215, 87, 107)"
          ],
          [
           0.2828282828282828,
           "rgb(218, 90, 104)"
          ],
          [
           0.29292929292929293,
           "rgb(220, 93, 102)"
          ],
          [
           0.30303030303030304,
           "rgb(221, 95, 101)"
          ],
          [
           0.31313131313131315,
           "rgb(223, 97, 99)"
          ],
          [
           0.32323232323232326,
           "rgb(225, 101, 96)"
          ],
          [
           0.3333333333333333,
           "rgb(227, 103, 95)"
          ],
          [
           0.3434343434343434,
           "rgb(228, 106, 93)"
          ],
          [
           0.35353535353535354,
           "rgb(229, 108, 91)"
          ],
          [
           0.36363636363636365,
           "rgb(231, 110, 90)"
          ],
          [
           0.37373737373737376,
           "rgb(232, 113, 88)"
          ],
          [
           0.3838383838383838,
           "rgb(234, 115, 86)"
          ],
          [
           0.3939393939393939,
           "rgb(235, 118, 84)"
          ],
          [
           0.40404040404040403,
           "rgb(236, 120, 83)"
          ],
          [
           0.41414141414141414,
           "rgb(237, 123, 81)"
          ],
          [
           0.42424242424242425,
           "rgb(239, 125, 79)"
          ],
          [
           0.43434343434343436,
           "rgb(239, 126, 78)"
          ],
          [
           0.4444444444444444,
           "rgb(240, 129, 77)"
          ],
          [
           0.45454545454545453,
           "rgb(242, 132, 75)"
          ],
          [
           0.46464646464646464,
           "rgb(243, 134, 73)"
          ],
          [
           0.47474747474747475,
           "rgb(244, 137, 71)"
          ],
          [
           0.48484848484848486,
           "rgb(244, 138, 71)"
          ],
          [
           0.494949494949495,
           "rgb(245, 141, 69)"
          ],
          [
           0.5050505050505051,
           "rgb(246, 143, 67)"
          ],
          [
           0.5151515151515151,
           "rgb(246, 145, 66)"
          ],
          [
           0.5252525252525253,
           "rgb(247, 147, 65)"
          ],
          [
           0.5353535353535354,
           "rgb(248, 150, 63)"
          ],
          [
           0.5454545454545454,
           "rgb(248, 152, 62)"
          ],
          [
           0.5555555555555556,
           "rgb(249, 154, 60)"
          ],
          [
           0.5656565656565656,
           "rgb(250, 157, 58)"
          ],
          [
           0.5757575757575758,
           "rgb(250, 159, 58)"
          ],
          [
           0.5858585858585859,
           "rgb(251, 162, 56)"
          ],
          [
           0.5959595959595959,
           "rgb(251, 163, 55)"
          ],
          [
           0.6060606060606061,
           "rgb(252, 166, 53)"
          ],
          [
           0.6161616161616161,
           "rgb(252, 167, 53)"
          ],
          [
           0.6262626262626263,
           "rgb(252, 170, 51)"
          ],
          [
           0.6363636363636364,
           "rgb(252, 172, 50)"
          ],
          [
           0.6464646464646465,
           "rgb(253, 175, 49)"
          ],
          [
           0.6565656565656566,
           "rgb(253, 176, 48)"
          ],
          [
           0.6666666666666666,
           "rgb(253, 179, 46)"
          ],
          [
           0.6767676767676768,
           "rgb(253, 181, 45)"
          ],
          [
           0.6868686868686869,
           "rgb(253, 184, 44)"
          ],
          [
           0.696969696969697,
           "rgb(253, 185, 43)"
          ],
          [
           0.7070707070707071,
           "rgb(253, 188, 42)"
          ],
          [
           0.7171717171717171,
           "rgb(253, 190, 41)"
          ],
          [
           0.7272727272727273,
           "rgb(253, 192, 41)"
          ],
          [
           0.7373737373737373,
           "rgb(253, 195, 40)"
          ],
          [
           0.7474747474747475,
           "rgb(253, 196, 39)"
          ],
          [
           0.7575757575757576,
           "rgb(253, 198, 38)"
          ],
          [
           0.7676767676767676,
           "rgb(252, 201, 38)"
          ],
          [
           0.7777777777777778,
           "rgb(252, 203, 37)"
          ],
          [
           0.7878787878787878,
           "rgb(252, 204, 37)"
          ],
          [
           0.797979797979798,
           "rgb(251, 208, 36)"
          ],
          [
           0.8080808080808081,
           "rgb(251, 209, 36)"
          ],
          [
           0.8181818181818182,
           "rgb(251, 211, 36)"
          ],
          [
           0.8282828282828283,
           "rgb(250, 214, 36)"
          ],
          [
           0.8383838383838383,
           "rgb(250, 216, 36)"
          ],
          [
           0.8484848484848485,
           "rgb(249, 217, 36)"
          ],
          [
           0.8585858585858586,
           "rgb(248, 221, 36)"
          ],
          [
           0.8686868686868687,
           "rgb(248, 223, 36)"
          ],
          [
           0.8787878787878788,
           "rgb(247, 224, 36)"
          ],
          [
           0.8888888888888888,
           "rgb(247, 226, 37)"
          ],
          [
           0.898989898989899,
           "rgb(246, 229, 37)"
          ],
          [
           0.9090909090909091,
           "rgb(245, 231, 38)"
          ],
          [
           0.9191919191919192,
           "rgb(245, 233, 38)"
          ],
          [
           0.9292929292929293,
           "rgb(244, 234, 38)"
          ],
          [
           0.9393939393939394,
           "rgb(243, 236, 38)"
          ],
          [
           0.9494949494949495,
           "rgb(242, 240, 38)"
          ],
          [
           0.9595959595959596,
           "rgb(242, 241, 38)"
          ],
          [
           0.9696969696969697,
           "rgb(241, 243, 38)"
          ],
          [
           0.9797979797979798,
           "rgb(240, 245, 37)"
          ],
          [
           0.98989898989899,
           "rgb(240, 246, 35)"
          ],
          [
           1,
           "rgb(239, 248, 33)"
          ]
         ],
         "customdata": [
          [
           [
            5,
            0.6380612304630335,
            327,
            0.7766005190345178,
            398
           ],
           [
            7,
            1.406856719155496,
            721,
            0.7766005190345178,
            398
           ],
           [
            20,
            3.4576284415305665,
            1772,
            0.7766005190345178,
            398
           ],
           [
            22,
            8.103572752639078,
            4153,
            0.7766005190345178,
            398
           ],
           [
            4,
            4.958145524790728,
            2541,
            0.7766005190345178,
            398
           ],
           [
            31,
            6.51524907803079,
            3339,
            0.7766005190345178,
            398
           ],
           [
            67,
            16.950574645358934,
            8687,
            0.7766005190345178,
            398
           ],
           [
            16,
            9.586528517629613,
            4913,
            0.7766005190345178,
            398
           ],
           [
            10,
            2.620538937345119,
            1343,
            0.7766005190345178,
            398
           ],
           [
            5,
            2.499560967043259,
            1281,
            0.7766005190345178,
            398
           ],
           [
            0,
            1.0536790961774865,
            540,
            0.7766005190345178,
            398
           ],
           [
            15,
            1.836133387968546,
            941,
            0.7766005190345178,
            398
           ],
           [
            47,
            9.668481336221195,
            4955,
            0.7766005190345178,
            398
           ],
           [
            12,
            3.4673847294581357,
            1777,
            0.7766005190345178,
            398
           ],
           [
            137,
            27.23760463618802,
            13959,
            0.7766005190345178,
            398
           ]
          ],
          [
           [
            14,
            0.6380612304630335,
            327,
            1.633202599075104,
            837
           ],
           [
            15,
            1.406856719155496,
            721,
            1.633202599075104,
            837
           ],
           [
            28,
            3.4576284415305665,
            1772,
            1.633202599075104,
            837
           ],
           [
            83,
            8.103572752639078,
            4153,
            1.633202599075104,
            837
           ],
           [
            25,
            4.958145524790728,
            2541,
            1.633202599075104,
            837
           ],
           [
            63,
            6.51524907803079,
            3339,
            1.633202599075104,
            837
           ],
           [
            158,
            16.950574645358934,
            8687,
            1.633202599075104,
            837
           ],
           [
            84,
            9.586528517629613,
            4913,
            1.633202599075104,
            837
           ],
           [
            23,
            2.620538937345119,
            1343,
            1.633202599075104,
            837
           ],
           [
            17,
            2.499560967043259,
            1281,
            1.633202599075104,
            837
           ],
           [
            6,
            1.0536790961774865,
            540,
            1.633202599075104,
            837
           ],
           [
            12,
            1.836133387968546,
            941,
            1.633202599075104,
            837
           ],
           [
            90,
            9.668481336221195,
            4955,
            1.633202599075104,
            837
           ],
           [
            17,
            3.4673847294581357,
            1777,
            1.633202599075104,
            837
           ],
           [
            202,
            27.23760463618802,
            13959,
            1.633202599075104,
            837
           ]
          ],
          [
           [
            7,
            0.6380612304630335,
            327,
            3.547386290464204,
            1818
           ],
           [
            24,
            1.406856719155496,
            721,
            3.547386290464204,
            1818
           ],
           [
            87,
            3.4576284415305665,
            1772,
            3.547386290464204,
            1818
           ],
           [
            182,
            8.103572752639078,
            4153,
            3.547386290464204,
            1818
           ],
           [
            72,
            4.958145524790728,
            2541,
            3.547386290464204,
            1818
           ],
           [
            186,
            6.51524907803079,
            3339,
            3.547386290464204,
            1818
           ],
           [
            299,
            16.950574645358934,
            8687,
            3.547386290464204,
            1818
           ],
           [
            130,
            9.586528517629613,
            4913,
            3.547386290464204,
            1818
           ],
           [
            34,
            2.620538937345119,
            1343,
            3.547386290464204,
            1818
           ],
           [
            55,
            2.499560967043259,
            1281,
            3.547386290464204,
            1818
           ],
           [
            22,
            1.0536790961774865,
            540,
            3.547386290464204,
            1818
           ],
           [
            19,
            1.836133387968546,
            941,
            3.547386290464204,
            1818
           ],
           [
            137,
            9.668481336221195,
            4955,
            3.547386290464204,
            1818
           ],
           [
            49,
            3.4673847294581357,
            1777,
            3.547386290464204,
            1818
           ],
           [
            515,
            27.23760463618802,
            13959,
            3.547386290464204,
            1818
           ]
          ],
          [
           [
            13,
            0.6380612304630335,
            327,
            5.633280649378525,
            2887
           ],
           [
            52,
            1.406856719155496,
            721,
            5.633280649378525,
            2887
           ],
           [
            94,
            3.4576284415305665,
            1772,
            5.633280649378525,
            2887
           ],
           [
            306,
            8.103572752639078,
            4153,
            5.633280649378525,
            2887
           ],
           [
            75,
            4.958145524790728,
            2541,
            5.633280649378525,
            2887
           ],
           [
            222,
            6.51524907803079,
            3339,
            5.633280649378525,
            2887
           ],
           [
            585,
            16.950574645358934,
            8687,
            5.633280649378525,
            2887
           ],
           [
            253,
            9.586528517629613,
            4913,
            5.633280649378525,
            2887
           ],
           [
            52,
            2.620538937345119,
            1343,
            5.633280649378525,
            2887
           ],
           [
            93,
            2.499560967043259,
            1281,
            5.633280649378525,
            2887
           ],
           [
            24,
            1.0536790961774865,
            540,
            5.633280649378525,
            2887
           ],
           [
            65,
            1.836133387968546,
            941,
            5.633280649378525,
            2887
           ],
           [
            265,
            9.668481336221195,
            4955,
            5.633280649378525,
            2887
           ],
           [
            77,
            3.4673847294581357,
            1777,
            5.633280649378525,
            2887
           ],
           [
            711,
            27.23760463618802,
            13959,
            5.633280649378525,
            2887
           ]
          ],
          [
           [
            22,
            0.6380612304630335,
            327,
            4.854728872758493,
            2488
           ],
           [
            18,
            1.406856719155496,
            721,
            4.854728872758493,
            2488
           ],
           [
            70,
            3.4576284415305665,
            1772,
            4.854728872758493,
            2488
           ],
           [
            118,
            8.103572752639078,
            4153,
            4.854728872758493,
            2488
           ],
           [
            65,
            4.958145524790728,
            2541,
            4.854728872758493,
            2488
           ],
           [
            112,
            6.51524907803079,
            3339,
            4.854728872758493,
            2488
           ],
           [
            341,
            16.950574645358934,
            8687,
            4.854728872758493,
            2488
           ],
           [
            150,
            9.586528517629613,
            4913,
            4.854728872758493,
            2488
           ],
           [
            101,
            2.620538937345119,
            1343,
            4.854728872758493,
            2488
           ],
           [
            62,
            2.499560967043259,
            1281,
            4.854728872758493,
            2488
           ],
           [
            20,
            1.0536790961774865,
            540,
            4.854728872758493,
            2488
           ],
           [
            39,
            1.836133387968546,
            941,
            4.854728872758493,
            2488
           ],
           [
            174,
            9.668481336221195,
            4955,
            4.854728872758493,
            2488
           ],
           [
            58,
            3.4673847294581357,
            1777,
            4.854728872758493,
            2488
           ],
           [
            1138,
            27.23760463618802,
            13959,
            4.854728872758493,
            2488
           ]
          ],
          [
           [
            24,
            0.6380612304630335,
            327,
            9.522137017307655,
            4880
           ],
           [
            77,
            1.406856719155496,
            721,
            9.522137017307655,
            4880
           ],
           [
            175,
            3.4576284415305665,
            1772,
            9.522137017307655,
            4880
           ],
           [
            374,
            8.103572752639078,
            4153,
            9.522137017307655,
            4880
           ],
           [
            111,
            4.958145524790728,
            2541,
            9.522137017307655,
            4880
           ],
           [
            494,
            6.51524907803079,
            3339,
            9.522137017307655,
            4880
           ],
           [
            647,
            16.950574645358934,
            8687,
            9.522137017307655,
            4880
           ],
           [
            452,
            9.586528517629613,
            4913,
            9.522137017307655,
            4880
           ],
           [
            93,
            2.620538937345119,
            1343,
            9.522137017307655,
            4880
           ],
           [
            126,
            2.499560967043259,
            1281,
            9.522137017307655,
            4880
           ],
           [
            46,
            1.0536790961774865,
            540,
            9.522137017307655,
            4880
           ],
           [
            57,
            1.836133387968546,
            941,
            9.522137017307655,
            4880
           ],
           [
            431,
            9.668481336221195,
            4955,
            9.522137017307655,
            4880
           ],
           [
            231,
            3.4673847294581357,
            1777,
            9.522137017307655,
            4880
           ],
           [
            1542,
            27.23760463618802,
            13959,
            9.522137017307655,
            4880
           ]
          ],
          [
           [
            49,
            0.6380612304630335,
            327,
            14.556381587933423,
            7460
           ],
           [
            118,
            1.406856719155496,
            721,
            14.556381587933423,
            7460
           ],
           [
            305,
            3.4576284415305665,
            1772,
            14.556381587933423,
            7460
           ],
           [
            685,
            8.103572752639078,
            4153,
            14.556381587933423,
            7460
           ],
           [
            239,
            4.958145524790728,
            2541,
            14.556381587933423,
            7460
           ],
           [
            461,
            6.51524907803079,
            3339,
            14.556381587933423,
            7460
           ],
           [
            1556,
            16.950574645358934,
            8687,
            14.556381587933423,
            7460
           ],
           [
            568,
            9.586528517629613,
            4913,
            14.556381587933423,
            7460
           ],
           [
            157,
            2.620538937345119,
            1343,
            14.556381587933423,
            7460
           ],
           [
            207,
            2.499560967043259,
            1281,
            14.556381587933423,
            7460
           ],
           [
            104,
            1.0536790961774865,
            540,
            14.556381587933423,
            7460
           ],
           [
            163,
            1.836133387968546,
            941,
            14.556381587933423,
            7460
           ],
           [
            804,
            9.668481336221195,
            4955,
            14.556381587933423,
            7460
           ],
           [
            256,
            3.4673847294581357,
            1777,
            14.556381587933423,
            7460
           ],
           [
            1788,
            27.23760463618802,
            13959,
            14.556381587933423,
            7460
           ]
          ],
          [
           [
            40,
            0.6380612304630335,
            327,
            7.746492614490038,
            3970
           ],
           [
            48,
            1.406856719155496,
            721,
            7.746492614490038,
            3970
           ],
           [
            146,
            3.4576284415305665,
            1772,
            7.746492614490038,
            3970
           ],
           [
            363,
            8.103572752639078,
            4153,
            7.746492614490038,
            3970
           ],
           [
            131,
            4.958145524790728,
            2541,
            7.746492614490038,
            3970
           ],
           [
            241,
            6.51524907803079,
            3339,
            7.746492614490038,
            3970
           ],
           [
            777,
            16.950574645358934,
            8687,
            7.746492614490038,
            3970
           ],
           [
            391,
            9.586528517629613,
            4913,
            7.746492614490038,
            3970
           ],
           [
            112,
            2.620538937345119,
            1343,
            7.746492614490038,
            3970
           ],
           [
            92,
            2.499560967043259,
            1281,
            7.746492614490038,
            3970
           ],
           [
            30,
            1.0536790961774865,
            540,
            7.746492614490038,
            3970
           ],
           [
            75,
            1.836133387968546,
            941,
            7.746492614490038,
            3970
           ],
           [
            401,
            9.668481336221195,
            4955,
            7.746492614490038,
            3970
           ],
           [
            152,
            3.4673847294581357,
            1777,
            7.746492614490038,
            3970
           ],
           [
            971,
            27.23760463618802,
            13959,
            7.746492614490038,
            3970
           ]
          ],
          [
           [
            5,
            0.6380612304630335,
            327,
            2.3434603602021506,
            1201
           ],
           [
            18,
            1.406856719155496,
            721,
            2.3434603602021506,
            1201
           ],
           [
            35,
            3.4576284415305665,
            1772,
            2.3434603602021506,
            1201
           ],
           [
            114,
            8.103572752639078,
            4153,
            2.3434603602021506,
            1201
           ],
           [
            33,
            4.958145524790728,
            2541,
            2.3434603602021506,
            1201
           ],
           [
            137,
            6.51524907803079,
            3339,
            2.3434603602021506,
            1201
           ],
           [
            209,
            16.950574645358934,
            8687,
            2.3434603602021506,
            1201
           ],
           [
            104,
            9.586528517629613,
            4913,
            2.3434603602021506,
            1201
           ],
           [
            32,
            2.620538937345119,
            1343,
            2.3434603602021506,
            1201
           ],
           [
            34,
            2.499560967043259,
            1281,
            2.3434603602021506,
            1201
           ],
           [
            7,
            1.0536790961774865,
            540,
            2.3434603602021506,
            1201
           ],
           [
            33,
            1.836133387968546,
            941,
            2.3434603602021506,
            1201
           ],
           [
            137,
            9.668481336221195,
            4955,
            2.3434603602021506,
            1201
           ],
           [
            57,
            3.4673847294581357,
            1777,
            2.3434603602021506,
            1201
           ],
           [
            246,
            27.23760463618802,
            13959,
            2.3434603602021506,
            1201
           ]
          ],
          [
           [
            7,
            0.6380612304630335,
            327,
            4.915217857909423,
            2519
           ],
           [
            20,
            1.406856719155496,
            721,
            4.915217857909423,
            2519
           ],
           [
            63,
            3.4576284415305665,
            1772,
            4.915217857909423,
            2519
           ],
           [
            137,
            8.103572752639078,
            4153,
            4.915217857909423,
            2519
           ],
           [
            51,
            4.958145524790728,
            2541,
            4.915217857909423,
            2519
           ],
           [
            98,
            6.51524907803079,
            3339,
            4.915217857909423,
            2519
           ],
           [
            331,
            16.950574645358934,
            8687,
            4.915217857909423,
            2519
           ],
           [
            156,
            9.586528517629613,
            4913,
            4.915217857909423,
            2519
           ],
           [
            35,
            2.620538937345119,
            1343,
            4.915217857909423,
            2519
           ],
           [
            37,
            2.499560967043259,
            1281,
            4.915217857909423,
            2519
           ],
           [
            21,
            1.0536790961774865,
            540,
            4.915217857909423,
            2519
           ],
           [
            29,
            1.836133387968546,
            941,
            4.915217857909423,
            2519
           ],
           [
            134,
            9.668481336221195,
            4955,
            4.915217857909423,
            2519
           ],
           [
            73,
            3.4673847294581357,
            1777,
            4.915217857909423,
            2519
           ],
           [
            1327,
            27.23760463618802,
            13959,
            4.915217857909423,
            2519
           ]
          ],
          [
           [
            4,
            0.6380612304630335,
            327,
            1.160998263380749,
            595
           ],
           [
            7,
            1.406856719155496,
            721,
            1.160998263380749,
            595
           ],
           [
            25,
            3.4576284415305665,
            1772,
            1.160998263380749,
            595
           ],
           [
            51,
            8.103572752639078,
            4153,
            1.160998263380749,
            595
           ],
           [
            13,
            4.958145524790728,
            2541,
            1.160998263380749,
            595
           ],
           [
            43,
            6.51524907803079,
            3339,
            1.160998263380749,
            595
           ],
           [
            100,
            16.950574645358934,
            8687,
            1.160998263380749,
            595
           ],
           [
            33,
            9.586528517629613,
            4913,
            1.160998263380749,
            595
           ],
           [
            20,
            2.620538937345119,
            1343,
            1.160998263380749,
            595
           ],
           [
            24,
            2.499560967043259,
            1281,
            1.160998263380749,
            595
           ],
           [
            3,
            1.0536790961774865,
            540,
            1.160998263380749,
            595
           ],
           [
            17,
            1.836133387968546,
            941,
            1.160998263380749,
            595
           ],
           [
            88,
            9.668481336221195,
            4955,
            1.160998263380749,
            595
           ],
           [
            14,
            3.4673847294581357,
            1777,
            1.160998263380749,
            595
           ],
           [
            153,
            27.23760463618802,
            13959,
            1.160998263380749,
            595
           ]
          ],
          [
           [
            13,
            0.6380612304630335,
            327,
            1.806864524185838,
            926
           ],
           [
            11,
            1.406856719155496,
            721,
            1.806864524185838,
            926
           ],
           [
            38,
            3.4576284415305665,
            1772,
            1.806864524185838,
            926
           ],
           [
            81,
            8.103572752639078,
            4153,
            1.806864524185838,
            926
           ],
           [
            33,
            4.958145524790728,
            2541,
            1.806864524185838,
            926
           ],
           [
            63,
            6.51524907803079,
            3339,
            1.806864524185838,
            926
           ],
           [
            162,
            16.950574645358934,
            8687,
            1.806864524185838,
            926
           ],
           [
            96,
            9.586528517629613,
            4913,
            1.806864524185838,
            926
           ],
           [
            28,
            2.620538937345119,
            1343,
            1.806864524185838,
            926
           ],
           [
            26,
            2.499560967043259,
            1281,
            1.806864524185838,
            926
           ],
           [
            6,
            1.0536790961774865,
            540,
            1.806864524185838,
            926
           ],
           [
            18,
            1.836133387968546,
            941,
            1.806864524185838,
            926
           ],
           [
            94,
            9.668481336221195,
            4955,
            1.806864524185838,
            926
           ],
           [
            15,
            3.4673847294581357,
            1777,
            1.806864524185838,
            926
           ],
           [
            242,
            27.23760463618802,
            13959,
            1.806864524185838,
            926
           ]
          ],
          [
           [
            28,
            0.6380612304630335,
            327,
            9.321157485999727,
            4777
           ],
           [
            87,
            1.406856719155496,
            721,
            9.321157485999727,
            4777
           ],
           [
            164,
            3.4576284415305665,
            1772,
            9.321157485999727,
            4777
           ],
           [
            419,
            8.103572752639078,
            4153,
            9.321157485999727,
            4777
           ],
           [
            137,
            4.958145524790728,
            2541,
            9.321157485999727,
            4777
           ],
           [
            287,
            6.51524907803079,
            3339,
            9.321157485999727,
            4777
           ],
           [
            943,
            16.950574645358934,
            8687,
            9.321157485999727,
            4777
           ],
           [
            377,
            9.586528517629613,
            4913,
            9.321157485999727,
            4777
           ],
           [
            147,
            2.620538937345119,
            1343,
            9.321157485999727,
            4777
           ],
           [
            132,
            2.499560967043259,
            1281,
            9.321157485999727,
            4777
           ],
           [
            63,
            1.0536790961774865,
            540,
            9.321157485999727,
            4777
           ],
           [
            86,
            1.836133387968546,
            941,
            9.321157485999727,
            4777
           ],
           [
            496,
            9.668481336221195,
            4955,
            9.321157485999727,
            4777
           ],
           [
            174,
            3.4673847294581357,
            1777,
            9.321157485999727,
            4777
           ],
           [
            1237,
            27.23760463618802,
            13959,
            9.321157485999727,
            4777
           ]
          ],
          [
           [
            16,
            0.6380612304630335,
            327,
            2.866397393119865,
            1469
           ],
           [
            26,
            1.406856719155496,
            721,
            2.866397393119865,
            1469
           ],
           [
            61,
            3.4576284415305665,
            1772,
            2.866397393119865,
            1469
           ],
           [
            111,
            8.103572752639078,
            4153,
            2.866397393119865,
            1469
           ],
           [
            35,
            4.958145524790728,
            2541,
            2.866397393119865,
            1469
           ],
           [
            90,
            6.51524907803079,
            3339,
            2.866397393119865,
            1469
           ],
           [
            222,
            16.950574645358934,
            8687,
            2.866397393119865,
            1469
           ],
           [
            111,
            9.586528517629613,
            4913,
            2.866397393119865,
            1469
           ],
           [
            58,
            2.620538937345119,
            1343,
            2.866397393119865,
            1469
           ],
           [
            37,
            2.499560967043259,
            1281,
            2.866397393119865,
            1469
           ],
           [
            23,
            1.0536790961774865,
            540,
            2.866397393119865,
            1469
           ],
           [
            29,
            1.836133387968546,
            941,
            2.866397393119865,
            1469
           ],
           [
            193,
            9.668481336221195,
            4955,
            2.866397393119865,
            1469
           ],
           [
            115,
            3.4673847294581357,
            1777,
            2.866397393119865,
            1469
           ],
           [
            342,
            27.23760463618802,
            13959,
            2.866397393119865,
            1469
           ]
          ],
          [
           [
            80,
            0.6380612304630335,
            327,
            29.315693964760285,
            15024
           ],
           [
            193,
            1.406856719155496,
            721,
            29.315693964760285,
            15024
           ],
           [
            461,
            3.4576284415305665,
            1772,
            29.315693964760285,
            15024
           ],
           [
            1107,
            8.103572752639078,
            4153,
            29.315693964760285,
            15024
           ],
           [
            1517,
            4.958145524790728,
            2541,
            29.315693964760285,
            15024
           ],
           [
            811,
            6.51524907803079,
            3339,
            29.315693964760285,
            15024
           ],
           [
            2290,
            16.950574645358934,
            8687,
            29.315693964760285,
            15024
           ],
           [
            1992,
            9.586528517629613,
            4913,
            29.315693964760285,
            15024
           ],
           [
            441,
            2.620538937345119,
            1343,
            29.315693964760285,
            15024
           ],
           [
            334,
            2.499560967043259,
            1281,
            29.315693964760285,
            15024
           ],
           [
            165,
            1.0536790961774865,
            540,
            29.315693964760285,
            15024
           ],
           [
            284,
            1.836133387968546,
            941,
            29.315693964760285,
            15024
           ],
           [
            1464,
            9.668481336221195,
            4955,
            29.315693964760285,
            15024
           ],
           [
            477,
            3.4673847294581357,
            1777,
            29.315693964760285,
            15024
           ],
           [
            3408,
            27.23760463618802,
            13959,
            29.315693964760285,
            15024
           ]
          ]
         ],
         "hoverlabel": {
          "font": {
           "size": 18
          }
         },
         "hovertemplate": "* → %{x}: %{customdata[1]:0.3f}%, %{customdata[2]} counts <br>%{y} → *: %{customdata[3]:0.3f}%, %{customdata[4]} counts <br>%{y} → %{x}: %{z:0.3f}%, %{customdata[0]} counts <extra></extra>",
         "type": "heatmap",
         "x": [
          "Art",
          "Business_Studies",
          "Citizenship",
          "Countries",
          "Design_and_Technology",
          "Everyday_life",
          "Geography",
          "History",
          "IT",
          "Language_and_literature",
          "Mathematics",
          "Music",
          "People",
          "Religion",
          "Science"
         ],
         "y": [
          "Art",
          "Business_Studies",
          "Citizenship",
          "Countries",
          "Design_and_Technology",
          "Everyday_life",
          "Geography",
          "History",
          "IT",
          "Language_and_literature",
          "Mathematics",
          "Music",
          "People",
          "Religion",
          "Science"
         ],
         "z": [
          [
           0.009756287927569319,
           0.013658803098597044,
           0.039025151710277275,
           0.042927666881305,
           0.007805030342055455,
           0.06048898515092977,
           0.13073425822942886,
           0.03122012136822182,
           0.019512575855138638,
           0.009756287927569319,
           0,
           0.029268863782707957,
           0.0917091065191516,
           0.023415091026166367,
           0.26732228921539936
          ],
          [
           0.02731760619719409,
           0.029268863782707957,
           0.05463521239438818,
           0.1619543795976507,
           0.04878143963784659,
           0.12292922788737341,
           0.30829869851119046,
           0.16390563718316453,
           0.04487892446681886,
           0.03317137895373568,
           0.011707545513083183,
           0.023415091026166367,
           0.17561318269624773,
           0.03317137895373568,
           0.3941540322738005
          ],
          [
           0.013658803098597044,
           0.04683018205233273,
           0.16975940993970615,
           0.3551288805635232,
           0.1404905461569982,
           0.36293391090557864,
           0.5834260180686452,
           0.2536634861168023,
           0.06634275790747136,
           0.10731916720326251,
           0.042927666881305,
           0.03707389412476341,
           0.26732228921539936,
           0.09561162169017932,
           1.0048976565396397
          ],
          [
           0.02536634861168023,
           0.10146539444672092,
           0.1834182130383032,
           0.5970848211672423,
           0.14634431891353977,
           0.43317918398407773,
           1.1414856875256103,
           0.49366816913500755,
           0.10146539444672092,
           0.18146695545278932,
           0.04683018205233273,
           0.12683174305840114,
           0.5170832601611739,
           0.15024683408456752,
           1.387344143300357
          ],
          [
           0.042927666881305,
           0.03512263653924955,
           0.13658803098597047,
           0.2302483950906359,
           0.12683174305840114,
           0.2185408495775527,
           0.6653788366602276,
           0.29268863782707955,
           0.19707701613690026,
           0.12097797030185954,
           0.039025151710277275,
           0.07609904583504068,
           0.3395188198794123,
           0.1131729399598041,
           2.2205311323147767
          ],
          [
           0.04683018205233273,
           0.15024683408456752,
           0.34147007746492614,
           0.7297703369821851,
           0.21658959199203887,
           0.9639212472438488,
           1.26246365782747,
           0.8819684286522664,
           0.18146695545278932,
           0.24585845577474683,
           0.08975784893363772,
           0.11122168237429023,
           0.8409920193564753,
           0.4507405022537025,
           3.0088391968623776
          ],
          [
           0.09561162169017932,
           0.2302483950906359,
           0.5951335635817284,
           1.3366114460769967,
           0.4663505629378134,
           0.8995297469218911,
           3.036156803059572,
           1.1083143085718747,
           0.3063474409256766,
           0.4039103202013698,
           0.20293078889344185,
           0.3180549864387598,
           1.5688110987531465,
           0.49952194189154914,
           3.488848562898788
          ],
          [
           0.07805030342055455,
           0.09366036410466547,
           0.2848836074850241,
           0.7083065035415326,
           0.2556147437023161,
           0.47025307810884115,
           1.516127143944272,
           0.7629417159359206,
           0.2185408495775527,
           0.17951569786727545,
           0.05853772756541591,
           0.14634431891353977,
           0.7824542917910593,
           0.2965911529981073,
           1.8946711155339617
          ],
          [
           0.009756287927569319,
           0.03512263653924955,
           0.06829401549298524,
           0.22244336474858045,
           0.0643915003219575,
           0.26732228921539936,
           0.4078128353723975,
           0.20293078889344185,
           0.06244024273644364,
           0.06634275790747136,
           0.013658803098597044,
           0.0643915003219575,
           0.26732228921539936,
           0.11122168237429023,
           0.4800093660364105
          ],
          [
           0.013658803098597044,
           0.039025151710277275,
           0.12292922788737341,
           0.26732228921539936,
           0.09951413686120705,
           0.19122324338035865,
           0.6458662608050889,
           0.3043961833401627,
           0.06829401549298524,
           0.07219653066401296,
           0.04097640929579113,
           0.05658646997990205,
           0.2614685164588577,
           0.14244180374251206,
           2.589318815976897
          ],
          [
           0.007805030342055455,
           0.013658803098597044,
           0.04878143963784659,
           0.09951413686120705,
           0.02536634861168023,
           0.08390407617709614,
           0.19512575855138636,
           0.0643915003219575,
           0.039025151710277275,
           0.04683018205233273,
           0.005853772756541592,
           0.03317137895373568,
           0.17171066752522,
           0.02731760619719409,
           0.29854241058362113
          ],
          [
           0.02536634861168023,
           0.0214638334406525,
           0.07414778824952682,
           0.15805186442662295,
           0.0643915003219575,
           0.12292922788737341,
           0.3161037288532459,
           0.18732072820933093,
           0.05463521239438818,
           0.05073269722336046,
           0.011707545513083183,
           0.03512263653924955,
           0.1834182130383032,
           0.029268863782707957,
           0.472204335694355
          ],
          [
           0.05463521239438818,
           0.16975940993970615,
           0.32000624402427363,
           0.8175769283303089,
           0.26732228921539936,
           0.5600109270424789,
           1.8400359031395734,
           0.7356241097387266,
           0.28683486507053796,
           0.25756600128783,
           0.12292922788737341,
           0.16780815235419227,
           0.9678237624148763,
           0.3395188198794123,
           2.4137056332806495
          ],
          [
           0.03122012136822182,
           0.05073269722336046,
           0.11902671271634568,
           0.21658959199203887,
           0.06829401549298524,
           0.17561318269624773,
           0.43317918398407773,
           0.21658959199203887,
           0.1131729399598041,
           0.07219653066401296,
           0.04487892446681886,
           0.05658646997990205,
           0.3765927140041757,
           0.2243946223340943,
           0.6673300942457413
          ],
          [
           0.1561006068411091,
           0.3765927140041757,
           0.8995297469218911,
           2.160042147163847,
           2.9600577572245315,
           1.5824699018517436,
           4.468379870826747,
           3.8869051103436165,
           0.8605045952116138,
           0.6517200335616304,
           0.3219575016097875,
           0.5541571542859374,
           2.8566411051922964,
           0.9307498682901131,
           6.6498858514312476
          ]
         ],
         "zmax": 11.624841487018621,
         "zmin": 0
        }
       ],
       "layout": {
        "font": {
         "size": 18
        },
        "height": 800,
        "template": {
         "data": {
          "bar": [
           {
            "error_x": {
             "color": "#2a3f5f"
            },
            "error_y": {
             "color": "#2a3f5f"
            },
            "marker": {
             "line": {
              "color": "#E5ECF6",
              "width": 0.5
             },
             "pattern": {
              "fillmode": "overlay",
              "size": 10,
              "solidity": 0.2
             }
            },
            "type": "bar"
           }
          ],
          "barpolar": [
           {
            "marker": {
             "line": {
              "color": "#E5ECF6",
              "width": 0.5
             },
             "pattern": {
              "fillmode": "overlay",
              "size": 10,
              "solidity": 0.2
             }
            },
            "type": "barpolar"
           }
          ],
          "carpet": [
           {
            "aaxis": {
             "endlinecolor": "#2a3f5f",
             "gridcolor": "white",
             "linecolor": "white",
             "minorgridcolor": "white",
             "startlinecolor": "#2a3f5f"
            },
            "baxis": {
             "endlinecolor": "#2a3f5f",
             "gridcolor": "white",
             "linecolor": "white",
             "minorgridcolor": "white",
             "startlinecolor": "#2a3f5f"
            },
            "type": "carpet"
           }
          ],
          "choropleth": [
           {
            "colorbar": {
             "outlinewidth": 0,
             "ticks": ""
            },
            "type": "choropleth"
           }
          ],
          "contour": [
           {
            "colorbar": {
             "outlinewidth": 0,
             "ticks": ""
            },
            "colorscale": [
             [
              0,
              "#0d0887"
             ],
             [
              0.1111111111111111,
              "#46039f"
             ],
             [
              0.2222222222222222,
              "#7201a8"
             ],
             [
              0.3333333333333333,
              "#9c179e"
             ],
             [
              0.4444444444444444,
              "#bd3786"
             ],
             [
              0.5555555555555556,
              "#d8576b"
             ],
             [
              0.6666666666666666,
              "#ed7953"
             ],
             [
              0.7777777777777778,
              "#fb9f3a"
             ],
             [
              0.8888888888888888,
              "#fdca26"
             ],
             [
              1,
              "#f0f921"
             ]
            ],
            "type": "contour"
           }
          ],
          "contourcarpet": [
           {
            "colorbar": {
             "outlinewidth": 0,
             "ticks": ""
            },
            "type": "contourcarpet"
           }
          ],
          "heatmap": [
           {
            "colorbar": {
             "outlinewidth": 0,
             "ticks": ""
            },
            "colorscale": [
             [
              0,
              "#0d0887"
             ],
             [
              0.1111111111111111,
              "#46039f"
             ],
             [
              0.2222222222222222,
              "#7201a8"
             ],
             [
              0.3333333333333333,
              "#9c179e"
             ],
             [
              0.4444444444444444,
              "#bd3786"
             ],
             [
              0.5555555555555556,
              "#d8576b"
             ],
             [
              0.6666666666666666,
              "#ed7953"
             ],
             [
              0.7777777777777778,
              "#fb9f3a"
             ],
             [
              0.8888888888888888,
              "#fdca26"
             ],
             [
              1,
              "#f0f921"
             ]
            ],
            "type": "heatmap"
           }
          ],
          "heatmapgl": [
           {
            "colorbar": {
             "outlinewidth": 0,
             "ticks": ""
            },
            "colorscale": [
             [
              0,
              "#0d0887"
             ],
             [
              0.1111111111111111,
              "#46039f"
             ],
             [
              0.2222222222222222,
              "#7201a8"
             ],
             [
              0.3333333333333333,
              "#9c179e"
             ],
             [
              0.4444444444444444,
              "#bd3786"
             ],
             [
              0.5555555555555556,
              "#d8576b"
             ],
             [
              0.6666666666666666,
              "#ed7953"
             ],
             [
              0.7777777777777778,
              "#fb9f3a"
             ],
             [
              0.8888888888888888,
              "#fdca26"
             ],
             [
              1,
              "#f0f921"
             ]
            ],
            "type": "heatmapgl"
           }
          ],
          "histogram": [
           {
            "marker": {
             "pattern": {
              "fillmode": "overlay",
              "size": 10,
              "solidity": 0.2
             }
            },
            "type": "histogram"
           }
          ],
          "histogram2d": [
           {
            "colorbar": {
             "outlinewidth": 0,
             "ticks": ""
            },
            "colorscale": [
             [
              0,
              "#0d0887"
             ],
             [
              0.1111111111111111,
              "#46039f"
             ],
             [
              0.2222222222222222,
              "#7201a8"
             ],
             [
              0.3333333333333333,
              "#9c179e"
             ],
             [
              0.4444444444444444,
              "#bd3786"
             ],
             [
              0.5555555555555556,
              "#d8576b"
             ],
             [
              0.6666666666666666,
              "#ed7953"
             ],
             [
              0.7777777777777778,
              "#fb9f3a"
             ],
             [
              0.8888888888888888,
              "#fdca26"
             ],
             [
              1,
              "#f0f921"
             ]
            ],
            "type": "histogram2d"
           }
          ],
          "histogram2dcontour": [
           {
            "colorbar": {
             "outlinewidth": 0,
             "ticks": ""
            },
            "colorscale": [
             [
              0,
              "#0d0887"
             ],
             [
              0.1111111111111111,
              "#46039f"
             ],
             [
              0.2222222222222222,
              "#7201a8"
             ],
             [
              0.3333333333333333,
              "#9c179e"
             ],
             [
              0.4444444444444444,
              "#bd3786"
             ],
             [
              0.5555555555555556,
              "#d8576b"
             ],
             [
              0.6666666666666666,
              "#ed7953"
             ],
             [
              0.7777777777777778,
              "#fb9f3a"
             ],
             [
              0.8888888888888888,
              "#fdca26"
             ],
             [
              1,
              "#f0f921"
             ]
            ],
            "type": "histogram2dcontour"
           }
          ],
          "mesh3d": [
           {
            "colorbar": {
             "outlinewidth": 0,
             "ticks": ""
            },
            "type": "mesh3d"
           }
          ],
          "parcoords": [
           {
            "line": {
             "colorbar": {
              "outlinewidth": 0,
              "ticks": ""
             }
            },
            "type": "parcoords"
           }
          ],
          "pie": [
           {
            "automargin": true,
            "type": "pie"
           }
          ],
          "scatter": [
           {
            "fillpattern": {
             "fillmode": "overlay",
             "size": 10,
             "solidity": 0.2
            },
            "type": "scatter"
           }
          ],
          "scatter3d": [
           {
            "line": {
             "colorbar": {
              "outlinewidth": 0,
              "ticks": ""
             }
            },
            "marker": {
             "colorbar": {
              "outlinewidth": 0,
              "ticks": ""
             }
            },
            "type": "scatter3d"
           }
          ],
          "scattercarpet": [
           {
            "marker": {
             "colorbar": {
              "outlinewidth": 0,
              "ticks": ""
             }
            },
            "type": "scattercarpet"
           }
          ],
          "scattergeo": [
           {
            "marker": {
             "colorbar": {
              "outlinewidth": 0,
              "ticks": ""
             }
            },
            "type": "scattergeo"
           }
          ],
          "scattergl": [
           {
            "marker": {
             "colorbar": {
              "outlinewidth": 0,
              "ticks": ""
             }
            },
            "type": "scattergl"
           }
          ],
          "scattermapbox": [
           {
            "marker": {
             "colorbar": {
              "outlinewidth": 0,
              "ticks": ""
             }
            },
            "type": "scattermapbox"
           }
          ],
          "scatterpolar": [
           {
            "marker": {
             "colorbar": {
              "outlinewidth": 0,
              "ticks": ""
             }
            },
            "type": "scatterpolar"
           }
          ],
          "scatterpolargl": [
           {
            "marker": {
             "colorbar": {
              "outlinewidth": 0,
              "ticks": ""
             }
            },
            "type": "scatterpolargl"
           }
          ],
          "scatterternary": [
           {
            "marker": {
             "colorbar": {
              "outlinewidth": 0,
              "ticks": ""
             }
            },
            "type": "scatterternary"
           }
          ],
          "surface": [
           {
            "colorbar": {
             "outlinewidth": 0,
             "ticks": ""
            },
            "colorscale": [
             [
              0,
              "#0d0887"
             ],
             [
              0.1111111111111111,
              "#46039f"
             ],
             [
              0.2222222222222222,
              "#7201a8"
             ],
             [
              0.3333333333333333,
              "#9c179e"
             ],
             [
              0.4444444444444444,
              "#bd3786"
             ],
             [
              0.5555555555555556,
              "#d8576b"
             ],
             [
              0.6666666666666666,
              "#ed7953"
             ],
             [
              0.7777777777777778,
              "#fb9f3a"
             ],
             [
              0.8888888888888888,
              "#fdca26"
             ],
             [
              1,
              "#f0f921"
             ]
            ],
            "type": "surface"
           }
          ],
          "table": [
           {
            "cells": {
             "fill": {
              "color": "#EBF0F8"
             },
             "line": {
              "color": "white"
             }
            },
            "header": {
             "fill": {
              "color": "#C8D4E3"
             },
             "line": {
              "color": "white"
             }
            },
            "type": "table"
           }
          ]
         },
         "layout": {
          "annotationdefaults": {
           "arrowcolor": "#2a3f5f",
           "arrowhead": 0,
           "arrowwidth": 1
          },
          "autotypenumbers": "strict",
          "coloraxis": {
           "colorbar": {
            "outlinewidth": 0,
            "ticks": ""
           }
          },
          "colorscale": {
           "diverging": [
            [
             0,
             "#8e0152"
            ],
            [
             0.1,
             "#c51b7d"
            ],
            [
             0.2,
             "#de77ae"
            ],
            [
             0.3,
             "#f1b6da"
            ],
            [
             0.4,
             "#fde0ef"
            ],
            [
             0.5,
             "#f7f7f7"
            ],
            [
             0.6,
             "#e6f5d0"
            ],
            [
             0.7,
             "#b8e186"
            ],
            [
             0.8,
             "#7fbc41"
            ],
            [
             0.9,
             "#4d9221"
            ],
            [
             1,
             "#276419"
            ]
           ],
           "sequential": [
            [
             0,
             "#0d0887"
            ],
            [
             0.1111111111111111,
             "#46039f"
            ],
            [
             0.2222222222222222,
             "#7201a8"
            ],
            [
             0.3333333333333333,
             "#9c179e"
            ],
            [
             0.4444444444444444,
             "#bd3786"
            ],
            [
             0.5555555555555556,
             "#d8576b"
            ],
            [
             0.6666666666666666,
             "#ed7953"
            ],
            [
             0.7777777777777778,
             "#fb9f3a"
            ],
            [
             0.8888888888888888,
             "#fdca26"
            ],
            [
             1,
             "#f0f921"
            ]
           ],
           "sequentialminus": [
            [
             0,
             "#0d0887"
            ],
            [
             0.1111111111111111,
             "#46039f"
            ],
            [
             0.2222222222222222,
             "#7201a8"
            ],
            [
             0.3333333333333333,
             "#9c179e"
            ],
            [
             0.4444444444444444,
             "#bd3786"
            ],
            [
             0.5555555555555556,
             "#d8576b"
            ],
            [
             0.6666666666666666,
             "#ed7953"
            ],
            [
             0.7777777777777778,
             "#fb9f3a"
            ],
            [
             0.8888888888888888,
             "#fdca26"
            ],
            [
             1,
             "#f0f921"
            ]
           ]
          },
          "colorway": [
           "#636efa",
           "#EF553B",
           "#00cc96",
           "#ab63fa",
           "#FFA15A",
           "#19d3f3",
           "#FF6692",
           "#B6E880",
           "#FF97FF",
           "#FECB52"
          ],
          "font": {
           "color": "#2a3f5f"
          },
          "geo": {
           "bgcolor": "white",
           "lakecolor": "white",
           "landcolor": "#E5ECF6",
           "showlakes": true,
           "showland": true,
           "subunitcolor": "white"
          },
          "hoverlabel": {
           "align": "left"
          },
          "hovermode": "closest",
          "mapbox": {
           "style": "light"
          },
          "paper_bgcolor": "white",
          "plot_bgcolor": "#E5ECF6",
          "polar": {
           "angularaxis": {
            "gridcolor": "white",
            "linecolor": "white",
            "ticks": ""
           },
           "bgcolor": "#E5ECF6",
           "radialaxis": {
            "gridcolor": "white",
            "linecolor": "white",
            "ticks": ""
           }
          },
          "scene": {
           "xaxis": {
            "backgroundcolor": "#E5ECF6",
            "gridcolor": "white",
            "gridwidth": 2,
            "linecolor": "white",
            "showbackground": true,
            "ticks": "",
            "zerolinecolor": "white"
           },
           "yaxis": {
            "backgroundcolor": "#E5ECF6",
            "gridcolor": "white",
            "gridwidth": 2,
            "linecolor": "white",
            "showbackground": true,
            "ticks": "",
            "zerolinecolor": "white"
           },
           "zaxis": {
            "backgroundcolor": "#E5ECF6",
            "gridcolor": "white",
            "gridwidth": 2,
            "linecolor": "white",
            "showbackground": true,
            "ticks": "",
            "zerolinecolor": "white"
           }
          },
          "shapedefaults": {
           "line": {
            "color": "#2a3f5f"
           }
          },
          "ternary": {
           "aaxis": {
            "gridcolor": "white",
            "linecolor": "white",
            "ticks": ""
           },
           "baxis": {
            "gridcolor": "white",
            "linecolor": "white",
            "ticks": ""
           },
           "bgcolor": "#E5ECF6",
           "caxis": {
            "gridcolor": "white",
            "linecolor": "white",
            "ticks": ""
           }
          },
          "title": {
           "x": 0.05
          },
          "xaxis": {
           "automargin": true,
           "gridcolor": "white",
           "linecolor": "white",
           "ticks": "",
           "title": {
            "standoff": 15
           },
           "zerolinecolor": "white",
           "zerolinewidth": 2
          },
          "yaxis": {
           "automargin": true,
           "gridcolor": "white",
           "linecolor": "white",
           "ticks": "",
           "title": {
            "standoff": 15
           },
           "zerolinecolor": "white",
           "zerolinewidth": 2
          }
         }
        },
        "title": {
         "text": "Categories of start and target articles for finished paths",
         "x": 0.5,
         "xanchor": "center"
        },
        "width": 800,
        "xaxis": {
         "title": {
          "text": "Target article category"
         }
        },
        "yaxis": {
         "scaleanchor": "x",
         "title": {
          "text": "Source article category"
         }
        }
       }
      }
     },
     "metadata": {},
     "output_type": "display_data"
    },
    {
     "data": {
      "application/vnd.plotly.v1+json": {
       "config": {
        "plotlyServerURL": "https://plot.ly"
       },
       "data": [
        {
         "colorscale": [
          [
           0,
           "rgb(12, 7, 134)"
          ],
          [
           0.010101010101010102,
           "rgb(76, 2, 161)"
          ],
          [
           0.020202020202020204,
           "rgb(95, 0, 166)"
          ],
          [
           0.030303030303030304,
           "rgb(109, 0, 168)"
          ],
          [
           0.04040404040404041,
           "rgb(120, 1, 168)"
          ],
          [
           0.050505050505050504,
           "rgb(129, 4, 167)"
          ],
          [
           0.06060606060606061,
           "rgb(137, 8, 165)"
          ],
          [
           0.0707070707070707,
           "rgb(144, 14, 163)"
          ],
          [
           0.08080808080808081,
           "rgb(151, 19, 160)"
          ],
          [
           0.09090909090909091,
           "rgb(158, 25, 156)"
          ],
          [
           0.10101010101010101,
           "rgb(163, 29, 153)"
          ],
          [
           0.1111111111111111,
           "rgb(168, 34, 150)"
          ],
          [
           0.12121212121212122,
           "rgb(173, 38, 146)"
          ],
          [
           0.13131313131313133,
           "rgb(176, 42, 143)"
          ],
          [
           0.1414141414141414,
           "rgb(181, 46, 140)"
          ],
          [
           0.15151515151515152,
           "rgb(184, 50, 137)"
          ],
          [
           0.16161616161616163,
           "rgb(187, 53, 134)"
          ],
          [
           0.1717171717171717,
           "rgb(190, 56, 131)"
          ],
          [
           0.18181818181818182,
           "rgb(193, 60, 128)"
          ],
          [
           0.1919191919191919,
           "rgb(196, 63, 126)"
          ],
          [
           0.20202020202020202,
           "rgb(199, 66, 123)"
          ],
          [
           0.21212121212121213,
           "rgb(202, 70, 120)"
          ],
          [
           0.2222222222222222,
           "rgb(205, 73, 117)"
          ],
          [
           0.23232323232323232,
           "rgb(207, 75, 116)"
          ],
          [
           0.24242424242424243,
           "rgb(209, 79, 113)"
          ],
          [
           0.25252525252525254,
           "rgb(211, 81, 111)"
          ],
          [
           0.26262626262626265,
           "rgb(214, 85, 109)"
          ],
          [
           0.2727272727272727,
           "rgb(215, 87, 107)"
          ],
          [
           0.2828282828282828,
           "rgb(218, 90, 104)"
          ],
          [
           0.29292929292929293,
           "rgb(220, 93, 102)"
          ],
          [
           0.30303030303030304,
           "rgb(221, 95, 101)"
          ],
          [
           0.31313131313131315,
           "rgb(223, 97, 99)"
          ],
          [
           0.32323232323232326,
           "rgb(225, 101, 96)"
          ],
          [
           0.3333333333333333,
           "rgb(227, 103, 95)"
          ],
          [
           0.3434343434343434,
           "rgb(228, 106, 93)"
          ],
          [
           0.35353535353535354,
           "rgb(229, 108, 91)"
          ],
          [
           0.36363636363636365,
           "rgb(231, 110, 90)"
          ],
          [
           0.37373737373737376,
           "rgb(232, 113, 88)"
          ],
          [
           0.3838383838383838,
           "rgb(234, 115, 86)"
          ],
          [
           0.3939393939393939,
           "rgb(235, 118, 84)"
          ],
          [
           0.40404040404040403,
           "rgb(236, 120, 83)"
          ],
          [
           0.41414141414141414,
           "rgb(237, 123, 81)"
          ],
          [
           0.42424242424242425,
           "rgb(239, 125, 79)"
          ],
          [
           0.43434343434343436,
           "rgb(239, 126, 78)"
          ],
          [
           0.4444444444444444,
           "rgb(240, 129, 77)"
          ],
          [
           0.45454545454545453,
           "rgb(242, 132, 75)"
          ],
          [
           0.46464646464646464,
           "rgb(243, 134, 73)"
          ],
          [
           0.47474747474747475,
           "rgb(244, 137, 71)"
          ],
          [
           0.48484848484848486,
           "rgb(244, 138, 71)"
          ],
          [
           0.494949494949495,
           "rgb(245, 141, 69)"
          ],
          [
           0.5050505050505051,
           "rgb(246, 143, 67)"
          ],
          [
           0.5151515151515151,
           "rgb(246, 145, 66)"
          ],
          [
           0.5252525252525253,
           "rgb(247, 147, 65)"
          ],
          [
           0.5353535353535354,
           "rgb(248, 150, 63)"
          ],
          [
           0.5454545454545454,
           "rgb(248, 152, 62)"
          ],
          [
           0.5555555555555556,
           "rgb(249, 154, 60)"
          ],
          [
           0.5656565656565656,
           "rgb(250, 157, 58)"
          ],
          [
           0.5757575757575758,
           "rgb(250, 159, 58)"
          ],
          [
           0.5858585858585859,
           "rgb(251, 162, 56)"
          ],
          [
           0.5959595959595959,
           "rgb(251, 163, 55)"
          ],
          [
           0.6060606060606061,
           "rgb(252, 166, 53)"
          ],
          [
           0.6161616161616161,
           "rgb(252, 167, 53)"
          ],
          [
           0.6262626262626263,
           "rgb(252, 170, 51)"
          ],
          [
           0.6363636363636364,
           "rgb(252, 172, 50)"
          ],
          [
           0.6464646464646465,
           "rgb(253, 175, 49)"
          ],
          [
           0.6565656565656566,
           "rgb(253, 176, 48)"
          ],
          [
           0.6666666666666666,
           "rgb(253, 179, 46)"
          ],
          [
           0.6767676767676768,
           "rgb(253, 181, 45)"
          ],
          [
           0.6868686868686869,
           "rgb(253, 184, 44)"
          ],
          [
           0.696969696969697,
           "rgb(253, 185, 43)"
          ],
          [
           0.7070707070707071,
           "rgb(253, 188, 42)"
          ],
          [
           0.7171717171717171,
           "rgb(253, 190, 41)"
          ],
          [
           0.7272727272727273,
           "rgb(253, 192, 41)"
          ],
          [
           0.7373737373737373,
           "rgb(253, 195, 40)"
          ],
          [
           0.7474747474747475,
           "rgb(253, 196, 39)"
          ],
          [
           0.7575757575757576,
           "rgb(253, 198, 38)"
          ],
          [
           0.7676767676767676,
           "rgb(252, 201, 38)"
          ],
          [
           0.7777777777777778,
           "rgb(252, 203, 37)"
          ],
          [
           0.7878787878787878,
           "rgb(252, 204, 37)"
          ],
          [
           0.797979797979798,
           "rgb(251, 208, 36)"
          ],
          [
           0.8080808080808081,
           "rgb(251, 209, 36)"
          ],
          [
           0.8181818181818182,
           "rgb(251, 211, 36)"
          ],
          [
           0.8282828282828283,
           "rgb(250, 214, 36)"
          ],
          [
           0.8383838383838383,
           "rgb(250, 216, 36)"
          ],
          [
           0.8484848484848485,
           "rgb(249, 217, 36)"
          ],
          [
           0.8585858585858586,
           "rgb(248, 221, 36)"
          ],
          [
           0.8686868686868687,
           "rgb(248, 223, 36)"
          ],
          [
           0.8787878787878788,
           "rgb(247, 224, 36)"
          ],
          [
           0.8888888888888888,
           "rgb(247, 226, 37)"
          ],
          [
           0.898989898989899,
           "rgb(246, 229, 37)"
          ],
          [
           0.9090909090909091,
           "rgb(245, 231, 38)"
          ],
          [
           0.9191919191919192,
           "rgb(245, 233, 38)"
          ],
          [
           0.9292929292929293,
           "rgb(244, 234, 38)"
          ],
          [
           0.9393939393939394,
           "rgb(243, 236, 38)"
          ],
          [
           0.9494949494949495,
           "rgb(242, 240, 38)"
          ],
          [
           0.9595959595959596,
           "rgb(242, 241, 38)"
          ],
          [
           0.9696969696969697,
           "rgb(241, 243, 38)"
          ],
          [
           0.9797979797979798,
           "rgb(240, 245, 37)"
          ],
          [
           0.98989898989899,
           "rgb(240, 246, 35)"
          ],
          [
           1,
           "rgb(239, 248, 33)"
          ]
         ],
         "customdata": [
          [
           [
            1,
            0.6681287295353701,
            131,
            0.8211353088182791,
            161
           ],
           [
            2,
            1.820778293466619,
            357,
            0.8211353088182791,
            161
           ],
           [
            3,
            4.069975008925383,
            798,
            0.8211353088182791,
            161
           ],
           [
            4,
            2.065588820319274,
            405,
            0.8211353088182791,
            161
           ],
           [
            9,
            8.083847605447033,
            1585,
            0.8211353088182791,
            161
           ],
           [
            23,
            10.766562962207374,
            2111,
            0.8211353088182791,
            161
           ],
           [
            19,
            10.567654409139593,
            2072,
            0.8211353088182791,
            161
           ],
           [
            2,
            9.603712959657265,
            1883,
            0.8211353088182791,
            161
           ],
           [
            3,
            2.5603100933340133,
            502,
            0.8211353088182791,
            161
           ],
           [
            4,
            3.7996633855255775,
            745,
            0.8211353088182791,
            161
           ],
           [
            1,
            0.7803335543428367,
            153,
            0.8211353088182791,
            161
           ],
           [
            8,
            2.443005049217116,
            479,
            0.8211353088182791,
            161
           ],
           [
            16,
            8.991686642525629,
            1763,
            0.8211353088182791,
            161
           ],
           [
            4,
            2.233896057530474,
            438,
            0.8211353088182791,
            161
           ],
           [
            62,
            31.544856428826442,
            6185,
            0.8211353088182791,
            161
           ]
          ],
          [
           [
            4,
            0.6681287295353701,
            131,
            1.5147651349008004,
            297
           ],
           [
            4,
            1.820778293466619,
            357,
            1.5147651349008004,
            297
           ],
           [
            14,
            4.069975008925383,
            798,
            1.5147651349008004,
            297
           ],
           [
            8,
            2.065588820319274,
            405,
            1.5147651349008004,
            297
           ],
           [
            20,
            8.083847605447033,
            1585,
            1.5147651349008004,
            297
           ],
           [
            34,
            10.766562962207374,
            2111,
            1.5147651349008004,
            297
           ],
           [
            36,
            10.567654409139593,
            2072,
            1.5147651349008004,
            297
           ],
           [
            24,
            9.603712959657265,
            1883,
            1.5147651349008004,
            297
           ],
           [
            5,
            2.5603100933340133,
            502,
            1.5147651349008004,
            297
           ],
           [
            9,
            3.7996633855255775,
            745,
            1.5147651349008004,
            297
           ],
           [
            2,
            0.7803335543428367,
            153,
            1.5147651349008004,
            297
           ],
           [
            13,
            2.443005049217116,
            479,
            1.5147651349008004,
            297
           ],
           [
            30,
            8.991686642525629,
            1763,
            1.5147651349008004,
            297
           ],
           [
            7,
            2.233896057530474,
            438,
            1.5147651349008004,
            297
           ],
           [
            87,
            31.544856428826442,
            6185,
            1.5147651349008004,
            297
           ]
          ],
          [
           [
            5,
            0.6681287295353701,
            131,
            3.2896414545825468,
            645
           ],
           [
            18,
            1.820778293466619,
            357,
            3.2896414545825468,
            645
           ],
           [
            30,
            4.069975008925383,
            798,
            3.2896414545825468,
            645
           ],
           [
            17,
            2.065588820319274,
            405,
            3.2896414545825468,
            645
           ],
           [
            31,
            8.083847605447033,
            1585,
            3.2896414545825468,
            645
           ],
           [
            82,
            10.766562962207374,
            2111,
            3.2896414545825468,
            645
           ],
           [
            81,
            10.567654409139593,
            2072,
            3.2896414545825468,
            645
           ],
           [
            48,
            9.603712959657265,
            1883,
            3.2896414545825468,
            645
           ],
           [
            8,
            2.5603100933340133,
            502,
            3.2896414545825468,
            645
           ],
           [
            25,
            3.7996633855255775,
            745,
            3.2896414545825468,
            645
           ],
           [
            4,
            0.7803335543428367,
            153,
            3.2896414545825468,
            645
           ],
           [
            24,
            2.443005049217116,
            479,
            3.2896414545825468,
            645
           ],
           [
            76,
            8.991686642525629,
            1763,
            3.2896414545825468,
            645
           ],
           [
            15,
            2.233896057530474,
            438,
            3.2896414545825468,
            645
           ],
           [
            181,
            31.544856428826442,
            6185,
            3.2896414545825468,
            645
           ]
          ],
          [
           [
            7,
            0.6681287295353701,
            131,
            5.1665221604528995,
            1013
           ],
           [
            21,
            1.820778293466619,
            357,
            5.1665221604528995,
            1013
           ],
           [
            54,
            4.069975008925383,
            798,
            5.1665221604528995,
            1013
           ],
           [
            23,
            2.065588820319274,
            405,
            5.1665221604528995,
            1013
           ],
           [
            39,
            8.083847605447033,
            1585,
            5.1665221604528995,
            1013
           ],
           [
            129,
            10.766562962207374,
            2111,
            5.1665221604528995,
            1013
           ],
           [
            144,
            10.567654409139593,
            2072,
            5.1665221604528995,
            1013
           ],
           [
            69,
            9.603712959657265,
            1883,
            5.1665221604528995,
            1013
           ],
           [
            23,
            2.5603100933340133,
            502,
            5.1665221604528995,
            1013
           ],
           [
            43,
            3.7996633855255775,
            745,
            5.1665221604528995,
            1013
           ],
           [
            5,
            0.7803335543428367,
            153,
            5.1665221604528995,
            1013
           ],
           [
            31,
            2.443005049217116,
            479,
            5.1665221604528995,
            1013
           ],
           [
            114,
            8.991686642525629,
            1763,
            5.1665221604528995,
            1013
           ],
           [
            14,
            2.233896057530474,
            438,
            5.1665221604528995,
            1013
           ],
           [
            297,
            31.544856428826442,
            6185,
            5.1665221604528995,
            1013
           ]
          ],
          [
           [
            10,
            0.6681287295353701,
            131,
            7.99714387718672,
            1568
           ],
           [
            20,
            1.820778293466619,
            357,
            7.99714387718672,
            1568
           ],
           [
            28,
            4.069975008925383,
            798,
            7.99714387718672,
            1568
           ],
           [
            15,
            2.065588820319274,
            405,
            7.99714387718672,
            1568
           ],
           [
            26,
            8.083847605447033,
            1585,
            7.99714387718672,
            1568
           ],
           [
            96,
            10.766562962207374,
            2111,
            7.99714387718672,
            1568
           ],
           [
            74,
            10.567654409139593,
            2072,
            7.99714387718672,
            1568
           ],
           [
            73,
            9.603712959657265,
            1883,
            7.99714387718672,
            1568
           ],
           [
            53,
            2.5603100933340133,
            502,
            7.99714387718672,
            1568
           ],
           [
            32,
            3.7996633855255775,
            745,
            7.99714387718672,
            1568
           ],
           [
            11,
            0.7803335543428367,
            153,
            7.99714387718672,
            1568
           ],
           [
            17,
            2.443005049217116,
            479,
            7.99714387718672,
            1568
           ],
           [
            70,
            8.991686642525629,
            1763,
            7.99714387718672,
            1568
           ],
           [
            16,
            2.233896057530474,
            438,
            7.99714387718672,
            1568
           ],
           [
            1027,
            31.544856428826442,
            6185,
            7.99714387718672,
            1568
           ]
          ],
          [
           [
            16,
            0.6681287295353701,
            131,
            8.721375019125823,
            1710
           ],
           [
            34,
            1.820778293466619,
            357,
            8.721375019125823,
            1710
           ],
           [
            81,
            4.069975008925383,
            798,
            8.721375019125823,
            1710
           ],
           [
            32,
            2.065588820319274,
            405,
            8.721375019125823,
            1710
           ],
           [
            70,
            8.083847605447033,
            1585,
            8.721375019125823,
            1710
           ],
           [
            231,
            10.766562962207374,
            2111,
            8.721375019125823,
            1710
           ],
           [
            186,
            10.567654409139593,
            2072,
            8.721375019125823,
            1710
           ],
           [
            113,
            9.603712959657265,
            1883,
            8.721375019125823,
            1710
           ],
           [
            44,
            2.5603100933340133,
            502,
            8.721375019125823,
            1710
           ],
           [
            77,
            3.7996633855255775,
            745,
            8.721375019125823,
            1710
           ],
           [
            20,
            0.7803335543428367,
            153,
            8.721375019125823,
            1710
           ],
           [
            38,
            2.443005049217116,
            479,
            8.721375019125823,
            1710
           ],
           [
            140,
            8.991686642525629,
            1763,
            8.721375019125823,
            1710
           ],
           [
            49,
            2.233896057530474,
            438,
            8.721375019125823,
            1710
           ],
           [
            579,
            31.544856428826442,
            6185,
            8.721375019125823,
            1710
           ]
          ],
          [
           [
            21,
            0.6681287295353701,
            131,
            13.270770643137656,
            2602
           ],
           [
            61,
            1.820778293466619,
            357,
            13.270770643137656,
            2602
           ],
           [
            126,
            4.069975008925383,
            798,
            13.270770643137656,
            2602
           ],
           [
            62,
            2.065588820319274,
            405,
            13.270770643137656,
            2602
           ],
           [
            135,
            8.083847605447033,
            1585,
            13.270770643137656,
            2602
           ],
           [
            335,
            10.766562962207374,
            2111,
            13.270770643137656,
            2602
           ],
           [
            341,
            10.567654409139593,
            2072,
            13.270770643137656,
            2602
           ],
           [
            222,
            9.603712959657265,
            1883,
            13.270770643137656,
            2602
           ],
           [
            54,
            2.5603100933340133,
            502,
            13.270770643137656,
            2602
           ],
           [
            109,
            3.7996633855255775,
            745,
            13.270770643137656,
            2602
           ],
           [
            34,
            0.7803335543428367,
            153,
            13.270770643137656,
            2602
           ],
           [
            83,
            2.443005049217116,
            479,
            13.270770643137656,
            2602
           ],
           [
            292,
            8.991686642525629,
            1763,
            13.270770643137656,
            2602
           ],
           [
            79,
            2.233896057530474,
            438,
            13.270770643137656,
            2602
           ],
           [
            648,
            31.544856428826442,
            6185,
            13.270770643137656,
            2602
           ]
          ],
          [
           [
            11,
            0.6681287295353701,
            131,
            7.2066098842250215,
            1413
           ],
           [
            26,
            1.820778293466619,
            357,
            7.2066098842250215,
            1413
           ],
           [
            63,
            4.069975008925383,
            798,
            7.2066098842250215,
            1413
           ],
           [
            33,
            2.065588820319274,
            405,
            7.2066098842250215,
            1413
           ],
           [
            54,
            8.083847605447033,
            1585,
            7.2066098842250215,
            1413
           ],
           [
            162,
            10.766562962207374,
            2111,
            7.2066098842250215,
            1413
           ],
           [
            189,
            10.567654409139593,
            2072,
            7.2066098842250215,
            1413
           ],
           [
            128,
            9.603712959657265,
            1883,
            7.2066098842250215,
            1413
           ],
           [
            50,
            2.5603100933340133,
            502,
            7.2066098842250215,
            1413
           ],
           [
            57,
            3.7996633855255775,
            745,
            7.2066098842250215,
            1413
           ],
           [
            10,
            0.7803335543428367,
            153,
            7.2066098842250215,
            1413
           ],
           [
            42,
            2.443005049217116,
            479,
            7.2066098842250215,
            1413
           ],
           [
            151,
            8.991686642525629,
            1763,
            7.2066098842250215,
            1413
           ],
           [
            43,
            2.233896057530474,
            438,
            7.2066098842250215,
            1413
           ],
           [
            394,
            31.544856428826442,
            6185,
            7.2066098842250215,
            1413
           ]
          ],
          [
           [
            1,
            0.6681287295353701,
            131,
            2.17269342581731,
            426
           ],
           [
            6,
            1.820778293466619,
            357,
            2.17269342581731,
            426
           ],
           [
            16,
            4.069975008925383,
            798,
            2.17269342581731,
            426
           ],
           [
            15,
            2.065588820319274,
            405,
            2.17269342581731,
            426
           ],
           [
            13,
            8.083847605447033,
            1585,
            2.17269342581731,
            426
           ],
           [
            97,
            10.766562962207374,
            2111,
            2.17269342581731,
            426
           ],
           [
            45,
            10.567654409139593,
            2072,
            2.17269342581731,
            426
           ],
           [
            28,
            9.603712959657265,
            1883,
            2.17269342581731,
            426
           ],
           [
            9,
            2.5603100933340133,
            502,
            2.17269342581731,
            426
           ],
           [
            22,
            3.7996633855255775,
            745,
            2.17269342581731,
            426
           ],
           [
            4,
            0.7803335543428367,
            153,
            2.17269342581731,
            426
           ],
           [
            17,
            2.443005049217116,
            479,
            2.17269342581731,
            426
           ],
           [
            43,
            8.991686642525629,
            1763,
            2.17269342581731,
            426
           ],
           [
            7,
            2.233896057530474,
            438,
            2.17269342581731,
            426
           ],
           [
            103,
            31.544856428826442,
            6185,
            2.17269342581731,
            426
           ]
          ],
          [
           [
            2,
            0.6681287295353701,
            131,
            6.803692558780027,
            1334
           ],
           [
            12,
            1.820778293466619,
            357,
            6.803692558780027,
            1334
           ],
           [
            28,
            4.069975008925383,
            798,
            6.803692558780027,
            1334
           ],
           [
            18,
            2.065588820319274,
            405,
            6.803692558780027,
            1334
           ],
           [
            35,
            8.083847605447033,
            1585,
            6.803692558780027,
            1334
           ],
           [
            65,
            10.766562962207374,
            2111,
            6.803692558780027,
            1334
           ],
           [
            81,
            10.567654409139593,
            2072,
            6.803692558780027,
            1334
           ],
           [
            50,
            9.603712959657265,
            1883,
            6.803692558780027,
            1334
           ],
           [
            13,
            2.5603100933340133,
            502,
            6.803692558780027,
            1334
           ],
           [
            29,
            3.7996633855255775,
            745,
            6.803692558780027,
            1334
           ],
           [
            3,
            0.7803335543428367,
            153,
            6.803692558780027,
            1334
           ],
           [
            18,
            2.443005049217116,
            479,
            6.803692558780027,
            1334
           ],
           [
            68,
            8.991686642525629,
            1763,
            6.803692558780027,
            1334
           ],
           [
            15,
            2.233896057530474,
            438,
            6.803692558780027,
            1334
           ],
           [
            897,
            31.544856428826442,
            6185,
            6.803692558780027,
            1334
           ]
          ],
          [
           [
            0,
            0.6681287295353701,
            131,
            1.2444535115009945,
            244
           ],
           [
            3,
            1.820778293466619,
            357,
            1.2444535115009945,
            244
           ],
           [
            13,
            4.069975008925383,
            798,
            1.2444535115009945,
            244
           ],
           [
            6,
            2.065588820319274,
            405,
            1.2444535115009945,
            244
           ],
           [
            8,
            8.083847605447033,
            1585,
            1.2444535115009945,
            244
           ],
           [
            36,
            10.766562962207374,
            2111,
            1.2444535115009945,
            244
           ],
           [
            25,
            10.567654409139593,
            2072,
            1.2444535115009945,
            244
           ],
           [
            18,
            9.603712959657265,
            1883,
            1.2444535115009945,
            244
           ],
           [
            3,
            2.5603100933340133,
            502,
            1.2444535115009945,
            244
           ],
           [
            5,
            3.7996633855255775,
            745,
            1.2444535115009945,
            244
           ],
           [
            1,
            0.7803335543428367,
            153,
            1.2444535115009945,
            244
           ],
           [
            6,
            2.443005049217116,
            479,
            1.2444535115009945,
            244
           ],
           [
            34,
            8.991686642525629,
            1763,
            1.2444535115009945,
            244
           ],
           [
            9,
            2.233896057530474,
            438,
            1.2444535115009945,
            244
           ],
           [
            77,
            31.544856428826442,
            6185,
            1.2444535115009945,
            244
           ]
          ],
          [
           [
            4,
            0.6681287295353701,
            131,
            1.6575712755648493,
            325
           ],
           [
            8,
            1.820778293466619,
            357,
            1.6575712755648493,
            325
           ],
           [
            22,
            4.069975008925383,
            798,
            1.6575712755648493,
            325
           ],
           [
            9,
            2.065588820319274,
            405,
            1.6575712755648493,
            325
           ],
           [
            16,
            8.083847605447033,
            1585,
            1.6575712755648493,
            325
           ],
           [
            36,
            10.766562962207374,
            2111,
            1.6575712755648493,
            325
           ],
           [
            34,
            10.567654409139593,
            2072,
            1.6575712755648493,
            325
           ],
           [
            32,
            9.603712959657265,
            1883,
            1.6575712755648493,
            325
           ],
           [
            6,
            2.5603100933340133,
            502,
            1.6575712755648493,
            325
           ],
           [
            23,
            3.7996633855255775,
            745,
            1.6575712755648493,
            325
           ],
           [
            2,
            0.7803335543428367,
            153,
            1.6575712755648493,
            325
           ],
           [
            11,
            2.443005049217116,
            479,
            1.6575712755648493,
            325
           ],
           [
            28,
            8.991686642525629,
            1763,
            1.6575712755648493,
            325
           ],
           [
            8,
            2.233896057530474,
            438,
            1.6575712755648493,
            325
           ],
           [
            86,
            31.544856428826442,
            6185,
            1.6575712755648493,
            325
           ]
          ],
          [
           [
            15,
            0.6681287295353701,
            131,
            8.323557912990259,
            1632
           ],
           [
            36,
            1.820778293466619,
            357,
            8.323557912990259,
            1632
           ],
           [
            67,
            4.069975008925383,
            798,
            8.323557912990259,
            1632
           ],
           [
            49,
            2.065588820319274,
            405,
            8.323557912990259,
            1632
           ],
           [
            55,
            8.083847605447033,
            1585,
            8.323557912990259,
            1632
           ],
           [
            208,
            10.766562962207374,
            2111,
            8.323557912990259,
            1632
           ],
           [
            215,
            10.567654409139593,
            2072,
            8.323557912990259,
            1632
           ],
           [
            124,
            9.603712959657265,
            1883,
            8.323557912990259,
            1632
           ],
           [
            44,
            2.5603100933340133,
            502,
            8.323557912990259,
            1632
           ],
           [
            78,
            3.7996633855255775,
            745,
            8.323557912990259,
            1632
           ],
           [
            9,
            0.7803335543428367,
            153,
            8.323557912990259,
            1632
           ],
           [
            47,
            2.443005049217116,
            479,
            8.323557912990259,
            1632
           ],
           [
            171,
            8.991686642525629,
            1763,
            8.323557912990259,
            1632
           ],
           [
            42,
            2.233896057530474,
            438,
            8.323557912990259,
            1632
           ],
           [
            472,
            31.544856428826442,
            6185,
            8.323557912990259,
            1632
           ]
          ],
          [
           [
            5,
            0.6681287295353701,
            131,
            2.805120620186668,
            550
           ],
           [
            10,
            1.820778293466619,
            357,
            2.805120620186668,
            550
           ],
           [
            29,
            4.069975008925383,
            798,
            2.805120620186668,
            550
           ],
           [
            12,
            2.065588820319274,
            405,
            2.805120620186668,
            550
           ],
           [
            20,
            8.083847605447033,
            1585,
            2.805120620186668,
            550
           ],
           [
            88,
            10.766562962207374,
            2111,
            2.805120620186668,
            550
           ],
           [
            57,
            10.567654409139593,
            2072,
            2.805120620186668,
            550
           ],
           [
            51,
            9.603712959657265,
            1883,
            2.805120620186668,
            550
           ],
           [
            19,
            2.5603100933340133,
            502,
            2.805120620186668,
            550
           ],
           [
            26,
            3.7996633855255775,
            745,
            2.805120620186668,
            550
           ],
           [
            1,
            0.7803335543428367,
            153,
            2.805120620186668,
            550
           ],
           [
            11,
            2.443005049217116,
            479,
            2.805120620186668,
            550
           ],
           [
            71,
            8.991686642525629,
            1763,
            2.805120620186668,
            550
           ],
           [
            8,
            2.233896057530474,
            438,
            2.805120620186668,
            550
           ],
           [
            142,
            31.544856428826442,
            6185,
            2.805120620186668,
            550
           ]
          ],
          [
           [
            29,
            0.6681287295353701,
            131,
            29.004947212730144,
            5687
           ],
           [
            96,
            1.820778293466619,
            357,
            29.004947212730144,
            5687
           ],
           [
            224,
            4.069975008925383,
            798,
            29.004947212730144,
            5687
           ],
           [
            102,
            2.065588820319274,
            405,
            29.004947212730144,
            5687
           ],
           [
            1054,
            8.083847605447033,
            1585,
            29.004947212730144,
            5687
           ],
           [
            489,
            10.766562962207374,
            2111,
            29.004947212730144,
            5687
           ],
           [
            545,
            10.567654409139593,
            2072,
            29.004947212730144,
            5687
           ],
           [
            901,
            9.603712959657265,
            1883,
            29.004947212730144,
            5687
           ],
           [
            168,
            2.5603100933340133,
            502,
            29.004947212730144,
            5687
           ],
           [
            206,
            3.7996633855255775,
            745,
            29.004947212730144,
            5687
           ],
           [
            46,
            0.7803335543428367,
            153,
            29.004947212730144,
            5687
           ],
           [
            113,
            2.443005049217116,
            479,
            29.004947212730144,
            5687
           ],
           [
            459,
            8.991686642525629,
            1763,
            29.004947212730144,
            5687
           ],
           [
            122,
            2.233896057530474,
            438,
            29.004947212730144,
            5687
           ],
           [
            1133,
            31.544856428826442,
            6185,
            29.004947212730144,
            5687
           ]
          ]
         ],
         "hoverlabel": {
          "font": {
           "size": 18
          }
         },
         "hovertemplate": "* → %{x}: %{customdata[1]:0.3f}%, %{customdata[2]} counts <br>%{y} → *: %{customdata[3]:0.3f}%, %{customdata[4]} counts <br>%{y} → %{x}: %{z:0.3f}%, %{customdata[0]} counts <extra></extra>",
         "type": "heatmap",
         "x": [
          "Art",
          "Business_Studies",
          "Citizenship",
          "Countries",
          "Design_and_Technology",
          "Everyday_life",
          "Geography",
          "History",
          "IT",
          "Language_and_literature",
          "Mathematics",
          "Music",
          "People",
          "Religion",
          "Science"
         ],
         "y": [
          "Art",
          "Business_Studies",
          "Citizenship",
          "Countries",
          "Design_and_Technology",
          "Everyday_life",
          "Geography",
          "History",
          "IT",
          "Language_and_literature",
          "Mathematics",
          "Music",
          "People",
          "Religion",
          "Science"
         ],
         "z": [
          [
           0.005100219309430306,
           0.010200438618860611,
           0.015300657928290917,
           0.020400877237721222,
           0.04590197378487275,
           0.11730504411689702,
           0.0969041668791758,
           0.010200438618860611,
           0.015300657928290917,
           0.020400877237721222,
           0.005100219309430306,
           0.040801754475442445,
           0.08160350895088489,
           0.020400877237721222,
           0.31621359718467895
          ],
          [
           0.020400877237721222,
           0.020400877237721222,
           0.07140307033202428,
           0.040801754475442445,
           0.1020043861886061,
           0.1734074565206304,
           0.183607895139491,
           0.12240526342632733,
           0.025501096547151526,
           0.04590197378487275,
           0.010200438618860611,
           0.06630285102259396,
           0.15300657928290917,
           0.03570153516601214,
           0.4437190799204366
          ],
          [
           0.025501096547151526,
           0.0918039475697455,
           0.15300657928290917,
           0.0867037282603152,
           0.15810679859233948,
           0.41821798337328503,
           0.4131177640638547,
           0.24481052685265467,
           0.040801754475442445,
           0.12750548273575765,
           0.020400877237721222,
           0.12240526342632733,
           0.3876166675167032,
           0.07650328964145459,
           0.9231396950068853
          ],
          [
           0.03570153516601214,
           0.10710460549803642,
           0.27541184270923647,
           0.11730504411689702,
           0.19890855306778193,
           0.6579282909165094,
           0.734431580557964,
           0.3519151323506911,
           0.11730504411689702,
           0.21930943030550312,
           0.025501096547151526,
           0.15810679859233948,
           0.5814250012750548,
           0.07140307033202428,
           1.514765134900801
          ],
          [
           0.05100219309430305,
           0.1020043861886061,
           0.14280614066404856,
           0.07650328964145459,
           0.13260570204518793,
           0.48962105370530934,
           0.3774162288978426,
           0.3723160095884123,
           0.2703116233998062,
           0.16320701790176978,
           0.05610241240373336,
           0.0867037282603152,
           0.3570153516601214,
           0.08160350895088489,
           5.237925230784924
          ],
          [
           0.08160350895088489,
           0.1734074565206304,
           0.4131177640638547,
           0.16320701790176978,
           0.3570153516601214,
           1.1781506604784007,
           0.9486407915540368,
           0.5763247819656245,
           0.22440964961493343,
           0.39271688682613354,
           0.1020043861886061,
           0.1938083337583516,
           0.7140307033202428,
           0.24991074616208497,
           2.953026980160147
          ],
          [
           0.10710460549803642,
           0.3111133778752486,
           0.6426276329882185,
           0.31621359718467895,
           0.6885296067730913,
           1.7085734686591525,
           1.7391747845157342,
           1.1322486866935277,
           0.27541184270923647,
           0.5559239047279033,
           0.1734074565206304,
           0.42331820268271536,
           1.4892640383536493,
           0.40291732544499415,
           3.3049421125108376
          ],
          [
           0.05610241240373336,
           0.13260570204518793,
           0.32131381649410923,
           0.16830723721120008,
           0.27541184270923647,
           0.8262355281277094,
           0.9639414494823276,
           0.6528280716070791,
           0.2550109654715153,
           0.2907125006375274,
           0.05100219309430305,
           0.21420921099607285,
           0.7701331157239761,
           0.21930943030550312,
           2.0094864079155403
          ],
          [
           0.005100219309430306,
           0.030601315856581834,
           0.08160350895088489,
           0.07650328964145459,
           0.06630285102259396,
           0.4947212730147396,
           0.22950986892436376,
           0.14280614066404856,
           0.04590197378487275,
           0.11220482480746671,
           0.020400877237721222,
           0.0867037282603152,
           0.21930943030550312,
           0.03570153516601214,
           0.5253225888713214
          ],
          [
           0.010200438618860611,
           0.06120263171316367,
           0.14280614066404856,
           0.0918039475697455,
           0.1785076758300607,
           0.33151425511296984,
           0.4131177640638547,
           0.2550109654715153,
           0.06630285102259396,
           0.14790635997347887,
           0.015300657928290917,
           0.0918039475697455,
           0.3468149130412608,
           0.07650328964145459,
           4.574896720558984
          ],
          [
           0,
           0.015300657928290917,
           0.06630285102259396,
           0.030601315856581834,
           0.040801754475442445,
           0.183607895139491,
           0.12750548273575765,
           0.0918039475697455,
           0.015300657928290917,
           0.025501096547151526,
           0.005100219309430306,
           0.030601315856581834,
           0.1734074565206304,
           0.04590197378487275,
           0.39271688682613354
          ],
          [
           0.020400877237721222,
           0.040801754475442445,
           0.11220482480746671,
           0.04590197378487275,
           0.08160350895088489,
           0.183607895139491,
           0.1734074565206304,
           0.16320701790176978,
           0.030601315856581834,
           0.11730504411689702,
           0.010200438618860611,
           0.05610241240373336,
           0.14280614066404856,
           0.040801754475442445,
           0.43861886061100624
          ],
          [
           0.07650328964145459,
           0.183607895139491,
           0.3417146937318305,
           0.24991074616208497,
           0.2805120620186668,
           1.0608456163615034,
           1.0965471515275156,
           0.6324271943693579,
           0.22440964961493343,
           0.39781710613556387,
           0.04590197378487275,
           0.23971030754322437,
           0.8721375019125822,
           0.21420921099607285,
           2.4073035140511045
          ],
          [
           0.025501096547151526,
           0.05100219309430305,
           0.14790635997347887,
           0.06120263171316367,
           0.1020043861886061,
           0.44881929922986685,
           0.2907125006375274,
           0.2601111847809456,
           0.0969041668791758,
           0.13260570204518793,
           0.005100219309430306,
           0.05610241240373336,
           0.36211557096955166,
           0.040801754475442445,
           0.7242311419391033
          ],
          [
           0.14790635997347887,
           0.48962105370530934,
           1.1424491253123885,
           0.5202223695618912,
           5.375631152139542,
           2.4940072423114192,
           2.7796195236395165,
           4.595297597796706,
           0.8568368439842914,
           1.0506451777426429,
           0.23461008823379403,
           0.5763247819656245,
           2.34100066302851,
           0.6222267557504972,
           5.778548477584536
          ]
         ],
         "zmax": 11.624841487018621,
         "zmin": 0
        }
       ],
       "layout": {
        "font": {
         "size": 18
        },
        "height": 800,
        "template": {
         "data": {
          "bar": [
           {
            "error_x": {
             "color": "#2a3f5f"
            },
            "error_y": {
             "color": "#2a3f5f"
            },
            "marker": {
             "line": {
              "color": "#E5ECF6",
              "width": 0.5
             },
             "pattern": {
              "fillmode": "overlay",
              "size": 10,
              "solidity": 0.2
             }
            },
            "type": "bar"
           }
          ],
          "barpolar": [
           {
            "marker": {
             "line": {
              "color": "#E5ECF6",
              "width": 0.5
             },
             "pattern": {
              "fillmode": "overlay",
              "size": 10,
              "solidity": 0.2
             }
            },
            "type": "barpolar"
           }
          ],
          "carpet": [
           {
            "aaxis": {
             "endlinecolor": "#2a3f5f",
             "gridcolor": "white",
             "linecolor": "white",
             "minorgridcolor": "white",
             "startlinecolor": "#2a3f5f"
            },
            "baxis": {
             "endlinecolor": "#2a3f5f",
             "gridcolor": "white",
             "linecolor": "white",
             "minorgridcolor": "white",
             "startlinecolor": "#2a3f5f"
            },
            "type": "carpet"
           }
          ],
          "choropleth": [
           {
            "colorbar": {
             "outlinewidth": 0,
             "ticks": ""
            },
            "type": "choropleth"
           }
          ],
          "contour": [
           {
            "colorbar": {
             "outlinewidth": 0,
             "ticks": ""
            },
            "colorscale": [
             [
              0,
              "#0d0887"
             ],
             [
              0.1111111111111111,
              "#46039f"
             ],
             [
              0.2222222222222222,
              "#7201a8"
             ],
             [
              0.3333333333333333,
              "#9c179e"
             ],
             [
              0.4444444444444444,
              "#bd3786"
             ],
             [
              0.5555555555555556,
              "#d8576b"
             ],
             [
              0.6666666666666666,
              "#ed7953"
             ],
             [
              0.7777777777777778,
              "#fb9f3a"
             ],
             [
              0.8888888888888888,
              "#fdca26"
             ],
             [
              1,
              "#f0f921"
             ]
            ],
            "type": "contour"
           }
          ],
          "contourcarpet": [
           {
            "colorbar": {
             "outlinewidth": 0,
             "ticks": ""
            },
            "type": "contourcarpet"
           }
          ],
          "heatmap": [
           {
            "colorbar": {
             "outlinewidth": 0,
             "ticks": ""
            },
            "colorscale": [
             [
              0,
              "#0d0887"
             ],
             [
              0.1111111111111111,
              "#46039f"
             ],
             [
              0.2222222222222222,
              "#7201a8"
             ],
             [
              0.3333333333333333,
              "#9c179e"
             ],
             [
              0.4444444444444444,
              "#bd3786"
             ],
             [
              0.5555555555555556,
              "#d8576b"
             ],
             [
              0.6666666666666666,
              "#ed7953"
             ],
             [
              0.7777777777777778,
              "#fb9f3a"
             ],
             [
              0.8888888888888888,
              "#fdca26"
             ],
             [
              1,
              "#f0f921"
             ]
            ],
            "type": "heatmap"
           }
          ],
          "heatmapgl": [
           {
            "colorbar": {
             "outlinewidth": 0,
             "ticks": ""
            },
            "colorscale": [
             [
              0,
              "#0d0887"
             ],
             [
              0.1111111111111111,
              "#46039f"
             ],
             [
              0.2222222222222222,
              "#7201a8"
             ],
             [
              0.3333333333333333,
              "#9c179e"
             ],
             [
              0.4444444444444444,
              "#bd3786"
             ],
             [
              0.5555555555555556,
              "#d8576b"
             ],
             [
              0.6666666666666666,
              "#ed7953"
             ],
             [
              0.7777777777777778,
              "#fb9f3a"
             ],
             [
              0.8888888888888888,
              "#fdca26"
             ],
             [
              1,
              "#f0f921"
             ]
            ],
            "type": "heatmapgl"
           }
          ],
          "histogram": [
           {
            "marker": {
             "pattern": {
              "fillmode": "overlay",
              "size": 10,
              "solidity": 0.2
             }
            },
            "type": "histogram"
           }
          ],
          "histogram2d": [
           {
            "colorbar": {
             "outlinewidth": 0,
             "ticks": ""
            },
            "colorscale": [
             [
              0,
              "#0d0887"
             ],
             [
              0.1111111111111111,
              "#46039f"
             ],
             [
              0.2222222222222222,
              "#7201a8"
             ],
             [
              0.3333333333333333,
              "#9c179e"
             ],
             [
              0.4444444444444444,
              "#bd3786"
             ],
             [
              0.5555555555555556,
              "#d8576b"
             ],
             [
              0.6666666666666666,
              "#ed7953"
             ],
             [
              0.7777777777777778,
              "#fb9f3a"
             ],
             [
              0.8888888888888888,
              "#fdca26"
             ],
             [
              1,
              "#f0f921"
             ]
            ],
            "type": "histogram2d"
           }
          ],
          "histogram2dcontour": [
           {
            "colorbar": {
             "outlinewidth": 0,
             "ticks": ""
            },
            "colorscale": [
             [
              0,
              "#0d0887"
             ],
             [
              0.1111111111111111,
              "#46039f"
             ],
             [
              0.2222222222222222,
              "#7201a8"
             ],
             [
              0.3333333333333333,
              "#9c179e"
             ],
             [
              0.4444444444444444,
              "#bd3786"
             ],
             [
              0.5555555555555556,
              "#d8576b"
             ],
             [
              0.6666666666666666,
              "#ed7953"
             ],
             [
              0.7777777777777778,
              "#fb9f3a"
             ],
             [
              0.8888888888888888,
              "#fdca26"
             ],
             [
              1,
              "#f0f921"
             ]
            ],
            "type": "histogram2dcontour"
           }
          ],
          "mesh3d": [
           {
            "colorbar": {
             "outlinewidth": 0,
             "ticks": ""
            },
            "type": "mesh3d"
           }
          ],
          "parcoords": [
           {
            "line": {
             "colorbar": {
              "outlinewidth": 0,
              "ticks": ""
             }
            },
            "type": "parcoords"
           }
          ],
          "pie": [
           {
            "automargin": true,
            "type": "pie"
           }
          ],
          "scatter": [
           {
            "fillpattern": {
             "fillmode": "overlay",
             "size": 10,
             "solidity": 0.2
            },
            "type": "scatter"
           }
          ],
          "scatter3d": [
           {
            "line": {
             "colorbar": {
              "outlinewidth": 0,
              "ticks": ""
             }
            },
            "marker": {
             "colorbar": {
              "outlinewidth": 0,
              "ticks": ""
             }
            },
            "type": "scatter3d"
           }
          ],
          "scattercarpet": [
           {
            "marker": {
             "colorbar": {
              "outlinewidth": 0,
              "ticks": ""
             }
            },
            "type": "scattercarpet"
           }
          ],
          "scattergeo": [
           {
            "marker": {
             "colorbar": {
              "outlinewidth": 0,
              "ticks": ""
             }
            },
            "type": "scattergeo"
           }
          ],
          "scattergl": [
           {
            "marker": {
             "colorbar": {
              "outlinewidth": 0,
              "ticks": ""
             }
            },
            "type": "scattergl"
           }
          ],
          "scattermapbox": [
           {
            "marker": {
             "colorbar": {
              "outlinewidth": 0,
              "ticks": ""
             }
            },
            "type": "scattermapbox"
           }
          ],
          "scatterpolar": [
           {
            "marker": {
             "colorbar": {
              "outlinewidth": 0,
              "ticks": ""
             }
            },
            "type": "scatterpolar"
           }
          ],
          "scatterpolargl": [
           {
            "marker": {
             "colorbar": {
              "outlinewidth": 0,
              "ticks": ""
             }
            },
            "type": "scatterpolargl"
           }
          ],
          "scatterternary": [
           {
            "marker": {
             "colorbar": {
              "outlinewidth": 0,
              "ticks": ""
             }
            },
            "type": "scatterternary"
           }
          ],
          "surface": [
           {
            "colorbar": {
             "outlinewidth": 0,
             "ticks": ""
            },
            "colorscale": [
             [
              0,
              "#0d0887"
             ],
             [
              0.1111111111111111,
              "#46039f"
             ],
             [
              0.2222222222222222,
              "#7201a8"
             ],
             [
              0.3333333333333333,
              "#9c179e"
             ],
             [
              0.4444444444444444,
              "#bd3786"
             ],
             [
              0.5555555555555556,
              "#d8576b"
             ],
             [
              0.6666666666666666,
              "#ed7953"
             ],
             [
              0.7777777777777778,
              "#fb9f3a"
             ],
             [
              0.8888888888888888,
              "#fdca26"
             ],
             [
              1,
              "#f0f921"
             ]
            ],
            "type": "surface"
           }
          ],
          "table": [
           {
            "cells": {
             "fill": {
              "color": "#EBF0F8"
             },
             "line": {
              "color": "white"
             }
            },
            "header": {
             "fill": {
              "color": "#C8D4E3"
             },
             "line": {
              "color": "white"
             }
            },
            "type": "table"
           }
          ]
         },
         "layout": {
          "annotationdefaults": {
           "arrowcolor": "#2a3f5f",
           "arrowhead": 0,
           "arrowwidth": 1
          },
          "autotypenumbers": "strict",
          "coloraxis": {
           "colorbar": {
            "outlinewidth": 0,
            "ticks": ""
           }
          },
          "colorscale": {
           "diverging": [
            [
             0,
             "#8e0152"
            ],
            [
             0.1,
             "#c51b7d"
            ],
            [
             0.2,
             "#de77ae"
            ],
            [
             0.3,
             "#f1b6da"
            ],
            [
             0.4,
             "#fde0ef"
            ],
            [
             0.5,
             "#f7f7f7"
            ],
            [
             0.6,
             "#e6f5d0"
            ],
            [
             0.7,
             "#b8e186"
            ],
            [
             0.8,
             "#7fbc41"
            ],
            [
             0.9,
             "#4d9221"
            ],
            [
             1,
             "#276419"
            ]
           ],
           "sequential": [
            [
             0,
             "#0d0887"
            ],
            [
             0.1111111111111111,
             "#46039f"
            ],
            [
             0.2222222222222222,
             "#7201a8"
            ],
            [
             0.3333333333333333,
             "#9c179e"
            ],
            [
             0.4444444444444444,
             "#bd3786"
            ],
            [
             0.5555555555555556,
             "#d8576b"
            ],
            [
             0.6666666666666666,
             "#ed7953"
            ],
            [
             0.7777777777777778,
             "#fb9f3a"
            ],
            [
             0.8888888888888888,
             "#fdca26"
            ],
            [
             1,
             "#f0f921"
            ]
           ],
           "sequentialminus": [
            [
             0,
             "#0d0887"
            ],
            [
             0.1111111111111111,
             "#46039f"
            ],
            [
             0.2222222222222222,
             "#7201a8"
            ],
            [
             0.3333333333333333,
             "#9c179e"
            ],
            [
             0.4444444444444444,
             "#bd3786"
            ],
            [
             0.5555555555555556,
             "#d8576b"
            ],
            [
             0.6666666666666666,
             "#ed7953"
            ],
            [
             0.7777777777777778,
             "#fb9f3a"
            ],
            [
             0.8888888888888888,
             "#fdca26"
            ],
            [
             1,
             "#f0f921"
            ]
           ]
          },
          "colorway": [
           "#636efa",
           "#EF553B",
           "#00cc96",
           "#ab63fa",
           "#FFA15A",
           "#19d3f3",
           "#FF6692",
           "#B6E880",
           "#FF97FF",
           "#FECB52"
          ],
          "font": {
           "color": "#2a3f5f"
          },
          "geo": {
           "bgcolor": "white",
           "lakecolor": "white",
           "landcolor": "#E5ECF6",
           "showlakes": true,
           "showland": true,
           "subunitcolor": "white"
          },
          "hoverlabel": {
           "align": "left"
          },
          "hovermode": "closest",
          "mapbox": {
           "style": "light"
          },
          "paper_bgcolor": "white",
          "plot_bgcolor": "#E5ECF6",
          "polar": {
           "angularaxis": {
            "gridcolor": "white",
            "linecolor": "white",
            "ticks": ""
           },
           "bgcolor": "#E5ECF6",
           "radialaxis": {
            "gridcolor": "white",
            "linecolor": "white",
            "ticks": ""
           }
          },
          "scene": {
           "xaxis": {
            "backgroundcolor": "#E5ECF6",
            "gridcolor": "white",
            "gridwidth": 2,
            "linecolor": "white",
            "showbackground": true,
            "ticks": "",
            "zerolinecolor": "white"
           },
           "yaxis": {
            "backgroundcolor": "#E5ECF6",
            "gridcolor": "white",
            "gridwidth": 2,
            "linecolor": "white",
            "showbackground": true,
            "ticks": "",
            "zerolinecolor": "white"
           },
           "zaxis": {
            "backgroundcolor": "#E5ECF6",
            "gridcolor": "white",
            "gridwidth": 2,
            "linecolor": "white",
            "showbackground": true,
            "ticks": "",
            "zerolinecolor": "white"
           }
          },
          "shapedefaults": {
           "line": {
            "color": "#2a3f5f"
           }
          },
          "ternary": {
           "aaxis": {
            "gridcolor": "white",
            "linecolor": "white",
            "ticks": ""
           },
           "baxis": {
            "gridcolor": "white",
            "linecolor": "white",
            "ticks": ""
           },
           "bgcolor": "#E5ECF6",
           "caxis": {
            "gridcolor": "white",
            "linecolor": "white",
            "ticks": ""
           }
          },
          "title": {
           "x": 0.05
          },
          "xaxis": {
           "automargin": true,
           "gridcolor": "white",
           "linecolor": "white",
           "ticks": "",
           "title": {
            "standoff": 15
           },
           "zerolinecolor": "white",
           "zerolinewidth": 2
          },
          "yaxis": {
           "automargin": true,
           "gridcolor": "white",
           "linecolor": "white",
           "ticks": "",
           "title": {
            "standoff": 15
           },
           "zerolinecolor": "white",
           "zerolinewidth": 2
          }
         }
        },
        "title": {
         "text": "Categories of start and target articles for unfinished paths",
         "x": 0.5,
         "xanchor": "center"
        },
        "width": 800,
        "xaxis": {
         "title": {
          "text": "Target article category"
         }
        },
        "yaxis": {
         "scaleanchor": "x",
         "title": {
          "text": "Source article category"
         }
        }
       }
      }
     },
     "metadata": {},
     "output_type": "display_data"
    },
    {
     "data": {
      "application/vnd.plotly.v1+json": {
       "config": {
        "plotlyServerURL": "https://plot.ly"
       },
       "data": [
        {
         "colorscale": [
          [
           0,
           "rgb(12, 7, 134)"
          ],
          [
           0.010101010101010102,
           "rgb(76, 2, 161)"
          ],
          [
           0.020202020202020204,
           "rgb(95, 0, 166)"
          ],
          [
           0.030303030303030304,
           "rgb(109, 0, 168)"
          ],
          [
           0.04040404040404041,
           "rgb(120, 1, 168)"
          ],
          [
           0.050505050505050504,
           "rgb(129, 4, 167)"
          ],
          [
           0.06060606060606061,
           "rgb(137, 8, 165)"
          ],
          [
           0.0707070707070707,
           "rgb(144, 14, 163)"
          ],
          [
           0.08080808080808081,
           "rgb(151, 19, 160)"
          ],
          [
           0.09090909090909091,
           "rgb(158, 25, 156)"
          ],
          [
           0.10101010101010101,
           "rgb(163, 29, 153)"
          ],
          [
           0.1111111111111111,
           "rgb(168, 34, 150)"
          ],
          [
           0.12121212121212122,
           "rgb(173, 38, 146)"
          ],
          [
           0.13131313131313133,
           "rgb(176, 42, 143)"
          ],
          [
           0.1414141414141414,
           "rgb(181, 46, 140)"
          ],
          [
           0.15151515151515152,
           "rgb(184, 50, 137)"
          ],
          [
           0.16161616161616163,
           "rgb(187, 53, 134)"
          ],
          [
           0.1717171717171717,
           "rgb(190, 56, 131)"
          ],
          [
           0.18181818181818182,
           "rgb(193, 60, 128)"
          ],
          [
           0.1919191919191919,
           "rgb(196, 63, 126)"
          ],
          [
           0.20202020202020202,
           "rgb(199, 66, 123)"
          ],
          [
           0.21212121212121213,
           "rgb(202, 70, 120)"
          ],
          [
           0.2222222222222222,
           "rgb(205, 73, 117)"
          ],
          [
           0.23232323232323232,
           "rgb(207, 75, 116)"
          ],
          [
           0.24242424242424243,
           "rgb(209, 79, 113)"
          ],
          [
           0.25252525252525254,
           "rgb(211, 81, 111)"
          ],
          [
           0.26262626262626265,
           "rgb(214, 85, 109)"
          ],
          [
           0.2727272727272727,
           "rgb(215, 87, 107)"
          ],
          [
           0.2828282828282828,
           "rgb(218, 90, 104)"
          ],
          [
           0.29292929292929293,
           "rgb(220, 93, 102)"
          ],
          [
           0.30303030303030304,
           "rgb(221, 95, 101)"
          ],
          [
           0.31313131313131315,
           "rgb(223, 97, 99)"
          ],
          [
           0.32323232323232326,
           "rgb(225, 101, 96)"
          ],
          [
           0.3333333333333333,
           "rgb(227, 103, 95)"
          ],
          [
           0.3434343434343434,
           "rgb(228, 106, 93)"
          ],
          [
           0.35353535353535354,
           "rgb(229, 108, 91)"
          ],
          [
           0.36363636363636365,
           "rgb(231, 110, 90)"
          ],
          [
           0.37373737373737376,
           "rgb(232, 113, 88)"
          ],
          [
           0.3838383838383838,
           "rgb(234, 115, 86)"
          ],
          [
           0.3939393939393939,
           "rgb(235, 118, 84)"
          ],
          [
           0.40404040404040403,
           "rgb(236, 120, 83)"
          ],
          [
           0.41414141414141414,
           "rgb(237, 123, 81)"
          ],
          [
           0.42424242424242425,
           "rgb(239, 125, 79)"
          ],
          [
           0.43434343434343436,
           "rgb(239, 126, 78)"
          ],
          [
           0.4444444444444444,
           "rgb(240, 129, 77)"
          ],
          [
           0.45454545454545453,
           "rgb(242, 132, 75)"
          ],
          [
           0.46464646464646464,
           "rgb(243, 134, 73)"
          ],
          [
           0.47474747474747475,
           "rgb(244, 137, 71)"
          ],
          [
           0.48484848484848486,
           "rgb(244, 138, 71)"
          ],
          [
           0.494949494949495,
           "rgb(245, 141, 69)"
          ],
          [
           0.5050505050505051,
           "rgb(246, 143, 67)"
          ],
          [
           0.5151515151515151,
           "rgb(246, 145, 66)"
          ],
          [
           0.5252525252525253,
           "rgb(247, 147, 65)"
          ],
          [
           0.5353535353535354,
           "rgb(248, 150, 63)"
          ],
          [
           0.5454545454545454,
           "rgb(248, 152, 62)"
          ],
          [
           0.5555555555555556,
           "rgb(249, 154, 60)"
          ],
          [
           0.5656565656565656,
           "rgb(250, 157, 58)"
          ],
          [
           0.5757575757575758,
           "rgb(250, 159, 58)"
          ],
          [
           0.5858585858585859,
           "rgb(251, 162, 56)"
          ],
          [
           0.5959595959595959,
           "rgb(251, 163, 55)"
          ],
          [
           0.6060606060606061,
           "rgb(252, 166, 53)"
          ],
          [
           0.6161616161616161,
           "rgb(252, 167, 53)"
          ],
          [
           0.6262626262626263,
           "rgb(252, 170, 51)"
          ],
          [
           0.6363636363636364,
           "rgb(252, 172, 50)"
          ],
          [
           0.6464646464646465,
           "rgb(253, 175, 49)"
          ],
          [
           0.6565656565656566,
           "rgb(253, 176, 48)"
          ],
          [
           0.6666666666666666,
           "rgb(253, 179, 46)"
          ],
          [
           0.6767676767676768,
           "rgb(253, 181, 45)"
          ],
          [
           0.6868686868686869,
           "rgb(253, 184, 44)"
          ],
          [
           0.696969696969697,
           "rgb(253, 185, 43)"
          ],
          [
           0.7070707070707071,
           "rgb(253, 188, 42)"
          ],
          [
           0.7171717171717171,
           "rgb(253, 190, 41)"
          ],
          [
           0.7272727272727273,
           "rgb(253, 192, 41)"
          ],
          [
           0.7373737373737373,
           "rgb(253, 195, 40)"
          ],
          [
           0.7474747474747475,
           "rgb(253, 196, 39)"
          ],
          [
           0.7575757575757576,
           "rgb(253, 198, 38)"
          ],
          [
           0.7676767676767676,
           "rgb(252, 201, 38)"
          ],
          [
           0.7777777777777778,
           "rgb(252, 203, 37)"
          ],
          [
           0.7878787878787878,
           "rgb(252, 204, 37)"
          ],
          [
           0.797979797979798,
           "rgb(251, 208, 36)"
          ],
          [
           0.8080808080808081,
           "rgb(251, 209, 36)"
          ],
          [
           0.8181818181818182,
           "rgb(251, 211, 36)"
          ],
          [
           0.8282828282828283,
           "rgb(250, 214, 36)"
          ],
          [
           0.8383838383838383,
           "rgb(250, 216, 36)"
          ],
          [
           0.8484848484848485,
           "rgb(249, 217, 36)"
          ],
          [
           0.8585858585858586,
           "rgb(248, 221, 36)"
          ],
          [
           0.8686868686868687,
           "rgb(248, 223, 36)"
          ],
          [
           0.8787878787878788,
           "rgb(247, 224, 36)"
          ],
          [
           0.8888888888888888,
           "rgb(247, 226, 37)"
          ],
          [
           0.898989898989899,
           "rgb(246, 229, 37)"
          ],
          [
           0.9090909090909091,
           "rgb(245, 231, 38)"
          ],
          [
           0.9191919191919192,
           "rgb(245, 233, 38)"
          ],
          [
           0.9292929292929293,
           "rgb(244, 234, 38)"
          ],
          [
           0.9393939393939394,
           "rgb(243, 236, 38)"
          ],
          [
           0.9494949494949495,
           "rgb(242, 240, 38)"
          ],
          [
           0.9595959595959596,
           "rgb(242, 241, 38)"
          ],
          [
           0.9696969696969697,
           "rgb(241, 243, 38)"
          ],
          [
           0.9797979797979798,
           "rgb(240, 245, 37)"
          ],
          [
           0.98989898989899,
           "rgb(240, 246, 35)"
          ],
          [
           1,
           "rgb(239, 248, 33)"
          ]
         ],
         "customdata": [
          [
           [
            1,
            0.6681287295353701,
            131,
            0.8211353088182791,
            161
           ],
           [
            2,
            1.820778293466619,
            357,
            0.8211353088182791,
            161
           ],
           [
            3,
            4.069975008925383,
            798,
            0.8211353088182791,
            161
           ],
           [
            4,
            2.065588820319274,
            405,
            0.8211353088182791,
            161
           ],
           [
            9,
            8.083847605447033,
            1585,
            0.8211353088182791,
            161
           ],
           [
            23,
            10.766562962207374,
            2111,
            0.8211353088182791,
            161
           ],
           [
            19,
            10.567654409139593,
            2072,
            0.8211353088182791,
            161
           ],
           [
            2,
            9.603712959657265,
            1883,
            0.8211353088182791,
            161
           ],
           [
            3,
            2.5603100933340133,
            502,
            0.8211353088182791,
            161
           ],
           [
            4,
            3.7996633855255775,
            745,
            0.8211353088182791,
            161
           ],
           [
            1,
            0.7803335543428367,
            153,
            0.8211353088182791,
            161
           ],
           [
            8,
            2.443005049217116,
            479,
            0.8211353088182791,
            161
           ],
           [
            16,
            8.991686642525629,
            1763,
            0.8211353088182791,
            161
           ],
           [
            4,
            2.233896057530474,
            438,
            0.8211353088182791,
            161
           ],
           [
            62,
            31.544856428826442,
            6185,
            0.8211353088182791,
            161
           ]
          ],
          [
           [
            4,
            0.6681287295353701,
            131,
            1.5147651349008004,
            297
           ],
           [
            4,
            1.820778293466619,
            357,
            1.5147651349008004,
            297
           ],
           [
            14,
            4.069975008925383,
            798,
            1.5147651349008004,
            297
           ],
           [
            8,
            2.065588820319274,
            405,
            1.5147651349008004,
            297
           ],
           [
            20,
            8.083847605447033,
            1585,
            1.5147651349008004,
            297
           ],
           [
            34,
            10.766562962207374,
            2111,
            1.5147651349008004,
            297
           ],
           [
            36,
            10.567654409139593,
            2072,
            1.5147651349008004,
            297
           ],
           [
            24,
            9.603712959657265,
            1883,
            1.5147651349008004,
            297
           ],
           [
            5,
            2.5603100933340133,
            502,
            1.5147651349008004,
            297
           ],
           [
            9,
            3.7996633855255775,
            745,
            1.5147651349008004,
            297
           ],
           [
            2,
            0.7803335543428367,
            153,
            1.5147651349008004,
            297
           ],
           [
            13,
            2.443005049217116,
            479,
            1.5147651349008004,
            297
           ],
           [
            30,
            8.991686642525629,
            1763,
            1.5147651349008004,
            297
           ],
           [
            7,
            2.233896057530474,
            438,
            1.5147651349008004,
            297
           ],
           [
            87,
            31.544856428826442,
            6185,
            1.5147651349008004,
            297
           ]
          ],
          [
           [
            5,
            0.6681287295353701,
            131,
            3.2896414545825468,
            645
           ],
           [
            18,
            1.820778293466619,
            357,
            3.2896414545825468,
            645
           ],
           [
            30,
            4.069975008925383,
            798,
            3.2896414545825468,
            645
           ],
           [
            17,
            2.065588820319274,
            405,
            3.2896414545825468,
            645
           ],
           [
            31,
            8.083847605447033,
            1585,
            3.2896414545825468,
            645
           ],
           [
            82,
            10.766562962207374,
            2111,
            3.2896414545825468,
            645
           ],
           [
            81,
            10.567654409139593,
            2072,
            3.2896414545825468,
            645
           ],
           [
            48,
            9.603712959657265,
            1883,
            3.2896414545825468,
            645
           ],
           [
            8,
            2.5603100933340133,
            502,
            3.2896414545825468,
            645
           ],
           [
            25,
            3.7996633855255775,
            745,
            3.2896414545825468,
            645
           ],
           [
            4,
            0.7803335543428367,
            153,
            3.2896414545825468,
            645
           ],
           [
            24,
            2.443005049217116,
            479,
            3.2896414545825468,
            645
           ],
           [
            76,
            8.991686642525629,
            1763,
            3.2896414545825468,
            645
           ],
           [
            15,
            2.233896057530474,
            438,
            3.2896414545825468,
            645
           ],
           [
            181,
            31.544856428826442,
            6185,
            3.2896414545825468,
            645
           ]
          ],
          [
           [
            7,
            0.6681287295353701,
            131,
            5.1665221604528995,
            1013
           ],
           [
            21,
            1.820778293466619,
            357,
            5.1665221604528995,
            1013
           ],
           [
            54,
            4.069975008925383,
            798,
            5.1665221604528995,
            1013
           ],
           [
            23,
            2.065588820319274,
            405,
            5.1665221604528995,
            1013
           ],
           [
            39,
            8.083847605447033,
            1585,
            5.1665221604528995,
            1013
           ],
           [
            129,
            10.766562962207374,
            2111,
            5.1665221604528995,
            1013
           ],
           [
            144,
            10.567654409139593,
            2072,
            5.1665221604528995,
            1013
           ],
           [
            69,
            9.603712959657265,
            1883,
            5.1665221604528995,
            1013
           ],
           [
            23,
            2.5603100933340133,
            502,
            5.1665221604528995,
            1013
           ],
           [
            43,
            3.7996633855255775,
            745,
            5.1665221604528995,
            1013
           ],
           [
            5,
            0.7803335543428367,
            153,
            5.1665221604528995,
            1013
           ],
           [
            31,
            2.443005049217116,
            479,
            5.1665221604528995,
            1013
           ],
           [
            114,
            8.991686642525629,
            1763,
            5.1665221604528995,
            1013
           ],
           [
            14,
            2.233896057530474,
            438,
            5.1665221604528995,
            1013
           ],
           [
            297,
            31.544856428826442,
            6185,
            5.1665221604528995,
            1013
           ]
          ],
          [
           [
            10,
            0.6681287295353701,
            131,
            7.99714387718672,
            1568
           ],
           [
            20,
            1.820778293466619,
            357,
            7.99714387718672,
            1568
           ],
           [
            28,
            4.069975008925383,
            798,
            7.99714387718672,
            1568
           ],
           [
            15,
            2.065588820319274,
            405,
            7.99714387718672,
            1568
           ],
           [
            26,
            8.083847605447033,
            1585,
            7.99714387718672,
            1568
           ],
           [
            96,
            10.766562962207374,
            2111,
            7.99714387718672,
            1568
           ],
           [
            74,
            10.567654409139593,
            2072,
            7.99714387718672,
            1568
           ],
           [
            73,
            9.603712959657265,
            1883,
            7.99714387718672,
            1568
           ],
           [
            53,
            2.5603100933340133,
            502,
            7.99714387718672,
            1568
           ],
           [
            32,
            3.7996633855255775,
            745,
            7.99714387718672,
            1568
           ],
           [
            11,
            0.7803335543428367,
            153,
            7.99714387718672,
            1568
           ],
           [
            17,
            2.443005049217116,
            479,
            7.99714387718672,
            1568
           ],
           [
            70,
            8.991686642525629,
            1763,
            7.99714387718672,
            1568
           ],
           [
            16,
            2.233896057530474,
            438,
            7.99714387718672,
            1568
           ],
           [
            1027,
            31.544856428826442,
            6185,
            7.99714387718672,
            1568
           ]
          ],
          [
           [
            16,
            0.6681287295353701,
            131,
            8.721375019125823,
            1710
           ],
           [
            34,
            1.820778293466619,
            357,
            8.721375019125823,
            1710
           ],
           [
            81,
            4.069975008925383,
            798,
            8.721375019125823,
            1710
           ],
           [
            32,
            2.065588820319274,
            405,
            8.721375019125823,
            1710
           ],
           [
            70,
            8.083847605447033,
            1585,
            8.721375019125823,
            1710
           ],
           [
            231,
            10.766562962207374,
            2111,
            8.721375019125823,
            1710
           ],
           [
            186,
            10.567654409139593,
            2072,
            8.721375019125823,
            1710
           ],
           [
            113,
            9.603712959657265,
            1883,
            8.721375019125823,
            1710
           ],
           [
            44,
            2.5603100933340133,
            502,
            8.721375019125823,
            1710
           ],
           [
            77,
            3.7996633855255775,
            745,
            8.721375019125823,
            1710
           ],
           [
            20,
            0.7803335543428367,
            153,
            8.721375019125823,
            1710
           ],
           [
            38,
            2.443005049217116,
            479,
            8.721375019125823,
            1710
           ],
           [
            140,
            8.991686642525629,
            1763,
            8.721375019125823,
            1710
           ],
           [
            49,
            2.233896057530474,
            438,
            8.721375019125823,
            1710
           ],
           [
            579,
            31.544856428826442,
            6185,
            8.721375019125823,
            1710
           ]
          ],
          [
           [
            21,
            0.6681287295353701,
            131,
            13.270770643137656,
            2602
           ],
           [
            61,
            1.820778293466619,
            357,
            13.270770643137656,
            2602
           ],
           [
            126,
            4.069975008925383,
            798,
            13.270770643137656,
            2602
           ],
           [
            62,
            2.065588820319274,
            405,
            13.270770643137656,
            2602
           ],
           [
            135,
            8.083847605447033,
            1585,
            13.270770643137656,
            2602
           ],
           [
            335,
            10.766562962207374,
            2111,
            13.270770643137656,
            2602
           ],
           [
            341,
            10.567654409139593,
            2072,
            13.270770643137656,
            2602
           ],
           [
            222,
            9.603712959657265,
            1883,
            13.270770643137656,
            2602
           ],
           [
            54,
            2.5603100933340133,
            502,
            13.270770643137656,
            2602
           ],
           [
            109,
            3.7996633855255775,
            745,
            13.270770643137656,
            2602
           ],
           [
            34,
            0.7803335543428367,
            153,
            13.270770643137656,
            2602
           ],
           [
            83,
            2.443005049217116,
            479,
            13.270770643137656,
            2602
           ],
           [
            292,
            8.991686642525629,
            1763,
            13.270770643137656,
            2602
           ],
           [
            79,
            2.233896057530474,
            438,
            13.270770643137656,
            2602
           ],
           [
            648,
            31.544856428826442,
            6185,
            13.270770643137656,
            2602
           ]
          ],
          [
           [
            11,
            0.6681287295353701,
            131,
            7.2066098842250215,
            1413
           ],
           [
            26,
            1.820778293466619,
            357,
            7.2066098842250215,
            1413
           ],
           [
            63,
            4.069975008925383,
            798,
            7.2066098842250215,
            1413
           ],
           [
            33,
            2.065588820319274,
            405,
            7.2066098842250215,
            1413
           ],
           [
            54,
            8.083847605447033,
            1585,
            7.2066098842250215,
            1413
           ],
           [
            162,
            10.766562962207374,
            2111,
            7.2066098842250215,
            1413
           ],
           [
            189,
            10.567654409139593,
            2072,
            7.2066098842250215,
            1413
           ],
           [
            128,
            9.603712959657265,
            1883,
            7.2066098842250215,
            1413
           ],
           [
            50,
            2.5603100933340133,
            502,
            7.2066098842250215,
            1413
           ],
           [
            57,
            3.7996633855255775,
            745,
            7.2066098842250215,
            1413
           ],
           [
            10,
            0.7803335543428367,
            153,
            7.2066098842250215,
            1413
           ],
           [
            42,
            2.443005049217116,
            479,
            7.2066098842250215,
            1413
           ],
           [
            151,
            8.991686642525629,
            1763,
            7.2066098842250215,
            1413
           ],
           [
            43,
            2.233896057530474,
            438,
            7.2066098842250215,
            1413
           ],
           [
            394,
            31.544856428826442,
            6185,
            7.2066098842250215,
            1413
           ]
          ],
          [
           [
            1,
            0.6681287295353701,
            131,
            2.17269342581731,
            426
           ],
           [
            6,
            1.820778293466619,
            357,
            2.17269342581731,
            426
           ],
           [
            16,
            4.069975008925383,
            798,
            2.17269342581731,
            426
           ],
           [
            15,
            2.065588820319274,
            405,
            2.17269342581731,
            426
           ],
           [
            13,
            8.083847605447033,
            1585,
            2.17269342581731,
            426
           ],
           [
            97,
            10.766562962207374,
            2111,
            2.17269342581731,
            426
           ],
           [
            45,
            10.567654409139593,
            2072,
            2.17269342581731,
            426
           ],
           [
            28,
            9.603712959657265,
            1883,
            2.17269342581731,
            426
           ],
           [
            9,
            2.5603100933340133,
            502,
            2.17269342581731,
            426
           ],
           [
            22,
            3.7996633855255775,
            745,
            2.17269342581731,
            426
           ],
           [
            4,
            0.7803335543428367,
            153,
            2.17269342581731,
            426
           ],
           [
            17,
            2.443005049217116,
            479,
            2.17269342581731,
            426
           ],
           [
            43,
            8.991686642525629,
            1763,
            2.17269342581731,
            426
           ],
           [
            7,
            2.233896057530474,
            438,
            2.17269342581731,
            426
           ],
           [
            103,
            31.544856428826442,
            6185,
            2.17269342581731,
            426
           ]
          ],
          [
           [
            2,
            0.6681287295353701,
            131,
            6.803692558780027,
            1334
           ],
           [
            12,
            1.820778293466619,
            357,
            6.803692558780027,
            1334
           ],
           [
            28,
            4.069975008925383,
            798,
            6.803692558780027,
            1334
           ],
           [
            18,
            2.065588820319274,
            405,
            6.803692558780027,
            1334
           ],
           [
            35,
            8.083847605447033,
            1585,
            6.803692558780027,
            1334
           ],
           [
            65,
            10.766562962207374,
            2111,
            6.803692558780027,
            1334
           ],
           [
            81,
            10.567654409139593,
            2072,
            6.803692558780027,
            1334
           ],
           [
            50,
            9.603712959657265,
            1883,
            6.803692558780027,
            1334
           ],
           [
            13,
            2.5603100933340133,
            502,
            6.803692558780027,
            1334
           ],
           [
            29,
            3.7996633855255775,
            745,
            6.803692558780027,
            1334
           ],
           [
            3,
            0.7803335543428367,
            153,
            6.803692558780027,
            1334
           ],
           [
            18,
            2.443005049217116,
            479,
            6.803692558780027,
            1334
           ],
           [
            68,
            8.991686642525629,
            1763,
            6.803692558780027,
            1334
           ],
           [
            15,
            2.233896057530474,
            438,
            6.803692558780027,
            1334
           ],
           [
            897,
            31.544856428826442,
            6185,
            6.803692558780027,
            1334
           ]
          ],
          [
           [
            0,
            0.6681287295353701,
            131,
            1.2444535115009945,
            244
           ],
           [
            3,
            1.820778293466619,
            357,
            1.2444535115009945,
            244
           ],
           [
            13,
            4.069975008925383,
            798,
            1.2444535115009945,
            244
           ],
           [
            6,
            2.065588820319274,
            405,
            1.2444535115009945,
            244
           ],
           [
            8,
            8.083847605447033,
            1585,
            1.2444535115009945,
            244
           ],
           [
            36,
            10.766562962207374,
            2111,
            1.2444535115009945,
            244
           ],
           [
            25,
            10.567654409139593,
            2072,
            1.2444535115009945,
            244
           ],
           [
            18,
            9.603712959657265,
            1883,
            1.2444535115009945,
            244
           ],
           [
            3,
            2.5603100933340133,
            502,
            1.2444535115009945,
            244
           ],
           [
            5,
            3.7996633855255775,
            745,
            1.2444535115009945,
            244
           ],
           [
            1,
            0.7803335543428367,
            153,
            1.2444535115009945,
            244
           ],
           [
            6,
            2.443005049217116,
            479,
            1.2444535115009945,
            244
           ],
           [
            34,
            8.991686642525629,
            1763,
            1.2444535115009945,
            244
           ],
           [
            9,
            2.233896057530474,
            438,
            1.2444535115009945,
            244
           ],
           [
            77,
            31.544856428826442,
            6185,
            1.2444535115009945,
            244
           ]
          ],
          [
           [
            4,
            0.6681287295353701,
            131,
            1.6575712755648493,
            325
           ],
           [
            8,
            1.820778293466619,
            357,
            1.6575712755648493,
            325
           ],
           [
            22,
            4.069975008925383,
            798,
            1.6575712755648493,
            325
           ],
           [
            9,
            2.065588820319274,
            405,
            1.6575712755648493,
            325
           ],
           [
            16,
            8.083847605447033,
            1585,
            1.6575712755648493,
            325
           ],
           [
            36,
            10.766562962207374,
            2111,
            1.6575712755648493,
            325
           ],
           [
            34,
            10.567654409139593,
            2072,
            1.6575712755648493,
            325
           ],
           [
            32,
            9.603712959657265,
            1883,
            1.6575712755648493,
            325
           ],
           [
            6,
            2.5603100933340133,
            502,
            1.6575712755648493,
            325
           ],
           [
            23,
            3.7996633855255775,
            745,
            1.6575712755648493,
            325
           ],
           [
            2,
            0.7803335543428367,
            153,
            1.6575712755648493,
            325
           ],
           [
            11,
            2.443005049217116,
            479,
            1.6575712755648493,
            325
           ],
           [
            28,
            8.991686642525629,
            1763,
            1.6575712755648493,
            325
           ],
           [
            8,
            2.233896057530474,
            438,
            1.6575712755648493,
            325
           ],
           [
            86,
            31.544856428826442,
            6185,
            1.6575712755648493,
            325
           ]
          ],
          [
           [
            15,
            0.6681287295353701,
            131,
            8.323557912990259,
            1632
           ],
           [
            36,
            1.820778293466619,
            357,
            8.323557912990259,
            1632
           ],
           [
            67,
            4.069975008925383,
            798,
            8.323557912990259,
            1632
           ],
           [
            49,
            2.065588820319274,
            405,
            8.323557912990259,
            1632
           ],
           [
            55,
            8.083847605447033,
            1585,
            8.323557912990259,
            1632
           ],
           [
            208,
            10.766562962207374,
            2111,
            8.323557912990259,
            1632
           ],
           [
            215,
            10.567654409139593,
            2072,
            8.323557912990259,
            1632
           ],
           [
            124,
            9.603712959657265,
            1883,
            8.323557912990259,
            1632
           ],
           [
            44,
            2.5603100933340133,
            502,
            8.323557912990259,
            1632
           ],
           [
            78,
            3.7996633855255775,
            745,
            8.323557912990259,
            1632
           ],
           [
            9,
            0.7803335543428367,
            153,
            8.323557912990259,
            1632
           ],
           [
            47,
            2.443005049217116,
            479,
            8.323557912990259,
            1632
           ],
           [
            171,
            8.991686642525629,
            1763,
            8.323557912990259,
            1632
           ],
           [
            42,
            2.233896057530474,
            438,
            8.323557912990259,
            1632
           ],
           [
            472,
            31.544856428826442,
            6185,
            8.323557912990259,
            1632
           ]
          ],
          [
           [
            5,
            0.6681287295353701,
            131,
            2.805120620186668,
            550
           ],
           [
            10,
            1.820778293466619,
            357,
            2.805120620186668,
            550
           ],
           [
            29,
            4.069975008925383,
            798,
            2.805120620186668,
            550
           ],
           [
            12,
            2.065588820319274,
            405,
            2.805120620186668,
            550
           ],
           [
            20,
            8.083847605447033,
            1585,
            2.805120620186668,
            550
           ],
           [
            88,
            10.766562962207374,
            2111,
            2.805120620186668,
            550
           ],
           [
            57,
            10.567654409139593,
            2072,
            2.805120620186668,
            550
           ],
           [
            51,
            9.603712959657265,
            1883,
            2.805120620186668,
            550
           ],
           [
            19,
            2.5603100933340133,
            502,
            2.805120620186668,
            550
           ],
           [
            26,
            3.7996633855255775,
            745,
            2.805120620186668,
            550
           ],
           [
            1,
            0.7803335543428367,
            153,
            2.805120620186668,
            550
           ],
           [
            11,
            2.443005049217116,
            479,
            2.805120620186668,
            550
           ],
           [
            71,
            8.991686642525629,
            1763,
            2.805120620186668,
            550
           ],
           [
            8,
            2.233896057530474,
            438,
            2.805120620186668,
            550
           ],
           [
            142,
            31.544856428826442,
            6185,
            2.805120620186668,
            550
           ]
          ],
          [
           [
            29,
            0.6681287295353701,
            131,
            29.004947212730144,
            5687
           ],
           [
            96,
            1.820778293466619,
            357,
            29.004947212730144,
            5687
           ],
           [
            224,
            4.069975008925383,
            798,
            29.004947212730144,
            5687
           ],
           [
            102,
            2.065588820319274,
            405,
            29.004947212730144,
            5687
           ],
           [
            1054,
            8.083847605447033,
            1585,
            29.004947212730144,
            5687
           ],
           [
            489,
            10.766562962207374,
            2111,
            29.004947212730144,
            5687
           ],
           [
            545,
            10.567654409139593,
            2072,
            29.004947212730144,
            5687
           ],
           [
            901,
            9.603712959657265,
            1883,
            29.004947212730144,
            5687
           ],
           [
            168,
            2.5603100933340133,
            502,
            29.004947212730144,
            5687
           ],
           [
            206,
            3.7996633855255775,
            745,
            29.004947212730144,
            5687
           ],
           [
            46,
            0.7803335543428367,
            153,
            29.004947212730144,
            5687
           ],
           [
            113,
            2.443005049217116,
            479,
            29.004947212730144,
            5687
           ],
           [
            459,
            8.991686642525629,
            1763,
            29.004947212730144,
            5687
           ],
           [
            122,
            2.233896057530474,
            438,
            29.004947212730144,
            5687
           ],
           [
            1133,
            31.544856428826442,
            6185,
            29.004947212730144,
            5687
           ]
          ]
         ],
         "hoverlabel": {
          "font": {
           "size": 18
          }
         },
         "hovertemplate": "* → %{x}: %{customdata[1]:0.3f}%, %{customdata[2]} counts <br>%{y} → *: %{customdata[3]:0.3f}%, %{customdata[4]} counts <br>%{y} → %{x}: %{z:0.3f}%, %{customdata[0]} counts <extra></extra>",
         "type": "heatmap",
         "x": [
          "Art",
          "Business_Studies",
          "Citizenship",
          "Countries",
          "Design_and_Technology",
          "Everyday_life",
          "Geography",
          "History",
          "IT",
          "Language_and_literature",
          "Mathematics",
          "Music",
          "People",
          "Religion",
          "Science"
         ],
         "y": [
          "Art",
          "Business_Studies",
          "Citizenship",
          "Countries",
          "Design_and_Technology",
          "Everyday_life",
          "Geography",
          "History",
          "IT",
          "Language_and_literature",
          "Mathematics",
          "Music",
          "People",
          "Religion",
          "Science"
         ],
         "z": [
          [
           0.005100219309430306,
           0.010200438618860611,
           0.015300657928290917,
           0.020400877237721222,
           0.04590197378487275,
           0.11730504411689702,
           0.0969041668791758,
           0.010200438618860611,
           0.015300657928290917,
           0.020400877237721222,
           0.005100219309430306,
           0.040801754475442445,
           0.08160350895088489,
           0.020400877237721222,
           0.31621359718467895
          ],
          [
           0.020400877237721222,
           0.020400877237721222,
           0.07140307033202428,
           0.040801754475442445,
           0.1020043861886061,
           0.1734074565206304,
           0.183607895139491,
           0.12240526342632733,
           0.025501096547151526,
           0.04590197378487275,
           0.010200438618860611,
           0.06630285102259396,
           0.15300657928290917,
           0.03570153516601214,
           0.4437190799204366
          ],
          [
           0.025501096547151526,
           0.0918039475697455,
           0.15300657928290917,
           0.0867037282603152,
           0.15810679859233948,
           0.41821798337328503,
           0.4131177640638547,
           0.24481052685265467,
           0.040801754475442445,
           0.12750548273575765,
           0.020400877237721222,
           0.12240526342632733,
           0.3876166675167032,
           0.07650328964145459,
           0.9231396950068853
          ],
          [
           0.03570153516601214,
           0.10710460549803642,
           0.27541184270923647,
           0.11730504411689702,
           0.19890855306778193,
           0.6579282909165094,
           0.734431580557964,
           0.3519151323506911,
           0.11730504411689702,
           0.21930943030550312,
           0.025501096547151526,
           0.15810679859233948,
           0.5814250012750548,
           0.07140307033202428,
           1.514765134900801
          ],
          [
           0.05100219309430305,
           0.1020043861886061,
           0.14280614066404856,
           0.07650328964145459,
           0.13260570204518793,
           0.48962105370530934,
           0.3774162288978426,
           0.3723160095884123,
           0.2703116233998062,
           0.16320701790176978,
           0.05610241240373336,
           0.0867037282603152,
           0.3570153516601214,
           0.08160350895088489,
           5.237925230784924
          ],
          [
           0.08160350895088489,
           0.1734074565206304,
           0.4131177640638547,
           0.16320701790176978,
           0.3570153516601214,
           1.1781506604784007,
           0.9486407915540368,
           0.5763247819656245,
           0.22440964961493343,
           0.39271688682613354,
           0.1020043861886061,
           0.1938083337583516,
           0.7140307033202428,
           0.24991074616208497,
           2.953026980160147
          ],
          [
           0.10710460549803642,
           0.3111133778752486,
           0.6426276329882185,
           0.31621359718467895,
           0.6885296067730913,
           1.7085734686591525,
           1.7391747845157342,
           1.1322486866935277,
           0.27541184270923647,
           0.5559239047279033,
           0.1734074565206304,
           0.42331820268271536,
           1.4892640383536493,
           0.40291732544499415,
           3.3049421125108376
          ],
          [
           0.05610241240373336,
           0.13260570204518793,
           0.32131381649410923,
           0.16830723721120008,
           0.27541184270923647,
           0.8262355281277094,
           0.9639414494823276,
           0.6528280716070791,
           0.2550109654715153,
           0.2907125006375274,
           0.05100219309430305,
           0.21420921099607285,
           0.7701331157239761,
           0.21930943030550312,
           2.0094864079155403
          ],
          [
           0.005100219309430306,
           0.030601315856581834,
           0.08160350895088489,
           0.07650328964145459,
           0.06630285102259396,
           0.4947212730147396,
           0.22950986892436376,
           0.14280614066404856,
           0.04590197378487275,
           0.11220482480746671,
           0.020400877237721222,
           0.0867037282603152,
           0.21930943030550312,
           0.03570153516601214,
           0.5253225888713214
          ],
          [
           0.010200438618860611,
           0.06120263171316367,
           0.14280614066404856,
           0.0918039475697455,
           0.1785076758300607,
           0.33151425511296984,
           0.4131177640638547,
           0.2550109654715153,
           0.06630285102259396,
           0.14790635997347887,
           0.015300657928290917,
           0.0918039475697455,
           0.3468149130412608,
           0.07650328964145459,
           4.574896720558984
          ],
          [
           0,
           0.015300657928290917,
           0.06630285102259396,
           0.030601315856581834,
           0.040801754475442445,
           0.183607895139491,
           0.12750548273575765,
           0.0918039475697455,
           0.015300657928290917,
           0.025501096547151526,
           0.005100219309430306,
           0.030601315856581834,
           0.1734074565206304,
           0.04590197378487275,
           0.39271688682613354
          ],
          [
           0.020400877237721222,
           0.040801754475442445,
           0.11220482480746671,
           0.04590197378487275,
           0.08160350895088489,
           0.183607895139491,
           0.1734074565206304,
           0.16320701790176978,
           0.030601315856581834,
           0.11730504411689702,
           0.010200438618860611,
           0.05610241240373336,
           0.14280614066404856,
           0.040801754475442445,
           0.43861886061100624
          ],
          [
           0.07650328964145459,
           0.183607895139491,
           0.3417146937318305,
           0.24991074616208497,
           0.2805120620186668,
           1.0608456163615034,
           1.0965471515275156,
           0.6324271943693579,
           0.22440964961493343,
           0.39781710613556387,
           0.04590197378487275,
           0.23971030754322437,
           0.8721375019125822,
           0.21420921099607285,
           2.4073035140511045
          ],
          [
           0.025501096547151526,
           0.05100219309430305,
           0.14790635997347887,
           0.06120263171316367,
           0.1020043861886061,
           0.44881929922986685,
           0.2907125006375274,
           0.2601111847809456,
           0.0969041668791758,
           0.13260570204518793,
           0.005100219309430306,
           0.05610241240373336,
           0.36211557096955166,
           0.040801754475442445,
           0.7242311419391033
          ],
          [
           0.14790635997347887,
           0.48962105370530934,
           1.1424491253123885,
           0.5202223695618912,
           5.375631152139542,
           2.4940072423114192,
           2.7796195236395165,
           4.595297597796706,
           0.8568368439842914,
           1.0506451777426429,
           0.23461008823379403,
           0.5763247819656245,
           2.34100066302851,
           0.6222267557504972,
           5.778548477584536
          ]
         ],
         "zmax": 11.624841487018621,
         "zmin": 0
        }
       ],
       "layout": {
        "font": {
         "size": 18
        },
        "height": 800,
        "template": {
         "data": {
          "bar": [
           {
            "error_x": {
             "color": "#2a3f5f"
            },
            "error_y": {
             "color": "#2a3f5f"
            },
            "marker": {
             "line": {
              "color": "#E5ECF6",
              "width": 0.5
             },
             "pattern": {
              "fillmode": "overlay",
              "size": 10,
              "solidity": 0.2
             }
            },
            "type": "bar"
           }
          ],
          "barpolar": [
           {
            "marker": {
             "line": {
              "color": "#E5ECF6",
              "width": 0.5
             },
             "pattern": {
              "fillmode": "overlay",
              "size": 10,
              "solidity": 0.2
             }
            },
            "type": "barpolar"
           }
          ],
          "carpet": [
           {
            "aaxis": {
             "endlinecolor": "#2a3f5f",
             "gridcolor": "white",
             "linecolor": "white",
             "minorgridcolor": "white",
             "startlinecolor": "#2a3f5f"
            },
            "baxis": {
             "endlinecolor": "#2a3f5f",
             "gridcolor": "white",
             "linecolor": "white",
             "minorgridcolor": "white",
             "startlinecolor": "#2a3f5f"
            },
            "type": "carpet"
           }
          ],
          "choropleth": [
           {
            "colorbar": {
             "outlinewidth": 0,
             "ticks": ""
            },
            "type": "choropleth"
           }
          ],
          "contour": [
           {
            "colorbar": {
             "outlinewidth": 0,
             "ticks": ""
            },
            "colorscale": [
             [
              0,
              "#0d0887"
             ],
             [
              0.1111111111111111,
              "#46039f"
             ],
             [
              0.2222222222222222,
              "#7201a8"
             ],
             [
              0.3333333333333333,
              "#9c179e"
             ],
             [
              0.4444444444444444,
              "#bd3786"
             ],
             [
              0.5555555555555556,
              "#d8576b"
             ],
             [
              0.6666666666666666,
              "#ed7953"
             ],
             [
              0.7777777777777778,
              "#fb9f3a"
             ],
             [
              0.8888888888888888,
              "#fdca26"
             ],
             [
              1,
              "#f0f921"
             ]
            ],
            "type": "contour"
           }
          ],
          "contourcarpet": [
           {
            "colorbar": {
             "outlinewidth": 0,
             "ticks": ""
            },
            "type": "contourcarpet"
           }
          ],
          "heatmap": [
           {
            "colorbar": {
             "outlinewidth": 0,
             "ticks": ""
            },
            "colorscale": [
             [
              0,
              "#0d0887"
             ],
             [
              0.1111111111111111,
              "#46039f"
             ],
             [
              0.2222222222222222,
              "#7201a8"
             ],
             [
              0.3333333333333333,
              "#9c179e"
             ],
             [
              0.4444444444444444,
              "#bd3786"
             ],
             [
              0.5555555555555556,
              "#d8576b"
             ],
             [
              0.6666666666666666,
              "#ed7953"
             ],
             [
              0.7777777777777778,
              "#fb9f3a"
             ],
             [
              0.8888888888888888,
              "#fdca26"
             ],
             [
              1,
              "#f0f921"
             ]
            ],
            "type": "heatmap"
           }
          ],
          "heatmapgl": [
           {
            "colorbar": {
             "outlinewidth": 0,
             "ticks": ""
            },
            "colorscale": [
             [
              0,
              "#0d0887"
             ],
             [
              0.1111111111111111,
              "#46039f"
             ],
             [
              0.2222222222222222,
              "#7201a8"
             ],
             [
              0.3333333333333333,
              "#9c179e"
             ],
             [
              0.4444444444444444,
              "#bd3786"
             ],
             [
              0.5555555555555556,
              "#d8576b"
             ],
             [
              0.6666666666666666,
              "#ed7953"
             ],
             [
              0.7777777777777778,
              "#fb9f3a"
             ],
             [
              0.8888888888888888,
              "#fdca26"
             ],
             [
              1,
              "#f0f921"
             ]
            ],
            "type": "heatmapgl"
           }
          ],
          "histogram": [
           {
            "marker": {
             "pattern": {
              "fillmode": "overlay",
              "size": 10,
              "solidity": 0.2
             }
            },
            "type": "histogram"
           }
          ],
          "histogram2d": [
           {
            "colorbar": {
             "outlinewidth": 0,
             "ticks": ""
            },
            "colorscale": [
             [
              0,
              "#0d0887"
             ],
             [
              0.1111111111111111,
              "#46039f"
             ],
             [
              0.2222222222222222,
              "#7201a8"
             ],
             [
              0.3333333333333333,
              "#9c179e"
             ],
             [
              0.4444444444444444,
              "#bd3786"
             ],
             [
              0.5555555555555556,
              "#d8576b"
             ],
             [
              0.6666666666666666,
              "#ed7953"
             ],
             [
              0.7777777777777778,
              "#fb9f3a"
             ],
             [
              0.8888888888888888,
              "#fdca26"
             ],
             [
              1,
              "#f0f921"
             ]
            ],
            "type": "histogram2d"
           }
          ],
          "histogram2dcontour": [
           {
            "colorbar": {
             "outlinewidth": 0,
             "ticks": ""
            },
            "colorscale": [
             [
              0,
              "#0d0887"
             ],
             [
              0.1111111111111111,
              "#46039f"
             ],
             [
              0.2222222222222222,
              "#7201a8"
             ],
             [
              0.3333333333333333,
              "#9c179e"
             ],
             [
              0.4444444444444444,
              "#bd3786"
             ],
             [
              0.5555555555555556,
              "#d8576b"
             ],
             [
              0.6666666666666666,
              "#ed7953"
             ],
             [
              0.7777777777777778,
              "#fb9f3a"
             ],
             [
              0.8888888888888888,
              "#fdca26"
             ],
             [
              1,
              "#f0f921"
             ]
            ],
            "type": "histogram2dcontour"
           }
          ],
          "mesh3d": [
           {
            "colorbar": {
             "outlinewidth": 0,
             "ticks": ""
            },
            "type": "mesh3d"
           }
          ],
          "parcoords": [
           {
            "line": {
             "colorbar": {
              "outlinewidth": 0,
              "ticks": ""
             }
            },
            "type": "parcoords"
           }
          ],
          "pie": [
           {
            "automargin": true,
            "type": "pie"
           }
          ],
          "scatter": [
           {
            "fillpattern": {
             "fillmode": "overlay",
             "size": 10,
             "solidity": 0.2
            },
            "type": "scatter"
           }
          ],
          "scatter3d": [
           {
            "line": {
             "colorbar": {
              "outlinewidth": 0,
              "ticks": ""
             }
            },
            "marker": {
             "colorbar": {
              "outlinewidth": 0,
              "ticks": ""
             }
            },
            "type": "scatter3d"
           }
          ],
          "scattercarpet": [
           {
            "marker": {
             "colorbar": {
              "outlinewidth": 0,
              "ticks": ""
             }
            },
            "type": "scattercarpet"
           }
          ],
          "scattergeo": [
           {
            "marker": {
             "colorbar": {
              "outlinewidth": 0,
              "ticks": ""
             }
            },
            "type": "scattergeo"
           }
          ],
          "scattergl": [
           {
            "marker": {
             "colorbar": {
              "outlinewidth": 0,
              "ticks": ""
             }
            },
            "type": "scattergl"
           }
          ],
          "scattermapbox": [
           {
            "marker": {
             "colorbar": {
              "outlinewidth": 0,
              "ticks": ""
             }
            },
            "type": "scattermapbox"
           }
          ],
          "scatterpolar": [
           {
            "marker": {
             "colorbar": {
              "outlinewidth": 0,
              "ticks": ""
             }
            },
            "type": "scatterpolar"
           }
          ],
          "scatterpolargl": [
           {
            "marker": {
             "colorbar": {
              "outlinewidth": 0,
              "ticks": ""
             }
            },
            "type": "scatterpolargl"
           }
          ],
          "scatterternary": [
           {
            "marker": {
             "colorbar": {
              "outlinewidth": 0,
              "ticks": ""
             }
            },
            "type": "scatterternary"
           }
          ],
          "surface": [
           {
            "colorbar": {
             "outlinewidth": 0,
             "ticks": ""
            },
            "colorscale": [
             [
              0,
              "#0d0887"
             ],
             [
              0.1111111111111111,
              "#46039f"
             ],
             [
              0.2222222222222222,
              "#7201a8"
             ],
             [
              0.3333333333333333,
              "#9c179e"
             ],
             [
              0.4444444444444444,
              "#bd3786"
             ],
             [
              0.5555555555555556,
              "#d8576b"
             ],
             [
              0.6666666666666666,
              "#ed7953"
             ],
             [
              0.7777777777777778,
              "#fb9f3a"
             ],
             [
              0.8888888888888888,
              "#fdca26"
             ],
             [
              1,
              "#f0f921"
             ]
            ],
            "type": "surface"
           }
          ],
          "table": [
           {
            "cells": {
             "fill": {
              "color": "#EBF0F8"
             },
             "line": {
              "color": "white"
             }
            },
            "header": {
             "fill": {
              "color": "#C8D4E3"
             },
             "line": {
              "color": "white"
             }
            },
            "type": "table"
           }
          ]
         },
         "layout": {
          "annotationdefaults": {
           "arrowcolor": "#2a3f5f",
           "arrowhead": 0,
           "arrowwidth": 1
          },
          "autotypenumbers": "strict",
          "coloraxis": {
           "colorbar": {
            "outlinewidth": 0,
            "ticks": ""
           }
          },
          "colorscale": {
           "diverging": [
            [
             0,
             "#8e0152"
            ],
            [
             0.1,
             "#c51b7d"
            ],
            [
             0.2,
             "#de77ae"
            ],
            [
             0.3,
             "#f1b6da"
            ],
            [
             0.4,
             "#fde0ef"
            ],
            [
             0.5,
             "#f7f7f7"
            ],
            [
             0.6,
             "#e6f5d0"
            ],
            [
             0.7,
             "#b8e186"
            ],
            [
             0.8,
             "#7fbc41"
            ],
            [
             0.9,
             "#4d9221"
            ],
            [
             1,
             "#276419"
            ]
           ],
           "sequential": [
            [
             0,
             "#0d0887"
            ],
            [
             0.1111111111111111,
             "#46039f"
            ],
            [
             0.2222222222222222,
             "#7201a8"
            ],
            [
             0.3333333333333333,
             "#9c179e"
            ],
            [
             0.4444444444444444,
             "#bd3786"
            ],
            [
             0.5555555555555556,
             "#d8576b"
            ],
            [
             0.6666666666666666,
             "#ed7953"
            ],
            [
             0.7777777777777778,
             "#fb9f3a"
            ],
            [
             0.8888888888888888,
             "#fdca26"
            ],
            [
             1,
             "#f0f921"
            ]
           ],
           "sequentialminus": [
            [
             0,
             "#0d0887"
            ],
            [
             0.1111111111111111,
             "#46039f"
            ],
            [
             0.2222222222222222,
             "#7201a8"
            ],
            [
             0.3333333333333333,
             "#9c179e"
            ],
            [
             0.4444444444444444,
             "#bd3786"
            ],
            [
             0.5555555555555556,
             "#d8576b"
            ],
            [
             0.6666666666666666,
             "#ed7953"
            ],
            [
             0.7777777777777778,
             "#fb9f3a"
            ],
            [
             0.8888888888888888,
             "#fdca26"
            ],
            [
             1,
             "#f0f921"
            ]
           ]
          },
          "colorway": [
           "#636efa",
           "#EF553B",
           "#00cc96",
           "#ab63fa",
           "#FFA15A",
           "#19d3f3",
           "#FF6692",
           "#B6E880",
           "#FF97FF",
           "#FECB52"
          ],
          "font": {
           "color": "#2a3f5f"
          },
          "geo": {
           "bgcolor": "white",
           "lakecolor": "white",
           "landcolor": "#E5ECF6",
           "showlakes": true,
           "showland": true,
           "subunitcolor": "white"
          },
          "hoverlabel": {
           "align": "left"
          },
          "hovermode": "closest",
          "mapbox": {
           "style": "light"
          },
          "paper_bgcolor": "white",
          "plot_bgcolor": "#E5ECF6",
          "polar": {
           "angularaxis": {
            "gridcolor": "white",
            "linecolor": "white",
            "ticks": ""
           },
           "bgcolor": "#E5ECF6",
           "radialaxis": {
            "gridcolor": "white",
            "linecolor": "white",
            "ticks": ""
           }
          },
          "scene": {
           "xaxis": {
            "backgroundcolor": "#E5ECF6",
            "gridcolor": "white",
            "gridwidth": 2,
            "linecolor": "white",
            "showbackground": true,
            "ticks": "",
            "zerolinecolor": "white"
           },
           "yaxis": {
            "backgroundcolor": "#E5ECF6",
            "gridcolor": "white",
            "gridwidth": 2,
            "linecolor": "white",
            "showbackground": true,
            "ticks": "",
            "zerolinecolor": "white"
           },
           "zaxis": {
            "backgroundcolor": "#E5ECF6",
            "gridcolor": "white",
            "gridwidth": 2,
            "linecolor": "white",
            "showbackground": true,
            "ticks": "",
            "zerolinecolor": "white"
           }
          },
          "shapedefaults": {
           "line": {
            "color": "#2a3f5f"
           }
          },
          "ternary": {
           "aaxis": {
            "gridcolor": "white",
            "linecolor": "white",
            "ticks": ""
           },
           "baxis": {
            "gridcolor": "white",
            "linecolor": "white",
            "ticks": ""
           },
           "bgcolor": "#E5ECF6",
           "caxis": {
            "gridcolor": "white",
            "linecolor": "white",
            "ticks": ""
           }
          },
          "title": {
           "x": 0.05
          },
          "xaxis": {
           "automargin": true,
           "gridcolor": "white",
           "linecolor": "white",
           "ticks": "",
           "title": {
            "standoff": 15
           },
           "zerolinecolor": "white",
           "zerolinewidth": 2
          },
          "yaxis": {
           "automargin": true,
           "gridcolor": "white",
           "linecolor": "white",
           "ticks": "",
           "title": {
            "standoff": 15
           },
           "zerolinecolor": "white",
           "zerolinewidth": 2
          }
         }
        },
        "title": {
         "text": "Categories of start and target articles for unfinished paths",
         "x": 0.5,
         "xanchor": "center"
        },
        "width": 800,
        "xaxis": {
         "title": {
          "text": "Target article category"
         }
        },
        "yaxis": {
         "scaleanchor": "x",
         "title": {
          "text": "Source article category"
         }
        }
       }
      }
     },
     "metadata": {},
     "output_type": "display_data"
    },
    {
     "data": {
      "application/vnd.plotly.v1+json": {
       "config": {
        "plotlyServerURL": "https://plot.ly"
       },
       "data": [
        {
         "colorscale": [
          [
           0,
           "rgb(12, 7, 134)"
          ],
          [
           0.010101010101010102,
           "rgb(76, 2, 161)"
          ],
          [
           0.020202020202020204,
           "rgb(95, 0, 166)"
          ],
          [
           0.030303030303030304,
           "rgb(109, 0, 168)"
          ],
          [
           0.04040404040404041,
           "rgb(120, 1, 168)"
          ],
          [
           0.050505050505050504,
           "rgb(129, 4, 167)"
          ],
          [
           0.06060606060606061,
           "rgb(137, 8, 165)"
          ],
          [
           0.0707070707070707,
           "rgb(144, 14, 163)"
          ],
          [
           0.08080808080808081,
           "rgb(151, 19, 160)"
          ],
          [
           0.09090909090909091,
           "rgb(158, 25, 156)"
          ],
          [
           0.10101010101010101,
           "rgb(163, 29, 153)"
          ],
          [
           0.1111111111111111,
           "rgb(168, 34, 150)"
          ],
          [
           0.12121212121212122,
           "rgb(173, 38, 146)"
          ],
          [
           0.13131313131313133,
           "rgb(176, 42, 143)"
          ],
          [
           0.1414141414141414,
           "rgb(181, 46, 140)"
          ],
          [
           0.15151515151515152,
           "rgb(184, 50, 137)"
          ],
          [
           0.16161616161616163,
           "rgb(187, 53, 134)"
          ],
          [
           0.1717171717171717,
           "rgb(190, 56, 131)"
          ],
          [
           0.18181818181818182,
           "rgb(193, 60, 128)"
          ],
          [
           0.1919191919191919,
           "rgb(196, 63, 126)"
          ],
          [
           0.20202020202020202,
           "rgb(199, 66, 123)"
          ],
          [
           0.21212121212121213,
           "rgb(202, 70, 120)"
          ],
          [
           0.2222222222222222,
           "rgb(205, 73, 117)"
          ],
          [
           0.23232323232323232,
           "rgb(207, 75, 116)"
          ],
          [
           0.24242424242424243,
           "rgb(209, 79, 113)"
          ],
          [
           0.25252525252525254,
           "rgb(211, 81, 111)"
          ],
          [
           0.26262626262626265,
           "rgb(214, 85, 109)"
          ],
          [
           0.2727272727272727,
           "rgb(215, 87, 107)"
          ],
          [
           0.2828282828282828,
           "rgb(218, 90, 104)"
          ],
          [
           0.29292929292929293,
           "rgb(220, 93, 102)"
          ],
          [
           0.30303030303030304,
           "rgb(221, 95, 101)"
          ],
          [
           0.31313131313131315,
           "rgb(223, 97, 99)"
          ],
          [
           0.32323232323232326,
           "rgb(225, 101, 96)"
          ],
          [
           0.3333333333333333,
           "rgb(227, 103, 95)"
          ],
          [
           0.3434343434343434,
           "rgb(228, 106, 93)"
          ],
          [
           0.35353535353535354,
           "rgb(229, 108, 91)"
          ],
          [
           0.36363636363636365,
           "rgb(231, 110, 90)"
          ],
          [
           0.37373737373737376,
           "rgb(232, 113, 88)"
          ],
          [
           0.3838383838383838,
           "rgb(234, 115, 86)"
          ],
          [
           0.3939393939393939,
           "rgb(235, 118, 84)"
          ],
          [
           0.40404040404040403,
           "rgb(236, 120, 83)"
          ],
          [
           0.41414141414141414,
           "rgb(237, 123, 81)"
          ],
          [
           0.42424242424242425,
           "rgb(239, 125, 79)"
          ],
          [
           0.43434343434343436,
           "rgb(239, 126, 78)"
          ],
          [
           0.4444444444444444,
           "rgb(240, 129, 77)"
          ],
          [
           0.45454545454545453,
           "rgb(242, 132, 75)"
          ],
          [
           0.46464646464646464,
           "rgb(243, 134, 73)"
          ],
          [
           0.47474747474747475,
           "rgb(244, 137, 71)"
          ],
          [
           0.48484848484848486,
           "rgb(244, 138, 71)"
          ],
          [
           0.494949494949495,
           "rgb(245, 141, 69)"
          ],
          [
           0.5050505050505051,
           "rgb(246, 143, 67)"
          ],
          [
           0.5151515151515151,
           "rgb(246, 145, 66)"
          ],
          [
           0.5252525252525253,
           "rgb(247, 147, 65)"
          ],
          [
           0.5353535353535354,
           "rgb(248, 150, 63)"
          ],
          [
           0.5454545454545454,
           "rgb(248, 152, 62)"
          ],
          [
           0.5555555555555556,
           "rgb(249, 154, 60)"
          ],
          [
           0.5656565656565656,
           "rgb(250, 157, 58)"
          ],
          [
           0.5757575757575758,
           "rgb(250, 159, 58)"
          ],
          [
           0.5858585858585859,
           "rgb(251, 162, 56)"
          ],
          [
           0.5959595959595959,
           "rgb(251, 163, 55)"
          ],
          [
           0.6060606060606061,
           "rgb(252, 166, 53)"
          ],
          [
           0.6161616161616161,
           "rgb(252, 167, 53)"
          ],
          [
           0.6262626262626263,
           "rgb(252, 170, 51)"
          ],
          [
           0.6363636363636364,
           "rgb(252, 172, 50)"
          ],
          [
           0.6464646464646465,
           "rgb(253, 175, 49)"
          ],
          [
           0.6565656565656566,
           "rgb(253, 176, 48)"
          ],
          [
           0.6666666666666666,
           "rgb(253, 179, 46)"
          ],
          [
           0.6767676767676768,
           "rgb(253, 181, 45)"
          ],
          [
           0.6868686868686869,
           "rgb(253, 184, 44)"
          ],
          [
           0.696969696969697,
           "rgb(253, 185, 43)"
          ],
          [
           0.7070707070707071,
           "rgb(253, 188, 42)"
          ],
          [
           0.7171717171717171,
           "rgb(253, 190, 41)"
          ],
          [
           0.7272727272727273,
           "rgb(253, 192, 41)"
          ],
          [
           0.7373737373737373,
           "rgb(253, 195, 40)"
          ],
          [
           0.7474747474747475,
           "rgb(253, 196, 39)"
          ],
          [
           0.7575757575757576,
           "rgb(253, 198, 38)"
          ],
          [
           0.7676767676767676,
           "rgb(252, 201, 38)"
          ],
          [
           0.7777777777777778,
           "rgb(252, 203, 37)"
          ],
          [
           0.7878787878787878,
           "rgb(252, 204, 37)"
          ],
          [
           0.797979797979798,
           "rgb(251, 208, 36)"
          ],
          [
           0.8080808080808081,
           "rgb(251, 209, 36)"
          ],
          [
           0.8181818181818182,
           "rgb(251, 211, 36)"
          ],
          [
           0.8282828282828283,
           "rgb(250, 214, 36)"
          ],
          [
           0.8383838383838383,
           "rgb(250, 216, 36)"
          ],
          [
           0.8484848484848485,
           "rgb(249, 217, 36)"
          ],
          [
           0.8585858585858586,
           "rgb(248, 221, 36)"
          ],
          [
           0.8686868686868687,
           "rgb(248, 223, 36)"
          ],
          [
           0.8787878787878788,
           "rgb(247, 224, 36)"
          ],
          [
           0.8888888888888888,
           "rgb(247, 226, 37)"
          ],
          [
           0.898989898989899,
           "rgb(246, 229, 37)"
          ],
          [
           0.9090909090909091,
           "rgb(245, 231, 38)"
          ],
          [
           0.9191919191919192,
           "rgb(245, 233, 38)"
          ],
          [
           0.9292929292929293,
           "rgb(244, 234, 38)"
          ],
          [
           0.9393939393939394,
           "rgb(243, 236, 38)"
          ],
          [
           0.9494949494949495,
           "rgb(242, 240, 38)"
          ],
          [
           0.9595959595959596,
           "rgb(242, 241, 38)"
          ],
          [
           0.9696969696969697,
           "rgb(241, 243, 38)"
          ],
          [
           0.9797979797979798,
           "rgb(240, 245, 37)"
          ],
          [
           0.98989898989899,
           "rgb(240, 246, 35)"
          ],
          [
           1,
           "rgb(239, 248, 33)"
          ]
         ],
         "customdata": [
          [
           [
            13,
            0.7242311419391034,
            142,
            0.8211353088182791,
            161
           ],
           [
            2,
            1.8462793900137706,
            362,
            0.8211353088182791,
            161
           ],
           [
            7,
            5.385831590758402,
            1056,
            0.8211353088182791,
            161
           ],
           [
            24,
            15.810679859233947,
            3100,
            0.8211353088182791,
            161
           ],
           [
            6,
            2.5501096547151523,
            500,
            0.8211353088182791,
            161
           ],
           [
            12,
            7.303514051104199,
            1432,
            0.8211353088182791,
            161
           ],
           [
            18,
            18.58519916356403,
            3644,
            0.8211353088182791,
            161
           ],
           [
            14,
            9.098791248023666,
            1784,
            0.8211353088182791,
            161
           ],
           [
            3,
            2.7898199622583775,
            547,
            0.8211353088182791,
            161
           ],
           [
            7,
            4.080175447544244,
            800,
            0.8211353088182791,
            161
           ],
           [
            1,
            0.7752333350334066,
            152,
            0.8211353088182791,
            161
           ],
           [
            5,
            1.4688631611159282,
            288,
            0.8211353088182791,
            161
           ],
           [
            9,
            4.880909879124802,
            957,
            0.8211353088182791,
            161
           ],
           [
            11,
            3.6823583414086807,
            722,
            0.8211353088182791,
            161
           ],
           [
            29,
            21.01800377416229,
            4121,
            0.8211353088182791,
            161
           ]
          ],
          [
           [
            0,
            0.7242311419391034,
            142,
            1.5147651349008011,
            297
           ],
           [
            18,
            1.8462793900137706,
            362,
            1.5147651349008011,
            297
           ],
           [
            25,
            5.385831590758402,
            1056,
            1.5147651349008011,
            297
           ],
           [
            45,
            15.810679859233947,
            3100,
            1.5147651349008011,
            297
           ],
           [
            14,
            2.5501096547151523,
            500,
            1.5147651349008011,
            297
           ],
           [
            15,
            7.303514051104199,
            1432,
            1.5147651349008011,
            297
           ],
           [
            55,
            18.58519916356403,
            3644,
            1.5147651349008011,
            297
           ],
           [
            32,
            9.098791248023666,
            1784,
            1.5147651349008011,
            297
           ],
           [
            4,
            2.7898199622583775,
            547,
            1.5147651349008011,
            297
           ],
           [
            10,
            4.080175447544244,
            800,
            1.5147651349008011,
            297
           ],
           [
            5,
            0.7752333350334066,
            152,
            1.5147651349008011,
            297
           ],
           [
            6,
            1.4688631611159282,
            288,
            1.5147651349008011,
            297
           ],
           [
            12,
            4.880909879124802,
            957,
            1.5147651349008011,
            297
           ],
           [
            9,
            3.6823583414086807,
            722,
            1.5147651349008011,
            297
           ],
           [
            47,
            21.01800377416229,
            4121,
            1.5147651349008011,
            297
           ]
          ],
          [
           [
            3,
            0.7242311419391034,
            142,
            3.2896414545825468,
            645
           ],
           [
            18,
            1.8462793900137706,
            362,
            3.2896414545825468,
            645
           ],
           [
            72,
            5.385831590758402,
            1056,
            3.2896414545825468,
            645
           ],
           [
            103,
            15.810679859233947,
            3100,
            3.2896414545825468,
            645
           ],
           [
            20,
            2.5501096547151523,
            500,
            3.2896414545825468,
            645
           ],
           [
            46,
            7.303514051104199,
            1432,
            3.2896414545825468,
            645
           ],
           [
            112,
            18.58519916356403,
            3644,
            3.2896414545825468,
            645
           ],
           [
            60,
            9.098791248023666,
            1784,
            3.2896414545825468,
            645
           ],
           [
            7,
            2.7898199622583775,
            547,
            3.2896414545825468,
            645
           ],
           [
            25,
            4.080175447544244,
            800,
            3.2896414545825468,
            645
           ],
           [
            7,
            0.7752333350334066,
            152,
            3.2896414545825468,
            645
           ],
           [
            7,
            1.4688631611159282,
            288,
            3.2896414545825468,
            645
           ],
           [
            35,
            4.880909879124802,
            957,
            3.2896414545825468,
            645
           ],
           [
            26,
            3.6823583414086807,
            722,
            3.2896414545825468,
            645
           ],
           [
            104,
            21.01800377416229,
            4121,
            3.2896414545825468,
            645
           ]
          ],
          [
           [
            4,
            0.7242311419391034,
            142,
            5.166522160452899,
            1013
           ],
           [
            39,
            1.8462793900137706,
            362,
            5.166522160452899,
            1013
           ],
           [
            92,
            5.385831590758402,
            1056,
            5.166522160452899,
            1013
           ],
           [
            186,
            15.810679859233947,
            3100,
            5.166522160452899,
            1013
           ],
           [
            23,
            2.5501096547151523,
            500,
            5.166522160452899,
            1013
           ],
           [
            72,
            7.303514051104199,
            1432,
            5.166522160452899,
            1013
           ],
           [
            198,
            18.58519916356403,
            3644,
            5.166522160452899,
            1013
           ],
           [
            103,
            9.098791248023666,
            1784,
            5.166522160452899,
            1013
           ],
           [
            15,
            2.7898199622583775,
            547,
            5.166522160452899,
            1013
           ],
           [
            37,
            4.080175447544244,
            800,
            5.166522160452899,
            1013
           ],
           [
            6,
            0.7752333350334066,
            152,
            5.166522160452899,
            1013
           ],
           [
            15,
            1.4688631611159282,
            288,
            5.166522160452899,
            1013
           ],
           [
            48,
            4.880909879124802,
            957,
            5.166522160452899,
            1013
           ],
           [
            30,
            3.6823583414086807,
            722,
            5.166522160452899,
            1013
           ],
           [
            145,
            21.01800377416229,
            4121,
            5.166522160452899,
            1013
           ]
          ],
          [
           [
            6,
            0.7242311419391034,
            142,
            7.997143877186718,
            1568
           ],
           [
            18,
            1.8462793900137706,
            362,
            7.997143877186718,
            1568
           ],
           [
            49,
            5.385831590758402,
            1056,
            7.997143877186718,
            1568
           ],
           [
            282,
            15.810679859233947,
            3100,
            7.997143877186718,
            1568
           ],
           [
            52,
            2.5501096547151523,
            500,
            7.997143877186718,
            1568
           ],
           [
            244,
            7.303514051104199,
            1432,
            7.997143877186718,
            1568
           ],
           [
            271,
            18.58519916356403,
            3644,
            7.997143877186718,
            1568
           ],
           [
            116,
            9.098791248023666,
            1784,
            7.997143877186718,
            1568
           ],
           [
            25,
            2.7898199622583775,
            547,
            7.997143877186718,
            1568
           ],
           [
            36,
            4.080175447544244,
            800,
            7.997143877186718,
            1568
           ],
           [
            6,
            0.7752333350334066,
            152,
            7.997143877186718,
            1568
           ],
           [
            48,
            1.4688631611159282,
            288,
            7.997143877186718,
            1568
           ],
           [
            42,
            4.880909879124802,
            957,
            7.997143877186718,
            1568
           ],
           [
            28,
            3.6823583414086807,
            722,
            7.997143877186718,
            1568
           ],
           [
            345,
            21.01800377416229,
            4121,
            7.997143877186718,
            1568
           ]
          ],
          [
           [
            13,
            0.7242311419391034,
            142,
            8.721375019125823,
            1710
           ],
           [
            33,
            1.8462793900137706,
            362,
            8.721375019125823,
            1710
           ],
           [
            99,
            5.385831590758402,
            1056,
            8.721375019125823,
            1710
           ],
           [
            260,
            15.810679859233947,
            3100,
            8.721375019125823,
            1710
           ],
           [
            40,
            2.5501096547151523,
            500,
            8.721375019125823,
            1710
           ],
           [
            194,
            7.303514051104199,
            1432,
            8.721375019125823,
            1710
           ],
           [
            328,
            18.58519916356403,
            3644,
            8.721375019125823,
            1710
           ],
           [
            146,
            9.098791248023666,
            1784,
            8.721375019125823,
            1710
           ],
           [
            45,
            2.7898199622583775,
            547,
            8.721375019125823,
            1710
           ],
           [
            85,
            4.080175447544244,
            800,
            8.721375019125823,
            1710
           ],
           [
            16,
            0.7752333350334066,
            152,
            8.721375019125823,
            1710
           ],
           [
            22,
            1.4688631611159282,
            288,
            8.721375019125823,
            1710
           ],
           [
            52,
            4.880909879124802,
            957,
            8.721375019125823,
            1710
           ],
           [
            49,
            3.6823583414086807,
            722,
            8.721375019125823,
            1710
           ],
           [
            328,
            21.01800377416229,
            4121,
            8.721375019125823,
            1710
           ]
          ],
          [
           [
            14,
            0.7242311419391034,
            142,
            13.270770643137656,
            2602
           ],
           [
            54,
            1.8462793900137706,
            362,
            13.270770643137656,
            2602
           ],
           [
            165,
            5.385831590758402,
            1056,
            13.270770643137656,
            2602
           ],
           [
            435,
            15.810679859233947,
            3100,
            13.270770643137656,
            2602
           ],
           [
            77,
            2.5501096547151523,
            500,
            13.270770643137656,
            2602
           ],
           [
            166,
            7.303514051104199,
            1432,
            13.270770643137656,
            2602
           ],
           [
            661,
            18.58519916356403,
            3644,
            13.270770643137656,
            2602
           ],
           [
            236,
            9.098791248023666,
            1784,
            13.270770643137656,
            2602
           ],
           [
            40,
            2.7898199622583775,
            547,
            13.270770643137656,
            2602
           ],
           [
            92,
            4.080175447544244,
            800,
            13.270770643137656,
            2602
           ],
           [
            16,
            0.7752333350334066,
            152,
            13.270770643137656,
            2602
           ],
           [
            29,
            1.4688631611159282,
            288,
            13.270770643137656,
            2602
           ],
           [
            122,
            4.880909879124802,
            957,
            13.270770643137656,
            2602
           ],
           [
            86,
            3.6823583414086807,
            722,
            13.270770643137656,
            2602
           ],
           [
            409,
            21.01800377416229,
            4121,
            13.270770643137656,
            2602
           ]
          ],
          [
           [
            9,
            0.7242311419391034,
            142,
            7.2066098842250215,
            1413
           ],
           [
            20,
            1.8462793900137706,
            362,
            7.2066098842250215,
            1413
           ],
           [
            66,
            5.385831590758402,
            1056,
            7.2066098842250215,
            1413
           ],
           [
            230,
            15.810679859233947,
            3100,
            7.2066098842250215,
            1413
           ],
           [
            33,
            2.5501096547151523,
            500,
            7.2066098842250215,
            1413
           ],
           [
            88,
            7.303514051104199,
            1432,
            7.2066098842250215,
            1413
           ],
           [
            302,
            18.58519916356403,
            3644,
            7.2066098842250215,
            1413
           ],
           [
            222,
            9.098791248023666,
            1784,
            7.2066098842250215,
            1413
           ],
           [
            23,
            2.7898199622583775,
            547,
            7.2066098842250215,
            1413
           ],
           [
            51,
            4.080175447544244,
            800,
            7.2066098842250215,
            1413
           ],
           [
            8,
            0.7752333350334066,
            152,
            7.2066098842250215,
            1413
           ],
           [
            5,
            1.4688631611159282,
            288,
            7.2066098842250215,
            1413
           ],
           [
            88,
            4.880909879124802,
            957,
            7.2066098842250215,
            1413
           ],
           [
            68,
            3.6823583414086807,
            722,
            7.2066098842250215,
            1413
           ],
           [
            200,
            21.01800377416229,
            4121,
            7.2066098842250215,
            1413
           ]
          ],
          [
           [
            3,
            0.7242311419391034,
            142,
            2.17269342581731,
            426
           ],
           [
            14,
            1.8462793900137706,
            362,
            2.17269342581731,
            426
           ],
           [
            18,
            5.385831590758402,
            1056,
            2.17269342581731,
            426
           ],
           [
            50,
            15.810679859233947,
            3100,
            2.17269342581731,
            426
           ],
           [
            10,
            2.5501096547151523,
            500,
            2.17269342581731,
            426
           ],
           [
            33,
            7.303514051104199,
            1432,
            2.17269342581731,
            426
           ],
           [
            55,
            18.58519916356403,
            3644,
            2.17269342581731,
            426
           ],
           [
            33,
            9.098791248023666,
            1784,
            2.17269342581731,
            426
           ],
           [
            89,
            2.7898199622583775,
            547,
            2.17269342581731,
            426
           ],
           [
            18,
            4.080175447544244,
            800,
            2.17269342581731,
            426
           ],
           [
            5,
            0.7752333350334066,
            152,
            2.17269342581731,
            426
           ],
           [
            6,
            1.4688631611159282,
            288,
            2.17269342581731,
            426
           ],
           [
            32,
            4.880909879124802,
            957,
            2.17269342581731,
            426
           ],
           [
            10,
            3.6823583414086807,
            722,
            2.17269342581731,
            426
           ],
           [
            50,
            21.01800377416229,
            4121,
            2.17269342581731,
            426
           ]
          ],
          [
           [
            10,
            0.7242311419391034,
            142,
            6.803692558780028,
            1334
           ],
           [
            10,
            1.8462793900137706,
            362,
            6.803692558780028,
            1334
           ],
           [
            53,
            5.385831590758402,
            1056,
            6.803692558780028,
            1334
           ],
           [
            298,
            15.810679859233947,
            3100,
            6.803692558780028,
            1334
           ],
           [
            14,
            2.5501096547151523,
            500,
            6.803692558780028,
            1334
           ],
           [
            62,
            7.303514051104199,
            1432,
            6.803692558780028,
            1334
           ],
           [
            282,
            18.58519916356403,
            3644,
            6.803692558780028,
            1334
           ],
           [
            82,
            9.098791248023666,
            1784,
            6.803692558780028,
            1334
           ],
           [
            20,
            2.7898199622583775,
            547,
            6.803692558780028,
            1334
           ],
           [
            118,
            4.080175447544244,
            800,
            6.803692558780028,
            1334
           ],
           [
            3,
            0.7752333350334066,
            152,
            6.803692558780028,
            1334
           ],
           [
            23,
            1.4688631611159282,
            288,
            6.803692558780028,
            1334
           ],
           [
            56,
            4.880909879124802,
            957,
            6.803692558780028,
            1334
           ],
           [
            43,
            3.6823583414086807,
            722,
            6.803692558780028,
            1334
           ],
           [
            260,
            21.01800377416229,
            4121,
            6.803692558780028,
            1334
           ]
          ],
          [
           [
            4,
            0.7242311419391034,
            142,
            1.2444535115009945,
            244
           ],
           [
            7,
            1.8462793900137706,
            362,
            1.2444535115009945,
            244
           ],
           [
            14,
            5.385831590758402,
            1056,
            1.2444535115009945,
            244
           ],
           [
            39,
            15.810679859233947,
            3100,
            1.2444535115009945,
            244
           ],
           [
            4,
            2.5501096547151523,
            500,
            1.2444535115009945,
            244
           ],
           [
            18,
            7.303514051104199,
            1432,
            1.2444535115009945,
            244
           ],
           [
            34,
            18.58519916356403,
            3644,
            1.2444535115009945,
            244
           ],
           [
            19,
            9.098791248023666,
            1784,
            1.2444535115009945,
            244
           ],
           [
            12,
            2.7898199622583775,
            547,
            1.2444535115009945,
            244
           ],
           [
            8,
            4.080175447544244,
            800,
            1.2444535115009945,
            244
           ],
           [
            16,
            0.7752333350334066,
            152,
            1.2444535115009945,
            244
           ],
           [
            3,
            1.4688631611159282,
            288,
            1.2444535115009945,
            244
           ],
           [
            14,
            4.880909879124802,
            957,
            1.2444535115009945,
            244
           ],
           [
            6,
            3.6823583414086807,
            722,
            1.2444535115009945,
            244
           ],
           [
            46,
            21.01800377416229,
            4121,
            1.2444535115009945,
            244
           ]
          ],
          [
           [
            7,
            0.7242311419391034,
            142,
            1.6575712755648493,
            325
           ],
           [
            3,
            1.8462793900137706,
            362,
            1.6575712755648493,
            325
           ],
           [
            22,
            5.385831590758402,
            1056,
            1.6575712755648493,
            325
           ],
           [
            51,
            15.810679859233947,
            3100,
            1.6575712755648493,
            325
           ],
           [
            8,
            2.5501096547151523,
            500,
            1.6575712755648493,
            325
           ],
           [
            20,
            7.303514051104199,
            1432,
            1.6575712755648493,
            325
           ],
           [
            54,
            18.58519916356403,
            3644,
            1.6575712755648493,
            325
           ],
           [
            34,
            9.098791248023666,
            1784,
            1.6575712755648493,
            325
           ],
           [
            5,
            2.7898199622583775,
            547,
            1.6575712755648493,
            325
           ],
           [
            20,
            4.080175447544244,
            800,
            1.6575712755648493,
            325
           ],
           [
            1,
            0.7752333350334066,
            152,
            1.6575712755648493,
            325
           ],
           [
            25,
            1.4688631611159282,
            288,
            1.6575712755648493,
            325
           ],
           [
            20,
            4.880909879124802,
            957,
            1.6575712755648493,
            325
           ],
           [
            11,
            3.6823583414086807,
            722,
            1.6575712755648493,
            325
           ],
           [
            44,
            21.01800377416229,
            4121,
            1.6575712755648493,
            325
           ]
          ],
          [
           [
            14,
            0.7242311419391034,
            142,
            8.323557912990259,
            1632
           ],
           [
            34,
            1.8462793900137706,
            362,
            8.323557912990259,
            1632
           ],
           [
            102,
            5.385831590758402,
            1056,
            8.323557912990259,
            1632
           ],
           [
            285,
            15.810679859233947,
            3100,
            8.323557912990259,
            1632
           ],
           [
            38,
            2.5501096547151523,
            500,
            8.323557912990259,
            1632
           ],
           [
            110,
            7.303514051104199,
            1432,
            8.323557912990259,
            1632
           ],
           [
            339,
            18.58519916356403,
            3644,
            8.323557912990259,
            1632
           ],
           [
            181,
            9.098791248023666,
            1784,
            8.323557912990259,
            1632
           ],
           [
            35,
            2.7898199622583775,
            547,
            8.323557912990259,
            1632
           ],
           [
            65,
            4.080175447544244,
            800,
            8.323557912990259,
            1632
           ],
           [
            12,
            0.7752333350334066,
            152,
            8.323557912990259,
            1632
           ],
           [
            22,
            1.4688631611159282,
            288,
            8.323557912990259,
            1632
           ],
           [
            100,
            4.880909879124802,
            957,
            8.323557912990259,
            1632
           ],
           [
            54,
            3.6823583414086807,
            722,
            8.323557912990259,
            1632
           ],
           [
            241,
            21.01800377416229,
            4121,
            8.323557912990259,
            1632
           ]
          ],
          [
           [
            6,
            0.7242311419391034,
            142,
            2.805120620186668,
            550
           ],
           [
            6,
            1.8462793900137706,
            362,
            2.805120620186668,
            550
           ],
           [
            29,
            5.385831590758402,
            1056,
            2.805120620186668,
            550
           ],
           [
            78,
            15.810679859233947,
            3100,
            2.805120620186668,
            550
           ],
           [
            11,
            2.5501096547151523,
            500,
            2.805120620186668,
            550
           ],
           [
            30,
            7.303514051104199,
            1432,
            2.805120620186668,
            550
           ],
           [
            78,
            18.58519916356403,
            3644,
            2.805120620186668,
            550
           ],
           [
            59,
            9.098791248023666,
            1784,
            2.805120620186668,
            550
           ],
           [
            19,
            2.7898199622583775,
            547,
            2.805120620186668,
            550
           ],
           [
            34,
            4.080175447544244,
            800,
            2.805120620186668,
            550
           ],
           [
            2,
            0.7752333350334066,
            152,
            2.805120620186668,
            550
           ],
           [
            5,
            1.4688631611159282,
            288,
            2.805120620186668,
            550
           ],
           [
            50,
            4.880909879124802,
            957,
            2.805120620186668,
            550
           ],
           [
            83,
            3.6823583414086807,
            722,
            2.805120620186668,
            550
           ],
           [
            60,
            21.01800377416229,
            4121,
            2.805120620186668,
            550
           ]
          ],
          [
           [
            36,
            0.7242311419391034,
            142,
            29.004947212730144,
            5687
           ],
           [
            86,
            1.8462793900137706,
            362,
            29.004947212730144,
            5687
           ],
           [
            243,
            5.385831590758402,
            1056,
            29.004947212730144,
            5687
           ],
           [
            734,
            15.810679859233947,
            3100,
            29.004947212730144,
            5687
           ],
           [
            150,
            2.5501096547151523,
            500,
            29.004947212730144,
            5687
           ],
           [
            322,
            7.303514051104199,
            1432,
            29.004947212730144,
            5687
           ],
           [
            857,
            18.58519916356403,
            3644,
            29.004947212730144,
            5687
           ],
           [
            447,
            9.098791248023666,
            1784,
            29.004947212730144,
            5687
           ],
           [
            205,
            2.7898199622583775,
            547,
            29.004947212730144,
            5687
           ],
           [
            194,
            4.080175447544244,
            800,
            29.004947212730144,
            5687
           ],
           [
            48,
            0.7752333350334066,
            152,
            29.004947212730144,
            5687
           ],
           [
            67,
            1.4688631611159282,
            288,
            29.004947212730144,
            5687
           ],
           [
            277,
            4.880909879124802,
            957,
            29.004947212730144,
            5687
           ],
           [
            208,
            3.6823583414086807,
            722,
            29.004947212730144,
            5687
           ],
           [
            1813,
            21.01800377416229,
            4121,
            29.004947212730144,
            5687
           ]
          ]
         ],
         "hoverlabel": {
          "font": {
           "size": 18
          }
         },
         "hovertemplate": "* → %{x}: %{customdata[1]:0.3f}%, %{customdata[2]} counts <br>%{y} → *: %{customdata[3]:0.3f}%, %{customdata[4]} counts <br>%{y} → %{x}: %{z:0.3f}%, %{customdata[0]} counts <extra></extra>",
         "type": "heatmap",
         "x": [
          "Art",
          "Business_Studies",
          "Citizenship",
          "Countries",
          "Design_and_Technology",
          "Everyday_life",
          "Geography",
          "History",
          "IT",
          "Language_and_literature",
          "Mathematics",
          "Music",
          "People",
          "Religion",
          "Science"
         ],
         "y": [
          "Art",
          "Business_Studies",
          "Citizenship",
          "Countries",
          "Design_and_Technology",
          "Everyday_life",
          "Geography",
          "History",
          "IT",
          "Language_and_literature",
          "Mathematics",
          "Music",
          "People",
          "Religion",
          "Science"
         ],
         "z": [
          [
           0.06630285102259396,
           0.010200438618860611,
           0.03570153516601214,
           0.12240526342632733,
           0.030601315856581834,
           0.06120263171316367,
           0.0918039475697455,
           0.07140307033202428,
           0.015300657928290917,
           0.03570153516601214,
           0.005100219309430306,
           0.025501096547151526,
           0.04590197378487275,
           0.05610241240373336,
           0.14790635997347887
          ],
          [
           0,
           0.0918039475697455,
           0.12750548273575765,
           0.22950986892436376,
           0.07140307033202428,
           0.07650328964145459,
           0.2805120620186668,
           0.16320701790176978,
           0.020400877237721222,
           0.05100219309430305,
           0.025501096547151526,
           0.030601315856581834,
           0.06120263171316367,
           0.04590197378487275,
           0.23971030754322437
          ],
          [
           0.015300657928290917,
           0.0918039475697455,
           0.367215790278982,
           0.5253225888713214,
           0.1020043861886061,
           0.23461008823379403,
           0.5712245626561943,
           0.30601315856581834,
           0.03570153516601214,
           0.12750548273575765,
           0.03570153516601214,
           0.03570153516601214,
           0.1785076758300607,
           0.13260570204518793,
           0.5304228081807517
          ],
          [
           0.020400877237721222,
           0.19890855306778193,
           0.46922017646758807,
           0.9486407915540368,
           0.11730504411689702,
           0.367215790278982,
           1.0098434232672004,
           0.5253225888713214,
           0.07650328964145459,
           0.1887081144489213,
           0.030601315856581834,
           0.07650328964145459,
           0.24481052685265467,
           0.15300657928290917,
           0.7395317998673944
          ],
          [
           0.030601315856581834,
           0.0918039475697455,
           0.24991074616208497,
           1.438261845259346,
           0.26521140409037586,
           1.2444535115009945,
           1.3821594328556128,
           0.5916254398939155,
           0.12750548273575765,
           0.183607895139491,
           0.030601315856581834,
           0.24481052685265467,
           0.21420921099607285,
           0.14280614066404856,
           1.7595756617534555
          ],
          [
           0.06630285102259396,
           0.16830723721120008,
           0.5049217116336002,
           1.3260570204518793,
           0.2040087723772122,
           0.9894425460294792,
           1.6728719334931401,
           0.7446320191768246,
           0.22950986892436376,
           0.433518641301576,
           0.08160350895088489,
           0.11220482480746671,
           0.26521140409037586,
           0.24991074616208497,
           1.6728719334931401
          ],
          [
           0.07140307033202428,
           0.27541184270923647,
           0.8415361860560004,
           2.218595399602183,
           0.39271688682613354,
           0.8466364053654307,
           3.3712449635334316,
           1.2036517570255523,
           0.2040087723772122,
           0.46922017646758807,
           0.08160350895088489,
           0.14790635997347887,
           0.6222267557504972,
           0.43861886061100624,
           2.085989697556995
          ],
          [
           0.04590197378487275,
           0.1020043861886061,
           0.33661447442240017,
           1.1730504411689702,
           0.16830723721120008,
           0.44881929922986685,
           1.5402662314479523,
           1.1322486866935277,
           0.11730504411689702,
           0.2601111847809456,
           0.040801754475442445,
           0.025501096547151526,
           0.44881929922986685,
           0.3468149130412608,
           1.0200438618860612
          ],
          [
           0.015300657928290917,
           0.07140307033202428,
           0.0918039475697455,
           0.2550109654715153,
           0.05100219309430305,
           0.16830723721120008,
           0.2805120620186668,
           0.16830723721120008,
           0.4539195185392972,
           0.0918039475697455,
           0.025501096547151526,
           0.030601315856581834,
           0.16320701790176978,
           0.05100219309430305,
           0.2550109654715153
          ],
          [
           0.05100219309430305,
           0.05100219309430305,
           0.2703116233998062,
           1.519865354210231,
           0.07140307033202428,
           0.31621359718467895,
           1.438261845259346,
           0.41821798337328503,
           0.1020043861886061,
           0.6018258785127761,
           0.015300657928290917,
           0.11730504411689702,
           0.28561228132809713,
           0.21930943030550312,
           1.3260570204518793
          ],
          [
           0.020400877237721222,
           0.03570153516601214,
           0.07140307033202428,
           0.19890855306778193,
           0.020400877237721222,
           0.0918039475697455,
           0.1734074565206304,
           0.0969041668791758,
           0.06120263171316367,
           0.040801754475442445,
           0.08160350895088489,
           0.015300657928290917,
           0.07140307033202428,
           0.030601315856581834,
           0.23461008823379403
          ],
          [
           0.03570153516601214,
           0.015300657928290917,
           0.11220482480746671,
           0.2601111847809456,
           0.040801754475442445,
           0.1020043861886061,
           0.27541184270923647,
           0.1734074565206304,
           0.025501096547151526,
           0.1020043861886061,
           0.005100219309430306,
           0.12750548273575765,
           0.1020043861886061,
           0.05610241240373336,
           0.22440964961493343
          ],
          [
           0.07140307033202428,
           0.1734074565206304,
           0.5202223695618912,
           1.4535625031876371,
           0.1938083337583516,
           0.5610241240373336,
           1.7289743458968734,
           0.9231396950068853,
           0.1785076758300607,
           0.33151425511296984,
           0.06120263171316367,
           0.11220482480746671,
           0.5100219309430306,
           0.27541184270923647,
           1.2291528535727037
          ],
          [
           0.030601315856581834,
           0.030601315856581834,
           0.14790635997347887,
           0.39781710613556387,
           0.05610241240373336,
           0.15300657928290917,
           0.39781710613556387,
           0.30091293925638807,
           0.0969041668791758,
           0.1734074565206304,
           0.010200438618860611,
           0.025501096547151526,
           0.2550109654715153,
           0.42331820268271536,
           0.30601315856581834
          ],
          [
           0.183607895139491,
           0.43861886061100624,
           1.2393532921915642,
           3.743560973121844,
           0.7650328964145459,
           1.6422706176365585,
           4.370887948181772,
           2.2797980313153463,
           1.0455449584332126,
           0.9894425460294792,
           0.24481052685265467,
           0.3417146937318305,
           1.4127607487121945,
           1.0608456163615034,
           9.246697607997143
          ]
         ],
         "zmax": 11.624841487018621,
         "zmin": 0
        }
       ],
       "layout": {
        "font": {
         "size": 18
        },
        "height": 800,
        "template": {
         "data": {
          "bar": [
           {
            "error_x": {
             "color": "#2a3f5f"
            },
            "error_y": {
             "color": "#2a3f5f"
            },
            "marker": {
             "line": {
              "color": "#E5ECF6",
              "width": 0.5
             },
             "pattern": {
              "fillmode": "overlay",
              "size": 10,
              "solidity": 0.2
             }
            },
            "type": "bar"
           }
          ],
          "barpolar": [
           {
            "marker": {
             "line": {
              "color": "#E5ECF6",
              "width": 0.5
             },
             "pattern": {
              "fillmode": "overlay",
              "size": 10,
              "solidity": 0.2
             }
            },
            "type": "barpolar"
           }
          ],
          "carpet": [
           {
            "aaxis": {
             "endlinecolor": "#2a3f5f",
             "gridcolor": "white",
             "linecolor": "white",
             "minorgridcolor": "white",
             "startlinecolor": "#2a3f5f"
            },
            "baxis": {
             "endlinecolor": "#2a3f5f",
             "gridcolor": "white",
             "linecolor": "white",
             "minorgridcolor": "white",
             "startlinecolor": "#2a3f5f"
            },
            "type": "carpet"
           }
          ],
          "choropleth": [
           {
            "colorbar": {
             "outlinewidth": 0,
             "ticks": ""
            },
            "type": "choropleth"
           }
          ],
          "contour": [
           {
            "colorbar": {
             "outlinewidth": 0,
             "ticks": ""
            },
            "colorscale": [
             [
              0,
              "#0d0887"
             ],
             [
              0.1111111111111111,
              "#46039f"
             ],
             [
              0.2222222222222222,
              "#7201a8"
             ],
             [
              0.3333333333333333,
              "#9c179e"
             ],
             [
              0.4444444444444444,
              "#bd3786"
             ],
             [
              0.5555555555555556,
              "#d8576b"
             ],
             [
              0.6666666666666666,
              "#ed7953"
             ],
             [
              0.7777777777777778,
              "#fb9f3a"
             ],
             [
              0.8888888888888888,
              "#fdca26"
             ],
             [
              1,
              "#f0f921"
             ]
            ],
            "type": "contour"
           }
          ],
          "contourcarpet": [
           {
            "colorbar": {
             "outlinewidth": 0,
             "ticks": ""
            },
            "type": "contourcarpet"
           }
          ],
          "heatmap": [
           {
            "colorbar": {
             "outlinewidth": 0,
             "ticks": ""
            },
            "colorscale": [
             [
              0,
              "#0d0887"
             ],
             [
              0.1111111111111111,
              "#46039f"
             ],
             [
              0.2222222222222222,
              "#7201a8"
             ],
             [
              0.3333333333333333,
              "#9c179e"
             ],
             [
              0.4444444444444444,
              "#bd3786"
             ],
             [
              0.5555555555555556,
              "#d8576b"
             ],
             [
              0.6666666666666666,
              "#ed7953"
             ],
             [
              0.7777777777777778,
              "#fb9f3a"
             ],
             [
              0.8888888888888888,
              "#fdca26"
             ],
             [
              1,
              "#f0f921"
             ]
            ],
            "type": "heatmap"
           }
          ],
          "heatmapgl": [
           {
            "colorbar": {
             "outlinewidth": 0,
             "ticks": ""
            },
            "colorscale": [
             [
              0,
              "#0d0887"
             ],
             [
              0.1111111111111111,
              "#46039f"
             ],
             [
              0.2222222222222222,
              "#7201a8"
             ],
             [
              0.3333333333333333,
              "#9c179e"
             ],
             [
              0.4444444444444444,
              "#bd3786"
             ],
             [
              0.5555555555555556,
              "#d8576b"
             ],
             [
              0.6666666666666666,
              "#ed7953"
             ],
             [
              0.7777777777777778,
              "#fb9f3a"
             ],
             [
              0.8888888888888888,
              "#fdca26"
             ],
             [
              1,
              "#f0f921"
             ]
            ],
            "type": "heatmapgl"
           }
          ],
          "histogram": [
           {
            "marker": {
             "pattern": {
              "fillmode": "overlay",
              "size": 10,
              "solidity": 0.2
             }
            },
            "type": "histogram"
           }
          ],
          "histogram2d": [
           {
            "colorbar": {
             "outlinewidth": 0,
             "ticks": ""
            },
            "colorscale": [
             [
              0,
              "#0d0887"
             ],
             [
              0.1111111111111111,
              "#46039f"
             ],
             [
              0.2222222222222222,
              "#7201a8"
             ],
             [
              0.3333333333333333,
              "#9c179e"
             ],
             [
              0.4444444444444444,
              "#bd3786"
             ],
             [
              0.5555555555555556,
              "#d8576b"
             ],
             [
              0.6666666666666666,
              "#ed7953"
             ],
             [
              0.7777777777777778,
              "#fb9f3a"
             ],
             [
              0.8888888888888888,
              "#fdca26"
             ],
             [
              1,
              "#f0f921"
             ]
            ],
            "type": "histogram2d"
           }
          ],
          "histogram2dcontour": [
           {
            "colorbar": {
             "outlinewidth": 0,
             "ticks": ""
            },
            "colorscale": [
             [
              0,
              "#0d0887"
             ],
             [
              0.1111111111111111,
              "#46039f"
             ],
             [
              0.2222222222222222,
              "#7201a8"
             ],
             [
              0.3333333333333333,
              "#9c179e"
             ],
             [
              0.4444444444444444,
              "#bd3786"
             ],
             [
              0.5555555555555556,
              "#d8576b"
             ],
             [
              0.6666666666666666,
              "#ed7953"
             ],
             [
              0.7777777777777778,
              "#fb9f3a"
             ],
             [
              0.8888888888888888,
              "#fdca26"
             ],
             [
              1,
              "#f0f921"
             ]
            ],
            "type": "histogram2dcontour"
           }
          ],
          "mesh3d": [
           {
            "colorbar": {
             "outlinewidth": 0,
             "ticks": ""
            },
            "type": "mesh3d"
           }
          ],
          "parcoords": [
           {
            "line": {
             "colorbar": {
              "outlinewidth": 0,
              "ticks": ""
             }
            },
            "type": "parcoords"
           }
          ],
          "pie": [
           {
            "automargin": true,
            "type": "pie"
           }
          ],
          "scatter": [
           {
            "fillpattern": {
             "fillmode": "overlay",
             "size": 10,
             "solidity": 0.2
            },
            "type": "scatter"
           }
          ],
          "scatter3d": [
           {
            "line": {
             "colorbar": {
              "outlinewidth": 0,
              "ticks": ""
             }
            },
            "marker": {
             "colorbar": {
              "outlinewidth": 0,
              "ticks": ""
             }
            },
            "type": "scatter3d"
           }
          ],
          "scattercarpet": [
           {
            "marker": {
             "colorbar": {
              "outlinewidth": 0,
              "ticks": ""
             }
            },
            "type": "scattercarpet"
           }
          ],
          "scattergeo": [
           {
            "marker": {
             "colorbar": {
              "outlinewidth": 0,
              "ticks": ""
             }
            },
            "type": "scattergeo"
           }
          ],
          "scattergl": [
           {
            "marker": {
             "colorbar": {
              "outlinewidth": 0,
              "ticks": ""
             }
            },
            "type": "scattergl"
           }
          ],
          "scattermapbox": [
           {
            "marker": {
             "colorbar": {
              "outlinewidth": 0,
              "ticks": ""
             }
            },
            "type": "scattermapbox"
           }
          ],
          "scatterpolar": [
           {
            "marker": {
             "colorbar": {
              "outlinewidth": 0,
              "ticks": ""
             }
            },
            "type": "scatterpolar"
           }
          ],
          "scatterpolargl": [
           {
            "marker": {
             "colorbar": {
              "outlinewidth": 0,
              "ticks": ""
             }
            },
            "type": "scatterpolargl"
           }
          ],
          "scatterternary": [
           {
            "marker": {
             "colorbar": {
              "outlinewidth": 0,
              "ticks": ""
             }
            },
            "type": "scatterternary"
           }
          ],
          "surface": [
           {
            "colorbar": {
             "outlinewidth": 0,
             "ticks": ""
            },
            "colorscale": [
             [
              0,
              "#0d0887"
             ],
             [
              0.1111111111111111,
              "#46039f"
             ],
             [
              0.2222222222222222,
              "#7201a8"
             ],
             [
              0.3333333333333333,
              "#9c179e"
             ],
             [
              0.4444444444444444,
              "#bd3786"
             ],
             [
              0.5555555555555556,
              "#d8576b"
             ],
             [
              0.6666666666666666,
              "#ed7953"
             ],
             [
              0.7777777777777778,
              "#fb9f3a"
             ],
             [
              0.8888888888888888,
              "#fdca26"
             ],
             [
              1,
              "#f0f921"
             ]
            ],
            "type": "surface"
           }
          ],
          "table": [
           {
            "cells": {
             "fill": {
              "color": "#EBF0F8"
             },
             "line": {
              "color": "white"
             }
            },
            "header": {
             "fill": {
              "color": "#C8D4E3"
             },
             "line": {
              "color": "white"
             }
            },
            "type": "table"
           }
          ]
         },
         "layout": {
          "annotationdefaults": {
           "arrowcolor": "#2a3f5f",
           "arrowhead": 0,
           "arrowwidth": 1
          },
          "autotypenumbers": "strict",
          "coloraxis": {
           "colorbar": {
            "outlinewidth": 0,
            "ticks": ""
           }
          },
          "colorscale": {
           "diverging": [
            [
             0,
             "#8e0152"
            ],
            [
             0.1,
             "#c51b7d"
            ],
            [
             0.2,
             "#de77ae"
            ],
            [
             0.3,
             "#f1b6da"
            ],
            [
             0.4,
             "#fde0ef"
            ],
            [
             0.5,
             "#f7f7f7"
            ],
            [
             0.6,
             "#e6f5d0"
            ],
            [
             0.7,
             "#b8e186"
            ],
            [
             0.8,
             "#7fbc41"
            ],
            [
             0.9,
             "#4d9221"
            ],
            [
             1,
             "#276419"
            ]
           ],
           "sequential": [
            [
             0,
             "#0d0887"
            ],
            [
             0.1111111111111111,
             "#46039f"
            ],
            [
             0.2222222222222222,
             "#7201a8"
            ],
            [
             0.3333333333333333,
             "#9c179e"
            ],
            [
             0.4444444444444444,
             "#bd3786"
            ],
            [
             0.5555555555555556,
             "#d8576b"
            ],
            [
             0.6666666666666666,
             "#ed7953"
            ],
            [
             0.7777777777777778,
             "#fb9f3a"
            ],
            [
             0.8888888888888888,
             "#fdca26"
            ],
            [
             1,
             "#f0f921"
            ]
           ],
           "sequentialminus": [
            [
             0,
             "#0d0887"
            ],
            [
             0.1111111111111111,
             "#46039f"
            ],
            [
             0.2222222222222222,
             "#7201a8"
            ],
            [
             0.3333333333333333,
             "#9c179e"
            ],
            [
             0.4444444444444444,
             "#bd3786"
            ],
            [
             0.5555555555555556,
             "#d8576b"
            ],
            [
             0.6666666666666666,
             "#ed7953"
            ],
            [
             0.7777777777777778,
             "#fb9f3a"
            ],
            [
             0.8888888888888888,
             "#fdca26"
            ],
            [
             1,
             "#f0f921"
            ]
           ]
          },
          "colorway": [
           "#636efa",
           "#EF553B",
           "#00cc96",
           "#ab63fa",
           "#FFA15A",
           "#19d3f3",
           "#FF6692",
           "#B6E880",
           "#FF97FF",
           "#FECB52"
          ],
          "font": {
           "color": "#2a3f5f"
          },
          "geo": {
           "bgcolor": "white",
           "lakecolor": "white",
           "landcolor": "#E5ECF6",
           "showlakes": true,
           "showland": true,
           "subunitcolor": "white"
          },
          "hoverlabel": {
           "align": "left"
          },
          "hovermode": "closest",
          "mapbox": {
           "style": "light"
          },
          "paper_bgcolor": "white",
          "plot_bgcolor": "#E5ECF6",
          "polar": {
           "angularaxis": {
            "gridcolor": "white",
            "linecolor": "white",
            "ticks": ""
           },
           "bgcolor": "#E5ECF6",
           "radialaxis": {
            "gridcolor": "white",
            "linecolor": "white",
            "ticks": ""
           }
          },
          "scene": {
           "xaxis": {
            "backgroundcolor": "#E5ECF6",
            "gridcolor": "white",
            "gridwidth": 2,
            "linecolor": "white",
            "showbackground": true,
            "ticks": "",
            "zerolinecolor": "white"
           },
           "yaxis": {
            "backgroundcolor": "#E5ECF6",
            "gridcolor": "white",
            "gridwidth": 2,
            "linecolor": "white",
            "showbackground": true,
            "ticks": "",
            "zerolinecolor": "white"
           },
           "zaxis": {
            "backgroundcolor": "#E5ECF6",
            "gridcolor": "white",
            "gridwidth": 2,
            "linecolor": "white",
            "showbackground": true,
            "ticks": "",
            "zerolinecolor": "white"
           }
          },
          "shapedefaults": {
           "line": {
            "color": "#2a3f5f"
           }
          },
          "ternary": {
           "aaxis": {
            "gridcolor": "white",
            "linecolor": "white",
            "ticks": ""
           },
           "baxis": {
            "gridcolor": "white",
            "linecolor": "white",
            "ticks": ""
           },
           "bgcolor": "#E5ECF6",
           "caxis": {
            "gridcolor": "white",
            "linecolor": "white",
            "ticks": ""
           }
          },
          "title": {
           "x": 0.05
          },
          "xaxis": {
           "automargin": true,
           "gridcolor": "white",
           "linecolor": "white",
           "ticks": "",
           "title": {
            "standoff": 15
           },
           "zerolinecolor": "white",
           "zerolinewidth": 2
          },
          "yaxis": {
           "automargin": true,
           "gridcolor": "white",
           "linecolor": "white",
           "ticks": "",
           "title": {
            "standoff": 15
           },
           "zerolinecolor": "white",
           "zerolinewidth": 2
          }
         }
        },
        "title": {
         "text": "Categories of start and end articles for unfinished paths",
         "x": 0.5,
         "xanchor": "center"
        },
        "width": 800,
        "xaxis": {
         "title": {
          "text": "End article category"
         }
        },
        "yaxis": {
         "scaleanchor": "x",
         "title": {
          "text": "Source article category"
         }
        }
       }
      }
     },
     "metadata": {},
     "output_type": "display_data"
    },
    {
     "data": {
      "application/vnd.plotly.v1+json": {
       "config": {
        "plotlyServerURL": "https://plot.ly"
       },
       "data": [
        {
         "colorscale": [
          [
           0,
           "rgb(12, 7, 134)"
          ],
          [
           0.010101010101010102,
           "rgb(76, 2, 161)"
          ],
          [
           0.020202020202020204,
           "rgb(95, 0, 166)"
          ],
          [
           0.030303030303030304,
           "rgb(109, 0, 168)"
          ],
          [
           0.04040404040404041,
           "rgb(120, 1, 168)"
          ],
          [
           0.050505050505050504,
           "rgb(129, 4, 167)"
          ],
          [
           0.06060606060606061,
           "rgb(137, 8, 165)"
          ],
          [
           0.0707070707070707,
           "rgb(144, 14, 163)"
          ],
          [
           0.08080808080808081,
           "rgb(151, 19, 160)"
          ],
          [
           0.09090909090909091,
           "rgb(158, 25, 156)"
          ],
          [
           0.10101010101010101,
           "rgb(163, 29, 153)"
          ],
          [
           0.1111111111111111,
           "rgb(168, 34, 150)"
          ],
          [
           0.12121212121212122,
           "rgb(173, 38, 146)"
          ],
          [
           0.13131313131313133,
           "rgb(176, 42, 143)"
          ],
          [
           0.1414141414141414,
           "rgb(181, 46, 140)"
          ],
          [
           0.15151515151515152,
           "rgb(184, 50, 137)"
          ],
          [
           0.16161616161616163,
           "rgb(187, 53, 134)"
          ],
          [
           0.1717171717171717,
           "rgb(190, 56, 131)"
          ],
          [
           0.18181818181818182,
           "rgb(193, 60, 128)"
          ],
          [
           0.1919191919191919,
           "rgb(196, 63, 126)"
          ],
          [
           0.20202020202020202,
           "rgb(199, 66, 123)"
          ],
          [
           0.21212121212121213,
           "rgb(202, 70, 120)"
          ],
          [
           0.2222222222222222,
           "rgb(205, 73, 117)"
          ],
          [
           0.23232323232323232,
           "rgb(207, 75, 116)"
          ],
          [
           0.24242424242424243,
           "rgb(209, 79, 113)"
          ],
          [
           0.25252525252525254,
           "rgb(211, 81, 111)"
          ],
          [
           0.26262626262626265,
           "rgb(214, 85, 109)"
          ],
          [
           0.2727272727272727,
           "rgb(215, 87, 107)"
          ],
          [
           0.2828282828282828,
           "rgb(218, 90, 104)"
          ],
          [
           0.29292929292929293,
           "rgb(220, 93, 102)"
          ],
          [
           0.30303030303030304,
           "rgb(221, 95, 101)"
          ],
          [
           0.31313131313131315,
           "rgb(223, 97, 99)"
          ],
          [
           0.32323232323232326,
           "rgb(225, 101, 96)"
          ],
          [
           0.3333333333333333,
           "rgb(227, 103, 95)"
          ],
          [
           0.3434343434343434,
           "rgb(228, 106, 93)"
          ],
          [
           0.35353535353535354,
           "rgb(229, 108, 91)"
          ],
          [
           0.36363636363636365,
           "rgb(231, 110, 90)"
          ],
          [
           0.37373737373737376,
           "rgb(232, 113, 88)"
          ],
          [
           0.3838383838383838,
           "rgb(234, 115, 86)"
          ],
          [
           0.3939393939393939,
           "rgb(235, 118, 84)"
          ],
          [
           0.40404040404040403,
           "rgb(236, 120, 83)"
          ],
          [
           0.41414141414141414,
           "rgb(237, 123, 81)"
          ],
          [
           0.42424242424242425,
           "rgb(239, 125, 79)"
          ],
          [
           0.43434343434343436,
           "rgb(239, 126, 78)"
          ],
          [
           0.4444444444444444,
           "rgb(240, 129, 77)"
          ],
          [
           0.45454545454545453,
           "rgb(242, 132, 75)"
          ],
          [
           0.46464646464646464,
           "rgb(243, 134, 73)"
          ],
          [
           0.47474747474747475,
           "rgb(244, 137, 71)"
          ],
          [
           0.48484848484848486,
           "rgb(244, 138, 71)"
          ],
          [
           0.494949494949495,
           "rgb(245, 141, 69)"
          ],
          [
           0.5050505050505051,
           "rgb(246, 143, 67)"
          ],
          [
           0.5151515151515151,
           "rgb(246, 145, 66)"
          ],
          [
           0.5252525252525253,
           "rgb(247, 147, 65)"
          ],
          [
           0.5353535353535354,
           "rgb(248, 150, 63)"
          ],
          [
           0.5454545454545454,
           "rgb(248, 152, 62)"
          ],
          [
           0.5555555555555556,
           "rgb(249, 154, 60)"
          ],
          [
           0.5656565656565656,
           "rgb(250, 157, 58)"
          ],
          [
           0.5757575757575758,
           "rgb(250, 159, 58)"
          ],
          [
           0.5858585858585859,
           "rgb(251, 162, 56)"
          ],
          [
           0.5959595959595959,
           "rgb(251, 163, 55)"
          ],
          [
           0.6060606060606061,
           "rgb(252, 166, 53)"
          ],
          [
           0.6161616161616161,
           "rgb(252, 167, 53)"
          ],
          [
           0.6262626262626263,
           "rgb(252, 170, 51)"
          ],
          [
           0.6363636363636364,
           "rgb(252, 172, 50)"
          ],
          [
           0.6464646464646465,
           "rgb(253, 175, 49)"
          ],
          [
           0.6565656565656566,
           "rgb(253, 176, 48)"
          ],
          [
           0.6666666666666666,
           "rgb(253, 179, 46)"
          ],
          [
           0.6767676767676768,
           "rgb(253, 181, 45)"
          ],
          [
           0.6868686868686869,
           "rgb(253, 184, 44)"
          ],
          [
           0.696969696969697,
           "rgb(253, 185, 43)"
          ],
          [
           0.7070707070707071,
           "rgb(253, 188, 42)"
          ],
          [
           0.7171717171717171,
           "rgb(253, 190, 41)"
          ],
          [
           0.7272727272727273,
           "rgb(253, 192, 41)"
          ],
          [
           0.7373737373737373,
           "rgb(253, 195, 40)"
          ],
          [
           0.7474747474747475,
           "rgb(253, 196, 39)"
          ],
          [
           0.7575757575757576,
           "rgb(253, 198, 38)"
          ],
          [
           0.7676767676767676,
           "rgb(252, 201, 38)"
          ],
          [
           0.7777777777777778,
           "rgb(252, 203, 37)"
          ],
          [
           0.7878787878787878,
           "rgb(252, 204, 37)"
          ],
          [
           0.797979797979798,
           "rgb(251, 208, 36)"
          ],
          [
           0.8080808080808081,
           "rgb(251, 209, 36)"
          ],
          [
           0.8181818181818182,
           "rgb(251, 211, 36)"
          ],
          [
           0.8282828282828283,
           "rgb(250, 214, 36)"
          ],
          [
           0.8383838383838383,
           "rgb(250, 216, 36)"
          ],
          [
           0.8484848484848485,
           "rgb(249, 217, 36)"
          ],
          [
           0.8585858585858586,
           "rgb(248, 221, 36)"
          ],
          [
           0.8686868686868687,
           "rgb(248, 223, 36)"
          ],
          [
           0.8787878787878788,
           "rgb(247, 224, 36)"
          ],
          [
           0.8888888888888888,
           "rgb(247, 226, 37)"
          ],
          [
           0.898989898989899,
           "rgb(246, 229, 37)"
          ],
          [
           0.9090909090909091,
           "rgb(245, 231, 38)"
          ],
          [
           0.9191919191919192,
           "rgb(245, 233, 38)"
          ],
          [
           0.9292929292929293,
           "rgb(244, 234, 38)"
          ],
          [
           0.9393939393939394,
           "rgb(243, 236, 38)"
          ],
          [
           0.9494949494949495,
           "rgb(242, 240, 38)"
          ],
          [
           0.9595959595959596,
           "rgb(242, 241, 38)"
          ],
          [
           0.9696969696969697,
           "rgb(241, 243, 38)"
          ],
          [
           0.9797979797979798,
           "rgb(240, 245, 37)"
          ],
          [
           0.98989898989899,
           "rgb(240, 246, 35)"
          ],
          [
           1,
           "rgb(239, 248, 33)"
          ]
         ],
         "customdata": [
          [
           [
            19,
            0.66812872953537,
            131,
            0.7242311419391034,
            142
           ],
           [
            0,
            1.8207782934666192,
            357,
            0.7242311419391034,
            142
           ],
           [
            4,
            4.0699750089253826,
            798,
            0.7242311419391034,
            142
           ],
           [
            1,
            2.065588820319274,
            405,
            0.7242311419391034,
            142
           ],
           [
            9,
            8.083847605447035,
            1585,
            0.7242311419391034,
            142
           ],
           [
            24,
            10.766562962207374,
            2111,
            0.7242311419391034,
            142
           ],
           [
            6,
            10.567654409139594,
            2072,
            0.7242311419391034,
            142
           ],
           [
            7,
            9.603712959657265,
            1883,
            0.7242311419391034,
            142
           ],
           [
            1,
            2.5603100933340133,
            502,
            0.7242311419391034,
            142
           ],
           [
            12,
            3.7996633855255775,
            745,
            0.7242311419391034,
            142
           ],
           [
            1,
            0.7803335543428369,
            153,
            0.7242311419391034,
            142
           ],
           [
            7,
            2.443005049217116,
            479,
            0.7242311419391034,
            142
           ],
           [
            22,
            8.991686642525629,
            1763,
            0.7242311419391034,
            142
           ],
           [
            2,
            2.233896057530474,
            438,
            0.7242311419391034,
            142
           ],
           [
            27,
            31.544856428826442,
            6185,
            0.7242311419391034,
            142
           ]
          ],
          [
           [
            3,
            0.66812872953537,
            131,
            1.8462793900137706,
            362
           ],
           [
            62,
            1.8207782934666192,
            357,
            1.8462793900137706,
            362
           ],
           [
            26,
            4.0699750089253826,
            798,
            1.8462793900137706,
            362
           ],
           [
            9,
            2.065588820319274,
            405,
            1.8462793900137706,
            362
           ],
           [
            37,
            8.083847605447035,
            1585,
            1.8462793900137706,
            362
           ],
           [
            66,
            10.766562962207374,
            2111,
            1.8462793900137706,
            362
           ],
           [
            21,
            10.567654409139594,
            2072,
            1.8462793900137706,
            362
           ],
           [
            13,
            9.603712959657265,
            1883,
            1.8462793900137706,
            362
           ],
           [
            24,
            2.5603100933340133,
            502,
            1.8462793900137706,
            362
           ],
           [
            14,
            3.7996633855255775,
            745,
            1.8462793900137706,
            362
           ],
           [
            4,
            0.7803335543428369,
            153,
            1.8462793900137706,
            362
           ],
           [
            6,
            2.443005049217116,
            479,
            1.8462793900137706,
            362
           ],
           [
            27,
            8.991686642525629,
            1763,
            1.8462793900137706,
            362
           ],
           [
            2,
            2.233896057530474,
            438,
            1.8462793900137706,
            362
           ],
           [
            48,
            31.544856428826442,
            6185,
            1.8462793900137706,
            362
           ]
          ],
          [
           [
            2,
            0.66812872953537,
            131,
            5.385831590758404,
            1056
           ],
           [
            34,
            1.8207782934666192,
            357,
            5.385831590758404,
            1056
           ],
           [
            227,
            4.0699750089253826,
            798,
            5.385831590758404,
            1056
           ],
           [
            32,
            2.065588820319274,
            405,
            5.385831590758404,
            1056
           ],
           [
            51,
            8.083847605447035,
            1585,
            5.385831590758404,
            1056
           ],
           [
            104,
            10.766562962207374,
            2111,
            5.385831590758404,
            1056
           ],
           [
            100,
            10.567654409139594,
            2072,
            5.385831590758404,
            1056
           ],
           [
            91,
            9.603712959657265,
            1883,
            5.385831590758404,
            1056
           ],
           [
            26,
            2.5603100933340133,
            502,
            5.385831590758404,
            1056
           ],
           [
            32,
            3.7996633855255775,
            745,
            5.385831590758404,
            1056
           ],
           [
            9,
            0.7803335543428369,
            153,
            5.385831590758404,
            1056
           ],
           [
            20,
            2.443005049217116,
            479,
            5.385831590758404,
            1056
           ],
           [
            115,
            8.991686642525629,
            1763,
            5.385831590758404,
            1056
           ],
           [
            16,
            2.233896057530474,
            438,
            5.385831590758404,
            1056
           ],
           [
            197,
            31.544856428826442,
            6185,
            5.385831590758404,
            1056
           ]
          ],
          [
           [
            14,
            0.66812872953537,
            131,
            15.81067985923395,
            3100
           ],
           [
            91,
            1.8207782934666192,
            357,
            15.81067985923395,
            3100
           ],
           [
            107,
            4.0699750089253826,
            798,
            15.81067985923395,
            3100
           ],
           [
            112,
            2.065588820319274,
            405,
            15.81067985923395,
            3100
           ],
           [
            137,
            8.083847605447035,
            1585,
            15.81067985923395,
            3100
           ],
           [
            302,
            10.766562962207374,
            2111,
            15.81067985923395,
            3100
           ],
           [
            415,
            10.567654409139594,
            2072,
            15.81067985923395,
            3100
           ],
           [
            366,
            9.603712959657265,
            1883,
            15.81067985923395,
            3100
           ],
           [
            49,
            2.5603100933340133,
            502,
            15.81067985923395,
            3100
           ],
           [
            93,
            3.7996633855255775,
            745,
            15.81067985923395,
            3100
           ],
           [
            14,
            0.7803335543428369,
            153,
            15.81067985923395,
            3100
           ],
           [
            101,
            2.443005049217116,
            479,
            15.81067985923395,
            3100
           ],
           [
            292,
            8.991686642525629,
            1763,
            15.81067985923395,
            3100
           ],
           [
            53,
            2.233896057530474,
            438,
            15.81067985923395,
            3100
           ],
           [
            954,
            31.544856428826442,
            6185,
            15.81067985923395,
            3100
           ]
          ],
          [
           [
            2,
            0.66812872953537,
            131,
            2.5501096547151527,
            500
           ],
           [
            16,
            1.8207782934666192,
            357,
            2.5501096547151527,
            500
           ],
           [
            13,
            4.0699750089253826,
            798,
            2.5501096547151527,
            500
           ],
           [
            4,
            2.065588820319274,
            405,
            2.5501096547151527,
            500
           ],
           [
            178,
            8.083847605447035,
            1585,
            2.5501096547151527,
            500
           ],
           [
            65,
            10.766562962207374,
            2111,
            2.5501096547151527,
            500
           ],
           [
            30,
            10.567654409139594,
            2072,
            2.5501096547151527,
            500
           ],
           [
            26,
            9.603712959657265,
            1883,
            2.5501096547151527,
            500
           ],
           [
            18,
            2.5603100933340133,
            502,
            2.5501096547151527,
            500
           ],
           [
            15,
            3.7996633855255775,
            745,
            2.5501096547151527,
            500
           ],
           [
            2,
            0.7803335543428369,
            153,
            2.5501096547151527,
            500
           ],
           [
            9,
            2.443005049217116,
            479,
            2.5501096547151527,
            500
           ],
           [
            39,
            8.991686642525629,
            1763,
            2.5501096547151527,
            500
           ],
           [
            2,
            2.233896057530474,
            438,
            2.5501096547151527,
            500
           ],
           [
            81,
            31.544856428826442,
            6185,
            2.5501096547151527,
            500
           ]
          ],
          [
           [
            3,
            0.66812872953537,
            131,
            7.303514051104198,
            1432
           ],
           [
            13,
            1.8207782934666192,
            357,
            7.303514051104198,
            1432
           ],
           [
            21,
            4.0699750089253826,
            798,
            7.303514051104198,
            1432
           ],
           [
            7,
            2.065588820319274,
            405,
            7.303514051104198,
            1432
           ],
           [
            56,
            8.083847605447035,
            1585,
            7.303514051104198,
            1432
           ],
           [
            432,
            10.766562962207374,
            2111,
            7.303514051104198,
            1432
           ],
           [
            82,
            10.567654409139594,
            2072,
            7.303514051104198,
            1432
           ],
           [
            47,
            9.603712959657265,
            1883,
            7.303514051104198,
            1432
           ],
           [
            18,
            2.5603100933340133,
            502,
            7.303514051104198,
            1432
           ],
           [
            55,
            3.7996633855255775,
            745,
            7.303514051104198,
            1432
           ],
           [
            9,
            0.7803335543428369,
            153,
            7.303514051104198,
            1432
           ],
           [
            18,
            2.443005049217116,
            479,
            7.303514051104198,
            1432
           ],
           [
            172,
            8.991686642525629,
            1763,
            7.303514051104198,
            1432
           ],
           [
            15,
            2.233896057530474,
            438,
            7.303514051104198,
            1432
           ],
           [
            484,
            31.544856428826442,
            6185,
            7.303514051104198,
            1432
           ]
          ],
          [
           [
            19,
            0.66812872953537,
            131,
            18.585199163564035,
            3644
           ],
           [
            52,
            1.8207782934666192,
            357,
            18.585199163564035,
            3644
           ],
           [
            128,
            4.0699750089253826,
            798,
            18.585199163564035,
            3644
           ],
           [
            112,
            2.065588820319274,
            405,
            18.585199163564035,
            3644
           ],
           [
            213,
            8.083847605447035,
            1585,
            18.585199163564035,
            3644
           ],
           [
            325,
            10.766562962207374,
            2111,
            18.585199163564035,
            3644
           ],
           [
            876,
            10.567654409139594,
            2072,
            18.585199163564035,
            3644
           ],
           [
            262,
            9.603712959657265,
            1883,
            18.585199163564035,
            3644
           ],
           [
            49,
            2.5603100933340133,
            502,
            18.585199163564035,
            3644
           ],
           [
            88,
            3.7996633855255775,
            745,
            18.585199163564035,
            3644
           ],
           [
            16,
            0.7803335543428369,
            153,
            18.585199163564035,
            3644
           ],
           [
            81,
            2.443005049217116,
            479,
            18.585199163564035,
            3644
           ],
           [
            302,
            8.991686642525629,
            1763,
            18.585199163564035,
            3644
           ],
           [
            60,
            2.233896057530474,
            438,
            18.585199163564035,
            3644
           ],
           [
            1061,
            31.544856428826442,
            6185,
            18.585199163564035,
            3644
           ]
          ],
          [
           [
            23,
            0.66812872953537,
            131,
            9.098791248023664,
            1784
           ],
           [
            30,
            1.8207782934666192,
            357,
            9.098791248023664,
            1784
           ],
           [
            80,
            4.0699750089253826,
            798,
            9.098791248023664,
            1784
           ],
           [
            41,
            2.065588820319274,
            405,
            9.098791248023664,
            1784
           ],
           [
            107,
            8.083847605447035,
            1585,
            9.098791248023664,
            1784
           ],
           [
            131,
            10.766562962207374,
            2111,
            9.098791248023664,
            1784
           ],
           [
            158,
            10.567654409139594,
            2072,
            9.098791248023664,
            1784
           ],
           [
            490,
            9.603712959657265,
            1883,
            9.098791248023664,
            1784
           ],
           [
            29,
            2.5603100933340133,
            502,
            9.098791248023664,
            1784
           ],
           [
            75,
            3.7996633855255775,
            745,
            9.098791248023664,
            1784
           ],
           [
            8,
            0.7803335543428369,
            153,
            9.098791248023664,
            1784
           ],
           [
            33,
            2.443005049217116,
            479,
            9.098791248023664,
            1784
           ],
           [
            190,
            8.991686642525629,
            1763,
            9.098791248023664,
            1784
           ],
           [
            66,
            2.233896057530474,
            438,
            9.098791248023664,
            1784
           ],
           [
            323,
            31.544856428826442,
            6185,
            9.098791248023664,
            1784
           ]
          ],
          [
           [
            1,
            0.66812872953537,
            131,
            2.7898199622583766,
            547
           ],
           [
            11,
            1.8207782934666192,
            357,
            2.7898199622583766,
            547
           ],
           [
            9,
            4.0699750089253826,
            798,
            2.7898199622583766,
            547
           ],
           [
            1,
            2.065588820319274,
            405,
            2.7898199622583766,
            547
           ],
           [
            122,
            8.083847605447035,
            1585,
            2.7898199622583766,
            547
           ],
           [
            73,
            10.766562962207374,
            2111,
            2.7898199622583766,
            547
           ],
           [
            15,
            10.567654409139594,
            2072,
            2.7898199622583766,
            547
           ],
           [
            10,
            9.603712959657265,
            1883,
            2.7898199622583766,
            547
           ],
           [
            153,
            2.5603100933340133,
            502,
            2.7898199622583766,
            547
           ],
           [
            40,
            3.7996633855255775,
            745,
            2.7898199622583766,
            547
           ],
           [
            6,
            0.7803335543428369,
            153,
            2.7898199622583766,
            547
           ],
           [
            7,
            2.443005049217116,
            479,
            2.7898199622583766,
            547
           ],
           [
            31,
            8.991686642525629,
            1763,
            2.7898199622583766,
            547
           ],
           [
            0,
            2.233896057530474,
            438,
            2.7898199622583766,
            547
           ],
           [
            68,
            31.544856428826442,
            6185,
            2.7898199622583766,
            547
           ]
          ],
          [
           [
            9,
            0.66812872953537,
            131,
            4.080175447544244,
            800
           ],
           [
            6,
            1.8207782934666192,
            357,
            4.080175447544244,
            800
           ],
           [
            29,
            4.0699750089253826,
            798,
            4.080175447544244,
            800
           ],
           [
            21,
            2.065588820319274,
            405,
            4.080175447544244,
            800
           ],
           [
            49,
            8.083847605447035,
            1585,
            4.080175447544244,
            800
           ],
           [
            78,
            10.766562962207374,
            2111,
            4.080175447544244,
            800
           ],
           [
            62,
            10.567654409139594,
            2072,
            4.080175447544244,
            800
           ],
           [
            77,
            9.603712959657265,
            1883,
            4.080175447544244,
            800
           ],
           [
            15,
            2.5603100933340133,
            502,
            4.080175447544244,
            800
           ],
           [
            151,
            3.7996633855255775,
            745,
            4.080175447544244,
            800
           ],
           [
            4,
            0.7803335543428369,
            153,
            4.080175447544244,
            800
           ],
           [
            26,
            2.443005049217116,
            479,
            4.080175447544244,
            800
           ],
           [
            86,
            8.991686642525629,
            1763,
            4.080175447544244,
            800
           ],
           [
            21,
            2.233896057530474,
            438,
            4.080175447544244,
            800
           ],
           [
            166,
            31.544856428826442,
            6185,
            4.080175447544244,
            800
           ]
          ],
          [
           [
            1,
            0.66812872953537,
            131,
            0.7752333350334064,
            152
           ],
           [
            0,
            1.8207782934666192,
            357,
            0.7752333350334064,
            152
           ],
           [
            4,
            4.0699750089253826,
            798,
            0.7752333350334064,
            152
           ],
           [
            1,
            2.065588820319274,
            405,
            0.7752333350334064,
            152
           ],
           [
            31,
            8.083847605447035,
            1585,
            0.7752333350334064,
            152
           ],
           [
            20,
            10.766562962207374,
            2111,
            0.7752333350334064,
            152
           ],
           [
            9,
            10.567654409139594,
            2072,
            0.7752333350334064,
            152
           ],
           [
            5,
            9.603712959657265,
            1883,
            0.7752333350334064,
            152
           ],
           [
            12,
            2.5603100933340133,
            502,
            0.7752333350334064,
            152
           ],
           [
            7,
            3.7996633855255775,
            745,
            0.7752333350334064,
            152
           ],
           [
            33,
            0.7803335543428369,
            153,
            0.7752333350334064,
            152
           ],
           [
            0,
            2.443005049217116,
            479,
            0.7752333350334064,
            152
           ],
           [
            14,
            8.991686642525629,
            1763,
            0.7752333350334064,
            152
           ],
           [
            0,
            2.233896057530474,
            438,
            0.7752333350334064,
            152
           ],
           [
            15,
            31.544856428826442,
            6185,
            0.7752333350334064,
            152
           ]
          ],
          [
           [
            2,
            0.66812872953537,
            131,
            1.4688631611159282,
            288
           ],
           [
            1,
            1.8207782934666192,
            357,
            1.4688631611159282,
            288
           ],
           [
            3,
            4.0699750089253826,
            798,
            1.4688631611159282,
            288
           ],
           [
            1,
            2.065588820319274,
            405,
            1.4688631611159282,
            288
           ],
           [
            16,
            8.083847605447035,
            1585,
            1.4688631611159282,
            288
           ],
           [
            17,
            10.766562962207374,
            2111,
            1.4688631611159282,
            288
           ],
           [
            6,
            10.567654409139594,
            2072,
            1.4688631611159282,
            288
           ],
           [
            2,
            9.603712959657265,
            1883,
            1.4688631611159282,
            288
           ],
           [
            10,
            2.5603100933340133,
            502,
            1.4688631611159282,
            288
           ],
           [
            5,
            3.7996633855255775,
            745,
            1.4688631611159282,
            288
           ],
           [
            2,
            0.7803335543428369,
            153,
            1.4688631611159282,
            288
           ],
           [
            98,
            2.443005049217116,
            479,
            1.4688631611159282,
            288
           ],
           [
            56,
            8.991686642525629,
            1763,
            1.4688631611159282,
            288
           ],
           [
            1,
            2.233896057530474,
            438,
            1.4688631611159282,
            288
           ],
           [
            68,
            31.544856428826442,
            6185,
            1.4688631611159282,
            288
           ]
          ],
          [
           [
            16,
            0.66812872953537,
            131,
            4.880909879124803,
            957
           ],
           [
            12,
            1.8207782934666192,
            357,
            4.880909879124803,
            957
           ],
           [
            51,
            4.0699750089253826,
            798,
            4.880909879124803,
            957
           ],
           [
            13,
            2.065588820319274,
            405,
            4.880909879124803,
            957
           ],
           [
            80,
            8.083847605447035,
            1585,
            4.880909879124803,
            957
           ],
           [
            97,
            10.766562962207374,
            2111,
            4.880909879124803,
            957
           ],
           [
            52,
            10.567654409139594,
            2072,
            4.880909879124803,
            957
           ],
           [
            114,
            9.603712959657265,
            1883,
            4.880909879124803,
            957
           ],
           [
            13,
            2.5603100933340133,
            502,
            4.880909879124803,
            957
           ],
           [
            57,
            3.7996633855255775,
            745,
            4.880909879124803,
            957
           ],
           [
            10,
            0.7803335543428369,
            153,
            4.880909879124803,
            957
           ],
           [
            28,
            2.443005049217116,
            479,
            4.880909879124803,
            957
           ],
           [
            196,
            8.991686642525629,
            1763,
            4.880909879124803,
            957
           ],
           [
            32,
            2.233896057530474,
            438,
            4.880909879124803,
            957
           ],
           [
            186,
            31.544856428826442,
            6185,
            4.880909879124803,
            957
           ]
          ],
          [
           [
            8,
            0.66812872953537,
            131,
            3.6823583414086807,
            722
           ],
           [
            2,
            1.8207782934666192,
            357,
            3.6823583414086807,
            722
           ],
           [
            37,
            4.0699750089253826,
            798,
            3.6823583414086807,
            722
           ],
           [
            14,
            2.065588820319274,
            405,
            3.6823583414086807,
            722
           ],
           [
            30,
            8.083847605447035,
            1585,
            3.6823583414086807,
            722
           ],
           [
            79,
            10.766562962207374,
            2111,
            3.6823583414086807,
            722
           ],
           [
            50,
            10.567654409139594,
            2072,
            3.6823583414086807,
            722
           ],
           [
            118,
            9.603712959657265,
            1883,
            3.6823583414086807,
            722
           ],
           [
            6,
            2.5603100933340133,
            502,
            3.6823583414086807,
            722
           ],
           [
            27,
            3.7996633855255775,
            745,
            3.6823583414086807,
            722
           ],
           [
            2,
            0.7803335543428369,
            153,
            3.6823583414086807,
            722
           ],
           [
            7,
            2.443005049217116,
            479,
            3.6823583414086807,
            722
           ],
           [
            72,
            8.991686642525629,
            1763,
            3.6823583414086807,
            722
           ],
           [
            124,
            2.233896057530474,
            438,
            3.6823583414086807,
            722
           ],
           [
            146,
            31.544856428826442,
            6185,
            3.6823583414086807,
            722
           ]
          ],
          [
           [
            9,
            0.66812872953537,
            131,
            21.01800377416229,
            4121
           ],
           [
            27,
            1.8207782934666192,
            357,
            21.01800377416229,
            4121
           ],
           [
            59,
            4.0699750089253826,
            798,
            21.01800377416229,
            4121
           ],
           [
            36,
            2.065588820319274,
            405,
            21.01800377416229,
            4121
           ],
           [
            469,
            8.083847605447035,
            1585,
            21.01800377416229,
            4121
           ],
           [
            298,
            10.766562962207374,
            2111,
            21.01800377416229,
            4121
           ],
           [
            190,
            10.567654409139594,
            2072,
            21.01800377416229,
            4121
           ],
           [
            255,
            9.603712959657265,
            1883,
            21.01800377416229,
            4121
           ],
           [
            79,
            2.5603100933340133,
            502,
            21.01800377416229,
            4121
           ],
           [
            74,
            3.7996633855255775,
            745,
            21.01800377416229,
            4121
           ],
           [
            33,
            0.7803335543428369,
            153,
            21.01800377416229,
            4121
           ],
           [
            38,
            2.443005049217116,
            479,
            21.01800377416229,
            4121
           ],
           [
            149,
            8.991686642525629,
            1763,
            21.01800377416229,
            4121
           ],
           [
            44,
            2.233896057530474,
            438,
            21.01800377416229,
            4121
           ],
           [
            2361,
            31.544856428826442,
            6185,
            21.01800377416229,
            4121
           ]
          ]
         ],
         "hoverlabel": {
          "font": {
           "size": 18
          }
         },
         "hovertemplate": "* → %{x}: %{customdata[1]:0.3f}%, %{customdata[2]} counts <br>%{y} → *: %{customdata[3]:0.3f}%, %{customdata[4]} counts <br>%{y} → %{x}: %{z:0.3f}%, %{customdata[0]} counts <extra></extra>",
         "type": "heatmap",
         "x": [
          "Art",
          "Business_Studies",
          "Citizenship",
          "Countries",
          "Design_and_Technology",
          "Everyday_life",
          "Geography",
          "History",
          "IT",
          "Language_and_literature",
          "Mathematics",
          "Music",
          "People",
          "Religion",
          "Science"
         ],
         "y": [
          "Art",
          "Business_Studies",
          "Citizenship",
          "Countries",
          "Design_and_Technology",
          "Everyday_life",
          "Geography",
          "History",
          "IT",
          "Language_and_literature",
          "Mathematics",
          "Music",
          "People",
          "Religion",
          "Science"
         ],
         "z": [
          [
           0.0969041668791758,
           0,
           0.020400877237721222,
           0.005100219309430306,
           0.04590197378487275,
           0.12240526342632733,
           0.030601315856581834,
           0.03570153516601214,
           0.005100219309430306,
           0.06120263171316367,
           0.005100219309430306,
           0.03570153516601214,
           0.11220482480746671,
           0.010200438618860611,
           0.13770592135461823
          ],
          [
           0.015300657928290917,
           0.31621359718467895,
           0.13260570204518793,
           0.04590197378487275,
           0.1887081144489213,
           0.33661447442240017,
           0.10710460549803642,
           0.06630285102259396,
           0.12240526342632733,
           0.07140307033202428,
           0.020400877237721222,
           0.030601315856581834,
           0.13770592135461823,
           0.010200438618860611,
           0.24481052685265467
          ],
          [
           0.010200438618860611,
           0.1734074565206304,
           1.1577497832406793,
           0.16320701790176978,
           0.2601111847809456,
           0.5304228081807517,
           0.5100219309430306,
           0.46411995715815785,
           0.13260570204518793,
           0.16320701790176978,
           0.04590197378487275,
           0.1020043861886061,
           0.5865252205844851,
           0.08160350895088489,
           1.0047432039577702
          ],
          [
           0.07140307033202428,
           0.46411995715815785,
           0.5457234661090428,
           0.5712245626561943,
           0.6987300453919518,
           1.5402662314479523,
           2.1165910134135766,
           1.866680267251492,
           0.24991074616208497,
           0.4743203957770184,
           0.07140307033202428,
           0.5151221502524609,
           1.4892640383536493,
           0.2703116233998062,
           4.865609221196512
          ],
          [
           0.010200438618860611,
           0.08160350895088489,
           0.06630285102259396,
           0.020400877237721222,
           0.9078390370785944,
           0.33151425511296984,
           0.15300657928290917,
           0.13260570204518793,
           0.0918039475697455,
           0.07650328964145459,
           0.010200438618860611,
           0.04590197378487275,
           0.19890855306778193,
           0.010200438618860611,
           0.4131177640638547
          ],
          [
           0.015300657928290917,
           0.06630285102259396,
           0.10710460549803642,
           0.03570153516601214,
           0.28561228132809713,
           2.2032947416738917,
           0.41821798337328503,
           0.23971030754322437,
           0.0918039475697455,
           0.2805120620186668,
           0.04590197378487275,
           0.0918039475697455,
           0.8772377212220125,
           0.07650328964145459,
           2.468506145764268
          ],
          [
           0.0969041668791758,
           0.26521140409037586,
           0.6528280716070791,
           0.5712245626561943,
           1.086346712908655,
           1.6575712755648495,
           4.467792115060948,
           1.33625745907074,
           0.24991074616208497,
           0.44881929922986685,
           0.08160350895088489,
           0.4131177640638547,
           1.5402662314479523,
           0.30601315856581834,
           5.4113326873055545
          ],
          [
           0.11730504411689702,
           0.15300657928290917,
           0.4080175447544244,
           0.20910899168664251,
           0.5457234661090428,
           0.66812872953537,
           0.8058346508899883,
           2.4991074616208495,
           0.14790635997347887,
           0.38251644820727293,
           0.040801754475442445,
           0.16830723721120008,
           0.9690416687917581,
           0.33661447442240017,
           1.6473708369459887
          ],
          [
           0.005100219309430306,
           0.05610241240373336,
           0.04590197378487275,
           0.005100219309430306,
           0.6222267557504972,
           0.3723160095884123,
           0.07650328964145459,
           0.05100219309430305,
           0.7803335543428367,
           0.2040087723772122,
           0.030601315856581834,
           0.03570153516601214,
           0.15810679859233948,
           0,
           0.3468149130412608
          ],
          [
           0.04590197378487275,
           0.030601315856581834,
           0.14790635997347887,
           0.10710460549803642,
           0.24991074616208497,
           0.39781710613556387,
           0.31621359718467895,
           0.39271688682613354,
           0.07650328964145459,
           0.7701331157239761,
           0.020400877237721222,
           0.13260570204518793,
           0.43861886061100624,
           0.10710460549803642,
           0.8466364053654307
          ],
          [
           0.005100219309430306,
           0,
           0.020400877237721222,
           0.005100219309430306,
           0.15810679859233948,
           0.1020043861886061,
           0.04590197378487275,
           0.025501096547151526,
           0.06120263171316367,
           0.03570153516601214,
           0.16830723721120008,
           0,
           0.07140307033202428,
           0,
           0.07650328964145459
          ],
          [
           0.010200438618860611,
           0.005100219309430306,
           0.015300657928290917,
           0.005100219309430306,
           0.08160350895088489,
           0.0867037282603152,
           0.030601315856581834,
           0.010200438618860611,
           0.05100219309430305,
           0.025501096547151526,
           0.010200438618860611,
           0.49982149232416995,
           0.28561228132809713,
           0.005100219309430306,
           0.3468149130412608
          ],
          [
           0.08160350895088489,
           0.06120263171316367,
           0.2601111847809456,
           0.06630285102259396,
           0.4080175447544244,
           0.4947212730147396,
           0.26521140409037586,
           0.5814250012750548,
           0.06630285102259396,
           0.2907125006375274,
           0.05100219309430305,
           0.14280614066404856,
           0.9996429846483399,
           0.16320701790176978,
           0.9486407915540368
          ],
          [
           0.040801754475442445,
           0.010200438618860611,
           0.1887081144489213,
           0.07140307033202428,
           0.15300657928290917,
           0.40291732544499415,
           0.2550109654715153,
           0.6018258785127761,
           0.030601315856581834,
           0.13770592135461823,
           0.010200438618860611,
           0.03570153516601214,
           0.367215790278982,
           0.6324271943693579,
           0.7446320191768246
          ],
          [
           0.04590197378487275,
           0.13770592135461823,
           0.30091293925638807,
           0.183607895139491,
           2.3920028561228133,
           1.519865354210231,
           0.9690416687917581,
           1.3005559239047277,
           0.40291732544499415,
           0.3774162288978426,
           0.16830723721120008,
           0.1938083337583516,
           0.7599326771051155,
           0.22440964961493343,
           12.04161778956495
          ]
         ],
         "zmax": 11.624841487018621,
         "zmin": 0
        }
       ],
       "layout": {
        "font": {
         "size": 18
        },
        "height": 800,
        "template": {
         "data": {
          "bar": [
           {
            "error_x": {
             "color": "#2a3f5f"
            },
            "error_y": {
             "color": "#2a3f5f"
            },
            "marker": {
             "line": {
              "color": "#E5ECF6",
              "width": 0.5
             },
             "pattern": {
              "fillmode": "overlay",
              "size": 10,
              "solidity": 0.2
             }
            },
            "type": "bar"
           }
          ],
          "barpolar": [
           {
            "marker": {
             "line": {
              "color": "#E5ECF6",
              "width": 0.5
             },
             "pattern": {
              "fillmode": "overlay",
              "size": 10,
              "solidity": 0.2
             }
            },
            "type": "barpolar"
           }
          ],
          "carpet": [
           {
            "aaxis": {
             "endlinecolor": "#2a3f5f",
             "gridcolor": "white",
             "linecolor": "white",
             "minorgridcolor": "white",
             "startlinecolor": "#2a3f5f"
            },
            "baxis": {
             "endlinecolor": "#2a3f5f",
             "gridcolor": "white",
             "linecolor": "white",
             "minorgridcolor": "white",
             "startlinecolor": "#2a3f5f"
            },
            "type": "carpet"
           }
          ],
          "choropleth": [
           {
            "colorbar": {
             "outlinewidth": 0,
             "ticks": ""
            },
            "type": "choropleth"
           }
          ],
          "contour": [
           {
            "colorbar": {
             "outlinewidth": 0,
             "ticks": ""
            },
            "colorscale": [
             [
              0,
              "#0d0887"
             ],
             [
              0.1111111111111111,
              "#46039f"
             ],
             [
              0.2222222222222222,
              "#7201a8"
             ],
             [
              0.3333333333333333,
              "#9c179e"
             ],
             [
              0.4444444444444444,
              "#bd3786"
             ],
             [
              0.5555555555555556,
              "#d8576b"
             ],
             [
              0.6666666666666666,
              "#ed7953"
             ],
             [
              0.7777777777777778,
              "#fb9f3a"
             ],
             [
              0.8888888888888888,
              "#fdca26"
             ],
             [
              1,
              "#f0f921"
             ]
            ],
            "type": "contour"
           }
          ],
          "contourcarpet": [
           {
            "colorbar": {
             "outlinewidth": 0,
             "ticks": ""
            },
            "type": "contourcarpet"
           }
          ],
          "heatmap": [
           {
            "colorbar": {
             "outlinewidth": 0,
             "ticks": ""
            },
            "colorscale": [
             [
              0,
              "#0d0887"
             ],
             [
              0.1111111111111111,
              "#46039f"
             ],
             [
              0.2222222222222222,
              "#7201a8"
             ],
             [
              0.3333333333333333,
              "#9c179e"
             ],
             [
              0.4444444444444444,
              "#bd3786"
             ],
             [
              0.5555555555555556,
              "#d8576b"
             ],
             [
              0.6666666666666666,
              "#ed7953"
             ],
             [
              0.7777777777777778,
              "#fb9f3a"
             ],
             [
              0.8888888888888888,
              "#fdca26"
             ],
             [
              1,
              "#f0f921"
             ]
            ],
            "type": "heatmap"
           }
          ],
          "heatmapgl": [
           {
            "colorbar": {
             "outlinewidth": 0,
             "ticks": ""
            },
            "colorscale": [
             [
              0,
              "#0d0887"
             ],
             [
              0.1111111111111111,
              "#46039f"
             ],
             [
              0.2222222222222222,
              "#7201a8"
             ],
             [
              0.3333333333333333,
              "#9c179e"
             ],
             [
              0.4444444444444444,
              "#bd3786"
             ],
             [
              0.5555555555555556,
              "#d8576b"
             ],
             [
              0.6666666666666666,
              "#ed7953"
             ],
             [
              0.7777777777777778,
              "#fb9f3a"
             ],
             [
              0.8888888888888888,
              "#fdca26"
             ],
             [
              1,
              "#f0f921"
             ]
            ],
            "type": "heatmapgl"
           }
          ],
          "histogram": [
           {
            "marker": {
             "pattern": {
              "fillmode": "overlay",
              "size": 10,
              "solidity": 0.2
             }
            },
            "type": "histogram"
           }
          ],
          "histogram2d": [
           {
            "colorbar": {
             "outlinewidth": 0,
             "ticks": ""
            },
            "colorscale": [
             [
              0,
              "#0d0887"
             ],
             [
              0.1111111111111111,
              "#46039f"
             ],
             [
              0.2222222222222222,
              "#7201a8"
             ],
             [
              0.3333333333333333,
              "#9c179e"
             ],
             [
              0.4444444444444444,
              "#bd3786"
             ],
             [
              0.5555555555555556,
              "#d8576b"
             ],
             [
              0.6666666666666666,
              "#ed7953"
             ],
             [
              0.7777777777777778,
              "#fb9f3a"
             ],
             [
              0.8888888888888888,
              "#fdca26"
             ],
             [
              1,
              "#f0f921"
             ]
            ],
            "type": "histogram2d"
           }
          ],
          "histogram2dcontour": [
           {
            "colorbar": {
             "outlinewidth": 0,
             "ticks": ""
            },
            "colorscale": [
             [
              0,
              "#0d0887"
             ],
             [
              0.1111111111111111,
              "#46039f"
             ],
             [
              0.2222222222222222,
              "#7201a8"
             ],
             [
              0.3333333333333333,
              "#9c179e"
             ],
             [
              0.4444444444444444,
              "#bd3786"
             ],
             [
              0.5555555555555556,
              "#d8576b"
             ],
             [
              0.6666666666666666,
              "#ed7953"
             ],
             [
              0.7777777777777778,
              "#fb9f3a"
             ],
             [
              0.8888888888888888,
              "#fdca26"
             ],
             [
              1,
              "#f0f921"
             ]
            ],
            "type": "histogram2dcontour"
           }
          ],
          "mesh3d": [
           {
            "colorbar": {
             "outlinewidth": 0,
             "ticks": ""
            },
            "type": "mesh3d"
           }
          ],
          "parcoords": [
           {
            "line": {
             "colorbar": {
              "outlinewidth": 0,
              "ticks": ""
             }
            },
            "type": "parcoords"
           }
          ],
          "pie": [
           {
            "automargin": true,
            "type": "pie"
           }
          ],
          "scatter": [
           {
            "fillpattern": {
             "fillmode": "overlay",
             "size": 10,
             "solidity": 0.2
            },
            "type": "scatter"
           }
          ],
          "scatter3d": [
           {
            "line": {
             "colorbar": {
              "outlinewidth": 0,
              "ticks": ""
             }
            },
            "marker": {
             "colorbar": {
              "outlinewidth": 0,
              "ticks": ""
             }
            },
            "type": "scatter3d"
           }
          ],
          "scattercarpet": [
           {
            "marker": {
             "colorbar": {
              "outlinewidth": 0,
              "ticks": ""
             }
            },
            "type": "scattercarpet"
           }
          ],
          "scattergeo": [
           {
            "marker": {
             "colorbar": {
              "outlinewidth": 0,
              "ticks": ""
             }
            },
            "type": "scattergeo"
           }
          ],
          "scattergl": [
           {
            "marker": {
             "colorbar": {
              "outlinewidth": 0,
              "ticks": ""
             }
            },
            "type": "scattergl"
           }
          ],
          "scattermapbox": [
           {
            "marker": {
             "colorbar": {
              "outlinewidth": 0,
              "ticks": ""
             }
            },
            "type": "scattermapbox"
           }
          ],
          "scatterpolar": [
           {
            "marker": {
             "colorbar": {
              "outlinewidth": 0,
              "ticks": ""
             }
            },
            "type": "scatterpolar"
           }
          ],
          "scatterpolargl": [
           {
            "marker": {
             "colorbar": {
              "outlinewidth": 0,
              "ticks": ""
             }
            },
            "type": "scatterpolargl"
           }
          ],
          "scatterternary": [
           {
            "marker": {
             "colorbar": {
              "outlinewidth": 0,
              "ticks": ""
             }
            },
            "type": "scatterternary"
           }
          ],
          "surface": [
           {
            "colorbar": {
             "outlinewidth": 0,
             "ticks": ""
            },
            "colorscale": [
             [
              0,
              "#0d0887"
             ],
             [
              0.1111111111111111,
              "#46039f"
             ],
             [
              0.2222222222222222,
              "#7201a8"
             ],
             [
              0.3333333333333333,
              "#9c179e"
             ],
             [
              0.4444444444444444,
              "#bd3786"
             ],
             [
              0.5555555555555556,
              "#d8576b"
             ],
             [
              0.6666666666666666,
              "#ed7953"
             ],
             [
              0.7777777777777778,
              "#fb9f3a"
             ],
             [
              0.8888888888888888,
              "#fdca26"
             ],
             [
              1,
              "#f0f921"
             ]
            ],
            "type": "surface"
           }
          ],
          "table": [
           {
            "cells": {
             "fill": {
              "color": "#EBF0F8"
             },
             "line": {
              "color": "white"
             }
            },
            "header": {
             "fill": {
              "color": "#C8D4E3"
             },
             "line": {
              "color": "white"
             }
            },
            "type": "table"
           }
          ]
         },
         "layout": {
          "annotationdefaults": {
           "arrowcolor": "#2a3f5f",
           "arrowhead": 0,
           "arrowwidth": 1
          },
          "autotypenumbers": "strict",
          "coloraxis": {
           "colorbar": {
            "outlinewidth": 0,
            "ticks": ""
           }
          },
          "colorscale": {
           "diverging": [
            [
             0,
             "#8e0152"
            ],
            [
             0.1,
             "#c51b7d"
            ],
            [
             0.2,
             "#de77ae"
            ],
            [
             0.3,
             "#f1b6da"
            ],
            [
             0.4,
             "#fde0ef"
            ],
            [
             0.5,
             "#f7f7f7"
            ],
            [
             0.6,
             "#e6f5d0"
            ],
            [
             0.7,
             "#b8e186"
            ],
            [
             0.8,
             "#7fbc41"
            ],
            [
             0.9,
             "#4d9221"
            ],
            [
             1,
             "#276419"
            ]
           ],
           "sequential": [
            [
             0,
             "#0d0887"
            ],
            [
             0.1111111111111111,
             "#46039f"
            ],
            [
             0.2222222222222222,
             "#7201a8"
            ],
            [
             0.3333333333333333,
             "#9c179e"
            ],
            [
             0.4444444444444444,
             "#bd3786"
            ],
            [
             0.5555555555555556,
             "#d8576b"
            ],
            [
             0.6666666666666666,
             "#ed7953"
            ],
            [
             0.7777777777777778,
             "#fb9f3a"
            ],
            [
             0.8888888888888888,
             "#fdca26"
            ],
            [
             1,
             "#f0f921"
            ]
           ],
           "sequentialminus": [
            [
             0,
             "#0d0887"
            ],
            [
             0.1111111111111111,
             "#46039f"
            ],
            [
             0.2222222222222222,
             "#7201a8"
            ],
            [
             0.3333333333333333,
             "#9c179e"
            ],
            [
             0.4444444444444444,
             "#bd3786"
            ],
            [
             0.5555555555555556,
             "#d8576b"
            ],
            [
             0.6666666666666666,
             "#ed7953"
            ],
            [
             0.7777777777777778,
             "#fb9f3a"
            ],
            [
             0.8888888888888888,
             "#fdca26"
            ],
            [
             1,
             "#f0f921"
            ]
           ]
          },
          "colorway": [
           "#636efa",
           "#EF553B",
           "#00cc96",
           "#ab63fa",
           "#FFA15A",
           "#19d3f3",
           "#FF6692",
           "#B6E880",
           "#FF97FF",
           "#FECB52"
          ],
          "font": {
           "color": "#2a3f5f"
          },
          "geo": {
           "bgcolor": "white",
           "lakecolor": "white",
           "landcolor": "#E5ECF6",
           "showlakes": true,
           "showland": true,
           "subunitcolor": "white"
          },
          "hoverlabel": {
           "align": "left"
          },
          "hovermode": "closest",
          "mapbox": {
           "style": "light"
          },
          "paper_bgcolor": "white",
          "plot_bgcolor": "#E5ECF6",
          "polar": {
           "angularaxis": {
            "gridcolor": "white",
            "linecolor": "white",
            "ticks": ""
           },
           "bgcolor": "#E5ECF6",
           "radialaxis": {
            "gridcolor": "white",
            "linecolor": "white",
            "ticks": ""
           }
          },
          "scene": {
           "xaxis": {
            "backgroundcolor": "#E5ECF6",
            "gridcolor": "white",
            "gridwidth": 2,
            "linecolor": "white",
            "showbackground": true,
            "ticks": "",
            "zerolinecolor": "white"
           },
           "yaxis": {
            "backgroundcolor": "#E5ECF6",
            "gridcolor": "white",
            "gridwidth": 2,
            "linecolor": "white",
            "showbackground": true,
            "ticks": "",
            "zerolinecolor": "white"
           },
           "zaxis": {
            "backgroundcolor": "#E5ECF6",
            "gridcolor": "white",
            "gridwidth": 2,
            "linecolor": "white",
            "showbackground": true,
            "ticks": "",
            "zerolinecolor": "white"
           }
          },
          "shapedefaults": {
           "line": {
            "color": "#2a3f5f"
           }
          },
          "ternary": {
           "aaxis": {
            "gridcolor": "white",
            "linecolor": "white",
            "ticks": ""
           },
           "baxis": {
            "gridcolor": "white",
            "linecolor": "white",
            "ticks": ""
           },
           "bgcolor": "#E5ECF6",
           "caxis": {
            "gridcolor": "white",
            "linecolor": "white",
            "ticks": ""
           }
          },
          "title": {
           "x": 0.05
          },
          "xaxis": {
           "automargin": true,
           "gridcolor": "white",
           "linecolor": "white",
           "ticks": "",
           "title": {
            "standoff": 15
           },
           "zerolinecolor": "white",
           "zerolinewidth": 2
          },
          "yaxis": {
           "automargin": true,
           "gridcolor": "white",
           "linecolor": "white",
           "ticks": "",
           "title": {
            "standoff": 15
           },
           "zerolinecolor": "white",
           "zerolinewidth": 2
          }
         }
        },
        "title": {
         "text": "Categories of end and target articles for unfinished paths",
         "x": 0.5,
         "xanchor": "center"
        },
        "width": 800,
        "xaxis": {
         "title": {
          "text": "Target article category"
         }
        },
        "yaxis": {
         "scaleanchor": "x",
         "title": {
          "text": "End article category"
         }
        }
       }
      }
     },
     "metadata": {},
     "output_type": "display_data"
    }
   ],
   "source": [
    "distrib_f, tot_links_f = get_sankey_data(path_finished, categories, 'f')\n",
    "distrib_unf, tot_links_unf = get_sankey_data(path_unfinished, categories, 'unf')\n",
    "distrib_unf_start2end, distrib_unf_end2target, tot_links_start2end, tot_links_end2target = get_multistep_sankey_data(path_unfinished, categories)\n",
    "\n",
    "global_min = min(np.min(distrib_links), np.min(distrib_f), np.min(distrib_unf), np.min(distrib_unf_start2end)) * 100\n",
    "global_max = max(np.max(distrib_links), np.max(distrib_f), np.max(distrib_unf), np.max(distrib_unf_start2end)) * 100\n",
    "\n",
    "\n",
    "all_to_cat_f, cat_to_all_f = plot_heatmap(distrib_f.reshape(15, 15), cats, tot_links_f, 'f', vmin=global_min, vmax=global_max, gamma=0.45, stats=True)\n",
    "all_to_cat_unf, cat_to_all_unf = plot_heatmap(distrib_unf.reshape(15, 15), cats, tot_links_unf, 'unf', vmin=global_min, vmax=global_max, gamma=0.45, stats=True)\n",
    "plot_heatmap(distrib_unf.reshape(15, 15), cats, tot_links_unf, 'unf', vmin=global_min, vmax=global_max, gamma=0.45)\n",
    "plot_heatmap(distrib_unf_start2end.reshape(15, 15), cats, tot_links_unf, 'unf_start', vmin=global_min, vmax=global_max, gamma=0.45)\n",
    "plot_heatmap(distrib_unf_end2target.reshape(15, 15), cats, tot_links_unf, 'unf_target', vmin=global_min, vmax=global_max, gamma=0.45)"
   ]
  },
  {
   "cell_type": "code",
   "execution_count": 17,
   "metadata": {},
   "outputs": [
    {
     "name": "stdout",
     "output_type": "stream",
     "text": [
      "{'Art': 0.6380612304630335, 'Business_Studies': 1.406856719155496, 'Citizenship': 3.4576284415305665, 'Countries': 8.103572752639078, 'Design_and_Technology': 4.958145524790728, 'Everyday_life': 6.51524907803079, 'Geography': 16.950574645358934, 'History': 9.586528517629613, 'IT': 2.620538937345119, 'Language_and_literature': 2.499560967043259, 'Mathematics': 1.0536790961774865, 'Music': 1.836133387968546, 'People': 9.668481336221195, 'Religion': 3.4673847294581357, 'Science': 27.23760463618802}\n",
      "{'Art': 0.6681287295353701, 'Business_Studies': 1.820778293466619, 'Citizenship': 4.069975008925383, 'Countries': 2.065588820319274, 'Design_and_Technology': 8.083847605447033, 'Everyday_life': 10.766562962207374, 'Geography': 10.567654409139593, 'History': 9.603712959657265, 'IT': 2.5603100933340133, 'Language_and_literature': 3.7996633855255775, 'Mathematics': 0.7803335543428367, 'Music': 2.443005049217116, 'People': 8.991686642525629, 'Religion': 2.233896057530474, 'Science': 31.544856428826442}\n"
     ]
    }
   ],
   "source": [
    "print(all_to_cat_f)\n",
    "print(all_to_cat_unf)"
   ]
  },
  {
   "cell_type": "code",
   "execution_count": 18,
   "metadata": {},
   "outputs": [
    {
     "name": "stdout",
     "output_type": "stream",
     "text": [
      "{'Art': 0.7766005190345178, 'Business_Studies': 1.633202599075104, 'Citizenship': 3.547386290464204, 'Countries': 5.633280649378525, 'Design_and_Technology': 4.854728872758493, 'Everyday_life': 9.522137017307655, 'Geography': 14.556381587933423, 'History': 7.746492614490038, 'IT': 2.3434603602021506, 'Language_and_literature': 4.915217857909423, 'Mathematics': 1.160998263380749, 'Music': 1.806864524185838, 'People': 9.321157485999727, 'Religion': 2.866397393119865, 'Science': 29.315693964760285}\n",
      "{'Art': 0.8211353088182791, 'Business_Studies': 1.5147651349008004, 'Citizenship': 3.2896414545825468, 'Countries': 5.1665221604528995, 'Design_and_Technology': 7.99714387718672, 'Everyday_life': 8.721375019125823, 'Geography': 13.270770643137656, 'History': 7.2066098842250215, 'IT': 2.17269342581731, 'Language_and_literature': 6.803692558780027, 'Mathematics': 1.2444535115009945, 'Music': 1.6575712755648493, 'People': 8.323557912990259, 'Religion': 2.805120620186668, 'Science': 29.004947212730144}\n"
     ]
    }
   ],
   "source": [
    "print(cat_to_all_f)\n",
    "print(cat_to_all_unf)"
   ]
  },
  {
   "cell_type": "markdown",
   "metadata": {},
   "source": [
    "We can see differences between the proportions. But are they significiant?"
   ]
  },
  {
   "cell_type": "code",
   "execution_count": 19,
   "metadata": {},
   "outputs": [
    {
     "name": "stdout",
     "output_type": "stream",
     "text": [
      "(0.0, 2953.306794291134)\n",
      "(0.0, 4383.703330901606)\n",
      "(0.0, 10132.941451042401)\n",
      "(0.0, 8204.090707335448)\n",
      "(0.0, 207557.75636787878)\n",
      "(0.0, 39997.7909730497)\n"
     ]
    }
   ],
   "source": [
    "# NEXTSTEP:: check one more time that we use the right statistical test\n",
    "\n",
    "from scipy.stats import ttest_ind\n",
    "from scipy.stats import chi2_contingency\n",
    "from scipy.stats import f_oneway\n",
    "# from scipy.stats import bartlett\n",
    "# predictor: categorical, 2 of them: start and end\n",
    "# outcome: continuous (in N)\n",
    "# ==> anova\n",
    "# Null hypothesis: the distributions are different.\n",
    "# Alternative hypothesis: the distributions are identic.\n",
    "\n",
    "f_oneway(distrib_f, distrib_unf)\n",
    "# p-value = 1 >>>> 0.05 ==> can't say it's different \n",
    "\n",
    "\n",
    "print(chi2_contingency_test(distrib_f*tot_links_f, distrib_unf*tot_links_unf))\n",
    "print(chi2_contingency_test(distrib_f*tot_links_f, distrib_unf_start2end*tot_links_start2end))\n",
    "print(chi2_contingency_test(distrib_f*tot_links_f, distrib_unf_end2target*tot_links_end2target))\n",
    "print(chi2_contingency_test(distrib_unf_start2end*tot_links_start2end, distrib_unf_end2target*tot_links_end2target))\n",
    "print(chi2_contingency_test(np.array(list(all_to_cat_f.values()))*tot_links_f, np.array(list(all_to_cat_unf.values()))*tot_links_unf))\n",
    "print(chi2_contingency_test(np.array(list(cat_to_all_f.values()))*tot_links_f, np.array(list(cat_to_all_unf.values()))*tot_links_unf))"
   ]
  },
  {
   "cell_type": "markdown",
   "metadata": {},
   "source": [
    "We can not say that the distribution of categories are different.\n",
    "\n",
    "Some paths are really short: it seems like the player didn't even try to play... Let's remove the paths with a length smaller or equal to 3 (i.e. the player clicked on 2 links at most). Does it change something? "
   ]
  },
  {
   "cell_type": "code",
   "execution_count": 20,
   "metadata": {},
   "outputs": [
    {
     "data": {
      "text/html": [
       "<div>\n",
       "<style scoped>\n",
       "    .dataframe tbody tr th:only-of-type {\n",
       "        vertical-align: middle;\n",
       "    }\n",
       "\n",
       "    .dataframe tbody tr th {\n",
       "        vertical-align: top;\n",
       "    }\n",
       "\n",
       "    .dataframe thead th {\n",
       "        text-align: right;\n",
       "    }\n",
       "</style>\n",
       "<table border=\"1\" class=\"dataframe\">\n",
       "  <thead>\n",
       "    <tr style=\"text-align: right;\">\n",
       "      <th></th>\n",
       "      <th>hashedIpAddress</th>\n",
       "      <th>timestamp</th>\n",
       "      <th>durationInSec</th>\n",
       "      <th>path</th>\n",
       "      <th>target</th>\n",
       "      <th>type</th>\n",
       "      <th>start</th>\n",
       "      <th>end</th>\n",
       "      <th>catSource</th>\n",
       "      <th>catTarget</th>\n",
       "      <th>catEnd</th>\n",
       "      <th>length</th>\n",
       "    </tr>\n",
       "  </thead>\n",
       "  <tbody>\n",
       "    <tr>\n",
       "      <th>5</th>\n",
       "      <td>131600803df4895e</td>\n",
       "      <td>1297100557</td>\n",
       "      <td>2009</td>\n",
       "      <td>[Agriculture, History_of_the_world, China, Yan...</td>\n",
       "      <td>Grand_Canal_of_China</td>\n",
       "      <td>timeout</td>\n",
       "      <td>Agriculture</td>\n",
       "      <td>Yangtze_River</td>\n",
       "      <td>Everyday_life</td>\n",
       "      <td>Geography</td>\n",
       "      <td>Geography</td>\n",
       "      <td>4</td>\n",
       "    </tr>\n",
       "    <tr>\n",
       "      <th>6</th>\n",
       "      <td>486bb79910fe9dd2</td>\n",
       "      <td>1297101660</td>\n",
       "      <td>1932</td>\n",
       "      <td>[Mind, Christianity, Europe, Renaissance, Anci...</td>\n",
       "      <td>Scouting</td>\n",
       "      <td>timeout</td>\n",
       "      <td>Mind</td>\n",
       "      <td>Asia</td>\n",
       "      <td>Religion</td>\n",
       "      <td>Citizenship</td>\n",
       "      <td>Geography</td>\n",
       "      <td>7</td>\n",
       "    </tr>\n",
       "    <tr>\n",
       "      <th>7</th>\n",
       "      <td>6d136e371e42474f</td>\n",
       "      <td>1297102070</td>\n",
       "      <td>175</td>\n",
       "      <td>[4-2-0, United_States, Agriculture, Sugar, Aus...</td>\n",
       "      <td>Cane_Toad</td>\n",
       "      <td>restart</td>\n",
       "      <td>4-2-0</td>\n",
       "      <td>Australia</td>\n",
       "      <td>Design_and_Technology</td>\n",
       "      <td>Science</td>\n",
       "      <td>Countries</td>\n",
       "      <td>5</td>\n",
       "    </tr>\n",
       "    <tr>\n",
       "      <th>9</th>\n",
       "      <td>6d136e371e42474f</td>\n",
       "      <td>1297104110</td>\n",
       "      <td>2006</td>\n",
       "      <td>[Logic, Computer_science, Science, Physical_sc...</td>\n",
       "      <td>Moon_landing</td>\n",
       "      <td>timeout</td>\n",
       "      <td>Logic</td>\n",
       "      <td>Neil_Armstrong</td>\n",
       "      <td>Religion</td>\n",
       "      <td>Science</td>\n",
       "      <td>People</td>\n",
       "      <td>9</td>\n",
       "    </tr>\n",
       "    <tr>\n",
       "      <th>10</th>\n",
       "      <td>430ca00e7f5303b7</td>\n",
       "      <td>1297126187</td>\n",
       "      <td>1976</td>\n",
       "      <td>[Battle_of_Gettysburg, Washington%2C_D.C., Uni...</td>\n",
       "      <td>Ostrich</td>\n",
       "      <td>timeout</td>\n",
       "      <td>Battle_of_Gettysburg</td>\n",
       "      <td>Animal</td>\n",
       "      <td>History</td>\n",
       "      <td>Science</td>\n",
       "      <td>Science</td>\n",
       "      <td>7</td>\n",
       "    </tr>\n",
       "    <tr>\n",
       "      <th>...</th>\n",
       "      <td>...</td>\n",
       "      <td>...</td>\n",
       "      <td>...</td>\n",
       "      <td>...</td>\n",
       "      <td>...</td>\n",
       "      <td>...</td>\n",
       "      <td>...</td>\n",
       "      <td>...</td>\n",
       "      <td>...</td>\n",
       "      <td>...</td>\n",
       "      <td>...</td>\n",
       "      <td>...</td>\n",
       "    </tr>\n",
       "    <tr>\n",
       "      <th>24869</th>\n",
       "      <td>109ed71f571d86e9</td>\n",
       "      <td>1389787212</td>\n",
       "      <td>182</td>\n",
       "      <td>[Turks_and_Caicos_Islands, United_States, Iraq...</td>\n",
       "      <td>Iraq_War</td>\n",
       "      <td>restart</td>\n",
       "      <td>Turks_and_Caicos_Islands</td>\n",
       "      <td>War</td>\n",
       "      <td>Countries</td>\n",
       "      <td>History</td>\n",
       "      <td>History</td>\n",
       "      <td>6</td>\n",
       "    </tr>\n",
       "    <tr>\n",
       "      <th>24870</th>\n",
       "      <td>109ed71f571d86e9</td>\n",
       "      <td>1389787605</td>\n",
       "      <td>180</td>\n",
       "      <td>[Franz_Kafka, Tuberculosis, World_Health_Organ...</td>\n",
       "      <td>Cholera</td>\n",
       "      <td>restart</td>\n",
       "      <td>Franz_Kafka</td>\n",
       "      <td>Ghana</td>\n",
       "      <td>People</td>\n",
       "      <td>Science</td>\n",
       "      <td>Countries</td>\n",
       "      <td>8</td>\n",
       "    </tr>\n",
       "    <tr>\n",
       "      <th>24872</th>\n",
       "      <td>2e09a7224600a7cd</td>\n",
       "      <td>1389798400</td>\n",
       "      <td>1900</td>\n",
       "      <td>[Computer_programming, Linguistics, Culture, P...</td>\n",
       "      <td>The_Beatles</td>\n",
       "      <td>timeout</td>\n",
       "      <td>Computer_programming</td>\n",
       "      <td>Popular_culture</td>\n",
       "      <td>IT</td>\n",
       "      <td>Music</td>\n",
       "      <td>Everyday_life</td>\n",
       "      <td>5</td>\n",
       "    </tr>\n",
       "    <tr>\n",
       "      <th>24873</th>\n",
       "      <td>60af9e2138051b96</td>\n",
       "      <td>1389799481</td>\n",
       "      <td>1903</td>\n",
       "      <td>[Jamaica, United_Kingdom, World_War_II, Battle...</td>\n",
       "      <td>Alan_Turing</td>\n",
       "      <td>timeout</td>\n",
       "      <td>Jamaica</td>\n",
       "      <td>Battle_of_Midway</td>\n",
       "      <td>Countries</td>\n",
       "      <td>People</td>\n",
       "      <td>History</td>\n",
       "      <td>4</td>\n",
       "    </tr>\n",
       "    <tr>\n",
       "      <th>24874</th>\n",
       "      <td>1cf0cbb3281049ab</td>\n",
       "      <td>1389822841</td>\n",
       "      <td>352</td>\n",
       "      <td>[Mark_Antony, Rome, Tennis, Hawk-Eye, Computer]</td>\n",
       "      <td>Feather</td>\n",
       "      <td>restart</td>\n",
       "      <td>Mark_Antony</td>\n",
       "      <td>Computer</td>\n",
       "      <td>People</td>\n",
       "      <td>Science</td>\n",
       "      <td>IT</td>\n",
       "      <td>5</td>\n",
       "    </tr>\n",
       "  </tbody>\n",
       "</table>\n",
       "<p>13234 rows × 12 columns</p>\n",
       "</div>"
      ],
      "text/plain": [
       "        hashedIpAddress   timestamp  durationInSec  \\\n",
       "5      131600803df4895e  1297100557           2009   \n",
       "6      486bb79910fe9dd2  1297101660           1932   \n",
       "7      6d136e371e42474f  1297102070            175   \n",
       "9      6d136e371e42474f  1297104110           2006   \n",
       "10     430ca00e7f5303b7  1297126187           1976   \n",
       "...                 ...         ...            ...   \n",
       "24869  109ed71f571d86e9  1389787212            182   \n",
       "24870  109ed71f571d86e9  1389787605            180   \n",
       "24872  2e09a7224600a7cd  1389798400           1900   \n",
       "24873  60af9e2138051b96  1389799481           1903   \n",
       "24874  1cf0cbb3281049ab  1389822841            352   \n",
       "\n",
       "                                                    path  \\\n",
       "5      [Agriculture, History_of_the_world, China, Yan...   \n",
       "6      [Mind, Christianity, Europe, Renaissance, Anci...   \n",
       "7      [4-2-0, United_States, Agriculture, Sugar, Aus...   \n",
       "9      [Logic, Computer_science, Science, Physical_sc...   \n",
       "10     [Battle_of_Gettysburg, Washington%2C_D.C., Uni...   \n",
       "...                                                  ...   \n",
       "24869  [Turks_and_Caicos_Islands, United_States, Iraq...   \n",
       "24870  [Franz_Kafka, Tuberculosis, World_Health_Organ...   \n",
       "24872  [Computer_programming, Linguistics, Culture, P...   \n",
       "24873  [Jamaica, United_Kingdom, World_War_II, Battle...   \n",
       "24874    [Mark_Antony, Rome, Tennis, Hawk-Eye, Computer]   \n",
       "\n",
       "                     target     type                     start  \\\n",
       "5      Grand_Canal_of_China  timeout               Agriculture   \n",
       "6                  Scouting  timeout                      Mind   \n",
       "7                 Cane_Toad  restart                     4-2-0   \n",
       "9              Moon_landing  timeout                     Logic   \n",
       "10                  Ostrich  timeout      Battle_of_Gettysburg   \n",
       "...                     ...      ...                       ...   \n",
       "24869              Iraq_War  restart  Turks_and_Caicos_Islands   \n",
       "24870               Cholera  restart               Franz_Kafka   \n",
       "24872           The_Beatles  timeout      Computer_programming   \n",
       "24873           Alan_Turing  timeout                   Jamaica   \n",
       "24874               Feather  restart               Mark_Antony   \n",
       "\n",
       "                    end              catSource    catTarget         catEnd  \\\n",
       "5         Yangtze_River          Everyday_life    Geography      Geography   \n",
       "6                  Asia               Religion  Citizenship      Geography   \n",
       "7             Australia  Design_and_Technology      Science      Countries   \n",
       "9        Neil_Armstrong               Religion      Science         People   \n",
       "10               Animal                History      Science        Science   \n",
       "...                 ...                    ...          ...            ...   \n",
       "24869               War              Countries      History        History   \n",
       "24870             Ghana                 People      Science      Countries   \n",
       "24872   Popular_culture                     IT        Music  Everyday_life   \n",
       "24873  Battle_of_Midway              Countries       People        History   \n",
       "24874          Computer                 People      Science             IT   \n",
       "\n",
       "       length  \n",
       "5           4  \n",
       "6           7  \n",
       "7           5  \n",
       "9           9  \n",
       "10          7  \n",
       "...       ...  \n",
       "24869       6  \n",
       "24870       8  \n",
       "24872       5  \n",
       "24873       4  \n",
       "24874       5  \n",
       "\n",
       "[13234 rows x 12 columns]"
      ]
     },
     "execution_count": 20,
     "metadata": {},
     "output_type": "execute_result"
    }
   ],
   "source": [
    "path_unfinished_trunc = path_unfinished.copy(deep=True)\n",
    "path_unfinished_trunc = path_unfinished_trunc.loc[path_unfinished_trunc.path.map(lambda x: len(x)>=4)]\n",
    "path_unfinished_trunc\n"
   ]
  },
  {
   "cell_type": "markdown",
   "metadata": {},
   "source": [
    "We got rid of roughly 10 000 paths! "
   ]
  },
  {
   "cell_type": "code",
   "execution_count": 21,
   "metadata": {},
   "outputs": [
    {
     "data": {
      "application/vnd.plotly.v1+json": {
       "config": {
        "plotlyServerURL": "https://plot.ly"
       },
       "data": [
        {
         "colorscale": [
          [
           0,
           "rgb(12, 7, 134)"
          ],
          [
           0.010101010101010102,
           "rgb(76, 2, 161)"
          ],
          [
           0.020202020202020204,
           "rgb(95, 0, 166)"
          ],
          [
           0.030303030303030304,
           "rgb(109, 0, 168)"
          ],
          [
           0.04040404040404041,
           "rgb(120, 1, 168)"
          ],
          [
           0.050505050505050504,
           "rgb(129, 4, 167)"
          ],
          [
           0.06060606060606061,
           "rgb(137, 8, 165)"
          ],
          [
           0.0707070707070707,
           "rgb(144, 14, 163)"
          ],
          [
           0.08080808080808081,
           "rgb(151, 19, 160)"
          ],
          [
           0.09090909090909091,
           "rgb(158, 25, 156)"
          ],
          [
           0.10101010101010101,
           "rgb(163, 29, 153)"
          ],
          [
           0.1111111111111111,
           "rgb(168, 34, 150)"
          ],
          [
           0.12121212121212122,
           "rgb(173, 38, 146)"
          ],
          [
           0.13131313131313133,
           "rgb(176, 42, 143)"
          ],
          [
           0.1414141414141414,
           "rgb(181, 46, 140)"
          ],
          [
           0.15151515151515152,
           "rgb(184, 50, 137)"
          ],
          [
           0.16161616161616163,
           "rgb(187, 53, 134)"
          ],
          [
           0.1717171717171717,
           "rgb(190, 56, 131)"
          ],
          [
           0.18181818181818182,
           "rgb(193, 60, 128)"
          ],
          [
           0.1919191919191919,
           "rgb(196, 63, 126)"
          ],
          [
           0.20202020202020202,
           "rgb(199, 66, 123)"
          ],
          [
           0.21212121212121213,
           "rgb(202, 70, 120)"
          ],
          [
           0.2222222222222222,
           "rgb(205, 73, 117)"
          ],
          [
           0.23232323232323232,
           "rgb(207, 75, 116)"
          ],
          [
           0.24242424242424243,
           "rgb(209, 79, 113)"
          ],
          [
           0.25252525252525254,
           "rgb(211, 81, 111)"
          ],
          [
           0.26262626262626265,
           "rgb(214, 85, 109)"
          ],
          [
           0.2727272727272727,
           "rgb(215, 87, 107)"
          ],
          [
           0.2828282828282828,
           "rgb(218, 90, 104)"
          ],
          [
           0.29292929292929293,
           "rgb(220, 93, 102)"
          ],
          [
           0.30303030303030304,
           "rgb(221, 95, 101)"
          ],
          [
           0.31313131313131315,
           "rgb(223, 97, 99)"
          ],
          [
           0.32323232323232326,
           "rgb(225, 101, 96)"
          ],
          [
           0.3333333333333333,
           "rgb(227, 103, 95)"
          ],
          [
           0.3434343434343434,
           "rgb(228, 106, 93)"
          ],
          [
           0.35353535353535354,
           "rgb(229, 108, 91)"
          ],
          [
           0.36363636363636365,
           "rgb(231, 110, 90)"
          ],
          [
           0.37373737373737376,
           "rgb(232, 113, 88)"
          ],
          [
           0.3838383838383838,
           "rgb(234, 115, 86)"
          ],
          [
           0.3939393939393939,
           "rgb(235, 118, 84)"
          ],
          [
           0.40404040404040403,
           "rgb(236, 120, 83)"
          ],
          [
           0.41414141414141414,
           "rgb(237, 123, 81)"
          ],
          [
           0.42424242424242425,
           "rgb(239, 125, 79)"
          ],
          [
           0.43434343434343436,
           "rgb(239, 126, 78)"
          ],
          [
           0.4444444444444444,
           "rgb(240, 129, 77)"
          ],
          [
           0.45454545454545453,
           "rgb(242, 132, 75)"
          ],
          [
           0.46464646464646464,
           "rgb(243, 134, 73)"
          ],
          [
           0.47474747474747475,
           "rgb(244, 137, 71)"
          ],
          [
           0.48484848484848486,
           "rgb(244, 138, 71)"
          ],
          [
           0.494949494949495,
           "rgb(245, 141, 69)"
          ],
          [
           0.5050505050505051,
           "rgb(246, 143, 67)"
          ],
          [
           0.5151515151515151,
           "rgb(246, 145, 66)"
          ],
          [
           0.5252525252525253,
           "rgb(247, 147, 65)"
          ],
          [
           0.5353535353535354,
           "rgb(248, 150, 63)"
          ],
          [
           0.5454545454545454,
           "rgb(248, 152, 62)"
          ],
          [
           0.5555555555555556,
           "rgb(249, 154, 60)"
          ],
          [
           0.5656565656565656,
           "rgb(250, 157, 58)"
          ],
          [
           0.5757575757575758,
           "rgb(250, 159, 58)"
          ],
          [
           0.5858585858585859,
           "rgb(251, 162, 56)"
          ],
          [
           0.5959595959595959,
           "rgb(251, 163, 55)"
          ],
          [
           0.6060606060606061,
           "rgb(252, 166, 53)"
          ],
          [
           0.6161616161616161,
           "rgb(252, 167, 53)"
          ],
          [
           0.6262626262626263,
           "rgb(252, 170, 51)"
          ],
          [
           0.6363636363636364,
           "rgb(252, 172, 50)"
          ],
          [
           0.6464646464646465,
           "rgb(253, 175, 49)"
          ],
          [
           0.6565656565656566,
           "rgb(253, 176, 48)"
          ],
          [
           0.6666666666666666,
           "rgb(253, 179, 46)"
          ],
          [
           0.6767676767676768,
           "rgb(253, 181, 45)"
          ],
          [
           0.6868686868686869,
           "rgb(253, 184, 44)"
          ],
          [
           0.696969696969697,
           "rgb(253, 185, 43)"
          ],
          [
           0.7070707070707071,
           "rgb(253, 188, 42)"
          ],
          [
           0.7171717171717171,
           "rgb(253, 190, 41)"
          ],
          [
           0.7272727272727273,
           "rgb(253, 192, 41)"
          ],
          [
           0.7373737373737373,
           "rgb(253, 195, 40)"
          ],
          [
           0.7474747474747475,
           "rgb(253, 196, 39)"
          ],
          [
           0.7575757575757576,
           "rgb(253, 198, 38)"
          ],
          [
           0.7676767676767676,
           "rgb(252, 201, 38)"
          ],
          [
           0.7777777777777778,
           "rgb(252, 203, 37)"
          ],
          [
           0.7878787878787878,
           "rgb(252, 204, 37)"
          ],
          [
           0.797979797979798,
           "rgb(251, 208, 36)"
          ],
          [
           0.8080808080808081,
           "rgb(251, 209, 36)"
          ],
          [
           0.8181818181818182,
           "rgb(251, 211, 36)"
          ],
          [
           0.8282828282828283,
           "rgb(250, 214, 36)"
          ],
          [
           0.8383838383838383,
           "rgb(250, 216, 36)"
          ],
          [
           0.8484848484848485,
           "rgb(249, 217, 36)"
          ],
          [
           0.8585858585858586,
           "rgb(248, 221, 36)"
          ],
          [
           0.8686868686868687,
           "rgb(248, 223, 36)"
          ],
          [
           0.8787878787878788,
           "rgb(247, 224, 36)"
          ],
          [
           0.8888888888888888,
           "rgb(247, 226, 37)"
          ],
          [
           0.898989898989899,
           "rgb(246, 229, 37)"
          ],
          [
           0.9090909090909091,
           "rgb(245, 231, 38)"
          ],
          [
           0.9191919191919192,
           "rgb(245, 233, 38)"
          ],
          [
           0.9292929292929293,
           "rgb(244, 234, 38)"
          ],
          [
           0.9393939393939394,
           "rgb(243, 236, 38)"
          ],
          [
           0.9494949494949495,
           "rgb(242, 240, 38)"
          ],
          [
           0.9595959595959596,
           "rgb(242, 241, 38)"
          ],
          [
           0.9696969696969697,
           "rgb(241, 243, 38)"
          ],
          [
           0.9797979797979798,
           "rgb(240, 245, 37)"
          ],
          [
           0.98989898989899,
           "rgb(240, 246, 35)"
          ],
          [
           1,
           "rgb(239, 248, 33)"
          ]
         ],
         "customdata": [
          [
           [
            1,
            0.6681287295353701,
            131,
            0.8211353088182791,
            161
           ],
           [
            2,
            1.820778293466619,
            357,
            0.8211353088182791,
            161
           ],
           [
            3,
            4.069975008925383,
            798,
            0.8211353088182791,
            161
           ],
           [
            4,
            2.065588820319274,
            405,
            0.8211353088182791,
            161
           ],
           [
            9,
            8.083847605447033,
            1585,
            0.8211353088182791,
            161
           ],
           [
            23,
            10.766562962207374,
            2111,
            0.8211353088182791,
            161
           ],
           [
            19,
            10.567654409139593,
            2072,
            0.8211353088182791,
            161
           ],
           [
            2,
            9.603712959657265,
            1883,
            0.8211353088182791,
            161
           ],
           [
            3,
            2.5603100933340133,
            502,
            0.8211353088182791,
            161
           ],
           [
            4,
            3.7996633855255775,
            745,
            0.8211353088182791,
            161
           ],
           [
            1,
            0.7803335543428367,
            153,
            0.8211353088182791,
            161
           ],
           [
            8,
            2.443005049217116,
            479,
            0.8211353088182791,
            161
           ],
           [
            16,
            8.991686642525629,
            1763,
            0.8211353088182791,
            161
           ],
           [
            4,
            2.233896057530474,
            438,
            0.8211353088182791,
            161
           ],
           [
            62,
            31.544856428826442,
            6185,
            0.8211353088182791,
            161
           ]
          ],
          [
           [
            4,
            0.6681287295353701,
            131,
            1.5147651349008004,
            297
           ],
           [
            4,
            1.820778293466619,
            357,
            1.5147651349008004,
            297
           ],
           [
            14,
            4.069975008925383,
            798,
            1.5147651349008004,
            297
           ],
           [
            8,
            2.065588820319274,
            405,
            1.5147651349008004,
            297
           ],
           [
            20,
            8.083847605447033,
            1585,
            1.5147651349008004,
            297
           ],
           [
            34,
            10.766562962207374,
            2111,
            1.5147651349008004,
            297
           ],
           [
            36,
            10.567654409139593,
            2072,
            1.5147651349008004,
            297
           ],
           [
            24,
            9.603712959657265,
            1883,
            1.5147651349008004,
            297
           ],
           [
            5,
            2.5603100933340133,
            502,
            1.5147651349008004,
            297
           ],
           [
            9,
            3.7996633855255775,
            745,
            1.5147651349008004,
            297
           ],
           [
            2,
            0.7803335543428367,
            153,
            1.5147651349008004,
            297
           ],
           [
            13,
            2.443005049217116,
            479,
            1.5147651349008004,
            297
           ],
           [
            30,
            8.991686642525629,
            1763,
            1.5147651349008004,
            297
           ],
           [
            7,
            2.233896057530474,
            438,
            1.5147651349008004,
            297
           ],
           [
            87,
            31.544856428826442,
            6185,
            1.5147651349008004,
            297
           ]
          ],
          [
           [
            5,
            0.6681287295353701,
            131,
            3.2896414545825468,
            645
           ],
           [
            18,
            1.820778293466619,
            357,
            3.2896414545825468,
            645
           ],
           [
            30,
            4.069975008925383,
            798,
            3.2896414545825468,
            645
           ],
           [
            17,
            2.065588820319274,
            405,
            3.2896414545825468,
            645
           ],
           [
            31,
            8.083847605447033,
            1585,
            3.2896414545825468,
            645
           ],
           [
            82,
            10.766562962207374,
            2111,
            3.2896414545825468,
            645
           ],
           [
            81,
            10.567654409139593,
            2072,
            3.2896414545825468,
            645
           ],
           [
            48,
            9.603712959657265,
            1883,
            3.2896414545825468,
            645
           ],
           [
            8,
            2.5603100933340133,
            502,
            3.2896414545825468,
            645
           ],
           [
            25,
            3.7996633855255775,
            745,
            3.2896414545825468,
            645
           ],
           [
            4,
            0.7803335543428367,
            153,
            3.2896414545825468,
            645
           ],
           [
            24,
            2.443005049217116,
            479,
            3.2896414545825468,
            645
           ],
           [
            76,
            8.991686642525629,
            1763,
            3.2896414545825468,
            645
           ],
           [
            15,
            2.233896057530474,
            438,
            3.2896414545825468,
            645
           ],
           [
            181,
            31.544856428826442,
            6185,
            3.2896414545825468,
            645
           ]
          ],
          [
           [
            7,
            0.6681287295353701,
            131,
            5.1665221604528995,
            1013
           ],
           [
            21,
            1.820778293466619,
            357,
            5.1665221604528995,
            1013
           ],
           [
            54,
            4.069975008925383,
            798,
            5.1665221604528995,
            1013
           ],
           [
            23,
            2.065588820319274,
            405,
            5.1665221604528995,
            1013
           ],
           [
            39,
            8.083847605447033,
            1585,
            5.1665221604528995,
            1013
           ],
           [
            129,
            10.766562962207374,
            2111,
            5.1665221604528995,
            1013
           ],
           [
            144,
            10.567654409139593,
            2072,
            5.1665221604528995,
            1013
           ],
           [
            69,
            9.603712959657265,
            1883,
            5.1665221604528995,
            1013
           ],
           [
            23,
            2.5603100933340133,
            502,
            5.1665221604528995,
            1013
           ],
           [
            43,
            3.7996633855255775,
            745,
            5.1665221604528995,
            1013
           ],
           [
            5,
            0.7803335543428367,
            153,
            5.1665221604528995,
            1013
           ],
           [
            31,
            2.443005049217116,
            479,
            5.1665221604528995,
            1013
           ],
           [
            114,
            8.991686642525629,
            1763,
            5.1665221604528995,
            1013
           ],
           [
            14,
            2.233896057530474,
            438,
            5.1665221604528995,
            1013
           ],
           [
            297,
            31.544856428826442,
            6185,
            5.1665221604528995,
            1013
           ]
          ],
          [
           [
            10,
            0.6681287295353701,
            131,
            7.99714387718672,
            1568
           ],
           [
            20,
            1.820778293466619,
            357,
            7.99714387718672,
            1568
           ],
           [
            28,
            4.069975008925383,
            798,
            7.99714387718672,
            1568
           ],
           [
            15,
            2.065588820319274,
            405,
            7.99714387718672,
            1568
           ],
           [
            26,
            8.083847605447033,
            1585,
            7.99714387718672,
            1568
           ],
           [
            96,
            10.766562962207374,
            2111,
            7.99714387718672,
            1568
           ],
           [
            74,
            10.567654409139593,
            2072,
            7.99714387718672,
            1568
           ],
           [
            73,
            9.603712959657265,
            1883,
            7.99714387718672,
            1568
           ],
           [
            53,
            2.5603100933340133,
            502,
            7.99714387718672,
            1568
           ],
           [
            32,
            3.7996633855255775,
            745,
            7.99714387718672,
            1568
           ],
           [
            11,
            0.7803335543428367,
            153,
            7.99714387718672,
            1568
           ],
           [
            17,
            2.443005049217116,
            479,
            7.99714387718672,
            1568
           ],
           [
            70,
            8.991686642525629,
            1763,
            7.99714387718672,
            1568
           ],
           [
            16,
            2.233896057530474,
            438,
            7.99714387718672,
            1568
           ],
           [
            1027,
            31.544856428826442,
            6185,
            7.99714387718672,
            1568
           ]
          ],
          [
           [
            16,
            0.6681287295353701,
            131,
            8.721375019125823,
            1710
           ],
           [
            34,
            1.820778293466619,
            357,
            8.721375019125823,
            1710
           ],
           [
            81,
            4.069975008925383,
            798,
            8.721375019125823,
            1710
           ],
           [
            32,
            2.065588820319274,
            405,
            8.721375019125823,
            1710
           ],
           [
            70,
            8.083847605447033,
            1585,
            8.721375019125823,
            1710
           ],
           [
            231,
            10.766562962207374,
            2111,
            8.721375019125823,
            1710
           ],
           [
            186,
            10.567654409139593,
            2072,
            8.721375019125823,
            1710
           ],
           [
            113,
            9.603712959657265,
            1883,
            8.721375019125823,
            1710
           ],
           [
            44,
            2.5603100933340133,
            502,
            8.721375019125823,
            1710
           ],
           [
            77,
            3.7996633855255775,
            745,
            8.721375019125823,
            1710
           ],
           [
            20,
            0.7803335543428367,
            153,
            8.721375019125823,
            1710
           ],
           [
            38,
            2.443005049217116,
            479,
            8.721375019125823,
            1710
           ],
           [
            140,
            8.991686642525629,
            1763,
            8.721375019125823,
            1710
           ],
           [
            49,
            2.233896057530474,
            438,
            8.721375019125823,
            1710
           ],
           [
            579,
            31.544856428826442,
            6185,
            8.721375019125823,
            1710
           ]
          ],
          [
           [
            21,
            0.6681287295353701,
            131,
            13.270770643137656,
            2602
           ],
           [
            61,
            1.820778293466619,
            357,
            13.270770643137656,
            2602
           ],
           [
            126,
            4.069975008925383,
            798,
            13.270770643137656,
            2602
           ],
           [
            62,
            2.065588820319274,
            405,
            13.270770643137656,
            2602
           ],
           [
            135,
            8.083847605447033,
            1585,
            13.270770643137656,
            2602
           ],
           [
            335,
            10.766562962207374,
            2111,
            13.270770643137656,
            2602
           ],
           [
            341,
            10.567654409139593,
            2072,
            13.270770643137656,
            2602
           ],
           [
            222,
            9.603712959657265,
            1883,
            13.270770643137656,
            2602
           ],
           [
            54,
            2.5603100933340133,
            502,
            13.270770643137656,
            2602
           ],
           [
            109,
            3.7996633855255775,
            745,
            13.270770643137656,
            2602
           ],
           [
            34,
            0.7803335543428367,
            153,
            13.270770643137656,
            2602
           ],
           [
            83,
            2.443005049217116,
            479,
            13.270770643137656,
            2602
           ],
           [
            292,
            8.991686642525629,
            1763,
            13.270770643137656,
            2602
           ],
           [
            79,
            2.233896057530474,
            438,
            13.270770643137656,
            2602
           ],
           [
            648,
            31.544856428826442,
            6185,
            13.270770643137656,
            2602
           ]
          ],
          [
           [
            11,
            0.6681287295353701,
            131,
            7.2066098842250215,
            1413
           ],
           [
            26,
            1.820778293466619,
            357,
            7.2066098842250215,
            1413
           ],
           [
            63,
            4.069975008925383,
            798,
            7.2066098842250215,
            1413
           ],
           [
            33,
            2.065588820319274,
            405,
            7.2066098842250215,
            1413
           ],
           [
            54,
            8.083847605447033,
            1585,
            7.2066098842250215,
            1413
           ],
           [
            162,
            10.766562962207374,
            2111,
            7.2066098842250215,
            1413
           ],
           [
            189,
            10.567654409139593,
            2072,
            7.2066098842250215,
            1413
           ],
           [
            128,
            9.603712959657265,
            1883,
            7.2066098842250215,
            1413
           ],
           [
            50,
            2.5603100933340133,
            502,
            7.2066098842250215,
            1413
           ],
           [
            57,
            3.7996633855255775,
            745,
            7.2066098842250215,
            1413
           ],
           [
            10,
            0.7803335543428367,
            153,
            7.2066098842250215,
            1413
           ],
           [
            42,
            2.443005049217116,
            479,
            7.2066098842250215,
            1413
           ],
           [
            151,
            8.991686642525629,
            1763,
            7.2066098842250215,
            1413
           ],
           [
            43,
            2.233896057530474,
            438,
            7.2066098842250215,
            1413
           ],
           [
            394,
            31.544856428826442,
            6185,
            7.2066098842250215,
            1413
           ]
          ],
          [
           [
            1,
            0.6681287295353701,
            131,
            2.17269342581731,
            426
           ],
           [
            6,
            1.820778293466619,
            357,
            2.17269342581731,
            426
           ],
           [
            16,
            4.069975008925383,
            798,
            2.17269342581731,
            426
           ],
           [
            15,
            2.065588820319274,
            405,
            2.17269342581731,
            426
           ],
           [
            13,
            8.083847605447033,
            1585,
            2.17269342581731,
            426
           ],
           [
            97,
            10.766562962207374,
            2111,
            2.17269342581731,
            426
           ],
           [
            45,
            10.567654409139593,
            2072,
            2.17269342581731,
            426
           ],
           [
            28,
            9.603712959657265,
            1883,
            2.17269342581731,
            426
           ],
           [
            9,
            2.5603100933340133,
            502,
            2.17269342581731,
            426
           ],
           [
            22,
            3.7996633855255775,
            745,
            2.17269342581731,
            426
           ],
           [
            4,
            0.7803335543428367,
            153,
            2.17269342581731,
            426
           ],
           [
            17,
            2.443005049217116,
            479,
            2.17269342581731,
            426
           ],
           [
            43,
            8.991686642525629,
            1763,
            2.17269342581731,
            426
           ],
           [
            7,
            2.233896057530474,
            438,
            2.17269342581731,
            426
           ],
           [
            103,
            31.544856428826442,
            6185,
            2.17269342581731,
            426
           ]
          ],
          [
           [
            2,
            0.6681287295353701,
            131,
            6.803692558780027,
            1334
           ],
           [
            12,
            1.820778293466619,
            357,
            6.803692558780027,
            1334
           ],
           [
            28,
            4.069975008925383,
            798,
            6.803692558780027,
            1334
           ],
           [
            18,
            2.065588820319274,
            405,
            6.803692558780027,
            1334
           ],
           [
            35,
            8.083847605447033,
            1585,
            6.803692558780027,
            1334
           ],
           [
            65,
            10.766562962207374,
            2111,
            6.803692558780027,
            1334
           ],
           [
            81,
            10.567654409139593,
            2072,
            6.803692558780027,
            1334
           ],
           [
            50,
            9.603712959657265,
            1883,
            6.803692558780027,
            1334
           ],
           [
            13,
            2.5603100933340133,
            502,
            6.803692558780027,
            1334
           ],
           [
            29,
            3.7996633855255775,
            745,
            6.803692558780027,
            1334
           ],
           [
            3,
            0.7803335543428367,
            153,
            6.803692558780027,
            1334
           ],
           [
            18,
            2.443005049217116,
            479,
            6.803692558780027,
            1334
           ],
           [
            68,
            8.991686642525629,
            1763,
            6.803692558780027,
            1334
           ],
           [
            15,
            2.233896057530474,
            438,
            6.803692558780027,
            1334
           ],
           [
            897,
            31.544856428826442,
            6185,
            6.803692558780027,
            1334
           ]
          ],
          [
           [
            0,
            0.6681287295353701,
            131,
            1.2444535115009945,
            244
           ],
           [
            3,
            1.820778293466619,
            357,
            1.2444535115009945,
            244
           ],
           [
            13,
            4.069975008925383,
            798,
            1.2444535115009945,
            244
           ],
           [
            6,
            2.065588820319274,
            405,
            1.2444535115009945,
            244
           ],
           [
            8,
            8.083847605447033,
            1585,
            1.2444535115009945,
            244
           ],
           [
            36,
            10.766562962207374,
            2111,
            1.2444535115009945,
            244
           ],
           [
            25,
            10.567654409139593,
            2072,
            1.2444535115009945,
            244
           ],
           [
            18,
            9.603712959657265,
            1883,
            1.2444535115009945,
            244
           ],
           [
            3,
            2.5603100933340133,
            502,
            1.2444535115009945,
            244
           ],
           [
            5,
            3.7996633855255775,
            745,
            1.2444535115009945,
            244
           ],
           [
            1,
            0.7803335543428367,
            153,
            1.2444535115009945,
            244
           ],
           [
            6,
            2.443005049217116,
            479,
            1.2444535115009945,
            244
           ],
           [
            34,
            8.991686642525629,
            1763,
            1.2444535115009945,
            244
           ],
           [
            9,
            2.233896057530474,
            438,
            1.2444535115009945,
            244
           ],
           [
            77,
            31.544856428826442,
            6185,
            1.2444535115009945,
            244
           ]
          ],
          [
           [
            4,
            0.6681287295353701,
            131,
            1.6575712755648493,
            325
           ],
           [
            8,
            1.820778293466619,
            357,
            1.6575712755648493,
            325
           ],
           [
            22,
            4.069975008925383,
            798,
            1.6575712755648493,
            325
           ],
           [
            9,
            2.065588820319274,
            405,
            1.6575712755648493,
            325
           ],
           [
            16,
            8.083847605447033,
            1585,
            1.6575712755648493,
            325
           ],
           [
            36,
            10.766562962207374,
            2111,
            1.6575712755648493,
            325
           ],
           [
            34,
            10.567654409139593,
            2072,
            1.6575712755648493,
            325
           ],
           [
            32,
            9.603712959657265,
            1883,
            1.6575712755648493,
            325
           ],
           [
            6,
            2.5603100933340133,
            502,
            1.6575712755648493,
            325
           ],
           [
            23,
            3.7996633855255775,
            745,
            1.6575712755648493,
            325
           ],
           [
            2,
            0.7803335543428367,
            153,
            1.6575712755648493,
            325
           ],
           [
            11,
            2.443005049217116,
            479,
            1.6575712755648493,
            325
           ],
           [
            28,
            8.991686642525629,
            1763,
            1.6575712755648493,
            325
           ],
           [
            8,
            2.233896057530474,
            438,
            1.6575712755648493,
            325
           ],
           [
            86,
            31.544856428826442,
            6185,
            1.6575712755648493,
            325
           ]
          ],
          [
           [
            15,
            0.6681287295353701,
            131,
            8.323557912990259,
            1632
           ],
           [
            36,
            1.820778293466619,
            357,
            8.323557912990259,
            1632
           ],
           [
            67,
            4.069975008925383,
            798,
            8.323557912990259,
            1632
           ],
           [
            49,
            2.065588820319274,
            405,
            8.323557912990259,
            1632
           ],
           [
            55,
            8.083847605447033,
            1585,
            8.323557912990259,
            1632
           ],
           [
            208,
            10.766562962207374,
            2111,
            8.323557912990259,
            1632
           ],
           [
            215,
            10.567654409139593,
            2072,
            8.323557912990259,
            1632
           ],
           [
            124,
            9.603712959657265,
            1883,
            8.323557912990259,
            1632
           ],
           [
            44,
            2.5603100933340133,
            502,
            8.323557912990259,
            1632
           ],
           [
            78,
            3.7996633855255775,
            745,
            8.323557912990259,
            1632
           ],
           [
            9,
            0.7803335543428367,
            153,
            8.323557912990259,
            1632
           ],
           [
            47,
            2.443005049217116,
            479,
            8.323557912990259,
            1632
           ],
           [
            171,
            8.991686642525629,
            1763,
            8.323557912990259,
            1632
           ],
           [
            42,
            2.233896057530474,
            438,
            8.323557912990259,
            1632
           ],
           [
            472,
            31.544856428826442,
            6185,
            8.323557912990259,
            1632
           ]
          ],
          [
           [
            5,
            0.6681287295353701,
            131,
            2.805120620186668,
            550
           ],
           [
            10,
            1.820778293466619,
            357,
            2.805120620186668,
            550
           ],
           [
            29,
            4.069975008925383,
            798,
            2.805120620186668,
            550
           ],
           [
            12,
            2.065588820319274,
            405,
            2.805120620186668,
            550
           ],
           [
            20,
            8.083847605447033,
            1585,
            2.805120620186668,
            550
           ],
           [
            88,
            10.766562962207374,
            2111,
            2.805120620186668,
            550
           ],
           [
            57,
            10.567654409139593,
            2072,
            2.805120620186668,
            550
           ],
           [
            51,
            9.603712959657265,
            1883,
            2.805120620186668,
            550
           ],
           [
            19,
            2.5603100933340133,
            502,
            2.805120620186668,
            550
           ],
           [
            26,
            3.7996633855255775,
            745,
            2.805120620186668,
            550
           ],
           [
            1,
            0.7803335543428367,
            153,
            2.805120620186668,
            550
           ],
           [
            11,
            2.443005049217116,
            479,
            2.805120620186668,
            550
           ],
           [
            71,
            8.991686642525629,
            1763,
            2.805120620186668,
            550
           ],
           [
            8,
            2.233896057530474,
            438,
            2.805120620186668,
            550
           ],
           [
            142,
            31.544856428826442,
            6185,
            2.805120620186668,
            550
           ]
          ],
          [
           [
            29,
            0.6681287295353701,
            131,
            29.004947212730144,
            5687
           ],
           [
            96,
            1.820778293466619,
            357,
            29.004947212730144,
            5687
           ],
           [
            224,
            4.069975008925383,
            798,
            29.004947212730144,
            5687
           ],
           [
            102,
            2.065588820319274,
            405,
            29.004947212730144,
            5687
           ],
           [
            1054,
            8.083847605447033,
            1585,
            29.004947212730144,
            5687
           ],
           [
            489,
            10.766562962207374,
            2111,
            29.004947212730144,
            5687
           ],
           [
            545,
            10.567654409139593,
            2072,
            29.004947212730144,
            5687
           ],
           [
            901,
            9.603712959657265,
            1883,
            29.004947212730144,
            5687
           ],
           [
            168,
            2.5603100933340133,
            502,
            29.004947212730144,
            5687
           ],
           [
            206,
            3.7996633855255775,
            745,
            29.004947212730144,
            5687
           ],
           [
            46,
            0.7803335543428367,
            153,
            29.004947212730144,
            5687
           ],
           [
            113,
            2.443005049217116,
            479,
            29.004947212730144,
            5687
           ],
           [
            459,
            8.991686642525629,
            1763,
            29.004947212730144,
            5687
           ],
           [
            122,
            2.233896057530474,
            438,
            29.004947212730144,
            5687
           ],
           [
            1133,
            31.544856428826442,
            6185,
            29.004947212730144,
            5687
           ]
          ]
         ],
         "hoverlabel": {
          "font": {
           "size": 18
          }
         },
         "hovertemplate": "* → %{x}: %{customdata[1]:0.3f}%, %{customdata[2]} counts <br>%{y} → *: %{customdata[3]:0.3f}%, %{customdata[4]} counts <br>%{y} → %{x}: %{z:0.3f}%, %{customdata[0]} counts <extra></extra>",
         "type": "heatmap",
         "x": [
          "Art",
          "Business_Studies",
          "Citizenship",
          "Countries",
          "Design_and_Technology",
          "Everyday_life",
          "Geography",
          "History",
          "IT",
          "Language_and_literature",
          "Mathematics",
          "Music",
          "People",
          "Religion",
          "Science"
         ],
         "y": [
          "Art",
          "Business_Studies",
          "Citizenship",
          "Countries",
          "Design_and_Technology",
          "Everyday_life",
          "Geography",
          "History",
          "IT",
          "Language_and_literature",
          "Mathematics",
          "Music",
          "People",
          "Religion",
          "Science"
         ],
         "z": [
          [
           0.005100219309430306,
           0.010200438618860611,
           0.015300657928290917,
           0.020400877237721222,
           0.04590197378487275,
           0.11730504411689702,
           0.0969041668791758,
           0.010200438618860611,
           0.015300657928290917,
           0.020400877237721222,
           0.005100219309430306,
           0.040801754475442445,
           0.08160350895088489,
           0.020400877237721222,
           0.31621359718467895
          ],
          [
           0.020400877237721222,
           0.020400877237721222,
           0.07140307033202428,
           0.040801754475442445,
           0.1020043861886061,
           0.1734074565206304,
           0.183607895139491,
           0.12240526342632733,
           0.025501096547151526,
           0.04590197378487275,
           0.010200438618860611,
           0.06630285102259396,
           0.15300657928290917,
           0.03570153516601214,
           0.4437190799204366
          ],
          [
           0.025501096547151526,
           0.0918039475697455,
           0.15300657928290917,
           0.0867037282603152,
           0.15810679859233948,
           0.41821798337328503,
           0.4131177640638547,
           0.24481052685265467,
           0.040801754475442445,
           0.12750548273575765,
           0.020400877237721222,
           0.12240526342632733,
           0.3876166675167032,
           0.07650328964145459,
           0.9231396950068853
          ],
          [
           0.03570153516601214,
           0.10710460549803642,
           0.27541184270923647,
           0.11730504411689702,
           0.19890855306778193,
           0.6579282909165094,
           0.734431580557964,
           0.3519151323506911,
           0.11730504411689702,
           0.21930943030550312,
           0.025501096547151526,
           0.15810679859233948,
           0.5814250012750548,
           0.07140307033202428,
           1.514765134900801
          ],
          [
           0.05100219309430305,
           0.1020043861886061,
           0.14280614066404856,
           0.07650328964145459,
           0.13260570204518793,
           0.48962105370530934,
           0.3774162288978426,
           0.3723160095884123,
           0.2703116233998062,
           0.16320701790176978,
           0.05610241240373336,
           0.0867037282603152,
           0.3570153516601214,
           0.08160350895088489,
           5.237925230784924
          ],
          [
           0.08160350895088489,
           0.1734074565206304,
           0.4131177640638547,
           0.16320701790176978,
           0.3570153516601214,
           1.1781506604784007,
           0.9486407915540368,
           0.5763247819656245,
           0.22440964961493343,
           0.39271688682613354,
           0.1020043861886061,
           0.1938083337583516,
           0.7140307033202428,
           0.24991074616208497,
           2.953026980160147
          ],
          [
           0.10710460549803642,
           0.3111133778752486,
           0.6426276329882185,
           0.31621359718467895,
           0.6885296067730913,
           1.7085734686591525,
           1.7391747845157342,
           1.1322486866935277,
           0.27541184270923647,
           0.5559239047279033,
           0.1734074565206304,
           0.42331820268271536,
           1.4892640383536493,
           0.40291732544499415,
           3.3049421125108376
          ],
          [
           0.05610241240373336,
           0.13260570204518793,
           0.32131381649410923,
           0.16830723721120008,
           0.27541184270923647,
           0.8262355281277094,
           0.9639414494823276,
           0.6528280716070791,
           0.2550109654715153,
           0.2907125006375274,
           0.05100219309430305,
           0.21420921099607285,
           0.7701331157239761,
           0.21930943030550312,
           2.0094864079155403
          ],
          [
           0.005100219309430306,
           0.030601315856581834,
           0.08160350895088489,
           0.07650328964145459,
           0.06630285102259396,
           0.4947212730147396,
           0.22950986892436376,
           0.14280614066404856,
           0.04590197378487275,
           0.11220482480746671,
           0.020400877237721222,
           0.0867037282603152,
           0.21930943030550312,
           0.03570153516601214,
           0.5253225888713214
          ],
          [
           0.010200438618860611,
           0.06120263171316367,
           0.14280614066404856,
           0.0918039475697455,
           0.1785076758300607,
           0.33151425511296984,
           0.4131177640638547,
           0.2550109654715153,
           0.06630285102259396,
           0.14790635997347887,
           0.015300657928290917,
           0.0918039475697455,
           0.3468149130412608,
           0.07650328964145459,
           4.574896720558984
          ],
          [
           0,
           0.015300657928290917,
           0.06630285102259396,
           0.030601315856581834,
           0.040801754475442445,
           0.183607895139491,
           0.12750548273575765,
           0.0918039475697455,
           0.015300657928290917,
           0.025501096547151526,
           0.005100219309430306,
           0.030601315856581834,
           0.1734074565206304,
           0.04590197378487275,
           0.39271688682613354
          ],
          [
           0.020400877237721222,
           0.040801754475442445,
           0.11220482480746671,
           0.04590197378487275,
           0.08160350895088489,
           0.183607895139491,
           0.1734074565206304,
           0.16320701790176978,
           0.030601315856581834,
           0.11730504411689702,
           0.010200438618860611,
           0.05610241240373336,
           0.14280614066404856,
           0.040801754475442445,
           0.43861886061100624
          ],
          [
           0.07650328964145459,
           0.183607895139491,
           0.3417146937318305,
           0.24991074616208497,
           0.2805120620186668,
           1.0608456163615034,
           1.0965471515275156,
           0.6324271943693579,
           0.22440964961493343,
           0.39781710613556387,
           0.04590197378487275,
           0.23971030754322437,
           0.8721375019125822,
           0.21420921099607285,
           2.4073035140511045
          ],
          [
           0.025501096547151526,
           0.05100219309430305,
           0.14790635997347887,
           0.06120263171316367,
           0.1020043861886061,
           0.44881929922986685,
           0.2907125006375274,
           0.2601111847809456,
           0.0969041668791758,
           0.13260570204518793,
           0.005100219309430306,
           0.05610241240373336,
           0.36211557096955166,
           0.040801754475442445,
           0.7242311419391033
          ],
          [
           0.14790635997347887,
           0.48962105370530934,
           1.1424491253123885,
           0.5202223695618912,
           5.375631152139542,
           2.4940072423114192,
           2.7796195236395165,
           4.595297597796706,
           0.8568368439842914,
           1.0506451777426429,
           0.23461008823379403,
           0.5763247819656245,
           2.34100066302851,
           0.6222267557504972,
           5.778548477584536
          ]
         ],
         "zmax": 11.624841487018621,
         "zmin": 0
        }
       ],
       "layout": {
        "font": {
         "size": 18
        },
        "height": 800,
        "template": {
         "data": {
          "bar": [
           {
            "error_x": {
             "color": "#2a3f5f"
            },
            "error_y": {
             "color": "#2a3f5f"
            },
            "marker": {
             "line": {
              "color": "#E5ECF6",
              "width": 0.5
             },
             "pattern": {
              "fillmode": "overlay",
              "size": 10,
              "solidity": 0.2
             }
            },
            "type": "bar"
           }
          ],
          "barpolar": [
           {
            "marker": {
             "line": {
              "color": "#E5ECF6",
              "width": 0.5
             },
             "pattern": {
              "fillmode": "overlay",
              "size": 10,
              "solidity": 0.2
             }
            },
            "type": "barpolar"
           }
          ],
          "carpet": [
           {
            "aaxis": {
             "endlinecolor": "#2a3f5f",
             "gridcolor": "white",
             "linecolor": "white",
             "minorgridcolor": "white",
             "startlinecolor": "#2a3f5f"
            },
            "baxis": {
             "endlinecolor": "#2a3f5f",
             "gridcolor": "white",
             "linecolor": "white",
             "minorgridcolor": "white",
             "startlinecolor": "#2a3f5f"
            },
            "type": "carpet"
           }
          ],
          "choropleth": [
           {
            "colorbar": {
             "outlinewidth": 0,
             "ticks": ""
            },
            "type": "choropleth"
           }
          ],
          "contour": [
           {
            "colorbar": {
             "outlinewidth": 0,
             "ticks": ""
            },
            "colorscale": [
             [
              0,
              "#0d0887"
             ],
             [
              0.1111111111111111,
              "#46039f"
             ],
             [
              0.2222222222222222,
              "#7201a8"
             ],
             [
              0.3333333333333333,
              "#9c179e"
             ],
             [
              0.4444444444444444,
              "#bd3786"
             ],
             [
              0.5555555555555556,
              "#d8576b"
             ],
             [
              0.6666666666666666,
              "#ed7953"
             ],
             [
              0.7777777777777778,
              "#fb9f3a"
             ],
             [
              0.8888888888888888,
              "#fdca26"
             ],
             [
              1,
              "#f0f921"
             ]
            ],
            "type": "contour"
           }
          ],
          "contourcarpet": [
           {
            "colorbar": {
             "outlinewidth": 0,
             "ticks": ""
            },
            "type": "contourcarpet"
           }
          ],
          "heatmap": [
           {
            "colorbar": {
             "outlinewidth": 0,
             "ticks": ""
            },
            "colorscale": [
             [
              0,
              "#0d0887"
             ],
             [
              0.1111111111111111,
              "#46039f"
             ],
             [
              0.2222222222222222,
              "#7201a8"
             ],
             [
              0.3333333333333333,
              "#9c179e"
             ],
             [
              0.4444444444444444,
              "#bd3786"
             ],
             [
              0.5555555555555556,
              "#d8576b"
             ],
             [
              0.6666666666666666,
              "#ed7953"
             ],
             [
              0.7777777777777778,
              "#fb9f3a"
             ],
             [
              0.8888888888888888,
              "#fdca26"
             ],
             [
              1,
              "#f0f921"
             ]
            ],
            "type": "heatmap"
           }
          ],
          "heatmapgl": [
           {
            "colorbar": {
             "outlinewidth": 0,
             "ticks": ""
            },
            "colorscale": [
             [
              0,
              "#0d0887"
             ],
             [
              0.1111111111111111,
              "#46039f"
             ],
             [
              0.2222222222222222,
              "#7201a8"
             ],
             [
              0.3333333333333333,
              "#9c179e"
             ],
             [
              0.4444444444444444,
              "#bd3786"
             ],
             [
              0.5555555555555556,
              "#d8576b"
             ],
             [
              0.6666666666666666,
              "#ed7953"
             ],
             [
              0.7777777777777778,
              "#fb9f3a"
             ],
             [
              0.8888888888888888,
              "#fdca26"
             ],
             [
              1,
              "#f0f921"
             ]
            ],
            "type": "heatmapgl"
           }
          ],
          "histogram": [
           {
            "marker": {
             "pattern": {
              "fillmode": "overlay",
              "size": 10,
              "solidity": 0.2
             }
            },
            "type": "histogram"
           }
          ],
          "histogram2d": [
           {
            "colorbar": {
             "outlinewidth": 0,
             "ticks": ""
            },
            "colorscale": [
             [
              0,
              "#0d0887"
             ],
             [
              0.1111111111111111,
              "#46039f"
             ],
             [
              0.2222222222222222,
              "#7201a8"
             ],
             [
              0.3333333333333333,
              "#9c179e"
             ],
             [
              0.4444444444444444,
              "#bd3786"
             ],
             [
              0.5555555555555556,
              "#d8576b"
             ],
             [
              0.6666666666666666,
              "#ed7953"
             ],
             [
              0.7777777777777778,
              "#fb9f3a"
             ],
             [
              0.8888888888888888,
              "#fdca26"
             ],
             [
              1,
              "#f0f921"
             ]
            ],
            "type": "histogram2d"
           }
          ],
          "histogram2dcontour": [
           {
            "colorbar": {
             "outlinewidth": 0,
             "ticks": ""
            },
            "colorscale": [
             [
              0,
              "#0d0887"
             ],
             [
              0.1111111111111111,
              "#46039f"
             ],
             [
              0.2222222222222222,
              "#7201a8"
             ],
             [
              0.3333333333333333,
              "#9c179e"
             ],
             [
              0.4444444444444444,
              "#bd3786"
             ],
             [
              0.5555555555555556,
              "#d8576b"
             ],
             [
              0.6666666666666666,
              "#ed7953"
             ],
             [
              0.7777777777777778,
              "#fb9f3a"
             ],
             [
              0.8888888888888888,
              "#fdca26"
             ],
             [
              1,
              "#f0f921"
             ]
            ],
            "type": "histogram2dcontour"
           }
          ],
          "mesh3d": [
           {
            "colorbar": {
             "outlinewidth": 0,
             "ticks": ""
            },
            "type": "mesh3d"
           }
          ],
          "parcoords": [
           {
            "line": {
             "colorbar": {
              "outlinewidth": 0,
              "ticks": ""
             }
            },
            "type": "parcoords"
           }
          ],
          "pie": [
           {
            "automargin": true,
            "type": "pie"
           }
          ],
          "scatter": [
           {
            "fillpattern": {
             "fillmode": "overlay",
             "size": 10,
             "solidity": 0.2
            },
            "type": "scatter"
           }
          ],
          "scatter3d": [
           {
            "line": {
             "colorbar": {
              "outlinewidth": 0,
              "ticks": ""
             }
            },
            "marker": {
             "colorbar": {
              "outlinewidth": 0,
              "ticks": ""
             }
            },
            "type": "scatter3d"
           }
          ],
          "scattercarpet": [
           {
            "marker": {
             "colorbar": {
              "outlinewidth": 0,
              "ticks": ""
             }
            },
            "type": "scattercarpet"
           }
          ],
          "scattergeo": [
           {
            "marker": {
             "colorbar": {
              "outlinewidth": 0,
              "ticks": ""
             }
            },
            "type": "scattergeo"
           }
          ],
          "scattergl": [
           {
            "marker": {
             "colorbar": {
              "outlinewidth": 0,
              "ticks": ""
             }
            },
            "type": "scattergl"
           }
          ],
          "scattermapbox": [
           {
            "marker": {
             "colorbar": {
              "outlinewidth": 0,
              "ticks": ""
             }
            },
            "type": "scattermapbox"
           }
          ],
          "scatterpolar": [
           {
            "marker": {
             "colorbar": {
              "outlinewidth": 0,
              "ticks": ""
             }
            },
            "type": "scatterpolar"
           }
          ],
          "scatterpolargl": [
           {
            "marker": {
             "colorbar": {
              "outlinewidth": 0,
              "ticks": ""
             }
            },
            "type": "scatterpolargl"
           }
          ],
          "scatterternary": [
           {
            "marker": {
             "colorbar": {
              "outlinewidth": 0,
              "ticks": ""
             }
            },
            "type": "scatterternary"
           }
          ],
          "surface": [
           {
            "colorbar": {
             "outlinewidth": 0,
             "ticks": ""
            },
            "colorscale": [
             [
              0,
              "#0d0887"
             ],
             [
              0.1111111111111111,
              "#46039f"
             ],
             [
              0.2222222222222222,
              "#7201a8"
             ],
             [
              0.3333333333333333,
              "#9c179e"
             ],
             [
              0.4444444444444444,
              "#bd3786"
             ],
             [
              0.5555555555555556,
              "#d8576b"
             ],
             [
              0.6666666666666666,
              "#ed7953"
             ],
             [
              0.7777777777777778,
              "#fb9f3a"
             ],
             [
              0.8888888888888888,
              "#fdca26"
             ],
             [
              1,
              "#f0f921"
             ]
            ],
            "type": "surface"
           }
          ],
          "table": [
           {
            "cells": {
             "fill": {
              "color": "#EBF0F8"
             },
             "line": {
              "color": "white"
             }
            },
            "header": {
             "fill": {
              "color": "#C8D4E3"
             },
             "line": {
              "color": "white"
             }
            },
            "type": "table"
           }
          ]
         },
         "layout": {
          "annotationdefaults": {
           "arrowcolor": "#2a3f5f",
           "arrowhead": 0,
           "arrowwidth": 1
          },
          "autotypenumbers": "strict",
          "coloraxis": {
           "colorbar": {
            "outlinewidth": 0,
            "ticks": ""
           }
          },
          "colorscale": {
           "diverging": [
            [
             0,
             "#8e0152"
            ],
            [
             0.1,
             "#c51b7d"
            ],
            [
             0.2,
             "#de77ae"
            ],
            [
             0.3,
             "#f1b6da"
            ],
            [
             0.4,
             "#fde0ef"
            ],
            [
             0.5,
             "#f7f7f7"
            ],
            [
             0.6,
             "#e6f5d0"
            ],
            [
             0.7,
             "#b8e186"
            ],
            [
             0.8,
             "#7fbc41"
            ],
            [
             0.9,
             "#4d9221"
            ],
            [
             1,
             "#276419"
            ]
           ],
           "sequential": [
            [
             0,
             "#0d0887"
            ],
            [
             0.1111111111111111,
             "#46039f"
            ],
            [
             0.2222222222222222,
             "#7201a8"
            ],
            [
             0.3333333333333333,
             "#9c179e"
            ],
            [
             0.4444444444444444,
             "#bd3786"
            ],
            [
             0.5555555555555556,
             "#d8576b"
            ],
            [
             0.6666666666666666,
             "#ed7953"
            ],
            [
             0.7777777777777778,
             "#fb9f3a"
            ],
            [
             0.8888888888888888,
             "#fdca26"
            ],
            [
             1,
             "#f0f921"
            ]
           ],
           "sequentialminus": [
            [
             0,
             "#0d0887"
            ],
            [
             0.1111111111111111,
             "#46039f"
            ],
            [
             0.2222222222222222,
             "#7201a8"
            ],
            [
             0.3333333333333333,
             "#9c179e"
            ],
            [
             0.4444444444444444,
             "#bd3786"
            ],
            [
             0.5555555555555556,
             "#d8576b"
            ],
            [
             0.6666666666666666,
             "#ed7953"
            ],
            [
             0.7777777777777778,
             "#fb9f3a"
            ],
            [
             0.8888888888888888,
             "#fdca26"
            ],
            [
             1,
             "#f0f921"
            ]
           ]
          },
          "colorway": [
           "#636efa",
           "#EF553B",
           "#00cc96",
           "#ab63fa",
           "#FFA15A",
           "#19d3f3",
           "#FF6692",
           "#B6E880",
           "#FF97FF",
           "#FECB52"
          ],
          "font": {
           "color": "#2a3f5f"
          },
          "geo": {
           "bgcolor": "white",
           "lakecolor": "white",
           "landcolor": "#E5ECF6",
           "showlakes": true,
           "showland": true,
           "subunitcolor": "white"
          },
          "hoverlabel": {
           "align": "left"
          },
          "hovermode": "closest",
          "mapbox": {
           "style": "light"
          },
          "paper_bgcolor": "white",
          "plot_bgcolor": "#E5ECF6",
          "polar": {
           "angularaxis": {
            "gridcolor": "white",
            "linecolor": "white",
            "ticks": ""
           },
           "bgcolor": "#E5ECF6",
           "radialaxis": {
            "gridcolor": "white",
            "linecolor": "white",
            "ticks": ""
           }
          },
          "scene": {
           "xaxis": {
            "backgroundcolor": "#E5ECF6",
            "gridcolor": "white",
            "gridwidth": 2,
            "linecolor": "white",
            "showbackground": true,
            "ticks": "",
            "zerolinecolor": "white"
           },
           "yaxis": {
            "backgroundcolor": "#E5ECF6",
            "gridcolor": "white",
            "gridwidth": 2,
            "linecolor": "white",
            "showbackground": true,
            "ticks": "",
            "zerolinecolor": "white"
           },
           "zaxis": {
            "backgroundcolor": "#E5ECF6",
            "gridcolor": "white",
            "gridwidth": 2,
            "linecolor": "white",
            "showbackground": true,
            "ticks": "",
            "zerolinecolor": "white"
           }
          },
          "shapedefaults": {
           "line": {
            "color": "#2a3f5f"
           }
          },
          "ternary": {
           "aaxis": {
            "gridcolor": "white",
            "linecolor": "white",
            "ticks": ""
           },
           "baxis": {
            "gridcolor": "white",
            "linecolor": "white",
            "ticks": ""
           },
           "bgcolor": "#E5ECF6",
           "caxis": {
            "gridcolor": "white",
            "linecolor": "white",
            "ticks": ""
           }
          },
          "title": {
           "x": 0.05
          },
          "xaxis": {
           "automargin": true,
           "gridcolor": "white",
           "linecolor": "white",
           "ticks": "",
           "title": {
            "standoff": 15
           },
           "zerolinecolor": "white",
           "zerolinewidth": 2
          },
          "yaxis": {
           "automargin": true,
           "gridcolor": "white",
           "linecolor": "white",
           "ticks": "",
           "title": {
            "standoff": 15
           },
           "zerolinecolor": "white",
           "zerolinewidth": 2
          }
         }
        },
        "title": {
         "text": "Categories of end and target articles for unfinished paths",
         "x": 0.5,
         "xanchor": "center"
        },
        "width": 800,
        "xaxis": {
         "title": {
          "text": "Target article category"
         }
        },
        "yaxis": {
         "scaleanchor": "x",
         "title": {
          "text": "End article category"
         }
        }
       }
      }
     },
     "metadata": {},
     "output_type": "display_data"
    }
   ],
   "source": [
    "distrib_unf_trunc, tot_links_unf_trunc = get_sankey_data(path_unfinished, categories, 'unf')\n",
    "plot_heatmap(distrib_unf_trunc.reshape(15,15), cats, tot_links_unf, 'unf_target', vmin=global_min, vmax=global_max, gamma=0.45)"
   ]
  },
  {
   "cell_type": "code",
   "execution_count": 22,
   "metadata": {},
   "outputs": [
    {
     "data": {
      "application/vnd.plotly.v1+json": {
       "config": {
        "plotlyServerURL": "https://plot.ly"
       },
       "data": [
        {
         "colorscale": [
          [
           0,
           "rgb(103,0,31)"
          ],
          [
           0.1,
           "rgb(178,24,43)"
          ],
          [
           0.2,
           "rgb(214,96,77)"
          ],
          [
           0.3,
           "rgb(244,165,130)"
          ],
          [
           0.4,
           "rgb(253,219,199)"
          ],
          [
           0.5,
           "rgb(247,247,247)"
          ],
          [
           0.6,
           "rgb(209,229,240)"
          ],
          [
           0.7,
           "rgb(146,197,222)"
          ],
          [
           0.8,
           "rgb(67,147,195)"
          ],
          [
           0.9,
           "rgb(33,102,172)"
          ],
          [
           1,
           "rgb(5,48,97)"
          ]
         ],
         "customdata": [
          [
           [
            44.79554005437622,
            -585.2195273944689
           ],
           [
            -513.2902601520824,
            -585.2195273944689
           ],
           [
            -237.44113734315255,
            -585.2195273944689
           ],
           [
            1068.7754839323438,
            -585.2195273944689
           ],
           [
            -1076.2721655275454,
            -585.2195273944689
           ],
           [
            -1143.2434201810488,
            -585.2195273944689
           ],
           [
            549.0912957458656,
            -585.2195273944689
           ],
           [
            136.4366933157553,
            -585.2195273944689
           ],
           [
            190.98650291428584,
            -585.2195273944689
           ],
           [
            -840.3721689814269,
            -585.2195273944689
           ],
           [
            137.00203315503205,
            -585.2195273944689
           ],
           [
            -839.9145281939713,
            -585.2195273944689
           ],
           [
            21.292356774697435,
            -585.2195273944689
           ],
           [
            354.1842544875568,
            -585.2195273944689
           ],
           [
            -272.4468755108857,
            -585.2195273944689
           ]
          ],
          [
           [
            44.79554005437622,
            -157.48896992052323
           ],
           [
            -513.2902601520824,
            -157.48896992052323
           ],
           [
            -237.44113734315255,
            -157.48896992052323
           ],
           [
            1068.7754839323438,
            -157.48896992052323
           ],
           [
            -1076.2721655275454,
            -157.48896992052323
           ],
           [
            -1143.2434201810488,
            -157.48896992052323
           ],
           [
            549.0912957458656,
            -157.48896992052323
           ],
           [
            136.4366933157553,
            -157.48896992052323
           ],
           [
            190.98650291428584,
            -157.48896992052323
           ],
           [
            -840.3721689814269,
            -157.48896992052323
           ],
           [
            137.00203315503205,
            -157.48896992052323
           ],
           [
            -839.9145281939713,
            -157.48896992052323
           ],
           [
            21.292356774697435,
            -157.48896992052323
           ],
           [
            354.1842544875568,
            -157.48896992052323
           ],
           [
            -272.4468755108857,
            -157.48896992052323
           ]
          ],
          [
           [
            44.79554005437622,
            -267.2523494166731
           ],
           [
            -513.2902601520824,
            -267.2523494166731
           ],
           [
            -237.44113734315255,
            -267.2523494166731
           ],
           [
            1068.7754839323438,
            -267.2523494166731
           ],
           [
            -1076.2721655275454,
            -267.2523494166731
           ],
           [
            -1143.2434201810488,
            -267.2523494166731
           ],
           [
            549.0912957458656,
            -267.2523494166731
           ],
           [
            136.4366933157553,
            -267.2523494166731
           ],
           [
            190.98650291428584,
            -267.2523494166731
           ],
           [
            -840.3721689814269,
            -267.2523494166731
           ],
           [
            137.00203315503205,
            -267.2523494166731
           ],
           [
            -839.9145281939713,
            -267.2523494166731
           ],
           [
            21.292356774697435,
            -267.2523494166731
           ],
           [
            354.1842544875568,
            -267.2523494166731
           ],
           [
            -272.4468755108857,
            -267.2523494166731
           ]
          ],
          [
           [
            44.79554005437622,
            -24.25965347704615
           ],
           [
            -513.2902601520824,
            -24.25965347704615
           ],
           [
            -237.44113734315255,
            -24.25965347704615
           ],
           [
            1068.7754839323438,
            -24.25965347704615
           ],
           [
            -1076.2721655275454,
            -24.25965347704615
           ],
           [
            -1143.2434201810488,
            -24.25965347704615
           ],
           [
            549.0912957458656,
            -24.25965347704615
           ],
           [
            136.4366933157553,
            -24.25965347704615
           ],
           [
            190.98650291428584,
            -24.25965347704615
           ],
           [
            -840.3721689814269,
            -24.25965347704615
           ],
           [
            137.00203315503205,
            -24.25965347704615
           ],
           [
            -839.9145281939713,
            -24.25965347704615
           ],
           [
            21.292356774697435,
            -24.25965347704615
           ],
           [
            354.1842544875568,
            -24.25965347704615
           ],
           [
            -272.4468755108857,
            -24.25965347704615
           ]
          ],
          [
           [
            44.79554005437622,
            -502.43930164556286
           ],
           [
            -513.2902601520824,
            -502.43930164556286
           ],
           [
            -237.44113734315255,
            -502.43930164556286
           ],
           [
            1068.7754839323438,
            -502.43930164556286
           ],
           [
            -1076.2721655275454,
            -502.43930164556286
           ],
           [
            -1143.2434201810488,
            -502.43930164556286
           ],
           [
            549.0912957458656,
            -502.43930164556286
           ],
           [
            136.4366933157553,
            -502.43930164556286
           ],
           [
            190.98650291428584,
            -502.43930164556286
           ],
           [
            -840.3721689814269,
            -502.43930164556286
           ],
           [
            137.00203315503205,
            -502.43930164556286
           ],
           [
            -839.9145281939713,
            -502.43930164556286
           ],
           [
            21.292356774697435,
            -502.43930164556286
           ],
           [
            354.1842544875568,
            -502.43930164556286
           ],
           [
            -272.4468755108857,
            -502.43930164556286
           ]
          ],
          [
           [
            44.79554005437622,
            -170.35058834710895
           ],
           [
            -513.2902601520824,
            -170.35058834710895
           ],
           [
            -237.44113734315255,
            -170.35058834710895
           ],
           [
            1068.7754839323438,
            -170.35058834710895
           ],
           [
            -1076.2721655275454,
            -170.35058834710895
           ],
           [
            -1143.2434201810488,
            -170.35058834710895
           ],
           [
            549.0912957458656,
            -170.35058834710895
           ],
           [
            136.4366933157553,
            -170.35058834710895
           ],
           [
            190.98650291428584,
            -170.35058834710895
           ],
           [
            -840.3721689814269,
            -170.35058834710895
           ],
           [
            137.00203315503205,
            -170.35058834710895
           ],
           [
            -839.9145281939713,
            -170.35058834710895
           ],
           [
            21.292356774697435,
            -170.35058834710895
           ],
           [
            354.1842544875568,
            -170.35058834710895
           ],
           [
            -272.4468755108857,
            -170.35058834710895
           ]
          ],
          [
           [
            44.79554005437622,
            -92.20746345509288
           ],
           [
            -513.2902601520824,
            -92.20746345509288
           ],
           [
            -237.44113734315255,
            -92.20746345509288
           ],
           [
            1068.7754839323438,
            -92.20746345509288
           ],
           [
            -1076.2721655275454,
            -92.20746345509288
           ],
           [
            -1143.2434201810488,
            -92.20746345509288
           ],
           [
            549.0912957458656,
            -92.20746345509288
           ],
           [
            136.4366933157553,
            -92.20746345509288
           ],
           [
            190.98650291428584,
            -92.20746345509288
           ],
           [
            -840.3721689814269,
            -92.20746345509288
           ],
           [
            137.00203315503205,
            -92.20746345509288
           ],
           [
            -839.9145281939713,
            -92.20746345509288
           ],
           [
            21.292356774697435,
            -92.20746345509288
           ],
           [
            354.1842544875568,
            -92.20746345509288
           ],
           [
            -272.4468755108857,
            -92.20746345509288
           ]
          ],
          [
           [
            44.79554005437622,
            -73.16217023916175
           ],
           [
            -513.2902601520824,
            -73.16217023916175
           ],
           [
            -237.44113734315255,
            -73.16217023916175
           ],
           [
            1068.7754839323438,
            -73.16217023916175
           ],
           [
            -1076.2721655275454,
            -73.16217023916175
           ],
           [
            -1143.2434201810488,
            -73.16217023916175
           ],
           [
            549.0912957458656,
            -73.16217023916175
           ],
           [
            136.4366933157553,
            -73.16217023916175
           ],
           [
            190.98650291428584,
            -73.16217023916175
           ],
           [
            -840.3721689814269,
            -73.16217023916175
           ],
           [
            137.00203315503205,
            -73.16217023916175
           ],
           [
            -839.9145281939713,
            -73.16217023916175
           ],
           [
            21.292356774697435,
            -73.16217023916175
           ],
           [
            354.1842544875568,
            -73.16217023916175
           ],
           [
            -272.4468755108857,
            -73.16217023916175
           ]
          ],
          [
           [
            44.79554005437622,
            41.79925923250674
           ],
           [
            -513.2902601520824,
            41.79925923250674
           ],
           [
            -237.44113734315255,
            41.79925923250674
           ],
           [
            1068.7754839323438,
            41.79925923250674
           ],
           [
            -1076.2721655275454,
            41.79925923250674
           ],
           [
            -1143.2434201810488,
            41.79925923250674
           ],
           [
            549.0912957458656,
            41.79925923250674
           ],
           [
            136.4366933157553,
            41.79925923250674
           ],
           [
            190.98650291428584,
            41.79925923250674
           ],
           [
            -840.3721689814269,
            41.79925923250674
           ],
           [
            137.00203315503205,
            41.79925923250674
           ],
           [
            -839.9145281939713,
            41.79925923250674
           ],
           [
            21.292356774697435,
            41.79925923250674
           ],
           [
            354.1842544875568,
            41.79925923250674
           ],
           [
            -272.4468755108857,
            41.79925923250674
           ]
          ],
          [
           [
            44.79554005437622,
            -247.06456322385867
           ],
           [
            -513.2902601520824,
            -247.06456322385867
           ],
           [
            -237.44113734315255,
            -247.06456322385867
           ],
           [
            1068.7754839323438,
            -247.06456322385867
           ],
           [
            -1076.2721655275454,
            -247.06456322385867
           ],
           [
            -1143.2434201810488,
            -247.06456322385867
           ],
           [
            549.0912957458656,
            -247.06456322385867
           ],
           [
            136.4366933157553,
            -247.06456322385867
           ],
           [
            190.98650291428584,
            -247.06456322385867
           ],
           [
            -840.3721689814269,
            -247.06456322385867
           ],
           [
            137.00203315503205,
            -247.06456322385867
           ],
           [
            -839.9145281939713,
            -247.06456322385867
           ],
           [
            21.292356774697435,
            -247.06456322385867
           ],
           [
            354.1842544875568,
            -247.06456322385867
           ],
           [
            -272.4468755108857,
            -247.06456322385867
           ]
          ],
          [
           [
            44.79554005437622,
            -39.89131641055661
           ],
           [
            -513.2902601520824,
            -39.89131641055661
           ],
           [
            -237.44113734315255,
            -39.89131641055661
           ],
           [
            1068.7754839323438,
            -39.89131641055661
           ],
           [
            -1076.2721655275454,
            -39.89131641055661
           ],
           [
            -1143.2434201810488,
            -39.89131641055661
           ],
           [
            549.0912957458656,
            -39.89131641055661
           ],
           [
            136.4366933157553,
            -39.89131641055661
           ],
           [
            190.98650291428584,
            -39.89131641055661
           ],
           [
            -840.3721689814269,
            -39.89131641055661
           ],
           [
            137.00203315503205,
            -39.89131641055661
           ],
           [
            -839.9145281939713,
            -39.89131641055661
           ],
           [
            21.292356774697435,
            -39.89131641055661
           ],
           [
            354.1842544875568,
            -39.89131641055661
           ],
           [
            -272.4468755108857,
            -39.89131641055661
           ]
          ],
          [
           [
            44.79554005437622,
            -213.20531333407013
           ],
           [
            -513.2902601520824,
            -213.20531333407013
           ],
           [
            -237.44113734315255,
            -213.20531333407013
           ],
           [
            1068.7754839323438,
            -213.20531333407013
           ],
           [
            -1076.2721655275454,
            -213.20531333407013
           ],
           [
            -1143.2434201810488,
            -213.20531333407013
           ],
           [
            549.0912957458656,
            -213.20531333407013
           ],
           [
            136.4366933157553,
            -213.20531333407013
           ],
           [
            190.98650291428584,
            -213.20531333407013
           ],
           [
            -840.3721689814269,
            -213.20531333407013
           ],
           [
            137.00203315503205,
            -213.20531333407013
           ],
           [
            -839.9145281939713,
            -213.20531333407013
           ],
           [
            21.292356774697435,
            -213.20531333407013
           ],
           [
            354.1842544875568,
            -213.20531333407013
           ],
           [
            -272.4468755108857,
            -213.20531333407013
           ]
          ],
          [
           [
            44.79554005437622,
            8.716279484711137
           ],
           [
            -513.2902601520824,
            8.716279484711137
           ],
           [
            -237.44113734315255,
            8.716279484711137
           ],
           [
            1068.7754839323438,
            8.716279484711137
           ],
           [
            -1076.2721655275454,
            8.716279484711137
           ],
           [
            -1143.2434201810488,
            8.716279484711137
           ],
           [
            549.0912957458656,
            8.716279484711137
           ],
           [
            136.4366933157553,
            8.716279484711137
           ],
           [
            190.98650291428584,
            8.716279484711137
           ],
           [
            -840.3721689814269,
            8.716279484711137
           ],
           [
            137.00203315503205,
            8.716279484711137
           ],
           [
            -839.9145281939713,
            8.716279484711137
           ],
           [
            21.292356774697435,
            8.716279484711137
           ],
           [
            354.1842544875568,
            8.716279484711137
           ],
           [
            -272.4468755108857,
            8.716279484711137
           ]
          ],
          [
           [
            44.79554005437622,
            -29.544650169456762
           ],
           [
            -513.2902601520824,
            -29.544650169456762
           ],
           [
            -237.44113734315255,
            -29.544650169456762
           ],
           [
            1068.7754839323438,
            -29.544650169456762
           ],
           [
            -1076.2721655275454,
            -29.544650169456762
           ],
           [
            -1143.2434201810488,
            -29.544650169456762
           ],
           [
            549.0912957458656,
            -29.544650169456762
           ],
           [
            136.4366933157553,
            -29.544650169456762
           ],
           [
            190.98650291428584,
            -29.544650169456762
           ],
           [
            -840.3721689814269,
            -29.544650169456762
           ],
           [
            137.00203315503205,
            -29.544650169456762
           ],
           [
            -839.9145281939713,
            -29.544650169456762
           ],
           [
            21.292356774697435,
            -29.544650169456762
           ],
           [
            354.1842544875568,
            -29.544650169456762
           ],
           [
            -272.4468755108857,
            -29.544650169456762
           ]
          ],
          [
           [
            44.79554005437622,
            -68.84606719383736
           ],
           [
            -513.2902601520824,
            -68.84606719383736
           ],
           [
            -237.44113734315255,
            -68.84606719383736
           ],
           [
            1068.7754839323438,
            -68.84606719383736
           ],
           [
            -1076.2721655275454,
            -68.84606719383736
           ],
           [
            -1143.2434201810488,
            -68.84606719383736
           ],
           [
            549.0912957458656,
            -68.84606719383736
           ],
           [
            136.4366933157553,
            -68.84606719383736
           ],
           [
            190.98650291428584,
            -68.84606719383736
           ],
           [
            -840.3721689814269,
            -68.84606719383736
           ],
           [
            137.00203315503205,
            -68.84606719383736
           ],
           [
            -839.9145281939713,
            -68.84606719383736
           ],
           [
            21.292356774697435,
            -68.84606719383736
           ],
           [
            354.1842544875568,
            -68.84606719383736
           ],
           [
            -272.4468755108857,
            -68.84606719383736
           ]
          ]
         ],
         "hoverlabel": {
          "font": {
           "size": 18
          }
         },
         "hovertemplate": "* → %{x}: %{customdata[0]:0.3f}% <br>%{y} → *: %{customdata[1]:0.3f}% <br>%{y} → %{x}: %{z:0.3f}%  <extra></extra>",
         "type": "heatmap",
         "x": [
          "Art",
          "Business_Studies",
          "Citizenship",
          "Countries",
          "Design_and_Technology",
          "Everyday_life",
          "Geography",
          "History",
          "IT",
          "Language_and_literature",
          "Mathematics",
          "Music",
          "People",
          "Religion",
          "Science"
         ],
         "y": [
          "Art",
          "Business_Studies",
          "Citizenship",
          "Countries",
          "Design_and_Technology",
          "Everyday_life",
          "Geography",
          "History",
          "IT",
          "Language_and_literature",
          "Mathematics",
          "Music",
          "People",
          "Religion",
          "Science"
         ],
         "z": [
          [
           47.72377212220126,
           25.3196744602875,
           60.79282909165094,
           52.476156474728405,
           -488.10756362523585,
           -93.92794212731793,
           25.876990322524172,
           67.32735757637579,
           21.585658183301877,
           -109.10491151119497,
           -161.38113938899372,
           -39.403274340796656,
           11.019186590980853,
           12.872953537002092,
           -18.28927475998257
          ],
          [
           25.3196744602875,
           30.298362829601672,
           -30.690569694496876,
           74.8066371673259,
           -109.10491151119497,
           -41.06283713056804,
           40.44480368352041,
           25.319674460287494,
           43.17801317630572,
           -38.37825026476138,
           12.872953537002092,
           -183.1629010047432,
           12.872953537002099,
           -7.627527983703295,
           -12.57504518238837
          ],
          [
           -86.70081384928122,
           -96.0358545417453,
           9.868572624484932,
           75.58527818894014,
           -12.539101681372312,
           -15.232545322029484,
           29.1910625735502,
           3.4900408409869175,
           38.49855543788383,
           -18.80960881317896,
           52.476156474728405,
           -230.1656497545184,
           -44.99975615739797,
           19.98536549316519,
           8.13594906911094
          ],
          [
           -40.74369044022739,
           -5.557767830170539,
           -50.15512262771979,
           80.353705209324,
           -35.91819248227675,
           -51.88363505036122,
           35.66002722732462,
           28.714234712092622,
           -15.610888575901056,
           -20.853645093835794,
           45.545595960626315,
           -24.658697247058566,
           -12.443207133378424,
           52.476156474728405,
           -9.184526580212575
          ],
          [
           -18.809608813178958,
           -190.42348820999302,
           -4.552455755597493,
           66.77358397597537,
           -4.552455755597496,
           -124.04097661913751,
           43.277993211772625,
           -27.20548783597696,
           -37.16039987739274,
           -34.906394523351615,
           -43.75962666394654,
           -13.93536845161265,
           -5.153331938100923,
           27.89485809958794,
           -135.88614248901283
          ],
          [
           -74.25409292599582,
           -15.415048561373842,
           -20.98212737433423,
           77.63583834104867,
           -64.83495276783388,
           -22.22478380335537,
           24.85797229311773,
           34.65471515275157,
           -23.664194979738962,
           -59.732918515496166,
           -13.643973647388563,
           -74.2540929259958,
           15.096613655547275,
           44.55551588718315,
           1.8549418247552665
          ],
          [
           -12.020488309568746,
           -35.12075849770016,
           -7.980405124633466,
           76.34214504800347,
           -47.6420661820676,
           -89.94074120458332,
           42.717886547784786,
           -2.15952983161374,
           10.098206834358855,
           -37.6354791951706,
           14.548473661290522,
           -33.09591760298453,
           5.070531465688843,
           19.339414016677715,
           5.27126491942509
          ],
          [
           28.12018666802673,
           -41.581450502371595,
           -12.787751928127427,
           76.2380782373642,
           -7.744897152714961,
           -75.70018498347294,
           36.42080393240693,
           14.432772783142713,
           -16.688008655800783,
           -61.94266244752872,
           12.872953537002099,
           -46.3734380578365,
           1.5746831727230557,
           26.05665135706099,
           -6.059906199035559
          ],
          [
           47.72377212220126,
           12.872953537002083,
           -19.48852086353999,
           65.60774481723767,
           -2.9683276380884376,
           -85.06547825352109,
           43.72176424638891,
           29.628154779886305,
           26.486554546845515,
           -69.12897254581945,
           -49.360651079425,
           -34.6508899882695,
           17.96066427936694,
           67.90056182942182,
           -9.440070557180295
          ],
          [
           25.3196744602875,
           -56.82868363339624,
           -16.16939528399722,
           65.65795248903731,
           -79.37921330617218,
           -73.36504143147542,
           36.036639605714534,
           16.223993785578926,
           2.915576798373763,
           -104.8662984400221,
           62.65983723014376,
           -62.23656927592713,
           -32.641175212325166,
           46.2915467008917,
           -76.68340771057073
          ],
          [
           100,
           -12.020488309568755,
           -35.91819248227674,
           69.2492777189419,
           -60.84993193168844,
           -118.83072134892497,
           34.654715152751564,
           -42.57153057581476,
           60.79282909165094,
           45.545595960626315,
           12.872953537002092,
           7.7478331568257435,
           -0.9881674912021198,
           -68.03073246435312,
           -31.54475642452626
          ],
          [
           19.57503403415578,
           -90.09537410108635,
           -51.32592280415425,
           70.9576511790007,
           -26.730249400724237,
           -49.36065107942499,
           45.142230004779094,
           12.872953537002092,
           43.98975584521562,
           -131.2217771518021,
           12.872953537002092,
           -59.732918515496166,
           22.141788267108247,
           -39.403274340796656,
           7.112487655150991
          ],
          [
           -40.02561038696093,
           -8.157712850618088,
           -6.783758165015735,
           69.43275458219405,
           -4.934034061274851,
           -89.43302088122192,
           40.406208941003555,
           14.028484657200996,
           21.76346848220596,
           -54.452491457132666,
           62.65983723014376,
           -42.847831991659355,
           9.886744283229978,
           36.90800083713945,
           0.26524026547692675
          ],
          [
           18.318393940939472,
           -0.5312074573052595,
           -24.26316462755439,
           71.74257952551419,
           -49.36065107942497,
           -155.57266962479386,
           32.88862637309621,
           -20.094037016564695,
           14.375143993260686,
           -83.67323308415774,
           88.63560263526115,
           0.8554298869334213,
           3.8442440589712223,
           81.81696421641783,
           -8.52667191005003
          ],
          [
           5.249336971489777,
           -30.013416483644555,
           -27.005152327840783,
           75.91610097770788,
           -81.6056169518783,
           -57.60219132086058,
           37.79357163013031,
           -18.22510370958,
           0.4262326137166619,
           -61.211121898600915,
           27.13010659458357,
           -4.000242080832011,
           18.05058539648353,
           33.147800827133686,
           13.10304256815438
          ]
         ],
         "zmid": 0
        }
       ],
       "layout": {
        "font": {
         "size": 18
        },
        "height": 800,
        "template": {
         "data": {
          "bar": [
           {
            "error_x": {
             "color": "#2a3f5f"
            },
            "error_y": {
             "color": "#2a3f5f"
            },
            "marker": {
             "line": {
              "color": "#E5ECF6",
              "width": 0.5
             },
             "pattern": {
              "fillmode": "overlay",
              "size": 10,
              "solidity": 0.2
             }
            },
            "type": "bar"
           }
          ],
          "barpolar": [
           {
            "marker": {
             "line": {
              "color": "#E5ECF6",
              "width": 0.5
             },
             "pattern": {
              "fillmode": "overlay",
              "size": 10,
              "solidity": 0.2
             }
            },
            "type": "barpolar"
           }
          ],
          "carpet": [
           {
            "aaxis": {
             "endlinecolor": "#2a3f5f",
             "gridcolor": "white",
             "linecolor": "white",
             "minorgridcolor": "white",
             "startlinecolor": "#2a3f5f"
            },
            "baxis": {
             "endlinecolor": "#2a3f5f",
             "gridcolor": "white",
             "linecolor": "white",
             "minorgridcolor": "white",
             "startlinecolor": "#2a3f5f"
            },
            "type": "carpet"
           }
          ],
          "choropleth": [
           {
            "colorbar": {
             "outlinewidth": 0,
             "ticks": ""
            },
            "type": "choropleth"
           }
          ],
          "contour": [
           {
            "colorbar": {
             "outlinewidth": 0,
             "ticks": ""
            },
            "colorscale": [
             [
              0,
              "#0d0887"
             ],
             [
              0.1111111111111111,
              "#46039f"
             ],
             [
              0.2222222222222222,
              "#7201a8"
             ],
             [
              0.3333333333333333,
              "#9c179e"
             ],
             [
              0.4444444444444444,
              "#bd3786"
             ],
             [
              0.5555555555555556,
              "#d8576b"
             ],
             [
              0.6666666666666666,
              "#ed7953"
             ],
             [
              0.7777777777777778,
              "#fb9f3a"
             ],
             [
              0.8888888888888888,
              "#fdca26"
             ],
             [
              1,
              "#f0f921"
             ]
            ],
            "type": "contour"
           }
          ],
          "contourcarpet": [
           {
            "colorbar": {
             "outlinewidth": 0,
             "ticks": ""
            },
            "type": "contourcarpet"
           }
          ],
          "heatmap": [
           {
            "colorbar": {
             "outlinewidth": 0,
             "ticks": ""
            },
            "colorscale": [
             [
              0,
              "#0d0887"
             ],
             [
              0.1111111111111111,
              "#46039f"
             ],
             [
              0.2222222222222222,
              "#7201a8"
             ],
             [
              0.3333333333333333,
              "#9c179e"
             ],
             [
              0.4444444444444444,
              "#bd3786"
             ],
             [
              0.5555555555555556,
              "#d8576b"
             ],
             [
              0.6666666666666666,
              "#ed7953"
             ],
             [
              0.7777777777777778,
              "#fb9f3a"
             ],
             [
              0.8888888888888888,
              "#fdca26"
             ],
             [
              1,
              "#f0f921"
             ]
            ],
            "type": "heatmap"
           }
          ],
          "heatmapgl": [
           {
            "colorbar": {
             "outlinewidth": 0,
             "ticks": ""
            },
            "colorscale": [
             [
              0,
              "#0d0887"
             ],
             [
              0.1111111111111111,
              "#46039f"
             ],
             [
              0.2222222222222222,
              "#7201a8"
             ],
             [
              0.3333333333333333,
              "#9c179e"
             ],
             [
              0.4444444444444444,
              "#bd3786"
             ],
             [
              0.5555555555555556,
              "#d8576b"
             ],
             [
              0.6666666666666666,
              "#ed7953"
             ],
             [
              0.7777777777777778,
              "#fb9f3a"
             ],
             [
              0.8888888888888888,
              "#fdca26"
             ],
             [
              1,
              "#f0f921"
             ]
            ],
            "type": "heatmapgl"
           }
          ],
          "histogram": [
           {
            "marker": {
             "pattern": {
              "fillmode": "overlay",
              "size": 10,
              "solidity": 0.2
             }
            },
            "type": "histogram"
           }
          ],
          "histogram2d": [
           {
            "colorbar": {
             "outlinewidth": 0,
             "ticks": ""
            },
            "colorscale": [
             [
              0,
              "#0d0887"
             ],
             [
              0.1111111111111111,
              "#46039f"
             ],
             [
              0.2222222222222222,
              "#7201a8"
             ],
             [
              0.3333333333333333,
              "#9c179e"
             ],
             [
              0.4444444444444444,
              "#bd3786"
             ],
             [
              0.5555555555555556,
              "#d8576b"
             ],
             [
              0.6666666666666666,
              "#ed7953"
             ],
             [
              0.7777777777777778,
              "#fb9f3a"
             ],
             [
              0.8888888888888888,
              "#fdca26"
             ],
             [
              1,
              "#f0f921"
             ]
            ],
            "type": "histogram2d"
           }
          ],
          "histogram2dcontour": [
           {
            "colorbar": {
             "outlinewidth": 0,
             "ticks": ""
            },
            "colorscale": [
             [
              0,
              "#0d0887"
             ],
             [
              0.1111111111111111,
              "#46039f"
             ],
             [
              0.2222222222222222,
              "#7201a8"
             ],
             [
              0.3333333333333333,
              "#9c179e"
             ],
             [
              0.4444444444444444,
              "#bd3786"
             ],
             [
              0.5555555555555556,
              "#d8576b"
             ],
             [
              0.6666666666666666,
              "#ed7953"
             ],
             [
              0.7777777777777778,
              "#fb9f3a"
             ],
             [
              0.8888888888888888,
              "#fdca26"
             ],
             [
              1,
              "#f0f921"
             ]
            ],
            "type": "histogram2dcontour"
           }
          ],
          "mesh3d": [
           {
            "colorbar": {
             "outlinewidth": 0,
             "ticks": ""
            },
            "type": "mesh3d"
           }
          ],
          "parcoords": [
           {
            "line": {
             "colorbar": {
              "outlinewidth": 0,
              "ticks": ""
             }
            },
            "type": "parcoords"
           }
          ],
          "pie": [
           {
            "automargin": true,
            "type": "pie"
           }
          ],
          "scatter": [
           {
            "fillpattern": {
             "fillmode": "overlay",
             "size": 10,
             "solidity": 0.2
            },
            "type": "scatter"
           }
          ],
          "scatter3d": [
           {
            "line": {
             "colorbar": {
              "outlinewidth": 0,
              "ticks": ""
             }
            },
            "marker": {
             "colorbar": {
              "outlinewidth": 0,
              "ticks": ""
             }
            },
            "type": "scatter3d"
           }
          ],
          "scattercarpet": [
           {
            "marker": {
             "colorbar": {
              "outlinewidth": 0,
              "ticks": ""
             }
            },
            "type": "scattercarpet"
           }
          ],
          "scattergeo": [
           {
            "marker": {
             "colorbar": {
              "outlinewidth": 0,
              "ticks": ""
             }
            },
            "type": "scattergeo"
           }
          ],
          "scattergl": [
           {
            "marker": {
             "colorbar": {
              "outlinewidth": 0,
              "ticks": ""
             }
            },
            "type": "scattergl"
           }
          ],
          "scattermapbox": [
           {
            "marker": {
             "colorbar": {
              "outlinewidth": 0,
              "ticks": ""
             }
            },
            "type": "scattermapbox"
           }
          ],
          "scatterpolar": [
           {
            "marker": {
             "colorbar": {
              "outlinewidth": 0,
              "ticks": ""
             }
            },
            "type": "scatterpolar"
           }
          ],
          "scatterpolargl": [
           {
            "marker": {
             "colorbar": {
              "outlinewidth": 0,
              "ticks": ""
             }
            },
            "type": "scatterpolargl"
           }
          ],
          "scatterternary": [
           {
            "marker": {
             "colorbar": {
              "outlinewidth": 0,
              "ticks": ""
             }
            },
            "type": "scatterternary"
           }
          ],
          "surface": [
           {
            "colorbar": {
             "outlinewidth": 0,
             "ticks": ""
            },
            "colorscale": [
             [
              0,
              "#0d0887"
             ],
             [
              0.1111111111111111,
              "#46039f"
             ],
             [
              0.2222222222222222,
              "#7201a8"
             ],
             [
              0.3333333333333333,
              "#9c179e"
             ],
             [
              0.4444444444444444,
              "#bd3786"
             ],
             [
              0.5555555555555556,
              "#d8576b"
             ],
             [
              0.6666666666666666,
              "#ed7953"
             ],
             [
              0.7777777777777778,
              "#fb9f3a"
             ],
             [
              0.8888888888888888,
              "#fdca26"
             ],
             [
              1,
              "#f0f921"
             ]
            ],
            "type": "surface"
           }
          ],
          "table": [
           {
            "cells": {
             "fill": {
              "color": "#EBF0F8"
             },
             "line": {
              "color": "white"
             }
            },
            "header": {
             "fill": {
              "color": "#C8D4E3"
             },
             "line": {
              "color": "white"
             }
            },
            "type": "table"
           }
          ]
         },
         "layout": {
          "annotationdefaults": {
           "arrowcolor": "#2a3f5f",
           "arrowhead": 0,
           "arrowwidth": 1
          },
          "autotypenumbers": "strict",
          "coloraxis": {
           "colorbar": {
            "outlinewidth": 0,
            "ticks": ""
           }
          },
          "colorscale": {
           "diverging": [
            [
             0,
             "#8e0152"
            ],
            [
             0.1,
             "#c51b7d"
            ],
            [
             0.2,
             "#de77ae"
            ],
            [
             0.3,
             "#f1b6da"
            ],
            [
             0.4,
             "#fde0ef"
            ],
            [
             0.5,
             "#f7f7f7"
            ],
            [
             0.6,
             "#e6f5d0"
            ],
            [
             0.7,
             "#b8e186"
            ],
            [
             0.8,
             "#7fbc41"
            ],
            [
             0.9,
             "#4d9221"
            ],
            [
             1,
             "#276419"
            ]
           ],
           "sequential": [
            [
             0,
             "#0d0887"
            ],
            [
             0.1111111111111111,
             "#46039f"
            ],
            [
             0.2222222222222222,
             "#7201a8"
            ],
            [
             0.3333333333333333,
             "#9c179e"
            ],
            [
             0.4444444444444444,
             "#bd3786"
            ],
            [
             0.5555555555555556,
             "#d8576b"
            ],
            [
             0.6666666666666666,
             "#ed7953"
            ],
            [
             0.7777777777777778,
             "#fb9f3a"
            ],
            [
             0.8888888888888888,
             "#fdca26"
            ],
            [
             1,
             "#f0f921"
            ]
           ],
           "sequentialminus": [
            [
             0,
             "#0d0887"
            ],
            [
             0.1111111111111111,
             "#46039f"
            ],
            [
             0.2222222222222222,
             "#7201a8"
            ],
            [
             0.3333333333333333,
             "#9c179e"
            ],
            [
             0.4444444444444444,
             "#bd3786"
            ],
            [
             0.5555555555555556,
             "#d8576b"
            ],
            [
             0.6666666666666666,
             "#ed7953"
            ],
            [
             0.7777777777777778,
             "#fb9f3a"
            ],
            [
             0.8888888888888888,
             "#fdca26"
            ],
            [
             1,
             "#f0f921"
            ]
           ]
          },
          "colorway": [
           "#636efa",
           "#EF553B",
           "#00cc96",
           "#ab63fa",
           "#FFA15A",
           "#19d3f3",
           "#FF6692",
           "#B6E880",
           "#FF97FF",
           "#FECB52"
          ],
          "font": {
           "color": "#2a3f5f"
          },
          "geo": {
           "bgcolor": "white",
           "lakecolor": "white",
           "landcolor": "#E5ECF6",
           "showlakes": true,
           "showland": true,
           "subunitcolor": "white"
          },
          "hoverlabel": {
           "align": "left"
          },
          "hovermode": "closest",
          "mapbox": {
           "style": "light"
          },
          "paper_bgcolor": "white",
          "plot_bgcolor": "#E5ECF6",
          "polar": {
           "angularaxis": {
            "gridcolor": "white",
            "linecolor": "white",
            "ticks": ""
           },
           "bgcolor": "#E5ECF6",
           "radialaxis": {
            "gridcolor": "white",
            "linecolor": "white",
            "ticks": ""
           }
          },
          "scene": {
           "xaxis": {
            "backgroundcolor": "#E5ECF6",
            "gridcolor": "white",
            "gridwidth": 2,
            "linecolor": "white",
            "showbackground": true,
            "ticks": "",
            "zerolinecolor": "white"
           },
           "yaxis": {
            "backgroundcolor": "#E5ECF6",
            "gridcolor": "white",
            "gridwidth": 2,
            "linecolor": "white",
            "showbackground": true,
            "ticks": "",
            "zerolinecolor": "white"
           },
           "zaxis": {
            "backgroundcolor": "#E5ECF6",
            "gridcolor": "white",
            "gridwidth": 2,
            "linecolor": "white",
            "showbackground": true,
            "ticks": "",
            "zerolinecolor": "white"
           }
          },
          "shapedefaults": {
           "line": {
            "color": "#2a3f5f"
           }
          },
          "ternary": {
           "aaxis": {
            "gridcolor": "white",
            "linecolor": "white",
            "ticks": ""
           },
           "baxis": {
            "gridcolor": "white",
            "linecolor": "white",
            "ticks": ""
           },
           "bgcolor": "#E5ECF6",
           "caxis": {
            "gridcolor": "white",
            "linecolor": "white",
            "ticks": ""
           }
          },
          "title": {
           "x": 0.05
          },
          "xaxis": {
           "automargin": true,
           "gridcolor": "white",
           "linecolor": "white",
           "ticks": "",
           "title": {
            "standoff": 15
           },
           "zerolinecolor": "white",
           "zerolinewidth": 2
          },
          "yaxis": {
           "automargin": true,
           "gridcolor": "white",
           "linecolor": "white",
           "ticks": "",
           "title": {
            "standoff": 15
           },
           "zerolinecolor": "white",
           "zerolinewidth": 2
          }
         }
        },
        "title": {
         "text": "Difference in distribution of start and target articles<br>categories between finished and unfinished paths",
         "x": 0.5,
         "xanchor": "center"
        },
        "width": 800,
        "xaxis": {
         "title": {
          "text": "Target article category"
         }
        },
        "yaxis": {
         "scaleanchor": "x",
         "title": {
          "text": "Source article category"
         }
        }
       }
      }
     },
     "metadata": {},
     "output_type": "display_data"
    }
   ],
   "source": [
    "plot_heatmap_differences(distrib_f.reshape(15, 15), distrib_unf.reshape(15, 15), cats, tot_links_f)"
   ]
  },
  {
   "cell_type": "code",
   "execution_count": 23,
   "metadata": {},
   "outputs": [
    {
     "data": {
      "text/plain": [
       "F_onewayResult(statistic=1.1819300616721256e-08, pvalue=0.9999133051341907)"
      ]
     },
     "execution_count": 23,
     "metadata": {},
     "output_type": "execute_result"
    }
   ],
   "source": [
    "# NEXTSTEP:: check one more time that we use the right statistical test\n",
    "# same test\n",
    "f_oneway(distrib_f, distrib_unf_trunc)"
   ]
  },
  {
   "cell_type": "markdown",
   "metadata": {},
   "source": [
    "But we can still not say that the distribution is different... what if we take a higher threshold to count an unfinished path as a proper game? "
   ]
  },
  {
   "cell_type": "code",
   "execution_count": 24,
   "metadata": {},
   "outputs": [
    {
     "name": "stdout",
     "output_type": "stream",
     "text": [
      "i=2, number of rows kept:19607, percentage of rows kept:100.00%, pval anova=1.000, pval ttest=0.000\n",
      "i=3, number of rows kept:16390, percentage of rows kept:83.59%, pval anova=1.000, pval ttest=0.000\n",
      "i=4, number of rows kept:13234, percentage of rows kept:67.50%, pval anova=1.000, pval ttest=0.000\n",
      "i=5, number of rows kept:10514, percentage of rows kept:53.62%, pval anova=1.000, pval ttest=0.000\n",
      "i=6, number of rows kept:8060, percentage of rows kept:41.11%, pval anova=1.000, pval ttest=0.000\n",
      "i=7, number of rows kept:6280, percentage of rows kept:32.03%, pval anova=1.000, pval ttest=0.000\n",
      "i=8, number of rows kept:4849, percentage of rows kept:24.73%, pval anova=1.000, pval ttest=0.000\n",
      "i=9, number of rows kept:3893, percentage of rows kept:19.86%, pval anova=1.000, pval ttest=0.000\n",
      "i=10, number of rows kept:3099, percentage of rows kept:15.81%, pval anova=1.000, pval ttest=0.000\n",
      "i=11, number of rows kept:2520, percentage of rows kept:12.85%, pval anova=1.000, pval ttest=0.000\n",
      "i=12, number of rows kept:2073, percentage of rows kept:10.57%, pval anova=1.000, pval ttest=0.000\n",
      "i=13, number of rows kept:1705, percentage of rows kept:8.70%, pval anova=1.000, pval ttest=0.000\n",
      "i=14, number of rows kept:1412, percentage of rows kept:7.20%, pval anova=1.000, pval ttest=0.000\n",
      "i=15, number of rows kept:1183, percentage of rows kept:6.03%, pval anova=1.000, pval ttest=0.000\n",
      "i=16, number of rows kept:971, percentage of rows kept:4.95%, pval anova=1.000, pval ttest=0.000\n",
      "i=17, number of rows kept:841, percentage of rows kept:4.29%, pval anova=1.000, pval ttest=0.000\n",
      "i=18, number of rows kept:716, percentage of rows kept:3.65%, pval anova=1.000, pval ttest=0.000\n",
      "i=19, number of rows kept:627, percentage of rows kept:3.20%, pval anova=1.000, pval ttest=0.000\n"
     ]
    }
   ],
   "source": [
    "# NEXTSTEP:: check one more time that we use the right statistical test\n",
    "for i in range(2, 20):\n",
    "    path_unfinished_trunc = path_unfinished.copy(deep=True)\n",
    "    path_unfinished_trunc = path_unfinished_trunc.loc[path_unfinished_trunc.path.map(lambda x: len(x)>=i)]\n",
    "    \n",
    "    distrib_unf_trunc, tot_unf_trunc = get_sankey_data(path_unfinished_trunc, categories, 'unf', suffix_fn=str(i))\n",
    "\n",
    "    stat, pval_anova = f_oneway(distrib_f, distrib_unf_trunc)\n",
    "    pval, stat_chi2 = chi2_contingency_test(distrib_f*tot_links_f, distrib_unf_trunc*tot_unf_trunc)\n",
    "    \n",
    "    print(f'i={i}, number of rows kept:{path_unfinished_trunc.shape[0]}, percentage of rows kept:{100-(path_unfinished.shape[0]-path_unfinished_trunc.shape[0])/path_unfinished.shape[0]*100:.2f}%, pval anova={pval_anova:.3f}, pval ttest={pval:.3f}')"
   ]
  },
  {
   "cell_type": "markdown",
   "metadata": {},
   "source": [
    "Mmm, the pvalue is below the level of significiance of 0.05 only for paths longer than 15 articles, i.e. when the player clicked on at least 14 links. Considering these long paths only reduces considerably the percentages of data considered, making the sample too small to be significantly relevant. Thus, we can conclude quite safely that the category of the start and target articles is not the main reason behind failure."
   ]
  },
  {
   "cell_type": "markdown",
   "metadata": {},
   "source": [
    "# Logistic regression du désespoir"
   ]
  },
  {
   "cell_type": "code",
   "execution_count": 25,
   "metadata": {},
   "outputs": [
    {
     "data": {
      "text/html": [
       "<div>\n",
       "<style scoped>\n",
       "    .dataframe tbody tr th:only-of-type {\n",
       "        vertical-align: middle;\n",
       "    }\n",
       "\n",
       "    .dataframe tbody tr th {\n",
       "        vertical-align: top;\n",
       "    }\n",
       "\n",
       "    .dataframe thead th {\n",
       "        text-align: right;\n",
       "    }\n",
       "</style>\n",
       "<table border=\"1\" class=\"dataframe\">\n",
       "  <thead>\n",
       "    <tr style=\"text-align: right;\">\n",
       "      <th></th>\n",
       "      <th>start</th>\n",
       "      <th>target</th>\n",
       "      <th>path</th>\n",
       "      <th>finished?</th>\n",
       "      <th>length</th>\n",
       "      <th>game</th>\n",
       "    </tr>\n",
       "  </thead>\n",
       "  <tbody>\n",
       "    <tr>\n",
       "      <th>0</th>\n",
       "      <td>14th_century</td>\n",
       "      <td>African_slave_trade</td>\n",
       "      <td>[14th_century, 15th_century, 16th_century, Pac...</td>\n",
       "      <td>1</td>\n",
       "      <td>9</td>\n",
       "      <td>14th_century, African_slave_trade</td>\n",
       "    </tr>\n",
       "    <tr>\n",
       "      <th>1</th>\n",
       "      <td>14th_century</td>\n",
       "      <td>African_slave_trade</td>\n",
       "      <td>[14th_century, Europe, Africa, Atlantic_slave_...</td>\n",
       "      <td>1</td>\n",
       "      <td>5</td>\n",
       "      <td>14th_century, African_slave_trade</td>\n",
       "    </tr>\n",
       "    <tr>\n",
       "      <th>2</th>\n",
       "      <td>14th_century</td>\n",
       "      <td>African_slave_trade</td>\n",
       "      <td>[14th_century, Niger, Nigeria, British_Empire,...</td>\n",
       "      <td>1</td>\n",
       "      <td>8</td>\n",
       "      <td>14th_century, African_slave_trade</td>\n",
       "    </tr>\n",
       "    <tr>\n",
       "      <th>3</th>\n",
       "      <td>14th_century</td>\n",
       "      <td>Greece</td>\n",
       "      <td>[14th_century, Renaissance, Ancient_Greece, Gr...</td>\n",
       "      <td>1</td>\n",
       "      <td>4</td>\n",
       "      <td>14th_century, Greece</td>\n",
       "    </tr>\n",
       "    <tr>\n",
       "      <th>4</th>\n",
       "      <td>14th_century</td>\n",
       "      <td>John_F._Kennedy</td>\n",
       "      <td>[14th_century, Italy, Roman_Catholic_Church, H...</td>\n",
       "      <td>1</td>\n",
       "      <td>7</td>\n",
       "      <td>14th_century, John_F._Kennedy</td>\n",
       "    </tr>\n",
       "    <tr>\n",
       "      <th>...</th>\n",
       "      <td>...</td>\n",
       "      <td>...</td>\n",
       "      <td>...</td>\n",
       "      <td>...</td>\n",
       "      <td>...</td>\n",
       "      <td>...</td>\n",
       "    </tr>\n",
       "    <tr>\n",
       "      <th>24869</th>\n",
       "      <td>Turks_and_Caicos_Islands</td>\n",
       "      <td>Iraq_War</td>\n",
       "      <td>[Turks_and_Caicos_Islands, United_States, Iraq...</td>\n",
       "      <td>0</td>\n",
       "      <td>6</td>\n",
       "      <td>Turks_and_Caicos_Islands, Iraq_War</td>\n",
       "    </tr>\n",
       "    <tr>\n",
       "      <th>24870</th>\n",
       "      <td>Franz_Kafka</td>\n",
       "      <td>Cholera</td>\n",
       "      <td>[Franz_Kafka, Tuberculosis, World_Health_Organ...</td>\n",
       "      <td>0</td>\n",
       "      <td>8</td>\n",
       "      <td>Franz_Kafka, Cholera</td>\n",
       "    </tr>\n",
       "    <tr>\n",
       "      <th>24872</th>\n",
       "      <td>Computer_programming</td>\n",
       "      <td>The_Beatles</td>\n",
       "      <td>[Computer_programming, Linguistics, Culture, P...</td>\n",
       "      <td>0</td>\n",
       "      <td>5</td>\n",
       "      <td>Computer_programming, The_Beatles</td>\n",
       "    </tr>\n",
       "    <tr>\n",
       "      <th>24873</th>\n",
       "      <td>Jamaica</td>\n",
       "      <td>Alan_Turing</td>\n",
       "      <td>[Jamaica, United_Kingdom, World_War_II, Battle...</td>\n",
       "      <td>0</td>\n",
       "      <td>4</td>\n",
       "      <td>Jamaica, Alan_Turing</td>\n",
       "    </tr>\n",
       "    <tr>\n",
       "      <th>24874</th>\n",
       "      <td>Mark_Antony</td>\n",
       "      <td>Feather</td>\n",
       "      <td>[Mark_Antony, Rome, Tennis, Hawk-Eye, Computer]</td>\n",
       "      <td>0</td>\n",
       "      <td>5</td>\n",
       "      <td>Mark_Antony, Feather</td>\n",
       "    </tr>\n",
       "  </tbody>\n",
       "</table>\n",
       "<p>70856 rows × 6 columns</p>\n",
       "</div>"
      ],
      "text/plain": [
       "                          start               target  \\\n",
       "0                  14th_century  African_slave_trade   \n",
       "1                  14th_century  African_slave_trade   \n",
       "2                  14th_century  African_slave_trade   \n",
       "3                  14th_century               Greece   \n",
       "4                  14th_century      John_F._Kennedy   \n",
       "...                         ...                  ...   \n",
       "24869  Turks_and_Caicos_Islands             Iraq_War   \n",
       "24870               Franz_Kafka              Cholera   \n",
       "24872      Computer_programming          The_Beatles   \n",
       "24873                   Jamaica          Alan_Turing   \n",
       "24874               Mark_Antony              Feather   \n",
       "\n",
       "                                                    path  finished?  length  \\\n",
       "0      [14th_century, 15th_century, 16th_century, Pac...          1       9   \n",
       "1      [14th_century, Europe, Africa, Atlantic_slave_...          1       5   \n",
       "2      [14th_century, Niger, Nigeria, British_Empire,...          1       8   \n",
       "3      [14th_century, Renaissance, Ancient_Greece, Gr...          1       4   \n",
       "4      [14th_century, Italy, Roman_Catholic_Church, H...          1       7   \n",
       "...                                                  ...        ...     ...   \n",
       "24869  [Turks_and_Caicos_Islands, United_States, Iraq...          0       6   \n",
       "24870  [Franz_Kafka, Tuberculosis, World_Health_Organ...          0       8   \n",
       "24872  [Computer_programming, Linguistics, Culture, P...          0       5   \n",
       "24873  [Jamaica, United_Kingdom, World_War_II, Battle...          0       4   \n",
       "24874    [Mark_Antony, Rome, Tennis, Hawk-Eye, Computer]          0       5   \n",
       "\n",
       "                                     game  \n",
       "0       14th_century, African_slave_trade  \n",
       "1       14th_century, African_slave_trade  \n",
       "2       14th_century, African_slave_trade  \n",
       "3                    14th_century, Greece  \n",
       "4           14th_century, John_F._Kennedy  \n",
       "...                                   ...  \n",
       "24869  Turks_and_Caicos_Islands, Iraq_War  \n",
       "24870                Franz_Kafka, Cholera  \n",
       "24872   Computer_programming, The_Beatles  \n",
       "24873                Jamaica, Alan_Turing  \n",
       "24874                Mark_Antony, Feather  \n",
       "\n",
       "[70856 rows x 6 columns]"
      ]
     },
     "execution_count": 25,
     "metadata": {},
     "output_type": "execute_result"
    }
   ],
   "source": [
    "path_finished_super_reduced = path_finished[['start', 'end', 'path']].copy(deep=True).rename(columns={'end':'target'})\n",
    "path_unfinished_super_reduced = path_unfinished[['start', 'target', 'path']].copy(deep=True)\n",
    "# path_unfinished_super_reduced = path_unfinished_super_reduced[path_unfinished_super_reduced.path.str.len()>1]\n",
    "\n",
    "path_finished_super_reduced['finished?'] = 1\n",
    "path_finished_super_reduced['length'] = path_finished_super_reduced.path.str.len()\n",
    "path_unfinished_super_reduced['finished?'] = 0\n",
    "path_unfinished_super_reduced['length'] = path_unfinished_super_reduced.path.str.len()\n",
    "\n",
    "all_games = pd.concat([path_finished_super_reduced, path_unfinished_super_reduced], axis=0)\n",
    "all_games['game'] = all_games.apply(lambda x: x.start+', '+x.target, axis=1)\n",
    "\n",
    "all_games\n",
    "# all_games = all_games.drop(index=(all_games.game.value_counts()<5))\n"
   ]
  },
  {
   "cell_type": "code",
   "execution_count": 26,
   "metadata": {},
   "outputs": [],
   "source": [
    "\n",
    "countLinkToTarget = links2007[['linkTarget', 'linkSource']].groupby('linkTarget').count()\n",
    "\n",
    "article_names_2007 = pd.read_csv('data/2007/articles.tsv', sep='\\t', comment='#', names=['article_2007'])\n",
    "original_links2007 = pd.read_csv('data/2007/links.tsv', sep='\\t', comment='#', names=['linkSource', 'linkTarget'])\n",
    "\n",
    "G_2007 = nx.DiGraph()\n",
    "G_2007.add_nodes_from(np.unique(article_names_2007))\n",
    "G_2007.add_edges_from(original_links2007.to_numpy())\n",
    "\n",
    "def number_links_to_target(game, counts=countLinkToTarget):\n",
    "    _, end = parse_game_serie(game)\n",
    "    try:\n",
    "        n = countLinkToTarget.loc[end].values[0]\n",
    "    except KeyError as ke:\n",
    "        n = 0\n",
    "    return n\n",
    "\n",
    "\n",
    "def find_cat(art, cat=categories):\n",
    "    return categories.loc[art].main_category\n",
    "\n",
    "def parse_game_serie(game):\n",
    "    split = game.split(', ')\n",
    "    start = split[0].strip()\n",
    "    end = split[1].strip()\n",
    "    return start, end\n",
    "    \n",
    "def shortest_path_from_graph(G, game):\n",
    "    start, end = parse_game_serie(game)\n",
    "    try:\n",
    "        x = len(nx.shortest_path(G, source=start, target=end))\n",
    "    except:\n",
    "        x = 0\n",
    "    return x\n",
    "\n",
    "shortestPath_lst = [shortest_path_from_graph(G_2007, g) for g in all_games.game.unique()]\n",
    "shortestPath = pd.DataFrame({'shortestPath': shortestPath_lst}, index=all_games.game.unique())\n"
   ]
  },
  {
   "cell_type": "code",
   "execution_count": 27,
   "metadata": {},
   "outputs": [
    {
     "name": "stderr",
     "output_type": "stream",
     "text": [
      "/tmp/ipykernel_42448/4206570497.py:3: SettingWithCopyWarning:\n",
      "\n",
      "\n",
      "A value is trying to be set on a copy of a slice from a DataFrame.\n",
      "Try using .loc[row_indexer,col_indexer] = value instead\n",
      "\n",
      "See the caveats in the documentation: https://pandas.pydata.org/pandas-docs/stable/user_guide/indexing.html#returning-a-view-versus-a-copy\n",
      "\n",
      "/tmp/ipykernel_42448/4206570497.py:4: SettingWithCopyWarning:\n",
      "\n",
      "\n",
      "A value is trying to be set on a copy of a slice from a DataFrame.\n",
      "Try using .loc[row_indexer,col_indexer] = value instead\n",
      "\n",
      "See the caveats in the documentation: https://pandas.pydata.org/pandas-docs/stable/user_guide/indexing.html#returning-a-view-versus-a-copy\n",
      "\n",
      "/tmp/ipykernel_42448/4206570497.py:5: SettingWithCopyWarning:\n",
      "\n",
      "\n",
      "A value is trying to be set on a copy of a slice from a DataFrame.\n",
      "Try using .loc[row_indexer,col_indexer] = value instead\n",
      "\n",
      "See the caveats in the documentation: https://pandas.pydata.org/pandas-docs/stable/user_guide/indexing.html#returning-a-view-versus-a-copy\n",
      "\n",
      "/tmp/ipykernel_42448/4206570497.py:6: SettingWithCopyWarning:\n",
      "\n",
      "\n",
      "A value is trying to be set on a copy of a slice from a DataFrame.\n",
      "Try using .loc[row_indexer,col_indexer] = value instead\n",
      "\n",
      "See the caveats in the documentation: https://pandas.pydata.org/pandas-docs/stable/user_guide/indexing.html#returning-a-view-versus-a-copy\n",
      "\n"
     ]
    }
   ],
   "source": [
    "\n",
    "\n",
    "\n",
    "all_games['links_to_target'] = all_games.game.map(number_links_to_target)\n",
    "all_games = all_games.loc[all_games['links_to_target']!=0]\n",
    "all_games['log_links_to_target'] = np.log(all_games['links_to_target'])\n",
    "all_games['shortest_path'] = all_games.game.apply(lambda x: shortestPath.loc[x].values[0])\n",
    "all_games['catSource'] = all_games.start.apply(lambda x: find_cat(x))\n",
    "all_games['catTarget'] = all_games.target.apply(lambda x: find_cat(x))"
   ]
  },
  {
   "cell_type": "code",
   "execution_count": 28,
   "metadata": {},
   "outputs": [
    {
     "data": {
      "text/html": [
       "<div>\n",
       "<style scoped>\n",
       "    .dataframe tbody tr th:only-of-type {\n",
       "        vertical-align: middle;\n",
       "    }\n",
       "\n",
       "    .dataframe tbody tr th {\n",
       "        vertical-align: top;\n",
       "    }\n",
       "\n",
       "    .dataframe thead th {\n",
       "        text-align: right;\n",
       "    }\n",
       "</style>\n",
       "<table border=\"1\" class=\"dataframe\">\n",
       "  <thead>\n",
       "    <tr style=\"text-align: right;\">\n",
       "      <th></th>\n",
       "      <th>start</th>\n",
       "      <th>target</th>\n",
       "      <th>path</th>\n",
       "      <th>finished?</th>\n",
       "      <th>length</th>\n",
       "      <th>game</th>\n",
       "      <th>links_to_target</th>\n",
       "      <th>log_links_to_target</th>\n",
       "      <th>shortest_path</th>\n",
       "      <th>catSource</th>\n",
       "      <th>catTarget</th>\n",
       "    </tr>\n",
       "  </thead>\n",
       "  <tbody>\n",
       "    <tr>\n",
       "      <th>0</th>\n",
       "      <td>14th_century</td>\n",
       "      <td>African_slave_trade</td>\n",
       "      <td>[14th_century, 15th_century, 16th_century, Pac...</td>\n",
       "      <td>1</td>\n",
       "      <td>9</td>\n",
       "      <td>14th_century, African_slave_trade</td>\n",
       "      <td>7</td>\n",
       "      <td>1.945910</td>\n",
       "      <td>4</td>\n",
       "      <td>History</td>\n",
       "      <td>History</td>\n",
       "    </tr>\n",
       "    <tr>\n",
       "      <th>1</th>\n",
       "      <td>14th_century</td>\n",
       "      <td>African_slave_trade</td>\n",
       "      <td>[14th_century, Europe, Africa, Atlantic_slave_...</td>\n",
       "      <td>1</td>\n",
       "      <td>5</td>\n",
       "      <td>14th_century, African_slave_trade</td>\n",
       "      <td>7</td>\n",
       "      <td>1.945910</td>\n",
       "      <td>4</td>\n",
       "      <td>History</td>\n",
       "      <td>History</td>\n",
       "    </tr>\n",
       "    <tr>\n",
       "      <th>2</th>\n",
       "      <td>14th_century</td>\n",
       "      <td>African_slave_trade</td>\n",
       "      <td>[14th_century, Niger, Nigeria, British_Empire,...</td>\n",
       "      <td>1</td>\n",
       "      <td>8</td>\n",
       "      <td>14th_century, African_slave_trade</td>\n",
       "      <td>7</td>\n",
       "      <td>1.945910</td>\n",
       "      <td>4</td>\n",
       "      <td>History</td>\n",
       "      <td>History</td>\n",
       "    </tr>\n",
       "    <tr>\n",
       "      <th>3</th>\n",
       "      <td>14th_century</td>\n",
       "      <td>Greece</td>\n",
       "      <td>[14th_century, Renaissance, Ancient_Greece, Gr...</td>\n",
       "      <td>1</td>\n",
       "      <td>4</td>\n",
       "      <td>14th_century, Greece</td>\n",
       "      <td>246</td>\n",
       "      <td>5.505332</td>\n",
       "      <td>3</td>\n",
       "      <td>History</td>\n",
       "      <td>Countries</td>\n",
       "    </tr>\n",
       "    <tr>\n",
       "      <th>4</th>\n",
       "      <td>14th_century</td>\n",
       "      <td>John_F._Kennedy</td>\n",
       "      <td>[14th_century, Italy, Roman_Catholic_Church, H...</td>\n",
       "      <td>1</td>\n",
       "      <td>7</td>\n",
       "      <td>14th_century, John_F._Kennedy</td>\n",
       "      <td>60</td>\n",
       "      <td>4.094345</td>\n",
       "      <td>4</td>\n",
       "      <td>History</td>\n",
       "      <td>People</td>\n",
       "    </tr>\n",
       "    <tr>\n",
       "      <th>...</th>\n",
       "      <td>...</td>\n",
       "      <td>...</td>\n",
       "      <td>...</td>\n",
       "      <td>...</td>\n",
       "      <td>...</td>\n",
       "      <td>...</td>\n",
       "      <td>...</td>\n",
       "      <td>...</td>\n",
       "      <td>...</td>\n",
       "      <td>...</td>\n",
       "      <td>...</td>\n",
       "    </tr>\n",
       "    <tr>\n",
       "      <th>24869</th>\n",
       "      <td>Turks_and_Caicos_Islands</td>\n",
       "      <td>Iraq_War</td>\n",
       "      <td>[Turks_and_Caicos_Islands, United_States, Iraq...</td>\n",
       "      <td>0</td>\n",
       "      <td>6</td>\n",
       "      <td>Turks_and_Caicos_Islands, Iraq_War</td>\n",
       "      <td>22</td>\n",
       "      <td>3.091042</td>\n",
       "      <td>4</td>\n",
       "      <td>Countries</td>\n",
       "      <td>History</td>\n",
       "    </tr>\n",
       "    <tr>\n",
       "      <th>24870</th>\n",
       "      <td>Franz_Kafka</td>\n",
       "      <td>Cholera</td>\n",
       "      <td>[Franz_Kafka, Tuberculosis, World_Health_Organ...</td>\n",
       "      <td>0</td>\n",
       "      <td>8</td>\n",
       "      <td>Franz_Kafka, Cholera</td>\n",
       "      <td>38</td>\n",
       "      <td>3.637586</td>\n",
       "      <td>4</td>\n",
       "      <td>People</td>\n",
       "      <td>Science</td>\n",
       "    </tr>\n",
       "    <tr>\n",
       "      <th>24872</th>\n",
       "      <td>Computer_programming</td>\n",
       "      <td>The_Beatles</td>\n",
       "      <td>[Computer_programming, Linguistics, Culture, P...</td>\n",
       "      <td>0</td>\n",
       "      <td>5</td>\n",
       "      <td>Computer_programming, The_Beatles</td>\n",
       "      <td>61</td>\n",
       "      <td>4.110874</td>\n",
       "      <td>4</td>\n",
       "      <td>IT</td>\n",
       "      <td>Music</td>\n",
       "    </tr>\n",
       "    <tr>\n",
       "      <th>24873</th>\n",
       "      <td>Jamaica</td>\n",
       "      <td>Alan_Turing</td>\n",
       "      <td>[Jamaica, United_Kingdom, World_War_II, Battle...</td>\n",
       "      <td>0</td>\n",
       "      <td>4</td>\n",
       "      <td>Jamaica, Alan_Turing</td>\n",
       "      <td>11</td>\n",
       "      <td>2.397895</td>\n",
       "      <td>4</td>\n",
       "      <td>Countries</td>\n",
       "      <td>People</td>\n",
       "    </tr>\n",
       "    <tr>\n",
       "      <th>24874</th>\n",
       "      <td>Mark_Antony</td>\n",
       "      <td>Feather</td>\n",
       "      <td>[Mark_Antony, Rome, Tennis, Hawk-Eye, Computer]</td>\n",
       "      <td>0</td>\n",
       "      <td>5</td>\n",
       "      <td>Mark_Antony, Feather</td>\n",
       "      <td>35</td>\n",
       "      <td>3.555348</td>\n",
       "      <td>4</td>\n",
       "      <td>People</td>\n",
       "      <td>Science</td>\n",
       "    </tr>\n",
       "  </tbody>\n",
       "</table>\n",
       "<p>66828 rows × 11 columns</p>\n",
       "</div>"
      ],
      "text/plain": [
       "                          start               target  \\\n",
       "0                  14th_century  African_slave_trade   \n",
       "1                  14th_century  African_slave_trade   \n",
       "2                  14th_century  African_slave_trade   \n",
       "3                  14th_century               Greece   \n",
       "4                  14th_century      John_F._Kennedy   \n",
       "...                         ...                  ...   \n",
       "24869  Turks_and_Caicos_Islands             Iraq_War   \n",
       "24870               Franz_Kafka              Cholera   \n",
       "24872      Computer_programming          The_Beatles   \n",
       "24873                   Jamaica          Alan_Turing   \n",
       "24874               Mark_Antony              Feather   \n",
       "\n",
       "                                                    path  finished?  length  \\\n",
       "0      [14th_century, 15th_century, 16th_century, Pac...          1       9   \n",
       "1      [14th_century, Europe, Africa, Atlantic_slave_...          1       5   \n",
       "2      [14th_century, Niger, Nigeria, British_Empire,...          1       8   \n",
       "3      [14th_century, Renaissance, Ancient_Greece, Gr...          1       4   \n",
       "4      [14th_century, Italy, Roman_Catholic_Church, H...          1       7   \n",
       "...                                                  ...        ...     ...   \n",
       "24869  [Turks_and_Caicos_Islands, United_States, Iraq...          0       6   \n",
       "24870  [Franz_Kafka, Tuberculosis, World_Health_Organ...          0       8   \n",
       "24872  [Computer_programming, Linguistics, Culture, P...          0       5   \n",
       "24873  [Jamaica, United_Kingdom, World_War_II, Battle...          0       4   \n",
       "24874    [Mark_Antony, Rome, Tennis, Hawk-Eye, Computer]          0       5   \n",
       "\n",
       "                                     game  links_to_target  \\\n",
       "0       14th_century, African_slave_trade                7   \n",
       "1       14th_century, African_slave_trade                7   \n",
       "2       14th_century, African_slave_trade                7   \n",
       "3                    14th_century, Greece              246   \n",
       "4           14th_century, John_F._Kennedy               60   \n",
       "...                                   ...              ...   \n",
       "24869  Turks_and_Caicos_Islands, Iraq_War               22   \n",
       "24870                Franz_Kafka, Cholera               38   \n",
       "24872   Computer_programming, The_Beatles               61   \n",
       "24873                Jamaica, Alan_Turing               11   \n",
       "24874                Mark_Antony, Feather               35   \n",
       "\n",
       "       log_links_to_target  shortest_path  catSource  catTarget  \n",
       "0                 1.945910              4    History    History  \n",
       "1                 1.945910              4    History    History  \n",
       "2                 1.945910              4    History    History  \n",
       "3                 5.505332              3    History  Countries  \n",
       "4                 4.094345              4    History     People  \n",
       "...                    ...            ...        ...        ...  \n",
       "24869             3.091042              4  Countries    History  \n",
       "24870             3.637586              4     People    Science  \n",
       "24872             4.110874              4         IT      Music  \n",
       "24873             2.397895              4  Countries     People  \n",
       "24874             3.555348              4     People    Science  \n",
       "\n",
       "[66828 rows x 11 columns]"
      ]
     },
     "execution_count": 28,
     "metadata": {},
     "output_type": "execute_result"
    }
   ],
   "source": [
    "all_games = all_games.loc[all_games.length>2]\n",
    "all_games"
   ]
  },
  {
   "cell_type": "code",
   "execution_count": 29,
   "metadata": {},
   "outputs": [
    {
     "name": "stdout",
     "output_type": "stream",
     "text": [
      "No. of training samples: 40096 No. of validation samples: 13366 No. of testing samples: 13366\n"
     ]
    }
   ],
   "source": [
    "from sklearn.preprocessing import StandardScaler\n",
    "from sklearn.model_selection import train_test_split\n",
    "import statsmodels.api as sm\n",
    "\n",
    "X_cat = all_games[['shortest_path', 'links_to_target', 'catSource', 'catTarget']]\n",
    "y_cat = all_games[['finished?']]\n",
    "X_cat = pd.get_dummies(X_cat, columns=['shortest_path', 'catSource', 'catTarget'], drop_first=True)\n",
    "\n",
    "X_cat_train, X_cat_test, y_cat_train, y_cat_test = train_test_split(X_cat, y_cat, test_size=0.4)\n",
    "X_cat_valid, X_cat_test, y_cat_valid, y_cat_test = train_test_split(X_cat_test, y_cat_test, test_size=0.5)\n",
    "print(f\"No. of training samples: {len(X_cat_train)} No. of validation samples: {len(X_cat_valid)} No. of testing samples: {len(X_cat_test)}\")\n"
   ]
  },
  {
   "cell_type": "code",
   "execution_count": 30,
   "metadata": {},
   "outputs": [],
   "source": [
    "scaler = StandardScaler()\n",
    "\n",
    "X_cat_train[[col for col in X_cat_train.columns]] = scaler.fit_transform(X_cat_train[[col for col in X_cat_train.columns]])\n",
    "X_cat_valid[[col for col in X_cat_valid.columns]]  = scaler.transform(X_cat_valid[[col for col in X_cat_valid.columns]] )\n",
    "X_cat_test[[col for col in X_cat_test.columns]]  = scaler.transform(X_cat_test[[col for col in X_cat_test.columns]] )\n",
    "\n",
    "\n",
    "X_cat_train = sm.add_constant(X_cat_train)\n",
    "X_cat_valid = sm.add_constant(X_cat_valid)\n",
    "X_cat_test = sm.add_constant(X_cat_test)"
   ]
  },
  {
   "cell_type": "code",
   "execution_count": 31,
   "metadata": {},
   "outputs": [
    {
     "name": "stdout",
     "output_type": "stream",
     "text": [
      "     pcost       dcost       gap    pres   dres\n",
      " 0:  0.0000e+00  6.9315e-01  8e+01  1e+00  1e+00\n",
      " 1:  5.8299e-01 -6.5989e+00  8e+00  1e-01  1e-01\n",
      " 2:  4.4597e-01 -3.1458e-01  9e-01  2e-02  1e-02\n",
      " 3:  4.9111e-01  3.5680e-01  2e-01  4e-03  2e-03\n",
      " 4:  5.0671e-01  5.0409e-01  6e-03  4e-04  5e-04\n",
      " 5:  5.0869e-01  5.0860e-01  9e-04  9e-05  1e-04\n",
      " 6:  5.0917e-01  5.0914e-01  3e-04  3e-05  4e-05\n",
      " 7:  5.0935e-01  5.0935e-01  8e-05  9e-06  1e-05\n",
      " 8:  5.0941e-01  5.0941e-01  2e-05  2e-06  3e-06\n",
      " 9:  5.0942e-01  5.0942e-01  2e-06  3e-07  1e-06\n",
      "10:  5.0942e-01  5.0942e-01  3e-07  6e-08  4e-07\n",
      "11:  5.0942e-01  5.0942e-01  2e-08  2e-08  2e-07\n",
      "12:  5.0942e-01  5.0942e-01  2e-09  6e-09  7e-08\n",
      "Optimal solution found.\n",
      "                           Logit Regression Results                           \n",
      "==============================================================================\n",
      "Dep. Variable:              finished?   No. Observations:                40096\n",
      "Model:                          Logit   Df Residuals:                    40059\n",
      "Method:                           MLE   Df Model:                           36\n",
      "Date:                Sun, 15 Dec 2024   Pseudo R-squ.:                 0.08622\n",
      "Time:                        14:51:29   Log-Likelihood:                -20426.\n",
      "converged:                       True   LL-Null:                       -22353.\n",
      "Covariance Type:            nonrobust   LLR p-value:                     0.000\n",
      "=====================================================================================================\n",
      "                                        coef    std err          z      P>|z|      [0.025      0.975]\n",
      "-----------------------------------------------------------------------------------------------------\n",
      "const                                 1.3288      0.018     75.502      0.000       1.294       1.363\n",
      "links_to_target                       0.7009      0.037     18.986      0.000       0.629       0.773\n",
      "shortest_path_2                       0.5967      2.057      0.290      0.772      -3.435       4.628\n",
      "shortest_path_3                       3.1632     10.569      0.299      0.765     -17.551      23.878\n",
      "shortest_path_4                       3.4720     12.573      0.276      0.782     -21.170      28.114\n",
      "shortest_path_5                       2.3996      9.399      0.255      0.798     -16.021      20.821\n",
      "shortest_path_6                       0.7352      3.368      0.218      0.827      -5.866       7.336\n",
      "shortest_path_7                       0.2195      1.107      0.198      0.843      -1.951       2.390\n",
      "shortest_path_8                      -0.0524      0.764     -0.069      0.945      -1.550       1.446\n",
      "catSource_Business_Studies            0.0046      0.021      0.218      0.828      -0.037       0.046\n",
      "catSource_Citizenship                 0.0249      0.028      0.895      0.371      -0.030       0.079\n",
      "catSource_Countries                  -0.0032      0.033     -0.097      0.923      -0.069       0.062\n",
      "catSource_Design_and_Technology      -0.0999      0.034     -2.967      0.003      -0.166      -0.034\n",
      "catSource_Everyday_life               0.0256      0.042      0.614      0.539      -0.056       0.107\n",
      "catSource_Geography                   0.0471      0.050      0.950      0.342      -0.050       0.144\n",
      "catSource_History                     0.0303      0.038      0.793      0.428      -0.045       0.105\n",
      "catSource_IT                          0.0569      0.024      2.332      0.020       0.009       0.105\n",
      "catSource_Language_and_literature    -0.0605      0.033     -1.808      0.071      -0.126       0.005\n",
      "catSource_Mathematics                 0.0045      0.019      0.239      0.811      -0.033       0.042\n",
      "catSource_Music                       0.0098      0.022      0.446      0.655      -0.033       0.053\n",
      "catSource_People                      0.0384      0.041      0.934      0.350      -0.042       0.119\n",
      "catSource_Religion                    0.0164      0.026      0.639      0.523      -0.034       0.067\n",
      "catSource_Science                     0.0467      0.064      0.734      0.463      -0.078       0.171\n",
      "catTarget_Business_Studies           -0.0518      0.020     -2.554      0.011      -0.092      -0.012\n",
      "catTarget_Citizenship                -0.0739      0.028     -2.616      0.009      -0.129      -0.019\n",
      "catTarget_Countries                   0.1505      0.040      3.793      0.000       0.073       0.228\n",
      "catTarget_Design_and_Technology      -0.0828      0.034     -2.468      0.014      -0.149      -0.017\n",
      "catTarget_Everyday_life              -0.0944      0.038     -2.473      0.013      -0.169      -0.020\n",
      "catTarget_Geography                   0.1480      0.052      2.868      0.004       0.047       0.249\n",
      "catTarget_History                    -0.0269      0.043     -0.633      0.527      -0.110       0.056\n",
      "catTarget_IT                          0.0456      0.025      1.816      0.069      -0.004       0.095\n",
      "catTarget_Language_and_literature    -0.0534      0.026     -2.076      0.038      -0.104      -0.003\n",
      "catTarget_Mathematics                 0.0525      0.019      2.827      0.005       0.016       0.089\n",
      "catTarget_Music                      -0.0241      0.023     -1.064      0.288      -0.068       0.020\n",
      "catTarget_People                      0.0447      0.042      1.058      0.290      -0.038       0.128\n",
      "catTarget_Religion                    0.0318      0.028      1.151      0.250      -0.022       0.086\n",
      "catTarget_Science                     0.0259      0.064      0.406      0.684      -0.099       0.151\n",
      "=====================================================================================================\n"
     ]
    }
   ],
   "source": [
    "import statsmodels.api as sm\n",
    "\n",
    "log_reg_cat = sm.Logit(y_cat_train, X_cat_train).fit_regularized(method='l1_cvxopt_cp', reltol=1e-10) \n",
    "print(log_reg_cat.summary()) "
   ]
  },
  {
   "cell_type": "code",
   "execution_count": 32,
   "metadata": {},
   "outputs": [
    {
     "data": {
      "text/plain": [
       "const                                0.000000e+00\n",
       "links_to_target                      2.236523e-80\n",
       "catSource_Design_and_Technology      3.005898e-03\n",
       "catSource_IT                         1.968531e-02\n",
       "catTarget_Business_Studies           1.066275e-02\n",
       "catTarget_Citizenship                8.886853e-03\n",
       "catTarget_Countries                  1.489134e-04\n",
       "catTarget_Design_and_Technology      1.357792e-02\n",
       "catTarget_Everyday_life              1.341631e-02\n",
       "catTarget_Geography                  4.128299e-03\n",
       "catTarget_Language_and_literature    3.788755e-02\n",
       "catTarget_Mathematics                4.693067e-03\n",
       "dtype: float64"
      ]
     },
     "execution_count": 32,
     "metadata": {},
     "output_type": "execute_result"
    }
   ],
   "source": [
    "log_reg_cat.pvalues[log_reg_cat.pvalues<0.05]"
   ]
  },
  {
   "cell_type": "code",
   "execution_count": 33,
   "metadata": {},
   "outputs": [],
   "source": [
    "import sklearn as sk\n",
    "import sklearn.metrics as metrics\n",
    "\n",
    "\n",
    "n = 50\n",
    "\n",
    "\n",
    "\n",
    "def get_metrics(pred_proba, ytrue, n):\n",
    "    try:\n",
    "        tmp = [[y[1]>i for y in pred_proba] for i in np.linspace(0, 1, 50)]\n",
    "    except:\n",
    "        tmp = [[y>i for y in pred_proba] for i in np.linspace(0, 1, 50)]\n",
    "    r2 = [metrics.r2_score(ytrue, t) for t in tmp]\n",
    "    acc = [metrics.accuracy_score(ytrue, t) for t in tmp]\n",
    "    prec = [metrics.precision_score(ytrue, t) for t in tmp]\n",
    "    rec = [metrics.recall_score(ytrue, t) for t in tmp]\n",
    "    f1 = [metrics.f1_score(ytrue, t) for t in tmp]\n",
    "\n",
    "    return acc, prec, rec, f1, r2\n",
    "\n"
   ]
  },
  {
   "cell_type": "code",
   "execution_count": 34,
   "metadata": {},
   "outputs": [],
   "source": [
    "y_cat_pred_p_valid = log_reg_cat.predict(X_cat_valid)\n",
    "\n",
    "# print(metrics.accuracy_score(y_test, y_test_pred), metrics.precision_score(y_test, y_test_pred), metrics.recall_score(y_test, y_test_pred))\n"
   ]
  },
  {
   "cell_type": "code",
   "execution_count": 35,
   "metadata": {},
   "outputs": [
    {
     "name": "stderr",
     "output_type": "stream",
     "text": [
      "/bin/anaconda3/envs/ada/lib/python3.11/site-packages/sklearn/metrics/_classification.py:1509: UndefinedMetricWarning:\n",
      "\n",
      "Precision is ill-defined and being set to 0.0 due to no predicted samples. Use `zero_division` parameter to control this behavior.\n",
      "\n"
     ]
    },
    {
     "data": {
      "application/vnd.plotly.v1+json": {
       "config": {
        "plotlyServerURL": "https://plot.ly"
       },
       "data": [
        {
         "mode": "lines",
         "name": "accuracy",
         "type": "scatter",
         "x": [
          0,
          0.02040816326530612,
          0.04081632653061224,
          0.061224489795918366,
          0.08163265306122448,
          0.1020408163265306,
          0.12244897959183673,
          0.14285714285714285,
          0.16326530612244897,
          0.18367346938775508,
          0.2040816326530612,
          0.22448979591836732,
          0.24489795918367346,
          0.26530612244897955,
          0.2857142857142857,
          0.3061224489795918,
          0.32653061224489793,
          0.3469387755102041,
          0.36734693877551017,
          0.3877551020408163,
          0.4081632653061224,
          0.42857142857142855,
          0.44897959183673464,
          0.4693877551020408,
          0.4897959183673469,
          0.5102040816326531,
          0.5306122448979591,
          0.5510204081632653,
          0.5714285714285714,
          0.5918367346938775,
          0.6122448979591836,
          0.6326530612244897,
          0.6530612244897959,
          0.673469387755102,
          0.6938775510204082,
          0.7142857142857142,
          0.7346938775510203,
          0.7551020408163265,
          0.7755102040816326,
          0.7959183673469387,
          0.8163265306122448,
          0.836734693877551,
          0.8571428571428571,
          0.8775510204081632,
          0.8979591836734693,
          0.9183673469387754,
          0.9387755102040816,
          0.9591836734693877,
          0.9795918367346939,
          1
         ],
         "y": [
          0.7577435283555289,
          0.7579679784527906,
          0.7579679784527906,
          0.7579679784527906,
          0.7579679784527906,
          0.7579679784527906,
          0.7579679784527906,
          0.7580427951518779,
          0.7581176118509652,
          0.7581924285500524,
          0.7584168786473141,
          0.7588657788418375,
          0.7590902289390992,
          0.7591650456381864,
          0.7596139458327099,
          0.7619332635044141,
          0.7620828969025887,
          0.7622325303007631,
          0.7627562471943737,
          0.7639533143797695,
          0.7646266646715547,
          0.7645518479724674,
          0.7645518479724674,
          0.7642525811761185,
          0.7635792308843334,
          0.7635792308843334,
          0.7638784976806823,
          0.7632799640879845,
          0.7632799640879845,
          0.7614095466108035,
          0.7568457279664821,
          0.74607212329792,
          0.734325901541224,
          0.7131527756995362,
          0.6990124195720485,
          0.6753703426604818,
          0.652626066137962,
          0.6175370342660482,
          0.5774352835552895,
          0.542421068382463,
          0.49289241358671254,
          0.4566811312284902,
          0.4281759688762532,
          0.3942091874906479,
          0.36046685620230434,
          0.3321113272482418,
          0.2992667963489451,
          0.27876702079904236,
          0.26574891515786325,
          0.24225647164447103
         ]
        },
        {
         "mode": "lines",
         "name": "recall",
         "type": "scatter",
         "x": [
          0,
          0.02040816326530612,
          0.04081632653061224,
          0.061224489795918366,
          0.08163265306122448,
          0.1020408163265306,
          0.12244897959183673,
          0.14285714285714285,
          0.16326530612244897,
          0.18367346938775508,
          0.2040816326530612,
          0.22448979591836732,
          0.24489795918367346,
          0.26530612244897955,
          0.2857142857142857,
          0.3061224489795918,
          0.32653061224489793,
          0.3469387755102041,
          0.36734693877551017,
          0.3877551020408163,
          0.4081632653061224,
          0.42857142857142855,
          0.44897959183673464,
          0.4693877551020408,
          0.4897959183673469,
          0.5102040816326531,
          0.5306122448979591,
          0.5510204081632653,
          0.5714285714285714,
          0.5918367346938775,
          0.6122448979591836,
          0.6326530612244897,
          0.6530612244897959,
          0.673469387755102,
          0.6938775510204082,
          0.7142857142857142,
          0.7346938775510203,
          0.7551020408163265,
          0.7755102040816326,
          0.7959183673469387,
          0.8163265306122448,
          0.836734693877551,
          0.8571428571428571,
          0.8775510204081632,
          0.8979591836734693,
          0.9183673469387754,
          0.9387755102040816,
          0.9591836734693877,
          0.9795918367346939,
          1
         ],
         "y": [
          0.7577435283555289,
          0.7579136421462247,
          0.7579136421462247,
          0.7579136421462247,
          0.7579136421462247,
          0.7579136421462247,
          0.7579136421462247,
          0.7579703637180063,
          0.7580270937804057,
          0.7580838323353294,
          0.7583701595386113,
          0.7587111277632071,
          0.7588817268775296,
          0.7590162705256055,
          0.7596695456252347,
          0.7618365500603136,
          0.7619514402050973,
          0.7623037439613527,
          0.7629848038103878,
          0.7653146640286127,
          0.7661228845860649,
          0.7664300435081292,
          0.7668782016973775,
          0.767092871908736,
          0.7678351783517835,
          0.7704548983077162,
          0.7770624701955174,
          0.7788276745675848,
          0.7809877340219497,
          0.7836180822365733,
          0.7867266966816742,
          0.793702023726448,
          0.8102651193508822,
          0.8200122025625382,
          0.8254611365817252,
          0.841211835435577,
          0.8471079610175927,
          0.8565538811487062,
          0.8624595469255664,
          0.8675338951997068,
          0.8963558920965452,
          0.9032076533483399,
          0.9154129053828152,
          0.9198015708970649,
          0.9247311827956989,
          0.9354604786076868,
          0.9471830985915493,
          0.9569288389513109,
          0.9700598802395209,
          0
         ]
        },
        {
         "mode": "lines",
         "name": "precision",
         "type": "scatter",
         "x": [
          0,
          0.02040816326530612,
          0.04081632653061224,
          0.061224489795918366,
          0.08163265306122448,
          0.1020408163265306,
          0.12244897959183673,
          0.14285714285714285,
          0.16326530612244897,
          0.18367346938775508,
          0.2040816326530612,
          0.22448979591836732,
          0.24489795918367346,
          0.26530612244897955,
          0.2857142857142857,
          0.3061224489795918,
          0.32653061224489793,
          0.3469387755102041,
          0.36734693877551017,
          0.3877551020408163,
          0.4081632653061224,
          0.42857142857142855,
          0.44897959183673464,
          0.4693877551020408,
          0.4897959183673469,
          0.5102040816326531,
          0.5306122448979591,
          0.5510204081632653,
          0.5714285714285714,
          0.5918367346938775,
          0.6122448979591836,
          0.6326530612244897,
          0.6530612244897959,
          0.673469387755102,
          0.6938775510204082,
          0.7142857142857142,
          0.7346938775510203,
          0.7551020408163265,
          0.7755102040816326,
          0.7959183673469387,
          0.8163265306122448,
          0.836734693877551,
          0.8571428571428571,
          0.8775510204081632,
          0.8979591836734693,
          0.9183673469387754,
          0.9387755102040816,
          0.9591836734693877,
          0.9795918367346939,
          1
         ],
         "y": [
          1,
          1,
          1,
          1,
          1,
          1,
          1,
          1,
          1,
          1,
          0.9997037914691943,
          0.9997037914691943,
          0.9997037914691943,
          0.9995063191153238,
          0.998716429699842,
          0.9977290679304898,
          0.9977290679304898,
          0.9971366508688784,
          0.9964454976303317,
          0.9929897314375987,
          0.9922985781990521,
          0.9914099526066351,
          0.9903238546603476,
          0.98923775671406,
          0.9861769352290679,
          0.9799565560821485,
          0.9653436018957346,
          0.9603080568720379,
          0.955568720379147,
          0.9464849921011058,
          0.9316745655608215,
          0.8984004739336493,
          0.8479462875197472,
          0.7962085308056872,
          0.7644154818325435,
          0.7045813586097947,
          0.6608412322274881,
          0.5948854660347551,
          0.5262638230647709,
          0.46751579778830965,
          0.37401263823064773,
          0.3169431279620853,
          0.2703396524486572,
          0.21968799368088468,
          0.16982622432859398,
          0.1273696682464455,
          0.07968009478672985,
          0.05045418641390206,
          0.031990521327014215,
          0
         ]
        },
        {
         "mode": "lines",
         "name": "f1-score",
         "type": "scatter",
         "x": [
          0,
          0.02040816326530612,
          0.04081632653061224,
          0.061224489795918366,
          0.08163265306122448,
          0.1020408163265306,
          0.12244897959183673,
          0.14285714285714285,
          0.16326530612244897,
          0.18367346938775508,
          0.2040816326530612,
          0.22448979591836732,
          0.24489795918367346,
          0.26530612244897955,
          0.2857142857142857,
          0.3061224489795918,
          0.32653061224489793,
          0.3469387755102041,
          0.36734693877551017,
          0.3877551020408163,
          0.4081632653061224,
          0.42857142857142855,
          0.44897959183673464,
          0.4693877551020408,
          0.4897959183673469,
          0.5102040816326531,
          0.5306122448979591,
          0.5510204081632653,
          0.5714285714285714,
          0.5918367346938775,
          0.6122448979591836,
          0.6326530612244897,
          0.6530612244897959,
          0.673469387755102,
          0.6938775510204082,
          0.7142857142857142,
          0.7346938775510203,
          0.7551020408163265,
          0.7755102040816326,
          0.7959183673469387,
          0.8163265306122448,
          0.836734693877551,
          0.8571428571428571,
          0.8775510204081632,
          0.8979591836734693,
          0.9183673469387754,
          0.9387755102040816,
          0.9591836734693877,
          0.9795918367346939,
          1
         ],
         "y": [
          0.8621775772537669,
          0.8622876846451832,
          0.8622876846451832,
          0.8622876846451832,
          0.8622876846451832,
          0.8622876846451832,
          0.8622876846451832,
          0.8623243933588761,
          0.8623611051981779,
          0.8623978201634878,
          0.862472848077005,
          0.8626933072040216,
          0.8628035790370686,
          0.8628169614319199,
          0.8629441624365483,
          0.8639705882352942,
          0.864044463445917,
          0.8640485968514716,
          0.8642260757867695,
          0.8644118784649104,
          0.8646648885829821,
          0.8645227947823841,
          0.8643943637695523,
          0.8641166070119454,
          0.8634163208852006,
          0.8626684050412864,
          0.8610303830911493,
          0.8600990449239476,
          0.8595026642984014,
          0.8573856267608783,
          0.8530874242835187,
          0.8428121526491293,
          0.8286775703189077,
          0.8079350766456267,
          0.7937663402881017,
          0.7668583096018484,
          0.7424704642520383,
          0.7021326185759236,
          0.6536669119450577,
          0.6075965610162967,
          0.5277971297199386,
          0.46922964478877355,
          0.41740986355667353,
          0.35466645413246195,
          0.28695362028695365,
          0.22421134961327888,
          0.1469945355191257,
          0.0958544363158882,
          0.06193844389218123,
          0
         ]
        }
       ],
       "layout": {
        "barmode": "overlay",
        "font": {
         "size": 18
        },
        "height": 500,
        "hovermode": "x unified",
        "margin": {
         "b": 20,
         "l": 20,
         "r": 20,
         "t": 50
        },
        "template": {
         "data": {
          "bar": [
           {
            "error_x": {
             "color": "#2a3f5f"
            },
            "error_y": {
             "color": "#2a3f5f"
            },
            "marker": {
             "line": {
              "color": "#E5ECF6",
              "width": 0.5
             },
             "pattern": {
              "fillmode": "overlay",
              "size": 10,
              "solidity": 0.2
             }
            },
            "type": "bar"
           }
          ],
          "barpolar": [
           {
            "marker": {
             "line": {
              "color": "#E5ECF6",
              "width": 0.5
             },
             "pattern": {
              "fillmode": "overlay",
              "size": 10,
              "solidity": 0.2
             }
            },
            "type": "barpolar"
           }
          ],
          "carpet": [
           {
            "aaxis": {
             "endlinecolor": "#2a3f5f",
             "gridcolor": "white",
             "linecolor": "white",
             "minorgridcolor": "white",
             "startlinecolor": "#2a3f5f"
            },
            "baxis": {
             "endlinecolor": "#2a3f5f",
             "gridcolor": "white",
             "linecolor": "white",
             "minorgridcolor": "white",
             "startlinecolor": "#2a3f5f"
            },
            "type": "carpet"
           }
          ],
          "choropleth": [
           {
            "colorbar": {
             "outlinewidth": 0,
             "ticks": ""
            },
            "type": "choropleth"
           }
          ],
          "contour": [
           {
            "colorbar": {
             "outlinewidth": 0,
             "ticks": ""
            },
            "colorscale": [
             [
              0,
              "#0d0887"
             ],
             [
              0.1111111111111111,
              "#46039f"
             ],
             [
              0.2222222222222222,
              "#7201a8"
             ],
             [
              0.3333333333333333,
              "#9c179e"
             ],
             [
              0.4444444444444444,
              "#bd3786"
             ],
             [
              0.5555555555555556,
              "#d8576b"
             ],
             [
              0.6666666666666666,
              "#ed7953"
             ],
             [
              0.7777777777777778,
              "#fb9f3a"
             ],
             [
              0.8888888888888888,
              "#fdca26"
             ],
             [
              1,
              "#f0f921"
             ]
            ],
            "type": "contour"
           }
          ],
          "contourcarpet": [
           {
            "colorbar": {
             "outlinewidth": 0,
             "ticks": ""
            },
            "type": "contourcarpet"
           }
          ],
          "heatmap": [
           {
            "colorbar": {
             "outlinewidth": 0,
             "ticks": ""
            },
            "colorscale": [
             [
              0,
              "#0d0887"
             ],
             [
              0.1111111111111111,
              "#46039f"
             ],
             [
              0.2222222222222222,
              "#7201a8"
             ],
             [
              0.3333333333333333,
              "#9c179e"
             ],
             [
              0.4444444444444444,
              "#bd3786"
             ],
             [
              0.5555555555555556,
              "#d8576b"
             ],
             [
              0.6666666666666666,
              "#ed7953"
             ],
             [
              0.7777777777777778,
              "#fb9f3a"
             ],
             [
              0.8888888888888888,
              "#fdca26"
             ],
             [
              1,
              "#f0f921"
             ]
            ],
            "type": "heatmap"
           }
          ],
          "heatmapgl": [
           {
            "colorbar": {
             "outlinewidth": 0,
             "ticks": ""
            },
            "colorscale": [
             [
              0,
              "#0d0887"
             ],
             [
              0.1111111111111111,
              "#46039f"
             ],
             [
              0.2222222222222222,
              "#7201a8"
             ],
             [
              0.3333333333333333,
              "#9c179e"
             ],
             [
              0.4444444444444444,
              "#bd3786"
             ],
             [
              0.5555555555555556,
              "#d8576b"
             ],
             [
              0.6666666666666666,
              "#ed7953"
             ],
             [
              0.7777777777777778,
              "#fb9f3a"
             ],
             [
              0.8888888888888888,
              "#fdca26"
             ],
             [
              1,
              "#f0f921"
             ]
            ],
            "type": "heatmapgl"
           }
          ],
          "histogram": [
           {
            "marker": {
             "pattern": {
              "fillmode": "overlay",
              "size": 10,
              "solidity": 0.2
             }
            },
            "type": "histogram"
           }
          ],
          "histogram2d": [
           {
            "colorbar": {
             "outlinewidth": 0,
             "ticks": ""
            },
            "colorscale": [
             [
              0,
              "#0d0887"
             ],
             [
              0.1111111111111111,
              "#46039f"
             ],
             [
              0.2222222222222222,
              "#7201a8"
             ],
             [
              0.3333333333333333,
              "#9c179e"
             ],
             [
              0.4444444444444444,
              "#bd3786"
             ],
             [
              0.5555555555555556,
              "#d8576b"
             ],
             [
              0.6666666666666666,
              "#ed7953"
             ],
             [
              0.7777777777777778,
              "#fb9f3a"
             ],
             [
              0.8888888888888888,
              "#fdca26"
             ],
             [
              1,
              "#f0f921"
             ]
            ],
            "type": "histogram2d"
           }
          ],
          "histogram2dcontour": [
           {
            "colorbar": {
             "outlinewidth": 0,
             "ticks": ""
            },
            "colorscale": [
             [
              0,
              "#0d0887"
             ],
             [
              0.1111111111111111,
              "#46039f"
             ],
             [
              0.2222222222222222,
              "#7201a8"
             ],
             [
              0.3333333333333333,
              "#9c179e"
             ],
             [
              0.4444444444444444,
              "#bd3786"
             ],
             [
              0.5555555555555556,
              "#d8576b"
             ],
             [
              0.6666666666666666,
              "#ed7953"
             ],
             [
              0.7777777777777778,
              "#fb9f3a"
             ],
             [
              0.8888888888888888,
              "#fdca26"
             ],
             [
              1,
              "#f0f921"
             ]
            ],
            "type": "histogram2dcontour"
           }
          ],
          "mesh3d": [
           {
            "colorbar": {
             "outlinewidth": 0,
             "ticks": ""
            },
            "type": "mesh3d"
           }
          ],
          "parcoords": [
           {
            "line": {
             "colorbar": {
              "outlinewidth": 0,
              "ticks": ""
             }
            },
            "type": "parcoords"
           }
          ],
          "pie": [
           {
            "automargin": true,
            "type": "pie"
           }
          ],
          "scatter": [
           {
            "fillpattern": {
             "fillmode": "overlay",
             "size": 10,
             "solidity": 0.2
            },
            "type": "scatter"
           }
          ],
          "scatter3d": [
           {
            "line": {
             "colorbar": {
              "outlinewidth": 0,
              "ticks": ""
             }
            },
            "marker": {
             "colorbar": {
              "outlinewidth": 0,
              "ticks": ""
             }
            },
            "type": "scatter3d"
           }
          ],
          "scattercarpet": [
           {
            "marker": {
             "colorbar": {
              "outlinewidth": 0,
              "ticks": ""
             }
            },
            "type": "scattercarpet"
           }
          ],
          "scattergeo": [
           {
            "marker": {
             "colorbar": {
              "outlinewidth": 0,
              "ticks": ""
             }
            },
            "type": "scattergeo"
           }
          ],
          "scattergl": [
           {
            "marker": {
             "colorbar": {
              "outlinewidth": 0,
              "ticks": ""
             }
            },
            "type": "scattergl"
           }
          ],
          "scattermapbox": [
           {
            "marker": {
             "colorbar": {
              "outlinewidth": 0,
              "ticks": ""
             }
            },
            "type": "scattermapbox"
           }
          ],
          "scatterpolar": [
           {
            "marker": {
             "colorbar": {
              "outlinewidth": 0,
              "ticks": ""
             }
            },
            "type": "scatterpolar"
           }
          ],
          "scatterpolargl": [
           {
            "marker": {
             "colorbar": {
              "outlinewidth": 0,
              "ticks": ""
             }
            },
            "type": "scatterpolargl"
           }
          ],
          "scatterternary": [
           {
            "marker": {
             "colorbar": {
              "outlinewidth": 0,
              "ticks": ""
             }
            },
            "type": "scatterternary"
           }
          ],
          "surface": [
           {
            "colorbar": {
             "outlinewidth": 0,
             "ticks": ""
            },
            "colorscale": [
             [
              0,
              "#0d0887"
             ],
             [
              0.1111111111111111,
              "#46039f"
             ],
             [
              0.2222222222222222,
              "#7201a8"
             ],
             [
              0.3333333333333333,
              "#9c179e"
             ],
             [
              0.4444444444444444,
              "#bd3786"
             ],
             [
              0.5555555555555556,
              "#d8576b"
             ],
             [
              0.6666666666666666,
              "#ed7953"
             ],
             [
              0.7777777777777778,
              "#fb9f3a"
             ],
             [
              0.8888888888888888,
              "#fdca26"
             ],
             [
              1,
              "#f0f921"
             ]
            ],
            "type": "surface"
           }
          ],
          "table": [
           {
            "cells": {
             "fill": {
              "color": "#EBF0F8"
             },
             "line": {
              "color": "white"
             }
            },
            "header": {
             "fill": {
              "color": "#C8D4E3"
             },
             "line": {
              "color": "white"
             }
            },
            "type": "table"
           }
          ]
         },
         "layout": {
          "annotationdefaults": {
           "arrowcolor": "#2a3f5f",
           "arrowhead": 0,
           "arrowwidth": 1
          },
          "autotypenumbers": "strict",
          "coloraxis": {
           "colorbar": {
            "outlinewidth": 0,
            "ticks": ""
           }
          },
          "colorscale": {
           "diverging": [
            [
             0,
             "#8e0152"
            ],
            [
             0.1,
             "#c51b7d"
            ],
            [
             0.2,
             "#de77ae"
            ],
            [
             0.3,
             "#f1b6da"
            ],
            [
             0.4,
             "#fde0ef"
            ],
            [
             0.5,
             "#f7f7f7"
            ],
            [
             0.6,
             "#e6f5d0"
            ],
            [
             0.7,
             "#b8e186"
            ],
            [
             0.8,
             "#7fbc41"
            ],
            [
             0.9,
             "#4d9221"
            ],
            [
             1,
             "#276419"
            ]
           ],
           "sequential": [
            [
             0,
             "#0d0887"
            ],
            [
             0.1111111111111111,
             "#46039f"
            ],
            [
             0.2222222222222222,
             "#7201a8"
            ],
            [
             0.3333333333333333,
             "#9c179e"
            ],
            [
             0.4444444444444444,
             "#bd3786"
            ],
            [
             0.5555555555555556,
             "#d8576b"
            ],
            [
             0.6666666666666666,
             "#ed7953"
            ],
            [
             0.7777777777777778,
             "#fb9f3a"
            ],
            [
             0.8888888888888888,
             "#fdca26"
            ],
            [
             1,
             "#f0f921"
            ]
           ],
           "sequentialminus": [
            [
             0,
             "#0d0887"
            ],
            [
             0.1111111111111111,
             "#46039f"
            ],
            [
             0.2222222222222222,
             "#7201a8"
            ],
            [
             0.3333333333333333,
             "#9c179e"
            ],
            [
             0.4444444444444444,
             "#bd3786"
            ],
            [
             0.5555555555555556,
             "#d8576b"
            ],
            [
             0.6666666666666666,
             "#ed7953"
            ],
            [
             0.7777777777777778,
             "#fb9f3a"
            ],
            [
             0.8888888888888888,
             "#fdca26"
            ],
            [
             1,
             "#f0f921"
            ]
           ]
          },
          "colorway": [
           "#636efa",
           "#EF553B",
           "#00cc96",
           "#ab63fa",
           "#FFA15A",
           "#19d3f3",
           "#FF6692",
           "#B6E880",
           "#FF97FF",
           "#FECB52"
          ],
          "font": {
           "color": "#2a3f5f"
          },
          "geo": {
           "bgcolor": "white",
           "lakecolor": "white",
           "landcolor": "#E5ECF6",
           "showlakes": true,
           "showland": true,
           "subunitcolor": "white"
          },
          "hoverlabel": {
           "align": "left"
          },
          "hovermode": "closest",
          "mapbox": {
           "style": "light"
          },
          "paper_bgcolor": "white",
          "plot_bgcolor": "#E5ECF6",
          "polar": {
           "angularaxis": {
            "gridcolor": "white",
            "linecolor": "white",
            "ticks": ""
           },
           "bgcolor": "#E5ECF6",
           "radialaxis": {
            "gridcolor": "white",
            "linecolor": "white",
            "ticks": ""
           }
          },
          "scene": {
           "xaxis": {
            "backgroundcolor": "#E5ECF6",
            "gridcolor": "white",
            "gridwidth": 2,
            "linecolor": "white",
            "showbackground": true,
            "ticks": "",
            "zerolinecolor": "white"
           },
           "yaxis": {
            "backgroundcolor": "#E5ECF6",
            "gridcolor": "white",
            "gridwidth": 2,
            "linecolor": "white",
            "showbackground": true,
            "ticks": "",
            "zerolinecolor": "white"
           },
           "zaxis": {
            "backgroundcolor": "#E5ECF6",
            "gridcolor": "white",
            "gridwidth": 2,
            "linecolor": "white",
            "showbackground": true,
            "ticks": "",
            "zerolinecolor": "white"
           }
          },
          "shapedefaults": {
           "line": {
            "color": "#2a3f5f"
           }
          },
          "ternary": {
           "aaxis": {
            "gridcolor": "white",
            "linecolor": "white",
            "ticks": ""
           },
           "baxis": {
            "gridcolor": "white",
            "linecolor": "white",
            "ticks": ""
           },
           "bgcolor": "#E5ECF6",
           "caxis": {
            "gridcolor": "white",
            "linecolor": "white",
            "ticks": ""
           }
          },
          "title": {
           "x": 0.05
          },
          "xaxis": {
           "automargin": true,
           "gridcolor": "white",
           "linecolor": "white",
           "ticks": "",
           "title": {
            "standoff": 15
           },
           "zerolinecolor": "white",
           "zerolinewidth": 2
          },
          "yaxis": {
           "automargin": true,
           "gridcolor": "white",
           "linecolor": "white",
           "ticks": "",
           "title": {
            "standoff": 15
           },
           "zerolinecolor": "white",
           "zerolinewidth": 2
          }
         }
        },
        "title": {
         "text": "Metrics depending on the threshold value used",
         "x": 0.5,
         "xanchor": "center"
        },
        "width": 800,
        "xaxis": {
         "title": {
          "text": "Threshold"
         }
        },
        "yaxis": {
         "title": {
          "text": "Metric"
         }
        }
       }
      }
     },
     "metadata": {},
     "output_type": "display_data"
    },
    {
     "name": "stdout",
     "output_type": "stream",
     "text": [
      "0.7646266646715547 0.4081632653061224\n",
      "[-0.31970774091627185, -0.31848503454729427, -0.31848503454729427, -0.31848503454729427, -0.31848503454729427, -0.31848503454729427, -0.31848503454729427, -0.3180774657576353, -0.3176698969679761, -0.3172623281783169, -0.31603962180933953, -0.3135942090713848, -0.31237150270240743, -0.31196393391274824, -0.3095185211747935, -0.2968838886953604, -0.29606875111604203, -0.29525361353672386, -0.29240063200910993, -0.2858795313745637, -0.2822114122676316, -0.2826189810572908, -0.2826189810572908, -0.2842492562159271, -0.28791737532285944, -0.28791737532285944, -0.2862871001642229, -0.289547650481496, -0.289547650481496, -0.29973687022297435, -0.3245985663921813, -0.38328847210309647, -0.4472767720795803, -0.5626187395531148, -0.6396492407986909, -0.7684409783309769, -0.8923418903873532, -1.0834916527374863, -1.3019485239947817, -1.4926907175552557, -1.7625012563096014, -1.9597645505046217, -2.1150482593647513, -2.3000844898699975, -2.4838980140062663, -2.638366585287078, -2.8172892839474373, -2.9289631323140393, -2.9998801017147287, -3.127856701667696]\n"
     ]
    }
   ],
   "source": [
    "\n",
    "def plot_metrics(acc, prec, rec, f1):\n",
    "    fig = go.Figure()\n",
    "\n",
    "    def plot_metric(val, x, name, fig):\n",
    "        fig.add_trace(go.Scatter(\n",
    "            x = x,\n",
    "            y = val,\n",
    "            name = name,\n",
    "            mode = 'lines'\n",
    "        ))\n",
    "\n",
    "    x = np.linspace(0, 1, len(acc))\n",
    "    plot_metric(acc, x, 'accuracy', fig)\n",
    "    plot_metric(rec, x, 'recall', fig)\n",
    "    plot_metric(prec, x, 'precision', fig)\n",
    "    plot_metric(f1, x, 'f1-score', fig)\n",
    "\n",
    "\n",
    "    fig.update_layout(\n",
    "        barmode='overlay',\n",
    "        hovermode=\"x unified\",\n",
    "        width=800, height=500, font_size=18,\n",
    "        title = dict(text=f\"Metrics depending on the threshold value used\", x=0.5, xanchor='center'),\n",
    "        margin=dict(l=20, r=20, t=50, b=20)  \n",
    "    )\n",
    "\n",
    "    fig.update_xaxes(\n",
    "        title_text=f\"Threshold\")\n",
    "\n",
    "    fig.update_yaxes(\n",
    "        title_text=f\"Metric\"\n",
    "    )\n",
    "\n",
    "    plotly_save_to_html(fig, 'metrics_log_reg')\n",
    "\n",
    "    print(max(acc), x[np.argmax(acc)])\n",
    "\n",
    "\n",
    "acc, prec, rec, f1, r2 = get_metrics(y_cat_pred_p_valid, y_cat_valid, n)\n",
    "plot_metrics(acc, rec, prec, f1)\n",
    "print(r2)"
   ]
  },
  {
   "cell_type": "code",
   "execution_count": 36,
   "metadata": {},
   "outputs": [
    {
     "name": "stdout",
     "output_type": "stream",
     "text": [
      "0.7605865629208439\n",
      "-0.28733664383566815\n"
     ]
    }
   ],
   "source": [
    "y_cat_pred_p_test = log_reg_cat.predict(X_cat_test).values\n",
    "y_cat_pred_test = np.where(y_cat_pred_p_test>0.5102040816326531, 1, 0)\n",
    "print(metrics.accuracy_score(y_cat_test, y_cat_pred_test))\n",
    "print(metrics.r2_score(y_cat_test, y_cat_pred_test))"
   ]
  },
  {
   "cell_type": "code",
   "execution_count": 74,
   "metadata": {},
   "outputs": [
    {
     "data": {
      "image/png": "[encoded data removed]",
      "text/plain": [
       "<Figure size 640x480 with 1 Axes>"
      ]
     },
     "metadata": {},
     "output_type": "display_data"
    }
   ],
   "source": [
    "from sklearn.metrics import RocCurveDisplay\n",
    "\n",
    "display = RocCurveDisplay.from_predictions(y_cat_test, y_cat_pred_p_test, plot_chance_level=True)"
   ]
  },
  {
   "cell_type": "code",
   "execution_count": 77,
   "metadata": {},
   "outputs": [
    {
     "data": {
      "text/plain": [
       "0.08622150256356131"
      ]
     },
     "execution_count": 77,
     "metadata": {},
     "output_type": "execute_result"
    }
   ],
   "source": [
    "\n",
    "ll_full = log_reg_cat.llf  # Log-likelihood of the fitted model\n",
    "ll_null = log_reg_cat.llnull  # Log-likelihood of the null model\n",
    "mcfadden_r2 = 1 - (ll_full / ll_null)\n",
    "mcfadden_r2"
   ]
  },
  {
   "cell_type": "code",
   "execution_count": 60,
   "metadata": {},
   "outputs": [
    {
     "name": "stdout",
     "output_type": "stream",
     "text": [
      "No. of training samples: 40096 No. of validation samples: 13366 No. of testing samples: 13366\n"
     ]
    }
   ],
   "source": [
    "from sklearn.preprocessing import StandardScaler\n",
    "from sklearn.model_selection import train_test_split\n",
    "\n",
    "X = all_games[['shortest_path', 'links_to_target']]\n",
    "y = all_games[['finished?']]\n",
    "X = pd.get_dummies(X, columns=['shortest_path'], drop_first=True)\n",
    "\n",
    "X_train, X_test, y_train, y_test = train_test_split(X, y, test_size=0.4)\n",
    "X_valid, X_test, y_valid, y_test = train_test_split(X_test, y_test, test_size=0.5)\n",
    "print(f\"No. of training samples: {len(X_train)} No. of validation samples: {len(X_valid)} No. of testing samples: {len(X_test)}\")\n"
   ]
  },
  {
   "cell_type": "code",
   "execution_count": 61,
   "metadata": {},
   "outputs": [],
   "source": [
    "scaler = StandardScaler()\n",
    "\n",
    "# X_train[[col for col in X_train.columns]] = scaler.fit_transform(X_train[[col for col in X_train.columns]])\n",
    "# X_valid[[col for col in X_valid.columns]]  = scaler.transform(X_valid[[col for col in X_valid.columns]] )\n",
    "# X_test[[col for col in X_test.columns]]  = scaler.transform(X_test[[col for col in X_test.columns]] )\n",
    "\n",
    "X_train[['links_to_target']] = scaler.fit_transform(X_train[['links_to_target']])\n",
    "X_valid[['links_to_target']]  = scaler.transform(X_valid[['links_to_target']] )\n",
    "X_test[['links_to_target']]  = scaler.transform(X_test[['links_to_target']] )\n",
    "\n",
    "X_train[[col for col in X_train.columns if col!='links_to_target']] = (X_train[[col for col in X_train.columns if col!='links_to_target']]).astype(int)\n",
    "X_valid[[col for col in X_valid.columns if col!='links_to_target']]  = (X_valid[[col for col in X_valid.columns if col!='links_to_target']]).astype(int)\n",
    "X_test[[col for col in X_test.columns if col!='links_to_target']]  = (X_test[[col for col in X_test.columns if col!='links_to_target']]).astype(int)\n",
    "\n",
    "X_train = sm.add_constant(X_train)\n",
    "X_valid = sm.add_constant(X_valid)\n",
    "X_test = sm.add_constant(X_test)"
   ]
  },
  {
   "cell_type": "code",
   "execution_count": 67,
   "metadata": {},
   "outputs": [
    {
     "data": {
      "text/html": [
       "<div>\n",
       "<style scoped>\n",
       "    .dataframe tbody tr th:only-of-type {\n",
       "        vertical-align: middle;\n",
       "    }\n",
       "\n",
       "    .dataframe tbody tr th {\n",
       "        vertical-align: top;\n",
       "    }\n",
       "\n",
       "    .dataframe thead th {\n",
       "        text-align: right;\n",
       "    }\n",
       "</style>\n",
       "<table border=\"1\" class=\"dataframe\">\n",
       "  <thead>\n",
       "    <tr style=\"text-align: right;\">\n",
       "      <th></th>\n",
       "      <th>const</th>\n",
       "      <th>links_to_target</th>\n",
       "      <th>shortest_path_2</th>\n",
       "      <th>shortest_path_3</th>\n",
       "      <th>shortest_path_4</th>\n",
       "      <th>shortest_path_5</th>\n",
       "      <th>shortest_path_6</th>\n",
       "      <th>shortest_path_7</th>\n",
       "      <th>shortest_path_8</th>\n",
       "    </tr>\n",
       "  </thead>\n",
       "  <tbody>\n",
       "    <tr>\n",
       "      <th>21740</th>\n",
       "      <td>1.0</td>\n",
       "      <td>-0.250260</td>\n",
       "      <td>0</td>\n",
       "      <td>0</td>\n",
       "      <td>1</td>\n",
       "      <td>0</td>\n",
       "      <td>0</td>\n",
       "      <td>0</td>\n",
       "      <td>0</td>\n",
       "    </tr>\n",
       "    <tr>\n",
       "      <th>22715</th>\n",
       "      <td>1.0</td>\n",
       "      <td>6.045981</td>\n",
       "      <td>0</td>\n",
       "      <td>0</td>\n",
       "      <td>1</td>\n",
       "      <td>0</td>\n",
       "      <td>0</td>\n",
       "      <td>0</td>\n",
       "      <td>0</td>\n",
       "    </tr>\n",
       "    <tr>\n",
       "      <th>36296</th>\n",
       "      <td>1.0</td>\n",
       "      <td>-0.497613</td>\n",
       "      <td>0</td>\n",
       "      <td>0</td>\n",
       "      <td>1</td>\n",
       "      <td>0</td>\n",
       "      <td>0</td>\n",
       "      <td>0</td>\n",
       "      <td>0</td>\n",
       "    </tr>\n",
       "    <tr>\n",
       "      <th>33502</th>\n",
       "      <td>1.0</td>\n",
       "      <td>-0.475126</td>\n",
       "      <td>0</td>\n",
       "      <td>0</td>\n",
       "      <td>0</td>\n",
       "      <td>1</td>\n",
       "      <td>0</td>\n",
       "      <td>0</td>\n",
       "      <td>0</td>\n",
       "    </tr>\n",
       "    <tr>\n",
       "      <th>9285</th>\n",
       "      <td>1.0</td>\n",
       "      <td>-0.070368</td>\n",
       "      <td>0</td>\n",
       "      <td>0</td>\n",
       "      <td>1</td>\n",
       "      <td>0</td>\n",
       "      <td>0</td>\n",
       "      <td>0</td>\n",
       "      <td>0</td>\n",
       "    </tr>\n",
       "    <tr>\n",
       "      <th>...</th>\n",
       "      <td>...</td>\n",
       "      <td>...</td>\n",
       "      <td>...</td>\n",
       "      <td>...</td>\n",
       "      <td>...</td>\n",
       "      <td>...</td>\n",
       "      <td>...</td>\n",
       "      <td>...</td>\n",
       "      <td>...</td>\n",
       "    </tr>\n",
       "    <tr>\n",
       "      <th>8721</th>\n",
       "      <td>1.0</td>\n",
       "      <td>-0.463883</td>\n",
       "      <td>0</td>\n",
       "      <td>0</td>\n",
       "      <td>0</td>\n",
       "      <td>1</td>\n",
       "      <td>0</td>\n",
       "      <td>0</td>\n",
       "      <td>0</td>\n",
       "    </tr>\n",
       "    <tr>\n",
       "      <th>38847</th>\n",
       "      <td>1.0</td>\n",
       "      <td>0.626716</td>\n",
       "      <td>0</td>\n",
       "      <td>1</td>\n",
       "      <td>0</td>\n",
       "      <td>0</td>\n",
       "      <td>0</td>\n",
       "      <td>0</td>\n",
       "      <td>0</td>\n",
       "    </tr>\n",
       "    <tr>\n",
       "      <th>40069</th>\n",
       "      <td>1.0</td>\n",
       "      <td>-0.216530</td>\n",
       "      <td>0</td>\n",
       "      <td>0</td>\n",
       "      <td>0</td>\n",
       "      <td>1</td>\n",
       "      <td>0</td>\n",
       "      <td>0</td>\n",
       "      <td>0</td>\n",
       "    </tr>\n",
       "    <tr>\n",
       "      <th>3770</th>\n",
       "      <td>1.0</td>\n",
       "      <td>-0.531342</td>\n",
       "      <td>0</td>\n",
       "      <td>0</td>\n",
       "      <td>0</td>\n",
       "      <td>1</td>\n",
       "      <td>0</td>\n",
       "      <td>0</td>\n",
       "      <td>0</td>\n",
       "    </tr>\n",
       "    <tr>\n",
       "      <th>6606</th>\n",
       "      <td>1.0</td>\n",
       "      <td>-0.486369</td>\n",
       "      <td>0</td>\n",
       "      <td>0</td>\n",
       "      <td>1</td>\n",
       "      <td>0</td>\n",
       "      <td>0</td>\n",
       "      <td>0</td>\n",
       "      <td>0</td>\n",
       "    </tr>\n",
       "  </tbody>\n",
       "</table>\n",
       "<p>40096 rows × 9 columns</p>\n",
       "</div>"
      ],
      "text/plain": [
       "       const  links_to_target  shortest_path_2  shortest_path_3  \\\n",
       "21740    1.0        -0.250260                0                0   \n",
       "22715    1.0         6.045981                0                0   \n",
       "36296    1.0        -0.497613                0                0   \n",
       "33502    1.0        -0.475126                0                0   \n",
       "9285     1.0        -0.070368                0                0   \n",
       "...      ...              ...              ...              ...   \n",
       "8721     1.0        -0.463883                0                0   \n",
       "38847    1.0         0.626716                0                1   \n",
       "40069    1.0        -0.216530                0                0   \n",
       "3770     1.0        -0.531342                0                0   \n",
       "6606     1.0        -0.486369                0                0   \n",
       "\n",
       "       shortest_path_4  shortest_path_5  shortest_path_6  shortest_path_7  \\\n",
       "21740                1                0                0                0   \n",
       "22715                1                0                0                0   \n",
       "36296                1                0                0                0   \n",
       "33502                0                1                0                0   \n",
       "9285                 1                0                0                0   \n",
       "...                ...              ...              ...              ...   \n",
       "8721                 0                1                0                0   \n",
       "38847                0                0                0                0   \n",
       "40069                0                1                0                0   \n",
       "3770                 0                1                0                0   \n",
       "6606                 1                0                0                0   \n",
       "\n",
       "       shortest_path_8  \n",
       "21740                0  \n",
       "22715                0  \n",
       "36296                0  \n",
       "33502                0  \n",
       "9285                 0  \n",
       "...                ...  \n",
       "8721                 0  \n",
       "38847                0  \n",
       "40069                0  \n",
       "3770                 0  \n",
       "6606                 0  \n",
       "\n",
       "[40096 rows x 9 columns]"
      ]
     },
     "execution_count": 67,
     "metadata": {},
     "output_type": "execute_result"
    }
   ],
   "source": [
    "X_train"
   ]
  },
  {
   "cell_type": "code",
   "execution_count": 62,
   "metadata": {},
   "outputs": [
    {
     "name": "stdout",
     "output_type": "stream",
     "text": [
      "Optimization terminated successfully    (Exit mode 0)\n",
      "            Current function value: 0.518088202947882\n",
      "            Iterations: 112\n",
      "            Function evaluations: 113\n",
      "            Gradient evaluations: 112\n",
      "                           Logit Regression Results                           \n",
      "==============================================================================\n",
      "Dep. Variable:              finished?   No. Observations:                40096\n",
      "Model:                          Logit   Df Residuals:                    40087\n",
      "Method:                           MLE   Df Model:                            8\n",
      "Date:                Sun, 15 Dec 2024   Pseudo R-squ.:                 0.06677\n",
      "Time:                        14:56:30   Log-Likelihood:                -20773.\n",
      "converged:                       True   LL-Null:                       -22259.\n",
      "Covariance Type:            nonrobust   LLR p-value:                     0.000\n",
      "===================================================================================\n",
      "                      coef    std err          z      P>|z|      [0.025      0.975]\n",
      "-----------------------------------------------------------------------------------\n",
      "const             -21.3000   5.14e+04     -0.000      1.000   -1.01e+05    1.01e+05\n",
      "links_to_target     0.7433      0.034     21.614      0.000       0.676       0.811\n",
      "shortest_path_2    22.8644   5.14e+04      0.000      1.000   -1.01e+05    1.01e+05\n",
      "shortest_path_3    23.1437   5.14e+04      0.000      1.000   -1.01e+05    1.01e+05\n",
      "shortest_path_4    22.5894   5.14e+04      0.000      1.000   -1.01e+05    1.01e+05\n",
      "shortest_path_5    22.0691   5.14e+04      0.000      1.000   -1.01e+05    1.01e+05\n",
      "shortest_path_6    21.0894   5.14e+04      0.000      1.000   -1.01e+05    1.01e+05\n",
      "shortest_path_7    20.5480   5.14e+04      0.000      1.000   -1.01e+05    1.01e+05\n",
      "shortest_path_8  -147.0626   1.98e+36  -7.42e-35      1.000   -3.89e+36    3.89e+36\n",
      "===================================================================================\n"
     ]
    }
   ],
   "source": [
    "import statsmodels.api as sm\n",
    "\n",
    "log_reg = sm.Logit(y_train, X_train).fit_regularized(acc=1e-14) \n",
    "print(log_reg.summary()) "
   ]
  },
  {
   "cell_type": "code",
   "execution_count": 63,
   "metadata": {},
   "outputs": [],
   "source": [
    "y_pred_p_valid = log_reg.predict(X_valid)\n",
    "\n",
    "# print(metrics.accuracy_score(y_test, y_test_pred), metrics.precision_score(y_test, y_test_pred), metrics.recall_score(y_test, y_test_pred))\n"
   ]
  },
  {
   "cell_type": "code",
   "execution_count": 64,
   "metadata": {},
   "outputs": [
    {
     "name": "stderr",
     "output_type": "stream",
     "text": [
      "/bin/anaconda3/envs/ada/lib/python3.11/site-packages/sklearn/metrics/_classification.py:1509: UndefinedMetricWarning:\n",
      "\n",
      "Precision is ill-defined and being set to 0.0 due to no predicted samples. Use `zero_division` parameter to control this behavior.\n",
      "\n"
     ]
    },
    {
     "data": {
      "application/vnd.plotly.v1+json": {
       "config": {
        "plotlyServerURL": "https://plot.ly"
       },
       "data": [
        {
         "mode": "lines",
         "name": "accuracy",
         "type": "scatter",
         "x": [
          0,
          0.02040816326530612,
          0.04081632653061224,
          0.061224489795918366,
          0.08163265306122448,
          0.1020408163265306,
          0.12244897959183673,
          0.14285714285714285,
          0.16326530612244897,
          0.18367346938775508,
          0.2040816326530612,
          0.22448979591836732,
          0.24489795918367346,
          0.26530612244897955,
          0.2857142857142857,
          0.3061224489795918,
          0.32653061224489793,
          0.3469387755102041,
          0.36734693877551017,
          0.3877551020408163,
          0.4081632653061224,
          0.42857142857142855,
          0.44897959183673464,
          0.4693877551020408,
          0.4897959183673469,
          0.5102040816326531,
          0.5306122448979591,
          0.5510204081632653,
          0.5714285714285714,
          0.5918367346938775,
          0.6122448979591836,
          0.6326530612244897,
          0.6530612244897959,
          0.673469387755102,
          0.6938775510204082,
          0.7142857142857142,
          0.7346938775510203,
          0.7551020408163265,
          0.7755102040816326,
          0.7959183673469387,
          0.8163265306122448,
          0.836734693877551,
          0.8571428571428571,
          0.8775510204081632,
          0.8979591836734693,
          0.9183673469387754,
          0.9387755102040816,
          0.9591836734693877,
          0.9795918367346939,
          1
         ],
         "y": [
          0.7506359419422415,
          0.7509352087385904,
          0.7509352087385904,
          0.7509352087385904,
          0.7509352087385904,
          0.7509352087385904,
          0.7509352087385904,
          0.7509352087385904,
          0.7509352087385904,
          0.7509352087385904,
          0.7509352087385904,
          0.7509352087385904,
          0.7522819093221607,
          0.7522819093221607,
          0.7522819093221607,
          0.7522819093221607,
          0.7522819093221607,
          0.7522819093221607,
          0.7582672452491396,
          0.7578183450546162,
          0.7578183450546162,
          0.7578183450546162,
          0.7578183450546162,
          0.7578183450546162,
          0.7578183450546162,
          0.7578183450546162,
          0.7578183450546162,
          0.7578183450546162,
          0.7578183450546162,
          0.7609606464162801,
          0.7462965733951819,
          0.735597785425707,
          0.7313332335777345,
          0.7296124494987282,
          0.729238366003292,
          0.7168936106538979,
          0.640281310788568,
          0.5819991021996109,
          0.5353134819691755,
          0.5086039203950322,
          0.47987430794553343,
          0.43431093820140654,
          0.39675295525961396,
          0.36375879096214275,
          0.3345802783181206,
          0.31258416878647316,
          0.2930570103247045,
          0.27973963788717643,
          0.26926530001496335,
          0.2493640580577585
         ]
        },
        {
         "mode": "lines",
         "name": "recall",
         "type": "scatter",
         "x": [
          0,
          0.02040816326530612,
          0.04081632653061224,
          0.061224489795918366,
          0.08163265306122448,
          0.1020408163265306,
          0.12244897959183673,
          0.14285714285714285,
          0.16326530612244897,
          0.18367346938775508,
          0.2040816326530612,
          0.22448979591836732,
          0.24489795918367346,
          0.26530612244897955,
          0.2857142857142857,
          0.3061224489795918,
          0.32653061224489793,
          0.3469387755102041,
          0.36734693877551017,
          0.3877551020408163,
          0.4081632653061224,
          0.42857142857142855,
          0.44897959183673464,
          0.4693877551020408,
          0.4897959183673469,
          0.5102040816326531,
          0.5306122448979591,
          0.5510204081632653,
          0.5714285714285714,
          0.5918367346938775,
          0.6122448979591836,
          0.6326530612244897,
          0.6530612244897959,
          0.673469387755102,
          0.6938775510204082,
          0.7142857142857142,
          0.7346938775510203,
          0.7551020408163265,
          0.7755102040816326,
          0.7959183673469387,
          0.8163265306122448,
          0.836734693877551,
          0.8571428571428571,
          0.8775510204081632,
          0.8979591836734693,
          0.9183673469387754,
          0.9387755102040816,
          0.9591836734693877,
          0.9795918367346939,
          1
         ],
         "y": [
          0.7506359419422415,
          0.7508606496033527,
          0.7508606496033527,
          0.7508606496033527,
          0.7508606496033527,
          0.7508606496033527,
          0.7508606496033527,
          0.7508606496033527,
          0.7508606496033527,
          0.7508606496033527,
          0.7508606496033527,
          0.7508606496033527,
          0.7521758703481393,
          0.7521758703481393,
          0.7521758703481393,
          0.7521758703481393,
          0.7521758703481393,
          0.7521758703481393,
          0.7600948302233099,
          0.7599846977811783,
          0.7599846977811783,
          0.7599846977811783,
          0.7599846977811783,
          0.7599846977811783,
          0.7599846977811783,
          0.7599846977811783,
          0.7599846977811783,
          0.7599846977811783,
          0.7599846977811783,
          0.7667759051186017,
          0.7902972027972028,
          0.7924579245792458,
          0.7923928830791576,
          0.7924906588900027,
          0.7926628946888118,
          0.8043245349176975,
          0.8319989833523955,
          0.8582017402513696,
          0.8791666666666667,
          0.8833812790440363,
          0.8865746549560853,
          0.9175675675675675,
          0.929006968641115,
          0.9346219442865265,
          0.9384141647421094,
          0.9470899470899471,
          0.9506172839506173,
          0.9592760180995475,
          0.9586206896551724,
          0
         ]
        },
        {
         "mode": "lines",
         "name": "precision",
         "type": "scatter",
         "x": [
          0,
          0.02040816326530612,
          0.04081632653061224,
          0.061224489795918366,
          0.08163265306122448,
          0.1020408163265306,
          0.12244897959183673,
          0.14285714285714285,
          0.16326530612244897,
          0.18367346938775508,
          0.2040816326530612,
          0.22448979591836732,
          0.24489795918367346,
          0.26530612244897955,
          0.2857142857142857,
          0.3061224489795918,
          0.32653061224489793,
          0.3469387755102041,
          0.36734693877551017,
          0.3877551020408163,
          0.4081632653061224,
          0.42857142857142855,
          0.44897959183673464,
          0.4693877551020408,
          0.4897959183673469,
          0.5102040816326531,
          0.5306122448979591,
          0.5510204081632653,
          0.5714285714285714,
          0.5918367346938775,
          0.6122448979591836,
          0.6326530612244897,
          0.6530612244897959,
          0.673469387755102,
          0.6938775510204082,
          0.7142857142857142,
          0.7346938775510203,
          0.7551020408163265,
          0.7755102040816326,
          0.7959183673469387,
          0.8163265306122448,
          0.836734693877551,
          0.8571428571428571,
          0.8775510204081632,
          0.8979591836734693,
          0.9183673469387754,
          0.9387755102040816,
          0.9591836734693877,
          0.9795918367346939,
          1
         ],
         "y": [
          1,
          1,
          1,
          1,
          1,
          1,
          1,
          1,
          1,
          1,
          1,
          1,
          0.999202631316655,
          0.999202631316655,
          0.999202631316655,
          0.999202631316655,
          0.999202631316655,
          0.999202631316655,
          0.9906309179706967,
          0.990032891458188,
          0.990032891458188,
          0.990032891458188,
          0.990032891458188,
          0.990032891458188,
          0.990032891458188,
          0.990032891458188,
          0.990032891458188,
          0.990032891458188,
          0.990032891458188,
          0.9794677564038672,
          0.9011262832652247,
          0.8776039071065483,
          0.8700289046147712,
          0.8667397587959733,
          0.8657430479417921,
          0.8230838233828366,
          0.6525465962324329,
          0.5308482009369082,
          0.44164257948769065,
          0.39788697298913583,
          0.35213794478221866,
          0.2707066679956145,
          0.2125984251968504,
          0.1638592644273896,
          0.12149905312468853,
          0.08920562144921758,
          0.06139738861756205,
          0.04226054021728297,
          0.027708561746237415,
          0
         ]
        },
        {
         "mode": "lines",
         "name": "f1-score",
         "type": "scatter",
         "x": [
          0,
          0.02040816326530612,
          0.04081632653061224,
          0.061224489795918366,
          0.08163265306122448,
          0.1020408163265306,
          0.12244897959183673,
          0.14285714285714285,
          0.16326530612244897,
          0.18367346938775508,
          0.2040816326530612,
          0.22448979591836732,
          0.24489795918367346,
          0.26530612244897955,
          0.2857142857142857,
          0.3061224489795918,
          0.32653061224489793,
          0.3469387755102041,
          0.36734693877551017,
          0.3877551020408163,
          0.4081632653061224,
          0.42857142857142855,
          0.44897959183673464,
          0.4693877551020408,
          0.4897959183673469,
          0.5102040816326531,
          0.5306122448979591,
          0.5510204081632653,
          0.5714285714285714,
          0.5918367346938775,
          0.6122448979591836,
          0.6326530612244897,
          0.6530612244897959,
          0.673469387755102,
          0.6938775510204082,
          0.7142857142857142,
          0.7346938775510203,
          0.7551020408163265,
          0.7755102040816326,
          0.7959183673469387,
          0.8163265306122448,
          0.836734693877551,
          0.8571428571428571,
          0.8775510204081632,
          0.8979591836734693,
          0.9183673469387754,
          0.9387755102040816,
          0.9591836734693877,
          0.9795918367346939,
          1
         ],
         "y": [
          0.8575580152997991,
          0.8577046377431075,
          0.8577046377431075,
          0.8577046377431075,
          0.8577046377431075,
          0.8577046377431075,
          0.8577046377431075,
          0.8577046377431075,
          0.8577046377431075,
          0.8577046377431075,
          0.8577046377431075,
          0.8577046377431075,
          0.8582680535935961,
          0.8582680535935961,
          0.8582680535935961,
          0.8582680535935961,
          0.8582680535935961,
          0.8582680535935961,
          0.8601843437621706,
          0.8598883261914038,
          0.8598883261914038,
          0.8598883261914038,
          0.8598883261914038,
          0.8598883261914038,
          0.8598883261914038,
          0.8598883261914038,
          0.8598883261914038,
          0.8598883261914038,
          0.8598883261914038,
          0.860168935183159,
          0.8420807525729986,
          0.8328603859250852,
          0.8293980711672764,
          0.8279539179282109,
          0.8275927778571769,
          0.8135960591133005,
          0.7314266562395263,
          0.6559517211650964,
          0.5879386983347707,
          0.548653106102254,
          0.5040662005992296,
          0.4180712691449242,
          0.34601346419012086,
          0.27883310719131615,
          0.21514295799505825,
          0.1630533794862452,
          0.11534500514933059,
          0.0809546539379475,
          0.053860311924828055,
          0
         ]
        }
       ],
       "layout": {
        "barmode": "overlay",
        "font": {
         "size": 18
        },
        "height": 500,
        "hovermode": "x unified",
        "margin": {
         "b": 20,
         "l": 20,
         "r": 20,
         "t": 50
        },
        "template": {
         "data": {
          "bar": [
           {
            "error_x": {
             "color": "#2a3f5f"
            },
            "error_y": {
             "color": "#2a3f5f"
            },
            "marker": {
             "line": {
              "color": "#E5ECF6",
              "width": 0.5
             },
             "pattern": {
              "fillmode": "overlay",
              "size": 10,
              "solidity": 0.2
             }
            },
            "type": "bar"
           }
          ],
          "barpolar": [
           {
            "marker": {
             "line": {
              "color": "#E5ECF6",
              "width": 0.5
             },
             "pattern": {
              "fillmode": "overlay",
              "size": 10,
              "solidity": 0.2
             }
            },
            "type": "barpolar"
           }
          ],
          "carpet": [
           {
            "aaxis": {
             "endlinecolor": "#2a3f5f",
             "gridcolor": "white",
             "linecolor": "white",
             "minorgridcolor": "white",
             "startlinecolor": "#2a3f5f"
            },
            "baxis": {
             "endlinecolor": "#2a3f5f",
             "gridcolor": "white",
             "linecolor": "white",
             "minorgridcolor": "white",
             "startlinecolor": "#2a3f5f"
            },
            "type": "carpet"
           }
          ],
          "choropleth": [
           {
            "colorbar": {
             "outlinewidth": 0,
             "ticks": ""
            },
            "type": "choropleth"
           }
          ],
          "contour": [
           {
            "colorbar": {
             "outlinewidth": 0,
             "ticks": ""
            },
            "colorscale": [
             [
              0,
              "#0d0887"
             ],
             [
              0.1111111111111111,
              "#46039f"
             ],
             [
              0.2222222222222222,
              "#7201a8"
             ],
             [
              0.3333333333333333,
              "#9c179e"
             ],
             [
              0.4444444444444444,
              "#bd3786"
             ],
             [
              0.5555555555555556,
              "#d8576b"
             ],
             [
              0.6666666666666666,
              "#ed7953"
             ],
             [
              0.7777777777777778,
              "#fb9f3a"
             ],
             [
              0.8888888888888888,
              "#fdca26"
             ],
             [
              1,
              "#f0f921"
             ]
            ],
            "type": "contour"
           }
          ],
          "contourcarpet": [
           {
            "colorbar": {
             "outlinewidth": 0,
             "ticks": ""
            },
            "type": "contourcarpet"
           }
          ],
          "heatmap": [
           {
            "colorbar": {
             "outlinewidth": 0,
             "ticks": ""
            },
            "colorscale": [
             [
              0,
              "#0d0887"
             ],
             [
              0.1111111111111111,
              "#46039f"
             ],
             [
              0.2222222222222222,
              "#7201a8"
             ],
             [
              0.3333333333333333,
              "#9c179e"
             ],
             [
              0.4444444444444444,
              "#bd3786"
             ],
             [
              0.5555555555555556,
              "#d8576b"
             ],
             [
              0.6666666666666666,
              "#ed7953"
             ],
             [
              0.7777777777777778,
              "#fb9f3a"
             ],
             [
              0.8888888888888888,
              "#fdca26"
             ],
             [
              1,
              "#f0f921"
             ]
            ],
            "type": "heatmap"
           }
          ],
          "heatmapgl": [
           {
            "colorbar": {
             "outlinewidth": 0,
             "ticks": ""
            },
            "colorscale": [
             [
              0,
              "#0d0887"
             ],
             [
              0.1111111111111111,
              "#46039f"
             ],
             [
              0.2222222222222222,
              "#7201a8"
             ],
             [
              0.3333333333333333,
              "#9c179e"
             ],
             [
              0.4444444444444444,
              "#bd3786"
             ],
             [
              0.5555555555555556,
              "#d8576b"
             ],
             [
              0.6666666666666666,
              "#ed7953"
             ],
             [
              0.7777777777777778,
              "#fb9f3a"
             ],
             [
              0.8888888888888888,
              "#fdca26"
             ],
             [
              1,
              "#f0f921"
             ]
            ],
            "type": "heatmapgl"
           }
          ],
          "histogram": [
           {
            "marker": {
             "pattern": {
              "fillmode": "overlay",
              "size": 10,
              "solidity": 0.2
             }
            },
            "type": "histogram"
           }
          ],
          "histogram2d": [
           {
            "colorbar": {
             "outlinewidth": 0,
             "ticks": ""
            },
            "colorscale": [
             [
              0,
              "#0d0887"
             ],
             [
              0.1111111111111111,
              "#46039f"
             ],
             [
              0.2222222222222222,
              "#7201a8"
             ],
             [
              0.3333333333333333,
              "#9c179e"
             ],
             [
              0.4444444444444444,
              "#bd3786"
             ],
             [
              0.5555555555555556,
              "#d8576b"
             ],
             [
              0.6666666666666666,
              "#ed7953"
             ],
             [
              0.7777777777777778,
              "#fb9f3a"
             ],
             [
              0.8888888888888888,
              "#fdca26"
             ],
             [
              1,
              "#f0f921"
             ]
            ],
            "type": "histogram2d"
           }
          ],
          "histogram2dcontour": [
           {
            "colorbar": {
             "outlinewidth": 0,
             "ticks": ""
            },
            "colorscale": [
             [
              0,
              "#0d0887"
             ],
             [
              0.1111111111111111,
              "#46039f"
             ],
             [
              0.2222222222222222,
              "#7201a8"
             ],
             [
              0.3333333333333333,
              "#9c179e"
             ],
             [
              0.4444444444444444,
              "#bd3786"
             ],
             [
              0.5555555555555556,
              "#d8576b"
             ],
             [
              0.6666666666666666,
              "#ed7953"
             ],
             [
              0.7777777777777778,
              "#fb9f3a"
             ],
             [
              0.8888888888888888,
              "#fdca26"
             ],
             [
              1,
              "#f0f921"
             ]
            ],
            "type": "histogram2dcontour"
           }
          ],
          "mesh3d": [
           {
            "colorbar": {
             "outlinewidth": 0,
             "ticks": ""
            },
            "type": "mesh3d"
           }
          ],
          "parcoords": [
           {
            "line": {
             "colorbar": {
              "outlinewidth": 0,
              "ticks": ""
             }
            },
            "type": "parcoords"
           }
          ],
          "pie": [
           {
            "automargin": true,
            "type": "pie"
           }
          ],
          "scatter": [
           {
            "fillpattern": {
             "fillmode": "overlay",
             "size": 10,
             "solidity": 0.2
            },
            "type": "scatter"
           }
          ],
          "scatter3d": [
           {
            "line": {
             "colorbar": {
              "outlinewidth": 0,
              "ticks": ""
             }
            },
            "marker": {
             "colorbar": {
              "outlinewidth": 0,
              "ticks": ""
             }
            },
            "type": "scatter3d"
           }
          ],
          "scattercarpet": [
           {
            "marker": {
             "colorbar": {
              "outlinewidth": 0,
              "ticks": ""
             }
            },
            "type": "scattercarpet"
           }
          ],
          "scattergeo": [
           {
            "marker": {
             "colorbar": {
              "outlinewidth": 0,
              "ticks": ""
             }
            },
            "type": "scattergeo"
           }
          ],
          "scattergl": [
           {
            "marker": {
             "colorbar": {
              "outlinewidth": 0,
              "ticks": ""
             }
            },
            "type": "scattergl"
           }
          ],
          "scattermapbox": [
           {
            "marker": {
             "colorbar": {
              "outlinewidth": 0,
              "ticks": ""
             }
            },
            "type": "scattermapbox"
           }
          ],
          "scatterpolar": [
           {
            "marker": {
             "colorbar": {
              "outlinewidth": 0,
              "ticks": ""
             }
            },
            "type": "scatterpolar"
           }
          ],
          "scatterpolargl": [
           {
            "marker": {
             "colorbar": {
              "outlinewidth": 0,
              "ticks": ""
             }
            },
            "type": "scatterpolargl"
           }
          ],
          "scatterternary": [
           {
            "marker": {
             "colorbar": {
              "outlinewidth": 0,
              "ticks": ""
             }
            },
            "type": "scatterternary"
           }
          ],
          "surface": [
           {
            "colorbar": {
             "outlinewidth": 0,
             "ticks": ""
            },
            "colorscale": [
             [
              0,
              "#0d0887"
             ],
             [
              0.1111111111111111,
              "#46039f"
             ],
             [
              0.2222222222222222,
              "#7201a8"
             ],
             [
              0.3333333333333333,
              "#9c179e"
             ],
             [
              0.4444444444444444,
              "#bd3786"
             ],
             [
              0.5555555555555556,
              "#d8576b"
             ],
             [
              0.6666666666666666,
              "#ed7953"
             ],
             [
              0.7777777777777778,
              "#fb9f3a"
             ],
             [
              0.8888888888888888,
              "#fdca26"
             ],
             [
              1,
              "#f0f921"
             ]
            ],
            "type": "surface"
           }
          ],
          "table": [
           {
            "cells": {
             "fill": {
              "color": "#EBF0F8"
             },
             "line": {
              "color": "white"
             }
            },
            "header": {
             "fill": {
              "color": "#C8D4E3"
             },
             "line": {
              "color": "white"
             }
            },
            "type": "table"
           }
          ]
         },
         "layout": {
          "annotationdefaults": {
           "arrowcolor": "#2a3f5f",
           "arrowhead": 0,
           "arrowwidth": 1
          },
          "autotypenumbers": "strict",
          "coloraxis": {
           "colorbar": {
            "outlinewidth": 0,
            "ticks": ""
           }
          },
          "colorscale": {
           "diverging": [
            [
             0,
             "#8e0152"
            ],
            [
             0.1,
             "#c51b7d"
            ],
            [
             0.2,
             "#de77ae"
            ],
            [
             0.3,
             "#f1b6da"
            ],
            [
             0.4,
             "#fde0ef"
            ],
            [
             0.5,
             "#f7f7f7"
            ],
            [
             0.6,
             "#e6f5d0"
            ],
            [
             0.7,
             "#b8e186"
            ],
            [
             0.8,
             "#7fbc41"
            ],
            [
             0.9,
             "#4d9221"
            ],
            [
             1,
             "#276419"
            ]
           ],
           "sequential": [
            [
             0,
             "#0d0887"
            ],
            [
             0.1111111111111111,
             "#46039f"
            ],
            [
             0.2222222222222222,
             "#7201a8"
            ],
            [
             0.3333333333333333,
             "#9c179e"
            ],
            [
             0.4444444444444444,
             "#bd3786"
            ],
            [
             0.5555555555555556,
             "#d8576b"
            ],
            [
             0.6666666666666666,
             "#ed7953"
            ],
            [
             0.7777777777777778,
             "#fb9f3a"
            ],
            [
             0.8888888888888888,
             "#fdca26"
            ],
            [
             1,
             "#f0f921"
            ]
           ],
           "sequentialminus": [
            [
             0,
             "#0d0887"
            ],
            [
             0.1111111111111111,
             "#46039f"
            ],
            [
             0.2222222222222222,
             "#7201a8"
            ],
            [
             0.3333333333333333,
             "#9c179e"
            ],
            [
             0.4444444444444444,
             "#bd3786"
            ],
            [
             0.5555555555555556,
             "#d8576b"
            ],
            [
             0.6666666666666666,
             "#ed7953"
            ],
            [
             0.7777777777777778,
             "#fb9f3a"
            ],
            [
             0.8888888888888888,
             "#fdca26"
            ],
            [
             1,
             "#f0f921"
            ]
           ]
          },
          "colorway": [
           "#636efa",
           "#EF553B",
           "#00cc96",
           "#ab63fa",
           "#FFA15A",
           "#19d3f3",
           "#FF6692",
           "#B6E880",
           "#FF97FF",
           "#FECB52"
          ],
          "font": {
           "color": "#2a3f5f"
          },
          "geo": {
           "bgcolor": "white",
           "lakecolor": "white",
           "landcolor": "#E5ECF6",
           "showlakes": true,
           "showland": true,
           "subunitcolor": "white"
          },
          "hoverlabel": {
           "align": "left"
          },
          "hovermode": "closest",
          "mapbox": {
           "style": "light"
          },
          "paper_bgcolor": "white",
          "plot_bgcolor": "#E5ECF6",
          "polar": {
           "angularaxis": {
            "gridcolor": "white",
            "linecolor": "white",
            "ticks": ""
           },
           "bgcolor": "#E5ECF6",
           "radialaxis": {
            "gridcolor": "white",
            "linecolor": "white",
            "ticks": ""
           }
          },
          "scene": {
           "xaxis": {
            "backgroundcolor": "#E5ECF6",
            "gridcolor": "white",
            "gridwidth": 2,
            "linecolor": "white",
            "showbackground": true,
            "ticks": "",
            "zerolinecolor": "white"
           },
           "yaxis": {
            "backgroundcolor": "#E5ECF6",
            "gridcolor": "white",
            "gridwidth": 2,
            "linecolor": "white",
            "showbackground": true,
            "ticks": "",
            "zerolinecolor": "white"
           },
           "zaxis": {
            "backgroundcolor": "#E5ECF6",
            "gridcolor": "white",
            "gridwidth": 2,
            "linecolor": "white",
            "showbackground": true,
            "ticks": "",
            "zerolinecolor": "white"
           }
          },
          "shapedefaults": {
           "line": {
            "color": "#2a3f5f"
           }
          },
          "ternary": {
           "aaxis": {
            "gridcolor": "white",
            "linecolor": "white",
            "ticks": ""
           },
           "baxis": {
            "gridcolor": "white",
            "linecolor": "white",
            "ticks": ""
           },
           "bgcolor": "#E5ECF6",
           "caxis": {
            "gridcolor": "white",
            "linecolor": "white",
            "ticks": ""
           }
          },
          "title": {
           "x": 0.05
          },
          "xaxis": {
           "automargin": true,
           "gridcolor": "white",
           "linecolor": "white",
           "ticks": "",
           "title": {
            "standoff": 15
           },
           "zerolinecolor": "white",
           "zerolinewidth": 2
          },
          "yaxis": {
           "automargin": true,
           "gridcolor": "white",
           "linecolor": "white",
           "ticks": "",
           "title": {
            "standoff": 15
           },
           "zerolinecolor": "white",
           "zerolinewidth": 2
          }
         }
        },
        "title": {
         "text": "Metrics depending on the threshold value used",
         "x": 0.5,
         "xanchor": "center"
        },
        "width": 800,
        "xaxis": {
         "title": {
          "text": "Threshold"
         }
        },
        "yaxis": {
         "title": {
          "text": "Metric"
         }
        }
       }
      }
     },
     "metadata": {},
     "output_type": "display_data"
    },
    {
     "name": "stdout",
     "output_type": "stream",
     "text": [
      "0.7609606464162801 0.5918367346938775\n",
      "[-0.3322037276985943, -0.33060492334492064, -0.33060492334492064, -0.33060492334492064, -0.33060492334492064, -0.33060492334492064, -0.33060492334492064, -0.33060492334492064, -0.33060492334492064, -0.33060492334492064, -0.33060492334492064, -0.33060492334492064, -0.3234103037533891, -0.3234103037533891, -0.3234103037533891, -0.3234103037533891, -0.3234103037533891, -0.3234103037533891, -0.29143421667991554, -0.2938324232104259, -0.2938324232104259, -0.2938324232104259, -0.2938324232104259, -0.2938324232104259, -0.2938324232104259, -0.2938324232104259, -0.2938324232104259, -0.2938324232104259, -0.2938324232104259, -0.2770449774968524, -0.35538639082686263, -0.41254364647069663, -0.4353266085105467, -0.4445197335441704, -0.44651823898626253, -0.5124689185753017, -0.9217628331157639, -1.2331299809937133, -1.4825434601668075, -1.6252367487321835, -1.7787219666848566, -2.0221399295316744, -2.2227898759177216, -2.3990580559102446, -2.5549414803934285, -2.6724536003884443, -2.7767755844656516, -2.8479223782041307, -2.9038805305827093, -3.0102010201020093]\n"
     ]
    }
   ],
   "source": [
    "acc, prec, rec, f1, r2 = get_metrics(y_pred_p_valid, y_valid, n)\n",
    "plot_metrics(acc, rec, prec, f1)\n",
    "print(r2)"
   ]
  },
  {
   "cell_type": "code",
   "execution_count": 65,
   "metadata": {},
   "outputs": [
    {
     "name": "stdout",
     "output_type": "stream",
     "text": [
      "0.7613347299117162\n",
      "-0.2864621345406262\n"
     ]
    }
   ],
   "source": [
    "y_pred_p_test = log_reg.predict(X_test).values\n",
    "y_pred_test = np.where(y_pred_p_test>0.5918367346938775, 1, 0)\n",
    "print(metrics.accuracy_score(y_test, y_pred_test))\n",
    "print(metrics.r2_score(y_test, y_pred_test))\n"
   ]
  },
  {
   "cell_type": "code",
   "execution_count": 73,
   "metadata": {},
   "outputs": [
    {
     "data": {
      "image/png": "[encoded data removed]",
      "text/plain": [
       "<Figure size 640x480 with 1 Axes>"
      ]
     },
     "metadata": {},
     "output_type": "display_data"
    }
   ],
   "source": [
    "\n",
    "\n",
    "display = RocCurveDisplay.from_predictions(y_test, y_pred_p_test, plot_chance_level=True)"
   ]
  },
  {
   "cell_type": "code",
   "execution_count": 76,
   "metadata": {},
   "outputs": [
    {
     "data": {
      "text/plain": [
       "0.06676839263243961"
      ]
     },
     "execution_count": 76,
     "metadata": {},
     "output_type": "execute_result"
    }
   ],
   "source": [
    "\n",
    "ll_full = log_reg.llf  # Log-likelihood of the fitted model\n",
    "ll_null = log_reg.llnull  # Log-likelihood of the null model\n",
    "mcfadden_r2 = 1 - (ll_full / ll_null)\n",
    "mcfadden_r2"
   ]
  }
 ],
 "metadata": {
  "kernelspec": {
   "display_name": "ada",
   "language": "python",
   "name": "python3"
  },
  "language_info": {
   "codemirror_mode": {
    "name": "ipython",
    "version": 3
   },
   "file_extension": ".py",
   "mimetype": "text/x-python",
   "name": "python",
   "nbconvert_exporter": "python",
   "pygments_lexer": "ipython3",
   "version": "3.11.7"
  }
 },
 "nbformat": 4,
 "nbformat_minor": 2
}
