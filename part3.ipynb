{
 "cells": [
  {
   "cell_type": "markdown",
   "metadata": {},
   "source": [
    "# Part 3 : Would players be better now ?"
   ]
  },
  {
   "cell_type": "code",
   "execution_count": 1,
   "metadata": {},
   "outputs": [
    {
     "name": "stderr",
     "output_type": "stream",
     "text": [
      "c:\\Users\\Anasse\\miniconda3\\envs\\ada\\Lib\\site-packages\\tqdm\\auto.py:21: TqdmWarning: IProgress not found. Please update jupyter and ipywidgets. See https://ipywidgets.readthedocs.io/en/stable/user_install.html\n",
      "  from .autonotebook import tqdm as notebook_tqdm\n"
     ]
    }
   ],
   "source": [
    "import os\n",
    "import numpy as np\n",
    "import pandas as pd\n",
    "import seaborn as sns\n",
    "import matplotlib.pyplot as plt\n",
    "\n",
    "from tqdm import tqdm\n",
    "from urllib.parse import unquote\n",
    "\n",
    "import wikipediaapi # need python 3.9 or higher to work\n",
    "from time import sleep\n",
    "\n",
    "import networkx as nx\n",
    "from scipy import stats\n",
    "\n",
    "from node2vec import Node2Vec\n",
    "from gensim.models import Word2Vec\n",
    "from sentence_transformers import SentenceTransformer\n",
    "\n",
    "from sklearn.metrics.pairwise import cosine_similarity"
   ]
  },
  {
   "cell_type": "code",
   "execution_count": 2,
   "metadata": {},
   "outputs": [],
   "source": [
    "ARTICLE_TXT_PATH = os.path.join('data', '2007', 'plaintext_articles')\n",
    "PATH_2007 = os.path.join('data', '2007')\n",
    "PATH_2024 = os.path.join('data', '2024')\n",
    "\n",
    "links2007 = pd.read_csv(os.path.join(PATH_2007, 'links.tsv'), sep='\\t', comment='#', names=['linkSource', 'linkTarget'])\n",
    "links2024 = pd.read_csv(os.path.join(PATH_2024, 'links2024.csv'))\n",
    "links2024 = links2024.drop_duplicates().reset_index(drop=True)"
   ]
  },
  {
   "cell_type": "markdown",
   "metadata": {
    "vscode": {
     "languageId": "plaintext"
    }
   },
   "source": [
    "## Study of the players path"
   ]
  },
  {
   "cell_type": "markdown",
   "metadata": {},
   "source": [
    "### Path unfinished"
   ]
  },
  {
   "cell_type": "markdown",
   "metadata": {},
   "source": [
    "Let's determine whether an unfinished path in 2007 could have been completed back then (i.e., if the player was close to reaching the target) and compare it to the 2024 Wikipedia link structure to assess if the player could now finish the game more quickly in 2024 than in 2007."
   ]
  },
  {
   "cell_type": "code",
   "execution_count": 3,
   "metadata": {},
   "outputs": [],
   "source": [
    "path_unfinished = pd.read_csv(os.path.join(PATH_2007, 'paths_unfinished.tsv'), sep='\\t', comment='#', names=['hashedIpAddress', 'timestamp', 'durationInSec', 'path', 'target', 'type'], usecols=['hashedIpAddress', 'durationInSec', 'path', 'target', 'type'])"
   ]
  },
  {
   "cell_type": "code",
   "execution_count": 79,
   "metadata": {},
   "outputs": [
    {
     "data": {
      "text/html": [
       "<div>\n",
       "<style scoped>\n",
       "    .dataframe tbody tr th:only-of-type {\n",
       "        vertical-align: middle;\n",
       "    }\n",
       "\n",
       "    .dataframe tbody tr th {\n",
       "        vertical-align: top;\n",
       "    }\n",
       "\n",
       "    .dataframe thead th {\n",
       "        text-align: right;\n",
       "    }\n",
       "</style>\n",
       "<table border=\"1\" class=\"dataframe\">\n",
       "  <thead>\n",
       "    <tr style=\"text-align: right;\">\n",
       "      <th></th>\n",
       "      <th>hashedIpAddress</th>\n",
       "      <th>durationInSec</th>\n",
       "      <th>path</th>\n",
       "      <th>target</th>\n",
       "      <th>type</th>\n",
       "      <th>path_length</th>\n",
       "    </tr>\n",
       "  </thead>\n",
       "  <tbody>\n",
       "    <tr>\n",
       "      <th>5</th>\n",
       "      <td>131600803df4895e</td>\n",
       "      <td>2009</td>\n",
       "      <td>Agriculture;History_of_the_world;China;Yangtze...</td>\n",
       "      <td>Grand_Canal_of_China</td>\n",
       "      <td>timeout</td>\n",
       "      <td>4</td>\n",
       "    </tr>\n",
       "    <tr>\n",
       "      <th>6</th>\n",
       "      <td>486bb79910fe9dd2</td>\n",
       "      <td>1932</td>\n",
       "      <td>Mind;Christianity;Europe;Renaissance;Ancient_G...</td>\n",
       "      <td>Scouting</td>\n",
       "      <td>timeout</td>\n",
       "      <td>7</td>\n",
       "    </tr>\n",
       "    <tr>\n",
       "      <th>7</th>\n",
       "      <td>6d136e371e42474f</td>\n",
       "      <td>175</td>\n",
       "      <td>4-2-0;United_States;Agriculture;Sugar;Australia</td>\n",
       "      <td>Cane_Toad</td>\n",
       "      <td>restart</td>\n",
       "      <td>5</td>\n",
       "    </tr>\n",
       "    <tr>\n",
       "      <th>9</th>\n",
       "      <td>6d136e371e42474f</td>\n",
       "      <td>2006</td>\n",
       "      <td>Logic;Computer_science;Science;Physical_scienc...</td>\n",
       "      <td>Moon_landing</td>\n",
       "      <td>timeout</td>\n",
       "      <td>9</td>\n",
       "    </tr>\n",
       "    <tr>\n",
       "      <th>10</th>\n",
       "      <td>430ca00e7f5303b7</td>\n",
       "      <td>1976</td>\n",
       "      <td>Battle_of_Gettysburg;Washington%2C_D.C.;United...</td>\n",
       "      <td>Ostrich</td>\n",
       "      <td>timeout</td>\n",
       "      <td>7</td>\n",
       "    </tr>\n",
       "  </tbody>\n",
       "</table>\n",
       "</div>"
      ],
      "text/plain": [
       "     hashedIpAddress  durationInSec  \\\n",
       "5   131600803df4895e           2009   \n",
       "6   486bb79910fe9dd2           1932   \n",
       "7   6d136e371e42474f            175   \n",
       "9   6d136e371e42474f           2006   \n",
       "10  430ca00e7f5303b7           1976   \n",
       "\n",
       "                                                 path                target  \\\n",
       "5   Agriculture;History_of_the_world;China;Yangtze...  Grand_Canal_of_China   \n",
       "6   Mind;Christianity;Europe;Renaissance;Ancient_G...              Scouting   \n",
       "7     4-2-0;United_States;Agriculture;Sugar;Australia             Cane_Toad   \n",
       "9   Logic;Computer_science;Science;Physical_scienc...          Moon_landing   \n",
       "10  Battle_of_Gettysburg;Washington%2C_D.C.;United...               Ostrich   \n",
       "\n",
       "       type  path_length  \n",
       "5   timeout            4  \n",
       "6   timeout            7  \n",
       "7   restart            5  \n",
       "9   timeout            9  \n",
       "10  timeout            7  "
      ]
     },
     "execution_count": 79,
     "metadata": {},
     "output_type": "execute_result"
    }
   ],
   "source": [
    "# remove path with only one element -> not considered as an attempt\n",
    "# get path length\n",
    "path_unfinished['path_length'] = path_unfinished['path'].apply(lambda x: len(x.split(';')))\n",
    "path_unfinished = path_unfinished[path_unfinished['path_length'] > 3]\n",
    "path_unfinished.head()"
   ]
  },
  {
   "cell_type": "code",
   "execution_count": 78,
   "metadata": {},
   "outputs": [
    {
     "data": {
      "text/plain": [
       "count    13273.000000\n",
       "mean         8.147367\n",
       "std          6.571635\n",
       "min          4.000000\n",
       "25%          5.000000\n",
       "50%          6.000000\n",
       "75%          9.000000\n",
       "max        235.000000\n",
       "Name: path_length, dtype: float64"
      ]
     },
     "execution_count": 78,
     "metadata": {},
     "output_type": "execute_result"
    }
   ],
   "source": [
    "path_unfinished.describe()['path_length']"
   ]
  },
  {
   "cell_type": "markdown",
   "metadata": {},
   "source": [
    "Let's process our unfinished path to determine whether, theoretically, a player could have completed the game in 2007 and to analyze whether finishing the game is faster in 2024 compared to 2007.\n",
    "\n",
    "Data format:\n",
    "| path | target | final_link | distance |\n",
    "|------|--------|------------|----------|\n",
    "|path of the player      |   target to reach     |      final link reached before going to target (same as path if target cannot be reached)      |     number of click earned (equal -1 if the path is not possible based on our data)    |"
   ]
  },
  {
   "cell_type": "code",
   "execution_count": 6,
   "metadata": {},
   "outputs": [],
   "source": [
    "def fix_path(path):\n",
    "    \"\"\"\n",
    "    Fix the path by removing the last element if it is '<'\n",
    "    \"\"\"\n",
    "    path_elements = path.split(';')\n",
    "    result_stack = []\n",
    "\n",
    "    for element in path_elements:\n",
    "        if element == '<':\n",
    "            if result_stack:  # Remove the last element only if the stack is not empty\n",
    "                result_stack.pop()\n",
    "        else:\n",
    "            result_stack.append(element)\n",
    "    return result_stack\n",
    "\n",
    "\n",
    "def check_if_link_exists(row, links):\n",
    "    \"\"\"\n",
    "    Check if in the path of the row, there is a faster way to reach the target\n",
    "    Also, check if the path is valid\n",
    "    \"\"\"\n",
    "    path_list = fix_path(row['path'])\n",
    "    # Convert list to a set for quick lookup and calculate target links\n",
    "    path_set = set(path_list)\n",
    "    target = row['target']\n",
    "    \n",
    "    # Filter links2024 to get only relevant links with target linkSource in path\n",
    "    last_links = set(links.loc[links['linkTarget'] == target, 'linkSource'])\n",
    "    intersecting_links = path_set.intersection(last_links)\n",
    "    \n",
    "    if intersecting_links:\n",
    "        # Verify that each path[i+1] exists in the linkTarget of path[i]\n",
    "        for i in range(len(path_list) - 1):\n",
    "            current_node = path_list[i]\n",
    "            next_node = path_list[i + 1]\n",
    "            # Check if next_node is in linkTarget of current_node in links2024\n",
    "            if not ((links['linkSource'] == current_node) & (links['linkTarget'] == next_node)).any():\n",
    "                return None, -1  # Return None, -1 if the link is invalid\n",
    "        \n",
    "        # Find the index of the first occurrence in path_list\n",
    "        index = next((i for i, link in enumerate(path_list) if link in intersecting_links), None)\n",
    "        return path_list[index], len(path_list) - index - 1\n",
    "    else:\n",
    "        return path_list[-1], 0"
   ]
  },
  {
   "cell_type": "code",
   "execution_count": 7,
   "metadata": {},
   "outputs": [],
   "source": [
    "# # create a dafaframe with columns 'path', 'target', 'final_link2007', 'final_link2024', 'distance2007', 'distance2024'\n",
    "# df_unfinished = []\n",
    "\n",
    "# for i, data in tqdm(path_unfinished.iterrows(), total=len(path_unfinished), desc='Processing data'):\n",
    "#     output_link, distance = check_if_link_exists(data, links2007)\n",
    "#     output_link2, distance2 = check_if_link_exists(data, links2024)\n",
    "\n",
    "#     # add the data to the output dataframe\n",
    "#     df_unfinished.append({'path': data['path'], 'target': data['target'], 'final_link2007': output_link, 'final_link2024': output_link2, 'distance2007': distance, 'distance2024': distance2})\n",
    "    \n",
    "# df_unfinished = pd.DataFrame(df_unfinished)\n",
    "\n",
    "# save df_unfinished to a csv file\n",
    "# df_unfinished.to_csv(os.path.join(PATH_2007, 'comparison_unfinished_to_2024.csv'), index=False)\n",
    "\n",
    "df_unfinished = pd.read_csv(os.path.join(PATH_2007, 'comparison_unfinished_to_2024.csv'))"
   ]
  },
  {
   "cell_type": "code",
   "execution_count": 8,
   "metadata": {},
   "outputs": [
    {
     "name": "stdout",
     "output_type": "stream",
     "text": [
      "(19661, 6)\n"
     ]
    },
    {
     "data": {
      "text/html": [
       "<div>\n",
       "<style scoped>\n",
       "    .dataframe tbody tr th:only-of-type {\n",
       "        vertical-align: middle;\n",
       "    }\n",
       "\n",
       "    .dataframe tbody tr th {\n",
       "        vertical-align: top;\n",
       "    }\n",
       "\n",
       "    .dataframe thead th {\n",
       "        text-align: right;\n",
       "    }\n",
       "</style>\n",
       "<table border=\"1\" class=\"dataframe\">\n",
       "  <thead>\n",
       "    <tr style=\"text-align: right;\">\n",
       "      <th></th>\n",
       "      <th>path</th>\n",
       "      <th>target</th>\n",
       "      <th>final_link2007</th>\n",
       "      <th>final_link2024</th>\n",
       "      <th>distance2007</th>\n",
       "      <th>distance2024</th>\n",
       "    </tr>\n",
       "  </thead>\n",
       "  <tbody>\n",
       "    <tr>\n",
       "      <th>0</th>\n",
       "      <td>Malawi;Democracy;Alexander_the_Great</td>\n",
       "      <td>First_Crusade</td>\n",
       "      <td>Alexander_the_Great</td>\n",
       "      <td>Alexander_the_Great</td>\n",
       "      <td>0</td>\n",
       "      <td>0</td>\n",
       "    </tr>\n",
       "    <tr>\n",
       "      <th>1</th>\n",
       "      <td>Paraguay;Bolivia</td>\n",
       "      <td>Mount_St._Helens</td>\n",
       "      <td>Bolivia</td>\n",
       "      <td>Bolivia</td>\n",
       "      <td>0</td>\n",
       "      <td>0</td>\n",
       "    </tr>\n",
       "    <tr>\n",
       "      <th>2</th>\n",
       "      <td>Agriculture;History_of_the_world;China;Yangtze...</td>\n",
       "      <td>Grand_Canal_of_China</td>\n",
       "      <td>Yangtze_River</td>\n",
       "      <td>NaN</td>\n",
       "      <td>0</td>\n",
       "      <td>-1</td>\n",
       "    </tr>\n",
       "    <tr>\n",
       "      <th>3</th>\n",
       "      <td>Mind;Christianity;Europe;Renaissance;Ancient_G...</td>\n",
       "      <td>Scouting</td>\n",
       "      <td>Asia</td>\n",
       "      <td>Asia</td>\n",
       "      <td>0</td>\n",
       "      <td>0</td>\n",
       "    </tr>\n",
       "    <tr>\n",
       "      <th>4</th>\n",
       "      <td>4-2-0;United_States;Agriculture;Sugar;Australia</td>\n",
       "      <td>Cane_Toad</td>\n",
       "      <td>Australia</td>\n",
       "      <td>Australia</td>\n",
       "      <td>0</td>\n",
       "      <td>0</td>\n",
       "    </tr>\n",
       "  </tbody>\n",
       "</table>\n",
       "</div>"
      ],
      "text/plain": [
       "                                                path                target  \\\n",
       "0               Malawi;Democracy;Alexander_the_Great         First_Crusade   \n",
       "1                                   Paraguay;Bolivia      Mount_St._Helens   \n",
       "2  Agriculture;History_of_the_world;China;Yangtze...  Grand_Canal_of_China   \n",
       "3  Mind;Christianity;Europe;Renaissance;Ancient_G...              Scouting   \n",
       "4    4-2-0;United_States;Agriculture;Sugar;Australia             Cane_Toad   \n",
       "\n",
       "        final_link2007       final_link2024  distance2007  distance2024  \n",
       "0  Alexander_the_Great  Alexander_the_Great             0             0  \n",
       "1              Bolivia              Bolivia             0             0  \n",
       "2        Yangtze_River                  NaN             0            -1  \n",
       "3                 Asia                 Asia             0             0  \n",
       "4            Australia            Australia             0             0  "
      ]
     },
     "execution_count": 8,
     "metadata": {},
     "output_type": "execute_result"
    }
   ],
   "source": [
    "print(df_unfinished.shape)\n",
    "df_unfinished.head()"
   ]
  },
  {
   "cell_type": "code",
   "execution_count": 9,
   "metadata": {},
   "outputs": [],
   "source": [
    "# remove all path with distance = -1 (invalid path and no possible comparison)\n",
    "df_ttest = df_unfinished[(df_unfinished['distance2007'] != -1) &\n",
    "                       (df_unfinished['distance2024'] != -1)]"
   ]
  },
  {
   "cell_type": "code",
   "execution_count": 10,
   "metadata": {},
   "outputs": [
    {
     "data": {
      "text/html": [
       "<div>\n",
       "<style scoped>\n",
       "    .dataframe tbody tr th:only-of-type {\n",
       "        vertical-align: middle;\n",
       "    }\n",
       "\n",
       "    .dataframe tbody tr th {\n",
       "        vertical-align: top;\n",
       "    }\n",
       "\n",
       "    .dataframe thead th {\n",
       "        text-align: right;\n",
       "    }\n",
       "</style>\n",
       "<table border=\"1\" class=\"dataframe\">\n",
       "  <thead>\n",
       "    <tr style=\"text-align: right;\">\n",
       "      <th></th>\n",
       "      <th>distance2007</th>\n",
       "      <th>distance2024</th>\n",
       "    </tr>\n",
       "  </thead>\n",
       "  <tbody>\n",
       "    <tr>\n",
       "      <th>count</th>\n",
       "      <td>15335.000000</td>\n",
       "      <td>15335.000000</td>\n",
       "    </tr>\n",
       "    <tr>\n",
       "      <th>mean</th>\n",
       "      <td>0.065145</td>\n",
       "      <td>0.056798</td>\n",
       "    </tr>\n",
       "    <tr>\n",
       "      <th>std</th>\n",
       "      <td>0.732249</td>\n",
       "      <td>0.376145</td>\n",
       "    </tr>\n",
       "    <tr>\n",
       "      <th>min</th>\n",
       "      <td>0.000000</td>\n",
       "      <td>0.000000</td>\n",
       "    </tr>\n",
       "    <tr>\n",
       "      <th>25%</th>\n",
       "      <td>0.000000</td>\n",
       "      <td>0.000000</td>\n",
       "    </tr>\n",
       "    <tr>\n",
       "      <th>50%</th>\n",
       "      <td>0.000000</td>\n",
       "      <td>0.000000</td>\n",
       "    </tr>\n",
       "    <tr>\n",
       "      <th>75%</th>\n",
       "      <td>0.000000</td>\n",
       "      <td>0.000000</td>\n",
       "    </tr>\n",
       "    <tr>\n",
       "      <th>max</th>\n",
       "      <td>61.000000</td>\n",
       "      <td>12.000000</td>\n",
       "    </tr>\n",
       "  </tbody>\n",
       "</table>\n",
       "</div>"
      ],
      "text/plain": [
       "       distance2007  distance2024\n",
       "count  15335.000000  15335.000000\n",
       "mean       0.065145      0.056798\n",
       "std        0.732249      0.376145\n",
       "min        0.000000      0.000000\n",
       "25%        0.000000      0.000000\n",
       "50%        0.000000      0.000000\n",
       "75%        0.000000      0.000000\n",
       "max       61.000000     12.000000"
      ]
     },
     "execution_count": 10,
     "metadata": {},
     "output_type": "execute_result"
    }
   ],
   "source": [
    "df_ttest.describe()"
   ]
  },
  {
   "cell_type": "code",
   "execution_count": 11,
   "metadata": {},
   "outputs": [
    {
     "data": {
      "text/plain": [
       "TtestResult(statistic=1.2556186478097844, pvalue=0.20926383333528778, df=30668.0)"
      ]
     },
     "execution_count": 11,
     "metadata": {},
     "output_type": "execute_result"
    }
   ],
   "source": [
    "stats.ttest_ind(df_ttest['distance2007'], df_ttest['distance2024'])"
   ]
  },
  {
   "cell_type": "markdown",
   "metadata": {},
   "source": [
    "interpretation: ??"
   ]
  },
  {
   "cell_type": "code",
   "execution_count": 12,
   "metadata": {},
   "outputs": [
    {
     "name": "stdout",
     "output_type": "stream",
     "text": [
      "==== Path possible ? ====\n",
      "Path won't change between 2007 and 2024 : 14537\n",
      "Path impossible to do in 2024 but possible in 2007 : 4324\n",
      "Path impossible to do in 2007 and 2024 : 2\n",
      "Path still possible in 2024 : 15335\n",
      "\n",
      "==== Path faster or slower in 2024 ? ====\n",
      "Path faster in 2024 than 2007: 423\n",
      "Path slower or equal in 2024 than 2007: 375\n"
     ]
    }
   ],
   "source": [
    "print(\"==== Path possible ? ====\")\n",
    "\n",
    "print(f\"Path won't change between 2007 and 2024 : {len(df_unfinished[(df_unfinished.distance2007 == 0) & (df_unfinished.distance2024 == 0)])}\")\n",
    "print(f\"Path impossible to do in 2024 but possible in 2007 : {len(df_unfinished[(df_unfinished.distance2007 >= 0) & (df_unfinished.distance2024 == -1)])}\")\n",
    "print(f\"Path impossible to do in 2007 and 2024 : {len(df_unfinished[(df_unfinished.distance2007 == -1) & (df_unfinished.distance2024 == -1)])}\")\n",
    "print(f\"Path still possible in 2024 : {len(df_unfinished[(df_unfinished.distance2007 >= 0) & (df_unfinished.distance2024 >= 0)])}\")\n",
    "\n",
    "print()\n",
    "print(\"==== Path faster or slower in 2024 ? ====\")\n",
    "print(f\"Path faster in 2024 than 2007: {len(df_unfinished[df_unfinished.distance2007 < df_unfinished.distance2024])}\")\n",
    "print(f\"Path slower or equal in 2024 than 2007: {len(df_unfinished[(df_unfinished.distance2007 >= df_unfinished.distance2024) & (df_unfinished.distance2024 >= 0) & (df_unfinished.distance2007 > 0)])}\")"
   ]
  },
  {
   "cell_type": "markdown",
   "metadata": {},
   "source": [
    "-> Find a better wawy to represent this above"
   ]
  },
  {
   "cell_type": "markdown",
   "metadata": {},
   "source": [
    "Path not possible in 2007 ? This is strange... let's make more analysis"
   ]
  },
  {
   "cell_type": "code",
   "execution_count": 13,
   "metadata": {},
   "outputs": [
    {
     "name": "stdout",
     "output_type": "stream",
     "text": [
      "Link Finland -> Åland does not exist in links2007\n",
      "Link Technology -> Wikipedia_Text_of_the_GNU_Free_Documentation_License does not exist in links2007\n"
     ]
    }
   ],
   "source": [
    "for i, data in df_unfinished[df_unfinished.distance2007 == -1].iterrows():\n",
    "    testpath = fix_path(data['path'])\n",
    "\n",
    "    for i in range(len(testpath) - 1):\n",
    "        output = links2007[ (links2007.linkSource == testpath[i]) & (links2007.linkTarget == testpath[i+1])]\n",
    "        if output.empty:\n",
    "            print(f'Link {unquote(testpath[i])} -> {unquote(testpath[i+1])} does not exist in links2007')"
   ]
  },
  {
   "cell_type": "markdown",
   "metadata": {},
   "source": [
    "By examining the Wikispeedia page for [Finland](https://dlab.epfl.ch/wikispeedia/play/?article=Finland), we can confirm the presence of a link to Åland. Same for Technology to Wikipedia_Text_of_the_GNU_Free_Documentation_License... \n",
    "\n",
    "However, these links are missing in our dataset `links2007`."
   ]
  },
  {
   "cell_type": "markdown",
   "metadata": {},
   "source": [
    "### Path finished"
   ]
  },
  {
   "cell_type": "code",
   "execution_count": 81,
   "metadata": {},
   "outputs": [
    {
     "data": {
      "text/html": [
       "<div>\n",
       "<style scoped>\n",
       "    .dataframe tbody tr th:only-of-type {\n",
       "        vertical-align: middle;\n",
       "    }\n",
       "\n",
       "    .dataframe tbody tr th {\n",
       "        vertical-align: top;\n",
       "    }\n",
       "\n",
       "    .dataframe thead th {\n",
       "        text-align: right;\n",
       "    }\n",
       "</style>\n",
       "<table border=\"1\" class=\"dataframe\">\n",
       "  <thead>\n",
       "    <tr style=\"text-align: right;\">\n",
       "      <th></th>\n",
       "      <th>hashedIpAddress</th>\n",
       "      <th>timestamp</th>\n",
       "      <th>durationInSec</th>\n",
       "      <th>path</th>\n",
       "      <th>rating</th>\n",
       "      <th>target</th>\n",
       "      <th>path_length</th>\n",
       "    </tr>\n",
       "  </thead>\n",
       "  <tbody>\n",
       "    <tr>\n",
       "      <th>0</th>\n",
       "      <td>6a3701d319fc3754</td>\n",
       "      <td>1297740409</td>\n",
       "      <td>166</td>\n",
       "      <td>14th_century;15th_century;16th_century;Pacific...</td>\n",
       "      <td>NaN</td>\n",
       "      <td>African_slave_trade</td>\n",
       "      <td>9</td>\n",
       "    </tr>\n",
       "    <tr>\n",
       "      <th>1</th>\n",
       "      <td>3824310e536af032</td>\n",
       "      <td>1344753412</td>\n",
       "      <td>88</td>\n",
       "      <td>14th_century;Europe;Africa;Atlantic_slave_trad...</td>\n",
       "      <td>3.0</td>\n",
       "      <td>African_slave_trade</td>\n",
       "      <td>5</td>\n",
       "    </tr>\n",
       "    <tr>\n",
       "      <th>2</th>\n",
       "      <td>415612e93584d30e</td>\n",
       "      <td>1349298640</td>\n",
       "      <td>138</td>\n",
       "      <td>14th_century;Niger;Nigeria;British_Empire;Slav...</td>\n",
       "      <td>NaN</td>\n",
       "      <td>African_slave_trade</td>\n",
       "      <td>8</td>\n",
       "    </tr>\n",
       "    <tr>\n",
       "      <th>3</th>\n",
       "      <td>64dd5cd342e3780c</td>\n",
       "      <td>1265613925</td>\n",
       "      <td>37</td>\n",
       "      <td>14th_century;Renaissance;Ancient_Greece;Greece</td>\n",
       "      <td>NaN</td>\n",
       "      <td>Greece</td>\n",
       "      <td>4</td>\n",
       "    </tr>\n",
       "    <tr>\n",
       "      <th>4</th>\n",
       "      <td>015245d773376aab</td>\n",
       "      <td>1366730828</td>\n",
       "      <td>175</td>\n",
       "      <td>14th_century;Italy;Roman_Catholic_Church;HIV;R...</td>\n",
       "      <td>3.0</td>\n",
       "      <td>John_F._Kennedy</td>\n",
       "      <td>7</td>\n",
       "    </tr>\n",
       "  </tbody>\n",
       "</table>\n",
       "</div>"
      ],
      "text/plain": [
       "    hashedIpAddress   timestamp  durationInSec  \\\n",
       "0  6a3701d319fc3754  1297740409            166   \n",
       "1  3824310e536af032  1344753412             88   \n",
       "2  415612e93584d30e  1349298640            138   \n",
       "3  64dd5cd342e3780c  1265613925             37   \n",
       "4  015245d773376aab  1366730828            175   \n",
       "\n",
       "                                                path  rating  \\\n",
       "0  14th_century;15th_century;16th_century;Pacific...     NaN   \n",
       "1  14th_century;Europe;Africa;Atlantic_slave_trad...     3.0   \n",
       "2  14th_century;Niger;Nigeria;British_Empire;Slav...     NaN   \n",
       "3     14th_century;Renaissance;Ancient_Greece;Greece     NaN   \n",
       "4  14th_century;Italy;Roman_Catholic_Church;HIV;R...     3.0   \n",
       "\n",
       "                target  path_length  \n",
       "0  African_slave_trade            9  \n",
       "1  African_slave_trade            5  \n",
       "2  African_slave_trade            8  \n",
       "3               Greece            4  \n",
       "4      John_F._Kennedy            7  "
      ]
     },
     "execution_count": 81,
     "metadata": {},
     "output_type": "execute_result"
    }
   ],
   "source": [
    "path_finished = pd.read_csv(os.path.join(PATH_2007, 'paths_finished.tsv'), sep='\\t', comment='#', names=['hashedIpAddress', 'timestamp', 'durationInSec', 'path', 'rating'])\n",
    "path_finished['target'] = path_finished['path'].apply(lambda x: x.split(';')[-1])\n",
    "path_finished['path_length'] = path_finished['path'].apply(lambda x: len(x.split(';')))\n",
    "path_finished.head()"
   ]
  },
  {
   "cell_type": "code",
   "execution_count": 82,
   "metadata": {},
   "outputs": [
    {
     "data": {
      "text/plain": [
       "count    51318.000000\n",
       "mean         6.757434\n",
       "std          4.680718\n",
       "min          1.000000\n",
       "25%          5.000000\n",
       "50%          6.000000\n",
       "75%          8.000000\n",
       "max        435.000000\n",
       "Name: path_length, dtype: float64"
      ]
     },
     "execution_count": 82,
     "metadata": {},
     "output_type": "execute_result"
    }
   ],
   "source": [
    "path_finished.describe()['path_length']"
   ]
  },
  {
   "cell_type": "markdown",
   "metadata": {},
   "source": [
    "Let's check if the rating difficulty of the game is correlated with the number of clicks needed to finish the game. I drop the NaN values instead of imputing them to have an unbiased result for the correlation."
   ]
  },
  {
   "cell_type": "code",
   "execution_count": 15,
   "metadata": {},
   "outputs": [
    {
     "data": {
      "text/plain": [
       "PearsonRResult(statistic=0.4037485699951062, pvalue=0.0)"
      ]
     },
     "execution_count": 15,
     "metadata": {},
     "output_type": "execute_result"
    }
   ],
   "source": [
    "stats.pearsonr(path_finished.dropna(subset=['rating'])['path_length'], \n",
    "               path_finished.dropna(subset=['rating'])['rating'])"
   ]
  },
  {
   "cell_type": "code",
   "execution_count": 16,
   "metadata": {},
   "outputs": [
    {
     "data": {
      "text/plain": [
       "SignificanceResult(statistic=0.5539921093665069, pvalue=0.0)"
      ]
     },
     "execution_count": 16,
     "metadata": {},
     "output_type": "execute_result"
    }
   ],
   "source": [
    "stats.spearmanr(path_finished.dropna(subset=['rating'])['path_length'], \n",
    "                path_finished.dropna(subset=['rating'])['rating'])"
   ]
  },
  {
   "cell_type": "markdown",
   "metadata": {},
   "source": [
    "Significant correlation between the path length and rating of the player."
   ]
  },
  {
   "cell_type": "markdown",
   "metadata": {},
   "source": [
    "Let's process our finished path to determine whether, theoretically, a player could have completed the game earlier in 2007 and to analyze whether finishing the game is faster in 2024 compared to 2007.\n",
    "\n",
    "Data format:\n",
    "| path | target | final_link | distance |\n",
    "|------|--------|------------|----------|\n",
    "|path of the player      |   target to reach     |      final link reached before going to target (same as path if target cannot be reached)      |     number of click earned (equal -1 if the path is not possible based on our data)    |"
   ]
  },
  {
   "cell_type": "code",
   "execution_count": 17,
   "metadata": {},
   "outputs": [],
   "source": [
    "def check_if_link_exists_finished(row, links):\n",
    "    path_list = fix_path(row['path'])\n",
    "    if len(path_list) > 1:\n",
    "        target = row['target']\n",
    "        path_list.remove(target)\n",
    "        \n",
    "        # Convert list to a set for quick lookup and calculate target links\n",
    "        path_set = set(path_list)\n",
    "        \n",
    "        # Filter links2024 to get only relevant links with target linkSource in path\n",
    "        last_links = set(links.loc[links['linkTarget'] == target, 'linkSource'])\n",
    "        intersecting_links = path_set.intersection(last_links)\n",
    "        \n",
    "        if intersecting_links:\n",
    "            # Verify that each path[i+1] exists in the linkTarget of path[i]\n",
    "            for i in range(len(path_list) - 1):\n",
    "                current_node = path_list[i]\n",
    "                next_node = path_list[i + 1]\n",
    "                # Check if next_node is in linkTarget of current_node in links2024\n",
    "                if not ((links['linkSource'] == current_node) & (links['linkTarget'] == next_node)).any():\n",
    "                    return None, -1  # Return None, -1 if the link is invalid\n",
    "            \n",
    "            # Find the index of the first occurrence in path_list\n",
    "            index = next((i for i, link in enumerate(path_list) if link in intersecting_links), None)\n",
    "            return path_list[index], len(path_list) - index - 1\n",
    "        else:\n",
    "            return path_list[-1], 0\n",
    "    else:\n",
    "        return path_list[0], 0"
   ]
  },
  {
   "cell_type": "code",
   "execution_count": 18,
   "metadata": {},
   "outputs": [],
   "source": [
    "# df_finished = []\n",
    "\n",
    "# for i, data in tqdm(path_finished.iterrows(), total=len(path_finished), desc='Processing data'):\n",
    "#     subdata = data[['path', 'target']]\n",
    "#     output_link, distance = check_if_link_exists_finished(subdata, links2007)\n",
    "#     output_link2, distance2 = check_if_link_exists_finished(subdata, links2024)\n",
    "\n",
    "#     # add the data to the output dataframe\n",
    "#     df_finished.append({'path': data['path'], 'target': data['target'], 'final_link2007': output_link, 'final_link2024': output_link2, 'distance2007': distance, 'distance2024': distance2})\n",
    "\n",
    "# df_finished = pd.DataFrame(df_finished)\n",
    "# df_finished.to_csv(os.path.join(PATH_2007, 'comparison_finished_to_2024.csv'), index=False)\n",
    "\n",
    "df_finished = pd.read_csv(os.path.join(PATH_2007, 'comparison_finished_to_2024.csv'))"
   ]
  },
  {
   "cell_type": "code",
   "execution_count": 19,
   "metadata": {},
   "outputs": [
    {
     "data": {
      "text/html": [
       "<div>\n",
       "<style scoped>\n",
       "    .dataframe tbody tr th:only-of-type {\n",
       "        vertical-align: middle;\n",
       "    }\n",
       "\n",
       "    .dataframe tbody tr th {\n",
       "        vertical-align: top;\n",
       "    }\n",
       "\n",
       "    .dataframe thead th {\n",
       "        text-align: right;\n",
       "    }\n",
       "</style>\n",
       "<table border=\"1\" class=\"dataframe\">\n",
       "  <thead>\n",
       "    <tr style=\"text-align: right;\">\n",
       "      <th></th>\n",
       "      <th>distance2007</th>\n",
       "      <th>distance2024</th>\n",
       "    </tr>\n",
       "  </thead>\n",
       "  <tbody>\n",
       "    <tr>\n",
       "      <th>count</th>\n",
       "      <td>18636.000000</td>\n",
       "      <td>18636.000000</td>\n",
       "    </tr>\n",
       "    <tr>\n",
       "      <th>mean</th>\n",
       "      <td>0.170745</td>\n",
       "      <td>0.294162</td>\n",
       "    </tr>\n",
       "    <tr>\n",
       "      <th>std</th>\n",
       "      <td>0.648322</td>\n",
       "      <td>0.733330</td>\n",
       "    </tr>\n",
       "    <tr>\n",
       "      <th>min</th>\n",
       "      <td>0.000000</td>\n",
       "      <td>0.000000</td>\n",
       "    </tr>\n",
       "    <tr>\n",
       "      <th>25%</th>\n",
       "      <td>0.000000</td>\n",
       "      <td>0.000000</td>\n",
       "    </tr>\n",
       "    <tr>\n",
       "      <th>50%</th>\n",
       "      <td>0.000000</td>\n",
       "      <td>0.000000</td>\n",
       "    </tr>\n",
       "    <tr>\n",
       "      <th>75%</th>\n",
       "      <td>0.000000</td>\n",
       "      <td>0.000000</td>\n",
       "    </tr>\n",
       "    <tr>\n",
       "      <th>max</th>\n",
       "      <td>25.000000</td>\n",
       "      <td>27.000000</td>\n",
       "    </tr>\n",
       "  </tbody>\n",
       "</table>\n",
       "</div>"
      ],
      "text/plain": [
       "       distance2007  distance2024\n",
       "count  18636.000000  18636.000000\n",
       "mean       0.170745      0.294162\n",
       "std        0.648322      0.733330\n",
       "min        0.000000      0.000000\n",
       "25%        0.000000      0.000000\n",
       "50%        0.000000      0.000000\n",
       "75%        0.000000      0.000000\n",
       "max       25.000000     27.000000"
      ]
     },
     "execution_count": 19,
     "metadata": {},
     "output_type": "execute_result"
    }
   ],
   "source": [
    "# remove all path with distance = -1 (invalid path and no possible comparison)\n",
    "df_ttest = df_finished[(df_finished['distance2007'] != -1) &\n",
    "                       (df_finished['distance2024'] != -1)]\n",
    "\n",
    "df_ttest.describe()"
   ]
  },
  {
   "cell_type": "code",
   "execution_count": 20,
   "metadata": {},
   "outputs": [
    {
     "data": {
      "text/plain": [
       "TtestResult(statistic=-17.212631239901707, pvalue=3.8502960068475356e-66, df=37270.0)"
      ]
     },
     "execution_count": 20,
     "metadata": {},
     "output_type": "execute_result"
    }
   ],
   "source": [
    "stats.ttest_ind(df_ttest['distance2007'], df_ttest['distance2024'])"
   ]
  },
  {
   "cell_type": "markdown",
   "metadata": {},
   "source": [
    "pvalue < 0.05, we reject the null hypothesis that the two distributions have identical average expected value. "
   ]
  },
  {
   "cell_type": "code",
   "execution_count": 21,
   "metadata": {},
   "outputs": [
    {
     "name": "stdout",
     "output_type": "stream",
     "text": [
      "==== Path possible ? ====\n",
      "Path won't change between 2007 and 2024 : 14020\n",
      "Path impossible to do in 2024 but possible in 2007 : 32677\n",
      "Path impossible to do in 2007 and 2024 : 2\n",
      "Path still possible in 2024 : 18636\n",
      "\n",
      "==== Path faster or slower in 2024 ? ====\n",
      "Path faster in 2024 than 2007: 2719\n",
      "Path slower or equal in 2024 than 2007: 1900\n"
     ]
    }
   ],
   "source": [
    "print(\"==== Path possible ? ====\")\n",
    "\n",
    "print(f\"Path won't change between 2007 and 2024 : {len(df_finished[(df_finished.distance2007 == 0) & (df_finished.distance2024 == 0)])}\")\n",
    "print(f\"Path impossible to do in 2024 but possible in 2007 : {len(df_finished[(df_finished.distance2007 >= 0) & (df_finished.distance2024 == -1)])}\")\n",
    "print(f\"Path impossible to do in 2007 and 2024 : {len(df_finished[(df_finished.distance2007 == -1) & (df_finished.distance2024 == -1)])}\")\n",
    "print(f\"Path still possible in 2024 : {len(df_finished[(df_finished.distance2007 >= 0) & (df_finished.distance2024 >= 0)])}\")\n",
    "\n",
    "print()\n",
    "print(\"==== Path faster or slower in 2024 ? ====\")\n",
    "print(f\"Path faster in 2024 than 2007: {len(df_finished[df_finished.distance2007 < df_finished.distance2024])}\")\n",
    "print(f\"Path slower or equal in 2024 than 2007: {len(df_finished[(df_finished.distance2007 >= df_finished.distance2024) & (df_finished.distance2024 >= 0) & (df_finished.distance2007 > 0)])}\")"
   ]
  },
  {
   "cell_type": "markdown",
   "metadata": {},
   "source": [
    "## Is the structure of Wikipedia 2024 more efficient than 2007 ?"
   ]
  },
  {
   "cell_type": "code",
   "execution_count": 22,
   "metadata": {},
   "outputs": [],
   "source": [
    "articles = pd.read_csv(os.path.join(PATH_2007, 'articles.tsv'), sep='\\t', comment='#', names=['article'])\n",
    "\n",
    "links2007_unquote = links2007.copy()\n",
    "links2007_unquote['linkSource'] = links2007_unquote['linkSource'].apply(unquote)\n",
    "links2007_unquote['linkTarget'] = links2007_unquote['linkTarget'].apply(unquote)\n",
    "\n",
    "links2024_unquote = links2024.copy()\n",
    "links2024_unquote['linkSource'] = links2024_unquote['linkSource'].apply(unquote)\n",
    "links2024_unquote['linkTarget'] = links2024_unquote['linkTarget'].apply(unquote)\n",
    "\n",
    "common_article = set(links2007_unquote['linkSource']).intersection(set(links2024_unquote['linkSource']))"
   ]
  },
  {
   "cell_type": "code",
   "execution_count": 23,
   "metadata": {},
   "outputs": [],
   "source": [
    "# create a graph with links dataframe\n",
    "G_2007 = nx.DiGraph()\n",
    "G_2007.add_nodes_from(articles['article'].apply(unquote))\n",
    "\n",
    "for i, row in links2007_unquote.iterrows():\n",
    "    if row['linkSource'] in G_2007.nodes and row['linkTarget'] in G_2007.nodes:\n",
    "        G_2007.add_edge(row['linkSource'], row['linkTarget'])  "
   ]
  },
  {
   "cell_type": "code",
   "execution_count": 24,
   "metadata": {},
   "outputs": [],
   "source": [
    "G_2024 = nx.DiGraph()\n",
    "G_2024.add_nodes_from(articles['article'].apply(unquote))\n",
    "\n",
    "for i, row in links2024_unquote.iterrows():\n",
    "    if row['linkSource'] in G_2024.nodes and row['linkTarget'] in G_2024.nodes:\n",
    "        G_2024.add_edge(row['linkSource'], row['linkTarget'])"
   ]
  },
  {
   "cell_type": "markdown",
   "metadata": {},
   "source": [
    "### Similarity"
   ]
  },
  {
   "cell_type": "markdown",
   "metadata": {},
   "source": [
    "How can we compare the efficiency of Wikipedia's structure in 2007 and 2024?\n",
    "\n",
    "One approach is to evaluate the similarity between articles. For each article, we calculate its similarity with every other article. Then, we compute a similarity score for each article, which corresponds to the average similarity with all the articles it links to (outgoing links).\n",
    "\n",
    "<!-- ecrit une formule en latex pour expliquer ce que je dis plus haut -->\n",
    "\n",
    "$$ \\text{similarity score}(article) = \\frac{1}{n} \\sum_{i=1}^{n} \\text{similarity}(article, article_i) $$\n",
    "\n",
    "where $n$ is the number of outgoing links of the article, and $article_i$ is the $i$-th article linked to by the article.\n",
    "\n",
    "How compute the similarity between two articles? \n",
    "\n",
    "The main task is to find a way to represent articles in a vector space. we decide to use two differents approaches:\n",
    "\n",
    "- `Node2Vec`: We use the node2vec algorithm to compute the similarity between articles. Node2Vec is an algorithm that learns continuous feature representations for nodes in networks. We use the node2vec implementation from the `node2vec` library.\n",
    "\n",
    "- `Sentence-BERT`: We use the Sentence-BERT model to represent article content in a vector space. Sentence-BERT is a modification of the BERT network that is trained to derive semantically meaningful sentence embeddings. We use the `sentence-transformers` library to compute the similarity between articles.\n",
    "\n",
    "Node2vec focus more on the structure of the graph, while Sentence-BERT focus more on the content of the articles.\n",
    "\n",
    "Then, our similarity score is the average of the similarity scores obtained with the two methods.\n",
    "\n",
    "$$ \\text{similarity}(a_1, a_2) = \\frac{1}{2} \\left( \\text{similarity}(a_1, a_2)_{\\text{Node2Vec}} + \\text{similarity}(a_1, a_2)_{\\text{Sentence-BERT}} \\right) $$\n",
    "\n",
    "where $a_1$ and $a_2$ are two articles."
   ]
  },
  {
   "cell_type": "markdown",
   "metadata": {},
   "source": [
    "#### Node2Vec"
   ]
  },
  {
   "cell_type": "code",
   "execution_count": 25,
   "metadata": {},
   "outputs": [],
   "source": [
    "# node2vec_2007 = Node2Vec(G_2007, dimensions=64, walk_length=30, num_walks=200, workers=1)\n",
    "# model_2007 = node2vec_2007.fit(window=10, min_count=1, batch_words=4)\n",
    "\n",
    "# node2vec_2024 = Node2Vec(G_2024, dimensions=64, walk_length=30, num_walks=200, workers=1)\n",
    "# model_2024 = node2vec_2024.fit(window=10, min_count=1, batch_words=4)\n",
    "\n",
    "# # Save the model\n",
    "# model_2007.save(os.path.join(PATH_2007, 'node2vec_2007.model'))\n",
    "# model_2024.save(os.path.join(PATH_2024, 'node2vec_2024.model'))\n",
    "\n",
    "# Load the model\n",
    "model_2007 = Word2Vec.load('node2vec_2007.model')\n",
    "model_2024 = Word2Vec.load('node2vec_2024.model')"
   ]
  },
  {
   "cell_type": "code",
   "execution_count": 26,
   "metadata": {},
   "outputs": [],
   "source": [
    "n2v_embeddings_2007 = {node: model_2007.wv[node] for node in G_2007.nodes()}\n",
    "n2v_embeddings_2024 = {node: model_2024.wv[node] for node in G_2024.nodes()}"
   ]
  },
  {
   "cell_type": "code",
   "execution_count": 27,
   "metadata": {},
   "outputs": [],
   "source": [
    "n2v_cosine_similarities_2007 = cosine_similarity(np.array(list(n2v_embeddings_2007.values())))\n",
    "n2v_cosine_similarities_2024 = cosine_similarity(np.array(list(n2v_embeddings_2024.values())))"
   ]
  },
  {
   "cell_type": "code",
   "execution_count": 28,
   "metadata": {},
   "outputs": [],
   "source": [
    "links2007_unquote['n2v_similarity'] = links2007_unquote.apply(lambda x: n2v_cosine_similarities_2007[list(G_2007.nodes()).index(x['linkSource']),\n",
    "                                                                                     list(G_2007.nodes()).index(x['linkTarget'])], axis=1)\n",
    "\n",
    "links2024_unquote['n2v_similarity'] = links2024_unquote.apply(lambda x: n2v_cosine_similarities_2024[list(G_2024.nodes()).index(x['linkSource']), \n",
    "                                                                                     list(G_2024.nodes()).index(x['linkTarget'])], axis=1)"
   ]
  },
  {
   "cell_type": "markdown",
   "metadata": {},
   "source": [
    "#### Sentence-BERT"
   ]
  },
  {
   "cell_type": "markdown",
   "metadata": {},
   "source": [
    "First, we need to get the article content from wikipedia (only summary). \n",
    "\n",
    "- 2007 : We use the plaintext_articles data to get the content of the articles.\n",
    "\n",
    "- 2024 : We use the Wikipedia API to get the content of the articles."
   ]
  },
  {
   "cell_type": "markdown",
   "metadata": {},
   "source": [
    "##### 2007"
   ]
  },
  {
   "cell_type": "code",
   "execution_count": 33,
   "metadata": {},
   "outputs": [],
   "source": [
    "def extract_first_paragraph(text):\n",
    "    # Split the text by new lines\n",
    "    lines = text.split('\\n')\n",
    "\n",
    "    # ignore the 5 first lines\n",
    "    lines = lines[5:]\n",
    "\n",
    "    # while a line don't begin by \"   \", remove it\n",
    "    while lines[0][:3] != \"   \":\n",
    "        lines = lines[1:]\n",
    "\n",
    "    # List to accumulate lines of the first paragraph\n",
    "    paragraph_lines = []\n",
    "    paragraph_started = False\n",
    "\n",
    "    for l in lines:\n",
    "        if l[:3] == \"   \" or not l:\n",
    "            paragraph_started = True\n",
    "            paragraph_lines.append(l)\n",
    "        elif paragraph_started:\n",
    "            break\n",
    "\n",
    "    # Join the lines to form the paragraph\n",
    "    paragraph = '\\n'.join(paragraph_lines)\n",
    "\n",
    "    # return paragraph\n",
    "    return paragraph"
   ]
  },
  {
   "cell_type": "code",
   "execution_count": 34,
   "metadata": {},
   "outputs": [
    {
     "name": "stderr",
     "output_type": "stream",
     "text": [
      "100%|██████████| 4604/4604 [00:01<00:00, 4383.57it/s]\n"
     ]
    }
   ],
   "source": [
    "summaries2007 = {'article' : [], 'content' : []}\n",
    "\n",
    "for filename in tqdm(os.listdir(ARTICLE_TXT_PATH)):\n",
    "    with open(os.path.join(ARTICLE_TXT_PATH, filename), 'r', encoding='utf8') as f:\n",
    "        text = f.read() \n",
    "\n",
    "    paragraph = extract_first_paragraph(text)\n",
    "    summaries2007['article'].append(unquote(filename[:-4]))\n",
    "    summaries2007['content'].append(paragraph.strip())\n",
    "\n",
    "summaries2007 = pd.DataFrame(summaries2007)\n",
    "summaries2007.to_csv(os.path.join('data', '2007', 'summaries2007.csv'), index=False, encoding='utf8')"
   ]
  },
  {
   "cell_type": "code",
   "execution_count": 35,
   "metadata": {},
   "outputs": [
    {
     "data": {
      "text/html": [
       "<div>\n",
       "<style scoped>\n",
       "    .dataframe tbody tr th:only-of-type {\n",
       "        vertical-align: middle;\n",
       "    }\n",
       "\n",
       "    .dataframe tbody tr th {\n",
       "        vertical-align: top;\n",
       "    }\n",
       "\n",
       "    .dataframe thead th {\n",
       "        text-align: right;\n",
       "    }\n",
       "</style>\n",
       "<table border=\"1\" class=\"dataframe\">\n",
       "  <thead>\n",
       "    <tr style=\"text-align: right;\">\n",
       "      <th></th>\n",
       "      <th>article</th>\n",
       "      <th>content</th>\n",
       "    </tr>\n",
       "  </thead>\n",
       "  <tbody>\n",
       "    <tr>\n",
       "      <th>0</th>\n",
       "      <td>Áedán_mac_Gabráin</td>\n",
       "      <td>Satellite image of northern Britain and Irelan...</td>\n",
       "    </tr>\n",
       "    <tr>\n",
       "      <th>1</th>\n",
       "      <td>Åland</td>\n",
       "      <td>Landskapet Åland\\n   Ahvenanmaan maakunta\\n   ...</td>\n",
       "    </tr>\n",
       "    <tr>\n",
       "      <th>2</th>\n",
       "      <td>Édouard_Manet</td>\n",
       "      <td>Articles with similar titles include Claude Mo...</td>\n",
       "    </tr>\n",
       "    <tr>\n",
       "      <th>3</th>\n",
       "      <td>Éire</td>\n",
       "      <td>This is a featured article. Click here for mor...</td>\n",
       "    </tr>\n",
       "    <tr>\n",
       "      <th>4</th>\n",
       "      <td>Óengus_I_of_the_Picts</td>\n",
       "      <td>Óengus son of Fergus\\n   King of the Picts\\n  ...</td>\n",
       "    </tr>\n",
       "  </tbody>\n",
       "</table>\n",
       "</div>"
      ],
      "text/plain": [
       "                 article                                            content\n",
       "0      Áedán_mac_Gabráin  Satellite image of northern Britain and Irelan...\n",
       "1                  Åland  Landskapet Åland\\n   Ahvenanmaan maakunta\\n   ...\n",
       "2          Édouard_Manet  Articles with similar titles include Claude Mo...\n",
       "3                   Éire  This is a featured article. Click here for mor...\n",
       "4  Óengus_I_of_the_Picts  Óengus son of Fergus\\n   King of the Picts\\n  ..."
      ]
     },
     "execution_count": 35,
     "metadata": {},
     "output_type": "execute_result"
    }
   ],
   "source": [
    "summaries2007.head()"
   ]
  },
  {
   "cell_type": "markdown",
   "metadata": {},
   "source": [
    "##### 2024"
   ]
  },
  {
   "cell_type": "code",
   "execution_count": 36,
   "metadata": {},
   "outputs": [
    {
     "data": {
      "text/html": [
       "<div>\n",
       "<style scoped>\n",
       "    .dataframe tbody tr th:only-of-type {\n",
       "        vertical-align: middle;\n",
       "    }\n",
       "\n",
       "    .dataframe tbody tr th {\n",
       "        vertical-align: top;\n",
       "    }\n",
       "\n",
       "    .dataframe thead th {\n",
       "        text-align: right;\n",
       "    }\n",
       "</style>\n",
       "<table border=\"1\" class=\"dataframe\">\n",
       "  <thead>\n",
       "    <tr style=\"text-align: right;\">\n",
       "      <th></th>\n",
       "      <th>article</th>\n",
       "      <th>content</th>\n",
       "    </tr>\n",
       "  </thead>\n",
       "  <tbody>\n",
       "    <tr>\n",
       "      <th>0</th>\n",
       "      <td>Áedán_mac_Gabráin</td>\n",
       "      <td>Áedán mac Gabráin (Old Irish pronunciation: [ˈ...</td>\n",
       "    </tr>\n",
       "    <tr>\n",
       "      <th>1</th>\n",
       "      <td>Åland</td>\n",
       "      <td>Åland (Swedish: [ˈǒːland] ; Finnish: Ahvenanma...</td>\n",
       "    </tr>\n",
       "    <tr>\n",
       "      <th>2</th>\n",
       "      <td>Édouard_Manet</td>\n",
       "      <td>Édouard Manet (UK: , US: ; French: [edwaʁ manɛ...</td>\n",
       "    </tr>\n",
       "    <tr>\n",
       "      <th>3</th>\n",
       "      <td>Éire</td>\n",
       "      <td>Éire (Irish: [ˈeːɾʲə] ) is the Irish Gaelic na...</td>\n",
       "    </tr>\n",
       "    <tr>\n",
       "      <th>4</th>\n",
       "      <td>Óengus_I_of_the_Picts</td>\n",
       "      <td>Óengus son of Fergus (Pictish: *Onuist map Vur...</td>\n",
       "    </tr>\n",
       "  </tbody>\n",
       "</table>\n",
       "</div>"
      ],
      "text/plain": [
       "                 article                                            content\n",
       "0      Áedán_mac_Gabráin  Áedán mac Gabráin (Old Irish pronunciation: [ˈ...\n",
       "1                  Åland  Åland (Swedish: [ˈǒːland] ; Finnish: Ahvenanma...\n",
       "2          Édouard_Manet  Édouard Manet (UK: , US: ; French: [edwaʁ manɛ...\n",
       "3                   Éire  Éire (Irish: [ˈeːɾʲə] ) is the Irish Gaelic na...\n",
       "4  Óengus_I_of_the_Picts  Óengus son of Fergus (Pictish: *Onuist map Vur..."
      ]
     },
     "execution_count": 36,
     "metadata": {},
     "output_type": "execute_result"
    }
   ],
   "source": [
    "# wiki_wiki = wikipediaapi.Wikipedia('ada (anasse.elboudiri@epfl.ch)', 'en')\n",
    "\n",
    "# summaries2024 = {'article' : [], 'content' : []}\n",
    "\n",
    "# for article in articles['article']:\n",
    "#     page = wiki_wiki.page(article)\n",
    "#     if page.exists():\n",
    "#         summaries2024['article'].append(article)\n",
    "#         summaries2024['content'].append(page.summary)\n",
    "#     sleep(0.1)\n",
    "\n",
    "# # article names that are different in 2007 and 2024\n",
    "# old_names = [\"Athletics_%28track_and_field%29\",\n",
    "#              \"Bionicle__Mask_of_Light\",\n",
    "#              \"Directdebit\",\n",
    "#              \"Newshounds\",\n",
    "#              \"Star_Wars_Episode_IV__A_New_Hope\",\n",
    "#              \"Wikipedia_Text_of_the_GNU_Free_Documentation_License\",\n",
    "#              \"X-Men__The_Last_Stand\"]\n",
    "\n",
    "# new_names = [\"Track_and_field\",\n",
    "#             \"Bionicle:_Mask_of_Light\",\n",
    "#             \"Direct_debit\",\n",
    "#             \"News_Hounds\",\n",
    "#             \"Star_Wars_(film)\",\n",
    "#             \"Wikipedia:Text_of_the_GNU_Free_Documentation_License\",\n",
    "#             \"X-Men:_The_Last_Stand\"]\n",
    "\n",
    "# for old, new in zip(old_names, new_names):\n",
    "#     page = wiki_wiki.page(new)\n",
    "#     if page.exists():\n",
    "#         summaries2024['article'].append(unquote(old))\n",
    "#         summaries2024['content'].append(page.summary)\n",
    "    \n",
    "# summaries2024 = pd.DataFrame(summaries2024)\n",
    "# summaries2024.to_csv(os.path.join('data', '2024', 'summaries2024.csv'), index=False, encoding='utf-8')\n",
    "\n",
    "summaries2024 = pd.read_csv(os.path.join('data', '2024', 'summaries2024.csv'), encoding='utf-8')\n",
    "summaries2024.head()"
   ]
  },
  {
   "cell_type": "markdown",
   "metadata": {},
   "source": [
    "##### SBERT"
   ]
  },
  {
   "cell_type": "code",
   "execution_count": 37,
   "metadata": {},
   "outputs": [],
   "source": [
    "# Load the SBERT model\n",
    "model = SentenceTransformer('all-MiniLM-L6-v2')"
   ]
  },
  {
   "cell_type": "code",
   "execution_count": 38,
   "metadata": {},
   "outputs": [],
   "source": [
    "sbert_embeddings_2007 = {article: model.encode(text) for article, text in zip(summaries2007['article'], summaries2007['content'])}\n",
    "sbert_embeddings_2024 = {article: model.encode(text) for article, text in zip(summaries2024['article'], summaries2024['content'])}"
   ]
  },
  {
   "cell_type": "code",
   "execution_count": 39,
   "metadata": {},
   "outputs": [],
   "source": [
    "sbert_cosine_similarities_2007 = cosine_similarity(np.array(list(sbert_embeddings_2007.values())))\n",
    "sbert_cosine_similarities_2024 = cosine_similarity(np.array(list(sbert_embeddings_2024.values())))"
   ]
  },
  {
   "cell_type": "code",
   "execution_count": 41,
   "metadata": {},
   "outputs": [],
   "source": [
    "links2007_unquote['sbert_similarity'] = links2007_unquote.apply(lambda x: sbert_cosine_similarities_2007[list(sbert_embeddings_2007.keys()).index(x['linkSource']),\n",
    "                                                                                     list(sbert_embeddings_2007.keys()).index(x['linkTarget'])], axis=1)\n",
    "\n",
    "links2024_unquote['sbert_similarity'] = links2024_unquote.apply(lambda x: sbert_cosine_similarities_2024[list(sbert_embeddings_2024.keys()).index(x['linkSource']), \n",
    "                                                                                     list(sbert_embeddings_2024.keys()).index(x['linkTarget'])], axis=1)"
   ]
  },
  {
   "cell_type": "markdown",
   "metadata": {},
   "source": [
    "#### Analysis"
   ]
  },
  {
   "cell_type": "code",
   "execution_count": 42,
   "metadata": {},
   "outputs": [
    {
     "data": {
      "text/html": [
       "<div>\n",
       "<style scoped>\n",
       "    .dataframe tbody tr th:only-of-type {\n",
       "        vertical-align: middle;\n",
       "    }\n",
       "\n",
       "    .dataframe tbody tr th {\n",
       "        vertical-align: top;\n",
       "    }\n",
       "\n",
       "    .dataframe thead th {\n",
       "        text-align: right;\n",
       "    }\n",
       "</style>\n",
       "<table border=\"1\" class=\"dataframe\">\n",
       "  <thead>\n",
       "    <tr style=\"text-align: right;\">\n",
       "      <th></th>\n",
       "      <th>linkSource</th>\n",
       "      <th>linkTarget</th>\n",
       "      <th>n2v_similarity</th>\n",
       "      <th>sbert_similarity</th>\n",
       "    </tr>\n",
       "  </thead>\n",
       "  <tbody>\n",
       "    <tr>\n",
       "      <th>0</th>\n",
       "      <td>Áedán_mac_Gabráin</td>\n",
       "      <td>Bede</td>\n",
       "      <td>0.585006</td>\n",
       "      <td>0.237665</td>\n",
       "    </tr>\n",
       "    <tr>\n",
       "      <th>1</th>\n",
       "      <td>Áedán_mac_Gabráin</td>\n",
       "      <td>Columba</td>\n",
       "      <td>0.731949</td>\n",
       "      <td>0.429983</td>\n",
       "    </tr>\n",
       "    <tr>\n",
       "      <th>2</th>\n",
       "      <td>Áedán_mac_Gabráin</td>\n",
       "      <td>Dál_Riata</td>\n",
       "      <td>0.731973</td>\n",
       "      <td>0.650527</td>\n",
       "    </tr>\n",
       "    <tr>\n",
       "      <th>3</th>\n",
       "      <td>Áedán_mac_Gabráin</td>\n",
       "      <td>Great_Britain</td>\n",
       "      <td>0.655600</td>\n",
       "      <td>0.170070</td>\n",
       "    </tr>\n",
       "    <tr>\n",
       "      <th>4</th>\n",
       "      <td>Áedán_mac_Gabráin</td>\n",
       "      <td>Ireland</td>\n",
       "      <td>0.656894</td>\n",
       "      <td>0.342100</td>\n",
       "    </tr>\n",
       "  </tbody>\n",
       "</table>\n",
       "</div>"
      ],
      "text/plain": [
       "          linkSource     linkTarget  n2v_similarity  sbert_similarity\n",
       "0  Áedán_mac_Gabráin           Bede        0.585006          0.237665\n",
       "1  Áedán_mac_Gabráin        Columba        0.731949          0.429983\n",
       "2  Áedán_mac_Gabráin      Dál_Riata        0.731973          0.650527\n",
       "3  Áedán_mac_Gabráin  Great_Britain        0.655600          0.170070\n",
       "4  Áedán_mac_Gabráin        Ireland        0.656894          0.342100"
      ]
     },
     "execution_count": 42,
     "metadata": {},
     "output_type": "execute_result"
    }
   ],
   "source": [
    "links2007_unquote.head()"
   ]
  },
  {
   "cell_type": "code",
   "execution_count": 43,
   "metadata": {},
   "outputs": [
    {
     "data": {
      "text/html": [
       "<div>\n",
       "<style scoped>\n",
       "    .dataframe tbody tr th:only-of-type {\n",
       "        vertical-align: middle;\n",
       "    }\n",
       "\n",
       "    .dataframe tbody tr th {\n",
       "        vertical-align: top;\n",
       "    }\n",
       "\n",
       "    .dataframe thead th {\n",
       "        text-align: right;\n",
       "    }\n",
       "</style>\n",
       "<table border=\"1\" class=\"dataframe\">\n",
       "  <thead>\n",
       "    <tr style=\"text-align: right;\">\n",
       "      <th></th>\n",
       "      <th>linkSource</th>\n",
       "      <th>linkTarget</th>\n",
       "      <th>n2v_similarity</th>\n",
       "      <th>sbert_similarity</th>\n",
       "    </tr>\n",
       "  </thead>\n",
       "  <tbody>\n",
       "    <tr>\n",
       "      <th>0</th>\n",
       "      <td>Áedán_mac_Gabráin</td>\n",
       "      <td>Dál_Riata</td>\n",
       "      <td>0.881055</td>\n",
       "      <td>0.550869</td>\n",
       "    </tr>\n",
       "    <tr>\n",
       "      <th>1</th>\n",
       "      <td>Áedán_mac_Gabráin</td>\n",
       "      <td>Columba</td>\n",
       "      <td>0.760585</td>\n",
       "      <td>0.457233</td>\n",
       "    </tr>\n",
       "    <tr>\n",
       "      <th>2</th>\n",
       "      <td>Áedán_mac_Gabráin</td>\n",
       "      <td>Orkney</td>\n",
       "      <td>0.744174</td>\n",
       "      <td>0.278360</td>\n",
       "    </tr>\n",
       "    <tr>\n",
       "      <th>3</th>\n",
       "      <td>Áedán_mac_Gabráin</td>\n",
       "      <td>Isle_of_Man</td>\n",
       "      <td>0.568829</td>\n",
       "      <td>0.396943</td>\n",
       "    </tr>\n",
       "    <tr>\n",
       "      <th>4</th>\n",
       "      <td>Áedán_mac_Gabráin</td>\n",
       "      <td>Bede</td>\n",
       "      <td>0.586326</td>\n",
       "      <td>0.274804</td>\n",
       "    </tr>\n",
       "  </tbody>\n",
       "</table>\n",
       "</div>"
      ],
      "text/plain": [
       "          linkSource   linkTarget  n2v_similarity  sbert_similarity\n",
       "0  Áedán_mac_Gabráin    Dál_Riata        0.881055          0.550869\n",
       "1  Áedán_mac_Gabráin      Columba        0.760585          0.457233\n",
       "2  Áedán_mac_Gabráin       Orkney        0.744174          0.278360\n",
       "3  Áedán_mac_Gabráin  Isle_of_Man        0.568829          0.396943\n",
       "4  Áedán_mac_Gabráin         Bede        0.586326          0.274804"
      ]
     },
     "execution_count": 43,
     "metadata": {},
     "output_type": "execute_result"
    }
   ],
   "source": [
    "links2024_unquote.head()"
   ]
  },
  {
   "cell_type": "code",
   "execution_count": 55,
   "metadata": {},
   "outputs": [
    {
     "data": {
      "text/html": [
       "<div>\n",
       "<style scoped>\n",
       "    .dataframe tbody tr th:only-of-type {\n",
       "        vertical-align: middle;\n",
       "    }\n",
       "\n",
       "    .dataframe tbody tr th {\n",
       "        vertical-align: top;\n",
       "    }\n",
       "\n",
       "    .dataframe thead th {\n",
       "        text-align: right;\n",
       "    }\n",
       "</style>\n",
       "<table border=\"1\" class=\"dataframe\">\n",
       "  <thead>\n",
       "    <tr style=\"text-align: right;\">\n",
       "      <th></th>\n",
       "      <th>n2v_similarity_2007</th>\n",
       "      <th>sbert_similarity_2007</th>\n",
       "      <th>n2v_similarity_2024</th>\n",
       "      <th>sbert_similarity_2024</th>\n",
       "    </tr>\n",
       "  </thead>\n",
       "  <tbody>\n",
       "    <tr>\n",
       "      <th>count</th>\n",
       "      <td>4539.000000</td>\n",
       "      <td>4539.000000</td>\n",
       "      <td>4539.000000</td>\n",
       "      <td>4539.000000</td>\n",
       "    </tr>\n",
       "    <tr>\n",
       "      <th>mean</th>\n",
       "      <td>0.539606</td>\n",
       "      <td>0.225459</td>\n",
       "      <td>0.565896</td>\n",
       "      <td>0.239078</td>\n",
       "    </tr>\n",
       "    <tr>\n",
       "      <th>std</th>\n",
       "      <td>0.120540</td>\n",
       "      <td>0.102761</td>\n",
       "      <td>0.122095</td>\n",
       "      <td>0.087992</td>\n",
       "    </tr>\n",
       "    <tr>\n",
       "      <th>min</th>\n",
       "      <td>0.234105</td>\n",
       "      <td>-0.133736</td>\n",
       "      <td>-0.024988</td>\n",
       "      <td>-0.095537</td>\n",
       "    </tr>\n",
       "    <tr>\n",
       "      <th>25%</th>\n",
       "      <td>0.450327</td>\n",
       "      <td>0.154362</td>\n",
       "      <td>0.479622</td>\n",
       "      <td>0.180471</td>\n",
       "    </tr>\n",
       "    <tr>\n",
       "      <th>50%</th>\n",
       "      <td>0.522074</td>\n",
       "      <td>0.215350</td>\n",
       "      <td>0.551837</td>\n",
       "      <td>0.237080</td>\n",
       "    </tr>\n",
       "    <tr>\n",
       "      <th>75%</th>\n",
       "      <td>0.617628</td>\n",
       "      <td>0.284711</td>\n",
       "      <td>0.640586</td>\n",
       "      <td>0.294082</td>\n",
       "    </tr>\n",
       "    <tr>\n",
       "      <th>max</th>\n",
       "      <td>0.991188</td>\n",
       "      <td>0.688811</td>\n",
       "      <td>0.947322</td>\n",
       "      <td>0.628260</td>\n",
       "    </tr>\n",
       "  </tbody>\n",
       "</table>\n",
       "</div>"
      ],
      "text/plain": [
       "       n2v_similarity_2007  sbert_similarity_2007  n2v_similarity_2024  \\\n",
       "count          4539.000000            4539.000000          4539.000000   \n",
       "mean              0.539606               0.225459             0.565896   \n",
       "std               0.120540               0.102761             0.122095   \n",
       "min               0.234105              -0.133736            -0.024988   \n",
       "25%               0.450327               0.154362             0.479622   \n",
       "50%               0.522074               0.215350             0.551837   \n",
       "75%               0.617628               0.284711             0.640586   \n",
       "max               0.991188               0.688811             0.947322   \n",
       "\n",
       "       sbert_similarity_2024  \n",
       "count            4539.000000  \n",
       "mean                0.239078  \n",
       "std                 0.087992  \n",
       "min                -0.095537  \n",
       "25%                 0.180471  \n",
       "50%                 0.237080  \n",
       "75%                 0.294082  \n",
       "max                 0.628260  "
      ]
     },
     "execution_count": 55,
     "metadata": {},
     "output_type": "execute_result"
    }
   ],
   "source": [
    "similarity_2007 = links2007_unquote.groupby('linkSource')[['n2v_similarity', 'sbert_similarity']].mean()\n",
    "similarity_2024 = links2024_unquote.groupby('linkSource')[['n2v_similarity', 'sbert_similarity']].mean()\n",
    "\n",
    "similarities = pd.merge(similarity_2007, similarity_2024, on='linkSource', suffixes=('_2007', '_2024'))\n",
    "similarities.describe()"
   ]
  },
  {
   "cell_type": "code",
   "execution_count": 71,
   "metadata": {},
   "outputs": [
    {
     "data": {
      "image/png": "[encoded data removed]",
      "text/plain": [
       "<Figure size 1000x800 with 2 Axes>"
      ]
     },
     "metadata": {},
     "output_type": "display_data"
    }
   ],
   "source": [
    "# plot 2subplots\n",
    "fig, axs = plt.subplots(2, 1, figsize=(10, 8))\n",
    "\n",
    "sns.histplot(similarities['n2v_similarity_2007'], ax=axs[0], color='blue', kde=True, label='2007')\n",
    "sns.histplot(similarities['n2v_similarity_2024'], ax=axs[0], color='red', kde=True, label='2024')\n",
    "axs[0].set_title('Node2Vec Similarity Distribution')\n",
    "axs[0].set_xlabel('Node2Vec Similarity')\n",
    "axs[0].set_ylabel('Frequency')\n",
    "axs[0].legend()\n",
    "\n",
    "sns.histplot(similarities['sbert_similarity_2007'], ax=axs[1], color='blue', kde=True, label='2007')\n",
    "sns.histplot(similarities['sbert_similarity_2024'], ax=axs[1], color='red', kde=True, label='2024')\n",
    "axs[1].set_title('SBERT Similarity Distribution')\n",
    "axs[1].set_xlabel('SBERT Similarity')\n",
    "axs[1].set_ylabel('Frequency')\n",
    "axs[1].legend()\n",
    "\n",
    "# set x and y limits\n",
    "axs[0].set_xlim(-0.15, 1)\n",
    "axs[1].set_xlim(-0.15, 1)\n",
    "plt.tight_layout()\n",
    "plt.show()"
   ]
  },
  {
   "cell_type": "code",
   "execution_count": 73,
   "metadata": {},
   "outputs": [],
   "source": [
    "links2007_unquote['similarity'] = links2007_unquote.apply(lambda x: np.mean([x['n2v_similarity'], x['sbert_similarity']]), axis=1)\n",
    "links2024_unquote['similarity'] = links2024_unquote.apply(lambda x: np.mean([x['n2v_similarity'], x['sbert_similarity']]), axis=1)"
   ]
  },
  {
   "cell_type": "code",
   "execution_count": 74,
   "metadata": {},
   "outputs": [
    {
     "data": {
      "text/html": [
       "<div>\n",
       "<style scoped>\n",
       "    .dataframe tbody tr th:only-of-type {\n",
       "        vertical-align: middle;\n",
       "    }\n",
       "\n",
       "    .dataframe tbody tr th {\n",
       "        vertical-align: top;\n",
       "    }\n",
       "\n",
       "    .dataframe thead th {\n",
       "        text-align: right;\n",
       "    }\n",
       "</style>\n",
       "<table border=\"1\" class=\"dataframe\">\n",
       "  <thead>\n",
       "    <tr style=\"text-align: right;\">\n",
       "      <th></th>\n",
       "      <th>similarity_2007</th>\n",
       "      <th>similarity_2024</th>\n",
       "    </tr>\n",
       "  </thead>\n",
       "  <tbody>\n",
       "    <tr>\n",
       "      <th>count</th>\n",
       "      <td>4539.000000</td>\n",
       "      <td>4539.000000</td>\n",
       "    </tr>\n",
       "    <tr>\n",
       "      <th>mean</th>\n",
       "      <td>0.382532</td>\n",
       "      <td>0.402487</td>\n",
       "    </tr>\n",
       "    <tr>\n",
       "      <th>std</th>\n",
       "      <td>0.102174</td>\n",
       "      <td>0.094681</td>\n",
       "    </tr>\n",
       "    <tr>\n",
       "      <th>min</th>\n",
       "      <td>0.104964</td>\n",
       "      <td>-0.020964</td>\n",
       "    </tr>\n",
       "    <tr>\n",
       "      <th>25%</th>\n",
       "      <td>0.309238</td>\n",
       "      <td>0.337917</td>\n",
       "    </tr>\n",
       "    <tr>\n",
       "      <th>50%</th>\n",
       "      <td>0.367312</td>\n",
       "      <td>0.394595</td>\n",
       "    </tr>\n",
       "    <tr>\n",
       "      <th>75%</th>\n",
       "      <td>0.447471</td>\n",
       "      <td>0.458558</td>\n",
       "    </tr>\n",
       "    <tr>\n",
       "      <th>max</th>\n",
       "      <td>0.828664</td>\n",
       "      <td>0.752633</td>\n",
       "    </tr>\n",
       "  </tbody>\n",
       "</table>\n",
       "</div>"
      ],
      "text/plain": [
       "       similarity_2007  similarity_2024\n",
       "count      4539.000000      4539.000000\n",
       "mean          0.382532         0.402487\n",
       "std           0.102174         0.094681\n",
       "min           0.104964        -0.020964\n",
       "25%           0.309238         0.337917\n",
       "50%           0.367312         0.394595\n",
       "75%           0.447471         0.458558\n",
       "max           0.828664         0.752633"
      ]
     },
     "execution_count": 74,
     "metadata": {},
     "output_type": "execute_result"
    }
   ],
   "source": [
    "similarity_2007 = links2007_unquote.groupby('linkSource')['similarity'].mean()\n",
    "similarity_2024 = links2024_unquote.groupby('linkSource')['similarity'].mean()\n",
    "\n",
    "similarities = pd.merge(similarity_2007, similarity_2024, on='linkSource', suffixes=('_2007', '_2024'))\n",
    "similarities.describe()"
   ]
  },
  {
   "cell_type": "code",
   "execution_count": 76,
   "metadata": {},
   "outputs": [
    {
     "data": {
      "image/png": "[encoded data removed]",
      "text/plain": [
       "<Figure size 1200x600 with 1 Axes>"
      ]
     },
     "metadata": {},
     "output_type": "display_data"
    }
   ],
   "source": [
    "plt.figure(figsize=(12, 6))\n",
    "sns.histplot(similarities['similarity_2007'], kde=True, color='blue', label='2007')\n",
    "sns.histplot(similarities['similarity_2024'], kde=True, color='red', label='2024')\n",
    "plt.xlabel('Similarity')\n",
    "plt.ylabel('Frequency')\n",
    "plt.title('Similarity Distribution')\n",
    "plt.legend()\n",
    "plt.show()"
   ]
  }
 ],
 "metadata": {
  "kernelspec": {
   "display_name": "ada",
   "language": "python",
   "name": "python3"
  },
  "language_info": {
   "codemirror_mode": {
    "name": "ipython",
    "version": 3
   },
   "file_extension": ".py",
   "mimetype": "text/x-python",
   "name": "python",
   "nbconvert_exporter": "python",
   "pygments_lexer": "ipython3",
   "version": "3.12.3"
  }
 },
 "nbformat": 4,
 "nbformat_minor": 2
}
