{
 "cells": [
  {
   "cell_type": "markdown",
   "metadata": {},
   "source": [
    "## Part 3 : Would players be better now ?"
   ]
  },
  {
   "cell_type": "code",
   "execution_count": 1,
   "metadata": {},
   "outputs": [
    {
     "name": "stderr",
     "output_type": "stream",
     "text": [
      "c:\\Users\\Anasse\\miniconda3\\envs\\ada\\Lib\\site-packages\\tqdm\\auto.py:21: TqdmWarning: IProgress not found. Please update jupyter and ipywidgets. See https://ipywidgets.readthedocs.io/en/stable/user_install.html\n",
      "  from .autonotebook import tqdm as notebook_tqdm\n"
     ]
    }
   ],
   "source": [
    "import os\n",
    "import pandas as pd\n",
    "import scipy.stats as stats\n",
    "\n",
    "import networkx as nx\n",
    "\n",
    "from src.utils.embeddings_utils import *\n",
    "from src.utils.path_utils import *\n",
    "\n",
    "DATA = os.path.join('data')\n",
    "ARTICLE_TXT_PATH = os.path.join('data', '2007', 'plain_text_articles')\n",
    "PATH_2007 = os.path.join('data', '2007')\n",
    "PATH_2024 = os.path.join('data', '2024')"
   ]
  },
  {
   "cell_type": "markdown",
   "metadata": {},
   "source": [
    "### Player Path Analysis"
   ]
  },
  {
   "cell_type": "markdown",
   "metadata": {},
   "source": [
    "#### Path unfinished\n",
    "\n",
    "Let's determine whether an unfinished path in 2007 could have been completed back then (i.e., if the player was close to reaching the target) and compare it to the 2024 Wikipedia link structure to assess if the player could now finish the game more quickly in 2024 than in 2007."
   ]
  },
  {
   "cell_type": "code",
   "execution_count": 2,
   "metadata": {},
   "outputs": [],
   "source": [
    "links2007 = pd.read_csv(os.path.join(PATH_2007, 'links.tsv'), sep='\\t', comment='#', names=['linkSource', 'linkTarget'])\n",
    "links2024 = pd.read_csv(os.path.join(PATH_2024, 'links2024.csv'), comment='#', names=['linkSource', 'linkTarget'])\n",
    "path_unfinished = pd.read_csv(os.path.join(PATH_2007, 'paths_unfinished.tsv'), sep='\\t', comment='#', names=['hashedIpAddress', 'timestamp', 'durationInSec', 'path', 'target', 'type'], usecols=['hashedIpAddress', 'durationInSec', 'path', 'target', 'type'])"
   ]
  },
  {
   "cell_type": "code",
   "execution_count": 3,
   "metadata": {},
   "outputs": [
    {
     "data": {
      "text/html": [
       "<div>\n",
       "<style scoped>\n",
       "    .dataframe tbody tr th:only-of-type {\n",
       "        vertical-align: middle;\n",
       "    }\n",
       "\n",
       "    .dataframe tbody tr th {\n",
       "        vertical-align: top;\n",
       "    }\n",
       "\n",
       "    .dataframe thead th {\n",
       "        text-align: right;\n",
       "    }\n",
       "</style>\n",
       "<table border=\"1\" class=\"dataframe\">\n",
       "  <thead>\n",
       "    <tr style=\"text-align: right;\">\n",
       "      <th></th>\n",
       "      <th>hashedIpAddress</th>\n",
       "      <th>durationInSec</th>\n",
       "      <th>path</th>\n",
       "      <th>target</th>\n",
       "      <th>type</th>\n",
       "      <th>path_length</th>\n",
       "    </tr>\n",
       "  </thead>\n",
       "  <tbody>\n",
       "    <tr>\n",
       "      <th>5</th>\n",
       "      <td>131600803df4895e</td>\n",
       "      <td>2009</td>\n",
       "      <td>Agriculture;History_of_the_world;China;Yangtze...</td>\n",
       "      <td>Grand_Canal_of_China</td>\n",
       "      <td>timeout</td>\n",
       "      <td>4</td>\n",
       "    </tr>\n",
       "    <tr>\n",
       "      <th>6</th>\n",
       "      <td>486bb79910fe9dd2</td>\n",
       "      <td>1932</td>\n",
       "      <td>Mind;Christianity;Europe;Renaissance;Ancient_G...</td>\n",
       "      <td>Scouting</td>\n",
       "      <td>timeout</td>\n",
       "      <td>7</td>\n",
       "    </tr>\n",
       "    <tr>\n",
       "      <th>7</th>\n",
       "      <td>6d136e371e42474f</td>\n",
       "      <td>175</td>\n",
       "      <td>4-2-0;United_States;Agriculture;Sugar;Australia</td>\n",
       "      <td>Cane_Toad</td>\n",
       "      <td>restart</td>\n",
       "      <td>5</td>\n",
       "    </tr>\n",
       "    <tr>\n",
       "      <th>9</th>\n",
       "      <td>6d136e371e42474f</td>\n",
       "      <td>2006</td>\n",
       "      <td>Logic;Computer_science;Science;Physical_scienc...</td>\n",
       "      <td>Moon_landing</td>\n",
       "      <td>timeout</td>\n",
       "      <td>9</td>\n",
       "    </tr>\n",
       "    <tr>\n",
       "      <th>10</th>\n",
       "      <td>430ca00e7f5303b7</td>\n",
       "      <td>1976</td>\n",
       "      <td>Battle_of_Gettysburg;Washington%2C_D.C.;United...</td>\n",
       "      <td>Ostrich</td>\n",
       "      <td>timeout</td>\n",
       "      <td>7</td>\n",
       "    </tr>\n",
       "  </tbody>\n",
       "</table>\n",
       "</div>"
      ],
      "text/plain": [
       "     hashedIpAddress  durationInSec  \\\n",
       "5   131600803df4895e           2009   \n",
       "6   486bb79910fe9dd2           1932   \n",
       "7   6d136e371e42474f            175   \n",
       "9   6d136e371e42474f           2006   \n",
       "10  430ca00e7f5303b7           1976   \n",
       "\n",
       "                                                 path                target  \\\n",
       "5   Agriculture;History_of_the_world;China;Yangtze...  Grand_Canal_of_China   \n",
       "6   Mind;Christianity;Europe;Renaissance;Ancient_G...              Scouting   \n",
       "7     4-2-0;United_States;Agriculture;Sugar;Australia             Cane_Toad   \n",
       "9   Logic;Computer_science;Science;Physical_scienc...          Moon_landing   \n",
       "10  Battle_of_Gettysburg;Washington%2C_D.C.;United...               Ostrich   \n",
       "\n",
       "       type  path_length  \n",
       "5   timeout            4  \n",
       "6   timeout            7  \n",
       "7   restart            5  \n",
       "9   timeout            9  \n",
       "10  timeout            7  "
      ]
     },
     "execution_count": 3,
     "metadata": {},
     "output_type": "execute_result"
    }
   ],
   "source": [
    "# remove path with only one element -> not considered as an attempt\n",
    "# get path length\n",
    "path_unfinished['path_length'] = path_unfinished['path'].apply(lambda x: len(x.split(';')))\n",
    "path_unfinished = path_unfinished[path_unfinished['path_length'] > 3]\n",
    "path_unfinished.head()"
   ]
  },
  {
   "cell_type": "code",
   "execution_count": 4,
   "metadata": {},
   "outputs": [
    {
     "data": {
      "text/plain": [
       "count    13273.000000\n",
       "mean         8.147367\n",
       "std          6.571635\n",
       "min          4.000000\n",
       "25%          5.000000\n",
       "50%          6.000000\n",
       "75%          9.000000\n",
       "max        235.000000\n",
       "Name: path_length, dtype: float64"
      ]
     },
     "execution_count": 4,
     "metadata": {},
     "output_type": "execute_result"
    }
   ],
   "source": [
    "path_unfinished.describe()['path_length']"
   ]
  },
  {
   "cell_type": "markdown",
   "metadata": {},
   "source": [
    "Let's process our unfinished path to determine whether, theoretically, a player could have completed the game in 2007 and to analyze whether finishing the game is faster in 2024 compared to 2007.\n",
    "\n",
    "Data format:\n",
    "| path | target | final_link | distance |\n",
    "|------|--------|------------|----------|\n",
    "|path of the player      |   target to reach     |      final link reached before going to target (same as path if target cannot be reached)      |     number of click earned (equal -1 if the path is not possible based on our data)    |"
   ]
  },
  {
   "cell_type": "code",
   "execution_count": 5,
   "metadata": {},
   "outputs": [
    {
     "name": "stdout",
     "output_type": "stream",
     "text": [
      "(19661, 6)\n"
     ]
    },
    {
     "data": {
      "text/html": [
       "<div>\n",
       "<style scoped>\n",
       "    .dataframe tbody tr th:only-of-type {\n",
       "        vertical-align: middle;\n",
       "    }\n",
       "\n",
       "    .dataframe tbody tr th {\n",
       "        vertical-align: top;\n",
       "    }\n",
       "\n",
       "    .dataframe thead th {\n",
       "        text-align: right;\n",
       "    }\n",
       "</style>\n",
       "<table border=\"1\" class=\"dataframe\">\n",
       "  <thead>\n",
       "    <tr style=\"text-align: right;\">\n",
       "      <th></th>\n",
       "      <th>path</th>\n",
       "      <th>target</th>\n",
       "      <th>final_link2007</th>\n",
       "      <th>final_link2024</th>\n",
       "      <th>distance2007</th>\n",
       "      <th>distance2024</th>\n",
       "    </tr>\n",
       "  </thead>\n",
       "  <tbody>\n",
       "    <tr>\n",
       "      <th>0</th>\n",
       "      <td>Malawi;Democracy;Alexander_the_Great</td>\n",
       "      <td>First_Crusade</td>\n",
       "      <td>Alexander_the_Great</td>\n",
       "      <td>Alexander_the_Great</td>\n",
       "      <td>0</td>\n",
       "      <td>0</td>\n",
       "    </tr>\n",
       "    <tr>\n",
       "      <th>1</th>\n",
       "      <td>Paraguay;Bolivia</td>\n",
       "      <td>Mount_St._Helens</td>\n",
       "      <td>Bolivia</td>\n",
       "      <td>Bolivia</td>\n",
       "      <td>0</td>\n",
       "      <td>0</td>\n",
       "    </tr>\n",
       "    <tr>\n",
       "      <th>2</th>\n",
       "      <td>Agriculture;History_of_the_world;China;Yangtze...</td>\n",
       "      <td>Grand_Canal_of_China</td>\n",
       "      <td>Yangtze_River</td>\n",
       "      <td>NaN</td>\n",
       "      <td>0</td>\n",
       "      <td>-1</td>\n",
       "    </tr>\n",
       "    <tr>\n",
       "      <th>3</th>\n",
       "      <td>Mind;Christianity;Europe;Renaissance;Ancient_G...</td>\n",
       "      <td>Scouting</td>\n",
       "      <td>Asia</td>\n",
       "      <td>Asia</td>\n",
       "      <td>0</td>\n",
       "      <td>0</td>\n",
       "    </tr>\n",
       "    <tr>\n",
       "      <th>4</th>\n",
       "      <td>4-2-0;United_States;Agriculture;Sugar;Australia</td>\n",
       "      <td>Cane_Toad</td>\n",
       "      <td>Australia</td>\n",
       "      <td>Australia</td>\n",
       "      <td>0</td>\n",
       "      <td>0</td>\n",
       "    </tr>\n",
       "  </tbody>\n",
       "</table>\n",
       "</div>"
      ],
      "text/plain": [
       "                                                path                target  \\\n",
       "0               Malawi;Democracy;Alexander_the_Great         First_Crusade   \n",
       "1                                   Paraguay;Bolivia      Mount_St._Helens   \n",
       "2  Agriculture;History_of_the_world;China;Yangtze...  Grand_Canal_of_China   \n",
       "3  Mind;Christianity;Europe;Renaissance;Ancient_G...              Scouting   \n",
       "4    4-2-0;United_States;Agriculture;Sugar;Australia             Cane_Toad   \n",
       "\n",
       "        final_link2007       final_link2024  distance2007  distance2024  \n",
       "0  Alexander_the_Great  Alexander_the_Great             0             0  \n",
       "1              Bolivia              Bolivia             0             0  \n",
       "2        Yangtze_River                  NaN             0            -1  \n",
       "3                 Asia                 Asia             0             0  \n",
       "4            Australia            Australia             0             0  "
      ]
     },
     "execution_count": 5,
     "metadata": {},
     "output_type": "execute_result"
    }
   ],
   "source": [
    "df_unfinished = create_comparison_unfinished_path(DATA, path_unfinished, links2007, links2024, load=True)\n",
    "print(df_unfinished.shape)\n",
    "df_unfinished.head()"
   ]
  },
  {
   "cell_type": "code",
   "execution_count": 6,
   "metadata": {},
   "outputs": [
    {
     "name": "stdout",
     "output_type": "stream",
     "text": [
      "(15335, 6)\n"
     ]
    },
    {
     "data": {
      "text/html": [
       "<div>\n",
       "<style scoped>\n",
       "    .dataframe tbody tr th:only-of-type {\n",
       "        vertical-align: middle;\n",
       "    }\n",
       "\n",
       "    .dataframe tbody tr th {\n",
       "        vertical-align: top;\n",
       "    }\n",
       "\n",
       "    .dataframe thead th {\n",
       "        text-align: right;\n",
       "    }\n",
       "</style>\n",
       "<table border=\"1\" class=\"dataframe\">\n",
       "  <thead>\n",
       "    <tr style=\"text-align: right;\">\n",
       "      <th></th>\n",
       "      <th>distance2007</th>\n",
       "      <th>distance2024</th>\n",
       "    </tr>\n",
       "  </thead>\n",
       "  <tbody>\n",
       "    <tr>\n",
       "      <th>count</th>\n",
       "      <td>15335.000000</td>\n",
       "      <td>15335.000000</td>\n",
       "    </tr>\n",
       "    <tr>\n",
       "      <th>mean</th>\n",
       "      <td>0.065145</td>\n",
       "      <td>0.056798</td>\n",
       "    </tr>\n",
       "    <tr>\n",
       "      <th>std</th>\n",
       "      <td>0.732249</td>\n",
       "      <td>0.376145</td>\n",
       "    </tr>\n",
       "    <tr>\n",
       "      <th>min</th>\n",
       "      <td>0.000000</td>\n",
       "      <td>0.000000</td>\n",
       "    </tr>\n",
       "    <tr>\n",
       "      <th>25%</th>\n",
       "      <td>0.000000</td>\n",
       "      <td>0.000000</td>\n",
       "    </tr>\n",
       "    <tr>\n",
       "      <th>50%</th>\n",
       "      <td>0.000000</td>\n",
       "      <td>0.000000</td>\n",
       "    </tr>\n",
       "    <tr>\n",
       "      <th>75%</th>\n",
       "      <td>0.000000</td>\n",
       "      <td>0.000000</td>\n",
       "    </tr>\n",
       "    <tr>\n",
       "      <th>max</th>\n",
       "      <td>61.000000</td>\n",
       "      <td>12.000000</td>\n",
       "    </tr>\n",
       "  </tbody>\n",
       "</table>\n",
       "</div>"
      ],
      "text/plain": [
       "       distance2007  distance2024\n",
       "count  15335.000000  15335.000000\n",
       "mean       0.065145      0.056798\n",
       "std        0.732249      0.376145\n",
       "min        0.000000      0.000000\n",
       "25%        0.000000      0.000000\n",
       "50%        0.000000      0.000000\n",
       "75%        0.000000      0.000000\n",
       "max       61.000000     12.000000"
      ]
     },
     "execution_count": 6,
     "metadata": {},
     "output_type": "execute_result"
    }
   ],
   "source": [
    "# remove all path with distance = -1 (invalid path and no possible comparison)\n",
    "df_ttest = df_unfinished[(df_unfinished['distance2007'] != -1) &\n",
    "                       (df_unfinished['distance2024'] != -1)]\n",
    "print(df_ttest.shape)\n",
    "df_ttest.describe()"
   ]
  },
  {
   "cell_type": "code",
   "execution_count": 7,
   "metadata": {},
   "outputs": [
    {
     "data": {
      "text/plain": [
       "TtestResult(statistic=1.2556186478097844, pvalue=0.2092638333352878, df=30668.0)"
      ]
     },
     "execution_count": 7,
     "metadata": {},
     "output_type": "execute_result"
    }
   ],
   "source": [
    "from scipy.stats import ttest_ind\n",
    "ttest_ind(df_ttest['distance2007'], df_ttest['distance2024'])"
   ]
  },
  {
   "cell_type": "markdown",
   "metadata": {},
   "source": [
    "p-value > 0.05, we can not say that average expected value of the distances is different between 2007 and 2024 for the unfinished paths."
   ]
  },
  {
   "cell_type": "code",
   "execution_count": 8,
   "metadata": {},
   "outputs": [
    {
     "name": "stdout",
     "output_type": "stream",
     "text": [
      "==== Path possible ? ====\n",
      "Path won't change between 2007 and 2024 : 14537\n",
      "Path impossible to do in 2024 but possible in 2007 : 4324\n",
      "Path impossible to do in 2007 and 2024 : 2\n",
      "Path still possible in 2024 : 15335\n",
      "\n",
      "==== Path faster or slower in 2024 ? ====\n",
      "Path faster in 2024 than 2007: 423\n",
      "Path slower or equal in 2024 than 2007: 375\n"
     ]
    }
   ],
   "source": [
    "print_result_comparison_paths(df_unfinished)"
   ]
  },
  {
   "cell_type": "markdown",
   "metadata": {},
   "source": [
    "Path not possible in 2007 ? This is strange... let's make more analysis"
   ]
  },
  {
   "cell_type": "code",
   "execution_count": 9,
   "metadata": {},
   "outputs": [
    {
     "name": "stdout",
     "output_type": "stream",
     "text": [
      "Link Finland -> Åland does not exist in links2007\n",
      "Link Technology -> Wikipedia_Text_of_the_GNU_Free_Documentation_License does not exist in links2007\n"
     ]
    }
   ],
   "source": [
    "for i, data in df_unfinished[df_unfinished.distance2007 == -1].iterrows():\n",
    "    testpath = fix_path(data['path'])\n",
    "\n",
    "    for i in range(len(testpath) - 1):\n",
    "        output = links2007[ (links2007.linkSource == testpath[i]) & (links2007.linkTarget == testpath[i+1])]\n",
    "        if output.empty:\n",
    "            print(f'Link {unquote(testpath[i])} -> {unquote(testpath[i+1])} does not exist in links2007')"
   ]
  },
  {
   "cell_type": "markdown",
   "metadata": {},
   "source": [
    "By examining the Wikispeedia page for [Finland](https://dlab.epfl.ch/wikispeedia/play/?article=Finland), we can confirm the presence of a link to Åland. Same for Technology to Wikipedia_Text_of_the_GNU_Free_Documentation_License... \n",
    "\n",
    "However, these links are missing in our dataset `links2007`."
   ]
  },
  {
   "cell_type": "code",
   "execution_count": 10,
   "metadata": {},
   "outputs": [],
   "source": [
    "# df_unfinished2 = df_unfinished[(df_unfinished['distance2007'] != -1) &\n",
    "#                        (df_unfinished['distance2024'] != -1)]\n",
    "\n",
    "# df_data = df_unfinished2.copy()\n",
    "\n",
    "# compare_shortened_path_plot(df_data,\"Comparison of shortened unfinished paths in 2007 vs 2024\")"
   ]
  },
  {
   "cell_type": "markdown",
   "metadata": {},
   "source": [
    "#### Path finished"
   ]
  },
  {
   "cell_type": "code",
   "execution_count": 11,
   "metadata": {},
   "outputs": [
    {
     "data": {
      "text/html": [
       "<div>\n",
       "<style scoped>\n",
       "    .dataframe tbody tr th:only-of-type {\n",
       "        vertical-align: middle;\n",
       "    }\n",
       "\n",
       "    .dataframe tbody tr th {\n",
       "        vertical-align: top;\n",
       "    }\n",
       "\n",
       "    .dataframe thead th {\n",
       "        text-align: right;\n",
       "    }\n",
       "</style>\n",
       "<table border=\"1\" class=\"dataframe\">\n",
       "  <thead>\n",
       "    <tr style=\"text-align: right;\">\n",
       "      <th></th>\n",
       "      <th>hashedIpAddress</th>\n",
       "      <th>timestamp</th>\n",
       "      <th>durationInSec</th>\n",
       "      <th>path</th>\n",
       "      <th>rating</th>\n",
       "      <th>target</th>\n",
       "      <th>path_length</th>\n",
       "    </tr>\n",
       "  </thead>\n",
       "  <tbody>\n",
       "    <tr>\n",
       "      <th>0</th>\n",
       "      <td>6a3701d319fc3754</td>\n",
       "      <td>1297740409</td>\n",
       "      <td>166</td>\n",
       "      <td>14th_century;15th_century;16th_century;Pacific...</td>\n",
       "      <td>NaN</td>\n",
       "      <td>African_slave_trade</td>\n",
       "      <td>9</td>\n",
       "    </tr>\n",
       "    <tr>\n",
       "      <th>1</th>\n",
       "      <td>3824310e536af032</td>\n",
       "      <td>1344753412</td>\n",
       "      <td>88</td>\n",
       "      <td>14th_century;Europe;Africa;Atlantic_slave_trad...</td>\n",
       "      <td>3.0</td>\n",
       "      <td>African_slave_trade</td>\n",
       "      <td>5</td>\n",
       "    </tr>\n",
       "    <tr>\n",
       "      <th>2</th>\n",
       "      <td>415612e93584d30e</td>\n",
       "      <td>1349298640</td>\n",
       "      <td>138</td>\n",
       "      <td>14th_century;Niger;Nigeria;British_Empire;Slav...</td>\n",
       "      <td>NaN</td>\n",
       "      <td>African_slave_trade</td>\n",
       "      <td>8</td>\n",
       "    </tr>\n",
       "    <tr>\n",
       "      <th>3</th>\n",
       "      <td>64dd5cd342e3780c</td>\n",
       "      <td>1265613925</td>\n",
       "      <td>37</td>\n",
       "      <td>14th_century;Renaissance;Ancient_Greece;Greece</td>\n",
       "      <td>NaN</td>\n",
       "      <td>Greece</td>\n",
       "      <td>4</td>\n",
       "    </tr>\n",
       "    <tr>\n",
       "      <th>4</th>\n",
       "      <td>015245d773376aab</td>\n",
       "      <td>1366730828</td>\n",
       "      <td>175</td>\n",
       "      <td>14th_century;Italy;Roman_Catholic_Church;HIV;R...</td>\n",
       "      <td>3.0</td>\n",
       "      <td>John_F._Kennedy</td>\n",
       "      <td>7</td>\n",
       "    </tr>\n",
       "  </tbody>\n",
       "</table>\n",
       "</div>"
      ],
      "text/plain": [
       "    hashedIpAddress   timestamp  durationInSec  \\\n",
       "0  6a3701d319fc3754  1297740409            166   \n",
       "1  3824310e536af032  1344753412             88   \n",
       "2  415612e93584d30e  1349298640            138   \n",
       "3  64dd5cd342e3780c  1265613925             37   \n",
       "4  015245d773376aab  1366730828            175   \n",
       "\n",
       "                                                path  rating  \\\n",
       "0  14th_century;15th_century;16th_century;Pacific...     NaN   \n",
       "1  14th_century;Europe;Africa;Atlantic_slave_trad...     3.0   \n",
       "2  14th_century;Niger;Nigeria;British_Empire;Slav...     NaN   \n",
       "3     14th_century;Renaissance;Ancient_Greece;Greece     NaN   \n",
       "4  14th_century;Italy;Roman_Catholic_Church;HIV;R...     3.0   \n",
       "\n",
       "                target  path_length  \n",
       "0  African_slave_trade            9  \n",
       "1  African_slave_trade            5  \n",
       "2  African_slave_trade            8  \n",
       "3               Greece            4  \n",
       "4      John_F._Kennedy            7  "
      ]
     },
     "execution_count": 11,
     "metadata": {},
     "output_type": "execute_result"
    }
   ],
   "source": [
    "path_finished = pd.read_csv(os.path.join(PATH_2007, 'paths_finished.tsv'), sep='\\t', comment='#', names=['hashedIpAddress', 'timestamp', 'durationInSec', 'path', 'rating'])\n",
    "path_finished['target'] = path_finished['path'].apply(lambda x: x.split(';')[-1])\n",
    "path_finished['path_length'] = path_finished['path'].apply(lambda x: len(x.split(';')))\n",
    "path_finished.head()"
   ]
  },
  {
   "cell_type": "code",
   "execution_count": 12,
   "metadata": {},
   "outputs": [
    {
     "data": {
      "text/plain": [
       "count    51318.000000\n",
       "mean         6.757434\n",
       "std          4.680718\n",
       "min          1.000000\n",
       "25%          5.000000\n",
       "50%          6.000000\n",
       "75%          8.000000\n",
       "max        435.000000\n",
       "Name: path_length, dtype: float64"
      ]
     },
     "execution_count": 12,
     "metadata": {},
     "output_type": "execute_result"
    }
   ],
   "source": [
    "path_finished.describe()['path_length']"
   ]
  },
  {
   "cell_type": "markdown",
   "metadata": {},
   "source": [
    "Let's check if the rating difficulty of the game is correlated with the number of clicks needed to finish the game. I drop the NaN values instead of imputing them to have an unbiased result for the correlation."
   ]
  },
  {
   "cell_type": "code",
   "execution_count": 13,
   "metadata": {},
   "outputs": [
    {
     "data": {
      "text/plain": [
       "PearsonRResult(statistic=0.4037485699951087, pvalue=0.0)"
      ]
     },
     "execution_count": 13,
     "metadata": {},
     "output_type": "execute_result"
    }
   ],
   "source": [
    "stats.pearsonr(path_finished.dropna(subset=['rating'])['path_length'], \n",
    "               path_finished.dropna(subset=['rating'])['rating'])"
   ]
  },
  {
   "cell_type": "code",
   "execution_count": 14,
   "metadata": {},
   "outputs": [
    {
     "data": {
      "text/plain": [
       "SignificanceResult(statistic=0.5539921093665069, pvalue=0.0)"
      ]
     },
     "execution_count": 14,
     "metadata": {},
     "output_type": "execute_result"
    }
   ],
   "source": [
    "stats.spearmanr(path_finished.dropna(subset=['rating'])['path_length'], \n",
    "                path_finished.dropna(subset=['rating'])['rating'])"
   ]
  },
  {
   "cell_type": "markdown",
   "metadata": {},
   "source": [
    "Significant correlation between the path length and rating of the player."
   ]
  },
  {
   "cell_type": "markdown",
   "metadata": {},
   "source": [
    "Let's process our finished path to determine whether, theoretically, a player could have completed the game earlier in 2007 and to analyze whether finishing the game is faster in 2024 compared to 2007.\n",
    "\n",
    "Data format:\n",
    "| path | target | final_link | distance |\n",
    "|------|--------|------------|----------|\n",
    "|path of the player      |   target to reach     |      final link reached before going to target (same as path if target cannot be reached)      |     number of click earned (equal -1 if the path is not possible based on our data)    |"
   ]
  },
  {
   "cell_type": "code",
   "execution_count": 15,
   "metadata": {},
   "outputs": [
    {
     "name": "stdout",
     "output_type": "stream",
     "text": [
      "(19661, 6)\n"
     ]
    },
    {
     "data": {
      "text/html": [
       "<div>\n",
       "<style scoped>\n",
       "    .dataframe tbody tr th:only-of-type {\n",
       "        vertical-align: middle;\n",
       "    }\n",
       "\n",
       "    .dataframe tbody tr th {\n",
       "        vertical-align: top;\n",
       "    }\n",
       "\n",
       "    .dataframe thead th {\n",
       "        text-align: right;\n",
       "    }\n",
       "</style>\n",
       "<table border=\"1\" class=\"dataframe\">\n",
       "  <thead>\n",
       "    <tr style=\"text-align: right;\">\n",
       "      <th></th>\n",
       "      <th>path</th>\n",
       "      <th>target</th>\n",
       "      <th>final_link2007</th>\n",
       "      <th>final_link2024</th>\n",
       "      <th>distance2007</th>\n",
       "      <th>distance2024</th>\n",
       "    </tr>\n",
       "  </thead>\n",
       "  <tbody>\n",
       "    <tr>\n",
       "      <th>0</th>\n",
       "      <td>Malawi;Democracy;Alexander_the_Great</td>\n",
       "      <td>First_Crusade</td>\n",
       "      <td>Alexander_the_Great</td>\n",
       "      <td>Alexander_the_Great</td>\n",
       "      <td>0</td>\n",
       "      <td>0</td>\n",
       "    </tr>\n",
       "    <tr>\n",
       "      <th>1</th>\n",
       "      <td>Paraguay;Bolivia</td>\n",
       "      <td>Mount_St._Helens</td>\n",
       "      <td>Bolivia</td>\n",
       "      <td>Bolivia</td>\n",
       "      <td>0</td>\n",
       "      <td>0</td>\n",
       "    </tr>\n",
       "    <tr>\n",
       "      <th>2</th>\n",
       "      <td>Agriculture;History_of_the_world;China;Yangtze...</td>\n",
       "      <td>Grand_Canal_of_China</td>\n",
       "      <td>Yangtze_River</td>\n",
       "      <td>NaN</td>\n",
       "      <td>0</td>\n",
       "      <td>-1</td>\n",
       "    </tr>\n",
       "    <tr>\n",
       "      <th>3</th>\n",
       "      <td>Mind;Christianity;Europe;Renaissance;Ancient_G...</td>\n",
       "      <td>Scouting</td>\n",
       "      <td>Asia</td>\n",
       "      <td>Asia</td>\n",
       "      <td>0</td>\n",
       "      <td>0</td>\n",
       "    </tr>\n",
       "    <tr>\n",
       "      <th>4</th>\n",
       "      <td>4-2-0;United_States;Agriculture;Sugar;Australia</td>\n",
       "      <td>Cane_Toad</td>\n",
       "      <td>Australia</td>\n",
       "      <td>Australia</td>\n",
       "      <td>0</td>\n",
       "      <td>0</td>\n",
       "    </tr>\n",
       "  </tbody>\n",
       "</table>\n",
       "</div>"
      ],
      "text/plain": [
       "                                                path                target  \\\n",
       "0               Malawi;Democracy;Alexander_the_Great         First_Crusade   \n",
       "1                                   Paraguay;Bolivia      Mount_St._Helens   \n",
       "2  Agriculture;History_of_the_world;China;Yangtze...  Grand_Canal_of_China   \n",
       "3  Mind;Christianity;Europe;Renaissance;Ancient_G...              Scouting   \n",
       "4    4-2-0;United_States;Agriculture;Sugar;Australia             Cane_Toad   \n",
       "\n",
       "        final_link2007       final_link2024  distance2007  distance2024  \n",
       "0  Alexander_the_Great  Alexander_the_Great             0             0  \n",
       "1              Bolivia              Bolivia             0             0  \n",
       "2        Yangtze_River                  NaN             0            -1  \n",
       "3                 Asia                 Asia             0             0  \n",
       "4            Australia            Australia             0             0  "
      ]
     },
     "execution_count": 15,
     "metadata": {},
     "output_type": "execute_result"
    }
   ],
   "source": [
    "df_finished = create_comparison_finished_path(DATA, path_finished, links2007, links2024, load=True)\n",
    "print(df_unfinished.shape)\n",
    "df_unfinished.head()"
   ]
  },
  {
   "cell_type": "code",
   "execution_count": 16,
   "metadata": {},
   "outputs": [
    {
     "data": {
      "text/html": [
       "<div>\n",
       "<style scoped>\n",
       "    .dataframe tbody tr th:only-of-type {\n",
       "        vertical-align: middle;\n",
       "    }\n",
       "\n",
       "    .dataframe tbody tr th {\n",
       "        vertical-align: top;\n",
       "    }\n",
       "\n",
       "    .dataframe thead th {\n",
       "        text-align: right;\n",
       "    }\n",
       "</style>\n",
       "<table border=\"1\" class=\"dataframe\">\n",
       "  <thead>\n",
       "    <tr style=\"text-align: right;\">\n",
       "      <th></th>\n",
       "      <th>distance2007</th>\n",
       "      <th>distance2024</th>\n",
       "    </tr>\n",
       "  </thead>\n",
       "  <tbody>\n",
       "    <tr>\n",
       "      <th>count</th>\n",
       "      <td>18636.000000</td>\n",
       "      <td>18636.000000</td>\n",
       "    </tr>\n",
       "    <tr>\n",
       "      <th>mean</th>\n",
       "      <td>0.170745</td>\n",
       "      <td>0.294162</td>\n",
       "    </tr>\n",
       "    <tr>\n",
       "      <th>std</th>\n",
       "      <td>0.648322</td>\n",
       "      <td>0.733330</td>\n",
       "    </tr>\n",
       "    <tr>\n",
       "      <th>min</th>\n",
       "      <td>0.000000</td>\n",
       "      <td>0.000000</td>\n",
       "    </tr>\n",
       "    <tr>\n",
       "      <th>25%</th>\n",
       "      <td>0.000000</td>\n",
       "      <td>0.000000</td>\n",
       "    </tr>\n",
       "    <tr>\n",
       "      <th>50%</th>\n",
       "      <td>0.000000</td>\n",
       "      <td>0.000000</td>\n",
       "    </tr>\n",
       "    <tr>\n",
       "      <th>75%</th>\n",
       "      <td>0.000000</td>\n",
       "      <td>0.000000</td>\n",
       "    </tr>\n",
       "    <tr>\n",
       "      <th>max</th>\n",
       "      <td>25.000000</td>\n",
       "      <td>27.000000</td>\n",
       "    </tr>\n",
       "  </tbody>\n",
       "</table>\n",
       "</div>"
      ],
      "text/plain": [
       "       distance2007  distance2024\n",
       "count  18636.000000  18636.000000\n",
       "mean       0.170745      0.294162\n",
       "std        0.648322      0.733330\n",
       "min        0.000000      0.000000\n",
       "25%        0.000000      0.000000\n",
       "50%        0.000000      0.000000\n",
       "75%        0.000000      0.000000\n",
       "max       25.000000     27.000000"
      ]
     },
     "execution_count": 16,
     "metadata": {},
     "output_type": "execute_result"
    }
   ],
   "source": [
    "# remove all path with distance = -1 (invalid path and no possible comparison)\n",
    "df_ttest = df_finished[(df_finished['distance2007'] != -1) &\n",
    "                       (df_finished['distance2024'] != -1)]\n",
    "\n",
    "df_ttest.describe()"
   ]
  },
  {
   "cell_type": "code",
   "execution_count": 17,
   "metadata": {},
   "outputs": [
    {
     "data": {
      "text/plain": [
       "TtestResult(statistic=-17.212631239901707, pvalue=3.8502960068475356e-66, df=37270.0)"
      ]
     },
     "execution_count": 17,
     "metadata": {},
     "output_type": "execute_result"
    }
   ],
   "source": [
    "stats.ttest_ind(df_ttest['distance2007'], df_ttest['distance2024'])"
   ]
  },
  {
   "cell_type": "markdown",
   "metadata": {},
   "source": [
    "pvalue < 0.05, we reject the null hypothesis that the two distributions have identical average expected value. "
   ]
  },
  {
   "cell_type": "code",
   "execution_count": 18,
   "metadata": {},
   "outputs": [
    {
     "name": "stdout",
     "output_type": "stream",
     "text": [
      "==== Path possible ? ====\n",
      "Path won't change between 2007 and 2024 : 14020\n",
      "Path impossible to do in 2024 but possible in 2007 : 32677\n",
      "Path impossible to do in 2007 and 2024 : 2\n",
      "Path still possible in 2024 : 18636\n",
      "\n",
      "==== Path faster or slower in 2024 ? ====\n",
      "Path faster in 2024 than 2007: 2719\n",
      "Path slower or equal in 2024 than 2007: 1900\n"
     ]
    }
   ],
   "source": [
    "print_result_comparison_paths(df_finished)"
   ]
  },
  {
   "cell_type": "code",
   "execution_count": null,
   "metadata": {},
   "outputs": [],
   "source": []
  },
  {
   "cell_type": "markdown",
   "metadata": {},
   "source": [
    "#### Plot"
   ]
  },
  {
   "cell_type": "code",
   "execution_count": 19,
   "metadata": {},
   "outputs": [],
   "source": [
    "# remove all path with distance = -1 (no possible comparison)\n",
    "df_unfinished2 = df_unfinished[(df_unfinished['distance2007'] != -1) &\n",
    "                           (df_unfinished['distance2024'] != -1)]\n",
    "\n",
    "df_finished2 = df_finished[(df_finished['distance2007'] != -1) &\n",
    "                           (df_finished['distance2024'] != -1)]"
   ]
  },
  {
   "cell_type": "code",
   "execution_count": 20,
   "metadata": {},
   "outputs": [
    {
     "data": {
      "image/png": "[encoded data removed]",
      "text/plain": [
       "<Figure size 1200x500 with 2 Axes>"
      ]
     },
     "metadata": {},
     "output_type": "display_data"
    }
   ],
   "source": [
    "plot_comarison_length_path(df_finished2.copy(), df_unfinished2.copy())"
   ]
  },
  {
   "cell_type": "markdown",
   "metadata": {},
   "source": [
    "Globally, we observe that for the most of the game player there is no difference in the number of game shortened between 2007 and 2024. But we can see that the 2024 version shortened more path than 2007 whether for unfinished and finished paths. This might suggests that the 2024 version has the potential to make players stronger ? That said, let's not jump to conclusions and take a closer look..."
   ]
  },
  {
   "cell_type": "code",
   "execution_count": 21,
   "metadata": {},
   "outputs": [
    {
     "data": {
      "image/png": "[encoded data removed]",
      "text/plain": [
       "<Figure size 1000x800 with 2 Axes>"
      ]
     },
     "metadata": {},
     "output_type": "display_data"
    }
   ],
   "source": [
    "plot_comparison_clicks_saved(df_finished2.copy(), df_unfinished2.copy(), \"Difference of number of clicks saved in 2007 vs 2024\")"
   ]
  },
  {
   "cell_type": "markdown",
   "metadata": {},
   "source": [
    "Looking at the number of clicks saved, it turns out 2007 does better for unfinished paths compared to 2024, even though it impacts fewer paths overall (305 paths for 833 clicks saved in 2007 versus 423 paths for 705 clicks saved in 2024).\n",
    "\n",
    "On the other hand, for finished paths, 2024 clearly takes the lead, with 3,863 clicks saved across 2,716 paths, compared to just 1,000 clicks saved for 1,000 paths in 2007.\n",
    "\n",
    "So, it seems like 2024 could potentially help players finish the game faster than 2007."
   ]
  },
  {
   "cell_type": "markdown",
   "metadata": {},
   "source": [
    "### Structural Comparison : 2007 vs. 2024"
   ]
  },
  {
   "cell_type": "code",
   "execution_count": 22,
   "metadata": {},
   "outputs": [],
   "source": [
    "articles2007 = pd.read_csv(os.path.join(PATH_2007, 'articles.tsv'), sep='\\t', comment='#', names=['article'])\n",
    "articles2007_unquote = articles2007.copy()\n",
    "articles2007_unquote['article'] = articles2007['article'].apply(unquote)\n",
    "\n",
    "links2007_unquote = links2007.copy()\n",
    "links2007_unquote['linkSource'] = links2007_unquote['linkSource'].apply(unquote)\n",
    "links2007_unquote['linkTarget'] = links2007_unquote['linkTarget'].apply(unquote)\n",
    "\n",
    "links2024_unquote = links2024.copy()\n",
    "links2024_unquote['linkSource'] = links2024_unquote['linkSource'].apply(unquote)\n",
    "links2024_unquote['linkTarget'] = links2024_unquote['linkTarget'].apply(unquote)\n",
    "\n",
    "common_article = set(links2007_unquote['linkSource']).intersection(set(links2024_unquote['linkSource']))"
   ]
  },
  {
   "cell_type": "code",
   "execution_count": 23,
   "metadata": {},
   "outputs": [],
   "source": [
    "# create a graph with links dataframe\n",
    "G_2007 = nx.DiGraph()\n",
    "G_2007.add_nodes_from(articles2007_unquote['article'])\n",
    "\n",
    "for i, row in links2007_unquote.iterrows():\n",
    "    if row['linkSource'] in G_2007.nodes and row['linkTarget'] in G_2007.nodes:\n",
    "        G_2007.add_edge(row['linkSource'], row['linkTarget'])  "
   ]
  },
  {
   "cell_type": "code",
   "execution_count": 24,
   "metadata": {},
   "outputs": [],
   "source": [
    "G_2024 = nx.DiGraph()\n",
    "G_2024.add_nodes_from(articles2007_unquote['article'])\n",
    "\n",
    "for i, row in links2024_unquote.iterrows():\n",
    "    if row['linkSource'] in G_2024.nodes and row['linkTarget'] in G_2024.nodes:\n",
    "        G_2024.add_edge(row['linkSource'], row['linkTarget'])"
   ]
  },
  {
   "cell_type": "markdown",
   "metadata": {},
   "source": [
    "#### Similarity"
   ]
  },
  {
   "cell_type": "markdown",
   "metadata": {},
   "source": [
    "How can we compare the efficiency of Wikipedia's structure in 2007 and 2024?\n",
    "\n",
    "One approach is to evaluate the similarity between articles. For each article, we calculate its similarity with every other article. Then, we compute a similarity score for each article, which corresponds to the average similarity with all the articles it links to (outgoing links).\n",
    "\n",
    "$$ \\text{similarity score}(article) = \\frac{1}{n} \\sum_{i=1}^{n} \\text{similarity}(article, article_i) $$\n",
    "\n",
    "where $n$ is the number of outgoing links of the article, and $article_i$ is the $i$-th article linked to by the article.\n",
    "\n",
    "How compute the similarity between two articles? \n",
    "\n",
    "The main task is to find a way to represent articles in a vector space. we decide to use two differents approaches:\n",
    "\n",
    "- `Node2Vec`: We use the node2vec algorithm to compute the similarity between articles. Node2Vec is an algorithm that learns continuous feature representations for nodes in networks. We use the node2vec implementation from the `node2vec` library.\n",
    "\n",
    "- `Sentence-BERT`: We use the Sentence-BERT model to represent article content in a vector space. Sentence-BERT is a modification of the BERT network that is trained to derive semantically meaningful sentence embeddings. We use the `sentence-transformers` library to compute the similarity between articles.\n",
    "\n",
    "Node2vec focus more on the structure of the graph, while Sentence-BERT focus more on the content of the articles.\n",
    "\n",
    "Then, our similarity score is the average of the similarity scores obtained with the two methods.\n",
    "\n",
    "$$ \\text{similarity}(a_1, a_2) = \\frac{1}{2} \\left( \\text{similarity}(a_1, a_2)_{\\text{Node2Vec}} + \\text{similarity}(a_1, a_2)_{\\text{Sentence-BERT}} \\right) $$\n",
    "\n",
    "where $a_1$ and $a_2$ are two articles."
   ]
  },
  {
   "cell_type": "markdown",
   "metadata": {},
   "source": [
    "First, we need to get the article content from wikipedia (only summary). \n",
    "\n",
    "- 2007 : We use the plaintext_articles data to get the content of the articles.\n",
    "\n",
    "- 2024 : We use the Wikipedia API to get the content of the articles."
   ]
  },
  {
   "cell_type": "markdown",
   "metadata": {},
   "source": [
    "##### 2007"
   ]
  },
  {
   "cell_type": "code",
   "execution_count": 25,
   "metadata": {},
   "outputs": [
    {
     "data": {
      "text/html": [
       "<div>\n",
       "<style scoped>\n",
       "    .dataframe tbody tr th:only-of-type {\n",
       "        vertical-align: middle;\n",
       "    }\n",
       "\n",
       "    .dataframe tbody tr th {\n",
       "        vertical-align: top;\n",
       "    }\n",
       "\n",
       "    .dataframe thead th {\n",
       "        text-align: right;\n",
       "    }\n",
       "</style>\n",
       "<table border=\"1\" class=\"dataframe\">\n",
       "  <thead>\n",
       "    <tr style=\"text-align: right;\">\n",
       "      <th></th>\n",
       "      <th>article</th>\n",
       "      <th>content</th>\n",
       "    </tr>\n",
       "  </thead>\n",
       "  <tbody>\n",
       "    <tr>\n",
       "      <th>0</th>\n",
       "      <td>Áedán_mac_Gabráin</td>\n",
       "      <td>Satellite image of northern Britain and Irelan...</td>\n",
       "    </tr>\n",
       "    <tr>\n",
       "      <th>1</th>\n",
       "      <td>Åland</td>\n",
       "      <td>Landskapet Åland\\n   Ahvenanmaan maakunta\\n   ...</td>\n",
       "    </tr>\n",
       "    <tr>\n",
       "      <th>2</th>\n",
       "      <td>Édouard_Manet</td>\n",
       "      <td>Articles with similar titles include Claude Mo...</td>\n",
       "    </tr>\n",
       "    <tr>\n",
       "      <th>3</th>\n",
       "      <td>Éire</td>\n",
       "      <td>This is a featured article. Click here for mor...</td>\n",
       "    </tr>\n",
       "    <tr>\n",
       "      <th>4</th>\n",
       "      <td>Óengus_I_of_the_Picts</td>\n",
       "      <td>Óengus son of Fergus\\n   King of the Picts\\n  ...</td>\n",
       "    </tr>\n",
       "  </tbody>\n",
       "</table>\n",
       "</div>"
      ],
      "text/plain": [
       "                 article                                            content\n",
       "0      Áedán_mac_Gabráin  Satellite image of northern Britain and Irelan...\n",
       "1                  Åland  Landskapet Åland\\n   Ahvenanmaan maakunta\\n   ...\n",
       "2          Édouard_Manet  Articles with similar titles include Claude Mo...\n",
       "3                   Éire  This is a featured article. Click here for mor...\n",
       "4  Óengus_I_of_the_Picts  Óengus son of Fergus\\n   King of the Picts\\n  ..."
      ]
     },
     "execution_count": 25,
     "metadata": {},
     "output_type": "execute_result"
    }
   ],
   "source": [
    "summaries2007 = get_summaries2007(ARTICLE_TXT_PATH, PATH_2007, 'summaries2007.csv')\n",
    "summaries2007.head()"
   ]
  },
  {
   "cell_type": "markdown",
   "metadata": {},
   "source": [
    "##### 2024"
   ]
  },
  {
   "cell_type": "code",
   "execution_count": 26,
   "metadata": {},
   "outputs": [
    {
     "data": {
      "text/html": [
       "<div>\n",
       "<style scoped>\n",
       "    .dataframe tbody tr th:only-of-type {\n",
       "        vertical-align: middle;\n",
       "    }\n",
       "\n",
       "    .dataframe tbody tr th {\n",
       "        vertical-align: top;\n",
       "    }\n",
       "\n",
       "    .dataframe thead th {\n",
       "        text-align: right;\n",
       "    }\n",
       "</style>\n",
       "<table border=\"1\" class=\"dataframe\">\n",
       "  <thead>\n",
       "    <tr style=\"text-align: right;\">\n",
       "      <th></th>\n",
       "      <th>article</th>\n",
       "      <th>content</th>\n",
       "    </tr>\n",
       "  </thead>\n",
       "  <tbody>\n",
       "    <tr>\n",
       "      <th>0</th>\n",
       "      <td>10th_century</td>\n",
       "      <td>The 10th century was the period from 901 (repr...</td>\n",
       "    </tr>\n",
       "    <tr>\n",
       "      <th>1</th>\n",
       "      <td>11th_century</td>\n",
       "      <td>The 11th century is the period from 1001 (repr...</td>\n",
       "    </tr>\n",
       "    <tr>\n",
       "      <th>2</th>\n",
       "      <td>12th_century</td>\n",
       "      <td>The 12th century is the period from 1101 to 12...</td>\n",
       "    </tr>\n",
       "    <tr>\n",
       "      <th>3</th>\n",
       "      <td>13th_century</td>\n",
       "      <td>The 13th century was the century which lasted ...</td>\n",
       "    </tr>\n",
       "    <tr>\n",
       "      <th>4</th>\n",
       "      <td>14th_century</td>\n",
       "      <td>The 14th century lasted from 1 January 1301 (r...</td>\n",
       "    </tr>\n",
       "  </tbody>\n",
       "</table>\n",
       "</div>"
      ],
      "text/plain": [
       "        article                                            content\n",
       "0  10th_century  The 10th century was the period from 901 (repr...\n",
       "1  11th_century  The 11th century is the period from 1001 (repr...\n",
       "2  12th_century  The 12th century is the period from 1101 to 12...\n",
       "3  13th_century  The 13th century was the century which lasted ...\n",
       "4  14th_century  The 14th century lasted from 1 January 1301 (r..."
      ]
     },
     "execution_count": 26,
     "metadata": {},
     "output_type": "execute_result"
    }
   ],
   "source": [
    "article_name_2024 = pd.read_csv(os.path.join(PATH_2024, 'articles2024_name.csv'), names=['article'])\n",
    "summaries2024 = get_summaries2024(article_name_2024, PATH_2024, 'summaries2024.csv')\n",
    "summaries2024.head()"
   ]
  },
  {
   "cell_type": "markdown",
   "metadata": {},
   "source": [
    "##### Node2Vec & Sentence-BERT to measure and compare structural similarities"
   ]
  },
  {
   "cell_type": "code",
   "execution_count": 27,
   "metadata": {},
   "outputs": [
    {
     "data": {
      "text/html": [
       "<div>\n",
       "<style scoped>\n",
       "    .dataframe tbody tr th:only-of-type {\n",
       "        vertical-align: middle;\n",
       "    }\n",
       "\n",
       "    .dataframe tbody tr th {\n",
       "        vertical-align: top;\n",
       "    }\n",
       "\n",
       "    .dataframe thead th {\n",
       "        text-align: right;\n",
       "    }\n",
       "</style>\n",
       "<table border=\"1\" class=\"dataframe\">\n",
       "  <thead>\n",
       "    <tr style=\"text-align: right;\">\n",
       "      <th></th>\n",
       "      <th>linkSource</th>\n",
       "      <th>linkTarget</th>\n",
       "      <th>n2v_similarity</th>\n",
       "      <th>sbert_similarity</th>\n",
       "      <th>similarity</th>\n",
       "    </tr>\n",
       "  </thead>\n",
       "  <tbody>\n",
       "    <tr>\n",
       "      <th>0</th>\n",
       "      <td>Áedán_mac_Gabráin</td>\n",
       "      <td>Bede</td>\n",
       "      <td>0.585006</td>\n",
       "      <td>0.237665</td>\n",
       "      <td>0.411335</td>\n",
       "    </tr>\n",
       "    <tr>\n",
       "      <th>1</th>\n",
       "      <td>Áedán_mac_Gabráin</td>\n",
       "      <td>Columba</td>\n",
       "      <td>0.731949</td>\n",
       "      <td>0.429983</td>\n",
       "      <td>0.580966</td>\n",
       "    </tr>\n",
       "    <tr>\n",
       "      <th>2</th>\n",
       "      <td>Áedán_mac_Gabráin</td>\n",
       "      <td>Dál_Riata</td>\n",
       "      <td>0.731973</td>\n",
       "      <td>0.650527</td>\n",
       "      <td>0.691250</td>\n",
       "    </tr>\n",
       "    <tr>\n",
       "      <th>3</th>\n",
       "      <td>Áedán_mac_Gabráin</td>\n",
       "      <td>Great_Britain</td>\n",
       "      <td>0.655600</td>\n",
       "      <td>0.170070</td>\n",
       "      <td>0.412835</td>\n",
       "    </tr>\n",
       "    <tr>\n",
       "      <th>4</th>\n",
       "      <td>Áedán_mac_Gabráin</td>\n",
       "      <td>Ireland</td>\n",
       "      <td>0.656894</td>\n",
       "      <td>0.342100</td>\n",
       "      <td>0.499497</td>\n",
       "    </tr>\n",
       "  </tbody>\n",
       "</table>\n",
       "</div>"
      ],
      "text/plain": [
       "          linkSource     linkTarget  n2v_similarity  sbert_similarity  \\\n",
       "0  Áedán_mac_Gabráin           Bede        0.585006          0.237665   \n",
       "1  Áedán_mac_Gabráin        Columba        0.731949          0.429983   \n",
       "2  Áedán_mac_Gabráin      Dál_Riata        0.731973          0.650527   \n",
       "3  Áedán_mac_Gabráin  Great_Britain        0.655600          0.170070   \n",
       "4  Áedán_mac_Gabráin        Ireland        0.656894          0.342100   \n",
       "\n",
       "   similarity  \n",
       "0    0.411335  \n",
       "1    0.580966  \n",
       "2    0.691250  \n",
       "3    0.412835  \n",
       "4    0.499497  "
      ]
     },
     "execution_count": 27,
     "metadata": {},
     "output_type": "execute_result"
    }
   ],
   "source": [
    "links2007_similarity, links2024_similarity = get_links_similarity(DATA, PATH_2007, PATH_2024, ARTICLE_TXT_PATH, article_name_2024, \n",
    "                                                                  G_2007, G_2024, links2007_unquote, links2024_unquote, load=True)\n",
    "\n",
    "links2007_similarity.head()"
   ]
  },
  {
   "cell_type": "code",
   "execution_count": 28,
   "metadata": {},
   "outputs": [
    {
     "data": {
      "text/html": [
       "<div>\n",
       "<style scoped>\n",
       "    .dataframe tbody tr th:only-of-type {\n",
       "        vertical-align: middle;\n",
       "    }\n",
       "\n",
       "    .dataframe tbody tr th {\n",
       "        vertical-align: top;\n",
       "    }\n",
       "\n",
       "    .dataframe thead th {\n",
       "        text-align: right;\n",
       "    }\n",
       "</style>\n",
       "<table border=\"1\" class=\"dataframe\">\n",
       "  <thead>\n",
       "    <tr style=\"text-align: right;\">\n",
       "      <th></th>\n",
       "      <th>linkSource</th>\n",
       "      <th>linkTarget</th>\n",
       "      <th>n2v_similarity</th>\n",
       "      <th>sbert_similarity</th>\n",
       "      <th>similarity</th>\n",
       "    </tr>\n",
       "  </thead>\n",
       "  <tbody>\n",
       "    <tr>\n",
       "      <th>0</th>\n",
       "      <td>Áedán_mac_Gabráin</td>\n",
       "      <td>Dál_Riata</td>\n",
       "      <td>0.881055</td>\n",
       "      <td>0.550868</td>\n",
       "      <td>0.715962</td>\n",
       "    </tr>\n",
       "    <tr>\n",
       "      <th>1</th>\n",
       "      <td>Áedán_mac_Gabráin</td>\n",
       "      <td>Columba</td>\n",
       "      <td>0.760585</td>\n",
       "      <td>0.457233</td>\n",
       "      <td>0.608909</td>\n",
       "    </tr>\n",
       "    <tr>\n",
       "      <th>2</th>\n",
       "      <td>Áedán_mac_Gabráin</td>\n",
       "      <td>Orkney</td>\n",
       "      <td>0.744174</td>\n",
       "      <td>0.278360</td>\n",
       "      <td>0.511267</td>\n",
       "    </tr>\n",
       "    <tr>\n",
       "      <th>3</th>\n",
       "      <td>Áedán_mac_Gabráin</td>\n",
       "      <td>Isle_of_Man</td>\n",
       "      <td>0.568829</td>\n",
       "      <td>0.396943</td>\n",
       "      <td>0.482886</td>\n",
       "    </tr>\n",
       "    <tr>\n",
       "      <th>4</th>\n",
       "      <td>Áedán_mac_Gabráin</td>\n",
       "      <td>Bede</td>\n",
       "      <td>0.586326</td>\n",
       "      <td>0.274804</td>\n",
       "      <td>0.430565</td>\n",
       "    </tr>\n",
       "  </tbody>\n",
       "</table>\n",
       "</div>"
      ],
      "text/plain": [
       "          linkSource   linkTarget  n2v_similarity  sbert_similarity  \\\n",
       "0  Áedán_mac_Gabráin    Dál_Riata        0.881055          0.550868   \n",
       "1  Áedán_mac_Gabráin      Columba        0.760585          0.457233   \n",
       "2  Áedán_mac_Gabráin       Orkney        0.744174          0.278360   \n",
       "3  Áedán_mac_Gabráin  Isle_of_Man        0.568829          0.396943   \n",
       "4  Áedán_mac_Gabráin         Bede        0.586326          0.274804   \n",
       "\n",
       "   similarity  \n",
       "0    0.715962  \n",
       "1    0.608909  \n",
       "2    0.511267  \n",
       "3    0.482886  \n",
       "4    0.430565  "
      ]
     },
     "execution_count": 28,
     "metadata": {},
     "output_type": "execute_result"
    }
   ],
   "source": [
    "links2024_similarity.head()"
   ]
  },
  {
   "cell_type": "code",
   "execution_count": 29,
   "metadata": {},
   "outputs": [
    {
     "data": {
      "text/html": [
       "<div>\n",
       "<style scoped>\n",
       "    .dataframe tbody tr th:only-of-type {\n",
       "        vertical-align: middle;\n",
       "    }\n",
       "\n",
       "    .dataframe tbody tr th {\n",
       "        vertical-align: top;\n",
       "    }\n",
       "\n",
       "    .dataframe thead th {\n",
       "        text-align: right;\n",
       "    }\n",
       "</style>\n",
       "<table border=\"1\" class=\"dataframe\">\n",
       "  <thead>\n",
       "    <tr style=\"text-align: right;\">\n",
       "      <th></th>\n",
       "      <th>n2v_similarity_2007</th>\n",
       "      <th>sbert_similarity_2007</th>\n",
       "      <th>n2v_similarity_2024</th>\n",
       "      <th>sbert_similarity_2024</th>\n",
       "    </tr>\n",
       "  </thead>\n",
       "  <tbody>\n",
       "    <tr>\n",
       "      <th>count</th>\n",
       "      <td>4539.000000</td>\n",
       "      <td>4539.000000</td>\n",
       "      <td>4539.000000</td>\n",
       "      <td>4539.000000</td>\n",
       "    </tr>\n",
       "    <tr>\n",
       "      <th>mean</th>\n",
       "      <td>0.539606</td>\n",
       "      <td>0.225459</td>\n",
       "      <td>0.565896</td>\n",
       "      <td>0.239078</td>\n",
       "    </tr>\n",
       "    <tr>\n",
       "      <th>std</th>\n",
       "      <td>0.120540</td>\n",
       "      <td>0.102761</td>\n",
       "      <td>0.122095</td>\n",
       "      <td>0.087992</td>\n",
       "    </tr>\n",
       "    <tr>\n",
       "      <th>min</th>\n",
       "      <td>0.234105</td>\n",
       "      <td>-0.133736</td>\n",
       "      <td>-0.024988</td>\n",
       "      <td>-0.095537</td>\n",
       "    </tr>\n",
       "    <tr>\n",
       "      <th>25%</th>\n",
       "      <td>0.450327</td>\n",
       "      <td>0.154362</td>\n",
       "      <td>0.479622</td>\n",
       "      <td>0.180471</td>\n",
       "    </tr>\n",
       "    <tr>\n",
       "      <th>50%</th>\n",
       "      <td>0.522074</td>\n",
       "      <td>0.215350</td>\n",
       "      <td>0.551837</td>\n",
       "      <td>0.237080</td>\n",
       "    </tr>\n",
       "    <tr>\n",
       "      <th>75%</th>\n",
       "      <td>0.617628</td>\n",
       "      <td>0.284711</td>\n",
       "      <td>0.640587</td>\n",
       "      <td>0.294082</td>\n",
       "    </tr>\n",
       "    <tr>\n",
       "      <th>max</th>\n",
       "      <td>0.991188</td>\n",
       "      <td>0.688811</td>\n",
       "      <td>0.947322</td>\n",
       "      <td>0.628260</td>\n",
       "    </tr>\n",
       "  </tbody>\n",
       "</table>\n",
       "</div>"
      ],
      "text/plain": [
       "       n2v_similarity_2007  sbert_similarity_2007  n2v_similarity_2024  \\\n",
       "count          4539.000000            4539.000000          4539.000000   \n",
       "mean              0.539606               0.225459             0.565896   \n",
       "std               0.120540               0.102761             0.122095   \n",
       "min               0.234105              -0.133736            -0.024988   \n",
       "25%               0.450327               0.154362             0.479622   \n",
       "50%               0.522074               0.215350             0.551837   \n",
       "75%               0.617628               0.284711             0.640587   \n",
       "max               0.991188               0.688811             0.947322   \n",
       "\n",
       "       sbert_similarity_2024  \n",
       "count            4539.000000  \n",
       "mean                0.239078  \n",
       "std                 0.087992  \n",
       "min                -0.095537  \n",
       "25%                 0.180471  \n",
       "50%                 0.237080  \n",
       "75%                 0.294082  \n",
       "max                 0.628260  "
      ]
     },
     "execution_count": 29,
     "metadata": {},
     "output_type": "execute_result"
    }
   ],
   "source": [
    "similarity_2007 = links2007_similarity.groupby('linkSource')[['n2v_similarity', 'sbert_similarity']].mean()\n",
    "similarity_2024 = links2024_similarity.groupby('linkSource')[['n2v_similarity', 'sbert_similarity']].mean()\n",
    "\n",
    "similarities = pd.merge(similarity_2007, similarity_2024, on='linkSource', suffixes=('_2007', '_2024'))\n",
    "similarities.describe()"
   ]
  },
  {
   "cell_type": "code",
   "execution_count": 30,
   "metadata": {},
   "outputs": [
    {
     "data": {
      "image/png": "[encoded data removed]",
      "text/plain": [
       "<Figure size 1000x800 with 2 Axes>"
      ]
     },
     "metadata": {},
     "output_type": "display_data"
    }
   ],
   "source": [
    "plot_similarity_distributions(similarities)"
   ]
  },
  {
   "cell_type": "markdown",
   "metadata": {},
   "source": [
    "We can observe a slight improvement in the similarity for both structural and content-based similarity between articles in 2024 compared to 2007. The similarity between articles in 2024 is higher than in 2007, which indicates that the structure of Wikipedia has evolved to be more coherent and organized."
   ]
  },
  {
   "cell_type": "code",
   "execution_count": 31,
   "metadata": {},
   "outputs": [
    {
     "data": {
      "text/html": [
       "<div>\n",
       "<style scoped>\n",
       "    .dataframe tbody tr th:only-of-type {\n",
       "        vertical-align: middle;\n",
       "    }\n",
       "\n",
       "    .dataframe tbody tr th {\n",
       "        vertical-align: top;\n",
       "    }\n",
       "\n",
       "    .dataframe thead th {\n",
       "        text-align: right;\n",
       "    }\n",
       "</style>\n",
       "<table border=\"1\" class=\"dataframe\">\n",
       "  <thead>\n",
       "    <tr style=\"text-align: right;\">\n",
       "      <th></th>\n",
       "      <th>similarity_2007</th>\n",
       "      <th>similarity_2024</th>\n",
       "    </tr>\n",
       "  </thead>\n",
       "  <tbody>\n",
       "    <tr>\n",
       "      <th>count</th>\n",
       "      <td>4539.000000</td>\n",
       "      <td>4539.000000</td>\n",
       "    </tr>\n",
       "    <tr>\n",
       "      <th>mean</th>\n",
       "      <td>0.382532</td>\n",
       "      <td>0.402487</td>\n",
       "    </tr>\n",
       "    <tr>\n",
       "      <th>std</th>\n",
       "      <td>0.102174</td>\n",
       "      <td>0.094681</td>\n",
       "    </tr>\n",
       "    <tr>\n",
       "      <th>min</th>\n",
       "      <td>0.104964</td>\n",
       "      <td>-0.020964</td>\n",
       "    </tr>\n",
       "    <tr>\n",
       "      <th>25%</th>\n",
       "      <td>0.309238</td>\n",
       "      <td>0.337917</td>\n",
       "    </tr>\n",
       "    <tr>\n",
       "      <th>50%</th>\n",
       "      <td>0.367312</td>\n",
       "      <td>0.394595</td>\n",
       "    </tr>\n",
       "    <tr>\n",
       "      <th>75%</th>\n",
       "      <td>0.447471</td>\n",
       "      <td>0.458558</td>\n",
       "    </tr>\n",
       "    <tr>\n",
       "      <th>max</th>\n",
       "      <td>0.828664</td>\n",
       "      <td>0.752633</td>\n",
       "    </tr>\n",
       "  </tbody>\n",
       "</table>\n",
       "</div>"
      ],
      "text/plain": [
       "       similarity_2007  similarity_2024\n",
       "count      4539.000000      4539.000000\n",
       "mean          0.382532         0.402487\n",
       "std           0.102174         0.094681\n",
       "min           0.104964        -0.020964\n",
       "25%           0.309238         0.337917\n",
       "50%           0.367312         0.394595\n",
       "75%           0.447471         0.458558\n",
       "max           0.828664         0.752633"
      ]
     },
     "execution_count": 31,
     "metadata": {},
     "output_type": "execute_result"
    }
   ],
   "source": [
    "similarity_2007 = links2007_similarity.groupby('linkSource')['similarity'].mean()\n",
    "similarity_2024 = links2024_similarity.groupby('linkSource')['similarity'].mean()\n",
    "\n",
    "similarities = pd.merge(similarity_2007, similarity_2024, on='linkSource', suffixes=('_2007', '_2024'))\n",
    "similarities.describe()"
   ]
  },
  {
   "cell_type": "code",
   "execution_count": 32,
   "metadata": {},
   "outputs": [
    {
     "data": {
      "image/png": "[encoded data removed]",
      "text/plain": [
       "<Figure size 1000x600 with 2 Axes>"
      ]
     },
     "metadata": {},
     "output_type": "display_data"
    }
   ],
   "source": [
    "plot_similarity_distribution(similarities)"
   ]
  },
  {
   "cell_type": "code",
   "execution_count": 33,
   "metadata": {},
   "outputs": [
    {
     "data": {
      "text/plain": [
       "TtestResult(statistic=-9.651197194678133, pvalue=3.0957433459260986e-22, df=9076.0)"
      ]
     },
     "execution_count": 33,
     "metadata": {},
     "output_type": "execute_result"
    }
   ],
   "source": [
    "ttest_ind(similarities['similarity_2007'], similarities['similarity_2024'], alternative='less')"
   ]
  },
  {
   "cell_type": "markdown",
   "metadata": {},
   "source": [
    "Again, we observe that the distribution of the combined similarity scores of articles in 2024 is slightly higher than in 2007. But is this difference significant? We perform a T-test to compare the two distributions. We choose a significance level of α=5% and we obtain a p-value < 0.05. Thus, that provides very strong evidence that the mean of the distribution of similarities of 2007 is less than the mean of the distribution of similarities of 2024.\n",
    "\n",
    "The evolution of Wikipedia’s structure from 2007 to 2024 has led to an improvement in the similarity between articles. The structure of Wikipedia in 2024 is more coherent and organized than in 2007."
   ]
  }
 ],
 "metadata": {
  "kernelspec": {
   "display_name": "ada",
   "language": "python",
   "name": "python3"
  },
  "language_info": {
   "codemirror_mode": {
    "name": "ipython",
    "version": 3
   },
   "file_extension": ".py",
   "mimetype": "text/x-python",
   "name": "python",
   "nbconvert_exporter": "python",
   "pygments_lexer": "ipython3",
   "version": "3.12.3"
  }
 },
 "nbformat": 4,
 "nbformat_minor": 2
}
