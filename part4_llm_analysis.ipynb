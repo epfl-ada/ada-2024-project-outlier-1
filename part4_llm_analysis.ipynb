{
 "cells": [
  {
   "cell_type": "markdown",
   "metadata": {},
   "source": [
    "## Part 4) Does an LLM perform better on 2007 or 2024 ?"
   ]
  },
  {
   "cell_type": "code",
   "execution_count": 1,
   "metadata": {},
   "outputs": [],
   "source": [
    "# Import librairies\n",
    "import pandas as pd\n",
    "from scipy.stats import ttest_ind\n",
    "\n",
    "from src.utils.llm_plot import *\n",
    "from src.utils.llm_metric import *\n",
    "from src.utils.llm_processing import *\n",
    "\n",
    "import seaborn as sns\n",
    "import matplotlib.pyplot as plt"
   ]
  },
  {
   "cell_type": "code",
   "execution_count": 2,
   "metadata": {},
   "outputs": [],
   "source": [
    "# Define consant\n",
    "DATA = \"data/\""
   ]
  },
  {
   "cell_type": "markdown",
   "metadata": {},
   "source": [
    "Loading players games data on 2007 and LLMs (mistral, llama3) games data for 2007 and 2024"
   ]
  },
  {
   "cell_type": "code",
   "execution_count": 3,
   "metadata": {},
   "outputs": [],
   "source": [
    "# Load data\n",
    "\n",
    "## llama3 8B\n",
    "llama3_2007 = pd.read_csv(DATA + \"llama3/llm_paths.csv\",index_col=['start', 'end'])\n",
    "llama3_2024 = pd.read_csv(DATA + \"llama3/llm_paths2024.csv\",index_col=['start', 'end'])\n",
    "\n",
    "## mistral 7B\n",
    "mistral_2007 = pd.read_csv(DATA + \"mistral/llm_paths.csv\",index_col=['start', 'end'])\n",
    "mistral_2024 = pd.read_csv(DATA + \"mistral/llm_paths2024.csv\",index_col=['start', 'end'])\n",
    "\n",
    "## Player 2007\n",
    "players_2007 = pd.read_csv(DATA + \"wikispeedia_paths-and-graph/paths_finished.tsv\",sep='\\t', comment='#', names=['hashedIpAddress', 'timestamp', 'durationInSec', 'path', 'rating'])"
   ]
  },
  {
   "cell_type": "code",
   "execution_count": 4,
   "metadata": {},
   "outputs": [],
   "source": [
    "players_2007=process_player_path_data(players_2007)"
   ]
  },
  {
   "cell_type": "markdown",
   "metadata": {},
   "source": [
    "### Compare LLMs with the players\n",
    "\n",
    "**Warning** : At the moment we should be critical about the results, because the llms only played each game once. In the future, we will have several games to compare in order to increase the confidence in the results.\n",
    "\n",
    "Goal choose the llm that performs the most similar to the players.\n",
    "\n"
   ]
  },
  {
   "cell_type": "code",
   "execution_count": 5,
   "metadata": {},
   "outputs": [
    {
     "data": {
      "text/plain": [
       "Text(0.5, 1.0, 'Number of paths not found by model and year')"
      ]
     },
     "execution_count": 5,
     "metadata": {},
     "output_type": "execute_result"
    },
    {
     "data": {
      "image/png": "[encoded data removed]",
      "text/plain": [
       "<Figure size 708.375x600 with 1 Axes>"
      ]
     },
     "metadata": {},
     "output_type": "display_data"
    }
   ],
   "source": [
    "## count null paths for all model\n",
    "llama3_2007_null = llama3_2007[\"path\"].isnull().sum()\n",
    "llama3_2024_null = llama3_2024[\"path\"].isnull().sum()\n",
    "mistral_2007_null = mistral_2007[\"path\"].isnull().sum()\n",
    "mistral_2024_null = mistral_2024[\"path\"].isnull().sum()\n",
    "\n",
    "null_paths = pd.DataFrame({ \"model\": [\"llama3\", \"llama3\", \"mistral\", \"mistral\"], \"year\": [2007, 2024, 2007, 2024], \"null_paths\": [llama3_2007_null, llama3_2024_null, mistral_2007_null, mistral_2024_null]})\n",
    "\n",
    "sns.set_theme(style=\"whitegrid\")\n",
    "g = sns.catplot(x=\"year\", y=\"null_paths\", hue=\"model\", data=null_paths, kind=\"bar\", height=6, alpha=.6, palette=\"dark\",errorbar=\"sd\")\n",
    "g.despine(left=True)\n",
    "g.set_axis_labels(\"Year\", \"# of paths not found\")\n",
    "plt.title(\"Number of paths not found by model and year\")"
   ]
  },
  {
   "cell_type": "markdown",
   "metadata": {},
   "source": [
    "Mistral seems to have an harder time finding a path than llama3."
   ]
  },
  {
   "cell_type": "markdown",
   "metadata": {},
   "source": [
    "Data cleaning : removing the games that the llms did not finish and process path given by the llms by removing periodic loops, consecutive duplicates, cut the list to the first occurence of the target word.\n"
   ]
  },
  {
   "cell_type": "code",
   "execution_count": 6,
   "metadata": {},
   "outputs": [],
   "source": [
    "# drop null paths\n",
    "llama3_2007 = llama3_2007.dropna()\n",
    "llama3_2024 = llama3_2024.dropna()\n",
    "mistral_2007 = mistral_2007.dropna()\n",
    "mistral_2024 = mistral_2024.dropna()\n",
    "\n",
    "# transform path str(list) to list\n",
    "llama3_2007[\"path\"] = llama3_2007[\"path\"].apply(lambda x: x[1:-1].replace(\"'\", \"\").replace(\" \", \"\").split(','))\n",
    "llama3_2024[\"path\"] = llama3_2024[\"path\"].apply(lambda x: x[1:-1].replace(\"'\", \"\").replace(\" \", \"\").split(','))\n",
    "mistral_2007[\"path\"] = mistral_2007[\"path\"].apply(lambda x: x[1:-1].replace(\"'\", \"\").replace(\" \", \"\").split(','))\n",
    "mistral_2024[\"path\"] = mistral_2024[\"path\"].apply(lambda x: x[1:-1].replace(\"'\", \"\").replace(\" \", \"\").split(','))"
   ]
  },
  {
   "cell_type": "code",
   "execution_count": 7,
   "metadata": {},
   "outputs": [],
   "source": [
    "# Post processing on paths \n",
    "llama3_2007[\"path\"] = llama3_2007[\"path\"].apply(post_processing)\n",
    "llama3_2024[\"path\"] = llama3_2024[\"path\"].apply(post_processing)\n",
    "mistral_2007[\"path\"] = mistral_2007[\"path\"].apply(post_processing)\n",
    "mistral_2024[\"path\"] = mistral_2024[\"path\"].apply(post_processing)"
   ]
  },
  {
   "cell_type": "code",
   "execution_count": 8,
   "metadata": {},
   "outputs": [],
   "source": [
    "llama3_2007[\"length\"] = llama3_2007[\"path\"].apply(len)\n",
    "llama3_2024[\"length\"] = llama3_2024[\"path\"].apply(len)\n",
    "mistral_2007[\"length\"] = mistral_2007[\"path\"].apply(len)\n",
    "mistral_2024[\"length\"] = mistral_2024[\"path\"].apply(len)"
   ]
  },
  {
   "cell_type": "code",
   "execution_count": 9,
   "metadata": {},
   "outputs": [],
   "source": [
    "# Compute the average length of the path for each model\n",
    "avglen = pd.DataFrame(players_2007[\"length\"].groupby(by=['start', 'end']).agg(['mean', 'std', 'median', 'count']))\n",
    "avglen = pd.merge(avglen, llama3_2007['length'], left_index=True, right_index=True)\n",
    "avglen = avglen.rename(columns={'length':'llama3_2007'})\n",
    "avglen = pd.merge(avglen, llama3_2024['length'], left_index=True, right_index=True)\n",
    "avglen = avglen.rename(columns={'length':'llama3_2024'})\n",
    "avglen = pd.merge(avglen, mistral_2007['length'], left_index=True, right_index=True)\n",
    "avglen = avglen.rename(columns={'length':'mistral_2007'})\n",
    "avglen = pd.merge(avglen, mistral_2024['length'], left_index=True, right_index=True)\n",
    "avglen = avglen.rename(columns={'length':'mistral_2024'})"
   ]
  },
  {
   "cell_type": "code",
   "execution_count": 10,
   "metadata": {},
   "outputs": [],
   "source": [
    "avglen.reset_index(inplace=True)"
   ]
  },
  {
   "cell_type": "code",
   "execution_count": 11,
   "metadata": {},
   "outputs": [
    {
     "name": "stderr",
     "output_type": "stream",
     "text": [
      "/home/jan/dev/ma1/ada/ada-2024-project-outlier-1/src/utils/llm_plot.py:53: FutureWarning:\n",
      "\n",
      "Series.__getitem__ treating keys as positions is deprecated. In a future version, integer keys will always be treated as labels (consistent with DataFrame behavior). To access a value by position, use `ser.iloc[pos]`\n",
      "\n"
     ]
    },
    {
     "data": {
      "application/vnd.plotly.v1+json": {
       "config": {
        "plotlyServerURL": "https://plot.ly"
       },
       "data": [
        {
         "marker": {
          "color": "red",
          "symbol": "x"
         },
         "mode": "markers",
         "name": "llama3_2007 performance",
         "type": "scatter",
         "x": [
          11,
          6,
          4,
          5,
          8,
          3,
          19,
          5,
          3,
          8,
          3,
          6,
          10,
          4,
          4,
          6,
          9,
          8,
          7,
          5,
          3,
          2,
          7,
          14,
          11,
          6,
          6,
          7,
          25,
          7,
          12,
          4,
          11,
          6,
          7,
          3,
          5,
          7,
          10,
          2,
          9,
          21,
          11,
          8,
          4,
          5,
          7,
          3,
          9,
          7,
          6,
          5,
          7,
          6,
          6,
          5,
          3,
          5,
          4,
          8,
          15,
          6,
          14,
          3,
          7,
          5,
          13,
          5,
          7,
          6,
          4,
          4,
          7,
          8,
          7,
          8,
          2,
          4,
          5,
          5,
          5,
          3,
          6,
          8,
          5,
          4,
          14,
          5,
          4,
          11,
          13,
          4,
          4,
          15,
          5,
          4,
          4,
          5,
          4,
          3,
          3,
          7,
          2,
          13,
          6,
          8,
          9,
          4,
          5,
          5,
          11,
          2,
          21,
          8,
          2,
          5,
          3,
          4,
          2,
          7,
          5,
          4,
          8,
          5,
          4,
          8,
          5,
          4,
          6,
          9,
          8,
          165,
          3,
          4,
          4,
          7,
          9,
          6
         ],
         "y": [
          0,
          1,
          2,
          3,
          4,
          5,
          6,
          7,
          8,
          9,
          10,
          11,
          12,
          13,
          14,
          15,
          16,
          17,
          18,
          19,
          20,
          21,
          22,
          23,
          24,
          25,
          26,
          27,
          28,
          29,
          30,
          31,
          32,
          33,
          34,
          35,
          36,
          37,
          38,
          39,
          40,
          41,
          42,
          43,
          44,
          45,
          46,
          47,
          48,
          49,
          50,
          51,
          52,
          53,
          54,
          55,
          56,
          57,
          58,
          59,
          60,
          61,
          62,
          63,
          64,
          65,
          66,
          67,
          68,
          69,
          70,
          71,
          72,
          73,
          74,
          75,
          76,
          77,
          78,
          79,
          80,
          81,
          82,
          83,
          84,
          85,
          86,
          87,
          88,
          89,
          90,
          91,
          92,
          93,
          94,
          95,
          96,
          97,
          98,
          99,
          100,
          101,
          102,
          103,
          104,
          105,
          106,
          107,
          108,
          109,
          110,
          111,
          112,
          113,
          114,
          115,
          116,
          117,
          118,
          119,
          120,
          121,
          122,
          123,
          124,
          125,
          126,
          127,
          128,
          129,
          130,
          131,
          132,
          133,
          134,
          135,
          136,
          137
         ]
        },
        {
         "marker": {
          "color": "green",
          "symbol": "x"
         },
         "mode": "markers",
         "name": "mistral_2007 performance",
         "type": "scatter",
         "x": [
          5,
          7,
          4,
          4,
          13,
          3,
          31,
          5,
          3,
          6,
          3,
          5,
          13,
          6,
          4,
          5,
          7,
          18,
          15,
          7,
          3,
          2,
          10,
          5,
          3,
          11,
          4,
          65,
          10,
          16,
          9,
          6,
          6,
          6,
          6,
          7,
          5,
          7,
          9,
          63,
          13,
          7,
          9,
          6,
          4,
          4,
          5,
          4,
          45,
          5,
          5,
          5,
          6,
          6,
          6,
          8,
          6,
          23,
          12,
          6,
          8,
          5,
          8,
          4,
          4,
          10,
          5,
          4,
          31,
          24,
          6,
          4,
          6,
          8,
          56,
          9,
          2,
          13,
          6,
          4,
          10,
          3,
          8,
          14,
          4,
          4,
          10,
          3,
          5,
          3,
          12,
          5,
          8,
          9,
          7,
          13,
          6,
          10,
          19,
          3,
          3,
          5,
          5,
          31,
          7,
          4,
          6,
          5,
          12,
          7,
          5,
          2,
          14,
          5,
          2,
          12,
          3,
          5,
          2,
          5,
          7,
          6,
          17,
          52,
          7,
          9,
          5,
          9,
          6,
          16,
          7,
          5,
          5,
          5,
          4,
          6,
          7,
          6
         ],
         "y": [
          0,
          1,
          2,
          3,
          4,
          5,
          6,
          7,
          8,
          9,
          10,
          11,
          12,
          13,
          14,
          15,
          16,
          17,
          18,
          19,
          20,
          21,
          22,
          23,
          24,
          25,
          26,
          27,
          28,
          29,
          30,
          31,
          32,
          33,
          34,
          35,
          36,
          37,
          38,
          39,
          40,
          41,
          42,
          43,
          44,
          45,
          46,
          47,
          48,
          49,
          50,
          51,
          52,
          53,
          54,
          55,
          56,
          57,
          58,
          59,
          60,
          61,
          62,
          63,
          64,
          65,
          66,
          67,
          68,
          69,
          70,
          71,
          72,
          73,
          74,
          75,
          76,
          77,
          78,
          79,
          80,
          81,
          82,
          83,
          84,
          85,
          86,
          87,
          88,
          89,
          90,
          91,
          92,
          93,
          94,
          95,
          96,
          97,
          98,
          99,
          100,
          101,
          102,
          103,
          104,
          105,
          106,
          107,
          108,
          109,
          110,
          111,
          112,
          113,
          114,
          115,
          116,
          117,
          118,
          119,
          120,
          121,
          122,
          123,
          124,
          125,
          126,
          127,
          128,
          129,
          130,
          131,
          132,
          133,
          134,
          135,
          136,
          137
         ]
        },
        {
         "error_x": {
          "array": [
           7.260712686640943,
           6.845923361144693,
           4.065637928382935,
           4.4687466889159175,
           8.316467781674884,
           3.393398225253192,
           6.895034588476304,
           4.767410736259792,
           1.2649110640673513,
           10.513204674478306,
           2.056668436445521,
           3.5023801430836525,
           7.061792092877361,
           2.2074254852038093,
           4.468746688915917,
           5.116422361159972,
           9.5248315363363,
           2.3190036174568114,
           3.0110906108363245,
           5.250258792793393,
           0,
           0,
           18.718974330876144,
           5.5256975426938935,
           8.563488385776752,
           5.909714983211601,
           6.0384107606039095,
           2.7326104802922013,
           4.953467684891379,
           5.440107649838381,
           3.328201177351374,
           1.4609542606730224,
           5.797080136363209,
           3.587229718635756,
           1.8877596148970783,
           2.9439202887759484,
           2.870962250261094,
           6.452758730813919,
           7.443993785479732,
           0,
           2.661665062137847,
           5.275043787166296,
           6.826764002627005,
           3.9832674144464266,
           3.459724984691264,
           2.9185136186417115,
           5.101072998057742,
           9.395034149308168,
           5.6672433385927174,
           6.4944420682440285,
           6.458760075725216,
           3.316016848861821,
           4.496463256625347,
           5.793549636561712,
           5.9489895100324555,
           9.17662935482247,
           2.1821789023599236,
           8.804039476916893,
           3.177556623707294,
           7.563432672038614,
           7.230437108447925,
           8.700301034748056,
           2.8596814119369625,
           2.8938329263881064,
           4.1904653679513935,
           5.016336946780625,
           3.015113445777636,
           5.5311306794729225,
           10.892032116935923,
           7.588790653967441,
           8.67304299982695,
           2.7291529568840525,
           4.652778916771315,
           7.442477825998287,
           4.1429019254185055,
           3.832872172524032,
           3.335237551331168,
           3.393594483211498,
           6.4944420682440285,
           4.988876515698588,
           15.503665255791493,
           4.217567875906538,
           6.963933626405075,
           6.599974770786863,
           6.285786435372356,
           3.283798613394758,
           0.554700196225229,
           3.7573457465108966,
           2.287165625174586,
           1.4770978917519935,
           4.881001518559057,
           0,
           3.057103588846995,
           3.1565228279922772,
           6.786796450506386,
           1.6613951721756792,
           5.033222956847167,
           6.425643072011462,
           1.7235394498804255,
           2.503331114069145,
           13.131810402394807,
           2.226324715563845,
           0,
           5.265669257299848,
           5.323520384204962,
           3.0983866769659336,
           3.8239014399199966,
           1.5569978883230458,
           2.7529888064467416,
           3.7955439460179945,
           2.5725827135743993,
           17.344684927610974,
           5.846176338238336,
           3.8455011101128007,
           0,
           5.821589910918588,
           6.095535707019979,
           3.6674990730127592,
           0.5547001962252293,
           13.51632010167372,
           2.669046557070431,
           1.0571882797418486,
           4.825856285561029,
           7.130529043797833,
           3.272783388968954,
           7.860108062358307,
           2.491891612715892,
           3.1565228279922772,
           4.422535870901645,
           19.459982247959765,
           3.1132471299766253,
           7.698924383292689,
           0.7262730392025629,
           3.7729688731351945,
           2.0164161440372537,
           2.9514591494904874,
           5.902918298980974,
           2.2401298663653
          ],
          "type": "data",
          "visible": true
         },
         "marker": {
          "color": "LightSkyBlue",
          "symbol": "circle"
         },
         "mode": "markers",
         "name": "Player mean",
         "opacity": 0.8,
         "type": "scatter",
         "x": [
          7.444444444444445,
          7.625,
          5.411764705882353,
          5.416666666666667,
          9.090909090909092,
          5.166666666666667,
          8.391304347826088,
          6.4,
          4.6,
          7.642857142857143,
          4.333333333333333,
          6.2,
          9.342857142857143,
          4.7272727272727275,
          5.416666666666667,
          6.9,
          9.047619047619047,
          6.3,
          6.4,
          6.25,
          3,
          2,
          10.4,
          6.566666666666666,
          8.833333333333334,
          7.741935483870968,
          7.516778523489933,
          5.787234042553192,
          6.15,
          6.888888888888889,
          4.538461538461538,
          4.478260869565218,
          7.260869565217392,
          5.790697674418604,
          5.909090909090909,
          4.416666666666667,
          5.666666666666667,
          8.533333333333333,
          7.875,
          2,
          5.420168067226891,
          7,
          7.263513513513513,
          5.181818181818182,
          4.916666666666667,
          5.401869158878505,
          5.695652173913044,
          6.733333333333333,
          6.166666666666667,
          8.1,
          7.051973051010587,
          5.65625,
          6.363636363636363,
          8.869565217391305,
          8.380952380952381,
          7,
          4.761904761904762,
          7.6,
          5.296296296296297,
          7.192982456140351,
          8.196428571428571,
          8.066666666666666,
          6.6,
          4.7368421052631575,
          4.84,
          9.090909090909092,
          5.545454545454546,
          6.571428571428571,
          8.75,
          7.6923076923076925,
          8.344827586206897,
          4.827586206896552,
          7.214285714285714,
          8.619047619047619,
          6.909090909090909,
          9.545454545454545,
          3.2666666666666666,
          4.428571428571429,
          8.1,
          6,
          8.909090909090908,
          6.083333333333333,
          7.622641509433962,
          7.25531914893617,
          6.9,
          6.1875,
          6.076923076923077,
          6.529411764705882,
          4.761904761904762,
          4,
          5.428571428571429,
          3,
          5.0588235294117645,
          6.090909090909091,
          8.333333333333334,
          4.631578947368421,
          6.166666666666667,
          9.1,
          5.647058823529412,
          3.7,
          8,
          4.25,
          2,
          8.25,
          6.444444444444445,
          4.6,
          7.9,
          5.333333333333333,
          5.684210526315789,
          6.1923076923076925,
          6.636363636363637,
          5.266666666666667,
          10.9,
          7.333333333333333,
          3,
          8.454545454545455,
          5.2,
          5.857142857142857,
          2.076923076923077,
          10.545454545454545,
          5.933333333333334,
          4.176470588235294,
          6.4,
          6.4,
          5.3,
          8.180967238689547,
          5.466666666666667,
          4.909090909090909,
          8.529411764705882,
          9.454545454545455,
          6.384615384615385,
          7.83646408839779,
          3.142857142857143,
          6.5,
          5.642857142857143,
          7.2,
          9.6,
          7.363636363636363
         ],
         "y": [
          0,
          1,
          2,
          3,
          4,
          5,
          6,
          7,
          8,
          9,
          10,
          11,
          12,
          13,
          14,
          15,
          16,
          17,
          18,
          19,
          20,
          21,
          22,
          23,
          24,
          25,
          26,
          27,
          28,
          29,
          30,
          31,
          32,
          33,
          34,
          35,
          36,
          37,
          38,
          39,
          40,
          41,
          42,
          43,
          44,
          45,
          46,
          47,
          48,
          49,
          50,
          51,
          52,
          53,
          54,
          55,
          56,
          57,
          58,
          59,
          60,
          61,
          62,
          63,
          64,
          65,
          66,
          67,
          68,
          69,
          70,
          71,
          72,
          73,
          74,
          75,
          76,
          77,
          78,
          79,
          80,
          81,
          82,
          83,
          84,
          85,
          86,
          87,
          88,
          89,
          90,
          91,
          92,
          93,
          94,
          95,
          96,
          97,
          98,
          99,
          100,
          101,
          102,
          103,
          104,
          105,
          106,
          107,
          108,
          109,
          110,
          111,
          112,
          113,
          114,
          115,
          116,
          117,
          118,
          119,
          120,
          121,
          122,
          123,
          124,
          125,
          126,
          127,
          128,
          129,
          130,
          131,
          132,
          133,
          134,
          135,
          136,
          137
         ]
        }
       ],
       "layout": {
        "height": 2000,
        "template": {
         "data": {
          "bar": [
           {
            "error_x": {
             "color": "#2a3f5f"
            },
            "error_y": {
             "color": "#2a3f5f"
            },
            "marker": {
             "line": {
              "color": "white",
              "width": 0.5
             },
             "pattern": {
              "fillmode": "overlay",
              "size": 10,
              "solidity": 0.2
             }
            },
            "type": "bar"
           }
          ],
          "barpolar": [
           {
            "marker": {
             "line": {
              "color": "white",
              "width": 0.5
             },
             "pattern": {
              "fillmode": "overlay",
              "size": 10,
              "solidity": 0.2
             }
            },
            "type": "barpolar"
           }
          ],
          "carpet": [
           {
            "aaxis": {
             "endlinecolor": "#2a3f5f",
             "gridcolor": "#C8D4E3",
             "linecolor": "#C8D4E3",
             "minorgridcolor": "#C8D4E3",
             "startlinecolor": "#2a3f5f"
            },
            "baxis": {
             "endlinecolor": "#2a3f5f",
             "gridcolor": "#C8D4E3",
             "linecolor": "#C8D4E3",
             "minorgridcolor": "#C8D4E3",
             "startlinecolor": "#2a3f5f"
            },
            "type": "carpet"
           }
          ],
          "choropleth": [
           {
            "colorbar": {
             "outlinewidth": 0,
             "ticks": ""
            },
            "type": "choropleth"
           }
          ],
          "contour": [
           {
            "colorbar": {
             "outlinewidth": 0,
             "ticks": ""
            },
            "colorscale": [
             [
              0,
              "#0d0887"
             ],
             [
              0.1111111111111111,
              "#46039f"
             ],
             [
              0.2222222222222222,
              "#7201a8"
             ],
             [
              0.3333333333333333,
              "#9c179e"
             ],
             [
              0.4444444444444444,
              "#bd3786"
             ],
             [
              0.5555555555555556,
              "#d8576b"
             ],
             [
              0.6666666666666666,
              "#ed7953"
             ],
             [
              0.7777777777777778,
              "#fb9f3a"
             ],
             [
              0.8888888888888888,
              "#fdca26"
             ],
             [
              1,
              "#f0f921"
             ]
            ],
            "type": "contour"
           }
          ],
          "contourcarpet": [
           {
            "colorbar": {
             "outlinewidth": 0,
             "ticks": ""
            },
            "type": "contourcarpet"
           }
          ],
          "heatmap": [
           {
            "colorbar": {
             "outlinewidth": 0,
             "ticks": ""
            },
            "colorscale": [
             [
              0,
              "#0d0887"
             ],
             [
              0.1111111111111111,
              "#46039f"
             ],
             [
              0.2222222222222222,
              "#7201a8"
             ],
             [
              0.3333333333333333,
              "#9c179e"
             ],
             [
              0.4444444444444444,
              "#bd3786"
             ],
             [
              0.5555555555555556,
              "#d8576b"
             ],
             [
              0.6666666666666666,
              "#ed7953"
             ],
             [
              0.7777777777777778,
              "#fb9f3a"
             ],
             [
              0.8888888888888888,
              "#fdca26"
             ],
             [
              1,
              "#f0f921"
             ]
            ],
            "type": "heatmap"
           }
          ],
          "heatmapgl": [
           {
            "colorbar": {
             "outlinewidth": 0,
             "ticks": ""
            },
            "colorscale": [
             [
              0,
              "#0d0887"
             ],
             [
              0.1111111111111111,
              "#46039f"
             ],
             [
              0.2222222222222222,
              "#7201a8"
             ],
             [
              0.3333333333333333,
              "#9c179e"
             ],
             [
              0.4444444444444444,
              "#bd3786"
             ],
             [
              0.5555555555555556,
              "#d8576b"
             ],
             [
              0.6666666666666666,
              "#ed7953"
             ],
             [
              0.7777777777777778,
              "#fb9f3a"
             ],
             [
              0.8888888888888888,
              "#fdca26"
             ],
             [
              1,
              "#f0f921"
             ]
            ],
            "type": "heatmapgl"
           }
          ],
          "histogram": [
           {
            "marker": {
             "pattern": {
              "fillmode": "overlay",
              "size": 10,
              "solidity": 0.2
             }
            },
            "type": "histogram"
           }
          ],
          "histogram2d": [
           {
            "colorbar": {
             "outlinewidth": 0,
             "ticks": ""
            },
            "colorscale": [
             [
              0,
              "#0d0887"
             ],
             [
              0.1111111111111111,
              "#46039f"
             ],
             [
              0.2222222222222222,
              "#7201a8"
             ],
             [
              0.3333333333333333,
              "#9c179e"
             ],
             [
              0.4444444444444444,
              "#bd3786"
             ],
             [
              0.5555555555555556,
              "#d8576b"
             ],
             [
              0.6666666666666666,
              "#ed7953"
             ],
             [
              0.7777777777777778,
              "#fb9f3a"
             ],
             [
              0.8888888888888888,
              "#fdca26"
             ],
             [
              1,
              "#f0f921"
             ]
            ],
            "type": "histogram2d"
           }
          ],
          "histogram2dcontour": [
           {
            "colorbar": {
             "outlinewidth": 0,
             "ticks": ""
            },
            "colorscale": [
             [
              0,
              "#0d0887"
             ],
             [
              0.1111111111111111,
              "#46039f"
             ],
             [
              0.2222222222222222,
              "#7201a8"
             ],
             [
              0.3333333333333333,
              "#9c179e"
             ],
             [
              0.4444444444444444,
              "#bd3786"
             ],
             [
              0.5555555555555556,
              "#d8576b"
             ],
             [
              0.6666666666666666,
              "#ed7953"
             ],
             [
              0.7777777777777778,
              "#fb9f3a"
             ],
             [
              0.8888888888888888,
              "#fdca26"
             ],
             [
              1,
              "#f0f921"
             ]
            ],
            "type": "histogram2dcontour"
           }
          ],
          "mesh3d": [
           {
            "colorbar": {
             "outlinewidth": 0,
             "ticks": ""
            },
            "type": "mesh3d"
           }
          ],
          "parcoords": [
           {
            "line": {
             "colorbar": {
              "outlinewidth": 0,
              "ticks": ""
             }
            },
            "type": "parcoords"
           }
          ],
          "pie": [
           {
            "automargin": true,
            "type": "pie"
           }
          ],
          "scatter": [
           {
            "fillpattern": {
             "fillmode": "overlay",
             "size": 10,
             "solidity": 0.2
            },
            "type": "scatter"
           }
          ],
          "scatter3d": [
           {
            "line": {
             "colorbar": {
              "outlinewidth": 0,
              "ticks": ""
             }
            },
            "marker": {
             "colorbar": {
              "outlinewidth": 0,
              "ticks": ""
             }
            },
            "type": "scatter3d"
           }
          ],
          "scattercarpet": [
           {
            "marker": {
             "colorbar": {
              "outlinewidth": 0,
              "ticks": ""
             }
            },
            "type": "scattercarpet"
           }
          ],
          "scattergeo": [
           {
            "marker": {
             "colorbar": {
              "outlinewidth": 0,
              "ticks": ""
             }
            },
            "type": "scattergeo"
           }
          ],
          "scattergl": [
           {
            "marker": {
             "colorbar": {
              "outlinewidth": 0,
              "ticks": ""
             }
            },
            "type": "scattergl"
           }
          ],
          "scattermapbox": [
           {
            "marker": {
             "colorbar": {
              "outlinewidth": 0,
              "ticks": ""
             }
            },
            "type": "scattermapbox"
           }
          ],
          "scatterpolar": [
           {
            "marker": {
             "colorbar": {
              "outlinewidth": 0,
              "ticks": ""
             }
            },
            "type": "scatterpolar"
           }
          ],
          "scatterpolargl": [
           {
            "marker": {
             "colorbar": {
              "outlinewidth": 0,
              "ticks": ""
             }
            },
            "type": "scatterpolargl"
           }
          ],
          "scatterternary": [
           {
            "marker": {
             "colorbar": {
              "outlinewidth": 0,
              "ticks": ""
             }
            },
            "type": "scatterternary"
           }
          ],
          "surface": [
           {
            "colorbar": {
             "outlinewidth": 0,
             "ticks": ""
            },
            "colorscale": [
             [
              0,
              "#0d0887"
             ],
             [
              0.1111111111111111,
              "#46039f"
             ],
             [
              0.2222222222222222,
              "#7201a8"
             ],
             [
              0.3333333333333333,
              "#9c179e"
             ],
             [
              0.4444444444444444,
              "#bd3786"
             ],
             [
              0.5555555555555556,
              "#d8576b"
             ],
             [
              0.6666666666666666,
              "#ed7953"
             ],
             [
              0.7777777777777778,
              "#fb9f3a"
             ],
             [
              0.8888888888888888,
              "#fdca26"
             ],
             [
              1,
              "#f0f921"
             ]
            ],
            "type": "surface"
           }
          ],
          "table": [
           {
            "cells": {
             "fill": {
              "color": "#EBF0F8"
             },
             "line": {
              "color": "white"
             }
            },
            "header": {
             "fill": {
              "color": "#C8D4E3"
             },
             "line": {
              "color": "white"
             }
            },
            "type": "table"
           }
          ]
         },
         "layout": {
          "annotationdefaults": {
           "arrowcolor": "#2a3f5f",
           "arrowhead": 0,
           "arrowwidth": 1
          },
          "autotypenumbers": "strict",
          "coloraxis": {
           "colorbar": {
            "outlinewidth": 0,
            "ticks": ""
           }
          },
          "colorscale": {
           "diverging": [
            [
             0,
             "#8e0152"
            ],
            [
             0.1,
             "#c51b7d"
            ],
            [
             0.2,
             "#de77ae"
            ],
            [
             0.3,
             "#f1b6da"
            ],
            [
             0.4,
             "#fde0ef"
            ],
            [
             0.5,
             "#f7f7f7"
            ],
            [
             0.6,
             "#e6f5d0"
            ],
            [
             0.7,
             "#b8e186"
            ],
            [
             0.8,
             "#7fbc41"
            ],
            [
             0.9,
             "#4d9221"
            ],
            [
             1,
             "#276419"
            ]
           ],
           "sequential": [
            [
             0,
             "#0d0887"
            ],
            [
             0.1111111111111111,
             "#46039f"
            ],
            [
             0.2222222222222222,
             "#7201a8"
            ],
            [
             0.3333333333333333,
             "#9c179e"
            ],
            [
             0.4444444444444444,
             "#bd3786"
            ],
            [
             0.5555555555555556,
             "#d8576b"
            ],
            [
             0.6666666666666666,
             "#ed7953"
            ],
            [
             0.7777777777777778,
             "#fb9f3a"
            ],
            [
             0.8888888888888888,
             "#fdca26"
            ],
            [
             1,
             "#f0f921"
            ]
           ],
           "sequentialminus": [
            [
             0,
             "#0d0887"
            ],
            [
             0.1111111111111111,
             "#46039f"
            ],
            [
             0.2222222222222222,
             "#7201a8"
            ],
            [
             0.3333333333333333,
             "#9c179e"
            ],
            [
             0.4444444444444444,
             "#bd3786"
            ],
            [
             0.5555555555555556,
             "#d8576b"
            ],
            [
             0.6666666666666666,
             "#ed7953"
            ],
            [
             0.7777777777777778,
             "#fb9f3a"
            ],
            [
             0.8888888888888888,
             "#fdca26"
            ],
            [
             1,
             "#f0f921"
            ]
           ]
          },
          "colorway": [
           "#636efa",
           "#EF553B",
           "#00cc96",
           "#ab63fa",
           "#FFA15A",
           "#19d3f3",
           "#FF6692",
           "#B6E880",
           "#FF97FF",
           "#FECB52"
          ],
          "font": {
           "color": "#2a3f5f"
          },
          "geo": {
           "bgcolor": "white",
           "lakecolor": "white",
           "landcolor": "white",
           "showlakes": true,
           "showland": true,
           "subunitcolor": "#C8D4E3"
          },
          "hoverlabel": {
           "align": "left"
          },
          "hovermode": "closest",
          "mapbox": {
           "style": "light"
          },
          "paper_bgcolor": "white",
          "plot_bgcolor": "white",
          "polar": {
           "angularaxis": {
            "gridcolor": "#EBF0F8",
            "linecolor": "#EBF0F8",
            "ticks": ""
           },
           "bgcolor": "white",
           "radialaxis": {
            "gridcolor": "#EBF0F8",
            "linecolor": "#EBF0F8",
            "ticks": ""
           }
          },
          "scene": {
           "xaxis": {
            "backgroundcolor": "white",
            "gridcolor": "#DFE8F3",
            "gridwidth": 2,
            "linecolor": "#EBF0F8",
            "showbackground": true,
            "ticks": "",
            "zerolinecolor": "#EBF0F8"
           },
           "yaxis": {
            "backgroundcolor": "white",
            "gridcolor": "#DFE8F3",
            "gridwidth": 2,
            "linecolor": "#EBF0F8",
            "showbackground": true,
            "ticks": "",
            "zerolinecolor": "#EBF0F8"
           },
           "zaxis": {
            "backgroundcolor": "white",
            "gridcolor": "#DFE8F3",
            "gridwidth": 2,
            "linecolor": "#EBF0F8",
            "showbackground": true,
            "ticks": "",
            "zerolinecolor": "#EBF0F8"
           }
          },
          "shapedefaults": {
           "line": {
            "color": "#2a3f5f"
           }
          },
          "ternary": {
           "aaxis": {
            "gridcolor": "#DFE8F3",
            "linecolor": "#A2B1C6",
            "ticks": ""
           },
           "baxis": {
            "gridcolor": "#DFE8F3",
            "linecolor": "#A2B1C6",
            "ticks": ""
           },
           "bgcolor": "white",
           "caxis": {
            "gridcolor": "#DFE8F3",
            "linecolor": "#A2B1C6",
            "ticks": ""
           }
          },
          "title": {
           "x": 0.05
          },
          "xaxis": {
           "automargin": true,
           "gridcolor": "#EBF0F8",
           "linecolor": "#EBF0F8",
           "ticks": "",
           "title": {
            "standoff": 15
           },
           "zerolinecolor": "#EBF0F8",
           "zerolinewidth": 2
          },
          "yaxis": {
           "automargin": true,
           "gridcolor": "#EBF0F8",
           "linecolor": "#EBF0F8",
           "ticks": "",
           "title": {
            "standoff": 15
           },
           "zerolinecolor": "#EBF0F8",
           "zerolinewidth": 2
          }
         }
        },
        "title": {
         "text": "Average path length",
         "x": 0.5
        },
        "width": 1000,
        "xaxis": {
         "title": {
          "text": "Length"
         }
        },
        "yaxis": {
         "tickmode": "array",
         "ticktext": [
          "14th_century -> Rainbow",
          "15th_century -> Windows_Vista",
          "AIDS -> Jesus",
          "AT%26T -> Vegetable",
          "Acceleration -> Mozilla_Firefox",
          "Achilles -> Winston_Churchill",
          "Achilles_tendon -> Ivory",
          "Achilles_tendon -> Ocean",
          "Adolf_Hitler -> Jesus",
          "Africa -> Differential_equation",
          "Africa -> England",
          "Age_of_Enlightenment -> Kazakhstan",
          "Aircraft -> Google",
          "Aircraft -> Solar_eclipse",
          "Aircraft -> Yugoslavia",
          "Alpaca -> Nuclear_fission",
          "Aluminium_chloride -> Parrot",
          "American_Civil_War -> Kuwait_City",
          "Anaconda -> Agnosticism",
          "Antlion -> Hip_hop_music",
          "Apple -> Banana",
          "Apple -> Fruit",
          "Archbishop_of_Canterbury -> Neil_Armstrong",
          "Archbishop_of_Canterbury -> Vietnam",
          "Arnold_Schwarzenegger -> Vegetable",
          "Art -> Mango",
          "Asteroid -> Viking",
          "Automobile -> Pluto",
          "Automobile -> Windows_XP",
          "Bamako -> Sun",
          "Bangladesh -> Harry_S._Truman",
          "Batman -> Albert_Einstein",
          "Batman -> Banana",
          "Batman -> Bible",
          "Batman -> Bill_Clinton",
          "Batman -> Japan",
          "Batman -> Jesus",
          "Batman -> Peanut",
          "Batman -> Penguin",
          "Batman -> Superman",
          "Batman -> The_Holocaust",
          "Batman -> Vitamin_D",
          "Batman -> Wood",
          "Beer -> Sun",
          "Beer -> Warsaw",
          "Bird -> Adolf_Hitler",
          "Bird -> Great_white_shark",
          "Bird -> Thomas_Jefferson",
          "Bird_migration -> Hubble_Space_Telescope",
          "Brain -> DVD",
          "Brain -> Telephone",
          "Brazil -> Hydrogen",
          "Brazil -> Vitamin",
          "Brothers_Grimm -> Windows_Vista",
          "Calculus -> Lemon",
          "Calculus -> Paul_McCartney",
          "California -> Adolf_Hitler",
          "Canada -> Pony",
          "Cat -> Adolf_Hitler",
          "Cat -> Computer",
          "Cat -> Microsoft",
          "Chemistry -> Fidel_Castro",
          "Chemistry -> George_H._W._Bush",
          "China -> Afghanistan",
          "China -> Moon",
          "Chocolate -> Velociraptor",
          "Citrus -> Desert",
          "Citrus -> Physics",
          "Colombia -> Meat",
          "Computer -> Baseball",
          "Computer -> Fruit",
          "Computer -> Russia",
          "Computer -> Whale",
          "Computer_programming -> Fresh_water",
          "Continent -> Gorilla",
          "David_Beckham -> Great_white_shark",
          "Dinosaur -> China",
          "Dinosaur -> George_W._Bush",
          "Dodo -> Film",
          "Dog -> Beer",
          "Dog -> Elementary_algebra",
          "Dog -> Sea",
          "Dog -> Telephone",
          "Dog -> Venus",
          "Earless_seal -> Citrus",
          "Earth -> Odysseus",
          "Electricity -> Anne_Frank",
          "Electricity -> God",
          "England -> God",
          "England -> Japan",
          "England -> Train",
          "Famine -> Arctic",
          "Flower -> Adolf_Hitler",
          "Flower -> George_H._W._Bush",
          "Fourteenth_Amendment_to_the_United_States_Constitution -> Reptile",
          "God -> Adolf_Hitler",
          "Google -> God",
          "Gregorian_chant -> Inductance",
          "Human -> Pluto",
          "Hydrogen -> Gold",
          "James_Bond -> Human_rights",
          "Jesus -> Adolf_Hitler",
          "Jesus -> God",
          "Jesus -> Google",
          "Jew -> Telephone",
          "John_Dee -> China",
          "Judaism -> Flute",
          "Linguistics -> Rome",
          "Linux -> Adolf_Hitler",
          "Manchester -> Water",
          "Mario -> God",
          "Mario -> Nintendo",
          "Mathematics -> Juice",
          "Metal -> Prague",
          "Moon -> Mars",
          "Mormon -> Ice",
          "Necktie -> Lion",
          "Nintendo -> Snow",
          "North_America -> Canada",
          "Ocean -> Love",
          "Pikachu -> Jesus",
          "Pikachu -> Sun",
          "Planet -> Nuclear_power",
          "Pluto -> Wall_Street",
          "Pyramid -> Adolf_Hitler",
          "Pyramid -> Bean",
          "Reptile -> Jesus",
          "Seed -> New_York_City",
          "Smog -> Toy_Story",
          "Solar_System -> Babe_Ruth",
          "The_Godfather -> Neptune",
          "Theatre -> Zebra",
          "United_States -> English_language",
          "Video -> China",
          "Volcano -> Alphabet",
          "Wasp -> United_Arab_Emirates",
          "Weasel -> Barium",
          "Weed -> Jesus"
         ],
         "tickvals": [
          0,
          1,
          2,
          3,
          4,
          5,
          6,
          7,
          8,
          9,
          10,
          11,
          12,
          13,
          14,
          15,
          16,
          17,
          18,
          19,
          20,
          21,
          22,
          23,
          24,
          25,
          26,
          27,
          28,
          29,
          30,
          31,
          32,
          33,
          34,
          35,
          36,
          37,
          38,
          39,
          40,
          41,
          42,
          43,
          44,
          45,
          46,
          47,
          48,
          49,
          50,
          51,
          52,
          53,
          54,
          55,
          56,
          57,
          58,
          59,
          60,
          61,
          62,
          63,
          64,
          65,
          66,
          67,
          68,
          69,
          70,
          71,
          72,
          73,
          74,
          75,
          76,
          77,
          78,
          79,
          80,
          81,
          82,
          83,
          84,
          85,
          86,
          87,
          88,
          89,
          90,
          91,
          92,
          93,
          94,
          95,
          96,
          97,
          98,
          99,
          100,
          101,
          102,
          103,
          104,
          105,
          106,
          107,
          108,
          109,
          110,
          111,
          112,
          113,
          114,
          115,
          116,
          117,
          118,
          119,
          120,
          121,
          122,
          123,
          124,
          125,
          126,
          127,
          128,
          129,
          130,
          131,
          132,
          133,
          134,
          135,
          136,
          137
         ],
         "title": {
          "text": "Source -> Target"
         }
        }
       }
      }
     },
     "metadata": {},
     "output_type": "display_data"
    }
   ],
   "source": [
    "generate_performance_scatter(avglen)"
   ]
  },
  {
   "cell_type": "code",
   "execution_count": 12,
   "metadata": {},
   "outputs": [
    {
     "name": "stdout",
     "output_type": "stream",
     "text": [
      "Number of LLM games in CI from player games: 66.66666666666666%\n",
      "Number of Mistral games in CI from player games: 59.42028985507246%\n"
     ]
    },
    {
     "data": {
      "text/plain": [
       "Text(0.5, 1.0, 'Percentage of games in CI from player games')"
      ]
     },
     "execution_count": 12,
     "metadata": {},
     "output_type": "execute_result"
    },
    {
     "data": {
      "image/png": "[encoded data removed]",
      "text/plain": [
       "<Figure size 600x600 with 1 Axes>"
      ]
     },
     "metadata": {},
     "output_type": "display_data"
    }
   ],
   "source": [
    "avglen['llama3_2007_in_CI'] = avglen.apply(lambda x: check_if_in_CI(x,'llama3_2007'), axis=1)\n",
    "avglen[\"mistral_2007_in_CI\"] = avglen.apply(lambda x: check_if_in_CI(x,'mistral_2007'), axis=1)\n",
    "print(f'Number of LLM games in CI from player games: {avglen.llama3_2007_in_CI.mean()*100}%')\n",
    "print(f'Number of Mistral games in CI from player games: {avglen.mistral_2007_in_CI.mean()*100}%')\n",
    "\n",
    "# plot the number of games in CI\n",
    "\n",
    "tmp_llama3 = avglen[\"llama3_2007_in_CI\"].rename(\"in_CI\").to_frame()\n",
    "tmp_llama3[\"model\"] = \"llama3\"\n",
    "tmp_mistral = avglen[\"mistral_2007_in_CI\"].rename(\"in_CI\").to_frame()\n",
    "tmp_mistral[\"model\"] = \"mistral\"\n",
    "\n",
    "ci_model = pd.concat([tmp_llama3, tmp_mistral])\n",
    "\n",
    "sns.set_theme(style=\"whitegrid\")\n",
    "g = sns.catplot(x=\"model\", y=\"in_CI\", hue=\"model\", data=ci_model, kind=\"bar\", height=6, alpha=.6,errorbar=\"sd\")\n",
    "g.despine(left=True)\n",
    "g.set_axis_labels(\"Model\", \"Percentage of games in CI\")\n",
    "plt.title(\"Percentage of games in CI from player games\")"
   ]
  },
  {
   "cell_type": "code",
   "execution_count": 13,
   "metadata": {},
   "outputs": [
    {
     "name": "stdout",
     "output_type": "stream",
     "text": [
      "Jaccard similarity between player and llama3 2007: 0.27016937576944144\n",
      "Jaccard similarity between player and mistral 2007: 0.32329015886677054\n"
     ]
    },
    {
     "data": {
      "text/plain": [
       "Text(0.5, 1.0, 'Jaccard similarity between player and model')"
      ]
     },
     "execution_count": 13,
     "metadata": {},
     "output_type": "execute_result"
    },
    {
     "data": {
      "image/png": "[encoded data removed]",
      "text/plain": [
       "<Figure size 600x600 with 1 Axes>"
      ]
     },
     "metadata": {},
     "output_type": "display_data"
    }
   ],
   "source": [
    "# compute jaccard similarity between player and model\n",
    "players_2007 = players_2007[\"path\"].apply(fix_path) # fix path for player by removing '<'\n",
    "jaccard_llama3 = pd.merge(players_2007, llama3_2007, on=['start', 'end'], suffixes=('_x', '_y'))\n",
    "jaccard_llama3['jaccard'] = jaccard_llama3.apply(jaccard_similarity, axis=1)\n",
    "print(f'Jaccard similarity between player and llama3 2007: {jaccard_llama3[\"jaccard\"].mean()}')\n",
    "\n",
    "jaccard_mistral = pd.merge(players_2007, mistral_2007, on=['start', 'end'], suffixes=('_x', '_y'))\n",
    "jaccard_mistral['jaccard'] = jaccard_mistral.apply(jaccard_similarity, axis=1)\n",
    "print(f'Jaccard similarity between player and mistral 2007: {jaccard_mistral[\"jaccard\"].mean()}')\n",
    "\n",
    "jaccard_llama3[\"LLM\"] = \"llama3\"\n",
    "jaccard_mistral[\"LLM\"] = \"mistral\"\n",
    "\n",
    "jaccard = pd.concat([jaccard_llama3, jaccard_mistral])\n",
    "sns.set_theme(style=\"whitegrid\")\n",
    "g = sns.catplot(x=\"LLM\", y=\"jaccard\", hue=\"LLM\", data=jaccard, kind=\"bar\", height=6, alpha=.6,errorbar=\"sd\")\n",
    "plt.title(\"Jaccard similarity between player and model\")"
   ]
  },
  {
   "cell_type": "code",
   "execution_count": 14,
   "metadata": {},
   "outputs": [
    {
     "name": "stdout",
     "output_type": "stream",
     "text": [
      "T-Test between player and llama3 2007: TtestResult(statistic=1.1748021910869217, pvalue=0.24109380717803772, df=274.0)\n",
      "T-Test between player and mistral 2007: TtestResult(statistic=3.2286406525332207, pvalue=0.0013952013335809983, df=274.0)\n"
     ]
    }
   ],
   "source": [
    "# T-Test Compare the means of path lengths (human vs. model)\n",
    "ttest_llama3 = ttest_ind(avglen['llama3_2007'], avglen['mean'])\n",
    "ttest_mistral = ttest_ind(avglen['mistral_2007'], avglen['mean'])\n",
    "print(f'T-Test between player and llama3 2007: {ttest_llama3}')\n",
    "print(f'T-Test between player and mistral 2007: {ttest_mistral}')"
   ]
  },
  {
   "cell_type": "markdown",
   "metadata": {},
   "source": [
    "### Compare the results of the LLMs on 2007 and 2024\n",
    "\n",
    "**Warning** : At the moment we should be critical about the results, because the llms only played each game once. In the future, we will have several games to compare in order to increase the confidence in the results.\n",
    "\n"
   ]
  },
  {
   "cell_type": "code",
   "execution_count": 15,
   "metadata": {},
   "outputs": [
    {
     "data": {
      "image/png": "[encoded data removed]",
      "text/plain": [
       "<Figure size 1000x500 with 1 Axes>"
      ]
     },
     "metadata": {},
     "output_type": "display_data"
    }
   ],
   "source": [
    "# plot path length distribution of llama3 2007 and 2024\n",
    "plot_path_length_distribution(avglen, 'llama3',log_scale=True)"
   ]
  },
  {
   "cell_type": "code",
   "execution_count": 16,
   "metadata": {},
   "outputs": [
    {
     "data": {
      "image/png": "[encoded data removed]",
      "text/plain": [
       "<Figure size 1000x500 with 1 Axes>"
      ]
     },
     "metadata": {},
     "output_type": "display_data"
    }
   ],
   "source": [
    "plot_path_length_distribution(avglen, 'mistral',log_scale=True)"
   ]
  }
 ],
 "metadata": {
  "kernelspec": {
   "display_name": "ada",
   "language": "python",
   "name": "python3"
  },
  "language_info": {
   "codemirror_mode": {
    "name": "ipython",
    "version": 3
   },
   "file_extension": ".py",
   "mimetype": "text/x-python",
   "name": "python",
   "nbconvert_exporter": "python",
   "pygments_lexer": "ipython3",
   "version": "3.11.9"
  }
 },
 "nbformat": 4,
 "nbformat_minor": 2
}
