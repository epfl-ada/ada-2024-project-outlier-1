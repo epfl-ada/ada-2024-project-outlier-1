{
 "cells": [
  {
   "cell_type": "markdown",
   "metadata": {},
   "source": [
    "# Data exploration - Wikispeedia"
   ]
  },
  {
   "cell_type": "markdown",
   "metadata": {},
   "source": [
    "## Import"
   ]
  },
  {
   "cell_type": "code",
   "execution_count": 1,
   "metadata": {},
   "outputs": [],
   "source": [
    "import pandas as pd\n",
    "import numpy as np\n",
    "\n",
    "import networkx as nx\n",
    "import matplotlib.pyplot as plt\n",
    "\n",
    "import os\n",
    "import random "
   ]
  },
  {
   "cell_type": "markdown",
   "metadata": {},
   "source": [
    "## Load data"
   ]
  },
  {
   "cell_type": "markdown",
   "metadata": {},
   "source": [
    "### Load tsv files"
   ]
  },
  {
   "cell_type": "code",
   "execution_count": 2,
   "metadata": {},
   "outputs": [
    {
     "name": "stdout",
     "output_type": "stream",
     "text": [
      "articles: 4604\n",
      "categories: 5204\n",
      "links: 119882\n",
      "path_finished: 51318\n",
      "path_unfinished: 24875\n"
     ]
    }
   ],
   "source": [
    "DATA_PATH = 'data/wikispeedia_paths-and-graph/'\n",
    "\n",
    "# load tsv files into pandas dataframes\n",
    "articles = pd.read_csv(os.path.join(DATA_PATH, 'articles.tsv'), sep='\\t', comment='#', names=['article'])\n",
    "categories = pd.read_csv(os.path.join(DATA_PATH, 'categories.tsv'), sep='\\t', comment='#', names=['article', 'category'])\n",
    "links = pd.read_csv(os.path.join(DATA_PATH, 'links.tsv'), sep='\\t', comment='#', names=['linkSource', 'linkTarget'])\n",
    "path_finished = pd.read_csv(os.path.join(DATA_PATH, 'paths_finished.tsv'), sep='\\t', comment='#', names=['hashedIpAddress', 'timestamp', 'durationInSec', 'path', 'rating'])\n",
    "path_unfinished = pd.read_csv(os.path.join(DATA_PATH, 'paths_unfinished.tsv'), sep='\\t', comment='#', names=['hashedIpAddress', 'timestamp', 'durationInSec', 'path', 'target', 'type'])\n",
    "\n",
    "# print lengths of dataframes\n",
    "print('articles:', len(articles))\n",
    "print('categories:', len(categories))\n",
    "print('links:', len(links))\n",
    "print('path_finished:', len(path_finished))\n",
    "print('path_unfinished:', len(path_unfinished))"
   ]
  },
  {
   "cell_type": "code",
   "execution_count": 3,
   "metadata": {},
   "outputs": [
    {
     "data": {
      "text/html": [
       "<div>\n",
       "<style scoped>\n",
       "    .dataframe tbody tr th:only-of-type {\n",
       "        vertical-align: middle;\n",
       "    }\n",
       "\n",
       "    .dataframe tbody tr th {\n",
       "        vertical-align: top;\n",
       "    }\n",
       "\n",
       "    .dataframe thead th {\n",
       "        text-align: right;\n",
       "    }\n",
       "</style>\n",
       "<table border=\"1\" class=\"dataframe\">\n",
       "  <thead>\n",
       "    <tr style=\"text-align: right;\">\n",
       "      <th></th>\n",
       "      <th>article</th>\n",
       "    </tr>\n",
       "  </thead>\n",
       "  <tbody>\n",
       "    <tr>\n",
       "      <th>2181</th>\n",
       "      <td>Italian_War_of_1521</td>\n",
       "    </tr>\n",
       "    <tr>\n",
       "      <th>238</th>\n",
       "      <td>Anarcho-capitalism</td>\n",
       "    </tr>\n",
       "    <tr>\n",
       "      <th>3430</th>\n",
       "      <td>Rama</td>\n",
       "    </tr>\n",
       "    <tr>\n",
       "      <th>157</th>\n",
       "      <td>Akhenaten</td>\n",
       "    </tr>\n",
       "    <tr>\n",
       "      <th>3711</th>\n",
       "      <td>Sheikh_Mujibur_Rahman</td>\n",
       "    </tr>\n",
       "  </tbody>\n",
       "</table>\n",
       "</div>"
      ],
      "text/plain": [
       "                    article\n",
       "2181    Italian_War_of_1521\n",
       "238      Anarcho-capitalism\n",
       "3430                   Rama\n",
       "157               Akhenaten\n",
       "3711  Sheikh_Mujibur_Rahman"
      ]
     },
     "execution_count": 3,
     "metadata": {},
     "output_type": "execute_result"
    }
   ],
   "source": [
    "articles.sample(n=5)"
   ]
  },
  {
   "cell_type": "code",
   "execution_count": 4,
   "metadata": {},
   "outputs": [
    {
     "data": {
      "text/html": [
       "<div>\n",
       "<style scoped>\n",
       "    .dataframe tbody tr th:only-of-type {\n",
       "        vertical-align: middle;\n",
       "    }\n",
       "\n",
       "    .dataframe tbody tr th {\n",
       "        vertical-align: top;\n",
       "    }\n",
       "\n",
       "    .dataframe thead th {\n",
       "        text-align: right;\n",
       "    }\n",
       "</style>\n",
       "<table border=\"1\" class=\"dataframe\">\n",
       "  <thead>\n",
       "    <tr style=\"text-align: right;\">\n",
       "      <th></th>\n",
       "      <th>article</th>\n",
       "      <th>category</th>\n",
       "    </tr>\n",
       "  </thead>\n",
       "  <tbody>\n",
       "    <tr>\n",
       "      <th>2150</th>\n",
       "      <td>Henry_II_of_England</td>\n",
       "      <td>subject.History.British_History.British_Histor...</td>\n",
       "    </tr>\n",
       "    <tr>\n",
       "      <th>619</th>\n",
       "      <td>Benjamin_Disraeli%2C_1st_Earl_of_Beaconsfield</td>\n",
       "      <td>subject.People.Political_People</td>\n",
       "    </tr>\n",
       "    <tr>\n",
       "      <th>4591</th>\n",
       "      <td>The_Lion_King</td>\n",
       "      <td>subject.Everyday_life.Films</td>\n",
       "    </tr>\n",
       "    <tr>\n",
       "      <th>5042</th>\n",
       "      <td>Whale_song</td>\n",
       "      <td>subject.Science.Biology.Mammals</td>\n",
       "    </tr>\n",
       "    <tr>\n",
       "      <th>1325</th>\n",
       "      <td>Demosthenes</td>\n",
       "      <td>subject.People.Historical_figures</td>\n",
       "    </tr>\n",
       "  </tbody>\n",
       "</table>\n",
       "</div>"
      ],
      "text/plain": [
       "                                            article   \n",
       "2150                            Henry_II_of_England  \\\n",
       "619   Benjamin_Disraeli%2C_1st_Earl_of_Beaconsfield   \n",
       "4591                                  The_Lion_King   \n",
       "5042                                     Whale_song   \n",
       "1325                                    Demosthenes   \n",
       "\n",
       "                                               category  \n",
       "2150  subject.History.British_History.British_Histor...  \n",
       "619                     subject.People.Political_People  \n",
       "4591                        subject.Everyday_life.Films  \n",
       "5042                    subject.Science.Biology.Mammals  \n",
       "1325                  subject.People.Historical_figures  "
      ]
     },
     "execution_count": 4,
     "metadata": {},
     "output_type": "execute_result"
    }
   ],
   "source": [
    "categories.sample(n=5)"
   ]
  },
  {
   "cell_type": "code",
   "execution_count": 5,
   "metadata": {},
   "outputs": [
    {
     "data": {
      "text/html": [
       "<div>\n",
       "<style scoped>\n",
       "    .dataframe tbody tr th:only-of-type {\n",
       "        vertical-align: middle;\n",
       "    }\n",
       "\n",
       "    .dataframe tbody tr th {\n",
       "        vertical-align: top;\n",
       "    }\n",
       "\n",
       "    .dataframe thead th {\n",
       "        text-align: right;\n",
       "    }\n",
       "</style>\n",
       "<table border=\"1\" class=\"dataframe\">\n",
       "  <thead>\n",
       "    <tr style=\"text-align: right;\">\n",
       "      <th></th>\n",
       "      <th>linkSource</th>\n",
       "      <th>linkTarget</th>\n",
       "    </tr>\n",
       "  </thead>\n",
       "  <tbody>\n",
       "    <tr>\n",
       "      <th>67197</th>\n",
       "      <td>Los_Angeles%2C_California</td>\n",
       "      <td>Indonesia</td>\n",
       "    </tr>\n",
       "    <tr>\n",
       "      <th>46061</th>\n",
       "      <td>Great_Black-backed_Gull</td>\n",
       "      <td>Europe</td>\n",
       "    </tr>\n",
       "    <tr>\n",
       "      <th>29822</th>\n",
       "      <td>Decade_Volcanoes</td>\n",
       "      <td>Volcano</td>\n",
       "    </tr>\n",
       "    <tr>\n",
       "      <th>106723</th>\n",
       "      <td>The_Famous_Five_%28characters%29</td>\n",
       "      <td>Nazi_Germany</td>\n",
       "    </tr>\n",
       "    <tr>\n",
       "      <th>56665</th>\n",
       "      <td>Isle_of_Man</td>\n",
       "      <td>Latin</td>\n",
       "    </tr>\n",
       "  </tbody>\n",
       "</table>\n",
       "</div>"
      ],
      "text/plain": [
       "                              linkSource    linkTarget\n",
       "67197          Los_Angeles%2C_California     Indonesia\n",
       "46061            Great_Black-backed_Gull        Europe\n",
       "29822                   Decade_Volcanoes       Volcano\n",
       "106723  The_Famous_Five_%28characters%29  Nazi_Germany\n",
       "56665                        Isle_of_Man         Latin"
      ]
     },
     "execution_count": 5,
     "metadata": {},
     "output_type": "execute_result"
    }
   ],
   "source": [
    "links.sample(n=5)"
   ]
  },
  {
   "cell_type": "code",
   "execution_count": 6,
   "metadata": {},
   "outputs": [
    {
     "data": {
      "text/html": [
       "<div>\n",
       "<style scoped>\n",
       "    .dataframe tbody tr th:only-of-type {\n",
       "        vertical-align: middle;\n",
       "    }\n",
       "\n",
       "    .dataframe tbody tr th {\n",
       "        vertical-align: top;\n",
       "    }\n",
       "\n",
       "    .dataframe thead th {\n",
       "        text-align: right;\n",
       "    }\n",
       "</style>\n",
       "<table border=\"1\" class=\"dataframe\">\n",
       "  <thead>\n",
       "    <tr style=\"text-align: right;\">\n",
       "      <th></th>\n",
       "      <th>hashedIpAddress</th>\n",
       "      <th>timestamp</th>\n",
       "      <th>durationInSec</th>\n",
       "      <th>path</th>\n",
       "      <th>rating</th>\n",
       "    </tr>\n",
       "  </thead>\n",
       "  <tbody>\n",
       "    <tr>\n",
       "      <th>6381</th>\n",
       "      <td>3804c89b7c37debb</td>\n",
       "      <td>1362173987</td>\n",
       "      <td>173</td>\n",
       "      <td>Music;Aesthetics;Architecture;Industrial_Revol...</td>\n",
       "      <td>NaN</td>\n",
       "    </tr>\n",
       "    <tr>\n",
       "      <th>12277</th>\n",
       "      <td>656628c22d882e9e</td>\n",
       "      <td>1300878009</td>\n",
       "      <td>72</td>\n",
       "      <td>Asteroid;Earth;Europe;Ireland;Viking</td>\n",
       "      <td>NaN</td>\n",
       "    </tr>\n",
       "    <tr>\n",
       "      <th>43247</th>\n",
       "      <td>654fc5e419e5c364</td>\n",
       "      <td>1269958631</td>\n",
       "      <td>93</td>\n",
       "      <td>Miranda_Otto;William_Shakespeare;England;Histo...</td>\n",
       "      <td>3.0</td>\n",
       "    </tr>\n",
       "    <tr>\n",
       "      <th>33833</th>\n",
       "      <td>319fa3ca523412a2</td>\n",
       "      <td>1299421305</td>\n",
       "      <td>315</td>\n",
       "      <td>Aberration_of_light;Galileo_Galilei;Pope_John_...</td>\n",
       "      <td>3.0</td>\n",
       "    </tr>\n",
       "    <tr>\n",
       "      <th>10664</th>\n",
       "      <td>3dd9b0b529a98b0d</td>\n",
       "      <td>1259882688</td>\n",
       "      <td>152</td>\n",
       "      <td>Dubai;People%27s_Republic_of_China;China;Chine...</td>\n",
       "      <td>NaN</td>\n",
       "    </tr>\n",
       "  </tbody>\n",
       "</table>\n",
       "</div>"
      ],
      "text/plain": [
       "        hashedIpAddress   timestamp  durationInSec   \n",
       "6381   3804c89b7c37debb  1362173987            173  \\\n",
       "12277  656628c22d882e9e  1300878009             72   \n",
       "43247  654fc5e419e5c364  1269958631             93   \n",
       "33833  319fa3ca523412a2  1299421305            315   \n",
       "10664  3dd9b0b529a98b0d  1259882688            152   \n",
       "\n",
       "                                                    path  rating  \n",
       "6381   Music;Aesthetics;Architecture;Industrial_Revol...     NaN  \n",
       "12277               Asteroid;Earth;Europe;Ireland;Viking     NaN  \n",
       "43247  Miranda_Otto;William_Shakespeare;England;Histo...     3.0  \n",
       "33833  Aberration_of_light;Galileo_Galilei;Pope_John_...     3.0  \n",
       "10664  Dubai;People%27s_Republic_of_China;China;Chine...     NaN  "
      ]
     },
     "execution_count": 6,
     "metadata": {},
     "output_type": "execute_result"
    }
   ],
   "source": [
    "path_finished.sample(n=5)"
   ]
  },
  {
   "cell_type": "code",
   "execution_count": 7,
   "metadata": {},
   "outputs": [
    {
     "data": {
      "text/html": [
       "<div>\n",
       "<style scoped>\n",
       "    .dataframe tbody tr th:only-of-type {\n",
       "        vertical-align: middle;\n",
       "    }\n",
       "\n",
       "    .dataframe tbody tr th {\n",
       "        vertical-align: top;\n",
       "    }\n",
       "\n",
       "    .dataframe thead th {\n",
       "        text-align: right;\n",
       "    }\n",
       "</style>\n",
       "<table border=\"1\" class=\"dataframe\">\n",
       "  <thead>\n",
       "    <tr style=\"text-align: right;\">\n",
       "      <th></th>\n",
       "      <th>hashedIpAddress</th>\n",
       "      <th>timestamp</th>\n",
       "      <th>durationInSec</th>\n",
       "      <th>path</th>\n",
       "      <th>target</th>\n",
       "      <th>type</th>\n",
       "    </tr>\n",
       "  </thead>\n",
       "  <tbody>\n",
       "    <tr>\n",
       "      <th>19820</th>\n",
       "      <td>33910ec31fee594d</td>\n",
       "      <td>1371418725</td>\n",
       "      <td>31</td>\n",
       "      <td>Sun</td>\n",
       "      <td>Moon</td>\n",
       "      <td>restart</td>\n",
       "    </tr>\n",
       "    <tr>\n",
       "      <th>9156</th>\n",
       "      <td>1fcfb9191ca1b595</td>\n",
       "      <td>1340232566</td>\n",
       "      <td>85</td>\n",
       "      <td>Go_%28board_game%29;Board_game;Game;Computer;I...</td>\n",
       "      <td>Medal_of_Honor</td>\n",
       "      <td>restart</td>\n",
       "    </tr>\n",
       "    <tr>\n",
       "      <th>17168</th>\n",
       "      <td>3804c89b7c37debb</td>\n",
       "      <td>1361462164</td>\n",
       "      <td>1806</td>\n",
       "      <td>Mass_media</td>\n",
       "      <td>George_Washington</td>\n",
       "      <td>timeout</td>\n",
       "    </tr>\n",
       "    <tr>\n",
       "      <th>7300</th>\n",
       "      <td>1435204c44915446</td>\n",
       "      <td>1328054932</td>\n",
       "      <td>145</td>\n",
       "      <td>Zeus;Religion;Judaism;Olive_oil</td>\n",
       "      <td>Humus</td>\n",
       "      <td>restart</td>\n",
       "    </tr>\n",
       "    <tr>\n",
       "      <th>23598</th>\n",
       "      <td>282a310d5b141fd2</td>\n",
       "      <td>1385064844</td>\n",
       "      <td>19</td>\n",
       "      <td>Eyelid</td>\n",
       "      <td>ITunes</td>\n",
       "      <td>restart</td>\n",
       "    </tr>\n",
       "  </tbody>\n",
       "</table>\n",
       "</div>"
      ],
      "text/plain": [
       "        hashedIpAddress   timestamp  durationInSec   \n",
       "19820  33910ec31fee594d  1371418725             31  \\\n",
       "9156   1fcfb9191ca1b595  1340232566             85   \n",
       "17168  3804c89b7c37debb  1361462164           1806   \n",
       "7300   1435204c44915446  1328054932            145   \n",
       "23598  282a310d5b141fd2  1385064844             19   \n",
       "\n",
       "                                                    path             target   \n",
       "19820                                                Sun               Moon  \\\n",
       "9156   Go_%28board_game%29;Board_game;Game;Computer;I...     Medal_of_Honor   \n",
       "17168                                         Mass_media  George_Washington   \n",
       "7300                     Zeus;Religion;Judaism;Olive_oil              Humus   \n",
       "23598                                             Eyelid             ITunes   \n",
       "\n",
       "          type  \n",
       "19820  restart  \n",
       "9156   restart  \n",
       "17168  timeout  \n",
       "7300   restart  \n",
       "23598  restart  "
      ]
     },
     "execution_count": 7,
     "metadata": {},
     "output_type": "execute_result"
    }
   ],
   "source": [
    "path_unfinished.sample(n=5)"
   ]
  },
  {
   "cell_type": "markdown",
   "metadata": {},
   "source": [
    "### Graph analysis"
   ]
  },
  {
   "cell_type": "code",
   "execution_count": 11,
   "metadata": {},
   "outputs": [],
   "source": [
    "# create a graph with links dataframe\n",
    "G = nx.DiGraph()\n",
    "G.add_nodes_from(articles['article'])\n",
    "\n",
    "for i, row in links.iterrows():\n",
    "    G.add_edge(row['linkSource'], row['linkTarget'])    "
   ]
  },
  {
   "cell_type": "code",
   "execution_count": 12,
   "metadata": {},
   "outputs": [
    {
     "name": "stdout",
     "output_type": "stream",
     "text": [
      "Number of nodes: 4604\n",
      "Number of edges: 119882\n",
      "Average degree: 52.08\n",
      "Average out-degree: 26.04\n",
      "Average in-degree: 26.04\n"
     ]
    }
   ],
   "source": [
    "print(f\"Number of nodes: {G.number_of_nodes()}\")\n",
    "print(f\"Number of edges: {G.number_of_edges()}\")\n",
    "print(f\"Average degree: {sum(dict(G.degree()).values()) / G.number_of_nodes():.2f}\")\n",
    "print(f\"Average out-degree: {sum(dict(G.out_degree()).values()) / G.number_of_nodes():.2f}\")\n",
    "print(f\"Average in-degree: {sum(dict(G.in_degree()).values()) / G.number_of_nodes():.2f}\")"
   ]
  },
  {
   "cell_type": "code",
   "execution_count": 15,
   "metadata": {},
   "outputs": [
    {
     "data": {
      "image/png": "[encoded data removed]",
      "text/plain": [
       "<Figure size 1500x500 with 3 Axes>"
      ]
     },
     "metadata": {},
     "output_type": "display_data"
    }
   ],
   "source": [
    "# plot the out-degree, in-degree and degree distributions\n",
    "out_degrees = dict(G.out_degree())\n",
    "in_degrees = dict(G.in_degree())\n",
    "degrees = dict(G.degree())\n",
    "\n",
    "plt.figure(figsize=(15, 5))\n",
    "\n",
    "plt.subplot(1, 3, 1)\n",
    "plt.hist(list(out_degrees.values()), bins=50, color='b', alpha=0.7)\n",
    "plt.xlabel('Out-degree')\n",
    "plt.ylabel('Frequency')\n",
    "plt.title('Out-degree distribution')\n",
    "\n",
    "plt.subplot(1, 3, 2)\n",
    "plt.hist(list(in_degrees.values()), bins=50, color='r', alpha=0.7)\n",
    "plt.xlabel('In-degree')\n",
    "plt.ylabel('Frequency')\n",
    "plt.title('In-degree distribution')\n",
    "\n",
    "plt.subplot(1, 3, 3)\n",
    "plt.hist(list(degrees.values()), bins=50, color='g', alpha=0.7)\n",
    "plt.xlabel('Degree')\n",
    "plt.ylabel('Frequency')\n",
    "plt.title('Degree distribution')\n",
    "\n",
    "plt.tight_layout()\n",
    "plt.show()"
   ]
  },
  {
   "cell_type": "code",
   "execution_count": 16,
   "metadata": {},
   "outputs": [
    {
     "data": {
      "image/png": "[encoded data removed]",
      "text/plain": [
       "<Figure size 640x480 with 1 Axes>"
      ]
     },
     "metadata": {},
     "output_type": "display_data"
    }
   ],
   "source": [
    "# check if it is a small world\n",
    "\n",
    "def plot_distribution_path_length(G, n_samples=100, start_hops=0, n_hops=10):\n",
    "    \"\"\"\n",
    "    Plots the distribution of reachable nodes within a given number of hops in a graph, \n",
    "    based on a sample of nodes.\n",
    "\n",
    "    Parameters:\n",
    "        - G (networkx.Graph): The graph to analyze.\n",
    "        - n_samples (int, optional): The number of nodes to sample.\n",
    "        - start_hops (int, optional): The starting number of hops.\n",
    "        - n_hops (int, optional): The maximum number of hops.\n",
    "    Returns:\n",
    "        - None\n",
    "    \"\"\"\n",
    "\n",
    "    assert start_hops <= n_hops\n",
    "    sampled_nodes = random.sample(list(G.nodes) ,n_samples)\n",
    "    G_sampled = G.subgraph(sampled_nodes)\n",
    "    \n",
    "    average_reachable_nodes = {}\n",
    "\n",
    "    # to see the intersection of the average reachable nodes at 6 hops\n",
    "    intersection_hops_6 = 0\n",
    "\n",
    "    for i in range(start_hops,n_hops+1):\n",
    "        average_reachable_nodes[i] = np.mean([len(nx.single_source_shortest_path_length(G, node, cutoff=i)) for node in G_sampled.nodes()])\n",
    "        \n",
    "        if i == 6:\n",
    "            intersection_hops_6 = average_reachable_nodes[i]\n",
    "\n",
    "    average_reachable_nodes = average_reachable_nodes.items()\n",
    "    x,y = zip(*average_reachable_nodes)\n",
    "\n",
    "    plt.plot(x,y)\n",
    "    plt.xlabel('Number of hops')\n",
    "    plt.ylabel('Average of node reachable')\n",
    "    plt.title('Average number of reachable nodes')\n",
    "    plt.axhline(y=intersection_hops_6, color='r', linestyle='--')\n",
    "    plt.axvline(x=6, color='r', linestyle='--')\n",
    "    plt.show()\n",
    "\n",
    "plot_distribution_path_length(G, n_samples=100, start_hops=0, n_hops=10)"
   ]
  }
 ],
 "metadata": {
  "kernelspec": {
   "display_name": "Python 3",
   "language": "python",
   "name": "python3"
  },
  "language_info": {
   "codemirror_mode": {
    "name": "ipython",
    "version": 3
   },
   "file_extension": ".py",
   "mimetype": "text/x-python",
   "name": "python",
   "nbconvert_exporter": "python",
   "pygments_lexer": "ipython3",
   "version": "3.8.10"
  }
 },
 "nbformat": 4,
 "nbformat_minor": 2
}
