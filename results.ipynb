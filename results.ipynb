{
 "cells": [
  {
   "cell_type": "markdown",
   "metadata": {},
   "source": [
    "# Back to the Future : Time Travelling through Wikispeedia"
   ]
  },
  {
   "cell_type": "markdown",
   "metadata": {},
   "source": [
    "## Part 0 : Preprocessing of data"
   ]
  },
  {
   "cell_type": "markdown",
   "metadata": {},
   "source": [
    "#### Setting the environment \n",
    "Please check SETUP.md and pip_requirements.txt before running this notebook."
   ]
  },
  {
   "cell_type": "code",
   "execution_count": 14,
   "metadata": {},
   "outputs": [],
   "source": [
    "import pandas as pd\n",
    "import numpy as np\n",
    "\n",
    "import networkx as nx\n",
    "import matplotlib.pyplot as plt\n",
    "from scipy.stats import ttest_ind\n",
    "import os\n",
    "\n",
    "from src.scripts.loading_data import *\n",
    "from src.scripts.plotting import *\n",
    "\n",
    "from src.utils.llm_plot import *\n",
    "from src.utils.llm_metric import *\n",
    "from src.utils.llm_processing import *"
   ]
  },
  {
   "cell_type": "code",
   "execution_count": 15,
   "metadata": {},
   "outputs": [],
   "source": [
    "# Define consant\n",
    "DATA = \"data/\""
   ]
  },
  {
   "cell_type": "markdown",
   "metadata": {},
   "source": [
    "## Part 1 : Defining the best moment to play Wikispeedia"
   ]
  },
  {
   "cell_type": "markdown",
   "metadata": {},
   "source": [
    "## Part 2 : Wikipedia evolution between 2007 and 2024"
   ]
  },
  {
   "cell_type": "markdown",
   "metadata": {},
   "source": [
    "### 2.0) About the subset of articles used in the game\n",
    "\n",
    "In this part, we investigate the evolution of Wikipedia between 2007 and 2024. To do so, we compare the structures and versions of the 4600 articles that were selected in the 2007 Wikispeedia dataset at both time points. The subselection of articles was done by the creators of the game Wikispeedia [1], [2]. \n",
    "\n",
    "[1] Robert West and Jure Leskovec:\n",
    "     Human Wayfinding in Information Networks.\n",
    "     21st International World Wide Web Conference (WWW), 2012.\n",
    "[2] Robert West, Joelle Pineau, and Doina Precup:\n",
    "     Wikispeedia: An Online Game for Inferring Semantic Distances between Concepts.\n",
    "     21st International Joint Conference on Artificial Intelligence (IJCAI), 2009.\n",
    "\n",
    "#### Loading the raw scrapping of Wikipedia 2024\n",
    "\n",
    "To compare Wikipedia structure between 2007 and 2024 we first had to retrieve the content of the current Wikipedia database. We scrapped the 4604 equivalent articles of Wikispeedia by referring by their names. The details of this step can be found in ```scrapping.ipynb```.\n"
   ]
  },
  {
   "cell_type": "code",
   "execution_count": 16,
   "metadata": {},
   "outputs": [],
   "source": [
    "from src.scripts.loading_data import *\n",
    "\n",
    "# importing articles names and links\n",
    "raw_articles2007, raw_links2007 = loading_articles_links('2007', raw = True)\n",
    "raw_articles2024, raw_links2024 = loading_articles_links('2024', raw = True)"
   ]
  },
  {
   "cell_type": "code",
   "execution_count": 17,
   "metadata": {},
   "outputs": [
    {
     "name": "stdout",
     "output_type": "stream",
     "text": [
      "Number of articles in 2007 : 4604\n",
      "Number of articles in 2024 : 4592\n",
      "Number of links in 2007 : 119882\n",
      "Number of links in 2024 : 224054\n"
     ]
    }
   ],
   "source": [
    "# checking the sizes \n",
    "print('Number of articles in 2007 :',len(raw_articles2007)) \n",
    "print('Number of articles in 2024 :',len(raw_articles2024))\n",
    "print('Number of links in 2007 :', raw_links2007.shape[0]) \n",
    "print('Number of links in 2024 :',raw_links2024.shape[0])"
   ]
  },
  {
   "cell_type": "markdown",
   "metadata": {},
   "source": [
    "Interstingly, by scrapping the corresponding articles, we miss 11 articles. Let us investigate on which articles we are missing these particular articles in 2024 and why did their scrapping  fail."
   ]
  },
  {
   "cell_type": "markdown",
   "metadata": {},
   "source": [
    "#### From eleven missing articles to only four\n",
    "\n",
    "When retrieving 2024 Wikipedia articles, for eleven article names the corresponding URL did not exist anymore in 2024. For seven of them we could find the equivalent page on Wikipedia 2024 with a slightly different name. The corresponding URL to the new page is provided in brakets, along with the new name. However for four of them no evident equivalent page culd be found. This leads us to think that these four specific pages have been removed from Wikipedia between 2007 and 2024.\n",
    "\n",
    "- Athletics_(track_and_field) (https://en.wikipedia.org/wiki/Track_and_field, Track_and_field)\n",
    "- Bionicle__Mask_of_Light (https://en.wikipedia.org/wiki/Bionicle:_Mask_of_Light, Bionicle:_Mask_of_Light)\n",
    "- Directdebit (https://en.wikipedia.org/wiki/Direct_debit, Direct_debit)\n",
    "- Friend_Directdebit (-)\n",
    "- Gallery_of_the_Kings_and_Queens_of_England (-)\n",
    "- Newshounds (https://en.wikipedia.org/wiki/News_Hounds, News_Hounds)\n",
    "- Sponsorship_Directdebit (-)\n",
    "- Star_Wars_Episode_IV__A_New_Hope (https://en.wikipedia.org/wiki/Star_Wars_(film), Star_Wars_(film))\n",
    "- Wikipedia_Text_of_the_GNU_Free_Documentation_License (https://en.wikipedia.org/wiki/Wikipedia:Text_of_the_GNU_Free_Documentation_License, Wikipedia:Text_of_the_GNU_Free_Documentation_License)\n",
    "- Wowpurchase (-)\n",
    "- X-Men__The_Last_Stand (https://en.wikipedia.org/wiki/X-Men:_The_Last_Stand, X-Men:_The_Last_Stand)\n",
    "\n",
    "We manually added the seven newly named articles back to the dataframe of 2024 articles, by referring to them with their previous name, for comparability.\n",
    "To investigate a bit more the four missing pages, let us look at their plain text articles, provided by Wikispeedia."
   ]
  },
  {
   "cell_type": "code",
   "execution_count": 18,
   "metadata": {},
   "outputs": [
    {
     "data": {
      "text/plain": [
       "'/home/jan/dev/ma1/ada/ada-2024-project-outlier-1'"
      ]
     },
     "execution_count": 18,
     "metadata": {},
     "output_type": "execute_result"
    }
   ],
   "source": [
    "os.getcwd()"
   ]
  },
  {
   "cell_type": "code",
   "execution_count": 19,
   "metadata": {},
   "outputs": [],
   "source": [
    "# define path to the data\n",
    "PLAIN_TEXT_PATH = 'data/2007/plain_text_articles/'\n",
    "\n",
    "# extract the plain text articles from 2007\n",
    "Friend_Directdebit = open(os.path.join(PLAIN_TEXT_PATH, 'Friend_Directdebit.txt')).read()\n",
    "Gallery_of_the_Kings_and_Queens_of_England = open(os.path.join(PLAIN_TEXT_PATH, 'Gallery_of_the_Kings_and_Queens_of_England.txt')).read()\n",
    "Sponsorship_Directdebit = open(os.path.join(PLAIN_TEXT_PATH, 'Sponsorship_Directdebit.txt')).read()\n",
    "Wowpurchase = open(os.path.join(PLAIN_TEXT_PATH, 'Wowpurchase.txt')).read()"
   ]
  },
  {
   "cell_type": "code",
   "execution_count": 20,
   "metadata": {},
   "outputs": [
    {
     "name": "stdout",
     "output_type": "stream",
     "text": [
      "                             [1x1.gif] [1x1.gif]\n",
      "\n",
      "\n",
      "   [Direct_Debit.gif]\n",
      "\n",
      "Become an SOS Friend - Direct Debit\n",
      "\n",
      "\n",
      "   Thank you for taking a moment to complete this simple form, and for\n",
      "   helping us help orphaned and abandoned children around the world.\n",
      "\n",
      "   The minimum donation for an SOS friend is £10/month. If you cannot\n",
      "   afford this, please use this link to making a smaller regular donation.\n",
      "\n",
      "   All the normal Direct Debit safeguards and guarantees apply. No changes\n",
      "   in the amount, date or frequency to be debited can be made without\n",
      "   notifying you at least 10 working days in advance of your accounts\n",
      "   being debited. In the event of any error, you are entitled to an\n",
      "   immediate refund from your Bank or Building Society. You have the right\n",
      "   to cancel a Direct Debit Instruction at any time simply by writing to\n",
      "   your Bank or Building Society, with a copy to us.\n",
      "\n",
      "   Any questions?\n",
      "   If you have any queries, or would like to make a Direct Debit Donation\n",
      "   over the phone, please phone us on 01223 365589 or write to SOS\n",
      "   Children, St Andrew's House, 59 St Andrew's Street, Cambridge CB2 3BZ\n",
      "   Your Name and Address\n",
      "   Title: __________\n",
      "   First Name: __________________________________________________\n",
      "   Surname: __________________________________________________\n",
      "   Address: __________________________________________________\n",
      "   __________________________________________________\n",
      "   __________________________________________________\n",
      "   Town, City or County:\n",
      "   __________________________________________________\n",
      "   Postcode: _________________________\n",
      "   Country: [United Kingdom......................]\n",
      "   You don't have to enter your email or phone, but we recommend you fill\n",
      "   in at least one so we can contact you quickly if there are any\n",
      "   problems.\n",
      "   Email: __________________________________________________\n",
      "   Phone: _________________________\n",
      "   Mailing list: [Newsletter only (3 per year).......]\n",
      "   We will not sell or swap your personal details with any other groups.\n",
      "   Payment Details\n",
      "   Donation in UK Pounds: £\n",
      "   (min. £10/month) _________________________\n",
      "   Frequency: [Every month...]\n",
      "   Date of first payment: [24] [May......] [2007]\n",
      "   Special Instructions:\n",
      "   please enter any information about how you would like your donation to\n",
      "   be used\n",
      "   ___________________________________________\n",
      "   ___________________________________________\n",
      "   ___________________________________________\n",
      "   ___________________________________________\n",
      "   ___________________________________________\n",
      "   gift aid it\n",
      "   [_] If you are a UK Tax Payer we can reclaim 28p from the government\n",
      "       for every £1 you've donated at no extra cost to you. Tick this box to\n",
      "       declare that you are gift aiding this donation. You qualify for Gift\n",
      "       Aid as long as you pay at least 28% of your gift value in income tax or\n",
      "       capital gains tax.\n",
      "   Your bank details:\n",
      "   Account Name: __________________________________________________\n",
      "   Account Number: _________________________\n",
      "   Sort Code: _________________________\n",
      "   Bank Name: __________________________________________________\n",
      "   Branch Address: __________________________________________________\n",
      "   __________________________________________________\n",
      "   __________________________________________________\n",
      "   Town or City: __________________________________________________\n",
      "   Postcode: _________________________\n",
      "   Authorise Direct Debit\n",
      "\n",
      "                           SOS Children's Villages\n",
      "             Picture of card to be sent - child with \"thank you\"\n",
      "                  Secured with Comodo EliteSSL Certificate\n",
      "                            www.enterprisessl.com\n",
      "\n",
      "   SOS Children refers to the worldwide work of SOS-KDI and is a trading\n",
      "   name for SOS Children's Villages UK\n",
      "\n",
      "   For further information about our work please see our children charity\n",
      "   web site or sponsoring a child.\n",
      "\n",
      "   Charity Commission registered number 1069204\n",
      "\n",
      "   [1x1.gif] [1x1.gif]\n",
      "\n"
     ]
    }
   ],
   "source": [
    "print(Friend_Directdebit)"
   ]
  },
  {
   "cell_type": "code",
   "execution_count": 21,
   "metadata": {},
   "outputs": [
    {
     "name": "stdout",
     "output_type": "stream",
     "text": [
      "   #copyright\n",
      "\n",
      "Gallery of the Kings and Queens of England\n",
      "\n",
      "2007 Schools Wikipedia Selection. Related subjects: British History\n",
      "\n",
      "   This is a gallery of the Kings and Queens of England.\n",
      "\n",
      "House of Wessex\n",
      "\n",
      "                         Alfred the Great (871-899)\n",
      "\n",
      "                         Edward the Elder (899-924)\n",
      "\n",
      "                               Ælfweard (924)\n",
      "\n",
      "       Athelstan (924-939)The first de facto King of a unified England\n",
      "\n",
      "                             Edmund I (939-946)\n",
      "\n",
      "                               Edred (946-955)\n",
      "\n",
      "                           Edwy the Fair (955-959)\n",
      "\n",
      "                               Edgar (959-975)\n",
      "\n",
      "                       St Edward the Martyr (975-978)\n",
      "\n",
      "                 Ethelred the Unready (978-1013, 1014-1016)\n",
      "\n",
      "                         Sweyn Forkbeard (1013-1014)\n",
      "\n",
      "                           Edmund Ironside (1016)\n",
      "\n",
      "                             Canute (1016-1035)\n",
      "\n",
      "                         Harold Harefoot (1035-1040)\n",
      "\n",
      "                          Harthacanute (1040-1042)\n",
      "\n",
      "                     St Edward the Confessor (1042-1066)\n",
      "\n",
      "                           Harold Godwinson (1066)\n",
      "\n",
      "                               Edgar II (1066)\n",
      "\n",
      "House of Normandy\n",
      "\n",
      "                            William I (1066-1087)\n",
      "\n",
      "                           William II (1087-1100)\n",
      "\n",
      "                             Henry I (1100-1135)\n",
      "\n",
      "                       Stephen (1135-1141, 1141-1154)\n",
      "\n",
      "House of Plantagenet\n",
      "\n",
      "                            Henry II (1154-1189)\n",
      "\n",
      "                            Richard I (1189-1199)\n",
      "\n",
      "                              John (1199-1216)\n",
      "\n",
      "                            Henry III (1216-1272)\n",
      "\n",
      "                            Edward I (1272-1307)\n",
      "\n",
      "                            Edward II (1307-1327)\n",
      "\n",
      "                           Edward III (1327-1377)\n",
      "\n",
      "                           Richard II (1377-1399)\n",
      "\n",
      "House of Lancaster\n",
      "\n",
      "   Henry IV (1399-1413)\n",
      "\n",
      "                       Henry V (1413-1422)\n",
      "\n",
      "                                          Henry VI (1422-1461, 1470-1471)\n",
      "\n",
      "House of York\n",
      "\n",
      "   Edward IV (1461-1470, 1471-1483)\n",
      "\n",
      "                                   Edward V (1483)\n",
      "\n",
      "                                                  Richard III (1483-1485)\n",
      "\n",
      "House of Tudor\n",
      "\n",
      "   Henry VII (1485-1509)\n",
      "\n",
      "                        Henry VIII (1509-1547)\n",
      "\n",
      "                                               Edward VI (1547-1553)\n",
      "\n",
      "                                                                    Jane (1553)\n",
      "\n",
      "   Mary I (1553-1558)\n",
      "\n",
      "                        Elizabeth I (1558-1603)\n",
      "\n",
      "House of Stuart\n",
      "\n",
      "                             James I (1603-1625)\n",
      "\n",
      "                            Charles I (1625-1649)\n",
      "\n",
      "                           Charles II (1649-1685)\n",
      "\n",
      "                            James II (1685-1688)\n",
      "\n",
      "                             Mary II (1689-1694)\n",
      "\n",
      "                           William III (1689-1702)\n",
      "\n",
      "                              Anne (1702-1707)\n",
      "\n",
      "The Commonwealth\n",
      "\n",
      "   (Royalists considered Charles II to be de jure King during this time)\n",
      "\n",
      "                 Oliver Cromwell, Lord Protector (1653-1658)\n",
      "\n",
      "                Richard Cromwell, Lord Protector (1658-1659)\n",
      "\n",
      "   NOTE: In 1707 the monarchs of England and Scotland became the monarchs\n",
      "   of Great Britain - for continuation see Gallery of the Kings and Queens\n",
      "   of Great Britain\n",
      "   Retrieved from \"\n",
      "   http://en.wikipedia.org/wiki/Gallery_of_the_Kings_and_Queens_of_England\n",
      "   \"\n",
      "   This reference article is mainly selected from the English Wikipedia\n",
      "   with only minor checks and changes (see www.wikipedia.org for details\n",
      "   of authors and sources) and is available under the GNU Free\n",
      "   Documentation License. See also our Disclaimer.\n",
      "\n"
     ]
    }
   ],
   "source": [
    "print(Gallery_of_the_Kings_and_Queens_of_England)"
   ]
  },
  {
   "cell_type": "code",
   "execution_count": 22,
   "metadata": {},
   "outputs": [
    {
     "name": "stdout",
     "output_type": "stream",
     "text": [
      "                             [1x1.gif] [1x1.gif]\n",
      "\n",
      "\n",
      "   [Direct_Debit.gif]\n",
      "\n",
      "Sponsor a Child with SOS Children - Direct Debit\n",
      "\n",
      "\n",
      "   Thank you for taking a moment to complete this simple form, and for\n",
      "   helping us help orphaned and abandoned children around the world.\n",
      "\n",
      "   The minimum donation for child sponsorship is £20/month. If you cannot\n",
      "   afford this, please consider making a smaller regular donation. Use one\n",
      "   of these links: you can become an SOS friend for a minimum of £10 per\n",
      "   month or make a regular donation for a minimum of £5 per month.\n",
      "\n",
      "   All the normal Direct Debit safeguards and guarantees apply. No changes\n",
      "   in the amount, date or frequency to be debited can be made without\n",
      "   notifying you at least 10 working days in advance of your accounts\n",
      "   being debited. In the event of any error, you are entitled to an\n",
      "   immediate refund from your Bank or Building Society. You have the right\n",
      "   to cancel a Direct Debit Instruction at any time simply by writing to\n",
      "   your Bank or Building Society, with a copy to us.\n",
      "\n",
      "   Any questions?\n",
      "   If you have any queries, or would like to make a Direct Debit Donation\n",
      "   over the phone, please phone us on 01223 365589 or write to SOS\n",
      "   Children, St Andrew's House, 59 St Andrew's Street, Cambridge CB2 3BZ\n",
      "   Your Name and Address\n",
      "   Title: __________\n",
      "   First Name: __________________________________________________\n",
      "   Surname: __________________________________________________\n",
      "   Address: __________________________________________________\n",
      "   __________________________________________________\n",
      "   __________________________________________________\n",
      "   Town, City or County:\n",
      "   __________________________________________________\n",
      "   Postcode: _________________________\n",
      "   Country: [United Kingdom......................]\n",
      "   You don't have to enter your email or phone, but we recommend you fill\n",
      "   in at least one so we can contact you quickly if there are any\n",
      "   problems.\n",
      "   Email: __________________________________________________\n",
      "   Phone: _________________________\n",
      "   Mailing list: [Newsletter only (3 per year).......]\n",
      "   We will not sell or swap your personal details with any other groups.\n",
      "   Payment Details\n",
      "   Donation in UK Pounds: £\n",
      "   (min. £20/month) _________________________\n",
      "   Frequency: [Every month...]\n",
      "   Date of first payment: [24] [May......] [2007]\n",
      "   Special Instructions:\n",
      "   please enter any information about how you would like your donation to\n",
      "   be used\n",
      "   ___________________________________________\n",
      "   ___________________________________________\n",
      "   ___________________________________________\n",
      "   ___________________________________________\n",
      "   ___________________________________________\n",
      "   gift aid it\n",
      "   [_] If you are a UK Tax Payer we can reclaim 28p from the government\n",
      "       for every £1 you've donated at no extra cost to you. Tick this box to\n",
      "       declare that you are gift aiding this donation. You qualify for Gift\n",
      "       Aid as long as you pay at least 28% of your gift value in income tax or\n",
      "       capital gains tax.\n",
      "   Your bank details:\n",
      "   Account Name: __________________________________________________\n",
      "   Account Number: _________________________\n",
      "   Sort Code: _________________________\n",
      "   Bank Name: __________________________________________________\n",
      "   Branch Address: __________________________________________________\n",
      "   __________________________________________________\n",
      "   __________________________________________________\n",
      "   Town or City: __________________________________________________\n",
      "   Postcode: _________________________\n",
      "   Authorise Direct Debit\n",
      "\n",
      "                           SOS Children's Villages\n",
      "             Picture of card to be sent - child with \"thank you\"\n",
      "                  Secured with Comodo EliteSSL Certificate\n",
      "                            www.enterprisessl.com\n",
      "\n",
      "   SOS Children refers to the worldwide work of SOS-KDI and is a trading\n",
      "   name for SOS Children's Villages UK\n",
      "\n",
      "   For further information about our work please see our children charity\n",
      "   web site or sponsoring a child.\n",
      "\n",
      "   Charity Commission registered number 1069204\n",
      "\n",
      "   [1x1.gif] [1x1.gif]\n",
      "\n"
     ]
    }
   ],
   "source": [
    "print(Sponsorship_Directdebit)"
   ]
  },
  {
   "cell_type": "code",
   "execution_count": 23,
   "metadata": {},
   "outputs": [
    {
     "name": "stdout",
     "output_type": "stream",
     "text": [
      "                             [1x1.gif] [1x1.gif]\n",
      "\n",
      "\n",
      "Buy WOW wrist bands\n",
      "to support SOS Children\n",
      "\n",
      "\n",
      "   You can purchase WOW Wristbands from this page.\n",
      "   You will need a debit or credit card to pay for them.\n",
      "   If you don't have a card, please place your order by post.\n",
      "\n",
      "   The wrist bands cost £1 each.\n",
      "\n",
      "   Postage is 50p for up to 5 bands, £1 for 6 to 20 bands,\n",
      "   £1.50 for 21 to 50 bands and £2 for 51 to 1000 bands.\n",
      "   Number of wrist bands: _____\n",
      "   Proceed to Purchase\n",
      "\n",
      "                           SOS Children's Villages\n",
      "                            WOW wrist band detail\n",
      "\n",
      "   SOS Children refers to the worldwide work of SOS-KDI and is a trading\n",
      "   name for SOS Children's Villages UK\n",
      "\n",
      "   For further information about our work please see our children charity\n",
      "   web site or sponsoring a child.\n",
      "\n",
      "   Charity Commission registered number 1069204\n",
      "\n",
      "   [1x1.gif] [1x1.gif]\n",
      "\n"
     ]
    }
   ],
   "source": [
    "print(Wowpurchase)"
   ]
  },
  {
   "cell_type": "markdown",
   "metadata": {},
   "source": [
    "Interestingly, it seems like the three articles DirectDebit, SponsorshipDebit and Wowpurchase are not articles but foundraise forms. It is probable that since this kind of page does not respect Wikipedia's policy, they were removed from the plateform. Wikispeedia players could however go to these pages and click on their links if they wanted to. Lastly, it is not sure why Gallery_of_the_Kings_and_Queens_of_England was removed from wikipedia, it is probable that this subject was restructured into several pages for each of the royal family, which is why we cannot find one single equivalent page in 2024.\n",
    "\n",
    "For the rest of our study, we will let these four article in 2007 without matching article in 2024. However, we will probably have to remove them from some visualizations when matching dimensions between the two datasets will be needed."
   ]
  },
  {
   "cell_type": "markdown",
   "metadata": {},
   "source": [
    "#### Re-importing 2024 articles\n",
    "As seen in the previous part, we were able to identify seven articles present in 2007 that we missed when importing their equivalent of 2024 because of a name change. In ```scrapping.ipynb``` we rescrapped all 2024 articles's links with the seven additional articles and their actual name. From now on, we will use this new dataset for the rest of our analysis."
   ]
  },
  {
   "cell_type": "code",
   "execution_count": 24,
   "metadata": {},
   "outputs": [],
   "source": [
    "# importing articles names and links\n",
    "articles2007, links2007 = loading_articles_links('2007')\n",
    "articles2024, links2024 = loading_articles_links('2024')"
   ]
  },
  {
   "cell_type": "markdown",
   "metadata": {},
   "source": [
    "We now would like to take a look at the links we imported. Some source articles had no targets in 2007 but do have new targets in 2024. The other way around is also possible: 2007 target articles may have change so drasticly that no link exist anymore in 2024. We will thus look at the articles that are not present as source articles in 2007 vs in 2024."
   ]
  },
  {
   "cell_type": "code",
   "execution_count": 25,
   "metadata": {},
   "outputs": [
    {
     "name": "stdout",
     "output_type": "stream",
     "text": [
      "4587 4551\n"
     ]
    }
   ],
   "source": [
    "source_articles2007 = set(links2007.linkSource.drop_duplicates().reset_index(drop = True))\n",
    "source_articles2024 = set(links2024.linkSource.drop_duplicates().reset_index(drop = True))\n",
    "\n",
    "print(len(source_articles2007), len(source_articles2024))"
   ]
  },
  {
   "cell_type": "code",
   "execution_count": 26,
   "metadata": {},
   "outputs": [],
   "source": [
    "not_in_2007 = source_articles2024 - source_articles2007\n",
    "not_in_2024 = source_articles2007 - source_articles2024"
   ]
  },
  {
   "cell_type": "code",
   "execution_count": 27,
   "metadata": {},
   "outputs": [
    {
     "data": {
      "image/png": "[encoded data removed]",
      "text/plain": [
       "<Figure size 640x480 with 1 Axes>"
      ]
     },
     "metadata": {},
     "output_type": "display_data"
    }
   ],
   "source": [
    "plt.bar(x=['articles that became new link sources','articles that lost their links'], height=[len(not_in_2007), len(not_in_2024)])\n",
    "plt.title('Links sources that are not in common between 2007 and 2024')\n",
    "plt.ylabel(\"Source articles that are not sources in the other year\")\n",
    "plt.show()"
   ]
  },
  {
   "cell_type": "markdown",
   "metadata": {},
   "source": [
    "What we observe from comparing the links contained in the articles in the different years : \n",
    "- 48 articles have no links redirecting from them in 2024 \n",
    "- 12 articles have links in 2024 while they had none in 2007\n",
    "\n",
    "To investigate the cause of this for the 48 missing links articles in 2024, we compared their wikipedia page from the game versus their actual page in 2024 for a few of them taken at random. What happened for them is the following : \n",
    "- for 4 articles : as we saw previously, they have been deleted in wikipedia 2024. 3 of them corresponded to fake wiki pages for a donation and one was named Gallery_of_Kings_and_Queens_of_England and was probably reformated and fused to another article that completely changed their name. \n",
    "- for the rest of the articles : in 2007, as wikipedia was smaller in general, the articles names were more vague. For example Battle_of_Amiens in 2007 corresponded to the battle that occured in 1918 only. In 2024, the article Battle_of_Amiens is now a Disambigation Page, meaning the title 'Battle_of_Amiens' may refer to multiple different wikipedia pages that carry the same title. If we observe the current page of this article in 2024, it has 3 different links that redirect to pages not included in our restricted 4604 articles database : Siege of Amiens (1597), Battle of Amiens (1870) and finally the Battle of Amiens (1918) that is the one in the 2007 dataset. \n",
    "\n",
    "Following this, it would be interesting to check how many of those 48 pages actually carry the 'Disambiguation Page' function in 2024 to validate our hypothesis that this is why this happens. Ideally we could then rescrapp the correct pages of 2024 that do really correspond to their equivalent in 2007. This would modify the number of links on average in 2024, and thus the shortest path matrix that we compute later on. "
   ]
  },
  {
   "cell_type": "markdown",
   "metadata": {},
   "source": [
    "Please note that this disambiguouation part of our project is still going on. We however continued our analysis to build a strong pipeline while waiting for the total cleaning of 2024 data. We will have to reperform our analysis afterwards."
   ]
  },
  {
   "cell_type": "markdown",
   "metadata": {},
   "source": [
    "### 2.1) Loading the clean data"
   ]
  },
  {
   "cell_type": "code",
   "execution_count": 28,
   "metadata": {},
   "outputs": [
    {
     "name": "stdout",
     "output_type": "stream",
     "text": [
      "2007 : 4604\n",
      "2024 : 4604\n"
     ]
    }
   ],
   "source": [
    "# importing articles names and links\n",
    "articles2007, links2007 = loading_articles_links('2007')\n",
    "articles2024, links2024 = loading_articles_links('2024')\n",
    "\n",
    "# checking the sizes \n",
    "print('2007 :',len(articles2007)) \n",
    "print('2024 :',len(articles2024))"
   ]
  },
  {
   "cell_type": "markdown",
   "metadata": {},
   "source": [
    "As mentionned above in part 0, some articles have been deleted between 2007 and 2024. So the list of articles of 2024 does not contain them and there are no links redirecting to them in the links2024 file. However we retrieved the articles whose names have been modified and kept the name for 2007 to refer to them in the 2024 list. "
   ]
  },
  {
   "cell_type": "markdown",
   "metadata": {},
   "source": [
    "### 2.2) Comparing the Hyperlinks Structure "
   ]
  },
  {
   "cell_type": "markdown",
   "metadata": {},
   "source": [
    "As a first analysis to justify our project we compare the two wikipedia version structures. "
   ]
  },
  {
   "cell_type": "code",
   "execution_count": 29,
   "metadata": {},
   "outputs": [
    {
     "name": "stdout",
     "output_type": "stream",
     "text": [
      "T test p value : [6.91824887e-191]\n"
     ]
    },
    {
     "data": {
      "image/png": "[encoded data removed]",
      "text/plain": [
       "<Figure size 800x400 with 2 Axes>"
      ]
     },
     "metadata": {},
     "output_type": "display_data"
    }
   ],
   "source": [
    "from src.scripts.plotting import *\n",
    "\n",
    "plot_average_links_per_page(links2007, links2024)"
   ]
  },
  {
   "cell_type": "markdown",
   "metadata": {},
   "source": [
    "The two distributions seem different, as already observed. In global there are more links per pages on average in 2024 than in 2007, as this is confirmed by our independent T test p value of 6.9e-191, this difference is statistically significative. When looking a the distributions we also see that the 2024 one has more articles with a higher number of links and also less articles with a small number of links. "
   ]
  },
  {
   "cell_type": "code",
   "execution_count": 30,
   "metadata": {},
   "outputs": [
    {
     "name": "stderr",
     "output_type": "stream",
     "text": [
      "/home/jan/dev/ma1/ada/ada-2024-project-outlier-1/src/scripts/plotting.py:71: FutureWarning: \n",
      "\n",
      "Passing `palette` without assigning `hue` is deprecated and will be removed in v0.14.0. Assign the `x` variable to `hue` and set `legend=False` for the same effect.\n",
      "\n",
      "  ax = sns.barplot(x= difference.index, y = difference, palette= colors)\n"
     ]
    },
    {
     "data": {
      "image/png": "[encoded data removed]",
      "text/plain": [
       "<Figure size 1000x600 with 1 Axes>"
      ]
     },
     "metadata": {},
     "output_type": "display_data"
    }
   ],
   "source": [
    "plot_difference_links_article(links2007, links2024)"
   ]
  },
  {
   "cell_type": "markdown",
   "metadata": {},
   "source": [
    "Here we look more closely at each article, to see how the number of links per page evolved. Everything above zero represent a positive difference between the number of links in 2024 minus the number in 2007 so this relates to when 2024 has more links than 2007, and everything below will thus correspond to 2024 having less links than in 2007. Visually we can already see that there tends to be more links in 2024 than in 2007 for the same article. "
   ]
  },
  {
   "cell_type": "markdown",
   "metadata": {},
   "source": [
    "### 2.3) Shortest Paths comparison"
   ]
  },
  {
   "cell_type": "markdown",
   "metadata": {},
   "source": [
    "As a metric to how connected the two wikipedia are, we also look into the shortest path amtrix for the both of them. They are computed using the Floyd Warshall algorithms. We verified that the function used, from the networkx package, produced the exact same matrix for the 2007 data in the exploratory notebook. "
   ]
  },
  {
   "cell_type": "code",
   "execution_count": 31,
   "metadata": {},
   "outputs": [],
   "source": [
    "### creating Graphs \n",
    "G_2007 = creating_graph(links2007, articles2007)\n",
    "G_2024 = creating_graph(links2024, articles2007)\n",
    "# here we use the list of articles from 2007 as it has all the nodes\n",
    "# whereas some are missing in the 2024 list as stated earlier \n",
    "# it is important to create all the nodes even if we don't have any link \n",
    "# that connects them to the other, in order to generate the difference map later\n",
    "# so that the two spm have the same dimensions\n",
    "\n",
    "### computing shortest path matrices (spm)\n",
    "# this step takes approx 15 min\n",
    "spm_2007 = computing_shortest_path_matrix(G_2007, articles2007)\n",
    "spm_2024 = computing_shortest_path_matrix(G_2024, articles2007)"
   ]
  },
  {
   "cell_type": "code",
   "execution_count": 32,
   "metadata": {},
   "outputs": [
    {
     "data": {
      "image/png": "[encoded data removed]",
      "text/plain": [
       "<Figure size 640x480 with 2 Axes>"
      ]
     },
     "metadata": {},
     "output_type": "display_data"
    }
   ],
   "source": [
    "plotting_difference_heatmap(spm_2007,spm_2024)"
   ]
  },
  {
   "cell_type": "markdown",
   "metadata": {},
   "source": [
    "Similarly, in this heatmap we substract the Shortest Path Matrix of 2024 minus the one of 2007. This way any point corresponding to a red value means the path from the two articles is shorter in 2024, while blue means the path in 2024 is longer than in 2007"
   ]
  },
  {
   "cell_type": "markdown",
   "metadata": {},
   "source": [
    "## Part 3 : Performance of the players depending on the year"
   ]
  },
  {
   "cell_type": "markdown",
   "metadata": {},
   "source": [
    "## Part 4 : LLM performance on different versions\n",
    "\n",
    "In this part of the notebook we will use games played by **mistral 7B** and **llama3 8B** in 2007 and 2024 to compare the evolution of the LLM over time.\n",
    "\n",
    "We used [ollama](https://ollama.com/) docker container version to used LLMs models (see `SETUP.md` for installations instructions). for the prompt used to generate the games, we used the following prompt (inspired by the prompt used [Human vs IA](https://drudilorenzo.github.io/ada-klech-data-story/)):\n",
    "\n",
    "First we give the context of the game to the llm:\n",
    "\n",
    "*We now play the following game:*\n",
    "\n",
    "*I will give you a target word and a list from which you can choose an option. If the available options contains the target word, you choose it. Otherwise you choose the option that is most similar to it. Before starting, I give you one examples, then it's your turn:*\n",
    "\n",
    "*you need to follow the same format as the example below:\n",
    "Target word: George_Washington*\n",
    "\n",
    "*Available options: [Able_Archer_83, Afghanistan, , Estonia, Europe, Finland, France, French_language, George_W._Bush, Hungary, September_11,_2001_attacks, United_States]*\n",
    "\n",
    "*Reasoning: I need to find something inside the list related to the target: 'George_Washington'. George Washington was the first president of United States and he lived in United States.*\n",
    "\n",
    "*Answer: Hence the answer is: 'United_States'.*"
   ]
  },
  {
   "cell_type": "markdown",
   "metadata": {},
   "source": [
    "\n",
    "Then we give the llm the target word and the list of options:\n",
    "\n",
    "*I will give you a target word and a list from which you can choose an option. If the available options contains the target word, you choose it. Otherwise you choose the option that is most similar to it* \n",
    "\n",
    "*Target word: [{target}]*\n",
    "\n",
    "*Available options: [{links}]*\n",
    "\n",
    "*RESPECT THIS FORMAT WHEN ANSWERING:*\n",
    "\n",
    "*Reasoning: [REASONING]*\n",
    "\n",
    "*Answer: Hence the choice is: '[ANSWER]'*\n",
    "\n",
    "\n",
    "We will repeat this prompt with the new available options until the llm finds the target word or the prompt reaches 100 iterations."
   ]
  },
  {
   "cell_type": "markdown",
   "metadata": {},
   "source": [
    "Loading players games data on 2007 and LLMs (mistral, llama3) games data for 2007 and 2024\n"
   ]
  },
  {
   "cell_type": "code",
   "execution_count": 33,
   "metadata": {},
   "outputs": [],
   "source": [
    "# Load data\n",
    "\n",
    "## llama3 8B\n",
    "llama3_2007 = pd.read_csv(DATA + \"llama3/llm_paths.csv\",index_col=['start', 'end'])\n",
    "llama3_2024 = pd.read_csv(DATA + \"llama3/llm_paths2024.csv\",index_col=['start', 'end'])\n",
    "\n",
    "## mistral 7B\n",
    "mistral_2007 = pd.read_csv(DATA + \"mistral/llm_paths.csv\",index_col=['start', 'end'])\n",
    "mistral_2024 = pd.read_csv(DATA + \"mistral/llm_paths2024.csv\",index_col=['start', 'end'])\n",
    "\n",
    "## Player 2007\n",
    "players_2007 = pd.read_csv(DATA + \"wikispeedia_paths-and-graph/paths_finished.tsv\",sep='\\t', comment='#', names=['hashedIpAddress', 'timestamp', 'durationInSec', 'path', 'rating'])"
   ]
  },
  {
   "cell_type": "code",
   "execution_count": 34,
   "metadata": {},
   "outputs": [],
   "source": [
    "players_2007=process_player_path_data(players_2007)"
   ]
  },
  {
   "cell_type": "markdown",
   "metadata": {},
   "source": [
    "### Compare LLMs with the players\n",
    "\n",
    "**Warning** : At the moment we should be critical about the results, because the llms only played each game once. In the future, we will have several games to compare in order to increase the confidence in the results.\n",
    "\n",
    "The goal of this section is to compare the performance of the LLMs with the players in 2007 in order to see which LLMs seems to perform like the players in 2007.\n",
    "\n"
   ]
  },
  {
   "cell_type": "code",
   "execution_count": 35,
   "metadata": {},
   "outputs": [
    {
     "data": {
      "text/plain": [
       "Text(0.5, 1.0, 'Number of paths not found by model and year among 213 games')"
      ]
     },
     "execution_count": 35,
     "metadata": {},
     "output_type": "execute_result"
    },
    {
     "data": {
      "image/png": "[encoded data removed]",
      "text/plain": [
       "<Figure size 708.375x600 with 1 Axes>"
      ]
     },
     "metadata": {},
     "output_type": "display_data"
    }
   ],
   "source": [
    "## count null paths for all model\n",
    "llama3_2007_null = llama3_2007[\"path\"].isnull().sum()\n",
    "llama3_2024_null = llama3_2024[\"path\"].isnull().sum()\n",
    "mistral_2007_null = mistral_2007[\"path\"].isnull().sum()\n",
    "mistral_2024_null = mistral_2024[\"path\"].isnull().sum()\n",
    "\n",
    "null_paths = pd.DataFrame({ \"model\": [\"llama3\", \"llama3\", \"mistral\", \"mistral\"], \"year\": [2007, 2024, 2007, 2024], \"null_paths\": [llama3_2007_null, llama3_2024_null, mistral_2007_null, mistral_2024_null]})\n",
    "\n",
    "sns.set_theme(style=\"whitegrid\")\n",
    "g = sns.catplot(x=\"year\", y=\"null_paths\", hue=\"model\", data=null_paths, kind=\"bar\", height=6, alpha=.6, palette=\"dark\",errorbar=\"sd\")\n",
    "g.despine(left=True)\n",
    "g.set_axis_labels(\"Year\", \"# of paths not found\")\n",
    "plt.title(\"Number of paths not found by model and year among 213 games\")"
   ]
  },
  {
   "cell_type": "markdown",
   "metadata": {},
   "source": [
    "On the bar plot above, we can observe that mistral struggled more to find paths than llama3 within 100 prompts. \n",
    "\n",
    "This result should be treated with coution because the LLMs only played each game once. In the future, we will have several games to compare in order to increase the confidence in the results."
   ]
  },
  {
   "cell_type": "markdown",
   "metadata": {},
   "source": [
    "Data processing :\n",
    "\n",
    "- Remove the games that the llms did not finish\n",
    "- Process path given by the llms by removing periodic loops, consecutive duplicates, cut the list to the first occurence of the target word.\n",
    "- Compute the length of the path\n",
    "- Compute basic statistics on the length of the path for each llm and player"
   ]
  },
  {
   "cell_type": "code",
   "execution_count": 36,
   "metadata": {},
   "outputs": [],
   "source": [
    "# drop null paths\n",
    "llama3_2007 = llama3_2007.dropna()\n",
    "llama3_2024 = llama3_2024.dropna()\n",
    "mistral_2007 = mistral_2007.dropna()\n",
    "mistral_2024 = mistral_2024.dropna()\n",
    "\n",
    "# transform path str(list) to list\n",
    "llama3_2007[\"path\"] = llama3_2007[\"path\"].apply(lambda x: x[1:-1].replace(\"'\", \"\").replace(\" \", \"\").split(','))\n",
    "llama3_2024[\"path\"] = llama3_2024[\"path\"].apply(lambda x: x[1:-1].replace(\"'\", \"\").replace(\" \", \"\").split(','))\n",
    "mistral_2007[\"path\"] = mistral_2007[\"path\"].apply(lambda x: x[1:-1].replace(\"'\", \"\").replace(\" \", \"\").split(','))\n",
    "mistral_2024[\"path\"] = mistral_2024[\"path\"].apply(lambda x: x[1:-1].replace(\"'\", \"\").replace(\" \", \"\").split(','))"
   ]
  },
  {
   "cell_type": "code",
   "execution_count": 37,
   "metadata": {},
   "outputs": [],
   "source": [
    "# Post processing on paths \n",
    "llama3_2007[\"path\"] = llama3_2007[\"path\"].apply(post_processing)\n",
    "llama3_2024[\"path\"] = llama3_2024[\"path\"].apply(post_processing)\n",
    "mistral_2007[\"path\"] = mistral_2007[\"path\"].apply(post_processing)\n",
    "mistral_2024[\"path\"] = mistral_2024[\"path\"].apply(post_processing)"
   ]
  },
  {
   "cell_type": "code",
   "execution_count": 38,
   "metadata": {},
   "outputs": [],
   "source": [
    "llama3_2007[\"length\"] = llama3_2007[\"path\"].apply(len)\n",
    "llama3_2024[\"length\"] = llama3_2024[\"path\"].apply(len)\n",
    "mistral_2007[\"length\"] = mistral_2007[\"path\"].apply(len)\n",
    "mistral_2024[\"length\"] = mistral_2024[\"path\"].apply(len)"
   ]
  },
  {
   "cell_type": "code",
   "execution_count": 39,
   "metadata": {},
   "outputs": [],
   "source": [
    "# Compute the average length of the path for each model\n",
    "avglen = pd.DataFrame(players_2007[\"length\"].groupby(by=['start', 'end']).agg(['mean', 'std', 'median', 'count']))\n",
    "avglen = pd.merge(avglen, llama3_2007['length'], left_index=True, right_index=True)\n",
    "avglen = avglen.rename(columns={'length':'llama3_2007'})\n",
    "avglen = pd.merge(avglen, llama3_2024['length'], left_index=True, right_index=True)\n",
    "avglen = avglen.rename(columns={'length':'llama3_2024'})\n",
    "avglen = pd.merge(avglen, mistral_2007['length'], left_index=True, right_index=True)\n",
    "avglen = avglen.rename(columns={'length':'mistral_2007'})\n",
    "avglen = pd.merge(avglen, mistral_2024['length'], left_index=True, right_index=True)\n",
    "avglen = avglen.rename(columns={'length':'mistral_2024'})"
   ]
  },
  {
   "cell_type": "code",
   "execution_count": 40,
   "metadata": {},
   "outputs": [],
   "source": [
    "avglen.reset_index(inplace=True)"
   ]
  },
  {
   "cell_type": "code",
   "execution_count": 41,
   "metadata": {},
   "outputs": [
    {
     "data": {
      "application/vnd.plotly.v1+json": {
       "config": {
        "plotlyServerURL": "https://plot.ly"
       },
       "data": [
        {
         "marker": {
          "color": "red",
          "symbol": "x"
         },
         "mode": "markers",
         "name": "llama3_2007 performance",
         "type": "scatter",
         "x": [
          11,
          6,
          4,
          5,
          8,
          3,
          19,
          5,
          3,
          8,
          3,
          6,
          10,
          4,
          4,
          6,
          9,
          8,
          7,
          5,
          3,
          2,
          7,
          14,
          11,
          6,
          6,
          7,
          25,
          7,
          12,
          4,
          11,
          6,
          7,
          3,
          5,
          7,
          10,
          2,
          9,
          21,
          11,
          8,
          4,
          5,
          7,
          3,
          9,
          7,
          6,
          5,
          7,
          6,
          6,
          5,
          3,
          5,
          4,
          8,
          15,
          6,
          14,
          3,
          7,
          5,
          13,
          5,
          7,
          6,
          4,
          4,
          7,
          8,
          7,
          8,
          2,
          4,
          5,
          5,
          5,
          3,
          6,
          8,
          5,
          4,
          14,
          5,
          4,
          11,
          13,
          4,
          4,
          15,
          5,
          4,
          4,
          5,
          4,
          3,
          3,
          7,
          2,
          13,
          6,
          8,
          9,
          4,
          5,
          5,
          11,
          2,
          21,
          8,
          2,
          5,
          3,
          4,
          2,
          7,
          5,
          4,
          8,
          5,
          4,
          8,
          5,
          4,
          6,
          9,
          8,
          165,
          3,
          4,
          4,
          7,
          9,
          6
         ],
         "y": [
          0,
          1,
          2,
          3,
          4,
          5,
          6,
          7,
          8,
          9,
          10,
          11,
          12,
          13,
          14,
          15,
          16,
          17,
          18,
          19,
          20,
          21,
          22,
          23,
          24,
          25,
          26,
          27,
          28,
          29,
          30,
          31,
          32,
          33,
          34,
          35,
          36,
          37,
          38,
          39,
          40,
          41,
          42,
          43,
          44,
          45,
          46,
          47,
          48,
          49,
          50,
          51,
          52,
          53,
          54,
          55,
          56,
          57,
          58,
          59,
          60,
          61,
          62,
          63,
          64,
          65,
          66,
          67,
          68,
          69,
          70,
          71,
          72,
          73,
          74,
          75,
          76,
          77,
          78,
          79,
          80,
          81,
          82,
          83,
          84,
          85,
          86,
          87,
          88,
          89,
          90,
          91,
          92,
          93,
          94,
          95,
          96,
          97,
          98,
          99,
          100,
          101,
          102,
          103,
          104,
          105,
          106,
          107,
          108,
          109,
          110,
          111,
          112,
          113,
          114,
          115,
          116,
          117,
          118,
          119,
          120,
          121,
          122,
          123,
          124,
          125,
          126,
          127,
          128,
          129,
          130,
          131,
          132,
          133,
          134,
          135,
          136,
          137
         ]
        },
        {
         "marker": {
          "color": "green",
          "symbol": "x"
         },
         "mode": "markers",
         "name": "mistral_2007 performance",
         "type": "scatter",
         "x": [
          5,
          7,
          4,
          4,
          13,
          3,
          31,
          5,
          3,
          6,
          3,
          5,
          13,
          6,
          4,
          5,
          7,
          18,
          15,
          7,
          3,
          2,
          10,
          5,
          3,
          11,
          4,
          65,
          10,
          16,
          9,
          6,
          6,
          6,
          6,
          7,
          5,
          7,
          9,
          63,
          13,
          7,
          9,
          6,
          4,
          4,
          5,
          4,
          45,
          5,
          5,
          5,
          6,
          6,
          6,
          8,
          6,
          23,
          12,
          6,
          8,
          5,
          8,
          4,
          4,
          10,
          5,
          4,
          31,
          24,
          6,
          4,
          6,
          8,
          56,
          9,
          2,
          13,
          6,
          4,
          10,
          3,
          8,
          14,
          4,
          4,
          10,
          3,
          5,
          3,
          12,
          5,
          8,
          9,
          7,
          13,
          6,
          10,
          19,
          3,
          3,
          5,
          5,
          31,
          7,
          4,
          6,
          5,
          12,
          7,
          5,
          2,
          14,
          5,
          2,
          12,
          3,
          5,
          2,
          5,
          7,
          6,
          17,
          52,
          7,
          9,
          5,
          9,
          6,
          16,
          7,
          5,
          5,
          5,
          4,
          6,
          7,
          6
         ],
         "y": [
          0,
          1,
          2,
          3,
          4,
          5,
          6,
          7,
          8,
          9,
          10,
          11,
          12,
          13,
          14,
          15,
          16,
          17,
          18,
          19,
          20,
          21,
          22,
          23,
          24,
          25,
          26,
          27,
          28,
          29,
          30,
          31,
          32,
          33,
          34,
          35,
          36,
          37,
          38,
          39,
          40,
          41,
          42,
          43,
          44,
          45,
          46,
          47,
          48,
          49,
          50,
          51,
          52,
          53,
          54,
          55,
          56,
          57,
          58,
          59,
          60,
          61,
          62,
          63,
          64,
          65,
          66,
          67,
          68,
          69,
          70,
          71,
          72,
          73,
          74,
          75,
          76,
          77,
          78,
          79,
          80,
          81,
          82,
          83,
          84,
          85,
          86,
          87,
          88,
          89,
          90,
          91,
          92,
          93,
          94,
          95,
          96,
          97,
          98,
          99,
          100,
          101,
          102,
          103,
          104,
          105,
          106,
          107,
          108,
          109,
          110,
          111,
          112,
          113,
          114,
          115,
          116,
          117,
          118,
          119,
          120,
          121,
          122,
          123,
          124,
          125,
          126,
          127,
          128,
          129,
          130,
          131,
          132,
          133,
          134,
          135,
          136,
          137
         ]
        },
        {
         "error_x": {
          "array": [
           7.260712686640943,
           6.845923361144693,
           4.065637928382935,
           4.4687466889159175,
           8.316467781674884,
           3.393398225253192,
           6.895034588476304,
           4.767410736259792,
           1.2649110640673513,
           10.513204674478306,
           2.056668436445521,
           3.5023801430836525,
           7.061792092877361,
           2.2074254852038093,
           4.468746688915917,
           5.116422361159972,
           9.5248315363363,
           2.3190036174568114,
           3.0110906108363245,
           5.250258792793393,
           0,
           0,
           18.718974330876144,
           5.5256975426938935,
           8.563488385776752,
           5.909714983211601,
           6.0384107606039095,
           2.7326104802922013,
           4.953467684891379,
           5.440107649838381,
           3.328201177351374,
           1.4609542606730224,
           5.797080136363209,
           3.587229718635756,
           1.8877596148970783,
           2.9439202887759484,
           2.870962250261094,
           6.452758730813919,
           7.443993785479732,
           0,
           2.661665062137847,
           5.275043787166296,
           6.826764002627005,
           3.9832674144464266,
           3.459724984691264,
           2.9185136186417115,
           5.101072998057742,
           9.395034149308168,
           5.6672433385927174,
           6.4944420682440285,
           6.458760075725216,
           3.316016848861821,
           4.496463256625347,
           5.793549636561712,
           5.9489895100324555,
           9.17662935482247,
           2.1821789023599236,
           8.804039476916893,
           3.177556623707294,
           7.563432672038614,
           7.230437108447925,
           8.700301034748056,
           2.8596814119369625,
           2.8938329263881064,
           4.1904653679513935,
           5.016336946780625,
           3.015113445777636,
           5.5311306794729225,
           10.892032116935923,
           7.588790653967441,
           8.67304299982695,
           2.7291529568840525,
           4.652778916771315,
           7.442477825998287,
           4.1429019254185055,
           3.832872172524032,
           3.335237551331168,
           3.393594483211498,
           6.4944420682440285,
           4.988876515698588,
           15.503665255791493,
           4.217567875906538,
           6.963933626405075,
           6.599974770786863,
           6.285786435372356,
           3.283798613394758,
           0.554700196225229,
           3.7573457465108966,
           2.287165625174586,
           1.4770978917519935,
           4.881001518559057,
           0,
           3.057103588846995,
           3.1565228279922772,
           6.786796450506386,
           1.6613951721756792,
           5.033222956847167,
           6.425643072011462,
           1.7235394498804255,
           2.503331114069145,
           13.131810402394807,
           2.226324715563845,
           0,
           5.265669257299848,
           5.323520384204962,
           3.0983866769659336,
           3.8239014399199966,
           1.5569978883230458,
           2.7529888064467416,
           3.7955439460179945,
           2.5725827135743993,
           17.344684927610974,
           5.846176338238336,
           3.8455011101128007,
           0,
           5.821589910918588,
           6.095535707019979,
           3.6674990730127592,
           0.5547001962252293,
           13.51632010167372,
           2.669046557070431,
           1.0571882797418486,
           4.825856285561029,
           7.130529043797833,
           3.272783388968954,
           7.860108062358307,
           2.491891612715892,
           3.1565228279922772,
           4.422535870901645,
           19.459982247959765,
           3.1132471299766253,
           7.698924383292689,
           0.7262730392025629,
           3.7729688731351945,
           2.0164161440372537,
           2.9514591494904874,
           5.902918298980974,
           2.2401298663653
          ],
          "type": "data",
          "visible": true
         },
         "marker": {
          "color": "LightSkyBlue",
          "symbol": "circle"
         },
         "mode": "markers",
         "name": "Player mean",
         "opacity": 0.8,
         "type": "scatter",
         "x": [
          7.444444444444445,
          7.625,
          5.411764705882353,
          5.416666666666667,
          9.090909090909092,
          5.166666666666667,
          8.391304347826088,
          6.4,
          4.6,
          7.642857142857143,
          4.333333333333333,
          6.2,
          9.342857142857143,
          4.7272727272727275,
          5.416666666666667,
          6.9,
          9.047619047619047,
          6.3,
          6.4,
          6.25,
          3,
          2,
          10.4,
          6.566666666666666,
          8.833333333333334,
          7.741935483870968,
          7.516778523489933,
          5.787234042553192,
          6.15,
          6.888888888888889,
          4.538461538461538,
          4.478260869565218,
          7.260869565217392,
          5.790697674418604,
          5.909090909090909,
          4.416666666666667,
          5.666666666666667,
          8.533333333333333,
          7.875,
          2,
          5.420168067226891,
          7,
          7.263513513513513,
          5.181818181818182,
          4.916666666666667,
          5.401869158878505,
          5.695652173913044,
          6.733333333333333,
          6.166666666666667,
          8.1,
          7.051973051010587,
          5.65625,
          6.363636363636363,
          8.869565217391305,
          8.380952380952381,
          7,
          4.761904761904762,
          7.6,
          5.296296296296297,
          7.192982456140351,
          8.196428571428571,
          8.066666666666666,
          6.6,
          4.7368421052631575,
          4.84,
          9.090909090909092,
          5.545454545454546,
          6.571428571428571,
          8.75,
          7.6923076923076925,
          8.344827586206897,
          4.827586206896552,
          7.214285714285714,
          8.619047619047619,
          6.909090909090909,
          9.545454545454545,
          3.2666666666666666,
          4.428571428571429,
          8.1,
          6,
          8.909090909090908,
          6.083333333333333,
          7.622641509433962,
          7.25531914893617,
          6.9,
          6.1875,
          6.076923076923077,
          6.529411764705882,
          4.761904761904762,
          4,
          5.428571428571429,
          3,
          5.0588235294117645,
          6.090909090909091,
          8.333333333333334,
          4.631578947368421,
          6.166666666666667,
          9.1,
          5.647058823529412,
          3.7,
          8,
          4.25,
          2,
          8.25,
          6.444444444444445,
          4.6,
          7.9,
          5.333333333333333,
          5.684210526315789,
          6.1923076923076925,
          6.636363636363637,
          5.266666666666667,
          10.9,
          7.333333333333333,
          3,
          8.454545454545455,
          5.2,
          5.857142857142857,
          2.076923076923077,
          10.545454545454545,
          5.933333333333334,
          4.176470588235294,
          6.4,
          6.4,
          5.3,
          8.180967238689547,
          5.466666666666667,
          4.909090909090909,
          8.529411764705882,
          9.454545454545455,
          6.384615384615385,
          7.83646408839779,
          3.142857142857143,
          6.5,
          5.642857142857143,
          7.2,
          9.6,
          7.363636363636363
         ],
         "y": [
          0,
          1,
          2,
          3,
          4,
          5,
          6,
          7,
          8,
          9,
          10,
          11,
          12,
          13,
          14,
          15,
          16,
          17,
          18,
          19,
          20,
          21,
          22,
          23,
          24,
          25,
          26,
          27,
          28,
          29,
          30,
          31,
          32,
          33,
          34,
          35,
          36,
          37,
          38,
          39,
          40,
          41,
          42,
          43,
          44,
          45,
          46,
          47,
          48,
          49,
          50,
          51,
          52,
          53,
          54,
          55,
          56,
          57,
          58,
          59,
          60,
          61,
          62,
          63,
          64,
          65,
          66,
          67,
          68,
          69,
          70,
          71,
          72,
          73,
          74,
          75,
          76,
          77,
          78,
          79,
          80,
          81,
          82,
          83,
          84,
          85,
          86,
          87,
          88,
          89,
          90,
          91,
          92,
          93,
          94,
          95,
          96,
          97,
          98,
          99,
          100,
          101,
          102,
          103,
          104,
          105,
          106,
          107,
          108,
          109,
          110,
          111,
          112,
          113,
          114,
          115,
          116,
          117,
          118,
          119,
          120,
          121,
          122,
          123,
          124,
          125,
          126,
          127,
          128,
          129,
          130,
          131,
          132,
          133,
          134,
          135,
          136,
          137
         ]
        }
       ],
       "layout": {
        "height": 2000,
        "template": {
         "data": {
          "bar": [
           {
            "error_x": {
             "color": "#2a3f5f"
            },
            "error_y": {
             "color": "#2a3f5f"
            },
            "marker": {
             "line": {
              "color": "white",
              "width": 0.5
             },
             "pattern": {
              "fillmode": "overlay",
              "size": 10,
              "solidity": 0.2
             }
            },
            "type": "bar"
           }
          ],
          "barpolar": [
           {
            "marker": {
             "line": {
              "color": "white",
              "width": 0.5
             },
             "pattern": {
              "fillmode": "overlay",
              "size": 10,
              "solidity": 0.2
             }
            },
            "type": "barpolar"
           }
          ],
          "carpet": [
           {
            "aaxis": {
             "endlinecolor": "#2a3f5f",
             "gridcolor": "#C8D4E3",
             "linecolor": "#C8D4E3",
             "minorgridcolor": "#C8D4E3",
             "startlinecolor": "#2a3f5f"
            },
            "baxis": {
             "endlinecolor": "#2a3f5f",
             "gridcolor": "#C8D4E3",
             "linecolor": "#C8D4E3",
             "minorgridcolor": "#C8D4E3",
             "startlinecolor": "#2a3f5f"
            },
            "type": "carpet"
           }
          ],
          "choropleth": [
           {
            "colorbar": {
             "outlinewidth": 0,
             "ticks": ""
            },
            "type": "choropleth"
           }
          ],
          "contour": [
           {
            "colorbar": {
             "outlinewidth": 0,
             "ticks": ""
            },
            "colorscale": [
             [
              0,
              "#0d0887"
             ],
             [
              0.1111111111111111,
              "#46039f"
             ],
             [
              0.2222222222222222,
              "#7201a8"
             ],
             [
              0.3333333333333333,
              "#9c179e"
             ],
             [
              0.4444444444444444,
              "#bd3786"
             ],
             [
              0.5555555555555556,
              "#d8576b"
             ],
             [
              0.6666666666666666,
              "#ed7953"
             ],
             [
              0.7777777777777778,
              "#fb9f3a"
             ],
             [
              0.8888888888888888,
              "#fdca26"
             ],
             [
              1,
              "#f0f921"
             ]
            ],
            "type": "contour"
           }
          ],
          "contourcarpet": [
           {
            "colorbar": {
             "outlinewidth": 0,
             "ticks": ""
            },
            "type": "contourcarpet"
           }
          ],
          "heatmap": [
           {
            "colorbar": {
             "outlinewidth": 0,
             "ticks": ""
            },
            "colorscale": [
             [
              0,
              "#0d0887"
             ],
             [
              0.1111111111111111,
              "#46039f"
             ],
             [
              0.2222222222222222,
              "#7201a8"
             ],
             [
              0.3333333333333333,
              "#9c179e"
             ],
             [
              0.4444444444444444,
              "#bd3786"
             ],
             [
              0.5555555555555556,
              "#d8576b"
             ],
             [
              0.6666666666666666,
              "#ed7953"
             ],
             [
              0.7777777777777778,
              "#fb9f3a"
             ],
             [
              0.8888888888888888,
              "#fdca26"
             ],
             [
              1,
              "#f0f921"
             ]
            ],
            "type": "heatmap"
           }
          ],
          "heatmapgl": [
           {
            "colorbar": {
             "outlinewidth": 0,
             "ticks": ""
            },
            "colorscale": [
             [
              0,
              "#0d0887"
             ],
             [
              0.1111111111111111,
              "#46039f"
             ],
             [
              0.2222222222222222,
              "#7201a8"
             ],
             [
              0.3333333333333333,
              "#9c179e"
             ],
             [
              0.4444444444444444,
              "#bd3786"
             ],
             [
              0.5555555555555556,
              "#d8576b"
             ],
             [
              0.6666666666666666,
              "#ed7953"
             ],
             [
              0.7777777777777778,
              "#fb9f3a"
             ],
             [
              0.8888888888888888,
              "#fdca26"
             ],
             [
              1,
              "#f0f921"
             ]
            ],
            "type": "heatmapgl"
           }
          ],
          "histogram": [
           {
            "marker": {
             "pattern": {
              "fillmode": "overlay",
              "size": 10,
              "solidity": 0.2
             }
            },
            "type": "histogram"
           }
          ],
          "histogram2d": [
           {
            "colorbar": {
             "outlinewidth": 0,
             "ticks": ""
            },
            "colorscale": [
             [
              0,
              "#0d0887"
             ],
             [
              0.1111111111111111,
              "#46039f"
             ],
             [
              0.2222222222222222,
              "#7201a8"
             ],
             [
              0.3333333333333333,
              "#9c179e"
             ],
             [
              0.4444444444444444,
              "#bd3786"
             ],
             [
              0.5555555555555556,
              "#d8576b"
             ],
             [
              0.6666666666666666,
              "#ed7953"
             ],
             [
              0.7777777777777778,
              "#fb9f3a"
             ],
             [
              0.8888888888888888,
              "#fdca26"
             ],
             [
              1,
              "#f0f921"
             ]
            ],
            "type": "histogram2d"
           }
          ],
          "histogram2dcontour": [
           {
            "colorbar": {
             "outlinewidth": 0,
             "ticks": ""
            },
            "colorscale": [
             [
              0,
              "#0d0887"
             ],
             [
              0.1111111111111111,
              "#46039f"
             ],
             [
              0.2222222222222222,
              "#7201a8"
             ],
             [
              0.3333333333333333,
              "#9c179e"
             ],
             [
              0.4444444444444444,
              "#bd3786"
             ],
             [
              0.5555555555555556,
              "#d8576b"
             ],
             [
              0.6666666666666666,
              "#ed7953"
             ],
             [
              0.7777777777777778,
              "#fb9f3a"
             ],
             [
              0.8888888888888888,
              "#fdca26"
             ],
             [
              1,
              "#f0f921"
             ]
            ],
            "type": "histogram2dcontour"
           }
          ],
          "mesh3d": [
           {
            "colorbar": {
             "outlinewidth": 0,
             "ticks": ""
            },
            "type": "mesh3d"
           }
          ],
          "parcoords": [
           {
            "line": {
             "colorbar": {
              "outlinewidth": 0,
              "ticks": ""
             }
            },
            "type": "parcoords"
           }
          ],
          "pie": [
           {
            "automargin": true,
            "type": "pie"
           }
          ],
          "scatter": [
           {
            "fillpattern": {
             "fillmode": "overlay",
             "size": 10,
             "solidity": 0.2
            },
            "type": "scatter"
           }
          ],
          "scatter3d": [
           {
            "line": {
             "colorbar": {
              "outlinewidth": 0,
              "ticks": ""
             }
            },
            "marker": {
             "colorbar": {
              "outlinewidth": 0,
              "ticks": ""
             }
            },
            "type": "scatter3d"
           }
          ],
          "scattercarpet": [
           {
            "marker": {
             "colorbar": {
              "outlinewidth": 0,
              "ticks": ""
             }
            },
            "type": "scattercarpet"
           }
          ],
          "scattergeo": [
           {
            "marker": {
             "colorbar": {
              "outlinewidth": 0,
              "ticks": ""
             }
            },
            "type": "scattergeo"
           }
          ],
          "scattergl": [
           {
            "marker": {
             "colorbar": {
              "outlinewidth": 0,
              "ticks": ""
             }
            },
            "type": "scattergl"
           }
          ],
          "scattermapbox": [
           {
            "marker": {
             "colorbar": {
              "outlinewidth": 0,
              "ticks": ""
             }
            },
            "type": "scattermapbox"
           }
          ],
          "scatterpolar": [
           {
            "marker": {
             "colorbar": {
              "outlinewidth": 0,
              "ticks": ""
             }
            },
            "type": "scatterpolar"
           }
          ],
          "scatterpolargl": [
           {
            "marker": {
             "colorbar": {
              "outlinewidth": 0,
              "ticks": ""
             }
            },
            "type": "scatterpolargl"
           }
          ],
          "scatterternary": [
           {
            "marker": {
             "colorbar": {
              "outlinewidth": 0,
              "ticks": ""
             }
            },
            "type": "scatterternary"
           }
          ],
          "surface": [
           {
            "colorbar": {
             "outlinewidth": 0,
             "ticks": ""
            },
            "colorscale": [
             [
              0,
              "#0d0887"
             ],
             [
              0.1111111111111111,
              "#46039f"
             ],
             [
              0.2222222222222222,
              "#7201a8"
             ],
             [
              0.3333333333333333,
              "#9c179e"
             ],
             [
              0.4444444444444444,
              "#bd3786"
             ],
             [
              0.5555555555555556,
              "#d8576b"
             ],
             [
              0.6666666666666666,
              "#ed7953"
             ],
             [
              0.7777777777777778,
              "#fb9f3a"
             ],
             [
              0.8888888888888888,
              "#fdca26"
             ],
             [
              1,
              "#f0f921"
             ]
            ],
            "type": "surface"
           }
          ],
          "table": [
           {
            "cells": {
             "fill": {
              "color": "#EBF0F8"
             },
             "line": {
              "color": "white"
             }
            },
            "header": {
             "fill": {
              "color": "#C8D4E3"
             },
             "line": {
              "color": "white"
             }
            },
            "type": "table"
           }
          ]
         },
         "layout": {
          "annotationdefaults": {
           "arrowcolor": "#2a3f5f",
           "arrowhead": 0,
           "arrowwidth": 1
          },
          "autotypenumbers": "strict",
          "coloraxis": {
           "colorbar": {
            "outlinewidth": 0,
            "ticks": ""
           }
          },
          "colorscale": {
           "diverging": [
            [
             0,
             "#8e0152"
            ],
            [
             0.1,
             "#c51b7d"
            ],
            [
             0.2,
             "#de77ae"
            ],
            [
             0.3,
             "#f1b6da"
            ],
            [
             0.4,
             "#fde0ef"
            ],
            [
             0.5,
             "#f7f7f7"
            ],
            [
             0.6,
             "#e6f5d0"
            ],
            [
             0.7,
             "#b8e186"
            ],
            [
             0.8,
             "#7fbc41"
            ],
            [
             0.9,
             "#4d9221"
            ],
            [
             1,
             "#276419"
            ]
           ],
           "sequential": [
            [
             0,
             "#0d0887"
            ],
            [
             0.1111111111111111,
             "#46039f"
            ],
            [
             0.2222222222222222,
             "#7201a8"
            ],
            [
             0.3333333333333333,
             "#9c179e"
            ],
            [
             0.4444444444444444,
             "#bd3786"
            ],
            [
             0.5555555555555556,
             "#d8576b"
            ],
            [
             0.6666666666666666,
             "#ed7953"
            ],
            [
             0.7777777777777778,
             "#fb9f3a"
            ],
            [
             0.8888888888888888,
             "#fdca26"
            ],
            [
             1,
             "#f0f921"
            ]
           ],
           "sequentialminus": [
            [
             0,
             "#0d0887"
            ],
            [
             0.1111111111111111,
             "#46039f"
            ],
            [
             0.2222222222222222,
             "#7201a8"
            ],
            [
             0.3333333333333333,
             "#9c179e"
            ],
            [
             0.4444444444444444,
             "#bd3786"
            ],
            [
             0.5555555555555556,
             "#d8576b"
            ],
            [
             0.6666666666666666,
             "#ed7953"
            ],
            [
             0.7777777777777778,
             "#fb9f3a"
            ],
            [
             0.8888888888888888,
             "#fdca26"
            ],
            [
             1,
             "#f0f921"
            ]
           ]
          },
          "colorway": [
           "#636efa",
           "#EF553B",
           "#00cc96",
           "#ab63fa",
           "#FFA15A",
           "#19d3f3",
           "#FF6692",
           "#B6E880",
           "#FF97FF",
           "#FECB52"
          ],
          "font": {
           "color": "#2a3f5f"
          },
          "geo": {
           "bgcolor": "white",
           "lakecolor": "white",
           "landcolor": "white",
           "showlakes": true,
           "showland": true,
           "subunitcolor": "#C8D4E3"
          },
          "hoverlabel": {
           "align": "left"
          },
          "hovermode": "closest",
          "mapbox": {
           "style": "light"
          },
          "paper_bgcolor": "white",
          "plot_bgcolor": "white",
          "polar": {
           "angularaxis": {
            "gridcolor": "#EBF0F8",
            "linecolor": "#EBF0F8",
            "ticks": ""
           },
           "bgcolor": "white",
           "radialaxis": {
            "gridcolor": "#EBF0F8",
            "linecolor": "#EBF0F8",
            "ticks": ""
           }
          },
          "scene": {
           "xaxis": {
            "backgroundcolor": "white",
            "gridcolor": "#DFE8F3",
            "gridwidth": 2,
            "linecolor": "#EBF0F8",
            "showbackground": true,
            "ticks": "",
            "zerolinecolor": "#EBF0F8"
           },
           "yaxis": {
            "backgroundcolor": "white",
            "gridcolor": "#DFE8F3",
            "gridwidth": 2,
            "linecolor": "#EBF0F8",
            "showbackground": true,
            "ticks": "",
            "zerolinecolor": "#EBF0F8"
           },
           "zaxis": {
            "backgroundcolor": "white",
            "gridcolor": "#DFE8F3",
            "gridwidth": 2,
            "linecolor": "#EBF0F8",
            "showbackground": true,
            "ticks": "",
            "zerolinecolor": "#EBF0F8"
           }
          },
          "shapedefaults": {
           "line": {
            "color": "#2a3f5f"
           }
          },
          "ternary": {
           "aaxis": {
            "gridcolor": "#DFE8F3",
            "linecolor": "#A2B1C6",
            "ticks": ""
           },
           "baxis": {
            "gridcolor": "#DFE8F3",
            "linecolor": "#A2B1C6",
            "ticks": ""
           },
           "bgcolor": "white",
           "caxis": {
            "gridcolor": "#DFE8F3",
            "linecolor": "#A2B1C6",
            "ticks": ""
           }
          },
          "title": {
           "x": 0.05
          },
          "xaxis": {
           "automargin": true,
           "gridcolor": "#EBF0F8",
           "linecolor": "#EBF0F8",
           "ticks": "",
           "title": {
            "standoff": 15
           },
           "zerolinecolor": "#EBF0F8",
           "zerolinewidth": 2
          },
          "yaxis": {
           "automargin": true,
           "gridcolor": "#EBF0F8",
           "linecolor": "#EBF0F8",
           "ticks": "",
           "title": {
            "standoff": 15
           },
           "zerolinecolor": "#EBF0F8",
           "zerolinewidth": 2
          }
         }
        },
        "title": {
         "text": "Comparaison of path length",
         "x": 0.5
        },
        "width": 1000,
        "xaxis": {
         "title": {
          "text": "Length"
         }
        },
        "yaxis": {
         "tickmode": "array",
         "ticktext": [
          "14th_century -> Rainbow",
          "15th_century -> Windows_Vista",
          "AIDS -> Jesus",
          "AT%26T -> Vegetable",
          "Acceleration -> Mozilla_Firefox",
          "Achilles -> Winston_Churchill",
          "Achilles_tendon -> Ivory",
          "Achilles_tendon -> Ocean",
          "Adolf_Hitler -> Jesus",
          "Africa -> Differential_equation",
          "Africa -> England",
          "Age_of_Enlightenment -> Kazakhstan",
          "Aircraft -> Google",
          "Aircraft -> Solar_eclipse",
          "Aircraft -> Yugoslavia",
          "Alpaca -> Nuclear_fission",
          "Aluminium_chloride -> Parrot",
          "American_Civil_War -> Kuwait_City",
          "Anaconda -> Agnosticism",
          "Antlion -> Hip_hop_music",
          "Apple -> Banana",
          "Apple -> Fruit",
          "Archbishop_of_Canterbury -> Neil_Armstrong",
          "Archbishop_of_Canterbury -> Vietnam",
          "Arnold_Schwarzenegger -> Vegetable",
          "Art -> Mango",
          "Asteroid -> Viking",
          "Automobile -> Pluto",
          "Automobile -> Windows_XP",
          "Bamako -> Sun",
          "Bangladesh -> Harry_S._Truman",
          "Batman -> Albert_Einstein",
          "Batman -> Banana",
          "Batman -> Bible",
          "Batman -> Bill_Clinton",
          "Batman -> Japan",
          "Batman -> Jesus",
          "Batman -> Peanut",
          "Batman -> Penguin",
          "Batman -> Superman",
          "Batman -> The_Holocaust",
          "Batman -> Vitamin_D",
          "Batman -> Wood",
          "Beer -> Sun",
          "Beer -> Warsaw",
          "Bird -> Adolf_Hitler",
          "Bird -> Great_white_shark",
          "Bird -> Thomas_Jefferson",
          "Bird_migration -> Hubble_Space_Telescope",
          "Brain -> DVD",
          "Brain -> Telephone",
          "Brazil -> Hydrogen",
          "Brazil -> Vitamin",
          "Brothers_Grimm -> Windows_Vista",
          "Calculus -> Lemon",
          "Calculus -> Paul_McCartney",
          "California -> Adolf_Hitler",
          "Canada -> Pony",
          "Cat -> Adolf_Hitler",
          "Cat -> Computer",
          "Cat -> Microsoft",
          "Chemistry -> Fidel_Castro",
          "Chemistry -> George_H._W._Bush",
          "China -> Afghanistan",
          "China -> Moon",
          "Chocolate -> Velociraptor",
          "Citrus -> Desert",
          "Citrus -> Physics",
          "Colombia -> Meat",
          "Computer -> Baseball",
          "Computer -> Fruit",
          "Computer -> Russia",
          "Computer -> Whale",
          "Computer_programming -> Fresh_water",
          "Continent -> Gorilla",
          "David_Beckham -> Great_white_shark",
          "Dinosaur -> China",
          "Dinosaur -> George_W._Bush",
          "Dodo -> Film",
          "Dog -> Beer",
          "Dog -> Elementary_algebra",
          "Dog -> Sea",
          "Dog -> Telephone",
          "Dog -> Venus",
          "Earless_seal -> Citrus",
          "Earth -> Odysseus",
          "Electricity -> Anne_Frank",
          "Electricity -> God",
          "England -> God",
          "England -> Japan",
          "England -> Train",
          "Famine -> Arctic",
          "Flower -> Adolf_Hitler",
          "Flower -> George_H._W._Bush",
          "Fourteenth_Amendment_to_the_United_States_Constitution -> Reptile",
          "God -> Adolf_Hitler",
          "Google -> God",
          "Gregorian_chant -> Inductance",
          "Human -> Pluto",
          "Hydrogen -> Gold",
          "James_Bond -> Human_rights",
          "Jesus -> Adolf_Hitler",
          "Jesus -> God",
          "Jesus -> Google",
          "Jew -> Telephone",
          "John_Dee -> China",
          "Judaism -> Flute",
          "Linguistics -> Rome",
          "Linux -> Adolf_Hitler",
          "Manchester -> Water",
          "Mario -> God",
          "Mario -> Nintendo",
          "Mathematics -> Juice",
          "Metal -> Prague",
          "Moon -> Mars",
          "Mormon -> Ice",
          "Necktie -> Lion",
          "Nintendo -> Snow",
          "North_America -> Canada",
          "Ocean -> Love",
          "Pikachu -> Jesus",
          "Pikachu -> Sun",
          "Planet -> Nuclear_power",
          "Pluto -> Wall_Street",
          "Pyramid -> Adolf_Hitler",
          "Pyramid -> Bean",
          "Reptile -> Jesus",
          "Seed -> New_York_City",
          "Smog -> Toy_Story",
          "Solar_System -> Babe_Ruth",
          "The_Godfather -> Neptune",
          "Theatre -> Zebra",
          "United_States -> English_language",
          "Video -> China",
          "Volcano -> Alphabet",
          "Wasp -> United_Arab_Emirates",
          "Weasel -> Barium",
          "Weed -> Jesus"
         ],
         "tickvals": [
          0,
          1,
          2,
          3,
          4,
          5,
          6,
          7,
          8,
          9,
          10,
          11,
          12,
          13,
          14,
          15,
          16,
          17,
          18,
          19,
          20,
          21,
          22,
          23,
          24,
          25,
          26,
          27,
          28,
          29,
          30,
          31,
          32,
          33,
          34,
          35,
          36,
          37,
          38,
          39,
          40,
          41,
          42,
          43,
          44,
          45,
          46,
          47,
          48,
          49,
          50,
          51,
          52,
          53,
          54,
          55,
          56,
          57,
          58,
          59,
          60,
          61,
          62,
          63,
          64,
          65,
          66,
          67,
          68,
          69,
          70,
          71,
          72,
          73,
          74,
          75,
          76,
          77,
          78,
          79,
          80,
          81,
          82,
          83,
          84,
          85,
          86,
          87,
          88,
          89,
          90,
          91,
          92,
          93,
          94,
          95,
          96,
          97,
          98,
          99,
          100,
          101,
          102,
          103,
          104,
          105,
          106,
          107,
          108,
          109,
          110,
          111,
          112,
          113,
          114,
          115,
          116,
          117,
          118,
          119,
          120,
          121,
          122,
          123,
          124,
          125,
          126,
          127,
          128,
          129,
          130,
          131,
          132,
          133,
          134,
          135,
          136,
          137
         ],
         "title": {
          "text": "Source -> Target"
         }
        }
       }
      }
     },
     "metadata": {},
     "output_type": "display_data"
    }
   ],
   "source": [
    "generate_performance_scatter(avglen)"
   ]
  },
  {
   "cell_type": "markdown",
   "metadata": {},
   "source": [
    "Llama3 seems to fall more often in the confidence interval of the players in 2007 than mistral. Let's see this in more detail below.\n"
   ]
  },
  {
   "cell_type": "code",
   "execution_count": 42,
   "metadata": {},
   "outputs": [
    {
     "name": "stdout",
     "output_type": "stream",
     "text": [
      "Number of LLM games in CI from player games: 66.66666666666666%\n",
      "Number of Mistral games in CI from player games: 59.42028985507246%\n"
     ]
    },
    {
     "data": {
      "text/plain": [
       "Text(0.5, 1.0, 'Percentage of games in CI from player games')"
      ]
     },
     "execution_count": 42,
     "metadata": {},
     "output_type": "execute_result"
    },
    {
     "data": {
      "image/png": "[encoded data removed]",
      "text/plain": [
       "<Figure size 600x600 with 1 Axes>"
      ]
     },
     "metadata": {},
     "output_type": "display_data"
    }
   ],
   "source": [
    "avglen['llama3_2007_in_CI'] = avglen.apply(lambda x: check_if_in_CI(x,'llama3_2007'), axis=1)\n",
    "avglen[\"mistral_2007_in_CI\"] = avglen.apply(lambda x: check_if_in_CI(x,'mistral_2007'), axis=1)\n",
    "print(f'Number of LLM games in CI from player games: {avglen.llama3_2007_in_CI.mean()*100}%')\n",
    "print(f'Number of Mistral games in CI from player games: {avglen.mistral_2007_in_CI.mean()*100}%')\n",
    "\n",
    "# plot the number of games in CI\n",
    "tmp_llama3 = avglen[\"llama3_2007_in_CI\"].rename(\"in_CI\").to_frame()\n",
    "tmp_llama3[\"model\"] = \"llama3\"\n",
    "tmp_mistral = avglen[\"mistral_2007_in_CI\"].rename(\"in_CI\").to_frame()\n",
    "tmp_mistral[\"model\"] = \"mistral\"\n",
    "\n",
    "ci_model = pd.concat([tmp_llama3, tmp_mistral])\n",
    "\n",
    "sns.set_theme(style=\"whitegrid\")\n",
    "g = sns.catplot(x=\"model\", y=\"in_CI\", hue=\"model\", data=ci_model, kind=\"bar\", height=6, alpha=.6,errorbar=\"sd\")\n",
    "g.despine(left=True)\n",
    "g.set_axis_labels(\"Model\", \"Percentage of games in CI\")\n",
    "plt.title(\"Percentage of games in CI from player games\")"
   ]
  },
  {
   "cell_type": "markdown",
   "metadata": {},
   "source": [
    "Indeed, llama3 fall in 66.67% of the games in the confidence interval of the players in 2007, while mistral only fall in 59.42% of the games in the confidence interval of the players in 2007. \n",
    "\n",
    "But does llama3 take similar paths to the players in 2007 ? \n",
    "\n",
    "let's check that with the jaccard similarity of the article title in the next section.\n",
    "\n",
    "This result should be treated with coution because the LLMs only played each game once. In the future, we will have several games to compare in order to increase the confidence in the results."
   ]
  },
  {
   "cell_type": "code",
   "execution_count": 43,
   "metadata": {},
   "outputs": [
    {
     "name": "stdout",
     "output_type": "stream",
     "text": [
      "Jaccard similarity between player and llama3 2007: 0.27016937576944144\n",
      "Jaccard similarity between player and mistral 2007: 0.32329015886677054\n"
     ]
    },
    {
     "data": {
      "text/plain": [
       "Text(0.5, 1.0, 'Jaccard similarity between player and model')"
      ]
     },
     "execution_count": 43,
     "metadata": {},
     "output_type": "execute_result"
    },
    {
     "data": {
      "image/png": "[encoded data removed]",
      "text/plain": [
       "<Figure size 600x600 with 1 Axes>"
      ]
     },
     "metadata": {},
     "output_type": "display_data"
    }
   ],
   "source": [
    "# compute jaccard similarity between player and model\n",
    "players_2007 = players_2007[\"path\"].apply(fix_path) # removing '<' in the path\n",
    "jaccard_llama3 = pd.merge(players_2007, llama3_2007, on=['start', 'end'], suffixes=('_x', '_y'))\n",
    "jaccard_llama3['jaccard'] = jaccard_llama3.apply(jaccard_similarity, axis=1)\n",
    "print(f'Jaccard similarity between player and llama3 2007: {jaccard_llama3[\"jaccard\"].mean()}')\n",
    "\n",
    "jaccard_mistral = pd.merge(players_2007, mistral_2007, on=['start', 'end'], suffixes=('_x', '_y'))\n",
    "jaccard_mistral['jaccard'] = jaccard_mistral.apply(jaccard_similarity, axis=1)\n",
    "print(f'Jaccard similarity between player and mistral 2007: {jaccard_mistral[\"jaccard\"].mean()}')\n",
    "\n",
    "jaccard_llama3[\"LLM\"] = \"llama3\"\n",
    "jaccard_mistral[\"LLM\"] = \"mistral\"\n",
    "\n",
    "jaccard = pd.concat([jaccard_llama3, jaccard_mistral])\n",
    "sns.set_theme(style=\"whitegrid\")\n",
    "g = sns.catplot(x=\"LLM\", y=\"jaccard\", hue=\"LLM\", data=jaccard, kind=\"bar\", height=6, alpha=.6,errorbar=\"sd\")\n",
    "plt.title(\"Jaccard similarity between player and model\")"
   ]
  },
  {
   "cell_type": "markdown",
   "metadata": {},
   "source": [
    "The jaccard similarity between the paths of the players in 2007 and llama3 is 0.27, which is quite low. This means that llama3 does not take similar paths to the players in 2007. the similarity with mistral is slightly higher with 0.32 but still low.\n"
   ]
  },
  {
   "cell_type": "code",
   "execution_count": 44,
   "metadata": {},
   "outputs": [
    {
     "name": "stdout",
     "output_type": "stream",
     "text": [
      "T-Test between player and llama3 2007: TtestResult(statistic=1.1748021910869217, pvalue=0.24109380717803772, df=274.0)\n",
      "T-Test between player and mistral 2007: TtestResult(statistic=3.2286406525332207, pvalue=0.0013952013335809983, df=274.0)\n"
     ]
    }
   ],
   "source": [
    "# T-Test Compare the means of path lengths (human vs. model)\n",
    "ttest_llama3 = ttest_ind(avglen['llama3_2007'], avglen['mean'])\n",
    "ttest_mistral = ttest_ind(avglen['mistral_2007'], avglen['mean'])\n",
    "print(f'T-Test between player and llama3 2007: {ttest_llama3}')\n",
    "print(f'T-Test between player and mistral 2007: {ttest_mistral}')"
   ]
  },
  {
   "cell_type": "markdown",
   "metadata": {},
   "source": [
    "The result of the T-Test between the paths length mean of the players in 2007 and llama3 is p-value = 0.2410. This means that we cannot reject the null hypothesis that the paths length mean of the players in 2007 and llama3 are equal.\n",
    "\n",
    "the result of the T-Test between the paths length mean of the players in 2007 and mistral is p-value = 0.0014. This means that we can reject the null hypothesis that the paths length mean of the players in 2007 and mistral are equal."
   ]
  },
  {
   "cell_type": "markdown",
   "metadata": {},
   "source": [
    "### Compare the results of the LLMs on 2007 and 2024\n",
    "\n",
    "Based on the previous results, we choose to compare the results of llama3 on 2007 and 2024.\n",
    "\n",
    "**Warning** : At the moment we should be critical about the results, because the llms only played each game once. In the future, we will have several games to compare in order to increase the confidence in the results.\n",
    "\n"
   ]
  },
  {
   "cell_type": "code",
   "execution_count": 45,
   "metadata": {},
   "outputs": [
    {
     "data": {
      "image/png": "[encoded data removed]",
      "text/plain": [
       "<Figure size 1000x500 with 1 Axes>"
      ]
     },
     "metadata": {},
     "output_type": "display_data"
    }
   ],
   "source": [
    "# plot path length distribution of llama3 2007 and 2024\n",
    "plot_path_length_distribution(avglen, 'llama3',log_scale=True)"
   ]
  },
  {
   "cell_type": "markdown",
   "metadata": {},
   "source": [
    "The graph above show a similar distribution of the paths length between 2007 and 2024 for llama3. This means that llama3 does not seem to have evolved between 2007 and 2024.\n",
    "\n",
    "Further analysis will be done in the future once we have more played games to compare."
   ]
  }
 ],
 "metadata": {
  "kernelspec": {
   "display_name": "ada",
   "language": "python",
   "name": "python3"
  },
  "language_info": {
   "codemirror_mode": {
    "name": "ipython",
    "version": 3
   },
   "file_extension": ".py",
   "mimetype": "text/x-python",
   "name": "python",
   "nbconvert_exporter": "python",
   "pygments_lexer": "ipython3",
   "version": "3.11.9"
  }
 },
 "nbformat": 4,
 "nbformat_minor": 2
}
