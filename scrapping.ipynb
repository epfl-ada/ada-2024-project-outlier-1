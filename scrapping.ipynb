{
 "cells": [
  {
   "cell_type": "code",
   "execution_count": 1,
   "metadata": {},
   "outputs": [],
   "source": [
    "import requests\n",
    "from bs4 import BeautifulSoup\n",
    "import csv\n",
    "import pandas as pd\n",
    "from tqdm import tqdm\n",
    "import numpy as np\n",
    "import os\n",
    "from time import sleep"
   ]
  },
  {
   "cell_type": "code",
   "execution_count": 2,
   "metadata": {},
   "outputs": [],
   "source": [
    "def scrape_wikipedia_articles(article_titles):\n",
    "    \"\"\"\n",
    "    Scrapes the content of a list of Wikipedia articles and returns the direct links to those articles.\n",
    "    \n",
    "    Parameters:\n",
    "    article_titles (list): A list of Wikipedia article titles to scrape.\n",
    "    \n",
    "    Returns:\n",
    "    dict: A dictionary where the keys are the article titles and the values are the direct links to those articles.\n",
    "    \"\"\"\n",
    "    article_links = {}\n",
    "    article_names = []\n",
    "    \n",
    "    for title in tqdm(article_titles, desc=\"Scraping Wikipedia articles\", unit=\"article\"):\n",
    "        url = f\"https://en.wikipedia.org/wiki/{title.replace(' ', '_')}\"\n",
    "        response = requests.get(url)\n",
    "        \n",
    "        sleep(0.1) # Be polite to Wikipedia servers\n",
    "        if response.status_code == 200:\n",
    "            soup = BeautifulSoup(response.content, \"html.parser\")\n",
    "            article_links[title] = []\n",
    "            article_names.append(title)\n",
    "            \n",
    "            \n",
    "            # Find the direct link to the current article title\n",
    "            for link in soup.find_all(\"a\", href=lambda href: href and href.startswith(\"/wiki/\")):\n",
    "                list_href = link.get(\"href\").splitlines()\n",
    "                for href in list_href:\n",
    "                    if href.split('/')[-1] in article_titles and href.split('/')[-1] != title:\n",
    "                        article_links[title].append(href.split('/')[-1])\n",
    "        else:\n",
    "            print(f\"Error scraping {title}: {response.status_code}\")\n",
    "    \n",
    "    return article_links, article_names\n",
    "\n",
    "\n",
    "def write_to_csv(data, filename):\n",
    "    with open(filename, 'w', newline='', encoding='utf-8') as csvfile:\n",
    "        writer = csv.writer(csvfile, delimiter='\\t')\n",
    "        writer.writerow(['# Hierarchical categories of all articles.'])\n",
    "        writer.writerow(['# Many articles have more than one category. Some articles have no category.'])\n",
    "        writer.writerow(['# Article names are URL-encoded; e.g., in Java they can be decoded using java.net.URLDecoder.decode(articleName, \"UTF-8\").'])\n",
    "        writer.writerow(['# FORMAT:   article   category'])\n",
    "        writer.writerow(['#'])\n",
    "        writer.writerows(data)\n",
    "\n",
    "\n",
    "def export_links_to_csv(article_links, output_file):\n",
    "    \"\"\"\n",
    "    Exports the direct links to the Wikipedia articles to a CSV file.\n",
    "    \n",
    "    Parameters:\n",
    "    article_links (dict): A dictionary where the keys are the article titles and the values are the direct links to those articles.\n",
    "    output_file (str): The path to the output CSV file.\n",
    "    \"\"\"\n",
    "    with open(output_file, \"w\", newline=\"\") as csvfile:\n",
    "        writer = csv.writer(csvfile)\n",
    "        writer.writerow([\"linkSource\", \"linkTarget\"])\n",
    "        \n",
    "        for source, targets in article_links.items():\n",
    "            if len(targets) > 0:\n",
    "                for target in targets:\n",
    "                    writer.writerow([source, target])\n",
    "\n",
    "def export_articles_to_csv(articles, output_file):\n",
    "    \"\"\"\n",
    "    Exports the direct links to the Wikipedia articles to a CSV file.\n",
    "    \n",
    "    Parameters:\n",
    "    article_links (dict): A dictionary where the keys are the article titles and the values are the direct links to those articles.\n",
    "    output_file (str): The path to the output CSV file.\n",
    "    \"\"\"\n",
    "    with open(output_file, \"w\", newline=\"\") as csvfile:\n",
    "        writer = csv.writer(csvfile)\n",
    "        writer.writerow([\"article\"])\n",
    "        \n",
    "        for article in articles:\n",
    "            writer.writerow([article])\n",
    "\n",
    "\n",
    "\n",
    "# def export_categories_to_csv(article_categories, output_file):\n",
    "#     \"\"\"\n",
    "#     Exports the direct links to the Wikipedia articles to a CSV file.\n",
    "    \n",
    "#     Parameters:\n",
    "#     article_links (dict): A dictionary where the keys are the article titles and the values are the direct links to those articles.\n",
    "#     output_file (str): The path to the output CSV file.\n",
    "#     \"\"\"\n",
    "#     with open(output_file, \"w\", newline=\"\") as csvfile:\n",
    "#         writer = csv.writer(csvfile)\n",
    "#         writer.writerow([\"article\", \"category\"])\n",
    "        \n",
    "#         for article, category in article_categories.items():\n",
    "#             writer.writerow([article, category])\n",
    "        "
   ]
  },
  {
   "cell_type": "code",
   "execution_count": 3,
   "metadata": {},
   "outputs": [],
   "source": [
    "url = f\"https://en.wikipedia.org/wiki/Zulu\"\n",
    "response = requests.get(url)\n",
    "\n",
    "if response.status_code == 200:\n",
    "    soup = BeautifulSoup(response.content, \"html.parser\")"
   ]
  },
  {
   "cell_type": "code",
   "execution_count": null,
   "metadata": {},
   "outputs": [],
   "source": [
    "DATA_PATH = 'data/2007/'\n",
    "articles = pd.read_csv(os.path.join(DATA_PATH, 'articles.tsv'), sep='\\t', comment='#', names=['article'])\n",
    "urls = articles['article'].tolist()[:100]"
   ]
  },
  {
   "cell_type": "code",
   "execution_count": 5,
   "metadata": {},
   "outputs": [
    {
     "name": "stderr",
     "output_type": "stream",
     "text": [
      "Scraping Wikipedia articles: 100%|██████████| 100/100 [00:56<00:00,  1.76article/s]\n"
     ]
    }
   ],
   "source": [
    "article_links, article_names = scrape_wikipedia_articles(urls)"
   ]
  },
  {
   "cell_type": "code",
   "execution_count": 6,
   "metadata": {},
   "outputs": [],
   "source": [
    "export_links_to_csv(article_links, \"data/2024/links2024.csv\")\n",
    "export_articles_to_csv(article_names, \"data/2024/articles2024.csv\")"
   ]
  },
  {
   "cell_type": "code",
   "execution_count": 8,
   "metadata": {},
   "outputs": [],
   "source": [
    "links = pd.read_csv(os.path.join(DATA_PATH, 'links.tsv'), sep='\\t', comment='#', names=['linkSource', 'linkTarget'])\n",
    "\n",
    "# compare the number of links by source target in links2024.csv and links.tsv\n",
    "links2024 = pd.read_csv('data/2024/links2024.csv')\n",
    "\n",
    "# filter to get the same linkSource in links that are in links2024\n",
    "links = links[links['linkSource'].isin(links2024['linkSource'])]\n",
    "\n",
    "# Count the number of ouput links by source target\n",
    "links_count = links.groupby(['linkSource']).size().reset_index(name='count')\n",
    "links2024_count = links2024.groupby(['linkSource']).size().reset_index(name='count')\n",
    "\n",
    "# compare the number of links by source target in links2024.csv and links.tsv\n",
    "comparison = np.abs(links_count['count'] - links2024_count['count'])"
   ]
  },
  {
   "cell_type": "code",
   "execution_count": 9,
   "metadata": {},
   "outputs": [
    {
     "name": "stdout",
     "output_type": "stream",
     "text": [
      "Difference in number of links by article in total between 2007 and now (subset of 500 articles): 62.54%\n"
     ]
    },
    {
     "data": {
      "text/plain": [
       "count     63.000000\n",
       "mean      21.095238\n",
       "std       26.698263\n",
       "min        0.000000\n",
       "25%        6.000000\n",
       "50%       14.000000\n",
       "75%       20.500000\n",
       "max      136.000000\n",
       "Name: count, dtype: float64"
      ]
     },
     "execution_count": 9,
     "metadata": {},
     "output_type": "execute_result"
    }
   ],
   "source": [
    "print(f\"Difference in number of links by article in total between 2007 and now (subset of 500 articles): {comparison.sum() / links.shape[0] * 100:.2f}%\")\n",
    "comparison.describe()"
   ]
  }
 ],
 "metadata": {
  "kernelspec": {
   "display_name": "outlier",
   "language": "python",
   "name": "python3"
  },
  "language_info": {
   "codemirror_mode": {
    "name": "ipython",
    "version": 3
   },
   "file_extension": ".py",
   "mimetype": "text/x-python",
   "name": "python",
   "nbconvert_exporter": "python",
   "pygments_lexer": "ipython3",
   "version": "3.11.10"
  }
 },
 "nbformat": 4,
 "nbformat_minor": 2
}
