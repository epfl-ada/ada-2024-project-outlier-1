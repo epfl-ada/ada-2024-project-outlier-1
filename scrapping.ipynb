{
 "cells": [
  {
   "cell_type": "code",
   "execution_count": 1,
   "metadata": {},
   "outputs": [],
   "source": [
    "import requests\n",
    "from bs4 import BeautifulSoup\n",
    "import csv\n",
    "import pandas as pd\n",
    "from tqdm import tqdm\n",
    "import numpy as np\n",
    "import os\n",
    "from time import sleep"
   ]
  },
  {
   "cell_type": "code",
   "execution_count": 2,
   "metadata": {},
   "outputs": [],
   "source": [
    "def scrape_wikipedia_articles(article_titles):\n",
    "    \"\"\"\n",
    "    Scrapes the content of a list of Wikipedia articles and returns the direct links to those articles.\n",
    "    \n",
    "    Parameters:\n",
    "    article_titles (list): A list of Wikipedia article titles to scrape.\n",
    "    \n",
    "    Returns:\n",
    "    dict: A dictionary where the keys are the article titles and the values are the direct links to those articles.\n",
    "    \"\"\"\n",
    "    article_links = {}\n",
    "    article_names = []\n",
    "    \n",
    "    for title in tqdm(article_titles, desc=\"Scraping Wikipedia articles\", unit=\"article\"):\n",
    "        url = f\"https://en.wikipedia.org/wiki/{title.replace(' ', '_')}\"\n",
    "        response = requests.get(url)\n",
    "        \n",
    "        sleep(0.1) # Be polite to Wikipedia servers\n",
    "        if response.status_code == 200:\n",
    "            soup = BeautifulSoup(response.content, \"html.parser\")\n",
    "            article_links[title] = []\n",
    "            article_names.append(title)\n",
    "            \n",
    "            \n",
    "            # Find the direct link to the current article title\n",
    "            for link in soup.find_all(\"a\", href=lambda href: href and href.startswith(\"/wiki/\")):\n",
    "                list_href = link.get(\"href\").splitlines()\n",
    "                for href in list_href:\n",
    "                    if href.split('/')[-1] in article_titles and href.split('/')[-1] != title:\n",
    "                        article_links[title].append(href.split('/')[-1])\n",
    "        else:\n",
    "            print(f\"Error scraping {title}: {response.status_code}\")\n",
    "    \n",
    "    return article_links, article_names\n",
    "\n",
    "\n",
    "def write_to_csv(data, filename):\n",
    "    with open(filename, 'w', newline='', encoding='utf-8') as csvfile:\n",
    "        writer = csv.writer(csvfile, delimiter='\\t')\n",
    "        writer.writerow(['# Hierarchical categories of all articles.'])\n",
    "        writer.writerow(['# Many articles have more than one category. Some articles have no category.'])\n",
    "        writer.writerow(['# Article names are URL-encoded; e.g., in Java they can be decoded using java.net.URLDecoder.decode(articleName, \"UTF-8\").'])\n",
    "        writer.writerow(['# FORMAT:   article   category'])\n",
    "        writer.writerow(['#'])\n",
    "        writer.writerows(data)\n",
    "\n",
    "\n",
    "def export_links_to_csv(article_links, output_file):\n",
    "    \"\"\"\n",
    "    Exports the direct links to the Wikipedia articles to a CSV file.\n",
    "    \n",
    "    Parameters:\n",
    "    article_links (dict): A dictionary where the keys are the article titles and the values are the direct links to those articles.\n",
    "    output_file (str): The path to the output CSV file.\n",
    "    \"\"\"\n",
    "    with open(output_file, \"w\", newline=\"\") as csvfile:\n",
    "        writer = csv.writer(csvfile)\n",
    "        writer.writerow([\"linkSource\", \"linkTarget\"])\n",
    "        \n",
    "        for source, targets in article_links.items():\n",
    "            if len(targets) > 0:\n",
    "                for target in targets:\n",
    "                    writer.writerow([source, target])\n",
    "\n",
    "def export_articles_to_csv(articles, output_file):\n",
    "    \"\"\"\n",
    "    Exports the direct links to the Wikipedia articles to a CSV file.\n",
    "    \n",
    "    Parameters:\n",
    "    article_links (dict): A dictionary where the keys are the article titles and the values are the direct links to those articles.\n",
    "    output_file (str): The path to the output CSV file.\n",
    "    \"\"\"\n",
    "    with open(output_file, \"w\", newline=\"\") as csvfile:\n",
    "        writer = csv.writer(csvfile)\n",
    "        writer.writerow([\"article\"])\n",
    "        \n",
    "        for article in articles:\n",
    "            writer.writerow([article])\n",
    "\n",
    "\n",
    "\n",
    "# def export_categories_to_csv(article_categories, output_file):\n",
    "#     \"\"\"\n",
    "#     Exports the direct links to the Wikipedia articles to a CSV file.\n",
    "    \n",
    "#     Parameters:\n",
    "#     article_links (dict): A dictionary where the keys are the article titles and the values are the direct links to those articles.\n",
    "#     output_file (str): The path to the output CSV file.\n",
    "#     \"\"\"\n",
    "#     with open(output_file, \"w\", newline=\"\") as csvfile:\n",
    "#         writer = csv.writer(csvfile)\n",
    "#         writer.writerow([\"article\", \"category\"])\n",
    "        \n",
    "#         for article, category in article_categories.items():\n",
    "#             writer.writerow([article, category])\n",
    "        "
   ]
  },
  {
   "cell_type": "code",
   "execution_count": 3,
   "metadata": {},
   "outputs": [],
   "source": [
    "url = f\"https://en.wikipedia.org/wiki/Zulu\"\n",
    "response = requests.get(url)\n",
    "\n",
    "if response.status_code == 200:\n",
    "    soup = BeautifulSoup(response.content, \"html.parser\")"
   ]
  },
  {
   "cell_type": "code",
   "execution_count": 5,
   "metadata": {},
   "outputs": [],
   "source": [
    "DATA_PATH = 'data/2007/'\n",
    "articles = pd.read_csv(os.path.join(DATA_PATH, 'articles.tsv'), sep='\\t', comment='#', names=['article'])\n",
    "urls = articles['article'].tolist()"
   ]
  },
  {
   "cell_type": "code",
   "execution_count": 6,
   "metadata": {},
   "outputs": [
    {
     "name": "stderr",
     "output_type": "stream",
     "text": [
      "Scraping Wikipedia articles:   8%|▊         | 375/4604 [04:31<55:49,  1.26article/s]  "
     ]
    },
    {
     "name": "stdout",
     "output_type": "stream",
     "text": [
      "Error scraping Athletics_%28track_and_field%29: 404\n"
     ]
    },
    {
     "name": "stderr",
     "output_type": "stream",
     "text": [
      "Scraping Wikipedia articles:  13%|█▎        | 588/4604 [07:17<53:14,  1.26article/s]  "
     ]
    },
    {
     "name": "stdout",
     "output_type": "stream",
     "text": [
      "Error scraping Bionicle__Mask_of_Light: 404\n"
     ]
    },
    {
     "name": "stderr",
     "output_type": "stream",
     "text": [
      "Scraping Wikipedia articles:  26%|██▋       | 1211/4604 [15:13<40:52,  1.38article/s]  "
     ]
    },
    {
     "name": "stdout",
     "output_type": "stream",
     "text": [
      "Error scraping Directdebit: 404\n"
     ]
    },
    {
     "name": "stderr",
     "output_type": "stream",
     "text": [
      "Scraping Wikipedia articles:  35%|███▍      | 1601/4604 [20:10<38:57,  1.28article/s]  "
     ]
    },
    {
     "name": "stdout",
     "output_type": "stream",
     "text": [
      "Error scraping Friend_Directdebit: 404\n"
     ]
    },
    {
     "name": "stderr",
     "output_type": "stream",
     "text": [
      "Scraping Wikipedia articles:  35%|███▌      | 1628/4604 [20:25<32:53,  1.51article/s]"
     ]
    },
    {
     "name": "stdout",
     "output_type": "stream",
     "text": [
      "Error scraping Gallery_of_the_Kings_and_Queens_of_England: 404\n"
     ]
    },
    {
     "name": "stderr",
     "output_type": "stream",
     "text": [
      "Scraping Wikipedia articles:  65%|██████▍   | 2970/4604 [37:35<21:53,  1.24article/s]  "
     ]
    },
    {
     "name": "stdout",
     "output_type": "stream",
     "text": [
      "Error scraping Newshounds: 404\n"
     ]
    },
    {
     "name": "stderr",
     "output_type": "stream",
     "text": [
      "Scraping Wikipedia articles:  84%|████████▎ | 3850/4604 [48:22<08:08,  1.54article/s]  "
     ]
    },
    {
     "name": "stdout",
     "output_type": "stream",
     "text": [
      "Error scraping Sponsorship_Directdebit: 404\n"
     ]
    },
    {
     "name": "stderr",
     "output_type": "stream",
     "text": [
      "Scraping Wikipedia articles:  84%|████████▍ | 3879/4604 [48:45<12:01,  1.00article/s]"
     ]
    },
    {
     "name": "stdout",
     "output_type": "stream",
     "text": [
      "Error scraping Star_Wars_Episode_IV__A_New_Hope: 404\n"
     ]
    },
    {
     "name": "stderr",
     "output_type": "stream",
     "text": [
      "Scraping Wikipedia articles:  97%|█████████▋| 4481/4604 [56:15<01:47,  1.14article/s]"
     ]
    },
    {
     "name": "stdout",
     "output_type": "stream",
     "text": [
      "Error scraping Wikipedia_Text_of_the_GNU_Free_Documentation_License: 404\n"
     ]
    },
    {
     "name": "stderr",
     "output_type": "stream",
     "text": [
      "Scraping Wikipedia articles:  99%|█████████▊| 4546/4604 [56:59<00:38,  1.49article/s]"
     ]
    },
    {
     "name": "stdout",
     "output_type": "stream",
     "text": [
      "Error scraping Wowpurchase: 404\n"
     ]
    },
    {
     "name": "stderr",
     "output_type": "stream",
     "text": [
      "Scraping Wikipedia articles:  99%|█████████▉| 4553/4604 [57:04<00:35,  1.45article/s]"
     ]
    },
    {
     "name": "stdout",
     "output_type": "stream",
     "text": [
      "Error scraping X-Men__The_Last_Stand: 404\n"
     ]
    },
    {
     "name": "stderr",
     "output_type": "stream",
     "text": [
      "Scraping Wikipedia articles: 100%|██████████| 4604/4604 [57:40<00:00,  1.33article/s]\n"
     ]
    }
   ],
   "source": [
    "article_links, article_names = scrape_wikipedia_articles(urls)"
   ]
  },
  {
   "cell_type": "code",
   "execution_count": 7,
   "metadata": {},
   "outputs": [],
   "source": [
    "export_links_to_csv(article_links, \"data/2024/links2024.csv\")\n",
    "export_articles_to_csv(article_names, \"data/2024/articles2024.csv\")"
   ]
  },
  {
   "cell_type": "code",
   "execution_count": 8,
   "metadata": {},
   "outputs": [],
   "source": [
    "links = pd.read_csv(os.path.join(DATA_PATH, 'links.tsv'), sep='\\t', comment='#', names=['linkSource', 'linkTarget'])\n",
    "\n",
    "# compare the number of links by source target in links2024.csv and links.tsv\n",
    "links2024 = pd.read_csv('data/2024/links2024.csv')\n",
    "\n",
    "# filter to get the same linkSource in links that are in links2024\n",
    "links = links[links['linkSource'].isin(links2024['linkSource'])]\n",
    "\n",
    "# Count the number of ouput links by source target\n",
    "links_count = links.groupby(['linkSource']).size().reset_index(name='count')\n",
    "links2024_count = links2024.groupby(['linkSource']).size().reset_index(name='count')\n",
    "\n",
    "# compare the number of links by source target in links2024.csv and links.tsv\n",
    "comparison = np.abs(links_count['count'] - links2024_count['count'])"
   ]
  },
  {
   "cell_type": "code",
   "execution_count": 9,
   "metadata": {},
   "outputs": [
    {
     "name": "stdout",
     "output_type": "stream",
     "text": [
      "Difference in number of links by article in total between 2007 and now (subset of 500 articles): 251.97%\n"
     ]
    },
    {
     "data": {
      "text/plain": [
       "count    4535.000000\n",
       "mean       66.196913\n",
       "std        88.924844\n",
       "min         0.000000\n",
       "25%        12.000000\n",
       "50%        33.000000\n",
       "75%        79.000000\n",
       "max      1374.000000\n",
       "Name: count, dtype: float64"
      ]
     },
     "execution_count": 9,
     "metadata": {},
     "output_type": "execute_result"
    }
   ],
   "source": [
    "print(f\"Difference in number of links by article in total between 2007 and now (subset of 500 articles): {comparison.sum() / links.shape[0] * 100:.2f}%\")\n",
    "comparison.describe()"
   ]
  },
  {
   "cell_type": "code",
   "execution_count": 10,
   "metadata": {},
   "outputs": [
    {
     "data": {
      "text/plain": [
       "(377149, 2)"
      ]
     },
     "execution_count": 10,
     "metadata": {},
     "output_type": "execute_result"
    }
   ],
   "source": [
    "links2024.shape"
   ]
  },
  {
   "cell_type": "code",
   "execution_count": 12,
   "metadata": {},
   "outputs": [
    {
     "data": {
      "text/plain": [
       "4593"
      ]
     },
     "execution_count": 12,
     "metadata": {},
     "output_type": "execute_result"
    }
   ],
   "source": [
    "len(article_names)"
   ]
  },
  {
   "cell_type": "code",
   "execution_count": 13,
   "metadata": {},
   "outputs": [
    {
     "data": {
      "text/plain": [
       "(4604, 1)"
      ]
     },
     "execution_count": 13,
     "metadata": {},
     "output_type": "execute_result"
    }
   ],
   "source": [
    "articles.shape"
   ]
  }
 ],
 "metadata": {
  "kernelspec": {
   "display_name": "outlier",
   "language": "python",
   "name": "python3"
  },
  "language_info": {
   "codemirror_mode": {
    "name": "ipython",
    "version": 3
   },
   "file_extension": ".py",
   "mimetype": "text/x-python",
   "name": "python",
   "nbconvert_exporter": "python",
   "pygments_lexer": "ipython3",
   "version": "3.11.10"
  }
 },
 "nbformat": 4,
 "nbformat_minor": 2
}
